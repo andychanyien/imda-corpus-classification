{
 "cells": [
  {
   "cell_type": "code",
   "execution_count": 78,
   "metadata": {
    "scrolled": true
   },
   "outputs": [],
   "source": [
    "import IPython.display as ipd\n",
    "import pandas as pd\n",
    "import numpy as np\n",
    "import librosa\n",
    "import librosa.display\n",
    "import matplotlib.pyplot as plt\n",
    "from scipy.io import wavfile as wav\n",
    "\n",
    "from sklearn import metrics\n",
    "from sklearn.preprocessing import LabelEncoder\n",
    "from sklearn.model_selection import train_test_split\n",
    "\n",
    "from keras.models import Sequential\n",
    "from keras.layers import Dense, Dropout, Activation, Conv2D, MaxPooling2D, Flatten, Masking, GRU, LSTM\n",
    "from keras.preprocessing.sequence import pad_sequences\n",
    "from keras.optimizers import Adam\n",
    "from keras.utils import to_categorical\n",
    "from keras.callbacks import ModelCheckpoint \n",
    "from datetime import datetime \n",
    "\n"
   ]
  },
  {
   "cell_type": "code",
   "execution_count": 2,
   "metadata": {},
   "outputs": [],
   "source": [
    "features_df = pd.read_csv(\"datasets/featuresdf.csv\")"
   ]
  },
  {
   "cell_type": "code",
   "execution_count": 3,
   "metadata": {},
   "outputs": [
    {
     "data": {
      "text/html": [
       "<div>\n",
       "<style scoped>\n",
       "    .dataframe tbody tr th:only-of-type {\n",
       "        vertical-align: middle;\n",
       "    }\n",
       "\n",
       "    .dataframe tbody tr th {\n",
       "        vertical-align: top;\n",
       "    }\n",
       "\n",
       "    .dataframe thead th {\n",
       "        text-align: right;\n",
       "    }\n",
       "</style>\n",
       "<table border=\"1\" class=\"dataframe\">\n",
       "  <thead>\n",
       "    <tr style=\"text-align: right;\">\n",
       "      <th></th>\n",
       "      <th>id</th>\n",
       "      <th>filepath</th>\n",
       "      <th>duration</th>\n",
       "      <th>class_label</th>\n",
       "    </tr>\n",
       "  </thead>\n",
       "  <tbody>\n",
       "    <tr>\n",
       "      <th>0</th>\n",
       "      <td>1400066</td>\n",
       "      <td>./assets/audio_train/1400066_apples.wav</td>\n",
       "      <td>0.759320</td>\n",
       "      <td>apples</td>\n",
       "    </tr>\n",
       "    <tr>\n",
       "      <th>1</th>\n",
       "      <td>1400062</td>\n",
       "      <td>./assets/audio_train/1400062_flowers.wav</td>\n",
       "      <td>0.777324</td>\n",
       "      <td>flowers</td>\n",
       "    </tr>\n",
       "    <tr>\n",
       "      <th>2</th>\n",
       "      <td>1400049</td>\n",
       "      <td>./assets/audio_train/1400049_worker.wav</td>\n",
       "      <td>0.571156</td>\n",
       "      <td>worker</td>\n",
       "    </tr>\n",
       "    <tr>\n",
       "      <th>3</th>\n",
       "      <td>1400051</td>\n",
       "      <td>./assets/audio_train/1400051_water.wav</td>\n",
       "      <td>0.480091</td>\n",
       "      <td>water</td>\n",
       "    </tr>\n",
       "    <tr>\n",
       "      <th>4</th>\n",
       "      <td>1400049</td>\n",
       "      <td>./assets/audio_train/1400049_father.wav</td>\n",
       "      <td>0.448073</td>\n",
       "      <td>father</td>\n",
       "    </tr>\n",
       "  </tbody>\n",
       "</table>\n",
       "</div>"
      ],
      "text/plain": [
       "        id                                  filepath  duration class_label\n",
       "0  1400066   ./assets/audio_train/1400066_apples.wav  0.759320      apples\n",
       "1  1400062  ./assets/audio_train/1400062_flowers.wav  0.777324     flowers\n",
       "2  1400049   ./assets/audio_train/1400049_worker.wav  0.571156      worker\n",
       "3  1400051    ./assets/audio_train/1400051_water.wav  0.480091       water\n",
       "4  1400049   ./assets/audio_train/1400049_father.wav  0.448073      father"
      ]
     },
     "execution_count": 3,
     "metadata": {},
     "output_type": "execute_result"
    }
   ],
   "source": [
    "features_df.head()"
   ]
  },
  {
   "cell_type": "markdown",
   "metadata": {},
   "source": [
    "## 3. Preprocessing"
   ]
  },
  {
   "cell_type": "markdown",
   "metadata": {},
   "source": [
    "There are many ways of preprocessing audio files and the methods of preprocessing is heavily dependent on the type of classification model which will be used.\n",
    "\n",
    "The model I will be building is:\n",
    "\n",
    "1. Feedforward Neural Network ( 2 kind of preprocessing )\n",
    "2. Convolutional Neural Network\n",
    "3. Recurrent Neural Network with LSTM\n",
    "4. Ensemble Method"
   ]
  },
  {
   "cell_type": "markdown",
   "metadata": {},
   "source": [
    "#### Preproccessing for FNN\n",
    "\n",
    "There are a few ways to process the audio for a simple feedforward neural network. The first and most common way is to find the average of each coefficient of the MFCC across time, which will give us a shape of (40,1) dimensions. \n"
   ]
  },
  {
   "cell_type": "code",
   "execution_count": 4,
   "metadata": {},
   "outputs": [],
   "source": [
    "def get_mfccs_features(file_list, n_mfcc=40):\n",
    "    \"\"\"\n",
    "    This function will take in a list of audio file path and produce 4 times 40 dimensions numpy array (40, 1) which\n",
    "    will be ready to put into the neural network.\n",
    "    \n",
    "    How it works?\n",
    "    \n",
    "    For each audio file, it will calculate the Mel-Frequency Cestral Coefficients (MFCCs) over a set\n",
    "    number of time frames, determined by the sampling rate. The default number of coefficient is set at 40,\n",
    "    giving us a numpy array of 40 (coefs) by number of timeframes.\n",
    "    \n",
    "    In order for it to be have a shape of (, 1), the mean and standard deviation will be calculated, across \n",
    "    the entire time frame. As time is also important information which we would not want to lose, the \n",
    "    delta of the mfcc will also be calculated, and likewise, the average and the standard deviation will be\n",
    "    calculated.\n",
    "    \n",
    "    mfccs_mean = mean of (40 mfcc x time) - shape = (40,1)\n",
    "    mfccs_std = standard dev of (40 mfcc x time) - shape = (40,1)\n",
    "    delta_mean = mean of delta of 40 mfcc across time - shape = (40,1)\n",
    "    delta_std = standard dev of delta of 40 mfcc across time - shape = (40,1)\n",
    "    \n",
    "    \n",
    "    \"\"\"\n",
    "    \n",
    "    \n",
    "    features = {}\n",
    "    mean = []\n",
    "    std = []\n",
    "    delta_mean = []\n",
    "    delta_std = []\n",
    "    for f in file_list:\n",
    "        audio, sr = librosa.load(f) \n",
    "        mfccs = librosa.feature.mfcc(y=audio, sr=sr, n_mfcc=n_mfcc)\n",
    "        mfccs_delta = librosa.feature.delta(mfccs)\n",
    "        \n",
    "        mfccs_mean = np.mean(mfccs.T,axis=0)\n",
    "        mean.append(mfccs_mean)\n",
    "        \n",
    "        mfccs_std = np.std(mfccs.T,axis=0)\n",
    "        std.append(mfccs_std)\n",
    "        \n",
    "        mfccs_delta_mean = np.mean(mfccs_delta.T,axis=0)\n",
    "        delta_mean.append(mfccs_delta_mean)\n",
    "        \n",
    "        mfccs_delta_std = np.std(mfccs_delta.T,axis=0)\n",
    "        delta_std.append(mfccs_delta_std)\n",
    "    \n",
    "    features['mfccs_mean'] = mean\n",
    "    features['mfccs_std'] = std\n",
    "    features['mfccs_delta_mean'] = delta_mean\n",
    "    features['mfccs_delta_std'] = delta_std\n",
    "    \n",
    "    return features"
   ]
  },
  {
   "cell_type": "code",
   "execution_count": 5,
   "metadata": {},
   "outputs": [],
   "source": [
    "# get all the features\n",
    "\n",
    "mfccs_features = get_mfccs_features(features_df['filepath'])"
   ]
  },
  {
   "cell_type": "code",
   "execution_count": 6,
   "metadata": {},
   "outputs": [],
   "source": [
    "# add them into the dataframe\n",
    "\n",
    "for k, v in mfccs_features.items():\n",
    "    features_df[k] = v"
   ]
  },
  {
   "cell_type": "code",
   "execution_count": 7,
   "metadata": {},
   "outputs": [],
   "source": [
    "# create a new feature with a dimension of 160, stacking the mean and standard deviation of \n",
    "# the mfcc and its delta.\n",
    "\n",
    "combined_features = []\n",
    "for n in range(0,len(features_df)):\n",
    "    combined_features.append(np.concatenate((features_df['mfccs_mean'][n],\n",
    "                                             features_df['mfccs_std'][n], \n",
    "                                             features_df['mfccs_delta_mean'][n],\n",
    "                                             features_df['mfccs_delta_std'][n])))\n",
    "    \n",
    "features_df['combined_mfccs'] = combined_features\n",
    "# this will give us an array of (160, 1)"
   ]
  },
  {
   "cell_type": "code",
   "execution_count": 8,
   "metadata": {},
   "outputs": [
    {
     "data": {
      "text/html": [
       "<div>\n",
       "<style scoped>\n",
       "    .dataframe tbody tr th:only-of-type {\n",
       "        vertical-align: middle;\n",
       "    }\n",
       "\n",
       "    .dataframe tbody tr th {\n",
       "        vertical-align: top;\n",
       "    }\n",
       "\n",
       "    .dataframe thead th {\n",
       "        text-align: right;\n",
       "    }\n",
       "</style>\n",
       "<table border=\"1\" class=\"dataframe\">\n",
       "  <thead>\n",
       "    <tr style=\"text-align: right;\">\n",
       "      <th></th>\n",
       "      <th>id</th>\n",
       "      <th>filepath</th>\n",
       "      <th>duration</th>\n",
       "      <th>class_label</th>\n",
       "      <th>mfccs_mean</th>\n",
       "      <th>mfccs_std</th>\n",
       "      <th>mfccs_delta_mean</th>\n",
       "      <th>mfccs_delta_std</th>\n",
       "      <th>combined_mfccs</th>\n",
       "    </tr>\n",
       "  </thead>\n",
       "  <tbody>\n",
       "    <tr>\n",
       "      <th>0</th>\n",
       "      <td>1400066</td>\n",
       "      <td>./assets/audio_train/1400066_apples.wav</td>\n",
       "      <td>0.759320</td>\n",
       "      <td>apples</td>\n",
       "      <td>[-247.32631, 102.92839, -35.27226, 36.415066, ...</td>\n",
       "      <td>[117.973976, 74.807144, 34.97408, 15.038574, 2...</td>\n",
       "      <td>[-9.579418, -4.0737424, 3.8435361, -0.17087425...</td>\n",
       "      <td>[22.375574, 12.759423, 6.3385267, 2.4689703, 5...</td>\n",
       "      <td>[-247.32631, 102.92839, -35.27226, 36.415066, ...</td>\n",
       "    </tr>\n",
       "    <tr>\n",
       "      <th>1</th>\n",
       "      <td>1400062</td>\n",
       "      <td>./assets/audio_train/1400062_flowers.wav</td>\n",
       "      <td>0.777324</td>\n",
       "      <td>flowers</td>\n",
       "      <td>[-235.68883, 101.68603, -35.80166, 34.12707, -...</td>\n",
       "      <td>[51.111267, 67.96506, 23.283352, 15.933792, 17...</td>\n",
       "      <td>[-2.7131724, 0.058154836, 1.0358769, -0.090087...</td>\n",
       "      <td>[10.057443, 12.488094, 5.149937, 3.5408852, 3....</td>\n",
       "      <td>[-235.68883, 101.68603, -35.80166, 34.12707, -...</td>\n",
       "    </tr>\n",
       "    <tr>\n",
       "      <th>2</th>\n",
       "      <td>1400049</td>\n",
       "      <td>./assets/audio_train/1400049_worker.wav</td>\n",
       "      <td>0.571156</td>\n",
       "      <td>worker</td>\n",
       "      <td>[-235.04802, 160.1276, -10.184575, 26.674046, ...</td>\n",
       "      <td>[80.10156, 36.065247, 28.05036, 18.525972, 23....</td>\n",
       "      <td>[-12.911271, -5.808687, -1.0771756, -2.730666,...</td>\n",
       "      <td>[20.398891, 8.515546, 4.8766484, 4.520022, 1.4...</td>\n",
       "      <td>[-235.04802, 160.1276, -10.184575, 26.674046, ...</td>\n",
       "    </tr>\n",
       "    <tr>\n",
       "      <th>3</th>\n",
       "      <td>1400051</td>\n",
       "      <td>./assets/audio_train/1400051_water.wav</td>\n",
       "      <td>0.480091</td>\n",
       "      <td>water</td>\n",
       "      <td>[-235.00658, 123.2033, -4.968553, 33.234592, -...</td>\n",
       "      <td>[106.41231, 33.90044, 38.776386, 15.919863, 31...</td>\n",
       "      <td>[11.195169, 1.0260458, -5.0391235, -1.5975816,...</td>\n",
       "      <td>[23.694197, 8.173781, 7.091111, 2.5993192, 7.5...</td>\n",
       "      <td>[-235.00658, 123.2033, -4.968553, 33.234592, -...</td>\n",
       "    </tr>\n",
       "    <tr>\n",
       "      <th>4</th>\n",
       "      <td>1400049</td>\n",
       "      <td>./assets/audio_train/1400049_father.wav</td>\n",
       "      <td>0.448073</td>\n",
       "      <td>father</td>\n",
       "      <td>[-179.97217, 108.54472, -58.192284, 31.71899, ...</td>\n",
       "      <td>[45.407215, 49.07983, 29.007093, 11.687621, 15...</td>\n",
       "      <td>[-3.751081, 0.43218273, 2.648297, 0.04581053, ...</td>\n",
       "      <td>[8.796441, 11.696044, 3.500557, 2.2668695, 3.6...</td>\n",
       "      <td>[-179.97217, 108.54472, -58.192284, 31.71899, ...</td>\n",
       "    </tr>\n",
       "  </tbody>\n",
       "</table>\n",
       "</div>"
      ],
      "text/plain": [
       "        id                                  filepath  duration class_label  \\\n",
       "0  1400066   ./assets/audio_train/1400066_apples.wav  0.759320      apples   \n",
       "1  1400062  ./assets/audio_train/1400062_flowers.wav  0.777324     flowers   \n",
       "2  1400049   ./assets/audio_train/1400049_worker.wav  0.571156      worker   \n",
       "3  1400051    ./assets/audio_train/1400051_water.wav  0.480091       water   \n",
       "4  1400049   ./assets/audio_train/1400049_father.wav  0.448073      father   \n",
       "\n",
       "                                          mfccs_mean  \\\n",
       "0  [-247.32631, 102.92839, -35.27226, 36.415066, ...   \n",
       "1  [-235.68883, 101.68603, -35.80166, 34.12707, -...   \n",
       "2  [-235.04802, 160.1276, -10.184575, 26.674046, ...   \n",
       "3  [-235.00658, 123.2033, -4.968553, 33.234592, -...   \n",
       "4  [-179.97217, 108.54472, -58.192284, 31.71899, ...   \n",
       "\n",
       "                                           mfccs_std  \\\n",
       "0  [117.973976, 74.807144, 34.97408, 15.038574, 2...   \n",
       "1  [51.111267, 67.96506, 23.283352, 15.933792, 17...   \n",
       "2  [80.10156, 36.065247, 28.05036, 18.525972, 23....   \n",
       "3  [106.41231, 33.90044, 38.776386, 15.919863, 31...   \n",
       "4  [45.407215, 49.07983, 29.007093, 11.687621, 15...   \n",
       "\n",
       "                                    mfccs_delta_mean  \\\n",
       "0  [-9.579418, -4.0737424, 3.8435361, -0.17087425...   \n",
       "1  [-2.7131724, 0.058154836, 1.0358769, -0.090087...   \n",
       "2  [-12.911271, -5.808687, -1.0771756, -2.730666,...   \n",
       "3  [11.195169, 1.0260458, -5.0391235, -1.5975816,...   \n",
       "4  [-3.751081, 0.43218273, 2.648297, 0.04581053, ...   \n",
       "\n",
       "                                     mfccs_delta_std  \\\n",
       "0  [22.375574, 12.759423, 6.3385267, 2.4689703, 5...   \n",
       "1  [10.057443, 12.488094, 5.149937, 3.5408852, 3....   \n",
       "2  [20.398891, 8.515546, 4.8766484, 4.520022, 1.4...   \n",
       "3  [23.694197, 8.173781, 7.091111, 2.5993192, 7.5...   \n",
       "4  [8.796441, 11.696044, 3.500557, 2.2668695, 3.6...   \n",
       "\n",
       "                                      combined_mfccs  \n",
       "0  [-247.32631, 102.92839, -35.27226, 36.415066, ...  \n",
       "1  [-235.68883, 101.68603, -35.80166, 34.12707, -...  \n",
       "2  [-235.04802, 160.1276, -10.184575, 26.674046, ...  \n",
       "3  [-235.00658, 123.2033, -4.968553, 33.234592, -...  \n",
       "4  [-179.97217, 108.54472, -58.192284, 31.71899, ...  "
      ]
     },
     "execution_count": 8,
     "metadata": {},
     "output_type": "execute_result"
    }
   ],
   "source": [
    "# check if all correctly done\n",
    "\n",
    "features_df.head()"
   ]
  },
  {
   "cell_type": "markdown",
   "metadata": {},
   "source": [
    "**Pre-processing For CNN**"
   ]
  },
  {
   "cell_type": "code",
   "execution_count": 9,
   "metadata": {},
   "outputs": [],
   "source": [
    "def get_mel(filename):\n",
    "    \"\"\"\n",
    "    This function gives the melspectrogram and padded to a fixed dimension, which is 39. 39 frame happens to be the longest frame.\n",
    "    The spectrogram can then be used in CNN later.\n",
    "    \"\"\"\n",
    "    audio, sr = librosa.load(filename)\n",
    "    mel= librosa.feature.melspectrogram(audio, sr=sr)\n",
    "    mel = librosa.util.fix_length(mel,39)\n",
    "    return mel"
   ]
  },
  {
   "cell_type": "code",
   "execution_count": 10,
   "metadata": {},
   "outputs": [],
   "source": [
    "# apply the mel-spectrogram function to all the files\n",
    "\n",
    "features_df['mel'] = features_df['filepath'].map(get_mel)"
   ]
  },
  {
   "cell_type": "code",
   "execution_count": 11,
   "metadata": {},
   "outputs": [
    {
     "data": {
      "text/html": [
       "<div>\n",
       "<style scoped>\n",
       "    .dataframe tbody tr th:only-of-type {\n",
       "        vertical-align: middle;\n",
       "    }\n",
       "\n",
       "    .dataframe tbody tr th {\n",
       "        vertical-align: top;\n",
       "    }\n",
       "\n",
       "    .dataframe thead th {\n",
       "        text-align: right;\n",
       "    }\n",
       "</style>\n",
       "<table border=\"1\" class=\"dataframe\">\n",
       "  <thead>\n",
       "    <tr style=\"text-align: right;\">\n",
       "      <th></th>\n",
       "      <th>id</th>\n",
       "      <th>filepath</th>\n",
       "      <th>duration</th>\n",
       "      <th>class_label</th>\n",
       "      <th>mfccs_mean</th>\n",
       "      <th>mfccs_std</th>\n",
       "      <th>mfccs_delta_mean</th>\n",
       "      <th>mfccs_delta_std</th>\n",
       "      <th>combined_mfccs</th>\n",
       "      <th>mel</th>\n",
       "    </tr>\n",
       "  </thead>\n",
       "  <tbody>\n",
       "    <tr>\n",
       "      <th>0</th>\n",
       "      <td>1400066</td>\n",
       "      <td>./assets/audio_train/1400066_apples.wav</td>\n",
       "      <td>0.759320</td>\n",
       "      <td>apples</td>\n",
       "      <td>[-247.32631, 102.92839, -35.27226, 36.415066, ...</td>\n",
       "      <td>[117.973976, 74.807144, 34.97408, 15.038574, 2...</td>\n",
       "      <td>[-9.579418, -4.0737424, 3.8435361, -0.17087425...</td>\n",
       "      <td>[22.375574, 12.759423, 6.3385267, 2.4689703, 5...</td>\n",
       "      <td>[-247.32631, 102.92839, -35.27226, 36.415066, ...</td>\n",
       "      <td>[[0.0003536803, 0.00022120043, 0.00017765928, ...</td>\n",
       "    </tr>\n",
       "    <tr>\n",
       "      <th>1</th>\n",
       "      <td>1400062</td>\n",
       "      <td>./assets/audio_train/1400062_flowers.wav</td>\n",
       "      <td>0.777324</td>\n",
       "      <td>flowers</td>\n",
       "      <td>[-235.68883, 101.68603, -35.80166, 34.12707, -...</td>\n",
       "      <td>[51.111267, 67.96506, 23.283352, 15.933792, 17...</td>\n",
       "      <td>[-2.7131724, 0.058154836, 1.0358769, -0.090087...</td>\n",
       "      <td>[10.057443, 12.488094, 5.149937, 3.5408852, 3....</td>\n",
       "      <td>[-235.68883, 101.68603, -35.80166, 34.12707, -...</td>\n",
       "      <td>[[0.0001801434, 0.00024744836, 0.00025155477, ...</td>\n",
       "    </tr>\n",
       "    <tr>\n",
       "      <th>2</th>\n",
       "      <td>1400049</td>\n",
       "      <td>./assets/audio_train/1400049_worker.wav</td>\n",
       "      <td>0.571156</td>\n",
       "      <td>worker</td>\n",
       "      <td>[-235.04802, 160.1276, -10.184575, 26.674046, ...</td>\n",
       "      <td>[80.10156, 36.065247, 28.05036, 18.525972, 23....</td>\n",
       "      <td>[-12.911271, -5.808687, -1.0771756, -2.730666,...</td>\n",
       "      <td>[20.398891, 8.515546, 4.8766484, 4.520022, 1.4...</td>\n",
       "      <td>[-235.04802, 160.1276, -10.184575, 26.674046, ...</td>\n",
       "      <td>[[0.8230274, 0.2128236, 0.0014328726, 0.000853...</td>\n",
       "    </tr>\n",
       "    <tr>\n",
       "      <th>3</th>\n",
       "      <td>1400051</td>\n",
       "      <td>./assets/audio_train/1400051_water.wav</td>\n",
       "      <td>0.480091</td>\n",
       "      <td>water</td>\n",
       "      <td>[-235.00658, 123.2033, -4.968553, 33.234592, -...</td>\n",
       "      <td>[106.41231, 33.90044, 38.776386, 15.919863, 31...</td>\n",
       "      <td>[11.195169, 1.0260458, -5.0391235, -1.5975816,...</td>\n",
       "      <td>[23.694197, 8.173781, 7.091111, 2.5993192, 7.5...</td>\n",
       "      <td>[-235.00658, 123.2033, -4.968553, 33.234592, -...</td>\n",
       "      <td>[[0.0010301938, 0.0007199413, 0.00062446395, 0...</td>\n",
       "    </tr>\n",
       "    <tr>\n",
       "      <th>4</th>\n",
       "      <td>1400049</td>\n",
       "      <td>./assets/audio_train/1400049_father.wav</td>\n",
       "      <td>0.448073</td>\n",
       "      <td>father</td>\n",
       "      <td>[-179.97217, 108.54472, -58.192284, 31.71899, ...</td>\n",
       "      <td>[45.407215, 49.07983, 29.007093, 11.687621, 15...</td>\n",
       "      <td>[-3.751081, 0.43218273, 2.648297, 0.04581053, ...</td>\n",
       "      <td>[8.796441, 11.696044, 3.500557, 2.2668695, 3.6...</td>\n",
       "      <td>[-179.97217, 108.54472, -58.192284, 31.71899, ...</td>\n",
       "      <td>[[0.0032865647, 0.0017178097, 0.0007647522, 0....</td>\n",
       "    </tr>\n",
       "  </tbody>\n",
       "</table>\n",
       "</div>"
      ],
      "text/plain": [
       "        id                                  filepath  duration class_label  \\\n",
       "0  1400066   ./assets/audio_train/1400066_apples.wav  0.759320      apples   \n",
       "1  1400062  ./assets/audio_train/1400062_flowers.wav  0.777324     flowers   \n",
       "2  1400049   ./assets/audio_train/1400049_worker.wav  0.571156      worker   \n",
       "3  1400051    ./assets/audio_train/1400051_water.wav  0.480091       water   \n",
       "4  1400049   ./assets/audio_train/1400049_father.wav  0.448073      father   \n",
       "\n",
       "                                          mfccs_mean  \\\n",
       "0  [-247.32631, 102.92839, -35.27226, 36.415066, ...   \n",
       "1  [-235.68883, 101.68603, -35.80166, 34.12707, -...   \n",
       "2  [-235.04802, 160.1276, -10.184575, 26.674046, ...   \n",
       "3  [-235.00658, 123.2033, -4.968553, 33.234592, -...   \n",
       "4  [-179.97217, 108.54472, -58.192284, 31.71899, ...   \n",
       "\n",
       "                                           mfccs_std  \\\n",
       "0  [117.973976, 74.807144, 34.97408, 15.038574, 2...   \n",
       "1  [51.111267, 67.96506, 23.283352, 15.933792, 17...   \n",
       "2  [80.10156, 36.065247, 28.05036, 18.525972, 23....   \n",
       "3  [106.41231, 33.90044, 38.776386, 15.919863, 31...   \n",
       "4  [45.407215, 49.07983, 29.007093, 11.687621, 15...   \n",
       "\n",
       "                                    mfccs_delta_mean  \\\n",
       "0  [-9.579418, -4.0737424, 3.8435361, -0.17087425...   \n",
       "1  [-2.7131724, 0.058154836, 1.0358769, -0.090087...   \n",
       "2  [-12.911271, -5.808687, -1.0771756, -2.730666,...   \n",
       "3  [11.195169, 1.0260458, -5.0391235, -1.5975816,...   \n",
       "4  [-3.751081, 0.43218273, 2.648297, 0.04581053, ...   \n",
       "\n",
       "                                     mfccs_delta_std  \\\n",
       "0  [22.375574, 12.759423, 6.3385267, 2.4689703, 5...   \n",
       "1  [10.057443, 12.488094, 5.149937, 3.5408852, 3....   \n",
       "2  [20.398891, 8.515546, 4.8766484, 4.520022, 1.4...   \n",
       "3  [23.694197, 8.173781, 7.091111, 2.5993192, 7.5...   \n",
       "4  [8.796441, 11.696044, 3.500557, 2.2668695, 3.6...   \n",
       "\n",
       "                                      combined_mfccs  \\\n",
       "0  [-247.32631, 102.92839, -35.27226, 36.415066, ...   \n",
       "1  [-235.68883, 101.68603, -35.80166, 34.12707, -...   \n",
       "2  [-235.04802, 160.1276, -10.184575, 26.674046, ...   \n",
       "3  [-235.00658, 123.2033, -4.968553, 33.234592, -...   \n",
       "4  [-179.97217, 108.54472, -58.192284, 31.71899, ...   \n",
       "\n",
       "                                                 mel  \n",
       "0  [[0.0003536803, 0.00022120043, 0.00017765928, ...  \n",
       "1  [[0.0001801434, 0.00024744836, 0.00025155477, ...  \n",
       "2  [[0.8230274, 0.2128236, 0.0014328726, 0.000853...  \n",
       "3  [[0.0010301938, 0.0007199413, 0.00062446395, 0...  \n",
       "4  [[0.0032865647, 0.0017178097, 0.0007647522, 0....  "
      ]
     },
     "execution_count": 11,
     "metadata": {},
     "output_type": "execute_result"
    }
   ],
   "source": [
    "# check if successful\n",
    "\n",
    "features_df.head()"
   ]
  },
  {
   "cell_type": "markdown",
   "metadata": {},
   "source": [
    "\n",
    "## 4. Modelling"
   ]
  },
  {
   "cell_type": "markdown",
   "metadata": {},
   "source": [
    "Model 1: Vanilla Base-line model\n",
    "\n",
    "FNN with MFCCS mean\n",
    "Dimension = 40\n",
    "layers = 2"
   ]
  },
  {
   "cell_type": "code",
   "execution_count": 12,
   "metadata": {},
   "outputs": [],
   "source": [
    "X = features_df['mfccs_mean']"
   ]
  },
  {
   "cell_type": "code",
   "execution_count": 13,
   "metadata": {},
   "outputs": [],
   "source": [
    "X = np.array(X.tolist())"
   ]
  },
  {
   "cell_type": "code",
   "execution_count": 14,
   "metadata": {},
   "outputs": [],
   "source": [
    "le = LabelEncoder()\n",
    "y = to_categorical(le.fit_transform(features_df['class_label'].tolist()))\n",
    "y = np.array(y)"
   ]
  },
  {
   "cell_type": "code",
   "execution_count": 15,
   "metadata": {},
   "outputs": [],
   "source": [
    "X_train, X_test, y_train, y_test = train_test_split(X, y, test_size = 0.2, random_state = 42, stratify = y)"
   ]
  },
  {
   "cell_type": "code",
   "execution_count": 16,
   "metadata": {},
   "outputs": [],
   "source": [
    "from sklearn.preprocessing import StandardScaler\n",
    "\n",
    "ss = StandardScaler()\n",
    "X_train_ss = ss.fit_transform(X_train)\n",
    "X_test_ss = ss.transform(X_test)"
   ]
  },
  {
   "cell_type": "code",
   "execution_count": 17,
   "metadata": {},
   "outputs": [],
   "source": [
    "model = Sequential()\n",
    "model.add(Dense(32, activation='relu', input_shape=(40,)))\n",
    "model.add(Dense(32, activation='relu'))\n",
    "model.add(Dense(5, activation='softmax'))\n",
    "\n",
    "opt = Adam(learning_rate=0.0005)"
   ]
  },
  {
   "cell_type": "code",
   "execution_count": 18,
   "metadata": {},
   "outputs": [],
   "source": [
    "model.compile(loss='categorical_crossentropy', optimizer=opt, metrics = ['accuracy'])"
   ]
  },
  {
   "cell_type": "code",
   "execution_count": 19,
   "metadata": {},
   "outputs": [
    {
     "name": "stdout",
     "output_type": "stream",
     "text": [
      "Model: \"sequential_1\"\n",
      "_________________________________________________________________\n",
      "Layer (type)                 Output Shape              Param #   \n",
      "=================================================================\n",
      "dense_1 (Dense)              (None, 32)                1312      \n",
      "_________________________________________________________________\n",
      "dense_2 (Dense)              (None, 32)                1056      \n",
      "_________________________________________________________________\n",
      "dense_3 (Dense)              (None, 5)                 165       \n",
      "=================================================================\n",
      "Total params: 2,533\n",
      "Trainable params: 2,533\n",
      "Non-trainable params: 0\n",
      "_________________________________________________________________\n"
     ]
    }
   ],
   "source": [
    "model.summary()"
   ]
  },
  {
   "cell_type": "code",
   "execution_count": 20,
   "metadata": {
    "scrolled": true
   },
   "outputs": [
    {
     "name": "stdout",
     "output_type": "stream",
     "text": [
      "Train on 442 samples, validate on 111 samples\n",
      "Epoch 1/200\n",
      " - 2s - loss: 1.8376 - accuracy: 0.2014 - val_loss: 1.8161 - val_accuracy: 0.2523\n",
      "Epoch 2/200\n",
      " - 0s - loss: 1.7286 - accuracy: 0.2398 - val_loss: 1.7266 - val_accuracy: 0.2793\n",
      "Epoch 3/200\n",
      " - 0s - loss: 1.6403 - accuracy: 0.2805 - val_loss: 1.6585 - val_accuracy: 0.2883\n",
      "Epoch 4/200\n",
      " - 0s - loss: 1.5704 - accuracy: 0.2964 - val_loss: 1.6046 - val_accuracy: 0.3063\n",
      "Epoch 5/200\n",
      " - 0s - loss: 1.5114 - accuracy: 0.3484 - val_loss: 1.5586 - val_accuracy: 0.3694\n",
      "Epoch 6/200\n",
      " - 0s - loss: 1.4581 - accuracy: 0.3959 - val_loss: 1.5166 - val_accuracy: 0.3964\n",
      "Epoch 7/200\n",
      " - 0s - loss: 1.4110 - accuracy: 0.4412 - val_loss: 1.4794 - val_accuracy: 0.3964\n",
      "Epoch 8/200\n",
      " - 0s - loss: 1.3640 - accuracy: 0.4774 - val_loss: 1.4453 - val_accuracy: 0.4054\n",
      "Epoch 9/200\n",
      " - 0s - loss: 1.3183 - accuracy: 0.5204 - val_loss: 1.4147 - val_accuracy: 0.4144\n",
      "Epoch 10/200\n",
      " - 0s - loss: 1.2760 - accuracy: 0.5430 - val_loss: 1.3836 - val_accuracy: 0.4505\n",
      "Epoch 11/200\n",
      " - 0s - loss: 1.2336 - accuracy: 0.5656 - val_loss: 1.3543 - val_accuracy: 0.4595\n",
      "Epoch 12/200\n",
      " - 0s - loss: 1.1918 - accuracy: 0.5814 - val_loss: 1.3264 - val_accuracy: 0.4685\n",
      "Epoch 13/200\n",
      " - 0s - loss: 1.1511 - accuracy: 0.5973 - val_loss: 1.2999 - val_accuracy: 0.4775\n",
      "Epoch 14/200\n",
      " - 0s - loss: 1.1128 - accuracy: 0.6176 - val_loss: 1.2776 - val_accuracy: 0.5045\n",
      "Epoch 15/200\n",
      " - 0s - loss: 1.0753 - accuracy: 0.6335 - val_loss: 1.2576 - val_accuracy: 0.5135\n",
      "Epoch 16/200\n",
      " - 0s - loss: 1.0406 - accuracy: 0.6471 - val_loss: 1.2352 - val_accuracy: 0.4955\n",
      "Epoch 17/200\n",
      " - 0s - loss: 1.0074 - accuracy: 0.6516 - val_loss: 1.2232 - val_accuracy: 0.5045\n",
      "Epoch 18/200\n",
      " - 0s - loss: 0.9745 - accuracy: 0.6697 - val_loss: 1.2019 - val_accuracy: 0.5225\n",
      "Epoch 19/200\n",
      " - 0s - loss: 0.9432 - accuracy: 0.6833 - val_loss: 1.1885 - val_accuracy: 0.5405\n",
      "Epoch 20/200\n",
      " - 0s - loss: 0.9134 - accuracy: 0.6878 - val_loss: 1.1712 - val_accuracy: 0.5495\n",
      "Epoch 21/200\n",
      " - 0s - loss: 0.8827 - accuracy: 0.7014 - val_loss: 1.1570 - val_accuracy: 0.5495\n",
      "Epoch 22/200\n",
      " - 0s - loss: 0.8548 - accuracy: 0.7127 - val_loss: 1.1450 - val_accuracy: 0.5586\n",
      "Epoch 23/200\n",
      " - 0s - loss: 0.8283 - accuracy: 0.7262 - val_loss: 1.1303 - val_accuracy: 0.5676\n",
      "Epoch 24/200\n",
      " - 0s - loss: 0.8018 - accuracy: 0.7308 - val_loss: 1.1208 - val_accuracy: 0.5856\n",
      "Epoch 25/200\n",
      " - 0s - loss: 0.7768 - accuracy: 0.7421 - val_loss: 1.1138 - val_accuracy: 0.6036\n",
      "Epoch 26/200\n",
      " - 0s - loss: 0.7539 - accuracy: 0.7511 - val_loss: 1.1004 - val_accuracy: 0.6126\n",
      "Epoch 27/200\n",
      " - 0s - loss: 0.7314 - accuracy: 0.7647 - val_loss: 1.0894 - val_accuracy: 0.6036\n",
      "Epoch 28/200\n",
      " - 0s - loss: 0.7104 - accuracy: 0.7760 - val_loss: 1.0846 - val_accuracy: 0.6216\n",
      "Epoch 29/200\n",
      " - 0s - loss: 0.6898 - accuracy: 0.7760 - val_loss: 1.0700 - val_accuracy: 0.6126\n",
      "Epoch 30/200\n",
      " - 0s - loss: 0.6692 - accuracy: 0.7851 - val_loss: 1.0645 - val_accuracy: 0.6126\n",
      "Epoch 31/200\n",
      " - 0s - loss: 0.6521 - accuracy: 0.7851 - val_loss: 1.0573 - val_accuracy: 0.6126\n",
      "Epoch 32/200\n",
      " - 0s - loss: 0.6349 - accuracy: 0.7851 - val_loss: 1.0558 - val_accuracy: 0.6126\n",
      "Epoch 33/200\n",
      " - 0s - loss: 0.6188 - accuracy: 0.7896 - val_loss: 1.0475 - val_accuracy: 0.6036\n",
      "Epoch 34/200\n",
      " - 0s - loss: 0.6028 - accuracy: 0.7964 - val_loss: 1.0423 - val_accuracy: 0.6036\n",
      "Epoch 35/200\n",
      " - 0s - loss: 0.5868 - accuracy: 0.8009 - val_loss: 1.0334 - val_accuracy: 0.6216\n",
      "Epoch 36/200\n",
      " - 0s - loss: 0.5727 - accuracy: 0.8032 - val_loss: 1.0285 - val_accuracy: 0.6216\n",
      "Epoch 37/200\n",
      " - 0s - loss: 0.5580 - accuracy: 0.8100 - val_loss: 1.0278 - val_accuracy: 0.6216\n",
      "Epoch 38/200\n",
      " - 0s - loss: 0.5434 - accuracy: 0.8190 - val_loss: 1.0238 - val_accuracy: 0.6216\n",
      "Epoch 39/200\n",
      " - 0s - loss: 0.5308 - accuracy: 0.8213 - val_loss: 1.0197 - val_accuracy: 0.6126\n",
      "Epoch 40/200\n",
      " - 0s - loss: 0.5178 - accuracy: 0.8235 - val_loss: 1.0155 - val_accuracy: 0.6306\n",
      "Epoch 41/200\n",
      " - 0s - loss: 0.5045 - accuracy: 0.8235 - val_loss: 1.0151 - val_accuracy: 0.6216\n",
      "Epoch 42/200\n",
      " - 0s - loss: 0.4925 - accuracy: 0.8326 - val_loss: 1.0148 - val_accuracy: 0.6216\n",
      "Epoch 43/200\n",
      " - 0s - loss: 0.4800 - accuracy: 0.8303 - val_loss: 1.0098 - val_accuracy: 0.6306\n",
      "Epoch 44/200\n",
      " - 0s - loss: 0.4685 - accuracy: 0.8416 - val_loss: 1.0114 - val_accuracy: 0.6306\n",
      "Epoch 45/200\n",
      " - 0s - loss: 0.4562 - accuracy: 0.8507 - val_loss: 1.0095 - val_accuracy: 0.6306\n",
      "Epoch 46/200\n",
      " - 0s - loss: 0.4456 - accuracy: 0.8620 - val_loss: 1.0096 - val_accuracy: 0.6216\n",
      "Epoch 47/200\n",
      " - 0s - loss: 0.4347 - accuracy: 0.8688 - val_loss: 1.0062 - val_accuracy: 0.6306\n",
      "Epoch 48/200\n",
      " - 0s - loss: 0.4237 - accuracy: 0.8756 - val_loss: 1.0111 - val_accuracy: 0.6306\n",
      "Epoch 49/200\n",
      " - 0s - loss: 0.4143 - accuracy: 0.8778 - val_loss: 1.0086 - val_accuracy: 0.6306\n",
      "Epoch 50/200\n",
      " - 0s - loss: 0.4042 - accuracy: 0.8801 - val_loss: 1.0075 - val_accuracy: 0.6216\n",
      "Epoch 51/200\n",
      " - 0s - loss: 0.3940 - accuracy: 0.8801 - val_loss: 1.0102 - val_accuracy: 0.6216\n",
      "Epoch 52/200\n",
      " - 0s - loss: 0.3845 - accuracy: 0.8869 - val_loss: 1.0162 - val_accuracy: 0.6126\n",
      "Epoch 53/200\n",
      " - 0s - loss: 0.3753 - accuracy: 0.8914 - val_loss: 1.0127 - val_accuracy: 0.6126\n",
      "Epoch 54/200\n",
      " - 0s - loss: 0.3658 - accuracy: 0.8937 - val_loss: 1.0138 - val_accuracy: 0.6306\n",
      "Epoch 55/200\n",
      " - 0s - loss: 0.3584 - accuracy: 0.9005 - val_loss: 1.0146 - val_accuracy: 0.6216\n",
      "Epoch 56/200\n",
      " - 0s - loss: 0.3484 - accuracy: 0.9005 - val_loss: 1.0168 - val_accuracy: 0.6216\n",
      "Epoch 57/200\n",
      " - 0s - loss: 0.3405 - accuracy: 0.9050 - val_loss: 1.0160 - val_accuracy: 0.6216\n",
      "Epoch 58/200\n",
      " - 0s - loss: 0.3325 - accuracy: 0.9095 - val_loss: 1.0266 - val_accuracy: 0.6306\n",
      "Epoch 59/200\n",
      " - 0s - loss: 0.3242 - accuracy: 0.9095 - val_loss: 1.0236 - val_accuracy: 0.6396\n",
      "Epoch 60/200\n",
      " - 0s - loss: 0.3167 - accuracy: 0.9186 - val_loss: 1.0263 - val_accuracy: 0.6486\n",
      "Epoch 61/200\n",
      " - 0s - loss: 0.3085 - accuracy: 0.9276 - val_loss: 1.0293 - val_accuracy: 0.6486\n",
      "Epoch 62/200\n",
      " - 0s - loss: 0.3014 - accuracy: 0.9299 - val_loss: 1.0285 - val_accuracy: 0.6396\n",
      "Epoch 63/200\n",
      " - 0s - loss: 0.2945 - accuracy: 0.9299 - val_loss: 1.0384 - val_accuracy: 0.6577\n",
      "Epoch 64/200\n",
      " - 0s - loss: 0.2874 - accuracy: 0.9344 - val_loss: 1.0381 - val_accuracy: 0.6486\n",
      "Epoch 65/200\n",
      " - 0s - loss: 0.2805 - accuracy: 0.9367 - val_loss: 1.0348 - val_accuracy: 0.6486\n",
      "Epoch 66/200\n",
      " - 0s - loss: 0.2736 - accuracy: 0.9434 - val_loss: 1.0401 - val_accuracy: 0.6486\n",
      "Epoch 67/200\n",
      " - 0s - loss: 0.2668 - accuracy: 0.9412 - val_loss: 1.0445 - val_accuracy: 0.6486\n",
      "Epoch 68/200\n",
      " - 0s - loss: 0.2601 - accuracy: 0.9457 - val_loss: 1.0482 - val_accuracy: 0.6486\n",
      "Epoch 69/200\n",
      " - 0s - loss: 0.2542 - accuracy: 0.9457 - val_loss: 1.0479 - val_accuracy: 0.6486\n",
      "Epoch 70/200\n",
      " - 0s - loss: 0.2476 - accuracy: 0.9480 - val_loss: 1.0545 - val_accuracy: 0.6577\n",
      "Epoch 71/200\n",
      " - 0s - loss: 0.2424 - accuracy: 0.9480 - val_loss: 1.0628 - val_accuracy: 0.6667\n",
      "Epoch 72/200\n",
      " - 0s - loss: 0.2364 - accuracy: 0.9457 - val_loss: 1.0620 - val_accuracy: 0.6667\n",
      "Epoch 73/200\n",
      " - 0s - loss: 0.2303 - accuracy: 0.9480 - val_loss: 1.0686 - val_accuracy: 0.6667\n",
      "Epoch 74/200\n",
      " - 0s - loss: 0.2247 - accuracy: 0.9480 - val_loss: 1.0683 - val_accuracy: 0.6667\n",
      "Epoch 75/200\n",
      " - 0s - loss: 0.2194 - accuracy: 0.9525 - val_loss: 1.0735 - val_accuracy: 0.6667\n",
      "Epoch 76/200\n",
      " - 0s - loss: 0.2147 - accuracy: 0.9570 - val_loss: 1.0749 - val_accuracy: 0.6667\n",
      "Epoch 77/200\n",
      " - 0s - loss: 0.2089 - accuracy: 0.9570 - val_loss: 1.0790 - val_accuracy: 0.6757\n",
      "Epoch 78/200\n",
      " - 0s - loss: 0.2044 - accuracy: 0.9593 - val_loss: 1.0868 - val_accuracy: 0.6757\n",
      "Epoch 79/200\n",
      " - 0s - loss: 0.1995 - accuracy: 0.9570 - val_loss: 1.0925 - val_accuracy: 0.6757\n",
      "Epoch 80/200\n",
      " - 0s - loss: 0.1943 - accuracy: 0.9570 - val_loss: 1.0947 - val_accuracy: 0.6757\n",
      "Epoch 81/200\n",
      " - 0s - loss: 0.1892 - accuracy: 0.9593 - val_loss: 1.0960 - val_accuracy: 0.6757\n",
      "Epoch 82/200\n",
      " - 0s - loss: 0.1841 - accuracy: 0.9638 - val_loss: 1.1045 - val_accuracy: 0.6847\n",
      "Epoch 83/200\n",
      " - 0s - loss: 0.1792 - accuracy: 0.9638 - val_loss: 1.1051 - val_accuracy: 0.6757\n",
      "Epoch 84/200\n",
      " - 0s - loss: 0.1745 - accuracy: 0.9638 - val_loss: 1.1101 - val_accuracy: 0.6757\n",
      "Epoch 85/200\n",
      " - 0s - loss: 0.1699 - accuracy: 0.9683 - val_loss: 1.1139 - val_accuracy: 0.6847\n",
      "Epoch 86/200\n",
      " - 0s - loss: 0.1658 - accuracy: 0.9683 - val_loss: 1.1212 - val_accuracy: 0.6937\n"
     ]
    },
    {
     "name": "stdout",
     "output_type": "stream",
     "text": [
      "Epoch 87/200\n",
      " - 0s - loss: 0.1615 - accuracy: 0.9683 - val_loss: 1.1230 - val_accuracy: 0.7027\n",
      "Epoch 88/200\n",
      " - 0s - loss: 0.1571 - accuracy: 0.9706 - val_loss: 1.1234 - val_accuracy: 0.7027\n",
      "Epoch 89/200\n",
      " - 0s - loss: 0.1539 - accuracy: 0.9774 - val_loss: 1.1285 - val_accuracy: 0.7027\n",
      "Epoch 90/200\n",
      " - 0s - loss: 0.1493 - accuracy: 0.9819 - val_loss: 1.1298 - val_accuracy: 0.7027\n",
      "Epoch 91/200\n",
      " - 0s - loss: 0.1463 - accuracy: 0.9774 - val_loss: 1.1313 - val_accuracy: 0.7117\n",
      "Epoch 92/200\n",
      " - 0s - loss: 0.1427 - accuracy: 0.9864 - val_loss: 1.1380 - val_accuracy: 0.7027\n",
      "Epoch 93/200\n",
      " - 0s - loss: 0.1391 - accuracy: 0.9864 - val_loss: 1.1440 - val_accuracy: 0.7117\n",
      "Epoch 94/200\n",
      " - 0s - loss: 0.1359 - accuracy: 0.9864 - val_loss: 1.1484 - val_accuracy: 0.7027\n",
      "Epoch 95/200\n",
      " - 0s - loss: 0.1322 - accuracy: 0.9887 - val_loss: 1.1497 - val_accuracy: 0.7117\n",
      "Epoch 96/200\n",
      " - 0s - loss: 0.1294 - accuracy: 0.9910 - val_loss: 1.1549 - val_accuracy: 0.7117\n",
      "Epoch 97/200\n",
      " - 0s - loss: 0.1261 - accuracy: 0.9910 - val_loss: 1.1561 - val_accuracy: 0.7117\n",
      "Epoch 98/200\n",
      " - 0s - loss: 0.1235 - accuracy: 0.9910 - val_loss: 1.1637 - val_accuracy: 0.7117\n",
      "Epoch 99/200\n",
      " - 0s - loss: 0.1206 - accuracy: 0.9910 - val_loss: 1.1683 - val_accuracy: 0.7027\n",
      "Epoch 100/200\n",
      " - 0s - loss: 0.1179 - accuracy: 0.9910 - val_loss: 1.1724 - val_accuracy: 0.7027\n",
      "Epoch 101/200\n",
      " - 0s - loss: 0.1156 - accuracy: 0.9910 - val_loss: 1.1712 - val_accuracy: 0.7117\n",
      "Epoch 102/200\n",
      " - 0s - loss: 0.1124 - accuracy: 0.9910 - val_loss: 1.1812 - val_accuracy: 0.7117\n",
      "Epoch 103/200\n",
      " - 0s - loss: 0.1101 - accuracy: 0.9910 - val_loss: 1.1888 - val_accuracy: 0.7027\n",
      "Epoch 104/200\n",
      " - 0s - loss: 0.1077 - accuracy: 0.9910 - val_loss: 1.1965 - val_accuracy: 0.7117\n",
      "Epoch 105/200\n",
      " - 0s - loss: 0.1049 - accuracy: 0.9910 - val_loss: 1.1957 - val_accuracy: 0.7027\n",
      "Epoch 106/200\n",
      " - 0s - loss: 0.1025 - accuracy: 0.9910 - val_loss: 1.1990 - val_accuracy: 0.7117\n",
      "Epoch 107/200\n",
      " - 0s - loss: 0.1000 - accuracy: 0.9910 - val_loss: 1.2022 - val_accuracy: 0.7117\n",
      "Epoch 108/200\n",
      " - 0s - loss: 0.0979 - accuracy: 0.9910 - val_loss: 1.2073 - val_accuracy: 0.7117\n",
      "Epoch 109/200\n",
      " - 0s - loss: 0.0956 - accuracy: 0.9932 - val_loss: 1.2149 - val_accuracy: 0.7117\n",
      "Epoch 110/200\n",
      " - 0s - loss: 0.0938 - accuracy: 0.9932 - val_loss: 1.2202 - val_accuracy: 0.7117\n",
      "Epoch 111/200\n",
      " - 0s - loss: 0.0916 - accuracy: 0.9932 - val_loss: 1.2233 - val_accuracy: 0.7117\n",
      "Epoch 112/200\n",
      " - 0s - loss: 0.0891 - accuracy: 0.9932 - val_loss: 1.2318 - val_accuracy: 0.7117\n",
      "Epoch 113/200\n",
      " - 0s - loss: 0.0871 - accuracy: 0.9932 - val_loss: 1.2368 - val_accuracy: 0.7117\n",
      "Epoch 114/200\n",
      " - 0s - loss: 0.0850 - accuracy: 0.9932 - val_loss: 1.2407 - val_accuracy: 0.7117\n",
      "Epoch 115/200\n",
      " - 0s - loss: 0.0832 - accuracy: 0.9955 - val_loss: 1.2419 - val_accuracy: 0.7207\n",
      "Epoch 116/200\n",
      " - 0s - loss: 0.0811 - accuracy: 0.9955 - val_loss: 1.2469 - val_accuracy: 0.7207\n",
      "Epoch 117/200\n",
      " - 0s - loss: 0.0798 - accuracy: 0.9955 - val_loss: 1.2580 - val_accuracy: 0.7207\n",
      "Epoch 118/200\n",
      " - 0s - loss: 0.0775 - accuracy: 0.9955 - val_loss: 1.2620 - val_accuracy: 0.7207\n",
      "Epoch 119/200\n",
      " - 0s - loss: 0.0757 - accuracy: 0.9955 - val_loss: 1.2661 - val_accuracy: 0.7207\n",
      "Epoch 120/200\n",
      " - 0s - loss: 0.0741 - accuracy: 0.9955 - val_loss: 1.2695 - val_accuracy: 0.7207\n",
      "Epoch 121/200\n",
      " - 0s - loss: 0.0726 - accuracy: 0.9955 - val_loss: 1.2787 - val_accuracy: 0.7207\n",
      "Epoch 122/200\n",
      " - 0s - loss: 0.0707 - accuracy: 0.9955 - val_loss: 1.2831 - val_accuracy: 0.7207\n",
      "Epoch 123/200\n",
      " - 0s - loss: 0.0692 - accuracy: 0.9955 - val_loss: 1.2832 - val_accuracy: 0.7207\n",
      "Epoch 124/200\n",
      " - 0s - loss: 0.0677 - accuracy: 0.9955 - val_loss: 1.2933 - val_accuracy: 0.7207\n",
      "Epoch 125/200\n",
      " - 0s - loss: 0.0660 - accuracy: 0.9955 - val_loss: 1.3013 - val_accuracy: 0.7207\n",
      "Epoch 126/200\n",
      " - 0s - loss: 0.0645 - accuracy: 0.9955 - val_loss: 1.3028 - val_accuracy: 0.7207\n",
      "Epoch 127/200\n",
      " - 0s - loss: 0.0635 - accuracy: 0.9955 - val_loss: 1.3089 - val_accuracy: 0.7207\n",
      "Epoch 128/200\n",
      " - 0s - loss: 0.0618 - accuracy: 0.9955 - val_loss: 1.3150 - val_accuracy: 0.7207\n",
      "Epoch 129/200\n",
      " - 0s - loss: 0.0604 - accuracy: 0.9955 - val_loss: 1.3196 - val_accuracy: 0.7207\n",
      "Epoch 130/200\n",
      " - 0s - loss: 0.0593 - accuracy: 0.9955 - val_loss: 1.3272 - val_accuracy: 0.7207\n",
      "Epoch 131/200\n",
      " - 0s - loss: 0.0578 - accuracy: 0.9955 - val_loss: 1.3316 - val_accuracy: 0.7207\n",
      "Epoch 132/200\n",
      " - 0s - loss: 0.0565 - accuracy: 0.9955 - val_loss: 1.3338 - val_accuracy: 0.7207\n",
      "Epoch 133/200\n",
      " - 0s - loss: 0.0554 - accuracy: 0.9955 - val_loss: 1.3447 - val_accuracy: 0.7207\n",
      "Epoch 134/200\n",
      " - 0s - loss: 0.0542 - accuracy: 0.9955 - val_loss: 1.3511 - val_accuracy: 0.7207\n",
      "Epoch 135/200\n",
      " - 0s - loss: 0.0530 - accuracy: 0.9955 - val_loss: 1.3550 - val_accuracy: 0.7207\n",
      "Epoch 136/200\n",
      " - 0s - loss: 0.0517 - accuracy: 0.9977 - val_loss: 1.3623 - val_accuracy: 0.7207\n",
      "Epoch 137/200\n",
      " - 0s - loss: 0.0506 - accuracy: 0.9977 - val_loss: 1.3675 - val_accuracy: 0.7207\n",
      "Epoch 138/200\n",
      " - 0s - loss: 0.0497 - accuracy: 0.9977 - val_loss: 1.3708 - val_accuracy: 0.7207\n",
      "Epoch 139/200\n",
      " - 0s - loss: 0.0486 - accuracy: 0.9977 - val_loss: 1.3809 - val_accuracy: 0.7207\n",
      "Epoch 140/200\n",
      " - 0s - loss: 0.0476 - accuracy: 0.9977 - val_loss: 1.3874 - val_accuracy: 0.7207\n",
      "Epoch 141/200\n",
      " - 0s - loss: 0.0466 - accuracy: 0.9977 - val_loss: 1.3909 - val_accuracy: 0.7117\n",
      "Epoch 142/200\n",
      " - 0s - loss: 0.0455 - accuracy: 0.9977 - val_loss: 1.3967 - val_accuracy: 0.7117\n",
      "Epoch 143/200\n",
      " - 0s - loss: 0.0448 - accuracy: 0.9977 - val_loss: 1.4025 - val_accuracy: 0.7117\n",
      "Epoch 144/200\n",
      " - 0s - loss: 0.0439 - accuracy: 0.9977 - val_loss: 1.4064 - val_accuracy: 0.7117\n",
      "Epoch 145/200\n",
      " - 0s - loss: 0.0429 - accuracy: 0.9977 - val_loss: 1.4126 - val_accuracy: 0.7117\n",
      "Epoch 146/200\n",
      " - 0s - loss: 0.0420 - accuracy: 0.9977 - val_loss: 1.4169 - val_accuracy: 0.7117\n",
      "Epoch 147/200\n",
      " - 0s - loss: 0.0413 - accuracy: 0.9977 - val_loss: 1.4260 - val_accuracy: 0.7117\n",
      "Epoch 148/200\n",
      " - 0s - loss: 0.0403 - accuracy: 0.9977 - val_loss: 1.4309 - val_accuracy: 0.7117\n",
      "Epoch 149/200\n",
      " - 0s - loss: 0.0395 - accuracy: 0.9977 - val_loss: 1.4342 - val_accuracy: 0.7117\n",
      "Epoch 150/200\n",
      " - 0s - loss: 0.0388 - accuracy: 0.9977 - val_loss: 1.4426 - val_accuracy: 0.7117\n",
      "Epoch 151/200\n",
      " - 0s - loss: 0.0379 - accuracy: 0.9977 - val_loss: 1.4449 - val_accuracy: 0.7117\n",
      "Epoch 152/200\n",
      " - 0s - loss: 0.0371 - accuracy: 0.9977 - val_loss: 1.4525 - val_accuracy: 0.7117\n",
      "Epoch 153/200\n",
      " - 0s - loss: 0.0364 - accuracy: 0.9977 - val_loss: 1.4581 - val_accuracy: 0.7117\n",
      "Epoch 154/200\n",
      " - 0s - loss: 0.0358 - accuracy: 0.9977 - val_loss: 1.4595 - val_accuracy: 0.7117\n",
      "Epoch 155/200\n",
      " - 0s - loss: 0.0349 - accuracy: 0.9977 - val_loss: 1.4687 - val_accuracy: 0.7117\n",
      "Epoch 156/200\n",
      " - 0s - loss: 0.0343 - accuracy: 0.9977 - val_loss: 1.4755 - val_accuracy: 0.7117\n",
      "Epoch 157/200\n",
      " - 0s - loss: 0.0338 - accuracy: 0.9977 - val_loss: 1.4818 - val_accuracy: 0.7117\n",
      "Epoch 158/200\n",
      " - 0s - loss: 0.0331 - accuracy: 0.9977 - val_loss: 1.4838 - val_accuracy: 0.7117\n",
      "Epoch 159/200\n",
      " - 0s - loss: 0.0324 - accuracy: 0.9977 - val_loss: 1.4906 - val_accuracy: 0.7117\n",
      "Epoch 160/200\n",
      " - 0s - loss: 0.0318 - accuracy: 0.9977 - val_loss: 1.4921 - val_accuracy: 0.7117\n",
      "Epoch 161/200\n",
      " - 0s - loss: 0.0311 - accuracy: 0.9977 - val_loss: 1.5005 - val_accuracy: 0.7117\n",
      "Epoch 162/200\n",
      " - 0s - loss: 0.0305 - accuracy: 0.9977 - val_loss: 1.5094 - val_accuracy: 0.7117\n",
      "Epoch 163/200\n",
      " - 0s - loss: 0.0298 - accuracy: 0.9977 - val_loss: 1.5114 - val_accuracy: 0.7117\n",
      "Epoch 164/200\n",
      " - 0s - loss: 0.0292 - accuracy: 0.9977 - val_loss: 1.5175 - val_accuracy: 0.7117\n",
      "Epoch 165/200\n",
      " - 0s - loss: 0.0286 - accuracy: 0.9977 - val_loss: 1.5248 - val_accuracy: 0.7117\n",
      "Epoch 166/200\n",
      " - 0s - loss: 0.0280 - accuracy: 0.9977 - val_loss: 1.5264 - val_accuracy: 0.7117\n",
      "Epoch 167/200\n",
      " - 0s - loss: 0.0274 - accuracy: 0.9977 - val_loss: 1.5331 - val_accuracy: 0.7117\n",
      "Epoch 168/200\n",
      " - 0s - loss: 0.0269 - accuracy: 0.9977 - val_loss: 1.5393 - val_accuracy: 0.7117\n",
      "Epoch 169/200\n",
      " - 0s - loss: 0.0265 - accuracy: 0.9977 - val_loss: 1.5469 - val_accuracy: 0.7027\n",
      "Epoch 170/200\n",
      " - 0s - loss: 0.0257 - accuracy: 0.9977 - val_loss: 1.5515 - val_accuracy: 0.7117\n",
      "Epoch 171/200\n",
      " - 0s - loss: 0.0252 - accuracy: 0.9977 - val_loss: 1.5566 - val_accuracy: 0.7027\n",
      "Epoch 172/200\n",
      " - 0s - loss: 0.0247 - accuracy: 0.9977 - val_loss: 1.5634 - val_accuracy: 0.7027\n"
     ]
    },
    {
     "name": "stdout",
     "output_type": "stream",
     "text": [
      "Epoch 173/200\n",
      " - 0s - loss: 0.0242 - accuracy: 0.9977 - val_loss: 1.5695 - val_accuracy: 0.7027\n",
      "Epoch 174/200\n",
      " - 0s - loss: 0.0237 - accuracy: 0.9977 - val_loss: 1.5758 - val_accuracy: 0.7027\n",
      "Epoch 175/200\n",
      " - 0s - loss: 0.0232 - accuracy: 0.9977 - val_loss: 1.5773 - val_accuracy: 0.7027\n",
      "Epoch 176/200\n",
      " - 0s - loss: 0.0228 - accuracy: 0.9977 - val_loss: 1.5857 - val_accuracy: 0.7027\n",
      "Epoch 177/200\n",
      " - 0s - loss: 0.0223 - accuracy: 0.9977 - val_loss: 1.5925 - val_accuracy: 0.7027\n",
      "Epoch 178/200\n",
      " - 0s - loss: 0.0219 - accuracy: 0.9977 - val_loss: 1.5967 - val_accuracy: 0.7027\n",
      "Epoch 179/200\n",
      " - 0s - loss: 0.0215 - accuracy: 0.9977 - val_loss: 1.6030 - val_accuracy: 0.7117\n",
      "Epoch 180/200\n",
      " - 0s - loss: 0.0210 - accuracy: 0.9977 - val_loss: 1.6102 - val_accuracy: 0.7117\n",
      "Epoch 181/200\n",
      " - 0s - loss: 0.0206 - accuracy: 0.9977 - val_loss: 1.6166 - val_accuracy: 0.7117\n",
      "Epoch 182/200\n",
      " - 0s - loss: 0.0202 - accuracy: 0.9977 - val_loss: 1.6234 - val_accuracy: 0.7117\n",
      "Epoch 183/200\n",
      " - 0s - loss: 0.0198 - accuracy: 0.9977 - val_loss: 1.6283 - val_accuracy: 0.7117\n",
      "Epoch 184/200\n",
      " - 0s - loss: 0.0194 - accuracy: 0.9977 - val_loss: 1.6343 - val_accuracy: 0.7117\n",
      "Epoch 185/200\n",
      " - 0s - loss: 0.0191 - accuracy: 1.0000 - val_loss: 1.6386 - val_accuracy: 0.7117\n",
      "Epoch 186/200\n",
      " - 0s - loss: 0.0187 - accuracy: 1.0000 - val_loss: 1.6452 - val_accuracy: 0.7117\n",
      "Epoch 187/200\n",
      " - 0s - loss: 0.0183 - accuracy: 1.0000 - val_loss: 1.6481 - val_accuracy: 0.7117\n",
      "Epoch 188/200\n",
      " - 0s - loss: 0.0179 - accuracy: 1.0000 - val_loss: 1.6548 - val_accuracy: 0.7117\n",
      "Epoch 189/200\n",
      " - 0s - loss: 0.0176 - accuracy: 1.0000 - val_loss: 1.6598 - val_accuracy: 0.7117\n",
      "Epoch 190/200\n",
      " - 0s - loss: 0.0173 - accuracy: 1.0000 - val_loss: 1.6638 - val_accuracy: 0.7117\n",
      "Epoch 191/200\n",
      " - 0s - loss: 0.0170 - accuracy: 1.0000 - val_loss: 1.6709 - val_accuracy: 0.7117\n",
      "Epoch 192/200\n",
      " - 0s - loss: 0.0167 - accuracy: 1.0000 - val_loss: 1.6783 - val_accuracy: 0.7117\n",
      "Epoch 193/200\n",
      " - 0s - loss: 0.0163 - accuracy: 1.0000 - val_loss: 1.6831 - val_accuracy: 0.7117\n",
      "Epoch 194/200\n",
      " - 0s - loss: 0.0160 - accuracy: 1.0000 - val_loss: 1.6886 - val_accuracy: 0.7027\n",
      "Epoch 195/200\n",
      " - 0s - loss: 0.0157 - accuracy: 1.0000 - val_loss: 1.6895 - val_accuracy: 0.7117\n",
      "Epoch 196/200\n",
      " - 0s - loss: 0.0154 - accuracy: 1.0000 - val_loss: 1.6957 - val_accuracy: 0.7117\n",
      "Epoch 197/200\n",
      " - 0s - loss: 0.0151 - accuracy: 1.0000 - val_loss: 1.7013 - val_accuracy: 0.7117\n",
      "Epoch 198/200\n",
      " - 0s - loss: 0.0149 - accuracy: 1.0000 - val_loss: 1.7066 - val_accuracy: 0.7117\n",
      "Epoch 199/200\n",
      " - 0s - loss: 0.0146 - accuracy: 1.0000 - val_loss: 1.7116 - val_accuracy: 0.7117\n",
      "Epoch 200/200\n",
      " - 0s - loss: 0.0144 - accuracy: 1.0000 - val_loss: 1.7159 - val_accuracy: 0.7117\n"
     ]
    }
   ],
   "source": [
    "history = model.fit(X_train_ss, y_train, validation_data=(X_test_ss, y_test), batch_size=32, epochs = 200, verbose=2)"
   ]
  },
  {
   "cell_type": "code",
   "execution_count": 21,
   "metadata": {
    "scrolled": true
   },
   "outputs": [
    {
     "data": {
      "text/plain": [
       "<matplotlib.legend.Legend at 0x20518039d30>"
      ]
     },
     "execution_count": 21,
     "metadata": {},
     "output_type": "execute_result"
    },
    {
     "data": {
      "image/png": "[encoded data removed]",
      "text/plain": [
       "<Figure size 432x288 with 1 Axes>"
      ]
     },
     "metadata": {
      "needs_background": "light"
     },
     "output_type": "display_data"
    }
   ],
   "source": [
    "plt.plot(history.history['loss'], label = ' Training Loss')\n",
    "plt.plot(history.history['val_loss'], label = ' Test Loss')\n",
    "plt.legend()"
   ]
  },
  {
   "cell_type": "code",
   "execution_count": 22,
   "metadata": {},
   "outputs": [
    {
     "data": {
      "text/plain": [
       "<matplotlib.legend.Legend at 0x20518284f60>"
      ]
     },
     "execution_count": 22,
     "metadata": {},
     "output_type": "execute_result"
    },
    {
     "data": {
      "image/png": "[encoded data removed]",
      "text/plain": [
       "<Figure size 432x288 with 1 Axes>"
      ]
     },
     "metadata": {
      "needs_background": "light"
     },
     "output_type": "display_data"
    }
   ],
   "source": [
    "plt.plot(history.history['accuracy'], label = ' Training Accuracy')\n",
    "plt.plot(history.history['val_accuracy'], label = ' Test Accuracy')\n",
    "plt.legend()"
   ]
  },
  {
   "cell_type": "markdown",
   "metadata": {},
   "source": [
    "Model 2\n",
    "\n",
    "Classifier: FNN\n",
    "Features: 40 coef * 4 indicators (mean and std, delta mean delta std)\n",
    "dimension 160\n"
   ]
  },
  {
   "cell_type": "code",
   "execution_count": 23,
   "metadata": {},
   "outputs": [],
   "source": [
    "X = np.array(features_df['combined_mfccs'].tolist())\n",
    "le = LabelEncoder()\n",
    "y = to_categorical(le.fit_transform(features_df['class_label'].tolist()))\n",
    "y = np.array(y)"
   ]
  },
  {
   "cell_type": "code",
   "execution_count": 24,
   "metadata": {},
   "outputs": [],
   "source": [
    "X_train, X_test, y_train, y_test = train_test_split(X, y, test_size = 0.2, random_state = 42, stratify = y)"
   ]
  },
  {
   "cell_type": "code",
   "execution_count": 25,
   "metadata": {},
   "outputs": [],
   "source": [
    "ss = StandardScaler()\n",
    "X_train_ss = ss.fit_transform(X_train)\n",
    "X_test_ss = ss.transform(X_test)"
   ]
  },
  {
   "cell_type": "code",
   "execution_count": 26,
   "metadata": {},
   "outputs": [],
   "source": [
    "model2 = Sequential()\n",
    "model2.add(Dense(64, activation='relu', input_shape=(160,)))\n",
    "model2.add(Dense(64, activation='relu'))\n",
    "model2.add(Dense(5, activation='softmax'))"
   ]
  },
  {
   "cell_type": "code",
   "execution_count": 27,
   "metadata": {},
   "outputs": [],
   "source": [
    "model2.compile(loss='categorical_crossentropy', optimizer='adam', metrics = ['accuracy'])"
   ]
  },
  {
   "cell_type": "code",
   "execution_count": 28,
   "metadata": {},
   "outputs": [
    {
     "data": {
      "text/plain": [
       "(442, 160)"
      ]
     },
     "execution_count": 28,
     "metadata": {},
     "output_type": "execute_result"
    }
   ],
   "source": [
    "X_train.shape"
   ]
  },
  {
   "cell_type": "code",
   "execution_count": 29,
   "metadata": {
    "scrolled": true
   },
   "outputs": [
    {
     "name": "stdout",
     "output_type": "stream",
     "text": [
      "Train on 442 samples, validate on 111 samples\n",
      "Epoch 1/50\n",
      " - 0s - loss: 1.6228 - accuracy: 0.3371 - val_loss: 1.3136 - val_accuracy: 0.4955\n",
      "Epoch 2/50\n",
      " - 0s - loss: 1.0532 - accuracy: 0.6538 - val_loss: 0.9833 - val_accuracy: 0.6847\n",
      "Epoch 3/50\n",
      " - 0s - loss: 0.7353 - accuracy: 0.8258 - val_loss: 0.7284 - val_accuracy: 0.8018\n",
      "Epoch 4/50\n",
      " - 0s - loss: 0.4969 - accuracy: 0.8914 - val_loss: 0.5320 - val_accuracy: 0.8739\n",
      "Epoch 5/50\n",
      " - 0s - loss: 0.3318 - accuracy: 0.9434 - val_loss: 0.3957 - val_accuracy: 0.9279\n",
      "Epoch 6/50\n",
      " - 0s - loss: 0.2250 - accuracy: 0.9661 - val_loss: 0.3122 - val_accuracy: 0.9369\n",
      "Epoch 7/50\n",
      " - 0s - loss: 0.1553 - accuracy: 0.9751 - val_loss: 0.2603 - val_accuracy: 0.9459\n",
      "Epoch 8/50\n",
      " - 0s - loss: 0.1120 - accuracy: 0.9910 - val_loss: 0.2227 - val_accuracy: 0.9459\n",
      "Epoch 9/50\n",
      " - 0s - loss: 0.0828 - accuracy: 0.9910 - val_loss: 0.1978 - val_accuracy: 0.9640\n",
      "Epoch 10/50\n",
      " - 0s - loss: 0.0621 - accuracy: 0.9955 - val_loss: 0.1867 - val_accuracy: 0.9550\n",
      "Epoch 11/50\n",
      " - 0s - loss: 0.0470 - accuracy: 0.9955 - val_loss: 0.1779 - val_accuracy: 0.9550\n",
      "Epoch 12/50\n",
      " - 0s - loss: 0.0373 - accuracy: 0.9977 - val_loss: 0.1670 - val_accuracy: 0.9550\n",
      "Epoch 13/50\n",
      " - 0s - loss: 0.0291 - accuracy: 1.0000 - val_loss: 0.1593 - val_accuracy: 0.9550\n",
      "Epoch 14/50\n",
      " - 0s - loss: 0.0234 - accuracy: 1.0000 - val_loss: 0.1535 - val_accuracy: 0.9550\n",
      "Epoch 15/50\n",
      " - 0s - loss: 0.0193 - accuracy: 1.0000 - val_loss: 0.1488 - val_accuracy: 0.9550\n",
      "Epoch 16/50\n",
      " - 0s - loss: 0.0162 - accuracy: 1.0000 - val_loss: 0.1459 - val_accuracy: 0.9550\n",
      "Epoch 17/50\n",
      " - 0s - loss: 0.0139 - accuracy: 1.0000 - val_loss: 0.1432 - val_accuracy: 0.9550\n",
      "Epoch 18/50\n",
      " - 0s - loss: 0.0119 - accuracy: 1.0000 - val_loss: 0.1412 - val_accuracy: 0.9550\n",
      "Epoch 19/50\n",
      " - 0s - loss: 0.0104 - accuracy: 1.0000 - val_loss: 0.1381 - val_accuracy: 0.9550\n",
      "Epoch 20/50\n",
      " - 0s - loss: 0.0092 - accuracy: 1.0000 - val_loss: 0.1368 - val_accuracy: 0.9550\n",
      "Epoch 21/50\n",
      " - 0s - loss: 0.0081 - accuracy: 1.0000 - val_loss: 0.1349 - val_accuracy: 0.9550\n",
      "Epoch 22/50\n",
      " - 0s - loss: 0.0072 - accuracy: 1.0000 - val_loss: 0.1344 - val_accuracy: 0.9550\n",
      "Epoch 23/50\n",
      " - 0s - loss: 0.0065 - accuracy: 1.0000 - val_loss: 0.1324 - val_accuracy: 0.9550\n",
      "Epoch 24/50\n",
      " - 0s - loss: 0.0059 - accuracy: 1.0000 - val_loss: 0.1324 - val_accuracy: 0.9550\n",
      "Epoch 25/50\n",
      " - 0s - loss: 0.0054 - accuracy: 1.0000 - val_loss: 0.1313 - val_accuracy: 0.9550\n",
      "Epoch 26/50\n",
      " - 0s - loss: 0.0049 - accuracy: 1.0000 - val_loss: 0.1307 - val_accuracy: 0.9640\n",
      "Epoch 27/50\n",
      " - 0s - loss: 0.0045 - accuracy: 1.0000 - val_loss: 0.1311 - val_accuracy: 0.9640\n",
      "Epoch 28/50\n",
      " - 0s - loss: 0.0041 - accuracy: 1.0000 - val_loss: 0.1309 - val_accuracy: 0.9640\n",
      "Epoch 29/50\n",
      " - 0s - loss: 0.0038 - accuracy: 1.0000 - val_loss: 0.1305 - val_accuracy: 0.9640\n",
      "Epoch 30/50\n",
      " - 0s - loss: 0.0035 - accuracy: 1.0000 - val_loss: 0.1304 - val_accuracy: 0.9640\n",
      "Epoch 31/50\n",
      " - 0s - loss: 0.0033 - accuracy: 1.0000 - val_loss: 0.1299 - val_accuracy: 0.9640\n",
      "Epoch 32/50\n",
      " - 0s - loss: 0.0031 - accuracy: 1.0000 - val_loss: 0.1298 - val_accuracy: 0.9640\n",
      "Epoch 33/50\n",
      " - 0s - loss: 0.0029 - accuracy: 1.0000 - val_loss: 0.1298 - val_accuracy: 0.9640\n",
      "Epoch 34/50\n",
      " - 0s - loss: 0.0027 - accuracy: 1.0000 - val_loss: 0.1296 - val_accuracy: 0.9640\n",
      "Epoch 35/50\n",
      " - 0s - loss: 0.0025 - accuracy: 1.0000 - val_loss: 0.1300 - val_accuracy: 0.9640\n",
      "Epoch 36/50\n",
      " - 0s - loss: 0.0024 - accuracy: 1.0000 - val_loss: 0.1300 - val_accuracy: 0.9640\n",
      "Epoch 37/50\n",
      " - 0s - loss: 0.0022 - accuracy: 1.0000 - val_loss: 0.1303 - val_accuracy: 0.9640\n",
      "Epoch 38/50\n",
      " - 0s - loss: 0.0021 - accuracy: 1.0000 - val_loss: 0.1304 - val_accuracy: 0.9640\n",
      "Epoch 39/50\n",
      " - 0s - loss: 0.0020 - accuracy: 1.0000 - val_loss: 0.1307 - val_accuracy: 0.9640\n",
      "Epoch 40/50\n",
      " - 0s - loss: 0.0019 - accuracy: 1.0000 - val_loss: 0.1302 - val_accuracy: 0.9640\n",
      "Epoch 41/50\n",
      " - 0s - loss: 0.0018 - accuracy: 1.0000 - val_loss: 0.1306 - val_accuracy: 0.9640\n",
      "Epoch 42/50\n",
      " - 0s - loss: 0.0017 - accuracy: 1.0000 - val_loss: 0.1310 - val_accuracy: 0.9640\n",
      "Epoch 43/50\n",
      " - 0s - loss: 0.0016 - accuracy: 1.0000 - val_loss: 0.1311 - val_accuracy: 0.9640\n",
      "Epoch 44/50\n",
      " - 0s - loss: 0.0015 - accuracy: 1.0000 - val_loss: 0.1309 - val_accuracy: 0.9640\n",
      "Epoch 45/50\n",
      " - 0s - loss: 0.0015 - accuracy: 1.0000 - val_loss: 0.1313 - val_accuracy: 0.9640\n",
      "Epoch 46/50\n",
      " - 0s - loss: 0.0014 - accuracy: 1.0000 - val_loss: 0.1309 - val_accuracy: 0.9640\n",
      "Epoch 47/50\n",
      " - 0s - loss: 0.0013 - accuracy: 1.0000 - val_loss: 0.1317 - val_accuracy: 0.9640\n",
      "Epoch 48/50\n",
      " - 0s - loss: 0.0013 - accuracy: 1.0000 - val_loss: 0.1320 - val_accuracy: 0.9640\n",
      "Epoch 49/50\n",
      " - 0s - loss: 0.0012 - accuracy: 1.0000 - val_loss: 0.1321 - val_accuracy: 0.9640\n",
      "Epoch 50/50\n",
      " - 0s - loss: 0.0012 - accuracy: 1.0000 - val_loss: 0.1319 - val_accuracy: 0.9640\n"
     ]
    }
   ],
   "source": [
    "history = model2.fit(X_train_ss, y_train, validation_data=(X_test_ss, y_test), batch_size=32, epochs = 50, verbose=2)"
   ]
  },
  {
   "cell_type": "code",
   "execution_count": 30,
   "metadata": {
    "scrolled": false
   },
   "outputs": [
    {
     "data": {
      "text/plain": [
       "<matplotlib.legend.Legend at 0x205188bd5f8>"
      ]
     },
     "execution_count": 30,
     "metadata": {},
     "output_type": "execute_result"
    },
    {
     "data": {
      "image/png": "[encoded data removed]",
      "text/plain": [
       "<Figure size 432x288 with 1 Axes>"
      ]
     },
     "metadata": {
      "needs_background": "light"
     },
     "output_type": "display_data"
    }
   ],
   "source": [
    "plt.plot(history.history['loss'], label = ' Training Loss')\n",
    "plt.plot(history.history['val_loss'], label = ' Test Loss')\n",
    "plt.legend()"
   ]
  },
  {
   "cell_type": "code",
   "execution_count": 31,
   "metadata": {},
   "outputs": [
    {
     "data": {
      "text/plain": [
       "<matplotlib.legend.Legend at 0x2052b403940>"
      ]
     },
     "execution_count": 31,
     "metadata": {},
     "output_type": "execute_result"
    },
    {
     "data": {
      "image/png": "[encoded data removed]",
      "text/plain": [
       "<Figure size 432x288 with 1 Axes>"
      ]
     },
     "metadata": {
      "needs_background": "light"
     },
     "output_type": "display_data"
    }
   ],
   "source": [
    "plt.plot(history.history['accuracy'], label = ' Training Accuracy')\n",
    "plt.plot(history.history['val_accuracy'], label = ' Test Accuracy')\n",
    "plt.legend()"
   ]
  },
  {
   "cell_type": "markdown",
   "metadata": {},
   "source": [
    "**CNN**"
   ]
  },
  {
   "cell_type": "code",
   "execution_count": 32,
   "metadata": {},
   "outputs": [],
   "source": [
    "X = np.array(features_df['mel'].tolist())"
   ]
  },
  {
   "cell_type": "code",
   "execution_count": 33,
   "metadata": {},
   "outputs": [
    {
     "data": {
      "text/plain": [
       "(553, 128, 39)"
      ]
     },
     "execution_count": 33,
     "metadata": {},
     "output_type": "execute_result"
    }
   ],
   "source": [
    "X.shape"
   ]
  },
  {
   "cell_type": "code",
   "execution_count": 34,
   "metadata": {},
   "outputs": [],
   "source": [
    "le = LabelEncoder()\n",
    "y = to_categorical(le.fit_transform(features_df['class_label'].tolist()))\n",
    "y = np.array(y)"
   ]
  },
  {
   "cell_type": "code",
   "execution_count": 35,
   "metadata": {},
   "outputs": [
    {
     "data": {
      "text/plain": [
       "(553, 128, 39)"
      ]
     },
     "execution_count": 35,
     "metadata": {},
     "output_type": "execute_result"
    }
   ],
   "source": [
    "X.shape"
   ]
  },
  {
   "cell_type": "code",
   "execution_count": 36,
   "metadata": {},
   "outputs": [],
   "source": [
    "X_train, X_test, y_train, y_test = train_test_split(X, y, test_size = 0.2, random_state = 42, stratify = y)"
   ]
  },
  {
   "cell_type": "code",
   "execution_count": 37,
   "metadata": {},
   "outputs": [
    {
     "data": {
      "text/plain": [
       "(442, 128, 39)"
      ]
     },
     "execution_count": 37,
     "metadata": {},
     "output_type": "execute_result"
    }
   ],
   "source": [
    "X_train.shape"
   ]
  },
  {
   "cell_type": "code",
   "execution_count": 38,
   "metadata": {},
   "outputs": [
    {
     "data": {
      "text/plain": [
       "(442, 128, 39)"
      ]
     },
     "execution_count": 38,
     "metadata": {},
     "output_type": "execute_result"
    }
   ],
   "source": [
    "X_train.shape"
   ]
  },
  {
   "cell_type": "code",
   "execution_count": 39,
   "metadata": {},
   "outputs": [],
   "source": [
    "X_train = X_train.reshape(X_train.shape[0], 128, 39, 1)\n",
    "X_test = X_test.reshape(X_test.shape[0], 128, 39, 1)"
   ]
  },
  {
   "cell_type": "code",
   "execution_count": 40,
   "metadata": {},
   "outputs": [],
   "source": [
    "model3 = Sequential()\n",
    "model3.add(Conv2D(filters = 6, kernel_size=3, activation = 'relu', input_shape = (128,39,1), padding = 'same'))\n",
    "model3.add(MaxPooling2D(pool_size= (2,2), padding='same'))\n",
    "model3.add(Conv2D(32, kernel_size=3, activation='relu'))\n",
    "model3.add(MaxPooling2D(pool_size=(2,2), padding='same'))\n",
    "model3.add(Flatten())\n",
    "model3.add(Dense(64, activation = 'relu'))\n",
    "model3.add(Dense(32, activation = 'relu'))\n",
    "model3.add(Dense(5, activation = 'softmax'))"
   ]
  },
  {
   "cell_type": "code",
   "execution_count": 41,
   "metadata": {},
   "outputs": [],
   "source": [
    "model3.compile(loss='categorical_crossentropy',\n",
    "                  optimizer='adam',\n",
    "                  metrics=['accuracy'])"
   ]
  },
  {
   "cell_type": "code",
   "execution_count": 42,
   "metadata": {
    "scrolled": true
   },
   "outputs": [
    {
     "name": "stdout",
     "output_type": "stream",
     "text": [
      "Model: \"sequential_3\"\n",
      "_________________________________________________________________\n",
      "Layer (type)                 Output Shape              Param #   \n",
      "=================================================================\n",
      "conv2d_1 (Conv2D)            (None, 128, 39, 6)        60        \n",
      "_________________________________________________________________\n",
      "max_pooling2d_1 (MaxPooling2 (None, 64, 20, 6)         0         \n",
      "_________________________________________________________________\n",
      "conv2d_2 (Conv2D)            (None, 62, 18, 32)        1760      \n",
      "_________________________________________________________________\n",
      "max_pooling2d_2 (MaxPooling2 (None, 31, 9, 32)         0         \n",
      "_________________________________________________________________\n",
      "flatten_1 (Flatten)          (None, 8928)              0         \n",
      "_________________________________________________________________\n",
      "dense_7 (Dense)              (None, 64)                571456    \n",
      "_________________________________________________________________\n",
      "dense_8 (Dense)              (None, 32)                2080      \n",
      "_________________________________________________________________\n",
      "dense_9 (Dense)              (None, 5)                 165       \n",
      "=================================================================\n",
      "Total params: 575,521\n",
      "Trainable params: 575,521\n",
      "Non-trainable params: 0\n",
      "_________________________________________________________________\n"
     ]
    }
   ],
   "source": [
    "model3.summary()"
   ]
  },
  {
   "cell_type": "code",
   "execution_count": 43,
   "metadata": {
    "scrolled": true
   },
   "outputs": [
    {
     "name": "stdout",
     "output_type": "stream",
     "text": [
      "Train on 442 samples, validate on 111 samples\n",
      "Epoch 1/100\n",
      " - 6s - loss: 8.8976 - accuracy: 0.4072 - val_loss: 3.2411 - val_accuracy: 0.5856\n",
      "Epoch 2/100\n",
      " - 0s - loss: 1.5904 - accuracy: 0.6267 - val_loss: 1.3449 - val_accuracy: 0.6126\n",
      "Epoch 3/100\n",
      " - 0s - loss: 0.7726 - accuracy: 0.6946 - val_loss: 1.1066 - val_accuracy: 0.6577\n",
      "Epoch 4/100\n",
      " - 0s - loss: 0.5325 - accuracy: 0.7851 - val_loss: 0.9644 - val_accuracy: 0.6216\n",
      "Epoch 5/100\n",
      " - 0s - loss: 0.3696 - accuracy: 0.8507 - val_loss: 0.9527 - val_accuracy: 0.6937\n",
      "Epoch 6/100\n",
      " - 0s - loss: 0.3146 - accuracy: 0.8801 - val_loss: 0.7831 - val_accuracy: 0.7027\n",
      "Epoch 7/100\n",
      " - 0s - loss: 0.2738 - accuracy: 0.9072 - val_loss: 0.7701 - val_accuracy: 0.7207\n",
      "Epoch 8/100\n",
      " - 0s - loss: 0.2091 - accuracy: 0.9163 - val_loss: 0.7678 - val_accuracy: 0.7027\n",
      "Epoch 9/100\n",
      " - 0s - loss: 0.1631 - accuracy: 0.9615 - val_loss: 0.7106 - val_accuracy: 0.7568\n",
      "Epoch 10/100\n",
      " - 0s - loss: 0.1333 - accuracy: 0.9706 - val_loss: 0.6874 - val_accuracy: 0.7568\n",
      "Epoch 11/100\n",
      " - 0s - loss: 0.1129 - accuracy: 0.9706 - val_loss: 0.6958 - val_accuracy: 0.7748\n",
      "Epoch 12/100\n",
      " - 0s - loss: 0.0965 - accuracy: 0.9774 - val_loss: 0.6861 - val_accuracy: 0.7838\n",
      "Epoch 13/100\n",
      " - 0s - loss: 0.0828 - accuracy: 0.9819 - val_loss: 0.7283 - val_accuracy: 0.7928\n",
      "Epoch 14/100\n",
      " - 0s - loss: 0.0724 - accuracy: 0.9864 - val_loss: 0.7820 - val_accuracy: 0.7928\n",
      "Epoch 15/100\n",
      " - 0s - loss: 0.0624 - accuracy: 0.9887 - val_loss: 0.7392 - val_accuracy: 0.8198\n",
      "Epoch 16/100\n",
      " - 0s - loss: 0.0522 - accuracy: 0.9887 - val_loss: 0.7580 - val_accuracy: 0.8198\n",
      "Epoch 17/100\n",
      " - 0s - loss: 0.0449 - accuracy: 0.9910 - val_loss: 0.7586 - val_accuracy: 0.8288\n",
      "Epoch 18/100\n",
      " - 0s - loss: 0.0380 - accuracy: 0.9932 - val_loss: 0.7906 - val_accuracy: 0.8288\n",
      "Epoch 19/100\n",
      " - 0s - loss: 0.0331 - accuracy: 0.9977 - val_loss: 0.7555 - val_accuracy: 0.8198\n",
      "Epoch 20/100\n",
      " - 0s - loss: 0.0286 - accuracy: 0.9955 - val_loss: 0.7966 - val_accuracy: 0.8378\n",
      "Epoch 21/100\n",
      " - 0s - loss: 0.0243 - accuracy: 1.0000 - val_loss: 0.7658 - val_accuracy: 0.8378\n",
      "Epoch 22/100\n",
      " - 0s - loss: 0.0217 - accuracy: 1.0000 - val_loss: 0.7805 - val_accuracy: 0.8288\n",
      "Epoch 23/100\n",
      " - 0s - loss: 0.0198 - accuracy: 1.0000 - val_loss: 0.7695 - val_accuracy: 0.8468\n",
      "Epoch 24/100\n",
      " - 0s - loss: 0.0178 - accuracy: 1.0000 - val_loss: 0.7976 - val_accuracy: 0.8468\n",
      "Epoch 25/100\n",
      " - 0s - loss: 0.0165 - accuracy: 1.0000 - val_loss: 0.8008 - val_accuracy: 0.8649\n",
      "Epoch 26/100\n",
      " - 0s - loss: 0.0137 - accuracy: 1.0000 - val_loss: 0.7885 - val_accuracy: 0.8649\n",
      "Epoch 27/100\n",
      " - 0s - loss: 0.0122 - accuracy: 1.0000 - val_loss: 0.8347 - val_accuracy: 0.8198\n",
      "Epoch 28/100\n",
      " - 0s - loss: 0.0104 - accuracy: 1.0000 - val_loss: 0.8012 - val_accuracy: 0.8378\n",
      "Epoch 29/100\n",
      " - 0s - loss: 0.0092 - accuracy: 1.0000 - val_loss: 0.8238 - val_accuracy: 0.8378\n",
      "Epoch 30/100\n",
      " - 0s - loss: 0.0080 - accuracy: 1.0000 - val_loss: 0.8237 - val_accuracy: 0.8378\n",
      "Epoch 31/100\n",
      " - 0s - loss: 0.0075 - accuracy: 1.0000 - val_loss: 0.8285 - val_accuracy: 0.8468\n",
      "Epoch 32/100\n",
      " - 0s - loss: 0.0069 - accuracy: 1.0000 - val_loss: 0.8377 - val_accuracy: 0.8559\n",
      "Epoch 33/100\n",
      " - 0s - loss: 0.0061 - accuracy: 1.0000 - val_loss: 0.8372 - val_accuracy: 0.8468\n",
      "Epoch 34/100\n",
      " - 0s - loss: 0.0056 - accuracy: 1.0000 - val_loss: 0.8497 - val_accuracy: 0.8468\n",
      "Epoch 35/100\n",
      " - 0s - loss: 0.0051 - accuracy: 1.0000 - val_loss: 0.8607 - val_accuracy: 0.8378\n",
      "Epoch 36/100\n",
      " - 0s - loss: 0.0047 - accuracy: 1.0000 - val_loss: 0.8496 - val_accuracy: 0.8649\n",
      "Epoch 37/100\n",
      " - 0s - loss: 0.0044 - accuracy: 1.0000 - val_loss: 0.8526 - val_accuracy: 0.8649\n",
      "Epoch 38/100\n",
      " - 0s - loss: 0.0041 - accuracy: 1.0000 - val_loss: 0.8650 - val_accuracy: 0.8468\n",
      "Epoch 39/100\n",
      " - 0s - loss: 0.0038 - accuracy: 1.0000 - val_loss: 0.8488 - val_accuracy: 0.8649\n",
      "Epoch 40/100\n",
      " - 0s - loss: 0.0035 - accuracy: 1.0000 - val_loss: 0.8533 - val_accuracy: 0.8559\n",
      "Epoch 41/100\n",
      " - 0s - loss: 0.0033 - accuracy: 1.0000 - val_loss: 0.8599 - val_accuracy: 0.8649\n",
      "Epoch 42/100\n",
      " - 0s - loss: 0.0031 - accuracy: 1.0000 - val_loss: 0.8616 - val_accuracy: 0.8649\n",
      "Epoch 43/100\n",
      " - 0s - loss: 0.0029 - accuracy: 1.0000 - val_loss: 0.8525 - val_accuracy: 0.8559\n",
      "Epoch 44/100\n",
      " - 0s - loss: 0.0027 - accuracy: 1.0000 - val_loss: 0.8559 - val_accuracy: 0.8559\n",
      "Epoch 45/100\n",
      " - 0s - loss: 0.0026 - accuracy: 1.0000 - val_loss: 0.8670 - val_accuracy: 0.8649\n",
      "Epoch 46/100\n",
      " - 0s - loss: 0.0024 - accuracy: 1.0000 - val_loss: 0.8535 - val_accuracy: 0.8468\n",
      "Epoch 47/100\n",
      " - 0s - loss: 0.0023 - accuracy: 1.0000 - val_loss: 0.8662 - val_accuracy: 0.8559\n",
      "Epoch 48/100\n",
      " - 0s - loss: 0.0022 - accuracy: 1.0000 - val_loss: 0.8633 - val_accuracy: 0.8378\n",
      "Epoch 49/100\n",
      " - 0s - loss: 0.0020 - accuracy: 1.0000 - val_loss: 0.8643 - val_accuracy: 0.8468\n",
      "Epoch 50/100\n",
      " - 0s - loss: 0.0019 - accuracy: 1.0000 - val_loss: 0.8703 - val_accuracy: 0.8468\n",
      "Epoch 51/100\n",
      " - 0s - loss: 0.0018 - accuracy: 1.0000 - val_loss: 0.8650 - val_accuracy: 0.8468\n",
      "Epoch 52/100\n",
      " - 0s - loss: 0.0017 - accuracy: 1.0000 - val_loss: 0.8791 - val_accuracy: 0.8559\n",
      "Epoch 53/100\n",
      " - 0s - loss: 0.0017 - accuracy: 1.0000 - val_loss: 0.8754 - val_accuracy: 0.8649\n",
      "Epoch 54/100\n",
      " - 0s - loss: 0.0016 - accuracy: 1.0000 - val_loss: 0.8785 - val_accuracy: 0.8649\n",
      "Epoch 55/100\n",
      " - 0s - loss: 0.0015 - accuracy: 1.0000 - val_loss: 0.8825 - val_accuracy: 0.8559\n",
      "Epoch 56/100\n",
      " - 0s - loss: 0.0014 - accuracy: 1.0000 - val_loss: 0.8759 - val_accuracy: 0.8559\n",
      "Epoch 57/100\n",
      " - 0s - loss: 0.0014 - accuracy: 1.0000 - val_loss: 0.8830 - val_accuracy: 0.8649\n",
      "Epoch 58/100\n",
      " - 0s - loss: 0.0013 - accuracy: 1.0000 - val_loss: 0.8722 - val_accuracy: 0.8649\n",
      "Epoch 59/100\n",
      " - 0s - loss: 0.0013 - accuracy: 1.0000 - val_loss: 0.8927 - val_accuracy: 0.8649\n",
      "Epoch 60/100\n",
      " - 0s - loss: 0.0012 - accuracy: 1.0000 - val_loss: 0.8795 - val_accuracy: 0.8649\n",
      "Epoch 61/100\n",
      " - 0s - loss: 0.0012 - accuracy: 1.0000 - val_loss: 0.8894 - val_accuracy: 0.8649\n",
      "Epoch 62/100\n",
      " - 0s - loss: 0.0011 - accuracy: 1.0000 - val_loss: 0.8979 - val_accuracy: 0.8649\n",
      "Epoch 63/100\n",
      " - 0s - loss: 0.0011 - accuracy: 1.0000 - val_loss: 0.8856 - val_accuracy: 0.8649\n",
      "Epoch 64/100\n",
      " - 0s - loss: 0.0010 - accuracy: 1.0000 - val_loss: 0.8914 - val_accuracy: 0.8559\n",
      "Epoch 65/100\n",
      " - 0s - loss: 9.8432e-04 - accuracy: 1.0000 - val_loss: 0.8960 - val_accuracy: 0.8559\n",
      "Epoch 66/100\n",
      " - 0s - loss: 9.5850e-04 - accuracy: 1.0000 - val_loss: 0.9055 - val_accuracy: 0.8649\n",
      "Epoch 67/100\n",
      " - 0s - loss: 9.1207e-04 - accuracy: 1.0000 - val_loss: 0.8974 - val_accuracy: 0.8649\n",
      "Epoch 68/100\n",
      " - 0s - loss: 8.8917e-04 - accuracy: 1.0000 - val_loss: 0.8993 - val_accuracy: 0.8559\n",
      "Epoch 69/100\n",
      " - 0s - loss: 8.6135e-04 - accuracy: 1.0000 - val_loss: 0.9100 - val_accuracy: 0.8649\n",
      "Epoch 70/100\n",
      " - 0s - loss: 8.2570e-04 - accuracy: 1.0000 - val_loss: 0.9046 - val_accuracy: 0.8559\n",
      "Epoch 71/100\n",
      " - 0s - loss: 7.9921e-04 - accuracy: 1.0000 - val_loss: 0.9135 - val_accuracy: 0.8649\n",
      "Epoch 72/100\n",
      " - 0s - loss: 7.6513e-04 - accuracy: 1.0000 - val_loss: 0.9149 - val_accuracy: 0.8649\n",
      "Epoch 73/100\n",
      " - 0s - loss: 7.4062e-04 - accuracy: 1.0000 - val_loss: 0.9124 - val_accuracy: 0.8649\n",
      "Epoch 74/100\n",
      " - 0s - loss: 7.1823e-04 - accuracy: 1.0000 - val_loss: 0.9171 - val_accuracy: 0.8649\n",
      "Epoch 75/100\n",
      " - 0s - loss: 6.9581e-04 - accuracy: 1.0000 - val_loss: 0.9206 - val_accuracy: 0.8649\n",
      "Epoch 76/100\n",
      " - 0s - loss: 6.7420e-04 - accuracy: 1.0000 - val_loss: 0.9235 - val_accuracy: 0.8829\n",
      "Epoch 77/100\n",
      " - 0s - loss: 6.5828e-04 - accuracy: 1.0000 - val_loss: 0.9220 - val_accuracy: 0.8739\n",
      "Epoch 78/100\n",
      " - 0s - loss: 6.3508e-04 - accuracy: 1.0000 - val_loss: 0.9248 - val_accuracy: 0.8739\n",
      "Epoch 79/100\n",
      " - 0s - loss: 6.1641e-04 - accuracy: 1.0000 - val_loss: 0.9334 - val_accuracy: 0.8829\n",
      "Epoch 80/100\n",
      " - 0s - loss: 5.9987e-04 - accuracy: 1.0000 - val_loss: 0.9320 - val_accuracy: 0.8829\n",
      "Epoch 81/100\n",
      " - 0s - loss: 5.8511e-04 - accuracy: 1.0000 - val_loss: 0.9369 - val_accuracy: 0.8829\n",
      "Epoch 82/100\n",
      " - 0s - loss: 5.6322e-04 - accuracy: 1.0000 - val_loss: 0.9385 - val_accuracy: 0.8829\n",
      "Epoch 83/100\n",
      " - 0s - loss: 5.5019e-04 - accuracy: 1.0000 - val_loss: 0.9330 - val_accuracy: 0.8829\n",
      "Epoch 84/100\n",
      " - 0s - loss: 5.3515e-04 - accuracy: 1.0000 - val_loss: 0.9412 - val_accuracy: 0.8829\n",
      "Epoch 85/100\n",
      " - 0s - loss: 5.2251e-04 - accuracy: 1.0000 - val_loss: 0.9420 - val_accuracy: 0.8739\n"
     ]
    },
    {
     "name": "stdout",
     "output_type": "stream",
     "text": [
      "Epoch 86/100\n",
      " - 0s - loss: 5.0524e-04 - accuracy: 1.0000 - val_loss: 0.9502 - val_accuracy: 0.8829\n",
      "Epoch 87/100\n",
      " - 0s - loss: 4.9271e-04 - accuracy: 1.0000 - val_loss: 0.9550 - val_accuracy: 0.8829\n",
      "Epoch 88/100\n",
      " - 0s - loss: 4.7919e-04 - accuracy: 1.0000 - val_loss: 0.9532 - val_accuracy: 0.8739\n",
      "Epoch 89/100\n",
      " - 0s - loss: 4.6878e-04 - accuracy: 1.0000 - val_loss: 0.9577 - val_accuracy: 0.8829\n",
      "Epoch 90/100\n",
      " - 0s - loss: 4.5391e-04 - accuracy: 1.0000 - val_loss: 0.9554 - val_accuracy: 0.8739\n",
      "Epoch 91/100\n",
      " - 0s - loss: 4.5114e-04 - accuracy: 1.0000 - val_loss: 0.9497 - val_accuracy: 0.8649\n",
      "Epoch 92/100\n",
      " - 0s - loss: 4.3369e-04 - accuracy: 1.0000 - val_loss: 0.9570 - val_accuracy: 0.8829\n",
      "Epoch 93/100\n",
      " - 0s - loss: 4.2056e-04 - accuracy: 1.0000 - val_loss: 0.9640 - val_accuracy: 0.8739\n",
      "Epoch 94/100\n",
      " - 0s - loss: 4.1310e-04 - accuracy: 1.0000 - val_loss: 0.9582 - val_accuracy: 0.8649\n",
      "Epoch 95/100\n",
      " - 0s - loss: 4.0589e-04 - accuracy: 1.0000 - val_loss: 0.9601 - val_accuracy: 0.8739\n",
      "Epoch 96/100\n",
      " - 0s - loss: 3.9120e-04 - accuracy: 1.0000 - val_loss: 0.9674 - val_accuracy: 0.8739\n",
      "Epoch 97/100\n",
      " - 0s - loss: 3.8083e-04 - accuracy: 1.0000 - val_loss: 0.9716 - val_accuracy: 0.8739\n",
      "Epoch 98/100\n",
      " - 0s - loss: 3.6992e-04 - accuracy: 1.0000 - val_loss: 0.9712 - val_accuracy: 0.8739\n",
      "Epoch 99/100\n",
      " - 0s - loss: 3.6110e-04 - accuracy: 1.0000 - val_loss: 0.9772 - val_accuracy: 0.8649\n",
      "Epoch 100/100\n",
      " - 0s - loss: 3.5348e-04 - accuracy: 1.0000 - val_loss: 0.9785 - val_accuracy: 0.8649\n"
     ]
    }
   ],
   "source": [
    "history = model3.fit(X_train,\n",
    "                        y_train,\n",
    "                        batch_size=32,\n",
    "                        validation_data=(X_test, y_test),\n",
    "                        epochs=100,\n",
    "                        verbose=2)"
   ]
  },
  {
   "cell_type": "code",
   "execution_count": 44,
   "metadata": {
    "scrolled": true
   },
   "outputs": [
    {
     "data": {
      "text/plain": [
       "<matplotlib.legend.Legend at 0x20670ba6390>"
      ]
     },
     "execution_count": 44,
     "metadata": {},
     "output_type": "execute_result"
    },
    {
     "data": {
      "image/png": "[encoded data removed]",
      "text/plain": [
       "<Figure size 432x288 with 1 Axes>"
      ]
     },
     "metadata": {
      "needs_background": "light"
     },
     "output_type": "display_data"
    }
   ],
   "source": [
    "plt.plot(history.history['loss'], label = ' Training Loss')\n",
    "plt.plot(history.history['val_loss'], label = ' Test Loss')\n",
    "plt.legend()"
   ]
  },
  {
   "cell_type": "code",
   "execution_count": 45,
   "metadata": {
    "scrolled": true
   },
   "outputs": [
    {
     "data": {
      "text/plain": [
       "<matplotlib.legend.Legend at 0x20670bec908>"
      ]
     },
     "execution_count": 45,
     "metadata": {},
     "output_type": "execute_result"
    },
    {
     "data": {
      "image/png": "[encoded data removed]",
      "text/plain": [
       "<Figure size 432x288 with 1 Axes>"
      ]
     },
     "metadata": {
      "needs_background": "light"
     },
     "output_type": "display_data"
    }
   ],
   "source": [
    "plt.plot(history.history['accuracy'], label = ' Training Accuracy')\n",
    "plt.plot(history.history['val_accuracy'], label = ' Test Accuracy')\n",
    "plt.legend()"
   ]
  },
  {
   "cell_type": "markdown",
   "metadata": {},
   "source": [
    "model 4"
   ]
  },
  {
   "cell_type": "code",
   "execution_count": 46,
   "metadata": {},
   "outputs": [
    {
     "data": {
      "text/plain": [
       "(553, 128, 39)"
      ]
     },
     "execution_count": 46,
     "metadata": {},
     "output_type": "execute_result"
    }
   ],
   "source": [
    "X.shape"
   ]
  },
  {
   "cell_type": "code",
   "execution_count": 47,
   "metadata": {},
   "outputs": [],
   "source": [
    "le = LabelEncoder()\n",
    "y = to_categorical(le.fit_transform(features_df['class_label'].tolist()))\n",
    "y = np.array(y)"
   ]
  },
  {
   "cell_type": "code",
   "execution_count": 48,
   "metadata": {},
   "outputs": [
    {
     "data": {
      "text/plain": [
       "(553, 128, 39)"
      ]
     },
     "execution_count": 48,
     "metadata": {},
     "output_type": "execute_result"
    }
   ],
   "source": [
    "X.shape"
   ]
  },
  {
   "cell_type": "code",
   "execution_count": 49,
   "metadata": {},
   "outputs": [],
   "source": [
    "X_train, X_test, y_train, y_test = train_test_split(X, y, test_size = 0.2, random_state = 42, stratify = y)"
   ]
  },
  {
   "cell_type": "code",
   "execution_count": 50,
   "metadata": {},
   "outputs": [
    {
     "data": {
      "text/plain": [
       "(442, 128, 39)"
      ]
     },
     "execution_count": 50,
     "metadata": {},
     "output_type": "execute_result"
    }
   ],
   "source": [
    "X_train.shape"
   ]
  },
  {
   "cell_type": "code",
   "execution_count": 51,
   "metadata": {},
   "outputs": [],
   "source": [
    "model4 = Sequential()\n",
    "model4.add(Conv1D(filters = 12, kernel_size=3, activation = 'relu', input_shape = (128,39), padding = 'same'))\n",
    "model4.add(MaxPooling1D(pool_size= 2, padding='same'))\n",
    "model4.add(Conv1D(32, kernel_size=3, activation='relu'))\n",
    "model4.add(MaxPooling1D(pool_size=2, padding='same'))\n",
    "model4.add(Flatten())\n",
    "model4.add(Dense(64, activation = 'relu'))\n",
    "model4.add(Dense(64, activation = 'relu'))\n",
    "model4.add(Dense(5, activation = 'softmax'))"
   ]
  },
  {
   "cell_type": "code",
   "execution_count": 52,
   "metadata": {},
   "outputs": [],
   "source": [
    "model4.compile(loss='categorical_crossentropy',\n",
    "                  optimizer='adam',\n",
    "                  metrics=['accuracy'])"
   ]
  },
  {
   "cell_type": "code",
   "execution_count": 53,
   "metadata": {
    "scrolled": true
   },
   "outputs": [
    {
     "name": "stdout",
     "output_type": "stream",
     "text": [
      "Model: \"sequential_4\"\n",
      "_________________________________________________________________\n",
      "Layer (type)                 Output Shape              Param #   \n",
      "=================================================================\n",
      "conv1d_1 (Conv1D)            (None, 128, 12)           1416      \n",
      "_________________________________________________________________\n",
      "max_pooling1d_1 (MaxPooling1 (None, 64, 12)            0         \n",
      "_________________________________________________________________\n",
      "conv1d_2 (Conv1D)            (None, 62, 32)            1184      \n",
      "_________________________________________________________________\n",
      "max_pooling1d_2 (MaxPooling1 (None, 31, 32)            0         \n",
      "_________________________________________________________________\n",
      "flatten_2 (Flatten)          (None, 992)               0         \n",
      "_________________________________________________________________\n",
      "dense_10 (Dense)             (None, 64)                63552     \n",
      "_________________________________________________________________\n",
      "dense_11 (Dense)             (None, 64)                4160      \n",
      "_________________________________________________________________\n",
      "dense_12 (Dense)             (None, 5)                 325       \n",
      "=================================================================\n",
      "Total params: 70,637\n",
      "Trainable params: 70,637\n",
      "Non-trainable params: 0\n",
      "_________________________________________________________________\n"
     ]
    }
   ],
   "source": [
    "model4.summary()"
   ]
  },
  {
   "cell_type": "code",
   "execution_count": 54,
   "metadata": {
    "scrolled": true
   },
   "outputs": [
    {
     "name": "stdout",
     "output_type": "stream",
     "text": [
      "Train on 442 samples, validate on 111 samples\n",
      "Epoch 1/100\n",
      " - 1s - loss: 9.7790 - accuracy: 0.3100 - val_loss: 5.2407 - val_accuracy: 0.4144\n",
      "Epoch 2/100\n",
      " - 0s - loss: 2.8146 - accuracy: 0.5204 - val_loss: 3.2077 - val_accuracy: 0.4595\n",
      "Epoch 3/100\n",
      " - 0s - loss: 1.2970 - accuracy: 0.6674 - val_loss: 2.6732 - val_accuracy: 0.5586\n",
      "Epoch 4/100\n",
      " - 0s - loss: 0.5859 - accuracy: 0.7941 - val_loss: 2.2901 - val_accuracy: 0.5045\n",
      "Epoch 5/100\n",
      " - 0s - loss: 0.3533 - accuracy: 0.8778 - val_loss: 2.1847 - val_accuracy: 0.5676\n",
      "Epoch 6/100\n",
      " - 0s - loss: 0.2391 - accuracy: 0.9321 - val_loss: 2.1011 - val_accuracy: 0.5495\n",
      "Epoch 7/100\n",
      " - 0s - loss: 0.1591 - accuracy: 0.9615 - val_loss: 2.2282 - val_accuracy: 0.5856\n",
      "Epoch 8/100\n",
      " - 0s - loss: 0.1067 - accuracy: 0.9774 - val_loss: 2.1953 - val_accuracy: 0.5946\n",
      "Epoch 9/100\n",
      " - 0s - loss: 0.0774 - accuracy: 0.9842 - val_loss: 2.2220 - val_accuracy: 0.6036\n",
      "Epoch 10/100\n",
      " - 0s - loss: 0.0614 - accuracy: 0.9887 - val_loss: 2.2347 - val_accuracy: 0.6216\n",
      "Epoch 11/100\n",
      " - 0s - loss: 0.0484 - accuracy: 0.9955 - val_loss: 2.2446 - val_accuracy: 0.6216\n",
      "Epoch 12/100\n",
      " - 0s - loss: 0.0386 - accuracy: 0.9977 - val_loss: 2.2356 - val_accuracy: 0.6216\n",
      "Epoch 13/100\n",
      " - 0s - loss: 0.0324 - accuracy: 0.9977 - val_loss: 2.3063 - val_accuracy: 0.6126\n",
      "Epoch 14/100\n",
      " - 0s - loss: 0.0267 - accuracy: 1.0000 - val_loss: 2.3053 - val_accuracy: 0.6126\n",
      "Epoch 15/100\n",
      " - 0s - loss: 0.0228 - accuracy: 1.0000 - val_loss: 2.3201 - val_accuracy: 0.6036\n",
      "Epoch 16/100\n",
      " - 0s - loss: 0.0198 - accuracy: 1.0000 - val_loss: 2.3594 - val_accuracy: 0.6036\n",
      "Epoch 17/100\n",
      " - 0s - loss: 0.0175 - accuracy: 1.0000 - val_loss: 2.3770 - val_accuracy: 0.6036\n",
      "Epoch 18/100\n",
      " - 0s - loss: 0.0157 - accuracy: 1.0000 - val_loss: 2.3944 - val_accuracy: 0.6126\n",
      "Epoch 19/100\n",
      " - 0s - loss: 0.0141 - accuracy: 1.0000 - val_loss: 2.3923 - val_accuracy: 0.6126\n",
      "Epoch 20/100\n",
      " - 0s - loss: 0.0128 - accuracy: 1.0000 - val_loss: 2.4346 - val_accuracy: 0.6216\n",
      "Epoch 21/100\n",
      " - 0s - loss: 0.0115 - accuracy: 1.0000 - val_loss: 2.4310 - val_accuracy: 0.6216\n",
      "Epoch 22/100\n",
      " - 0s - loss: 0.0106 - accuracy: 1.0000 - val_loss: 2.4610 - val_accuracy: 0.6216\n",
      "Epoch 23/100\n",
      " - 0s - loss: 0.0097 - accuracy: 1.0000 - val_loss: 2.4607 - val_accuracy: 0.6216\n",
      "Epoch 24/100\n",
      " - 0s - loss: 0.0090 - accuracy: 1.0000 - val_loss: 2.4676 - val_accuracy: 0.6216\n",
      "Epoch 25/100\n",
      " - 0s - loss: 0.0082 - accuracy: 1.0000 - val_loss: 2.4887 - val_accuracy: 0.6306\n",
      "Epoch 26/100\n",
      " - 0s - loss: 0.0077 - accuracy: 1.0000 - val_loss: 2.4961 - val_accuracy: 0.6306\n",
      "Epoch 27/100\n",
      " - 0s - loss: 0.0071 - accuracy: 1.0000 - val_loss: 2.5028 - val_accuracy: 0.6396\n",
      "Epoch 28/100\n",
      " - 0s - loss: 0.0066 - accuracy: 1.0000 - val_loss: 2.5213 - val_accuracy: 0.6306\n",
      "Epoch 29/100\n",
      " - 0s - loss: 0.0062 - accuracy: 1.0000 - val_loss: 2.5311 - val_accuracy: 0.6396\n",
      "Epoch 30/100\n",
      " - 0s - loss: 0.0058 - accuracy: 1.0000 - val_loss: 2.5435 - val_accuracy: 0.6396\n",
      "Epoch 31/100\n",
      " - 0s - loss: 0.0054 - accuracy: 1.0000 - val_loss: 2.5453 - val_accuracy: 0.6486\n",
      "Epoch 32/100\n",
      " - 0s - loss: 0.0051 - accuracy: 1.0000 - val_loss: 2.5673 - val_accuracy: 0.6486\n",
      "Epoch 33/100\n",
      " - 0s - loss: 0.0048 - accuracy: 1.0000 - val_loss: 2.5766 - val_accuracy: 0.6486\n",
      "Epoch 34/100\n",
      " - 0s - loss: 0.0045 - accuracy: 1.0000 - val_loss: 2.5735 - val_accuracy: 0.6577\n",
      "Epoch 35/100\n",
      " - 0s - loss: 0.0042 - accuracy: 1.0000 - val_loss: 2.6042 - val_accuracy: 0.6486\n",
      "Epoch 36/100\n",
      " - 0s - loss: 0.0040 - accuracy: 1.0000 - val_loss: 2.6045 - val_accuracy: 0.6486\n",
      "Epoch 37/100\n",
      " - 0s - loss: 0.0038 - accuracy: 1.0000 - val_loss: 2.6090 - val_accuracy: 0.6577\n",
      "Epoch 38/100\n",
      " - 0s - loss: 0.0036 - accuracy: 1.0000 - val_loss: 2.6156 - val_accuracy: 0.6577\n",
      "Epoch 39/100\n",
      " - 0s - loss: 0.0034 - accuracy: 1.0000 - val_loss: 2.6266 - val_accuracy: 0.6577\n",
      "Epoch 40/100\n",
      " - 0s - loss: 0.0033 - accuracy: 1.0000 - val_loss: 2.6320 - val_accuracy: 0.6577\n",
      "Epoch 41/100\n",
      " - 0s - loss: 0.0031 - accuracy: 1.0000 - val_loss: 2.6495 - val_accuracy: 0.6577\n",
      "Epoch 42/100\n",
      " - 0s - loss: 0.0030 - accuracy: 1.0000 - val_loss: 2.6601 - val_accuracy: 0.6577\n",
      "Epoch 43/100\n",
      " - 0s - loss: 0.0028 - accuracy: 1.0000 - val_loss: 2.6643 - val_accuracy: 0.6577\n",
      "Epoch 44/100\n",
      " - 0s - loss: 0.0027 - accuracy: 1.0000 - val_loss: 2.6731 - val_accuracy: 0.6577\n",
      "Epoch 45/100\n",
      " - 0s - loss: 0.0026 - accuracy: 1.0000 - val_loss: 2.6723 - val_accuracy: 0.6577\n",
      "Epoch 46/100\n",
      " - 0s - loss: 0.0025 - accuracy: 1.0000 - val_loss: 2.6922 - val_accuracy: 0.6577\n",
      "Epoch 47/100\n",
      " - 0s - loss: 0.0024 - accuracy: 1.0000 - val_loss: 2.6965 - val_accuracy: 0.6577\n",
      "Epoch 48/100\n",
      " - 0s - loss: 0.0023 - accuracy: 1.0000 - val_loss: 2.7011 - val_accuracy: 0.6667\n",
      "Epoch 49/100\n",
      " - 0s - loss: 0.0022 - accuracy: 1.0000 - val_loss: 2.7083 - val_accuracy: 0.6667\n",
      "Epoch 50/100\n",
      " - 0s - loss: 0.0021 - accuracy: 1.0000 - val_loss: 2.7146 - val_accuracy: 0.6577\n",
      "Epoch 51/100\n",
      " - 0s - loss: 0.0020 - accuracy: 1.0000 - val_loss: 2.7210 - val_accuracy: 0.6667\n",
      "Epoch 52/100\n",
      " - 0s - loss: 0.0020 - accuracy: 1.0000 - val_loss: 2.7364 - val_accuracy: 0.6577\n",
      "Epoch 53/100\n",
      " - 0s - loss: 0.0019 - accuracy: 1.0000 - val_loss: 2.7366 - val_accuracy: 0.6667\n",
      "Epoch 54/100\n",
      " - 0s - loss: 0.0018 - accuracy: 1.0000 - val_loss: 2.7515 - val_accuracy: 0.6667\n",
      "Epoch 55/100\n",
      " - 0s - loss: 0.0017 - accuracy: 1.0000 - val_loss: 2.7454 - val_accuracy: 0.6667\n",
      "Epoch 56/100\n",
      " - 0s - loss: 0.0017 - accuracy: 1.0000 - val_loss: 2.7544 - val_accuracy: 0.6667\n",
      "Epoch 57/100\n",
      " - 0s - loss: 0.0016 - accuracy: 1.0000 - val_loss: 2.7669 - val_accuracy: 0.6667\n",
      "Epoch 58/100\n",
      " - 0s - loss: 0.0016 - accuracy: 1.0000 - val_loss: 2.7771 - val_accuracy: 0.6667\n",
      "Epoch 59/100\n",
      " - 0s - loss: 0.0015 - accuracy: 1.0000 - val_loss: 2.7756 - val_accuracy: 0.6667\n",
      "Epoch 60/100\n",
      " - 0s - loss: 0.0015 - accuracy: 1.0000 - val_loss: 2.7827 - val_accuracy: 0.6667\n",
      "Epoch 61/100\n",
      " - 0s - loss: 0.0014 - accuracy: 1.0000 - val_loss: 2.7855 - val_accuracy: 0.6667\n",
      "Epoch 62/100\n",
      " - 0s - loss: 0.0014 - accuracy: 1.0000 - val_loss: 2.7973 - val_accuracy: 0.6667\n",
      "Epoch 63/100\n",
      " - 0s - loss: 0.0013 - accuracy: 1.0000 - val_loss: 2.7999 - val_accuracy: 0.6667\n",
      "Epoch 64/100\n",
      " - 0s - loss: 0.0013 - accuracy: 1.0000 - val_loss: 2.8029 - val_accuracy: 0.6667\n",
      "Epoch 65/100\n",
      " - 0s - loss: 0.0013 - accuracy: 1.0000 - val_loss: 2.8120 - val_accuracy: 0.6667\n",
      "Epoch 66/100\n",
      " - 0s - loss: 0.0012 - accuracy: 1.0000 - val_loss: 2.8158 - val_accuracy: 0.6667\n",
      "Epoch 67/100\n",
      " - 0s - loss: 0.0012 - accuracy: 1.0000 - val_loss: 2.8190 - val_accuracy: 0.6667\n",
      "Epoch 68/100\n",
      " - 0s - loss: 0.0012 - accuracy: 1.0000 - val_loss: 2.8280 - val_accuracy: 0.6667\n",
      "Epoch 69/100\n",
      " - 0s - loss: 0.0011 - accuracy: 1.0000 - val_loss: 2.8317 - val_accuracy: 0.6667\n",
      "Epoch 70/100\n",
      " - 0s - loss: 0.0011 - accuracy: 1.0000 - val_loss: 2.8351 - val_accuracy: 0.6667\n",
      "Epoch 71/100\n",
      " - 0s - loss: 0.0011 - accuracy: 1.0000 - val_loss: 2.8400 - val_accuracy: 0.6577\n",
      "Epoch 72/100\n",
      " - 0s - loss: 0.0010 - accuracy: 1.0000 - val_loss: 2.8440 - val_accuracy: 0.6667\n",
      "Epoch 73/100\n",
      " - 0s - loss: 0.0010 - accuracy: 1.0000 - val_loss: 2.8480 - val_accuracy: 0.6577\n",
      "Epoch 74/100\n",
      " - 0s - loss: 9.8000e-04 - accuracy: 1.0000 - val_loss: 2.8560 - val_accuracy: 0.6577\n",
      "Epoch 75/100\n",
      " - 0s - loss: 9.5595e-04 - accuracy: 1.0000 - val_loss: 2.8564 - val_accuracy: 0.6577\n",
      "Epoch 76/100\n",
      " - 0s - loss: 9.2977e-04 - accuracy: 1.0000 - val_loss: 2.8667 - val_accuracy: 0.6667\n",
      "Epoch 77/100\n",
      " - 0s - loss: 9.0536e-04 - accuracy: 1.0000 - val_loss: 2.8679 - val_accuracy: 0.6577\n",
      "Epoch 78/100\n",
      " - 0s - loss: 8.8202e-04 - accuracy: 1.0000 - val_loss: 2.8679 - val_accuracy: 0.6577\n",
      "Epoch 79/100\n",
      " - 0s - loss: 8.5942e-04 - accuracy: 1.0000 - val_loss: 2.8741 - val_accuracy: 0.6577\n",
      "Epoch 80/100\n",
      " - 0s - loss: 8.3751e-04 - accuracy: 1.0000 - val_loss: 2.8852 - val_accuracy: 0.6577\n",
      "Epoch 81/100\n",
      " - 0s - loss: 8.1826e-04 - accuracy: 1.0000 - val_loss: 2.8846 - val_accuracy: 0.6577\n",
      "Epoch 82/100\n",
      " - 0s - loss: 7.9809e-04 - accuracy: 1.0000 - val_loss: 2.8823 - val_accuracy: 0.6577\n",
      "Epoch 83/100\n",
      " - 0s - loss: 7.7827e-04 - accuracy: 1.0000 - val_loss: 2.8917 - val_accuracy: 0.6577\n",
      "Epoch 84/100\n",
      " - 0s - loss: 7.5845e-04 - accuracy: 1.0000 - val_loss: 2.8976 - val_accuracy: 0.6577\n",
      "Epoch 85/100\n",
      " - 0s - loss: 7.4015e-04 - accuracy: 1.0000 - val_loss: 2.9008 - val_accuracy: 0.6577\n",
      "Epoch 86/100\n",
      " - 0s - loss: 7.2186e-04 - accuracy: 1.0000 - val_loss: 2.8976 - val_accuracy: 0.6577\n"
     ]
    },
    {
     "name": "stdout",
     "output_type": "stream",
     "text": [
      "Epoch 87/100\n",
      " - 0s - loss: 7.0587e-04 - accuracy: 1.0000 - val_loss: 2.9020 - val_accuracy: 0.6577\n",
      "Epoch 88/100\n",
      " - 0s - loss: 6.8908e-04 - accuracy: 1.0000 - val_loss: 2.9103 - val_accuracy: 0.6577\n",
      "Epoch 89/100\n",
      " - 0s - loss: 6.7519e-04 - accuracy: 1.0000 - val_loss: 2.9144 - val_accuracy: 0.6577\n",
      "Epoch 90/100\n",
      " - 0s - loss: 6.5791e-04 - accuracy: 1.0000 - val_loss: 2.9142 - val_accuracy: 0.6577\n",
      "Epoch 91/100\n",
      " - 0s - loss: 6.4413e-04 - accuracy: 1.0000 - val_loss: 2.9204 - val_accuracy: 0.6577\n",
      "Epoch 92/100\n",
      " - 0s - loss: 6.2935e-04 - accuracy: 1.0000 - val_loss: 2.9237 - val_accuracy: 0.6577\n",
      "Epoch 93/100\n",
      " - 0s - loss: 6.1506e-04 - accuracy: 1.0000 - val_loss: 2.9293 - val_accuracy: 0.6577\n",
      "Epoch 94/100\n",
      " - 0s - loss: 6.0163e-04 - accuracy: 1.0000 - val_loss: 2.9351 - val_accuracy: 0.6577\n",
      "Epoch 95/100\n",
      " - 0s - loss: 5.8829e-04 - accuracy: 1.0000 - val_loss: 2.9367 - val_accuracy: 0.6577\n",
      "Epoch 96/100\n",
      " - 0s - loss: 5.7729e-04 - accuracy: 1.0000 - val_loss: 2.9334 - val_accuracy: 0.6577\n",
      "Epoch 97/100\n",
      " - 0s - loss: 5.6268e-04 - accuracy: 1.0000 - val_loss: 2.9395 - val_accuracy: 0.6577\n",
      "Epoch 98/100\n",
      " - 0s - loss: 5.5088e-04 - accuracy: 1.0000 - val_loss: 2.9404 - val_accuracy: 0.6577\n",
      "Epoch 99/100\n",
      " - 0s - loss: 5.3877e-04 - accuracy: 1.0000 - val_loss: 2.9446 - val_accuracy: 0.6577\n",
      "Epoch 100/100\n",
      " - 0s - loss: 5.2613e-04 - accuracy: 1.0000 - val_loss: 2.9459 - val_accuracy: 0.6577\n"
     ]
    }
   ],
   "source": [
    "history = model4.fit(X_train,\n",
    "                        y_train,\n",
    "                        batch_size=32,\n",
    "                        validation_data=(X_test, y_test),\n",
    "                        epochs=100,\n",
    "                        verbose=2)"
   ]
  },
  {
   "cell_type": "code",
   "execution_count": 55,
   "metadata": {
    "scrolled": true
   },
   "outputs": [
    {
     "data": {
      "text/plain": [
       "<matplotlib.legend.Legend at 0x206822d8940>"
      ]
     },
     "execution_count": 55,
     "metadata": {},
     "output_type": "execute_result"
    },
    {
     "data": {
      "image/png": "[encoded data removed]",
      "text/plain": [
       "<Figure size 432x288 with 1 Axes>"
      ]
     },
     "metadata": {
      "needs_background": "light"
     },
     "output_type": "display_data"
    }
   ],
   "source": [
    "plt.plot(history.history['loss'], label = ' Training Loss')\n",
    "plt.plot(history.history['val_loss'], label = ' Test Loss')\n",
    "plt.legend()"
   ]
  },
  {
   "cell_type": "code",
   "execution_count": 56,
   "metadata": {
    "scrolled": true
   },
   "outputs": [
    {
     "data": {
      "text/plain": [
       "<matplotlib.legend.Legend at 0x2068234c710>"
      ]
     },
     "execution_count": 56,
     "metadata": {},
     "output_type": "execute_result"
    },
    {
     "data": {
      "image/png": "[encoded data removed]",
      "text/plain": [
       "<Figure size 432x288 with 1 Axes>"
      ]
     },
     "metadata": {
      "needs_background": "light"
     },
     "output_type": "display_data"
    }
   ],
   "source": [
    "plt.plot(history.history['accuracy'], label = ' Training Accuracy')\n",
    "plt.plot(history.history['val_accuracy'], label = ' Test Accuracy')\n",
    "plt.legend()"
   ]
  },
  {
   "cell_type": "code",
   "execution_count": 57,
   "metadata": {},
   "outputs": [],
   "source": [
    "from keras.layers import "
   ]
  },
  {
   "cell_type": "markdown",
   "metadata": {},
   "source": [
    "RNN\n",
    "\n",
    "Feeding same data as CNN is possible, but 1 dimension."
   ]
  },
  {
   "cell_type": "code",
   "execution_count": 58,
   "metadata": {},
   "outputs": [],
   "source": [
    "model5 = Sequential()\n",
    "\n",
    "model5.add(LSTM(64, input_shape = (128,39), return_sequences=True))\n",
    "model5.add(LSTM(64, return_sequences=False ))\n",
    "model5.add(Dense(64, activation = 'relu'))\n",
    "model5.add(Dropout(0.3))\n",
    "\n",
    "model5.add(Dense(5, activation = 'softmax'))"
   ]
  },
  {
   "cell_type": "code",
   "execution_count": 59,
   "metadata": {},
   "outputs": [],
   "source": [
    "model5.compile(optimizer = 'Adam', loss = 'categorical_crossentropy', metrics = ['accuracy'])"
   ]
  },
  {
   "cell_type": "code",
   "execution_count": 60,
   "metadata": {},
   "outputs": [
    {
     "name": "stdout",
     "output_type": "stream",
     "text": [
      "Model: \"sequential_5\"\n",
      "_________________________________________________________________\n",
      "Layer (type)                 Output Shape              Param #   \n",
      "=================================================================\n",
      "lstm_1 (LSTM)                (None, 128, 64)           26624     \n",
      "_________________________________________________________________\n",
      "lstm_2 (LSTM)                (None, 64)                33024     \n",
      "_________________________________________________________________\n",
      "dense_13 (Dense)             (None, 64)                4160      \n",
      "_________________________________________________________________\n",
      "dropout_1 (Dropout)          (None, 64)                0         \n",
      "_________________________________________________________________\n",
      "dense_14 (Dense)             (None, 5)                 325       \n",
      "=================================================================\n",
      "Total params: 64,133\n",
      "Trainable params: 64,133\n",
      "Non-trainable params: 0\n",
      "_________________________________________________________________\n"
     ]
    }
   ],
   "source": [
    "model5.summary()"
   ]
  },
  {
   "cell_type": "code",
   "execution_count": 61,
   "metadata": {
    "scrolled": true
   },
   "outputs": [
    {
     "name": "stdout",
     "output_type": "stream",
     "text": [
      "Train on 442 samples, validate on 111 samples\n",
      "Epoch 1/100\n",
      " - 3s - loss: 1.5634 - accuracy: 0.2986 - val_loss: 1.4387 - val_accuracy: 0.3874\n",
      "Epoch 2/100\n",
      " - 2s - loss: 1.4768 - accuracy: 0.3303 - val_loss: 1.3858 - val_accuracy: 0.3604\n",
      "Epoch 3/100\n",
      " - 2s - loss: 1.3510 - accuracy: 0.3733 - val_loss: 1.2247 - val_accuracy: 0.4054\n",
      "Epoch 4/100\n",
      " - 2s - loss: 1.2739 - accuracy: 0.3891 - val_loss: 1.1895 - val_accuracy: 0.4144\n",
      "Epoch 5/100\n",
      " - 2s - loss: 1.1752 - accuracy: 0.4729 - val_loss: 1.1309 - val_accuracy: 0.5045\n",
      "Epoch 6/100\n",
      " - 2s - loss: 1.0728 - accuracy: 0.5158 - val_loss: 1.0544 - val_accuracy: 0.5586\n",
      "Epoch 7/100\n",
      " - 2s - loss: 0.9824 - accuracy: 0.5430 - val_loss: 1.0025 - val_accuracy: 0.6126\n",
      "Epoch 8/100\n",
      " - 2s - loss: 1.0240 - accuracy: 0.5226 - val_loss: 0.9555 - val_accuracy: 0.6757\n",
      "Epoch 9/100\n",
      " - 2s - loss: 0.9315 - accuracy: 0.5814 - val_loss: 1.0085 - val_accuracy: 0.5405\n",
      "Epoch 10/100\n",
      " - 2s - loss: 0.8559 - accuracy: 0.6267 - val_loss: 0.7939 - val_accuracy: 0.6126\n",
      "Epoch 11/100\n",
      " - 2s - loss: 0.8053 - accuracy: 0.6471 - val_loss: 0.8777 - val_accuracy: 0.6577\n",
      "Epoch 12/100\n",
      " - 2s - loss: 0.7160 - accuracy: 0.6833 - val_loss: 0.7885 - val_accuracy: 0.6847\n",
      "Epoch 13/100\n",
      " - 2s - loss: 0.6890 - accuracy: 0.6946 - val_loss: 0.8730 - val_accuracy: 0.6126\n",
      "Epoch 14/100\n",
      " - 2s - loss: 0.6380 - accuracy: 0.6833 - val_loss: 0.7397 - val_accuracy: 0.7297\n",
      "Epoch 15/100\n",
      " - 2s - loss: 0.6069 - accuracy: 0.6991 - val_loss: 0.6278 - val_accuracy: 0.7207\n",
      "Epoch 16/100\n",
      " - 2s - loss: 0.6183 - accuracy: 0.7217 - val_loss: 0.6214 - val_accuracy: 0.7387\n",
      "Epoch 17/100\n",
      " - 2s - loss: 0.5964 - accuracy: 0.7195 - val_loss: 0.8722 - val_accuracy: 0.6396\n",
      "Epoch 18/100\n",
      " - 2s - loss: 0.5607 - accuracy: 0.7195 - val_loss: 0.5932 - val_accuracy: 0.7748\n",
      "Epoch 19/100\n",
      " - 2s - loss: 0.5006 - accuracy: 0.7534 - val_loss: 0.5510 - val_accuracy: 0.7748\n",
      "Epoch 20/100\n",
      " - 2s - loss: 0.4716 - accuracy: 0.7692 - val_loss: 0.6049 - val_accuracy: 0.8018\n",
      "Epoch 21/100\n",
      " - 2s - loss: 0.4304 - accuracy: 0.7873 - val_loss: 0.6363 - val_accuracy: 0.7297\n",
      "Epoch 22/100\n",
      " - 2s - loss: 0.4145 - accuracy: 0.8190 - val_loss: 0.6748 - val_accuracy: 0.7838\n",
      "Epoch 23/100\n",
      " - 2s - loss: 0.4568 - accuracy: 0.7941 - val_loss: 0.8485 - val_accuracy: 0.7207\n",
      "Epoch 24/100\n",
      " - 2s - loss: 0.3865 - accuracy: 0.8303 - val_loss: 0.6121 - val_accuracy: 0.7928\n",
      "Epoch 25/100\n",
      " - 2s - loss: 0.4385 - accuracy: 0.8439 - val_loss: 0.7644 - val_accuracy: 0.7297\n",
      "Epoch 26/100\n",
      " - 2s - loss: 0.4807 - accuracy: 0.8213 - val_loss: 0.6192 - val_accuracy: 0.7658\n",
      "Epoch 27/100\n",
      " - 2s - loss: 0.4499 - accuracy: 0.8190 - val_loss: 0.6138 - val_accuracy: 0.7928\n",
      "Epoch 28/100\n",
      " - 2s - loss: 0.3954 - accuracy: 0.8394 - val_loss: 0.5504 - val_accuracy: 0.8288\n",
      "Epoch 29/100\n",
      " - 2s - loss: 0.2980 - accuracy: 0.8914 - val_loss: 0.5676 - val_accuracy: 0.8378\n",
      "Epoch 30/100\n",
      " - 2s - loss: 0.2234 - accuracy: 0.9344 - val_loss: 0.6132 - val_accuracy: 0.8378\n",
      "Epoch 31/100\n",
      " - 2s - loss: 0.3074 - accuracy: 0.9050 - val_loss: 1.1026 - val_accuracy: 0.6486\n",
      "Epoch 32/100\n",
      " - 2s - loss: 0.8924 - accuracy: 0.6878 - val_loss: 0.6467 - val_accuracy: 0.7387\n",
      "Epoch 33/100\n",
      " - 2s - loss: 0.5345 - accuracy: 0.8213 - val_loss: 0.7380 - val_accuracy: 0.7207\n",
      "Epoch 34/100\n",
      " - 2s - loss: 0.4293 - accuracy: 0.8348 - val_loss: 0.5874 - val_accuracy: 0.8018\n",
      "Epoch 35/100\n",
      " - 2s - loss: 0.3405 - accuracy: 0.8824 - val_loss: 0.4583 - val_accuracy: 0.8288\n",
      "Epoch 36/100\n",
      " - 2s - loss: 0.2490 - accuracy: 0.9276 - val_loss: 0.4939 - val_accuracy: 0.7928\n",
      "Epoch 37/100\n",
      " - 2s - loss: 0.2316 - accuracy: 0.9367 - val_loss: 0.5414 - val_accuracy: 0.8198\n",
      "Epoch 38/100\n",
      " - 2s - loss: 0.2085 - accuracy: 0.9321 - val_loss: 0.5710 - val_accuracy: 0.8288\n",
      "Epoch 39/100\n",
      " - 2s - loss: 0.1643 - accuracy: 0.9593 - val_loss: 0.6365 - val_accuracy: 0.8468\n",
      "Epoch 40/100\n",
      " - 2s - loss: 0.1711 - accuracy: 0.9457 - val_loss: 0.5778 - val_accuracy: 0.8468\n",
      "Epoch 41/100\n",
      " - 2s - loss: 0.2031 - accuracy: 0.9299 - val_loss: 0.4558 - val_accuracy: 0.8649\n",
      "Epoch 42/100\n",
      " - 2s - loss: 0.2155 - accuracy: 0.9389 - val_loss: 0.7037 - val_accuracy: 0.7838\n",
      "Epoch 43/100\n",
      " - 2s - loss: 0.1649 - accuracy: 0.9525 - val_loss: 0.5230 - val_accuracy: 0.8288\n",
      "Epoch 44/100\n",
      " - 2s - loss: 0.2212 - accuracy: 0.9321 - val_loss: 0.5106 - val_accuracy: 0.8378\n",
      "Epoch 45/100\n",
      " - 2s - loss: 0.1673 - accuracy: 0.9548 - val_loss: 0.4659 - val_accuracy: 0.8198\n",
      "Epoch 46/100\n",
      " - 2s - loss: 0.2132 - accuracy: 0.9299 - val_loss: 0.5174 - val_accuracy: 0.8378\n",
      "Epoch 47/100\n",
      " - 2s - loss: 0.1353 - accuracy: 0.9661 - val_loss: 0.4760 - val_accuracy: 0.8468\n",
      "Epoch 48/100\n",
      " - 2s - loss: 0.1041 - accuracy: 0.9796 - val_loss: 0.4016 - val_accuracy: 0.8829\n",
      "Epoch 49/100\n",
      " - 2s - loss: 0.0897 - accuracy: 0.9774 - val_loss: 0.4474 - val_accuracy: 0.8739\n",
      "Epoch 50/100\n",
      " - 2s - loss: 0.1267 - accuracy: 0.9706 - val_loss: 0.4484 - val_accuracy: 0.8829\n",
      "Epoch 51/100\n",
      " - 2s - loss: 0.1095 - accuracy: 0.9729 - val_loss: 0.4286 - val_accuracy: 0.8649\n",
      "Epoch 52/100\n",
      " - 2s - loss: 0.1432 - accuracy: 0.9615 - val_loss: 0.9578 - val_accuracy: 0.7748\n",
      "Epoch 53/100\n",
      " - 2s - loss: 0.1197 - accuracy: 0.9570 - val_loss: 0.6468 - val_accuracy: 0.7928\n",
      "Epoch 54/100\n",
      " - 2s - loss: 0.1718 - accuracy: 0.9457 - val_loss: 0.4151 - val_accuracy: 0.8919\n",
      "Epoch 55/100\n",
      " - 2s - loss: 0.1089 - accuracy: 0.9706 - val_loss: 0.5888 - val_accuracy: 0.8198\n",
      "Epoch 56/100\n",
      " - 2s - loss: 0.1101 - accuracy: 0.9661 - val_loss: 0.4556 - val_accuracy: 0.8739\n",
      "Epoch 57/100\n",
      " - 2s - loss: 0.1049 - accuracy: 0.9706 - val_loss: 0.6706 - val_accuracy: 0.8018\n",
      "Epoch 58/100\n",
      " - 2s - loss: 0.0738 - accuracy: 0.9842 - val_loss: 0.4325 - val_accuracy: 0.8829\n",
      "Epoch 59/100\n",
      " - 2s - loss: 0.0861 - accuracy: 0.9729 - val_loss: 0.4730 - val_accuracy: 0.8829\n",
      "Epoch 60/100\n",
      " - 2s - loss: 0.0845 - accuracy: 0.9796 - val_loss: 0.5522 - val_accuracy: 0.8649\n",
      "Epoch 61/100\n",
      " - 2s - loss: 0.0782 - accuracy: 0.9706 - val_loss: 0.6299 - val_accuracy: 0.8108\n",
      "Epoch 62/100\n",
      " - 2s - loss: 0.0883 - accuracy: 0.9751 - val_loss: 0.6580 - val_accuracy: 0.8468\n",
      "Epoch 63/100\n",
      " - 2s - loss: 0.0876 - accuracy: 0.9774 - val_loss: 0.5516 - val_accuracy: 0.8649\n",
      "Epoch 64/100\n",
      " - 2s - loss: 0.0994 - accuracy: 0.9638 - val_loss: 0.6111 - val_accuracy: 0.8468\n",
      "Epoch 65/100\n",
      " - 2s - loss: 0.1103 - accuracy: 0.9706 - val_loss: 0.7002 - val_accuracy: 0.8468\n",
      "Epoch 66/100\n",
      " - 2s - loss: 0.0854 - accuracy: 0.9706 - val_loss: 0.6593 - val_accuracy: 0.8919\n",
      "Epoch 67/100\n",
      " - 2s - loss: 0.0789 - accuracy: 0.9729 - val_loss: 0.6511 - val_accuracy: 0.8739\n",
      "Epoch 68/100\n",
      " - 2s - loss: 0.0960 - accuracy: 0.9774 - val_loss: 0.6504 - val_accuracy: 0.8468\n",
      "Epoch 69/100\n",
      " - 2s - loss: 0.1128 - accuracy: 0.9683 - val_loss: 0.5583 - val_accuracy: 0.8559\n",
      "Epoch 70/100\n",
      " - 2s - loss: 0.0915 - accuracy: 0.9751 - val_loss: 0.5551 - val_accuracy: 0.8649\n",
      "Epoch 71/100\n",
      " - 2s - loss: 0.3150 - accuracy: 0.9118 - val_loss: 0.6961 - val_accuracy: 0.8288\n",
      "Epoch 72/100\n",
      " - 2s - loss: 0.1441 - accuracy: 0.9615 - val_loss: 0.6259 - val_accuracy: 0.8288\n",
      "Epoch 73/100\n",
      " - 2s - loss: 0.2317 - accuracy: 0.9208 - val_loss: 0.7144 - val_accuracy: 0.8108\n",
      "Epoch 74/100\n",
      " - 2s - loss: 0.2382 - accuracy: 0.9231 - val_loss: 0.5922 - val_accuracy: 0.8018\n",
      "Epoch 75/100\n",
      " - 2s - loss: 0.2515 - accuracy: 0.9072 - val_loss: 0.4843 - val_accuracy: 0.8649\n",
      "Epoch 76/100\n",
      " - 2s - loss: 0.1512 - accuracy: 0.9548 - val_loss: 0.6714 - val_accuracy: 0.7928\n",
      "Epoch 77/100\n",
      " - 2s - loss: 0.1050 - accuracy: 0.9706 - val_loss: 0.6035 - val_accuracy: 0.8649\n",
      "Epoch 78/100\n",
      " - 2s - loss: 0.1160 - accuracy: 0.9706 - val_loss: 0.6597 - val_accuracy: 0.8108\n",
      "Epoch 79/100\n",
      " - 2s - loss: 0.0584 - accuracy: 0.9887 - val_loss: 0.5826 - val_accuracy: 0.8468\n",
      "Epoch 80/100\n",
      " - 2s - loss: 0.0357 - accuracy: 0.9887 - val_loss: 0.6343 - val_accuracy: 0.8559\n",
      "Epoch 81/100\n",
      " - 2s - loss: 0.0342 - accuracy: 0.9887 - val_loss: 0.7128 - val_accuracy: 0.8378\n",
      "Epoch 82/100\n",
      " - 2s - loss: 0.0231 - accuracy: 0.9932 - val_loss: 0.6577 - val_accuracy: 0.8468\n",
      "Epoch 83/100\n",
      " - 2s - loss: 0.0185 - accuracy: 0.9977 - val_loss: 0.7743 - val_accuracy: 0.8378\n",
      "Epoch 84/100\n",
      " - 2s - loss: 0.0168 - accuracy: 0.9955 - val_loss: 0.7694 - val_accuracy: 0.8288\n",
      "Epoch 85/100\n",
      " - 2s - loss: 0.0147 - accuracy: 1.0000 - val_loss: 0.7410 - val_accuracy: 0.8288\n",
      "Epoch 86/100\n",
      " - 2s - loss: 0.0127 - accuracy: 0.9977 - val_loss: 0.7586 - val_accuracy: 0.8468\n"
     ]
    },
    {
     "name": "stdout",
     "output_type": "stream",
     "text": [
      "Epoch 87/100\n",
      " - 2s - loss: 0.0125 - accuracy: 0.9932 - val_loss: 0.7531 - val_accuracy: 0.8559\n",
      "Epoch 88/100\n",
      " - 2s - loss: 0.0119 - accuracy: 0.9977 - val_loss: 0.8180 - val_accuracy: 0.8378\n",
      "Epoch 89/100\n",
      " - 2s - loss: 0.0107 - accuracy: 1.0000 - val_loss: 0.8077 - val_accuracy: 0.8378\n",
      "Epoch 90/100\n",
      " - 2s - loss: 0.0089 - accuracy: 0.9977 - val_loss: 0.8570 - val_accuracy: 0.8288\n",
      "Epoch 91/100\n",
      " - 2s - loss: 0.0095 - accuracy: 0.9977 - val_loss: 0.8202 - val_accuracy: 0.8559\n",
      "Epoch 92/100\n",
      " - 2s - loss: 0.0068 - accuracy: 1.0000 - val_loss: 0.8812 - val_accuracy: 0.8468\n",
      "Epoch 93/100\n",
      " - 2s - loss: 0.0068 - accuracy: 1.0000 - val_loss: 0.9101 - val_accuracy: 0.8198\n",
      "Epoch 94/100\n",
      " - 2s - loss: 0.0072 - accuracy: 0.9977 - val_loss: 0.8942 - val_accuracy: 0.8468\n",
      "Epoch 95/100\n",
      " - 2s - loss: 0.0056 - accuracy: 1.0000 - val_loss: 0.8610 - val_accuracy: 0.8468\n",
      "Epoch 96/100\n",
      " - 2s - loss: 0.0044 - accuracy: 1.0000 - val_loss: 0.8742 - val_accuracy: 0.8468\n",
      "Epoch 97/100\n",
      " - 2s - loss: 0.0037 - accuracy: 1.0000 - val_loss: 0.9062 - val_accuracy: 0.8468\n",
      "Epoch 98/100\n",
      " - 2s - loss: 0.0035 - accuracy: 1.0000 - val_loss: 0.9189 - val_accuracy: 0.8468\n",
      "Epoch 99/100\n",
      " - 2s - loss: 0.0041 - accuracy: 1.0000 - val_loss: 0.9136 - val_accuracy: 0.8468\n",
      "Epoch 100/100\n",
      " - 2s - loss: 0.0037 - accuracy: 1.0000 - val_loss: 0.9039 - val_accuracy: 0.8468\n"
     ]
    }
   ],
   "source": [
    "history = model5.fit(X_train,\n",
    "                        y_train,\n",
    "                        batch_size=32,\n",
    "                        validation_data=(X_test, y_test),\n",
    "                        epochs=100,\n",
    "                        verbose=2)"
   ]
  },
  {
   "cell_type": "code",
   "execution_count": 62,
   "metadata": {},
   "outputs": [
    {
     "data": {
      "text/plain": [
       "<matplotlib.legend.Legend at 0x206be2e7cf8>"
      ]
     },
     "execution_count": 62,
     "metadata": {},
     "output_type": "execute_result"
    },
    {
     "data": {
      "image/png": "[encoded data removed]",
      "text/plain": [
       "<Figure size 432x288 with 1 Axes>"
      ]
     },
     "metadata": {
      "needs_background": "light"
     },
     "output_type": "display_data"
    }
   ],
   "source": [
    "plt.plot(history.history['loss'], label = ' Training Loss')\n",
    "plt.plot(history.history['val_loss'], label = ' Test Loss')\n",
    "plt.legend()"
   ]
  },
  {
   "cell_type": "code",
   "execution_count": 63,
   "metadata": {},
   "outputs": [
    {
     "data": {
      "text/plain": [
       "<matplotlib.legend.Legend at 0x206be35fd68>"
      ]
     },
     "execution_count": 63,
     "metadata": {},
     "output_type": "execute_result"
    },
    {
     "data": {
      "image/png": "[encoded data removed]",
      "text/plain": [
       "<Figure size 432x288 with 1 Axes>"
      ]
     },
     "metadata": {
      "needs_background": "light"
     },
     "output_type": "display_data"
    }
   ],
   "source": [
    "plt.plot(history.history['accuracy'], label = ' Training Accuracy')\n",
    "plt.plot(history.history['val_accuracy'], label = ' Test Accuracy')\n",
    "plt.legend()"
   ]
  },
  {
   "cell_type": "markdown",
   "metadata": {},
   "source": [
    " Now I try without padding"
   ]
  },
  {
   "cell_type": "code",
   "execution_count": 64,
   "metadata": {},
   "outputs": [],
   "source": [
    "def get_mfcc(file, n_mfcc=40):\n",
    "    audio, sr = librosa.load(file) \n",
    "    mfccs = librosa.feature.mfcc(y=audio, sr=sr, n_mfcc=n_mfcc)\n",
    "    return mfccs.T"
   ]
  },
  {
   "cell_type": "code",
   "execution_count": 65,
   "metadata": {},
   "outputs": [],
   "source": [
    "mfcc = features_df['filepath'].map(get_mfcc)"
   ]
  },
  {
   "cell_type": "code",
   "execution_count": 66,
   "metadata": {
    "scrolled": true
   },
   "outputs": [
    {
     "data": {
      "text/plain": [
       "(33, 40)"
      ]
     },
     "execution_count": 66,
     "metadata": {},
     "output_type": "execute_result"
    }
   ],
   "source": [
    "mfcc[0].shape"
   ]
  },
  {
   "cell_type": "code",
   "execution_count": 67,
   "metadata": {},
   "outputs": [
    {
     "data": {
      "text/plain": [
       "(34, 40)"
      ]
     },
     "execution_count": 67,
     "metadata": {},
     "output_type": "execute_result"
    }
   ],
   "source": [
    "mfcc[1].shape"
   ]
  },
  {
   "cell_type": "code",
   "execution_count": 68,
   "metadata": {},
   "outputs": [],
   "source": [
    "X = pad_sequences(mfcc, padding='post')"
   ]
  },
  {
   "cell_type": "code",
   "execution_count": 69,
   "metadata": {},
   "outputs": [
    {
     "data": {
      "text/plain": [
       "(553, 39, 40)"
      ]
     },
     "execution_count": 69,
     "metadata": {},
     "output_type": "execute_result"
    }
   ],
   "source": [
    "X.shape"
   ]
  },
  {
   "cell_type": "code",
   "execution_count": 70,
   "metadata": {},
   "outputs": [],
   "source": [
    "X_train, X_test, y_train, y_test = train_test_split(X, y, test_size = 0.2, random_state = 42, stratify = y)"
   ]
  },
  {
   "cell_type": "code",
   "execution_count": 79,
   "metadata": {},
   "outputs": [],
   "source": [
    "model6 = Sequential()\n",
    "\n",
    "model6.add(Masking(mask_value=0, input_shape=(39, 40)))\n",
    "model6.add(GRU(64, input_shape = (39,40), return_sequences=True))\n",
    "model6.add(GRU(64, return_sequences=False ))\n",
    "model6.add(Dense(64, activation = 'relu'))\n",
    "model6.add(Dropout(0.3))\n",
    "\n",
    "model6.add(Dense(5, activation = 'softmax'))"
   ]
  },
  {
   "cell_type": "code",
   "execution_count": 80,
   "metadata": {},
   "outputs": [],
   "source": [
    "model6.compile(optimizer = 'Adam', loss = 'categorical_crossentropy', metrics = ['accuracy'])"
   ]
  },
  {
   "cell_type": "code",
   "execution_count": 81,
   "metadata": {
    "scrolled": true
   },
   "outputs": [
    {
     "name": "stdout",
     "output_type": "stream",
     "text": [
      "Model: \"sequential_7\"\n",
      "_________________________________________________________________\n",
      "Layer (type)                 Output Shape              Param #   \n",
      "=================================================================\n",
      "masking_2 (Masking)          (None, 39, 40)            0         \n",
      "_________________________________________________________________\n",
      "gru_1 (GRU)                  (None, 39, 64)            20160     \n",
      "_________________________________________________________________\n",
      "gru_2 (GRU)                  (None, 64)                24768     \n",
      "_________________________________________________________________\n",
      "dense_17 (Dense)             (None, 64)                4160      \n",
      "_________________________________________________________________\n",
      "dropout_3 (Dropout)          (None, 64)                0         \n",
      "_________________________________________________________________\n",
      "dense_18 (Dense)             (None, 5)                 325       \n",
      "=================================================================\n",
      "Total params: 49,413\n",
      "Trainable params: 49,413\n",
      "Non-trainable params: 0\n",
      "_________________________________________________________________\n"
     ]
    }
   ],
   "source": [
    "model6.summary()"
   ]
  },
  {
   "cell_type": "code",
   "execution_count": 82,
   "metadata": {},
   "outputs": [
    {
     "name": "stdout",
     "output_type": "stream",
     "text": [
      "Train on 442 samples, validate on 111 samples\n",
      "Epoch 1/100\n",
      " - 2s - loss: 1.5744 - accuracy: 0.2896 - val_loss: 1.4530 - val_accuracy: 0.4234\n",
      "Epoch 2/100\n",
      " - 1s - loss: 1.3667 - accuracy: 0.4593 - val_loss: 1.2050 - val_accuracy: 0.6757\n",
      "Epoch 3/100\n",
      " - 1s - loss: 1.0931 - accuracy: 0.5882 - val_loss: 0.9294 - val_accuracy: 0.7027\n",
      "Epoch 4/100\n",
      " - 1s - loss: 0.8627 - accuracy: 0.6765 - val_loss: 0.7210 - val_accuracy: 0.7838\n",
      "Epoch 5/100\n",
      " - 1s - loss: 0.6977 - accuracy: 0.7262 - val_loss: 0.5710 - val_accuracy: 0.8018\n",
      "Epoch 6/100\n",
      " - 1s - loss: 0.5625 - accuracy: 0.7738 - val_loss: 0.5436 - val_accuracy: 0.7658\n",
      "Epoch 7/100\n",
      " - 1s - loss: 0.4243 - accuracy: 0.8439 - val_loss: 0.5179 - val_accuracy: 0.8018\n",
      "Epoch 8/100\n",
      " - 1s - loss: 0.3521 - accuracy: 0.8937 - val_loss: 0.4452 - val_accuracy: 0.8288\n",
      "Epoch 9/100\n",
      " - 1s - loss: 0.2431 - accuracy: 0.9140 - val_loss: 0.3857 - val_accuracy: 0.8468\n",
      "Epoch 10/100\n",
      " - 1s - loss: 0.1819 - accuracy: 0.9457 - val_loss: 0.2887 - val_accuracy: 0.9189\n",
      "Epoch 11/100\n",
      " - 1s - loss: 0.0970 - accuracy: 0.9796 - val_loss: 0.3445 - val_accuracy: 0.8739\n",
      "Epoch 12/100\n",
      " - 1s - loss: 0.0829 - accuracy: 0.9796 - val_loss: 0.2558 - val_accuracy: 0.9099\n",
      "Epoch 13/100\n",
      " - 1s - loss: 0.0575 - accuracy: 0.9887 - val_loss: 0.2339 - val_accuracy: 0.9459\n",
      "Epoch 14/100\n",
      " - 1s - loss: 0.0340 - accuracy: 0.9932 - val_loss: 0.3000 - val_accuracy: 0.8829\n",
      "Epoch 15/100\n",
      " - 1s - loss: 0.0578 - accuracy: 0.9887 - val_loss: 0.2390 - val_accuracy: 0.8829\n",
      "Epoch 16/100\n",
      " - 1s - loss: 0.0389 - accuracy: 0.9932 - val_loss: 0.1188 - val_accuracy: 0.9369\n",
      "Epoch 17/100\n",
      " - 1s - loss: 0.0448 - accuracy: 0.9910 - val_loss: 0.3216 - val_accuracy: 0.8829\n",
      "Epoch 18/100\n",
      " - 1s - loss: 0.0921 - accuracy: 0.9661 - val_loss: 0.3096 - val_accuracy: 0.9009\n",
      "Epoch 19/100\n",
      " - 1s - loss: 0.0589 - accuracy: 0.9864 - val_loss: 0.1469 - val_accuracy: 0.9369\n",
      "Epoch 20/100\n",
      " - 1s - loss: 0.0352 - accuracy: 0.9864 - val_loss: 0.1756 - val_accuracy: 0.9369\n",
      "Epoch 21/100\n",
      " - 1s - loss: 0.0393 - accuracy: 0.9887 - val_loss: 0.1743 - val_accuracy: 0.9459\n",
      "Epoch 22/100\n",
      " - 1s - loss: 0.0217 - accuracy: 0.9977 - val_loss: 0.2608 - val_accuracy: 0.9099\n",
      "Epoch 23/100\n",
      " - 1s - loss: 0.0138 - accuracy: 0.9977 - val_loss: 0.1572 - val_accuracy: 0.9459\n",
      "Epoch 24/100\n",
      " - 1s - loss: 0.0076 - accuracy: 1.0000 - val_loss: 0.1662 - val_accuracy: 0.9369\n",
      "Epoch 25/100\n",
      " - 1s - loss: 0.0073 - accuracy: 1.0000 - val_loss: 0.1364 - val_accuracy: 0.9459\n",
      "Epoch 26/100\n",
      " - 1s - loss: 0.0049 - accuracy: 1.0000 - val_loss: 0.1207 - val_accuracy: 0.9459\n",
      "Epoch 27/100\n",
      " - 1s - loss: 0.0035 - accuracy: 1.0000 - val_loss: 0.1380 - val_accuracy: 0.9459\n",
      "Epoch 28/100\n",
      " - 1s - loss: 0.0037 - accuracy: 1.0000 - val_loss: 0.1425 - val_accuracy: 0.9459\n",
      "Epoch 29/100\n",
      " - 1s - loss: 0.0035 - accuracy: 1.0000 - val_loss: 0.1457 - val_accuracy: 0.9459\n",
      "Epoch 30/100\n",
      " - 1s - loss: 0.0036 - accuracy: 1.0000 - val_loss: 0.1587 - val_accuracy: 0.9459\n",
      "Epoch 31/100\n",
      " - 1s - loss: 0.0025 - accuracy: 1.0000 - val_loss: 0.1641 - val_accuracy: 0.9459\n",
      "Epoch 32/100\n",
      " - 1s - loss: 0.0021 - accuracy: 1.0000 - val_loss: 0.1621 - val_accuracy: 0.9459\n",
      "Epoch 33/100\n",
      " - 1s - loss: 0.0027 - accuracy: 1.0000 - val_loss: 0.1607 - val_accuracy: 0.9459\n",
      "Epoch 34/100\n",
      " - 1s - loss: 0.0028 - accuracy: 1.0000 - val_loss: 0.1580 - val_accuracy: 0.9459\n",
      "Epoch 35/100\n",
      " - 1s - loss: 0.0027 - accuracy: 1.0000 - val_loss: 0.1598 - val_accuracy: 0.9459\n",
      "Epoch 36/100\n",
      " - 1s - loss: 0.0019 - accuracy: 1.0000 - val_loss: 0.1578 - val_accuracy: 0.9459\n",
      "Epoch 37/100\n",
      " - 1s - loss: 0.0017 - accuracy: 1.0000 - val_loss: 0.1574 - val_accuracy: 0.9459\n",
      "Epoch 38/100\n",
      " - 1s - loss: 0.0019 - accuracy: 1.0000 - val_loss: 0.1500 - val_accuracy: 0.9459\n",
      "Epoch 39/100\n",
      " - 1s - loss: 0.0017 - accuracy: 1.0000 - val_loss: 0.1511 - val_accuracy: 0.9459\n",
      "Epoch 40/100\n",
      " - 1s - loss: 0.0013 - accuracy: 1.0000 - val_loss: 0.1515 - val_accuracy: 0.9459\n",
      "Epoch 41/100\n",
      " - 1s - loss: 0.0018 - accuracy: 1.0000 - val_loss: 0.1584 - val_accuracy: 0.9459\n",
      "Epoch 42/100\n",
      " - 1s - loss: 0.0014 - accuracy: 1.0000 - val_loss: 0.1658 - val_accuracy: 0.9459\n",
      "Epoch 43/100\n",
      " - 1s - loss: 0.0023 - accuracy: 1.0000 - val_loss: 0.1654 - val_accuracy: 0.9459\n",
      "Epoch 44/100\n",
      " - 1s - loss: 0.0011 - accuracy: 1.0000 - val_loss: 0.1674 - val_accuracy: 0.9459\n",
      "Epoch 45/100\n",
      " - 1s - loss: 0.0013 - accuracy: 1.0000 - val_loss: 0.1693 - val_accuracy: 0.9459\n",
      "Epoch 46/100\n",
      " - 1s - loss: 0.0018 - accuracy: 1.0000 - val_loss: 0.1701 - val_accuracy: 0.9459\n",
      "Epoch 47/100\n",
      " - 1s - loss: 0.0014 - accuracy: 1.0000 - val_loss: 0.1509 - val_accuracy: 0.9459\n",
      "Epoch 48/100\n",
      " - 1s - loss: 0.0011 - accuracy: 1.0000 - val_loss: 0.1469 - val_accuracy: 0.9550\n",
      "Epoch 49/100\n",
      " - 1s - loss: 0.0013 - accuracy: 1.0000 - val_loss: 0.1466 - val_accuracy: 0.9550\n",
      "Epoch 50/100\n",
      " - 1s - loss: 0.0014 - accuracy: 1.0000 - val_loss: 0.1457 - val_accuracy: 0.9550\n",
      "Epoch 51/100\n",
      " - 1s - loss: 8.5777e-04 - accuracy: 1.0000 - val_loss: 0.1559 - val_accuracy: 0.9550\n",
      "Epoch 52/100\n",
      " - 1s - loss: 0.0018 - accuracy: 1.0000 - val_loss: 0.1624 - val_accuracy: 0.9550\n",
      "Epoch 53/100\n",
      " - 1s - loss: 0.0015 - accuracy: 1.0000 - val_loss: 0.1618 - val_accuracy: 0.9550\n",
      "Epoch 54/100\n",
      " - 1s - loss: 0.0011 - accuracy: 1.0000 - val_loss: 0.1618 - val_accuracy: 0.9550\n",
      "Epoch 55/100\n",
      " - 1s - loss: 8.2023e-04 - accuracy: 1.0000 - val_loss: 0.1658 - val_accuracy: 0.9550\n",
      "Epoch 56/100\n",
      " - 1s - loss: 0.0013 - accuracy: 1.0000 - val_loss: 0.1707 - val_accuracy: 0.9550\n",
      "Epoch 57/100\n",
      " - 1s - loss: 9.2098e-04 - accuracy: 1.0000 - val_loss: 0.1725 - val_accuracy: 0.9550\n",
      "Epoch 58/100\n",
      " - 1s - loss: 7.3660e-04 - accuracy: 1.0000 - val_loss: 0.1743 - val_accuracy: 0.9550\n",
      "Epoch 59/100\n",
      " - 1s - loss: 6.7376e-04 - accuracy: 1.0000 - val_loss: 0.1786 - val_accuracy: 0.9550\n",
      "Epoch 60/100\n",
      " - 1s - loss: 0.0010 - accuracy: 1.0000 - val_loss: 0.1750 - val_accuracy: 0.9550\n",
      "Epoch 61/100\n",
      " - 1s - loss: 0.0014 - accuracy: 1.0000 - val_loss: 0.1780 - val_accuracy: 0.9550\n",
      "Epoch 62/100\n",
      " - 1s - loss: 0.0014 - accuracy: 1.0000 - val_loss: 0.1927 - val_accuracy: 0.9640\n",
      "Epoch 63/100\n",
      " - 1s - loss: 9.0551e-04 - accuracy: 1.0000 - val_loss: 0.1975 - val_accuracy: 0.9550\n",
      "Epoch 64/100\n",
      " - 1s - loss: 5.4203e-04 - accuracy: 1.0000 - val_loss: 0.1985 - val_accuracy: 0.9550\n",
      "Epoch 65/100\n",
      " - 1s - loss: 5.2676e-04 - accuracy: 1.0000 - val_loss: 0.1977 - val_accuracy: 0.9459\n",
      "Epoch 66/100\n",
      " - 1s - loss: 8.6266e-04 - accuracy: 1.0000 - val_loss: 0.1969 - val_accuracy: 0.9459\n",
      "Epoch 67/100\n",
      " - 1s - loss: 8.4987e-04 - accuracy: 1.0000 - val_loss: 0.1879 - val_accuracy: 0.9459\n",
      "Epoch 68/100\n",
      " - 1s - loss: 5.4032e-04 - accuracy: 1.0000 - val_loss: 0.1858 - val_accuracy: 0.9550\n",
      "Epoch 69/100\n",
      " - 1s - loss: 4.4710e-04 - accuracy: 1.0000 - val_loss: 0.1904 - val_accuracy: 0.9459\n",
      "Epoch 70/100\n",
      " - 1s - loss: 7.4515e-04 - accuracy: 1.0000 - val_loss: 0.1933 - val_accuracy: 0.9459\n",
      "Epoch 71/100\n",
      " - 1s - loss: 5.4061e-04 - accuracy: 1.0000 - val_loss: 0.1992 - val_accuracy: 0.9550\n",
      "Epoch 72/100\n",
      " - 1s - loss: 5.6363e-04 - accuracy: 1.0000 - val_loss: 0.2086 - val_accuracy: 0.9459\n",
      "Epoch 73/100\n",
      " - 1s - loss: 2.5016e-04 - accuracy: 1.0000 - val_loss: 0.2134 - val_accuracy: 0.9459\n",
      "Epoch 74/100\n",
      " - 1s - loss: 4.2030e-04 - accuracy: 1.0000 - val_loss: 0.2152 - val_accuracy: 0.9459\n",
      "Epoch 75/100\n",
      " - 1s - loss: 6.8605e-04 - accuracy: 1.0000 - val_loss: 0.2101 - val_accuracy: 0.9459\n",
      "Epoch 76/100\n",
      " - 1s - loss: 4.2268e-04 - accuracy: 1.0000 - val_loss: 0.2082 - val_accuracy: 0.9459\n",
      "Epoch 77/100\n",
      " - 1s - loss: 4.1270e-04 - accuracy: 1.0000 - val_loss: 0.2077 - val_accuracy: 0.9459\n",
      "Epoch 78/100\n",
      " - 1s - loss: 4.1727e-04 - accuracy: 1.0000 - val_loss: 0.2070 - val_accuracy: 0.9459\n",
      "Epoch 79/100\n",
      " - 1s - loss: 4.1633e-04 - accuracy: 1.0000 - val_loss: 0.2072 - val_accuracy: 0.9459\n",
      "Epoch 80/100\n",
      " - 1s - loss: 6.4421e-04 - accuracy: 1.0000 - val_loss: 0.2096 - val_accuracy: 0.9459\n",
      "Epoch 81/100\n",
      " - 1s - loss: 3.8156e-04 - accuracy: 1.0000 - val_loss: 0.2110 - val_accuracy: 0.9459\n",
      "Epoch 82/100\n",
      " - 1s - loss: 2.0001e-04 - accuracy: 1.0000 - val_loss: 0.2117 - val_accuracy: 0.9459\n",
      "Epoch 83/100\n",
      " - 1s - loss: 3.1122e-04 - accuracy: 1.0000 - val_loss: 0.2123 - val_accuracy: 0.9459\n",
      "Epoch 84/100\n",
      " - 1s - loss: 4.9540e-04 - accuracy: 1.0000 - val_loss: 0.2128 - val_accuracy: 0.9459\n",
      "Epoch 85/100\n",
      " - 1s - loss: 2.9639e-04 - accuracy: 1.0000 - val_loss: 0.2146 - val_accuracy: 0.9459\n"
     ]
    },
    {
     "name": "stdout",
     "output_type": "stream",
     "text": [
      "Epoch 86/100\n",
      " - 1s - loss: 4.5531e-04 - accuracy: 1.0000 - val_loss: 0.2144 - val_accuracy: 0.9550\n",
      "Epoch 87/100\n",
      " - 1s - loss: 5.8483e-04 - accuracy: 1.0000 - val_loss: 0.2137 - val_accuracy: 0.9550\n",
      "Epoch 88/100\n",
      " - 1s - loss: 6.6548e-04 - accuracy: 1.0000 - val_loss: 0.2179 - val_accuracy: 0.9550\n",
      "Epoch 89/100\n",
      " - 1s - loss: 5.3842e-04 - accuracy: 1.0000 - val_loss: 0.2226 - val_accuracy: 0.9459\n",
      "Epoch 90/100\n",
      " - 1s - loss: 5.1761e-04 - accuracy: 1.0000 - val_loss: 0.2217 - val_accuracy: 0.9459\n",
      "Epoch 91/100\n",
      " - 1s - loss: 2.6044e-04 - accuracy: 1.0000 - val_loss: 0.2219 - val_accuracy: 0.9550\n",
      "Epoch 92/100\n",
      " - 1s - loss: 2.6914e-04 - accuracy: 1.0000 - val_loss: 0.2241 - val_accuracy: 0.9550\n",
      "Epoch 93/100\n",
      " - 1s - loss: 4.2573e-04 - accuracy: 1.0000 - val_loss: 0.2252 - val_accuracy: 0.9550\n",
      "Epoch 94/100\n",
      " - 1s - loss: 2.6521e-04 - accuracy: 1.0000 - val_loss: 0.2300 - val_accuracy: 0.9459\n",
      "Epoch 95/100\n",
      " - 1s - loss: 3.1722e-04 - accuracy: 1.0000 - val_loss: 0.2293 - val_accuracy: 0.9459\n",
      "Epoch 96/100\n",
      " - 1s - loss: 2.3713e-04 - accuracy: 1.0000 - val_loss: 0.2297 - val_accuracy: 0.9459\n",
      "Epoch 97/100\n",
      " - 1s - loss: 3.4506e-04 - accuracy: 1.0000 - val_loss: 0.2277 - val_accuracy: 0.9459\n",
      "Epoch 98/100\n",
      " - 1s - loss: 3.6220e-04 - accuracy: 1.0000 - val_loss: 0.2229 - val_accuracy: 0.9459\n",
      "Epoch 99/100\n",
      " - 1s - loss: 2.2421e-04 - accuracy: 1.0000 - val_loss: 0.2206 - val_accuracy: 0.9459\n",
      "Epoch 100/100\n",
      " - 1s - loss: 0.0016 - accuracy: 1.0000 - val_loss: 0.2174 - val_accuracy: 0.9459\n"
     ]
    }
   ],
   "source": [
    "history = model6.fit(X_train,\n",
    "                    y_train,\n",
    "                    batch_size=32,\n",
    "                    validation_data=(X_test, y_test),\n",
    "                    epochs=100,\n",
    "                    verbose=2)"
   ]
  },
  {
   "cell_type": "code",
   "execution_count": 83,
   "metadata": {},
   "outputs": [
    {
     "data": {
      "text/plain": [
       "<matplotlib.legend.Legend at 0x206d356e6a0>"
      ]
     },
     "execution_count": 83,
     "metadata": {},
     "output_type": "execute_result"
    },
    {
     "data": {
      "image/png": "[encoded data removed]",
      "text/plain": [
       "<Figure size 432x288 with 1 Axes>"
      ]
     },
     "metadata": {
      "needs_background": "light"
     },
     "output_type": "display_data"
    }
   ],
   "source": [
    "plt.plot(history.history['loss'], label = ' Training Loss')\n",
    "plt.plot(history.history['val_loss'], label = ' Test Loss')\n",
    "plt.legend()"
   ]
  },
  {
   "cell_type": "code",
   "execution_count": 84,
   "metadata": {},
   "outputs": [
    {
     "data": {
      "text/plain": [
       "<matplotlib.legend.Legend at 0x206d35e7668>"
      ]
     },
     "execution_count": 84,
     "metadata": {},
     "output_type": "execute_result"
    },
    {
     "data": {
      "image/png": "[encoded data removed]",
      "text/plain": [
       "<Figure size 432x288 with 1 Axes>"
      ]
     },
     "metadata": {
      "needs_background": "light"
     },
     "output_type": "display_data"
    }
   ],
   "source": [
    "plt.plot(history.history['accuracy'], label = ' Training Accuracy')\n",
    "plt.plot(history.history['val_accuracy'], label = ' Test Accuracy')\n",
    "plt.legend()"
   ]
  },
  {
   "cell_type": "code",
   "execution_count": null,
   "metadata": {},
   "outputs": [],
   "source": []
  }
 ],
 "metadata": {
  "kernelspec": {
   "display_name": "Python 3",
   "language": "python",
   "name": "python3"
  },
  "language_info": {
   "codemirror_mode": {
    "name": "ipython",
    "version": 3
   },
   "file_extension": ".py",
   "mimetype": "text/x-python",
   "name": "python",
   "nbconvert_exporter": "python",
   "pygments_lexer": "ipython3",
   "version": "3.6.12"
  }
 },
 "nbformat": 4,
 "nbformat_minor": 4
}
