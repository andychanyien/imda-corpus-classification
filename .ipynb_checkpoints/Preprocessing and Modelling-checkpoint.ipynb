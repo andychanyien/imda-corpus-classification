{
 "cells": [
  {
   "cell_type": "code",
   "execution_count": 1,
   "metadata": {},
   "outputs": [
    {
     "name": "stderr",
     "output_type": "stream",
     "text": [
      "Using TensorFlow backend.\n"
     ]
    }
   ],
   "source": [
    "import IPython.display as ipd\n",
    "import pandas as pd\n",
    "import numpy as np\n",
    "import librosa\n",
    "import librosa.display\n",
    "import matplotlib.pyplot as plt\n",
    "from scipy.io import wavfile as wav\n",
    "\n",
    "from sklearn import metrics\n",
    "from sklearn.preprocessing import LabelEncoder\n",
    "from sklearn.model_selection import train_test_split\n",
    "\n",
    "from keras.models import Sequential\n",
    "from keras.layers import Dense, Dropout, Activation, Conv2D, MaxPooling2D, Flatten\n",
    "from keras.optimizers import Adam\n",
    "from keras.utils import to_categorical\n",
    "from keras.callbacks import ModelCheckpoint \n",
    "from datetime import datetime \n",
    "\n"
   ]
  },
  {
   "cell_type": "code",
   "execution_count": 2,
   "metadata": {},
   "outputs": [],
   "source": [
    "features_df = pd.read_csv(\"datasets/featuresdf.csv\")"
   ]
  },
  {
   "cell_type": "code",
   "execution_count": 3,
   "metadata": {},
   "outputs": [
    {
     "data": {
      "text/html": [
       "<div>\n",
       "<style scoped>\n",
       "    .dataframe tbody tr th:only-of-type {\n",
       "        vertical-align: middle;\n",
       "    }\n",
       "\n",
       "    .dataframe tbody tr th {\n",
       "        vertical-align: top;\n",
       "    }\n",
       "\n",
       "    .dataframe thead th {\n",
       "        text-align: right;\n",
       "    }\n",
       "</style>\n",
       "<table border=\"1\" class=\"dataframe\">\n",
       "  <thead>\n",
       "    <tr style=\"text-align: right;\">\n",
       "      <th></th>\n",
       "      <th>id</th>\n",
       "      <th>filepath</th>\n",
       "      <th>duration</th>\n",
       "      <th>class_label</th>\n",
       "    </tr>\n",
       "  </thead>\n",
       "  <tbody>\n",
       "    <tr>\n",
       "      <th>0</th>\n",
       "      <td>1400066</td>\n",
       "      <td>./assets/audio_train/1400066_apples.wav</td>\n",
       "      <td>0.759320</td>\n",
       "      <td>apples</td>\n",
       "    </tr>\n",
       "    <tr>\n",
       "      <th>1</th>\n",
       "      <td>1400062</td>\n",
       "      <td>./assets/audio_train/1400062_flowers.wav</td>\n",
       "      <td>0.777324</td>\n",
       "      <td>flowers</td>\n",
       "    </tr>\n",
       "    <tr>\n",
       "      <th>2</th>\n",
       "      <td>1400049</td>\n",
       "      <td>./assets/audio_train/1400049_worker.wav</td>\n",
       "      <td>0.571156</td>\n",
       "      <td>worker</td>\n",
       "    </tr>\n",
       "    <tr>\n",
       "      <th>3</th>\n",
       "      <td>1400051</td>\n",
       "      <td>./assets/audio_train/1400051_water.wav</td>\n",
       "      <td>0.480091</td>\n",
       "      <td>water</td>\n",
       "    </tr>\n",
       "    <tr>\n",
       "      <th>4</th>\n",
       "      <td>1400049</td>\n",
       "      <td>./assets/audio_train/1400049_father.wav</td>\n",
       "      <td>0.448073</td>\n",
       "      <td>father</td>\n",
       "    </tr>\n",
       "  </tbody>\n",
       "</table>\n",
       "</div>"
      ],
      "text/plain": [
       "        id                                  filepath  duration class_label\n",
       "0  1400066   ./assets/audio_train/1400066_apples.wav  0.759320      apples\n",
       "1  1400062  ./assets/audio_train/1400062_flowers.wav  0.777324     flowers\n",
       "2  1400049   ./assets/audio_train/1400049_worker.wav  0.571156      worker\n",
       "3  1400051    ./assets/audio_train/1400051_water.wav  0.480091       water\n",
       "4  1400049   ./assets/audio_train/1400049_father.wav  0.448073      father"
      ]
     },
     "execution_count": 3,
     "metadata": {},
     "output_type": "execute_result"
    }
   ],
   "source": [
    "features_df.head()"
   ]
  },
  {
   "cell_type": "code",
   "execution_count": 4,
   "metadata": {},
   "outputs": [],
   "source": [
    "filepath = f'./assets/audio_train/1400049_father.wav'\n",
    "audio, sr = librosa.load(filepath)\n",
    "mfccs = librosa.feature.mfcc(y = audio, sr=sr, n_mfcc=40)"
   ]
  },
  {
   "cell_type": "code",
   "execution_count": 5,
   "metadata": {
    "scrolled": false
   },
   "outputs": [
    {
     "data": {
      "text/plain": [
       "<matplotlib.collections.QuadMesh at 0x229e1e49320>"
      ]
     },
     "execution_count": 5,
     "metadata": {},
     "output_type": "execute_result"
    },
    {
     "data": {
      "image/png": "[encoded data removed]",
      "text/plain": [
       "<Figure size 576x576 with 1 Axes>"
      ]
     },
     "metadata": {
      "needs_background": "light"
     },
     "output_type": "display_data"
    }
   ],
   "source": [
    "plt.figure(figsize=(8,8))\n",
    "librosa.display.specshow(mfccs, sr=sr, x_axis = 'time')"
   ]
  },
  {
   "cell_type": "code",
   "execution_count": 6,
   "metadata": {},
   "outputs": [
    {
     "data": {
      "text/plain": [
       "(40, 20)"
      ]
     },
     "execution_count": 6,
     "metadata": {},
     "output_type": "execute_result"
    }
   ],
   "source": [
    "mfccs.shape"
   ]
  },
  {
   "cell_type": "code",
   "execution_count": 7,
   "metadata": {},
   "outputs": [
    {
     "data": {
      "text/plain": [
       "array([[-1.96346878e+02, -1.79968414e+02, -1.73948914e+02,\n",
       "        -1.40422562e+02, -1.30837280e+02, -1.27352371e+02,\n",
       "        -1.30908127e+02, -1.21989059e+02, -1.16357872e+02,\n",
       "        -1.56346008e+02, -2.33684799e+02, -2.01312592e+02,\n",
       "        -1.54644608e+02, -1.60986404e+02, -1.86442413e+02,\n",
       "        -2.01413818e+02, -2.20349533e+02, -2.41758011e+02,\n",
       "        -2.62189514e+02, -2.62184204e+02],\n",
       "       [ 1.77322102e+01,  2.43227654e+01,  3.50402946e+01,\n",
       "         1.25764130e+02,  1.88848480e+02,  1.77813965e+02,\n",
       "         1.53549866e+02,  1.35759369e+02,  1.32387589e+02,\n",
       "         1.36715790e+02,  1.34408569e+02,  1.23432144e+02,\n",
       "         1.43213623e+02,  1.33257278e+02,  1.11394714e+02,\n",
       "         1.21203140e+02,  1.09763245e+02,  7.17845459e+01,\n",
       "         5.06944618e+01,  4.38082962e+01],\n",
       "       [-1.01654694e+02, -1.13328751e+02, -1.11931900e+02,\n",
       "        -6.33613739e+01, -5.28529968e+01, -6.58507996e+01,\n",
       "        -7.88319702e+01, -8.26968231e+01, -6.97221756e+01,\n",
       "        -4.02028198e+01, -9.99385262e+00, -2.07248802e+01,\n",
       "        -3.28071213e+01, -4.54788895e+01, -6.39615631e+01,\n",
       "        -6.07765503e+01, -4.81400223e+01, -4.98952599e+01,\n",
       "        -4.27755051e+01, -8.85767746e+00],\n",
       "       [ 3.87398224e+01,  4.58403854e+01,  3.82262840e+01,\n",
       "         2.02896080e+01,  2.98413634e+00,  1.15918655e+01,\n",
       "         1.45092163e+01,  2.37146301e+01,  3.32530823e+01,\n",
       "         3.94306984e+01,  2.86508827e+01,  3.38898773e+01,\n",
       "         3.96785889e+01,  4.92519684e+01,  4.32824402e+01,\n",
       "         3.91668396e+01,  3.46583900e+01,  3.54261818e+01,\n",
       "         3.63591995e+01,  2.54356842e+01],\n",
       "       [-2.25047703e+01, -3.15380554e+01, -4.02831345e+01,\n",
       "        -5.57549896e+01, -6.72180939e+01, -6.90178986e+01,\n",
       "        -6.69942780e+01, -6.51266937e+01, -6.35304451e+01,\n",
       "        -4.81871376e+01, -2.94873238e+01, -3.35700684e+01,\n",
       "        -4.39612885e+01, -4.28146858e+01, -3.97721558e+01,\n",
       "        -3.23618546e+01, -3.06994038e+01, -3.02850323e+01,\n",
       "        -3.09151573e+01, -2.29873543e+01],\n",
       "       [ 4.66273689e+01,  4.32767677e+01,  3.44349670e+01,\n",
       "         2.44319496e+01,  3.79978991e+00,  5.92168665e+00,\n",
       "         1.51693106e+01,  2.08260479e+01,  2.71278839e+01,\n",
       "         3.31658707e+01,  3.74507179e+01,  4.12450600e+01,\n",
       "         3.89598885e+01,  3.24274940e+01,  2.58511448e+01,\n",
       "         2.35024643e+01,  3.27663574e+01,  4.78446159e+01,\n",
       "         4.18270798e+01,  1.47586946e+01],\n",
       "       [-3.01329536e+01, -3.86926613e+01, -4.68135529e+01,\n",
       "        -3.68245392e+01, -1.49395943e+01, -8.79640961e+00,\n",
       "        -3.64812613e+00, -6.31536674e+00, -1.56547737e+01,\n",
       "        -1.93746166e+01, -2.56628914e+01, -4.27601624e+01,\n",
       "        -3.15614166e+01, -1.21384192e+01, -5.25286436e+00,\n",
       "        -5.40139484e+00, -1.40587273e+01, -2.05948524e+01,\n",
       "        -2.35605965e+01, -1.90368843e+01],\n",
       "       [ 9.16758442e+00,  8.15962505e+00,  9.28259254e-01,\n",
       "         7.02591658e+00, -1.67468345e+00, -4.54353380e+00,\n",
       "        -2.05082107e+00, -2.00209093e+00, -1.13819733e+01,\n",
       "        -2.03391304e+01, -1.49040527e+01, -1.89584274e+01,\n",
       "        -3.43236542e+01, -3.91495132e+01, -3.10862560e+01,\n",
       "        -2.71405945e+01, -1.05126858e+01,  5.74782372e-01,\n",
       "        -2.93612063e-01, -4.52736855e+00],\n",
       "       [-2.73550034e+01, -3.13498611e+01, -3.35807037e+01,\n",
       "        -2.58513260e+01, -2.34229088e+01, -2.16231232e+01,\n",
       "        -2.79981098e+01, -3.58242264e+01, -4.52641945e+01,\n",
       "        -4.86502037e+01, -3.41306038e+01, -3.64448128e+01,\n",
       "        -4.63010254e+01, -5.02115707e+01, -4.75061035e+01,\n",
       "        -4.18075829e+01, -3.40442810e+01, -2.88150330e+01,\n",
       "        -3.29409370e+01, -2.29504547e+01],\n",
       "       [-2.29512691e-01, -6.28116035e+00, -5.46555233e+00,\n",
       "        -1.14723997e+01, -2.36925125e+01, -2.72006969e+01,\n",
       "        -2.34118519e+01, -1.60902462e+01, -1.94940453e+01,\n",
       "        -2.50108948e+01, -2.66660042e+01, -2.10820351e+01,\n",
       "        -2.16854439e+01, -1.79851818e+01, -1.22918768e+01,\n",
       "        -1.61919441e+01, -1.71228142e+01, -1.32935314e+01,\n",
       "        -1.28887672e+01, -1.30457706e+01],\n",
       "       [ 3.89378667e+00, -2.92638087e+00, -2.50460362e+00,\n",
       "        -1.26832876e+01, -1.89564018e+01, -1.16235085e+01,\n",
       "        -6.80852079e+00, -3.74942017e+00, -8.14457321e+00,\n",
       "        -1.11393909e+01, -1.40320988e+01, -1.70497265e+01,\n",
       "        -2.25571690e+01, -2.59560413e+01, -1.79626350e+01,\n",
       "        -1.37200174e+01, -9.67395592e+00, -4.25251913e+00,\n",
       "        -5.87590981e+00, -9.90177631e+00],\n",
       "       [-6.38636017e+00, -4.97848225e+00, -7.63995171e+00,\n",
       "        -1.97441101e+01, -7.91689873e+00, -7.69477510e+00,\n",
       "        -9.80539894e+00, -1.03086815e+01, -1.41316843e+01,\n",
       "        -1.66324558e+01, -1.34418468e+01, -2.40523567e+01,\n",
       "        -2.63507595e+01, -2.07551308e+01, -1.41261797e+01,\n",
       "        -1.88922043e+01, -2.33000145e+01, -1.49336815e+01,\n",
       "        -1.19385071e+01, -8.66159439e+00],\n",
       "       [-5.29745817e-02,  7.58251238e+00,  6.27238083e+00,\n",
       "        -5.23961067e+00, -6.71995211e+00, -6.71492577e+00,\n",
       "        -6.28043699e+00, -1.34707489e+01, -2.31109009e+01,\n",
       "        -3.25927010e+01, -2.21254864e+01, -2.03842125e+01,\n",
       "        -2.62225380e+01, -2.85104790e+01, -2.57035980e+01,\n",
       "        -2.43460922e+01, -1.63015060e+01, -5.05138779e+00,\n",
       "        -3.75324512e+00, -5.92416096e+00],\n",
       "       [-7.19624615e+00, -1.19112520e+01, -1.50249567e+01,\n",
       "        -1.86503639e+01, -2.57588196e+01, -2.41916809e+01,\n",
       "        -2.65525284e+01, -2.44839401e+01, -1.96246738e+01,\n",
       "        -1.82245846e+01, -1.95461006e+01, -1.85105515e+01,\n",
       "        -1.84243488e+01, -1.27556019e+01, -1.27857962e+01,\n",
       "        -9.02583885e+00, -1.17204895e+01, -1.61681404e+01,\n",
       "        -1.18074217e+01, -2.27112532e+00],\n",
       "       [ 2.11730042e+01,  1.98284416e+01,  1.60006104e+01,\n",
       "         7.93794918e+00,  4.49588680e+00,  1.87380815e+00,\n",
       "        -1.97001696e-02,  9.82446861e+00,  1.46300678e+01,\n",
       "         1.55858278e+01,  7.12810421e+00,  8.60640526e+00,\n",
       "         1.82667999e+01,  2.20093136e+01,  2.00083847e+01,\n",
       "         1.27458153e+01,  5.11574268e+00,  2.91107941e+00,\n",
       "         6.22757339e+00,  6.44494438e+00],\n",
       "       [-9.58056259e+00, -1.49825554e+01, -2.05787144e+01,\n",
       "        -3.20245934e+01, -2.69546547e+01, -2.24461727e+01,\n",
       "        -2.16676903e+01, -2.57499695e+01, -3.16908035e+01,\n",
       "        -3.18725624e+01, -2.59460754e+01, -2.56608906e+01,\n",
       "        -2.50088577e+01, -2.57699738e+01, -2.70235939e+01,\n",
       "        -2.71753941e+01, -2.63126335e+01, -2.61117516e+01,\n",
       "        -2.09106560e+01, -1.78718796e+01],\n",
       "       [ 8.54685593e+00,  9.52222252e+00,  6.71457958e+00,\n",
       "        -6.34518862e+00, -1.88036003e+01, -2.36958447e+01,\n",
       "        -2.32595291e+01, -1.51712742e+01, -1.11694651e+01,\n",
       "        -7.11982346e+00, -2.91829896e+00, -6.89724636e+00,\n",
       "        -1.08621674e+01, -8.82843590e+00, -5.34982157e+00,\n",
       "        -7.16828537e+00, -8.49761200e+00, -3.05791521e+00,\n",
       "         3.39279985e+00, -3.58610451e-01],\n",
       "       [ 3.64284420e+00,  1.11469388e+00,  4.74357700e+00,\n",
       "        -2.05470490e+00, -1.64172637e+00,  3.90802383e+00,\n",
       "         3.00009251e+00,  5.01088977e-01, -2.60981822e+00,\n",
       "        -2.85729456e+00, -3.38042307e+00, -7.21901131e+00,\n",
       "        -1.47064418e-01, -3.69267297e+00, -7.46060038e+00,\n",
       "        -1.16662426e+01, -5.78460026e+00, -4.04870701e+00,\n",
       "         5.17341042e+00,  7.34568167e+00],\n",
       "       [ 1.17163754e+00, -1.46217215e+00,  1.08345139e+00,\n",
       "        -7.13899612e+00, -4.71900415e+00, -5.77580643e+00,\n",
       "        -6.26100302e+00, -8.62231350e+00, -1.11866283e+01,\n",
       "        -1.40373611e+01, -1.73041897e+01, -1.35301876e+01,\n",
       "        -1.15831394e+01, -5.89044952e+00, -6.26527882e+00,\n",
       "        -1.11193161e+01, -1.11892624e+01, -1.78480148e+01,\n",
       "        -6.49209261e+00,  7.56846952e+00],\n",
       "       [-1.13137245e+01, -1.61345062e+01, -1.42669010e+01,\n",
       "        -2.17737560e+01, -2.17213573e+01, -2.55923843e+01,\n",
       "        -2.89769363e+01, -3.06400738e+01, -3.49997711e+01,\n",
       "        -3.28797226e+01, -2.27956810e+01, -2.46167488e+01,\n",
       "        -2.93954735e+01, -2.84323730e+01, -1.78930779e+01,\n",
       "        -1.44530344e+01, -1.92986450e+01, -2.71648388e+01,\n",
       "        -1.42062607e+01,  1.87652946e+00],\n",
       "       [ 3.78953743e+00,  4.94870663e+00,  5.70436621e+00,\n",
       "        -5.62527847e+00, -1.18507042e+01, -7.43922710e+00,\n",
       "        -2.84354687e+00, -1.37495112e+00,  5.73951840e-01,\n",
       "         3.32990551e+00, -1.08455980e+00,  4.61834580e-01,\n",
       "         4.34407616e+00,  1.61777067e+00,  4.22055721e-02,\n",
       "         1.75947523e+00,  4.84550029e-01, -4.94404840e+00,\n",
       "         8.37652969e+00,  1.73119621e+01],\n",
       "       [ 1.16060982e+01,  8.91989803e+00,  7.66379642e+00,\n",
       "         2.68054008e-03, -5.32765722e+00, -6.94638538e+00,\n",
       "        -4.37910080e+00, -4.90103054e+00, -9.82637215e+00,\n",
       "        -1.55989981e+01, -1.71220665e+01, -1.45620689e+01,\n",
       "        -1.58235798e+01, -1.67949772e+01, -1.82795448e+01,\n",
       "        -1.47931585e+01, -1.34331188e+01, -1.04511833e+01,\n",
       "         1.22421551e+00,  1.75105400e+01],\n",
       "       [ 4.33270979e+00, -2.77281976e+00, -9.35186386e+00,\n",
       "        -1.52063637e+01, -1.06348400e+01, -7.87860537e+00,\n",
       "        -9.54571533e+00, -1.32827988e+01, -1.72715492e+01,\n",
       "        -2.04373703e+01, -1.84725990e+01, -1.84185028e+01,\n",
       "        -1.92016220e+01, -2.46748848e+01, -2.95608768e+01,\n",
       "        -3.04719810e+01, -2.86153717e+01, -2.20482330e+01,\n",
       "        -9.34208679e+00,  9.16100121e+00],\n",
       "       [ 4.85439968e+00,  8.37013626e+00,  7.26551151e+00,\n",
       "         1.01734495e+00, -1.08990359e+00, -3.87800741e+00,\n",
       "        -3.78719151e-01,  6.18360329e+00,  1.06775541e+01,\n",
       "         8.92746544e+00,  1.35131407e+00,  2.75749207e+00,\n",
       "         9.90991020e+00,  1.17432594e+01,  7.03731680e+00,\n",
       "         2.48668981e+00, -3.95588017e+00, -4.99546051e+00,\n",
       "         7.36439514e+00,  1.34065228e+01],\n",
       "       [-1.47318182e+01, -1.07970343e+01, -7.68140650e+00,\n",
       "        -1.26277590e+01, -1.65532074e+01, -1.84316902e+01,\n",
       "        -2.03848038e+01, -2.03236771e+01, -2.18124332e+01,\n",
       "        -2.89411697e+01, -2.17435570e+01, -2.02590904e+01,\n",
       "        -2.18280430e+01, -2.05552807e+01, -2.17854977e+01,\n",
       "        -2.39976959e+01, -2.23445511e+01, -1.90917397e+01,\n",
       "        -8.24537182e+00, -8.92422867e+00],\n",
       "       [ 1.72688866e+00,  7.37544060e+00,  1.08369379e+01,\n",
       "        -1.08182013e-01, -3.55418468e+00, -5.76701701e-01,\n",
       "         1.51699162e+00, -2.41318464e-01,  2.42102051e+00,\n",
       "         5.84830904e+00,  4.63032579e+00,  4.11577940e-01,\n",
       "         1.92218065e-01,  3.87640357e-01, -6.10862064e+00,\n",
       "        -9.98841763e+00, -8.63560867e+00, -2.34439015e-01,\n",
       "         4.04835129e+00,  2.74092960e+00],\n",
       "       [-2.26203561e+00, -6.47310925e+00, -3.78596449e+00,\n",
       "        -1.45861177e+01, -1.84636574e+01, -1.68169804e+01,\n",
       "        -1.28269176e+01, -1.81230297e+01, -2.00246067e+01,\n",
       "        -1.42862377e+01, -1.04871941e+01, -1.65845490e+01,\n",
       "        -1.63372574e+01, -1.66327400e+01, -1.44640703e+01,\n",
       "        -1.09995804e+01, -1.09914932e+01, -1.03158360e+01,\n",
       "        -8.76638889e+00, -1.80091310e+00],\n",
       "       [ 1.56100512e+00, -5.62875509e-01, -1.41107523e+00,\n",
       "        -1.13349476e+01, -1.29060154e+01, -1.56316452e+01,\n",
       "        -1.65195961e+01, -1.31314964e+01, -1.04922199e+01,\n",
       "        -9.25068188e+00, -1.11853542e+01, -9.11283112e+00,\n",
       "        -1.20743389e+01, -1.41875134e+01, -1.33869629e+01,\n",
       "        -1.19394073e+01, -8.67904282e+00, -6.91169453e+00,\n",
       "        -6.00130558e+00, -5.46558094e+00],\n",
       "       [-4.93292236e+00, -2.65394950e+00,  2.22228169e-01,\n",
       "        -4.05071163e+00, -5.94530487e+00, -7.03572893e+00,\n",
       "        -7.41137791e+00, -8.33084297e+00, -2.21757841e+00,\n",
       "         1.85797262e+00, -7.69110632e+00, -5.51091969e-01,\n",
       "         2.95611095e+00,  3.12033987e+00, -1.12225795e+00,\n",
       "        -4.80825138e+00, -9.55388641e+00, -4.57409763e+00,\n",
       "        -1.66897845e+00, -5.12386227e+00],\n",
       "       [-8.42332602e-01,  3.41889286e+00,  3.02587891e+00,\n",
       "        -3.51278925e+00, -7.49832344e+00, -7.74585629e+00,\n",
       "        -1.09582901e+01, -1.50830097e+01, -1.15860062e+01,\n",
       "        -1.18628292e+01, -1.11036606e+01,  1.57077408e+00,\n",
       "        -2.18083382e-01, -8.72432995e+00, -1.28658142e+01,\n",
       "        -5.46540594e+00, -1.69247508e-01,  1.62998641e+00,\n",
       "        -2.25348520e+00, -7.62179947e+00],\n",
       "       [-6.45559978e+00, -2.63885403e+00, -5.41385078e+00,\n",
       "        -1.06778746e+01, -6.09016466e+00, -8.10163212e+00,\n",
       "        -6.90275908e+00, -5.17116451e+00,  4.79864478e-02,\n",
       "         4.13219452e+00,  1.67542982e+00, -9.08793747e-01,\n",
       "        -4.66300106e+00, -1.10929117e+01, -9.88878822e+00,\n",
       "         9.54649687e-01,  7.23293352e+00,  6.41649294e+00,\n",
       "        -1.28378904e+00, -3.26941252e-01],\n",
       "       [-1.10735664e+01, -5.12196732e+00, -3.48464227e+00,\n",
       "        -7.79592228e+00, -1.79323959e+01, -1.39350519e+01,\n",
       "        -8.18399429e+00, -9.11724472e+00, -5.65617847e+00,\n",
       "        -1.87529552e+00, -8.81930590e-01,  2.04828835e+00,\n",
       "        -6.99683547e-01, -1.60580397e+00,  5.53823376e+00,\n",
       "         1.06662959e-01, -1.95529425e+00,  2.07824612e+00,\n",
       "        -3.58924437e+00, -6.58482552e+00],\n",
       "       [-4.67548084e+00,  3.90050220e+00,  7.84828854e+00,\n",
       "         1.95864558e+00,  2.91134566e-01, -4.32279253e+00,\n",
       "        -4.85612249e+00, -3.63011551e+00, -4.56243658e+00,\n",
       "        -6.75482607e+00, -2.34540677e+00,  8.73556519e+00,\n",
       "         4.79035616e+00,  8.55029488e+00,  2.17427654e+01,\n",
       "         1.48839931e+01,  9.50321198e+00,  9.34209251e+00,\n",
       "         4.50280547e-01, -4.85223818e+00],\n",
       "       [-3.41820669e+00, -7.00989914e+00, -6.06575298e+00,\n",
       "        -9.57423782e+00, -4.51690340e+00, -7.05561209e+00,\n",
       "        -8.61750889e+00, -1.17396622e+01, -1.06182175e+01,\n",
       "        -1.12463150e+01, -4.01076078e+00,  2.81279325e-01,\n",
       "         5.66604328e+00,  1.84508591e+01,  3.50980568e+01,\n",
       "         2.51844711e+01,  1.20261345e+01,  2.64425898e+00,\n",
       "        -3.87277889e+00, -1.13093920e+01],\n",
       "       [ 2.19218016e-01, -3.99467611e+00, -5.37749469e-01,\n",
       "        -3.66521955e+00, -1.01597862e+01, -7.03770924e+00,\n",
       "        -8.24699020e+00, -8.88425636e+00, -1.24234810e+01,\n",
       "        -1.95793610e+01, -8.73353672e+00,  1.16523399e+01,\n",
       "         2.30302620e+01,  3.06222458e+01,  4.11717682e+01,\n",
       "         3.33200989e+01,  1.94571915e+01,  6.00245380e+00,\n",
       "        -1.89615488e-02, -4.88949776e+00],\n",
       "       [-8.65672398e+00, -8.37995625e+00, -1.45476365e+00,\n",
       "        -5.04253507e-02, -2.57175398e+00, -8.01688194e+00,\n",
       "        -1.14079733e+01, -9.72469711e+00, -1.20543737e+01,\n",
       "        -1.95093002e+01, -1.74630833e+01,  8.07215929e-01,\n",
       "         9.88359451e+00,  1.80006447e+01,  2.59525337e+01,\n",
       "         2.33681831e+01,  1.78175430e+01,  5.90894794e+00,\n",
       "        -3.27878547e+00,  1.39265203e+00],\n",
       "       [ 3.41636896e+00,  3.76945806e+00,  7.10914898e+00,\n",
       "         1.22557001e+01,  4.27858734e+00, -9.96623039e-01,\n",
       "        -5.62755156e+00,  6.00541592e-01,  1.01998825e+01,\n",
       "         1.14512281e+01,  9.53804111e+00,  1.00902748e+01,\n",
       "         1.37340612e+01,  1.93041077e+01,  2.15052528e+01,\n",
       "         2.41213684e+01,  2.39475613e+01,  1.43818817e+01,\n",
       "         3.67414141e+00,  8.70783031e-01],\n",
       "       [ 7.52246737e-01,  1.11954880e+00,  1.37434077e+00,\n",
       "         6.81539392e+00,  1.30193758e+00, -3.99588299e+00,\n",
       "        -4.91948223e+00,  9.42759705e+00,  1.89139690e+01,\n",
       "         2.06252460e+01,  1.39667730e+01,  5.01121140e+00,\n",
       "         7.01500893e-01, -1.11570847e+00,  4.38351929e-01,\n",
       "         3.89988279e+00,  1.01588383e+01,  8.78347683e+00,\n",
       "         4.37749338e+00,  6.71015263e+00],\n",
       "       [ 8.39591026e-02,  3.59721088e+00,  3.22606492e+00,\n",
       "         6.79793644e+00,  2.68413401e+00,  5.80390811e-01,\n",
       "         8.70772362e+00,  2.85481567e+01,  3.61792450e+01,\n",
       "         3.61191635e+01,  1.75960674e+01, -6.32959986e+00,\n",
       "        -1.32973661e+01, -1.73771248e+01, -1.07916679e+01,\n",
       "        -9.86417198e+00, -1.51094925e+00,  4.67193413e+00,\n",
       "         2.30340242e+00,  1.05290198e+00],\n",
       "       [-1.07259047e+00,  4.32546186e+00,  2.86397314e+00,\n",
       "         5.87630701e+00,  7.40903807e+00,  1.03037205e+01,\n",
       "         2.69412766e+01,  4.04633484e+01,  3.69946022e+01,\n",
       "         3.45860443e+01,  2.33222466e+01,  2.76983976e-01,\n",
       "        -2.39853477e+00, -6.08712244e+00, -2.93348932e+00,\n",
       "         1.11517382e+00,  7.21005201e-02,  1.91065049e+00,\n",
       "         1.45570421e+00, -1.84634924e-02]], dtype=float32)"
      ]
     },
     "execution_count": 7,
     "metadata": {},
     "output_type": "execute_result"
    }
   ],
   "source": [
    "mfccs"
   ]
  },
  {
   "cell_type": "code",
   "execution_count": 8,
   "metadata": {},
   "outputs": [
    {
     "data": {
      "text/plain": [
       "<matplotlib.collections.QuadMesh at 0x16867caaf60>"
      ]
     },
     "execution_count": 8,
     "metadata": {},
     "output_type": "execute_result"
    },
    {
     "data": {
      "image/png": "[encoded data removed]",
      "text/plain": [
       "<Figure size 576x576 with 1 Axes>"
      ]
     },
     "metadata": {
      "needs_background": "light"
     },
     "output_type": "display_data"
    }
   ],
   "source": [
    "filepath = f'./assets/audio_train/1400062_flowers.wav'\n",
    "audio, sr = librosa.load(filepath)\n",
    "mfccs = librosa.feature.mfcc(y = audio, sr=sr, n_mfcc=40)\n",
    "plt.figure(figsize=(8,8))\n",
    "librosa.display.specshow(mfccs, sr=sr, x_axis = 'time')"
   ]
  },
  {
   "cell_type": "code",
   "execution_count": 9,
   "metadata": {},
   "outputs": [
    {
     "data": {
      "text/plain": [
       "(40, 34)"
      ]
     },
     "execution_count": 9,
     "metadata": {},
     "output_type": "execute_result"
    }
   ],
   "source": [
    "mfccs.shape"
   ]
  },
  {
   "cell_type": "markdown",
   "metadata": {},
   "source": [
    "## 3. Preprocessing"
   ]
  },
  {
   "cell_type": "markdown",
   "metadata": {},
   "source": [
    "There are many ways of preprocessing audio files and the methods of preprocessing is heavily dependent on the type of classification model which will be used.\n",
    "\n",
    "The model I will be building is:\n",
    "\n",
    "1. Feedforward Neural Network\n",
    "2. Convolutional Neural Network\n",
    "3. Ensemble Method"
   ]
  },
  {
   "cell_type": "markdown",
   "metadata": {},
   "source": [
    "#### Preproccessing for FNN\n",
    "\n",
    "There are a few ways to process the audio for a simple feedforward neural network. The first and most common way is to find the average of each coefficient of the MFCC across time, which will give us a shape of (40,1) dimensions. \n"
   ]
  },
  {
   "cell_type": "code",
   "execution_count": 6,
   "metadata": {},
   "outputs": [],
   "source": [
    "def get_mfccs_features(file_list):\n",
    "    features = {}\n",
    "    mean = []\n",
    "    std = []\n",
    "    delta_mean = []\n",
    "    delta_std = []\n",
    "    for f in file_list:\n",
    "        audio, sr = librosa.load(f) \n",
    "        mfccs = librosa.feature.mfcc(y=audio, sr=sr, n_mfcc=40)\n",
    "        mfccs_delta = librosa.feature.delta(mfccs)\n",
    "        \n",
    "        mfccs_mean = np.mean(mfccs.T,axis=0)\n",
    "        mean.append(mfccs_mean)\n",
    "        \n",
    "        mfccs_std = np.std(mfccs.T,axis=0)\n",
    "        std.append(mfccs_std)\n",
    "        \n",
    "        mfccs_delta_mean = np.mean(mfccs_delta.T,axis=0)\n",
    "        delta_mean.append(mfccs_delta_mean)\n",
    "        \n",
    "        mfccs_delta_std = np.std(mfccs_delta.T,axis=0)\n",
    "        delta_std.append(mfccs_delta_std)\n",
    "    \n",
    "    features['mfccs_mean'] = mean\n",
    "    features['mfccs_std'] = std\n",
    "    features['mfccs_delta_mean'] = delta_mean\n",
    "    features['mfccs_delta_std'] = delta_std\n",
    "    \n",
    "    return features"
   ]
  },
  {
   "cell_type": "code",
   "execution_count": 7,
   "metadata": {},
   "outputs": [],
   "source": [
    "# get all the features\n",
    "\n",
    "mfccs_features = get_mfccs_features(features_df['filepath'])"
   ]
  },
  {
   "cell_type": "code",
   "execution_count": 8,
   "metadata": {},
   "outputs": [],
   "source": [
    "# add them into the dataframe\n",
    "\n",
    "for k, v in mfccs_features.items():\n",
    "    features_df[k] = v"
   ]
  },
  {
   "cell_type": "code",
   "execution_count": 9,
   "metadata": {},
   "outputs": [],
   "source": [
    "combined_features = []\n",
    "for n in range(0,len(features_df)):\n",
    "    combined_features.append(np.concatenate((features_df['mfccs_mean'][n],features_df['mfccs_std'][n], features_df['mfccs_delta_mean'][n],features_df['mfccs_delta_std'][n])))\n",
    "features_df['combined_mfccs'] = combined_features"
   ]
  },
  {
   "cell_type": "code",
   "execution_count": 75,
   "metadata": {},
   "outputs": [],
   "source": [
    "X_1 = features_df['mfccs_mean']"
   ]
  },
  {
   "cell_type": "code",
   "execution_count": 76,
   "metadata": {},
   "outputs": [],
   "source": [
    "X_1 = np.array(X_1.tolist())"
   ]
  },
  {
   "cell_type": "code",
   "execution_count": 77,
   "metadata": {},
   "outputs": [],
   "source": [
    "y = to_categorical(le.fit_transform(features_df['class_label'].tolist()))\n",
    "y = np.array(y)"
   ]
  },
  {
   "cell_type": "code",
   "execution_count": 78,
   "metadata": {},
   "outputs": [],
   "source": [
    "X_train_1, X_test_1, y_train, y_test = train_test_split(X_1, y, test_size = 0.2, random_state = 42, stratify = y)"
   ]
  },
  {
   "cell_type": "markdown",
   "metadata": {},
   "source": [
    "**Pre-processing For CNN**"
   ]
  },
  {
   "cell_type": "code",
   "execution_count": 24,
   "metadata": {},
   "outputs": [],
   "source": [
    "def get_mel(filename):\n",
    "    audio, sr = librosa.load(filename)\n",
    "    mel= librosa.feature.melspectrogram(audio, sr=sr)\n",
    "    mel = librosa.util.fix_length(mel,39)\n",
    "    return mel.T"
   ]
  },
  {
   "cell_type": "code",
   "execution_count": 25,
   "metadata": {},
   "outputs": [],
   "source": [
    "features_df['mel'] = features_df['filepath'].map(get_mel)"
   ]
  },
  {
   "cell_type": "code",
   "execution_count": 26,
   "metadata": {},
   "outputs": [],
   "source": [
    "X_cnn = np.array(features_df['mel'].tolist())"
   ]
  },
  {
   "cell_type": "code",
   "execution_count": 27,
   "metadata": {},
   "outputs": [
    {
     "data": {
      "text/plain": [
       "(553, 39, 128)"
      ]
     },
     "execution_count": 27,
     "metadata": {},
     "output_type": "execute_result"
    }
   ],
   "source": [
    "X_cnn.shape"
   ]
  },
  {
   "cell_type": "code",
   "execution_count": 28,
   "metadata": {},
   "outputs": [],
   "source": [
    "le = LabelEncoder()\n",
    "y = to_categorical(le.fit_transform(features_df['class_label'].tolist()))\n",
    "y = np.array(y)"
   ]
  },
  {
   "cell_type": "code",
   "execution_count": 29,
   "metadata": {},
   "outputs": [
    {
     "data": {
      "text/plain": [
       "(553, 5)"
      ]
     },
     "execution_count": 29,
     "metadata": {},
     "output_type": "execute_result"
    }
   ],
   "source": [
    "y.shape"
   ]
  },
  {
   "cell_type": "code",
   "execution_count": 30,
   "metadata": {},
   "outputs": [],
   "source": [
    "X_train_cnn, X_test_cnn, y_train_cnn, y_test_cnn = train_test_split(X_cnn, y, test_size = 0.2, random_state = 42, stratify = y)"
   ]
  },
  {
   "cell_type": "code",
   "execution_count": 31,
   "metadata": {},
   "outputs": [],
   "source": [
    "X_train_cnn = X_train_cnn.reshape(X_train_cnn.shape[0], 39, 128, 1)\n",
    "X_test_cnn = X_test_cnn.reshape(X_test_cnn.shape[0], 39, 128, 1)"
   ]
  },
  {
   "cell_type": "markdown",
   "metadata": {},
   "source": [
    "\n",
    "## 4. Modelling"
   ]
  },
  {
   "cell_type": "markdown",
   "metadata": {},
   "source": [
    "Model 1: Vanilla Base-line model\n",
    "\n",
    "FNN with MFCCS mean\n",
    "Dimension = 40\n",
    "layers = 2"
   ]
  },
  {
   "cell_type": "code",
   "execution_count": 79,
   "metadata": {},
   "outputs": [],
   "source": [
    "model = Sequential()\n",
    "model.add(Dense(64, activation='relu', input_shape=(40,)))\n",
    "model.add(Dense(64, activation='relu'))\n",
    "model.add(Dense(5, activation='softmax'))"
   ]
  },
  {
   "cell_type": "code",
   "execution_count": 80,
   "metadata": {},
   "outputs": [],
   "source": [
    "model.compile(loss='categorical_crossentropy', optimizer='adam', metrics = ['accuracy'])"
   ]
  },
  {
   "cell_type": "code",
   "execution_count": 84,
   "metadata": {},
   "outputs": [
    {
     "name": "stdout",
     "output_type": "stream",
     "text": [
      "Model: \"sequential_7\"\n",
      "_________________________________________________________________\n",
      "Layer (type)                 Output Shape              Param #   \n",
      "=================================================================\n",
      "dense_19 (Dense)             (None, 64)                2624      \n",
      "_________________________________________________________________\n",
      "dense_20 (Dense)             (None, 64)                4160      \n",
      "_________________________________________________________________\n",
      "dense_21 (Dense)             (None, 5)                 325       \n",
      "=================================================================\n",
      "Total params: 7,109\n",
      "Trainable params: 7,109\n",
      "Non-trainable params: 0\n",
      "_________________________________________________________________\n"
     ]
    }
   ],
   "source": [
    "model.summary()"
   ]
  },
  {
   "cell_type": "code",
   "execution_count": 85,
   "metadata": {},
   "outputs": [
    {
     "name": "stdout",
     "output_type": "stream",
     "text": [
      "Train on 442 samples, validate on 111 samples\n",
      "Epoch 1/50\n",
      " - 0s - loss: 16.0236 - accuracy: 0.1765 - val_loss: 6.5337 - val_accuracy: 0.2523\n",
      "Epoch 2/50\n",
      " - 0s - loss: 5.6419 - accuracy: 0.2670 - val_loss: 3.1831 - val_accuracy: 0.3784\n",
      "Epoch 3/50\n",
      " - 0s - loss: 3.0613 - accuracy: 0.3801 - val_loss: 2.7844 - val_accuracy: 0.3874\n",
      "Epoch 4/50\n",
      " - 0s - loss: 2.3701 - accuracy: 0.4095 - val_loss: 2.1627 - val_accuracy: 0.4775\n",
      "Epoch 5/50\n",
      " - 0s - loss: 1.8660 - accuracy: 0.4706 - val_loss: 1.9763 - val_accuracy: 0.4955\n",
      "Epoch 6/50\n",
      " - 0s - loss: 1.5818 - accuracy: 0.5204 - val_loss: 1.8207 - val_accuracy: 0.5135\n",
      "Epoch 7/50\n",
      " - 0s - loss: 1.4109 - accuracy: 0.5792 - val_loss: 1.6948 - val_accuracy: 0.5225\n",
      "Epoch 8/50\n",
      " - 0s - loss: 1.2433 - accuracy: 0.6086 - val_loss: 1.5911 - val_accuracy: 0.5225\n",
      "Epoch 9/50\n",
      " - 0s - loss: 1.0933 - accuracy: 0.6403 - val_loss: 1.5192 - val_accuracy: 0.5676\n",
      "Epoch 10/50\n",
      " - 0s - loss: 1.0670 - accuracy: 0.6561 - val_loss: 1.5347 - val_accuracy: 0.5225\n",
      "Epoch 11/50\n",
      " - 0s - loss: 1.0115 - accuracy: 0.6584 - val_loss: 1.3342 - val_accuracy: 0.5946\n",
      "Epoch 12/50\n",
      " - 0s - loss: 0.9074 - accuracy: 0.7036 - val_loss: 1.2734 - val_accuracy: 0.6126\n",
      "Epoch 13/50\n",
      " - 0s - loss: 0.8177 - accuracy: 0.7059 - val_loss: 1.2744 - val_accuracy: 0.6036\n",
      "Epoch 14/50\n",
      " - 0s - loss: 0.7636 - accuracy: 0.7285 - val_loss: 1.2728 - val_accuracy: 0.6036\n",
      "Epoch 15/50\n",
      " - 0s - loss: 0.7708 - accuracy: 0.7511 - val_loss: 1.2849 - val_accuracy: 0.6216\n",
      "Epoch 16/50\n",
      " - 0s - loss: 0.7034 - accuracy: 0.7557 - val_loss: 1.2769 - val_accuracy: 0.6036\n",
      "Epoch 17/50\n",
      " - 0s - loss: 0.6834 - accuracy: 0.7624 - val_loss: 1.4019 - val_accuracy: 0.5766\n",
      "Epoch 18/50\n",
      " - 0s - loss: 0.7380 - accuracy: 0.7398 - val_loss: 1.5187 - val_accuracy: 0.5856\n",
      "Epoch 19/50\n",
      " - 0s - loss: 0.7759 - accuracy: 0.7285 - val_loss: 1.4470 - val_accuracy: 0.6036\n",
      "Epoch 20/50\n",
      " - 0s - loss: 0.6785 - accuracy: 0.7511 - val_loss: 1.2942 - val_accuracy: 0.5856\n",
      "Epoch 21/50\n",
      " - 0s - loss: 0.6361 - accuracy: 0.7783 - val_loss: 1.2473 - val_accuracy: 0.6126\n",
      "Epoch 22/50\n",
      " - 0s - loss: 0.5950 - accuracy: 0.7896 - val_loss: 1.2084 - val_accuracy: 0.6396\n",
      "Epoch 23/50\n",
      " - 0s - loss: 0.5834 - accuracy: 0.7896 - val_loss: 1.2133 - val_accuracy: 0.6577\n",
      "Epoch 24/50\n",
      " - 0s - loss: 0.5381 - accuracy: 0.8303 - val_loss: 1.1880 - val_accuracy: 0.6577\n",
      "Epoch 25/50\n",
      " - 0s - loss: 0.5163 - accuracy: 0.8190 - val_loss: 1.1676 - val_accuracy: 0.6306\n",
      "Epoch 26/50\n",
      " - 0s - loss: 0.5032 - accuracy: 0.8258 - val_loss: 1.2891 - val_accuracy: 0.6036\n",
      "Epoch 27/50\n",
      " - 0s - loss: 0.4852 - accuracy: 0.8235 - val_loss: 1.2515 - val_accuracy: 0.5946\n",
      "Epoch 28/50\n",
      " - 0s - loss: 0.4541 - accuracy: 0.8484 - val_loss: 1.4654 - val_accuracy: 0.5676\n",
      "Epoch 29/50\n",
      " - 0s - loss: 0.5090 - accuracy: 0.8281 - val_loss: 1.1708 - val_accuracy: 0.6486\n",
      "Epoch 30/50\n",
      " - 0s - loss: 0.4705 - accuracy: 0.8326 - val_loss: 1.1907 - val_accuracy: 0.6667\n",
      "Epoch 31/50\n",
      " - 0s - loss: 0.4277 - accuracy: 0.8529 - val_loss: 1.3151 - val_accuracy: 0.6126\n",
      "Epoch 32/50\n",
      " - 0s - loss: 0.4369 - accuracy: 0.8620 - val_loss: 1.2374 - val_accuracy: 0.6486\n",
      "Epoch 33/50\n",
      " - 0s - loss: 0.3973 - accuracy: 0.8484 - val_loss: 1.3185 - val_accuracy: 0.5946\n",
      "Epoch 34/50\n",
      " - 0s - loss: 0.3814 - accuracy: 0.8733 - val_loss: 1.2199 - val_accuracy: 0.6667\n",
      "Epoch 35/50\n",
      " - 0s - loss: 0.4057 - accuracy: 0.8507 - val_loss: 1.1498 - val_accuracy: 0.6577\n",
      "Epoch 36/50\n",
      " - 0s - loss: 0.3523 - accuracy: 0.8801 - val_loss: 1.1641 - val_accuracy: 0.6486\n",
      "Epoch 37/50\n",
      " - 0s - loss: 0.3590 - accuracy: 0.8756 - val_loss: 1.2054 - val_accuracy: 0.6306\n",
      "Epoch 38/50\n",
      " - 0s - loss: 0.3386 - accuracy: 0.8982 - val_loss: 1.2600 - val_accuracy: 0.6216\n",
      "Epoch 39/50\n",
      " - 0s - loss: 0.3206 - accuracy: 0.8914 - val_loss: 1.2454 - val_accuracy: 0.6306\n",
      "Epoch 40/50\n",
      " - 0s - loss: 0.3091 - accuracy: 0.9095 - val_loss: 1.2207 - val_accuracy: 0.6396\n",
      "Epoch 41/50\n",
      " - 0s - loss: 0.3232 - accuracy: 0.9005 - val_loss: 1.3289 - val_accuracy: 0.6216\n",
      "Epoch 42/50\n",
      " - 0s - loss: 0.3297 - accuracy: 0.8914 - val_loss: 1.3271 - val_accuracy: 0.6216\n",
      "Epoch 43/50\n",
      " - 0s - loss: 0.3077 - accuracy: 0.9027 - val_loss: 1.2522 - val_accuracy: 0.6306\n",
      "Epoch 44/50\n",
      " - 0s - loss: 0.2873 - accuracy: 0.9072 - val_loss: 1.2278 - val_accuracy: 0.6577\n",
      "Epoch 45/50\n",
      " - 0s - loss: 0.3233 - accuracy: 0.8982 - val_loss: 1.3636 - val_accuracy: 0.6396\n",
      "Epoch 46/50\n",
      " - 0s - loss: 0.2759 - accuracy: 0.9163 - val_loss: 1.2948 - val_accuracy: 0.5946\n",
      "Epoch 47/50\n",
      " - 0s - loss: 0.3087 - accuracy: 0.9005 - val_loss: 1.2796 - val_accuracy: 0.6486\n",
      "Epoch 48/50\n",
      " - 0s - loss: 0.2861 - accuracy: 0.9027 - val_loss: 1.3712 - val_accuracy: 0.6396\n",
      "Epoch 49/50\n",
      " - 0s - loss: 0.3089 - accuracy: 0.8914 - val_loss: 1.3779 - val_accuracy: 0.6577\n",
      "Epoch 50/50\n",
      " - 0s - loss: 0.2670 - accuracy: 0.9140 - val_loss: 1.2921 - val_accuracy: 0.6486\n"
     ]
    }
   ],
   "source": [
    "history = model.fit(X_train_1, y_train, validation_data=(X_test_1, y_test), batch_size=32, epochs = 50, verbose=2)"
   ]
  },
  {
   "cell_type": "code",
   "execution_count": 86,
   "metadata": {
    "scrolled": true
   },
   "outputs": [
    {
     "data": {
      "text/plain": [
       "<matplotlib.legend.Legend at 0x22b1c44deb8>"
      ]
     },
     "execution_count": 86,
     "metadata": {},
     "output_type": "execute_result"
    },
    {
     "data": {
      "image/png": "[encoded data removed]",
      "text/plain": [
       "<Figure size 432x288 with 1 Axes>"
      ]
     },
     "metadata": {
      "needs_background": "light"
     },
     "output_type": "display_data"
    }
   ],
   "source": [
    "plt.plot(history.history['loss'], label = ' Training Loss')\n",
    "plt.plot(history.history['val_loss'], label = ' Test Loss')\n",
    "plt.legend()"
   ]
  },
  {
   "cell_type": "code",
   "execution_count": 87,
   "metadata": {},
   "outputs": [
    {
     "data": {
      "text/plain": [
       "<matplotlib.legend.Legend at 0x22b1c4c2e10>"
      ]
     },
     "execution_count": 87,
     "metadata": {},
     "output_type": "execute_result"
    },
    {
     "data": {
      "image/png": "[encoded data removed]",
      "text/plain": [
       "<Figure size 432x288 with 1 Axes>"
      ]
     },
     "metadata": {
      "needs_background": "light"
     },
     "output_type": "display_data"
    }
   ],
   "source": [
    "plt.plot(history.history['accuracy'], label = ' Training Accuracy')\n",
    "plt.plot(history.history['val_accuracy'], label = ' Test Accuracy')\n",
    "plt.legend()"
   ]
  },
  {
   "cell_type": "markdown",
   "metadata": {},
   "source": [
    "Model 2\n",
    "\n",
    "Classifier: FNN\n",
    "Features: 40 coef * 4 indicators (mean and std, delta mean delta std)\n",
    "dimension 160\n"
   ]
  },
  {
   "cell_type": "code",
   "execution_count": 88,
   "metadata": {},
   "outputs": [],
   "source": [
    "X = np.array(features_df['combined_mfccs'].tolist())\n",
    "le = LabelEncoder()\n",
    "y = to_categorical(le.fit_transform(features_df['class_label'].tolist()))\n",
    "y = np.array(y)"
   ]
  },
  {
   "cell_type": "code",
   "execution_count": 89,
   "metadata": {},
   "outputs": [],
   "source": [
    "X_train, X_test, y_train, y_test = train_test_split(X, y, test_size = 0.2, random_state = 42, stratify = y)"
   ]
  },
  {
   "cell_type": "code",
   "execution_count": 90,
   "metadata": {},
   "outputs": [],
   "source": [
    "model2 = Sequential()\n",
    "model2.add(Dense(64, activation='relu', input_shape=(160,)))\n",
    "model2.add(Dense(64, activation='relu'))\n",
    "model2.add(Dense(5, activation='softmax'))"
   ]
  },
  {
   "cell_type": "code",
   "execution_count": 91,
   "metadata": {},
   "outputs": [],
   "source": [
    "model2.compile(loss='categorical_crossentropy', optimizer='adam', metrics = ['accuracy'])"
   ]
  },
  {
   "cell_type": "code",
   "execution_count": 92,
   "metadata": {},
   "outputs": [
    {
     "data": {
      "text/plain": [
       "(442, 160)"
      ]
     },
     "execution_count": 92,
     "metadata": {},
     "output_type": "execute_result"
    }
   ],
   "source": [
    "X_train.shape"
   ]
  },
  {
   "cell_type": "code",
   "execution_count": 93,
   "metadata": {},
   "outputs": [
    {
     "name": "stdout",
     "output_type": "stream",
     "text": [
      "Train on 442 samples, validate on 111 samples\n",
      "Epoch 1/50\n",
      " - 0s - loss: 4.8457 - accuracy: 0.2285 - val_loss: 2.3253 - val_accuracy: 0.4414\n",
      "Epoch 2/50\n",
      " - 0s - loss: 1.7017 - accuracy: 0.4910 - val_loss: 1.1710 - val_accuracy: 0.6126\n",
      "Epoch 3/50\n",
      " - 0s - loss: 0.9941 - accuracy: 0.6471 - val_loss: 0.9431 - val_accuracy: 0.6937\n",
      "Epoch 4/50\n",
      " - 0s - loss: 0.6691 - accuracy: 0.7783 - val_loss: 0.6677 - val_accuracy: 0.7568\n",
      "Epoch 5/50\n",
      " - 0s - loss: 0.5550 - accuracy: 0.7986 - val_loss: 0.5610 - val_accuracy: 0.7838\n",
      "Epoch 6/50\n",
      " - 0s - loss: 0.4113 - accuracy: 0.8529 - val_loss: 0.4866 - val_accuracy: 0.8108\n",
      "Epoch 7/50\n",
      " - 0s - loss: 0.3460 - accuracy: 0.8869 - val_loss: 0.5873 - val_accuracy: 0.8108\n",
      "Epoch 8/50\n",
      " - 0s - loss: 0.2975 - accuracy: 0.8846 - val_loss: 0.3539 - val_accuracy: 0.8468\n",
      "Epoch 9/50\n",
      " - 0s - loss: 0.2369 - accuracy: 0.9186 - val_loss: 0.4002 - val_accuracy: 0.8649\n",
      "Epoch 10/50\n",
      " - 0s - loss: 0.2111 - accuracy: 0.9276 - val_loss: 0.3992 - val_accuracy: 0.8739\n",
      "Epoch 11/50\n",
      " - 0s - loss: 0.1727 - accuracy: 0.9480 - val_loss: 0.2854 - val_accuracy: 0.8919\n",
      "Epoch 12/50\n",
      " - 0s - loss: 0.1764 - accuracy: 0.9502 - val_loss: 0.5575 - val_accuracy: 0.8108\n",
      "Epoch 13/50\n",
      " - 0s - loss: 0.1774 - accuracy: 0.9389 - val_loss: 0.3699 - val_accuracy: 0.8559\n",
      "Epoch 14/50\n",
      " - 0s - loss: 0.2339 - accuracy: 0.9005 - val_loss: 0.2924 - val_accuracy: 0.8919\n",
      "Epoch 15/50\n",
      " - 0s - loss: 0.1820 - accuracy: 0.9321 - val_loss: 0.4390 - val_accuracy: 0.8198\n",
      "Epoch 16/50\n",
      " - 0s - loss: 0.1111 - accuracy: 0.9661 - val_loss: 0.3115 - val_accuracy: 0.8919\n",
      "Epoch 17/50\n",
      " - 0s - loss: 0.0921 - accuracy: 0.9819 - val_loss: 0.2682 - val_accuracy: 0.9099\n",
      "Epoch 18/50\n",
      " - 0s - loss: 0.0771 - accuracy: 0.9842 - val_loss: 0.2612 - val_accuracy: 0.8829\n",
      "Epoch 19/50\n",
      " - 0s - loss: 0.0675 - accuracy: 0.9864 - val_loss: 0.2364 - val_accuracy: 0.9099\n",
      "Epoch 20/50\n",
      " - 0s - loss: 0.0687 - accuracy: 0.9864 - val_loss: 0.3358 - val_accuracy: 0.8919\n",
      "Epoch 21/50\n",
      " - 0s - loss: 0.0792 - accuracy: 0.9887 - val_loss: 0.3723 - val_accuracy: 0.8649\n",
      "Epoch 22/50\n",
      " - 0s - loss: 0.0645 - accuracy: 0.9864 - val_loss: 0.3587 - val_accuracy: 0.8829\n",
      "Epoch 23/50\n",
      " - 0s - loss: 0.0515 - accuracy: 0.9932 - val_loss: 0.2425 - val_accuracy: 0.9189\n",
      "Epoch 24/50\n",
      " - 0s - loss: 0.0548 - accuracy: 0.9910 - val_loss: 0.2434 - val_accuracy: 0.9189\n",
      "Epoch 25/50\n",
      " - 0s - loss: 0.0422 - accuracy: 0.9932 - val_loss: 0.2620 - val_accuracy: 0.9009\n",
      "Epoch 26/50\n",
      " - 0s - loss: 0.0317 - accuracy: 1.0000 - val_loss: 0.2001 - val_accuracy: 0.9279\n",
      "Epoch 27/50\n",
      " - 0s - loss: 0.0322 - accuracy: 1.0000 - val_loss: 0.2481 - val_accuracy: 0.9099\n",
      "Epoch 28/50\n",
      " - 0s - loss: 0.0254 - accuracy: 1.0000 - val_loss: 0.2302 - val_accuracy: 0.9189\n",
      "Epoch 29/50\n",
      " - 0s - loss: 0.0248 - accuracy: 1.0000 - val_loss: 0.2556 - val_accuracy: 0.9189\n",
      "Epoch 30/50\n",
      " - 0s - loss: 0.0267 - accuracy: 1.0000 - val_loss: 0.2694 - val_accuracy: 0.9189\n",
      "Epoch 31/50\n",
      " - 0s - loss: 0.0287 - accuracy: 1.0000 - val_loss: 0.2326 - val_accuracy: 0.9099\n",
      "Epoch 32/50\n",
      " - 0s - loss: 0.0214 - accuracy: 1.0000 - val_loss: 0.2034 - val_accuracy: 0.9189\n",
      "Epoch 33/50\n",
      " - 0s - loss: 0.0192 - accuracy: 1.0000 - val_loss: 0.2183 - val_accuracy: 0.9099\n",
      "Epoch 34/50\n",
      " - 0s - loss: 0.0173 - accuracy: 1.0000 - val_loss: 0.2307 - val_accuracy: 0.9279\n",
      "Epoch 35/50\n",
      " - 0s - loss: 0.0168 - accuracy: 1.0000 - val_loss: 0.2456 - val_accuracy: 0.9189\n",
      "Epoch 36/50\n",
      " - 0s - loss: 0.0177 - accuracy: 1.0000 - val_loss: 0.2217 - val_accuracy: 0.9099\n",
      "Epoch 37/50\n",
      " - 0s - loss: 0.0160 - accuracy: 1.0000 - val_loss: 0.2075 - val_accuracy: 0.9279\n",
      "Epoch 38/50\n",
      " - 0s - loss: 0.0140 - accuracy: 1.0000 - val_loss: 0.2390 - val_accuracy: 0.9189\n",
      "Epoch 39/50\n",
      " - 0s - loss: 0.0138 - accuracy: 1.0000 - val_loss: 0.2259 - val_accuracy: 0.9189\n",
      "Epoch 40/50\n",
      " - 0s - loss: 0.0129 - accuracy: 1.0000 - val_loss: 0.2210 - val_accuracy: 0.9099\n",
      "Epoch 41/50\n",
      " - 0s - loss: 0.0123 - accuracy: 1.0000 - val_loss: 0.2255 - val_accuracy: 0.9189\n",
      "Epoch 42/50\n",
      " - 0s - loss: 0.0122 - accuracy: 1.0000 - val_loss: 0.2191 - val_accuracy: 0.9099\n",
      "Epoch 43/50\n",
      " - 0s - loss: 0.0119 - accuracy: 1.0000 - val_loss: 0.2365 - val_accuracy: 0.9189\n",
      "Epoch 44/50\n",
      " - 0s - loss: 0.0122 - accuracy: 1.0000 - val_loss: 0.2262 - val_accuracy: 0.9099\n",
      "Epoch 45/50\n",
      " - 0s - loss: 0.0109 - accuracy: 1.0000 - val_loss: 0.2282 - val_accuracy: 0.9189\n",
      "Epoch 46/50\n",
      " - 0s - loss: 0.0102 - accuracy: 1.0000 - val_loss: 0.2351 - val_accuracy: 0.9189\n",
      "Epoch 47/50\n",
      " - 0s - loss: 0.0097 - accuracy: 1.0000 - val_loss: 0.2408 - val_accuracy: 0.9279\n",
      "Epoch 48/50\n",
      " - 0s - loss: 0.0096 - accuracy: 1.0000 - val_loss: 0.2265 - val_accuracy: 0.9189\n",
      "Epoch 49/50\n",
      " - 0s - loss: 0.0095 - accuracy: 1.0000 - val_loss: 0.2065 - val_accuracy: 0.9189\n",
      "Epoch 50/50\n",
      " - 0s - loss: 0.0101 - accuracy: 1.0000 - val_loss: 0.2245 - val_accuracy: 0.9099\n"
     ]
    }
   ],
   "source": [
    "history = model2.fit(X_train, y_train, validation_data=(X_test, y_test), batch_size=32, epochs = 50, verbose=2)"
   ]
  },
  {
   "cell_type": "code",
   "execution_count": 94,
   "metadata": {
    "scrolled": false
   },
   "outputs": [
    {
     "data": {
      "text/plain": [
       "<matplotlib.legend.Legend at 0x229ecdd0b38>"
      ]
     },
     "execution_count": 94,
     "metadata": {},
     "output_type": "execute_result"
    },
    {
     "data": {
      "image/png": "[encoded data removed]",
      "text/plain": [
       "<Figure size 432x288 with 1 Axes>"
      ]
     },
     "metadata": {
      "needs_background": "light"
     },
     "output_type": "display_data"
    }
   ],
   "source": [
    "plt.plot(history.history['loss'], label = ' Training Loss')\n",
    "plt.plot(history.history['val_loss'], label = ' Test Loss')\n",
    "plt.legend()"
   ]
  },
  {
   "cell_type": "code",
   "execution_count": 95,
   "metadata": {},
   "outputs": [
    {
     "data": {
      "text/plain": [
       "<matplotlib.legend.Legend at 0x229ecb51d30>"
      ]
     },
     "execution_count": 95,
     "metadata": {},
     "output_type": "execute_result"
    },
    {
     "data": {
      "image/png": "[encoded data removed]",
      "text/plain": [
       "<Figure size 432x288 with 1 Axes>"
      ]
     },
     "metadata": {
      "needs_background": "light"
     },
     "output_type": "display_data"
    }
   ],
   "source": [
    "plt.plot(history.history['accuracy'], label = ' Training Accuracy')\n",
    "plt.plot(history.history['val_accuracy'], label = ' Test Accuracy')\n",
    "plt.legend()"
   ]
  },
  {
   "cell_type": "markdown",
   "metadata": {},
   "source": [
    "**CNN**"
   ]
  },
  {
   "cell_type": "code",
   "execution_count": 96,
   "metadata": {},
   "outputs": [],
   "source": [
    "model3 = Sequential()\n",
    "model3.add(Conv2D(filters = 6, kernel_size=3, activation = 'relu', input_shape = (39,128,1)))\n",
    "model3.add(MaxPooling2D(pool_size= (2,2), padding='same'))\n",
    "model3.add(Conv2D(32, kernel_size=3, activation='relu'))\n",
    "model3.add(MaxPooling2D(pool_size=(2,2), padding='same'))\n",
    "model3.add(Flatten())\n",
    "model3.add(Dense(64, activation = 'relu'))\n",
    "model3.add(Dense(32, activation = 'relu'))\n",
    "model3.add(Dense(5, activation = 'softmax'))"
   ]
  },
  {
   "cell_type": "code",
   "execution_count": 97,
   "metadata": {},
   "outputs": [],
   "source": [
    "model3.compile(loss='categorical_crossentropy',\n",
    "                  optimizer='adam',\n",
    "                  metrics=['accuracy'])"
   ]
  },
  {
   "cell_type": "code",
   "execution_count": 98,
   "metadata": {
    "scrolled": true
   },
   "outputs": [
    {
     "name": "stdout",
     "output_type": "stream",
     "text": [
      "Model: \"sequential_9\"\n",
      "_________________________________________________________________\n",
      "Layer (type)                 Output Shape              Param #   \n",
      "=================================================================\n",
      "conv2d_13 (Conv2D)           (None, 37, 126, 6)        60        \n",
      "_________________________________________________________________\n",
      "max_pooling2d_13 (MaxPooling (None, 19, 63, 6)         0         \n",
      "_________________________________________________________________\n",
      "conv2d_14 (Conv2D)           (None, 17, 61, 32)        1760      \n",
      "_________________________________________________________________\n",
      "max_pooling2d_14 (MaxPooling (None, 9, 31, 32)         0         \n",
      "_________________________________________________________________\n",
      "flatten_7 (Flatten)          (None, 8928)              0         \n",
      "_________________________________________________________________\n",
      "dense_25 (Dense)             (None, 64)                571456    \n",
      "_________________________________________________________________\n",
      "dense_26 (Dense)             (None, 32)                2080      \n",
      "_________________________________________________________________\n",
      "dense_27 (Dense)             (None, 5)                 165       \n",
      "=================================================================\n",
      "Total params: 575,521\n",
      "Trainable params: 575,521\n",
      "Non-trainable params: 0\n",
      "_________________________________________________________________\n"
     ]
    }
   ],
   "source": [
    "model3.summary()"
   ]
  },
  {
   "cell_type": "code",
   "execution_count": 99,
   "metadata": {},
   "outputs": [
    {
     "name": "stdout",
     "output_type": "stream",
     "text": [
      "Train on 442 samples, validate on 111 samples\n",
      "Epoch 1/100\n",
      " - 0s - loss: 7.5350 - accuracy: 0.3643 - val_loss: 2.2357 - val_accuracy: 0.4775\n",
      "Epoch 2/100\n",
      " - 0s - loss: 1.8656 - accuracy: 0.6109 - val_loss: 1.5181 - val_accuracy: 0.5856\n",
      "Epoch 3/100\n",
      " - 0s - loss: 0.8179 - accuracy: 0.7308 - val_loss: 1.3666 - val_accuracy: 0.5946\n",
      "Epoch 4/100\n",
      " - 0s - loss: 0.4639 - accuracy: 0.8258 - val_loss: 1.0101 - val_accuracy: 0.6306\n",
      "Epoch 5/100\n",
      " - 0s - loss: 0.2783 - accuracy: 0.9095 - val_loss: 0.9935 - val_accuracy: 0.7027\n",
      "Epoch 6/100\n",
      " - 0s - loss: 0.2009 - accuracy: 0.9389 - val_loss: 0.8674 - val_accuracy: 0.7387\n",
      "Epoch 7/100\n",
      " - 0s - loss: 0.1429 - accuracy: 0.9683 - val_loss: 0.8322 - val_accuracy: 0.7117\n",
      "Epoch 8/100\n",
      " - 0s - loss: 0.1049 - accuracy: 0.9819 - val_loss: 0.8295 - val_accuracy: 0.7477\n",
      "Epoch 9/100\n",
      " - 0s - loss: 0.0784 - accuracy: 0.9887 - val_loss: 0.7934 - val_accuracy: 0.7207\n",
      "Epoch 10/100\n",
      " - 0s - loss: 0.0602 - accuracy: 0.9977 - val_loss: 0.7994 - val_accuracy: 0.7568\n",
      "Epoch 11/100\n",
      " - 0s - loss: 0.0472 - accuracy: 0.9977 - val_loss: 0.7786 - val_accuracy: 0.7658\n",
      "Epoch 12/100\n",
      " - 0s - loss: 0.0380 - accuracy: 0.9977 - val_loss: 0.7759 - val_accuracy: 0.7928\n",
      "Epoch 13/100\n",
      " - 0s - loss: 0.0311 - accuracy: 1.0000 - val_loss: 0.7793 - val_accuracy: 0.7838\n",
      "Epoch 14/100\n",
      " - 0s - loss: 0.0251 - accuracy: 1.0000 - val_loss: 0.7911 - val_accuracy: 0.7838\n",
      "Epoch 15/100\n",
      " - 0s - loss: 0.0208 - accuracy: 1.0000 - val_loss: 0.7721 - val_accuracy: 0.8018\n",
      "Epoch 16/100\n",
      " - 0s - loss: 0.0173 - accuracy: 1.0000 - val_loss: 0.7955 - val_accuracy: 0.8018\n",
      "Epoch 17/100\n",
      " - 0s - loss: 0.0143 - accuracy: 1.0000 - val_loss: 0.7964 - val_accuracy: 0.7928\n",
      "Epoch 18/100\n",
      " - 0s - loss: 0.0121 - accuracy: 1.0000 - val_loss: 0.8237 - val_accuracy: 0.8018\n",
      "Epoch 19/100\n",
      " - 0s - loss: 0.0105 - accuracy: 1.0000 - val_loss: 0.8134 - val_accuracy: 0.8018\n",
      "Epoch 20/100\n",
      " - 0s - loss: 0.0090 - accuracy: 1.0000 - val_loss: 0.8707 - val_accuracy: 0.8198\n",
      "Epoch 21/100\n",
      " - 0s - loss: 0.0078 - accuracy: 1.0000 - val_loss: 0.8398 - val_accuracy: 0.8108\n",
      "Epoch 22/100\n",
      " - 0s - loss: 0.0069 - accuracy: 1.0000 - val_loss: 0.8589 - val_accuracy: 0.8108\n",
      "Epoch 23/100\n",
      " - 0s - loss: 0.0062 - accuracy: 1.0000 - val_loss: 0.8751 - val_accuracy: 0.8108\n",
      "Epoch 24/100\n",
      " - 0s - loss: 0.0055 - accuracy: 1.0000 - val_loss: 0.8688 - val_accuracy: 0.8198\n",
      "Epoch 25/100\n",
      " - 0s - loss: 0.0050 - accuracy: 1.0000 - val_loss: 0.8831 - val_accuracy: 0.8198\n",
      "Epoch 26/100\n",
      " - 0s - loss: 0.0045 - accuracy: 1.0000 - val_loss: 0.8739 - val_accuracy: 0.8108\n",
      "Epoch 27/100\n",
      " - 0s - loss: 0.0041 - accuracy: 1.0000 - val_loss: 0.8842 - val_accuracy: 0.8288\n",
      "Epoch 28/100\n",
      " - 0s - loss: 0.0038 - accuracy: 1.0000 - val_loss: 0.8864 - val_accuracy: 0.8288\n",
      "Epoch 29/100\n",
      " - 0s - loss: 0.0037 - accuracy: 1.0000 - val_loss: 0.8910 - val_accuracy: 0.8198\n",
      "Epoch 30/100\n",
      " - 0s - loss: 0.0033 - accuracy: 1.0000 - val_loss: 0.8824 - val_accuracy: 0.8198\n",
      "Epoch 31/100\n",
      " - 0s - loss: 0.0030 - accuracy: 1.0000 - val_loss: 0.9129 - val_accuracy: 0.8198\n",
      "Epoch 32/100\n",
      " - 0s - loss: 0.0028 - accuracy: 1.0000 - val_loss: 0.8941 - val_accuracy: 0.8288\n",
      "Epoch 33/100\n",
      " - 0s - loss: 0.0026 - accuracy: 1.0000 - val_loss: 0.9123 - val_accuracy: 0.8198\n",
      "Epoch 34/100\n",
      " - 0s - loss: 0.0024 - accuracy: 1.0000 - val_loss: 0.9099 - val_accuracy: 0.8288\n",
      "Epoch 35/100\n",
      " - 0s - loss: 0.0023 - accuracy: 1.0000 - val_loss: 0.9085 - val_accuracy: 0.8288\n",
      "Epoch 36/100\n",
      " - 0s - loss: 0.0021 - accuracy: 1.0000 - val_loss: 0.9157 - val_accuracy: 0.8198\n",
      "Epoch 37/100\n",
      " - 0s - loss: 0.0020 - accuracy: 1.0000 - val_loss: 0.9103 - val_accuracy: 0.8288\n",
      "Epoch 38/100\n",
      " - 0s - loss: 0.0019 - accuracy: 1.0000 - val_loss: 0.9109 - val_accuracy: 0.8378\n",
      "Epoch 39/100\n",
      " - 0s - loss: 0.0018 - accuracy: 1.0000 - val_loss: 0.9077 - val_accuracy: 0.8378\n",
      "Epoch 40/100\n",
      " - 0s - loss: 0.0017 - accuracy: 1.0000 - val_loss: 0.9159 - val_accuracy: 0.8288\n",
      "Epoch 41/100\n",
      " - 0s - loss: 0.0016 - accuracy: 1.0000 - val_loss: 0.9219 - val_accuracy: 0.8378\n",
      "Epoch 42/100\n",
      " - 0s - loss: 0.0015 - accuracy: 1.0000 - val_loss: 0.9166 - val_accuracy: 0.8378\n",
      "Epoch 43/100\n",
      " - 0s - loss: 0.0015 - accuracy: 1.0000 - val_loss: 0.9217 - val_accuracy: 0.8378\n",
      "Epoch 44/100\n",
      " - 0s - loss: 0.0013 - accuracy: 1.0000 - val_loss: 0.9178 - val_accuracy: 0.8468\n",
      "Epoch 45/100\n",
      " - 0s - loss: 0.0013 - accuracy: 1.0000 - val_loss: 0.9228 - val_accuracy: 0.8468\n",
      "Epoch 46/100\n",
      " - 0s - loss: 0.0012 - accuracy: 1.0000 - val_loss: 0.9226 - val_accuracy: 0.8468\n",
      "Epoch 47/100\n",
      " - 0s - loss: 0.0012 - accuracy: 1.0000 - val_loss: 0.9193 - val_accuracy: 0.8468\n",
      "Epoch 48/100\n",
      " - 0s - loss: 0.0011 - accuracy: 1.0000 - val_loss: 0.9195 - val_accuracy: 0.8468\n",
      "Epoch 49/100\n",
      " - 0s - loss: 0.0011 - accuracy: 1.0000 - val_loss: 0.9180 - val_accuracy: 0.8468\n",
      "Epoch 50/100\n",
      " - 0s - loss: 0.0010 - accuracy: 1.0000 - val_loss: 0.9306 - val_accuracy: 0.8468\n",
      "Epoch 51/100\n",
      " - 0s - loss: 9.7712e-04 - accuracy: 1.0000 - val_loss: 0.9350 - val_accuracy: 0.8468\n",
      "Epoch 52/100\n",
      " - 0s - loss: 9.3818e-04 - accuracy: 1.0000 - val_loss: 0.9245 - val_accuracy: 0.8468\n",
      "Epoch 53/100\n",
      " - 0s - loss: 9.0780e-04 - accuracy: 1.0000 - val_loss: 0.9279 - val_accuracy: 0.8468\n",
      "Epoch 54/100\n",
      " - 0s - loss: 8.6449e-04 - accuracy: 1.0000 - val_loss: 0.9302 - val_accuracy: 0.8559\n",
      "Epoch 55/100\n",
      " - 0s - loss: 8.2582e-04 - accuracy: 1.0000 - val_loss: 0.9266 - val_accuracy: 0.8468\n",
      "Epoch 56/100\n",
      " - 0s - loss: 7.9885e-04 - accuracy: 1.0000 - val_loss: 0.9285 - val_accuracy: 0.8559\n",
      "Epoch 57/100\n",
      " - 0s - loss: 7.5255e-04 - accuracy: 1.0000 - val_loss: 0.9284 - val_accuracy: 0.8468\n",
      "Epoch 58/100\n",
      " - 0s - loss: 7.3637e-04 - accuracy: 1.0000 - val_loss: 0.9280 - val_accuracy: 0.8559\n",
      "Epoch 59/100\n",
      " - 0s - loss: 6.8984e-04 - accuracy: 1.0000 - val_loss: 0.9414 - val_accuracy: 0.8559\n",
      "Epoch 60/100\n",
      " - 0s - loss: 6.4277e-04 - accuracy: 1.0000 - val_loss: 0.9311 - val_accuracy: 0.8559\n",
      "Epoch 61/100\n",
      " - 0s - loss: 6.1760e-04 - accuracy: 1.0000 - val_loss: 0.9323 - val_accuracy: 0.8559\n",
      "Epoch 62/100\n",
      " - 0s - loss: 5.8786e-04 - accuracy: 1.0000 - val_loss: 0.9347 - val_accuracy: 0.8559\n",
      "Epoch 63/100\n",
      " - 0s - loss: 5.6212e-04 - accuracy: 1.0000 - val_loss: 0.9366 - val_accuracy: 0.8559\n",
      "Epoch 64/100\n",
      " - 0s - loss: 5.3822e-04 - accuracy: 1.0000 - val_loss: 0.9369 - val_accuracy: 0.8559\n",
      "Epoch 65/100\n",
      " - 0s - loss: 5.2173e-04 - accuracy: 1.0000 - val_loss: 0.9329 - val_accuracy: 0.8468\n",
      "Epoch 66/100\n",
      " - 0s - loss: 4.9959e-04 - accuracy: 1.0000 - val_loss: 0.9396 - val_accuracy: 0.8559\n",
      "Epoch 67/100\n",
      " - 0s - loss: 4.9075e-04 - accuracy: 1.0000 - val_loss: 0.9323 - val_accuracy: 0.8559\n",
      "Epoch 68/100\n",
      " - 0s - loss: 4.7648e-04 - accuracy: 1.0000 - val_loss: 0.9358 - val_accuracy: 0.8468\n",
      "Epoch 69/100\n",
      " - 0s - loss: 4.4992e-04 - accuracy: 1.0000 - val_loss: 0.9418 - val_accuracy: 0.8559\n",
      "Epoch 70/100\n",
      " - 0s - loss: 4.3576e-04 - accuracy: 1.0000 - val_loss: 0.9362 - val_accuracy: 0.8468\n",
      "Epoch 71/100\n",
      " - 0s - loss: 4.1618e-04 - accuracy: 1.0000 - val_loss: 0.9351 - val_accuracy: 0.8468\n",
      "Epoch 72/100\n",
      " - 0s - loss: 4.0327e-04 - accuracy: 1.0000 - val_loss: 0.9359 - val_accuracy: 0.8468\n",
      "Epoch 73/100\n",
      " - 0s - loss: 3.8866e-04 - accuracy: 1.0000 - val_loss: 0.9369 - val_accuracy: 0.8468\n",
      "Epoch 74/100\n",
      " - 0s - loss: 3.8029e-04 - accuracy: 1.0000 - val_loss: 0.9410 - val_accuracy: 0.8468\n",
      "Epoch 75/100\n",
      " - 0s - loss: 3.6673e-04 - accuracy: 1.0000 - val_loss: 0.9380 - val_accuracy: 0.8468\n",
      "Epoch 76/100\n",
      " - 0s - loss: 3.5543e-04 - accuracy: 1.0000 - val_loss: 0.9421 - val_accuracy: 0.8468\n",
      "Epoch 77/100\n",
      " - 0s - loss: 3.4580e-04 - accuracy: 1.0000 - val_loss: 0.9438 - val_accuracy: 0.8468\n",
      "Epoch 78/100\n",
      " - 0s - loss: 3.3495e-04 - accuracy: 1.0000 - val_loss: 0.9413 - val_accuracy: 0.8468\n",
      "Epoch 79/100\n",
      " - 0s - loss: 3.2499e-04 - accuracy: 1.0000 - val_loss: 0.9368 - val_accuracy: 0.8468\n",
      "Epoch 80/100\n",
      " - 0s - loss: 3.1617e-04 - accuracy: 1.0000 - val_loss: 0.9463 - val_accuracy: 0.8468\n",
      "Epoch 81/100\n",
      " - 0s - loss: 3.0864e-04 - accuracy: 1.0000 - val_loss: 0.9394 - val_accuracy: 0.8468\n",
      "Epoch 82/100\n",
      " - 0s - loss: 2.9739e-04 - accuracy: 1.0000 - val_loss: 0.9434 - val_accuracy: 0.8468\n",
      "Epoch 83/100\n",
      " - 0s - loss: 2.8999e-04 - accuracy: 1.0000 - val_loss: 0.9473 - val_accuracy: 0.8468\n",
      "Epoch 84/100\n",
      " - 0s - loss: 2.8409e-04 - accuracy: 1.0000 - val_loss: 0.9476 - val_accuracy: 0.8468\n",
      "Epoch 85/100\n",
      " - 0s - loss: 2.7636e-04 - accuracy: 1.0000 - val_loss: 0.9480 - val_accuracy: 0.8468\n"
     ]
    },
    {
     "name": "stdout",
     "output_type": "stream",
     "text": [
      "Epoch 86/100\n",
      " - 0s - loss: 2.6931e-04 - accuracy: 1.0000 - val_loss: 0.9482 - val_accuracy: 0.8468\n",
      "Epoch 87/100\n",
      " - 0s - loss: 2.6200e-04 - accuracy: 1.0000 - val_loss: 0.9466 - val_accuracy: 0.8468\n",
      "Epoch 88/100\n",
      " - 0s - loss: 2.5744e-04 - accuracy: 1.0000 - val_loss: 0.9530 - val_accuracy: 0.8468\n",
      "Epoch 89/100\n",
      " - 0s - loss: 2.4971e-04 - accuracy: 1.0000 - val_loss: 0.9531 - val_accuracy: 0.8468\n",
      "Epoch 90/100\n",
      " - 0s - loss: 2.4216e-04 - accuracy: 1.0000 - val_loss: 0.9509 - val_accuracy: 0.8468\n",
      "Epoch 91/100\n",
      " - 0s - loss: 2.3725e-04 - accuracy: 1.0000 - val_loss: 0.9536 - val_accuracy: 0.8468\n",
      "Epoch 92/100\n",
      " - 0s - loss: 2.3125e-04 - accuracy: 1.0000 - val_loss: 0.9523 - val_accuracy: 0.8468\n",
      "Epoch 93/100\n",
      " - 0s - loss: 2.2632e-04 - accuracy: 1.0000 - val_loss: 0.9513 - val_accuracy: 0.8468\n",
      "Epoch 94/100\n",
      " - 0s - loss: 2.2088e-04 - accuracy: 1.0000 - val_loss: 0.9561 - val_accuracy: 0.8468\n",
      "Epoch 95/100\n",
      " - 0s - loss: 2.1534e-04 - accuracy: 1.0000 - val_loss: 0.9559 - val_accuracy: 0.8468\n",
      "Epoch 96/100\n",
      " - 0s - loss: 2.0997e-04 - accuracy: 1.0000 - val_loss: 0.9549 - val_accuracy: 0.8468\n",
      "Epoch 97/100\n",
      " - 0s - loss: 2.0580e-04 - accuracy: 1.0000 - val_loss: 0.9570 - val_accuracy: 0.8468\n",
      "Epoch 98/100\n",
      " - 0s - loss: 2.0067e-04 - accuracy: 1.0000 - val_loss: 0.9596 - val_accuracy: 0.8468\n",
      "Epoch 99/100\n",
      " - 0s - loss: 1.9622e-04 - accuracy: 1.0000 - val_loss: 0.9560 - val_accuracy: 0.8468\n",
      "Epoch 100/100\n",
      " - 0s - loss: 1.9165e-04 - accuracy: 1.0000 - val_loss: 0.9583 - val_accuracy: 0.8468\n"
     ]
    }
   ],
   "source": [
    "history = model3.fit(X_train_cnn,\n",
    "                        y_train_cnn,\n",
    "                        batch_size=32,\n",
    "                        validation_data=(X_test_cnn, y_test_cnn),\n",
    "                        epochs=100,\n",
    "                        verbose=2)"
   ]
  },
  {
   "cell_type": "code",
   "execution_count": 100,
   "metadata": {
    "scrolled": true
   },
   "outputs": [
    {
     "data": {
      "text/plain": [
       "<matplotlib.legend.Legend at 0x229fcc2a2b0>"
      ]
     },
     "execution_count": 100,
     "metadata": {},
     "output_type": "execute_result"
    },
    {
     "data": {
      "image/png": "[encoded data removed]",
      "text/plain": [
       "<Figure size 432x288 with 1 Axes>"
      ]
     },
     "metadata": {
      "needs_background": "light"
     },
     "output_type": "display_data"
    }
   ],
   "source": [
    "plt.plot(history.history['loss'], label = ' Training Loss')\n",
    "plt.plot(history.history['val_loss'], label = ' Test Loss')\n",
    "plt.legend()"
   ]
  },
  {
   "cell_type": "code",
   "execution_count": 101,
   "metadata": {},
   "outputs": [
    {
     "data": {
      "text/plain": [
       "<matplotlib.legend.Legend at 0x229fcf94ac8>"
      ]
     },
     "execution_count": 101,
     "metadata": {},
     "output_type": "execute_result"
    },
    {
     "data": {
      "image/png": "[encoded data removed]",
      "text/plain": [
       "<Figure size 432x288 with 1 Axes>"
      ]
     },
     "metadata": {
      "needs_background": "light"
     },
     "output_type": "display_data"
    }
   ],
   "source": [
    "plt.plot(history.history['accuracy'], label = ' Training Accuracy')\n",
    "plt.plot(history.history['val_accuracy'], label = ' Test Accuracy')\n",
    "plt.legend()"
   ]
  },
  {
   "cell_type": "code",
   "execution_count": null,
   "metadata": {},
   "outputs": [],
   "source": []
  }
 ],
 "metadata": {
  "kernelspec": {
   "display_name": "Python 3",
   "language": "python",
   "name": "python3"
  },
  "language_info": {
   "codemirror_mode": {
    "name": "ipython",
    "version": 3
   },
   "file_extension": ".py",
   "mimetype": "text/x-python",
   "name": "python",
   "nbconvert_exporter": "python",
   "pygments_lexer": "ipython3",
   "version": "3.6.12"
  }
 },
 "nbformat": 4,
 "nbformat_minor": 4
}
