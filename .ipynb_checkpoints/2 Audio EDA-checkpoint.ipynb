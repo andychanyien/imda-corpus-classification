{
 "cells": [
  {
   "cell_type": "markdown",
   "metadata": {},
   "source": [
    "# 2B Audio EDA"
   ]
  },
  {
   "cell_type": "code",
   "execution_count": 9,
   "metadata": {},
   "outputs": [],
   "source": [
    "filepath = f'./assets/audio_train/1400049_father.wav'\n",
    "audio, sr = librosa.load(filepath)\n",
    "mfccs = librosa.feature.mfcc(y = audio, sr=sr, n_mfcc=40)"
   ]
  },
  {
   "cell_type": "code",
   "execution_count": 10,
   "metadata": {
    "scrolled": false
   },
   "outputs": [
    {
     "data": {
      "text/plain": [
       "<matplotlib.collections.QuadMesh at 0x7f642416f550>"
      ]
     },
     "execution_count": 10,
     "metadata": {},
     "output_type": "execute_result"
    },
    {
     "data": {
      "image/png": "[encoded data removed]",
      "text/plain": [
       "<Figure size 576x576 with 1 Axes>"
      ]
     },
     "metadata": {
      "needs_background": "light"
     },
     "output_type": "display_data"
    }
   ],
   "source": [
    "plt.figure(figsize=(8,8))\n",
    "librosa.display.specshow(mfccs, sr=sr, x_axis = 'time')"
   ]
  },
  {
   "cell_type": "code",
   "execution_count": 11,
   "metadata": {},
   "outputs": [
    {
     "data": {
      "text/plain": [
       "(40, 20)"
      ]
     },
     "execution_count": 11,
     "metadata": {},
     "output_type": "execute_result"
    }
   ],
   "source": [
    "mfccs.shape"
   ]
  },
  {
   "cell_type": "code",
   "execution_count": 12,
   "metadata": {},
   "outputs": [
    {
     "data": {
      "text/plain": [
       "array([[-1.96346878e+02, -1.79968414e+02, -1.73948914e+02,\n",
       "        -1.40422562e+02, -1.30837280e+02, -1.27352371e+02,\n",
       "        -1.30908127e+02, -1.21989059e+02, -1.16357872e+02,\n",
       "        -1.56346008e+02, -2.33684799e+02, -2.01312592e+02,\n",
       "        -1.54644608e+02, -1.60986404e+02, -1.86442413e+02,\n",
       "        -2.01413818e+02, -2.20349533e+02, -2.41758011e+02,\n",
       "        -2.62189514e+02, -2.62184204e+02],\n",
       "       [ 1.77322083e+01,  2.43227654e+01,  3.50402985e+01,\n",
       "         1.25764130e+02,  1.88848480e+02,  1.77813965e+02,\n",
       "         1.53549866e+02,  1.35759369e+02,  1.32387604e+02,\n",
       "         1.36715790e+02,  1.34408569e+02,  1.23432152e+02,\n",
       "         1.43213623e+02,  1.33257278e+02,  1.11394722e+02,\n",
       "         1.21203140e+02,  1.09763245e+02,  7.17845459e+01,\n",
       "         5.06944618e+01,  4.38083000e+01],\n",
       "       [-1.01654694e+02, -1.13328751e+02, -1.11931900e+02,\n",
       "        -6.33613739e+01, -5.28529968e+01, -6.58507996e+01,\n",
       "        -7.88319702e+01, -8.26968231e+01, -6.97221756e+01,\n",
       "        -4.02028198e+01, -9.99385452e+00, -2.07248764e+01,\n",
       "        -3.28071213e+01, -4.54788895e+01, -6.39615631e+01,\n",
       "        -6.07765503e+01, -4.81400185e+01, -4.98952560e+01,\n",
       "        -4.27755051e+01, -8.85767365e+00],\n",
       "       [ 3.87398262e+01,  4.58403854e+01,  3.82262878e+01,\n",
       "         2.02896099e+01,  2.98413610e+00,  1.15918655e+01,\n",
       "         1.45092154e+01,  2.37146301e+01,  3.32530823e+01,\n",
       "         3.94307022e+01,  2.86508808e+01,  3.38898773e+01,\n",
       "         3.96785889e+01,  4.92519684e+01,  4.32824402e+01,\n",
       "         3.91668358e+01,  3.46583900e+01,  3.54261818e+01,\n",
       "         3.63592033e+01,  2.54356861e+01],\n",
       "       [-2.25047646e+01, -3.15380516e+01, -4.02831345e+01,\n",
       "        -5.57549896e+01, -6.72180939e+01, -6.90178986e+01,\n",
       "        -6.69942780e+01, -6.51266937e+01, -6.35304451e+01,\n",
       "        -4.81871376e+01, -2.94873238e+01, -3.35700684e+01,\n",
       "        -4.39612885e+01, -4.28146858e+01, -3.97721558e+01,\n",
       "        -3.23618546e+01, -3.06994019e+01, -3.02850304e+01,\n",
       "        -3.09151554e+01, -2.29873562e+01],\n",
       "       [ 4.66273727e+01,  4.32767639e+01,  3.44349632e+01,\n",
       "         2.44319496e+01,  3.79978895e+00,  5.92168713e+00,\n",
       "         1.51693106e+01,  2.08260479e+01,  2.71278858e+01,\n",
       "         3.31658707e+01,  3.74507217e+01,  4.12450638e+01,\n",
       "         3.89598885e+01,  3.24274979e+01,  2.58511429e+01,\n",
       "         2.35024681e+01,  3.27663574e+01,  4.78446159e+01,\n",
       "         4.18270874e+01,  1.47586956e+01],\n",
       "       [-3.01329556e+01, -3.86926651e+01, -4.68135529e+01,\n",
       "        -3.68245392e+01, -1.49395933e+01, -8.79640961e+00,\n",
       "        -3.64812660e+00, -6.31536579e+00, -1.56547718e+01,\n",
       "        -1.93746166e+01, -2.56628895e+01, -4.27601624e+01,\n",
       "        -3.15614185e+01, -1.21384201e+01, -5.25286484e+00,\n",
       "        -5.40139723e+00, -1.40587234e+01, -2.05948544e+01,\n",
       "        -2.35605965e+01, -1.90368805e+01],\n",
       "       [ 9.16758347e+00,  8.15962505e+00,  9.28259373e-01,\n",
       "         7.02591610e+00, -1.67468333e+00, -4.54353285e+00,\n",
       "        -2.05082154e+00, -2.00209045e+00, -1.13819752e+01,\n",
       "        -2.03391285e+01, -1.49040518e+01, -1.89584274e+01,\n",
       "        -3.43236542e+01, -3.91495132e+01, -3.10862560e+01,\n",
       "        -2.71405945e+01, -1.05126858e+01,  5.74782133e-01,\n",
       "        -2.93611079e-01, -4.52736855e+00],\n",
       "       [-2.73550053e+01, -3.13498611e+01, -3.35807037e+01,\n",
       "        -2.58513260e+01, -2.34229088e+01, -2.16231232e+01,\n",
       "        -2.79981117e+01, -3.58242226e+01, -4.52641945e+01,\n",
       "        -4.86502037e+01, -3.41306038e+01, -3.64448090e+01,\n",
       "        -4.63010254e+01, -5.02115707e+01, -4.75061035e+01,\n",
       "        -4.18075829e+01, -3.40442810e+01, -2.88150311e+01,\n",
       "        -3.29409332e+01, -2.29504547e+01],\n",
       "       [-2.29512721e-01, -6.28115892e+00, -5.46555233e+00,\n",
       "        -1.14723997e+01, -2.36925125e+01, -2.72006969e+01,\n",
       "        -2.34118538e+01, -1.60902481e+01, -1.94940491e+01,\n",
       "        -2.50108948e+01, -2.66660004e+01, -2.10820351e+01,\n",
       "        -2.16854420e+01, -1.79851799e+01, -1.22918758e+01,\n",
       "        -1.61919441e+01, -1.71228123e+01, -1.32935314e+01,\n",
       "        -1.28887672e+01, -1.30457706e+01],\n",
       "       [ 3.89378595e+00, -2.92638206e+00, -2.50460291e+00,\n",
       "        -1.26832876e+01, -1.89564018e+01, -1.16235075e+01,\n",
       "        -6.80852079e+00, -3.74942088e+00, -8.14457226e+00,\n",
       "        -1.11393900e+01, -1.40320988e+01, -1.70497246e+01,\n",
       "        -2.25571690e+01, -2.59560394e+01, -1.79626350e+01,\n",
       "        -1.37200174e+01, -9.67395401e+00, -4.25251913e+00,\n",
       "        -5.87590837e+00, -9.90177536e+00],\n",
       "       [-6.38636160e+00, -4.97848129e+00, -7.63995028e+00,\n",
       "        -1.97441101e+01, -7.91690063e+00, -7.69477510e+00,\n",
       "        -9.80539799e+00, -1.03086796e+01, -1.41316853e+01,\n",
       "        -1.66324577e+01, -1.34418449e+01, -2.40523605e+01,\n",
       "        -2.63507614e+01, -2.07551308e+01, -1.41261787e+01,\n",
       "        -1.88922043e+01, -2.33000145e+01, -1.49336834e+01,\n",
       "        -1.19385061e+01, -8.66159248e+00],\n",
       "       [-5.29760122e-02,  7.58251476e+00,  6.27238131e+00,\n",
       "        -5.23961163e+00, -6.71995354e+00, -6.71492577e+00,\n",
       "        -6.28043842e+00, -1.34707499e+01, -2.31108971e+01,\n",
       "        -3.25927010e+01, -2.21254864e+01, -2.03842144e+01,\n",
       "        -2.62225361e+01, -2.85104790e+01, -2.57035980e+01,\n",
       "        -2.43460922e+01, -1.63015060e+01, -5.05138540e+00,\n",
       "        -3.75324631e+00, -5.92416096e+00],\n",
       "       [-7.19624805e+00, -1.19112530e+01, -1.50249577e+01,\n",
       "        -1.86503639e+01, -2.57588177e+01, -2.41916809e+01,\n",
       "        -2.65525284e+01, -2.44839382e+01, -1.96246758e+01,\n",
       "        -1.82245846e+01, -1.95461006e+01, -1.85105534e+01,\n",
       "        -1.84243507e+01, -1.27556019e+01, -1.27857962e+01,\n",
       "        -9.02583790e+00, -1.17204895e+01, -1.61681404e+01,\n",
       "        -1.18074217e+01, -2.27112365e+00],\n",
       "       [ 2.11730042e+01,  1.98284416e+01,  1.60006065e+01,\n",
       "         7.93795013e+00,  4.49588680e+00,  1.87380683e+00,\n",
       "        -1.96999311e-02,  9.82447052e+00,  1.46300688e+01,\n",
       "         1.55858297e+01,  7.12810421e+00,  8.60640717e+00,\n",
       "         1.82667999e+01,  2.20093136e+01,  2.00083847e+01,\n",
       "         1.27458191e+01,  5.11574602e+00,  2.91107798e+00,\n",
       "         6.22757435e+00,  6.44494343e+00],\n",
       "       [-9.58056259e+00, -1.49825563e+01, -2.05787144e+01,\n",
       "        -3.20245934e+01, -2.69546547e+01, -2.24461708e+01,\n",
       "        -2.16676903e+01, -2.57499733e+01, -3.16907997e+01,\n",
       "        -3.18725624e+01, -2.59460754e+01, -2.56608925e+01,\n",
       "        -2.50088577e+01, -2.57699718e+01, -2.70235977e+01,\n",
       "        -2.71753922e+01, -2.63126297e+01, -2.61117516e+01,\n",
       "        -2.09106579e+01, -1.78718796e+01],\n",
       "       [ 8.54685307e+00,  9.52222252e+00,  6.71457958e+00,\n",
       "        -6.34518862e+00, -1.88036003e+01, -2.36958447e+01,\n",
       "        -2.32595253e+01, -1.51712742e+01, -1.11694660e+01,\n",
       "        -7.11982346e+00, -2.91829944e+00, -6.89724636e+00,\n",
       "        -1.08621702e+01, -8.82843494e+00, -5.34982157e+00,\n",
       "        -7.16828537e+00, -8.49761486e+00, -3.05791521e+00,\n",
       "         3.39279938e+00, -3.58610690e-01],\n",
       "       [ 3.64284372e+00,  1.11469388e+00,  4.74357891e+00,\n",
       "        -2.05470490e+00, -1.64172614e+00,  3.90802169e+00,\n",
       "         3.00009251e+00,  5.01087308e-01, -2.60981774e+00,\n",
       "        -2.85729408e+00, -3.38042259e+00, -7.21901369e+00,\n",
       "        -1.47064865e-01, -3.69267321e+00, -7.46059990e+00,\n",
       "        -1.16662426e+01, -5.78459930e+00, -4.04870701e+00,\n",
       "         5.17341137e+00,  7.34568214e+00],\n",
       "       [ 1.17163825e+00, -1.46217322e+00,  1.08345199e+00,\n",
       "        -7.13899612e+00, -4.71900415e+00, -5.77580452e+00,\n",
       "        -6.26100397e+00, -8.62231255e+00, -1.11866283e+01,\n",
       "        -1.40373631e+01, -1.73041897e+01, -1.35301895e+01,\n",
       "        -1.15831375e+01, -5.89044905e+00, -6.26527786e+00,\n",
       "        -1.11193180e+01, -1.11892614e+01, -1.78480110e+01,\n",
       "        -6.49209166e+00,  7.56846857e+00],\n",
       "       [-1.13137236e+01, -1.61345062e+01, -1.42669010e+01,\n",
       "        -2.17737560e+01, -2.17213573e+01, -2.55923862e+01,\n",
       "        -2.89769363e+01, -3.06400738e+01, -3.49997711e+01,\n",
       "        -3.28797226e+01, -2.27956810e+01, -2.46167526e+01,\n",
       "        -2.93954735e+01, -2.84323730e+01, -1.78930779e+01,\n",
       "        -1.44530334e+01, -1.92986488e+01, -2.71648369e+01,\n",
       "        -1.42062607e+01,  1.87653041e+00],\n",
       "       [ 3.78953981e+00,  4.94870853e+00,  5.70436573e+00,\n",
       "        -5.62527847e+00, -1.18507032e+01, -7.43922758e+00,\n",
       "        -2.84354544e+00, -1.37495077e+00,  5.73952258e-01,\n",
       "         3.32990503e+00, -1.08455968e+00,  4.61836368e-01,\n",
       "         4.34407711e+00,  1.61776996e+00,  4.22053337e-02,\n",
       "         1.75947523e+00,  4.84549761e-01, -4.94404888e+00,\n",
       "         8.37653160e+00,  1.73119640e+01],\n",
       "       [ 1.16060972e+01,  8.91989803e+00,  7.66379547e+00,\n",
       "         2.67946720e-03, -5.32765627e+00, -6.94638586e+00,\n",
       "        -4.37910032e+00, -4.90103054e+00, -9.82637215e+00,\n",
       "        -1.55990000e+01, -1.71220665e+01, -1.45620708e+01,\n",
       "        -1.58235798e+01, -1.67949753e+01, -1.82795448e+01,\n",
       "        -1.47931576e+01, -1.34331188e+01, -1.04511833e+01,\n",
       "         1.22421706e+00,  1.75105438e+01],\n",
       "       [ 4.33271074e+00, -2.77281857e+00, -9.35186386e+00,\n",
       "        -1.52063656e+01, -1.06348391e+01, -7.87860584e+00,\n",
       "        -9.54571342e+00, -1.32828007e+01, -1.72715492e+01,\n",
       "        -2.04373703e+01, -1.84725990e+01, -1.84185028e+01,\n",
       "        -1.92016220e+01, -2.46748848e+01, -2.95608788e+01,\n",
       "        -3.04719810e+01, -2.86153717e+01, -2.20482330e+01,\n",
       "        -9.34208679e+00,  9.16100025e+00],\n",
       "       [ 4.85439873e+00,  8.37013626e+00,  7.26551056e+00,\n",
       "         1.01734507e+00, -1.08990622e+00, -3.87800741e+00,\n",
       "        -3.78719151e-01,  6.18360329e+00,  1.06775560e+01,\n",
       "         8.92746639e+00,  1.35131145e+00,  2.75748873e+00,\n",
       "         9.90990829e+00,  1.17432585e+01,  7.03731728e+00,\n",
       "         2.48669147e+00, -3.95587921e+00, -4.99546051e+00,\n",
       "         7.36439514e+00,  1.34065247e+01],\n",
       "       [-1.47318211e+01, -1.07970333e+01, -7.68140650e+00,\n",
       "        -1.26277599e+01, -1.65532055e+01, -1.84316864e+01,\n",
       "        -2.03848038e+01, -2.03236771e+01, -2.18124332e+01,\n",
       "        -2.89411697e+01, -2.17435570e+01, -2.02590942e+01,\n",
       "        -2.18280449e+01, -2.05552807e+01, -2.17854977e+01,\n",
       "        -2.39976959e+01, -2.23445492e+01, -1.90917416e+01,\n",
       "        -8.24537086e+00, -8.92423058e+00],\n",
       "       [ 1.72688925e+00,  7.37543917e+00,  1.08369370e+01,\n",
       "        -1.08181953e-01, -3.55418539e+00, -5.76701522e-01,\n",
       "         1.51699162e+00, -2.41317868e-01,  2.42101955e+00,\n",
       "         5.84830904e+00,  4.63032436e+00,  4.11575437e-01,\n",
       "         1.92218065e-01,  3.87640595e-01, -6.10861921e+00,\n",
       "        -9.98842049e+00, -8.63560867e+00, -2.34439254e-01,\n",
       "         4.04835129e+00,  2.74092817e+00],\n",
       "       [-2.26203084e+00, -6.47311115e+00, -3.78596306e+00,\n",
       "        -1.45861187e+01, -1.84636574e+01, -1.68169804e+01,\n",
       "        -1.28269176e+01, -1.81230278e+01, -2.00246086e+01,\n",
       "        -1.42862396e+01, -1.04871941e+01, -1.65845509e+01,\n",
       "        -1.63372574e+01, -1.66327400e+01, -1.44640713e+01,\n",
       "        -1.09995804e+01, -1.09914932e+01, -1.03158360e+01,\n",
       "        -8.76638985e+00, -1.80091286e+00],\n",
       "       [ 1.56100559e+00, -5.62876463e-01, -1.41107571e+00,\n",
       "        -1.13349476e+01, -1.29060154e+01, -1.56316452e+01,\n",
       "        -1.65195961e+01, -1.31314964e+01, -1.04922190e+01,\n",
       "        -9.25068474e+00, -1.11853552e+01, -9.11283398e+00,\n",
       "        -1.20743389e+01, -1.41875143e+01, -1.33869591e+01,\n",
       "        -1.19394073e+01, -8.67904377e+00, -6.91169596e+00,\n",
       "        -6.00130749e+00, -5.46558142e+00],\n",
       "       [-4.93291998e+00, -2.65394878e+00,  2.22227439e-01,\n",
       "        -4.05071163e+00, -5.94530582e+00, -7.03572941e+00,\n",
       "        -7.41137791e+00, -8.33084106e+00, -2.21757722e+00,\n",
       "         1.85797215e+00, -7.69110680e+00, -5.51092565e-01,\n",
       "         2.95610905e+00,  3.12033939e+00, -1.12225759e+00,\n",
       "        -4.80825138e+00, -9.55388832e+00, -4.57409573e+00,\n",
       "        -1.66897535e+00, -5.12386131e+00],\n",
       "       [-8.42332363e-01,  3.41889381e+00,  3.02587748e+00,\n",
       "        -3.51279020e+00, -7.49832439e+00, -7.74585724e+00,\n",
       "        -1.09582920e+01, -1.50830097e+01, -1.15860062e+01,\n",
       "        -1.18628292e+01, -1.11036606e+01,  1.57077205e+00,\n",
       "        -2.18083858e-01, -8.72433281e+00, -1.28658152e+01,\n",
       "        -5.46540451e+00, -1.69246912e-01,  1.62998545e+00,\n",
       "        -2.25348377e+00, -7.62179995e+00],\n",
       "       [-6.45560122e+00, -2.63885260e+00, -5.41385078e+00,\n",
       "        -1.06778755e+01, -6.09016466e+00, -8.10163116e+00,\n",
       "        -6.90276051e+00, -5.17116117e+00,  4.79869246e-02,\n",
       "         4.13219547e+00,  1.67543089e+00, -9.08794403e-01,\n",
       "        -4.66300106e+00, -1.10929127e+01, -9.88878822e+00,\n",
       "         9.54650998e-01,  7.23293495e+00,  6.41648960e+00,\n",
       "        -1.28378820e+00, -3.26939821e-01],\n",
       "       [-1.10735674e+01, -5.12196732e+00, -3.48464251e+00,\n",
       "        -7.79592228e+00, -1.79323997e+01, -1.39350510e+01,\n",
       "        -8.18399429e+00, -9.11724663e+00, -5.65617847e+00,\n",
       "        -1.87529421e+00, -8.81930470e-01,  2.04828763e+00,\n",
       "        -6.99683487e-01, -1.60580349e+00,  5.53823233e+00,\n",
       "         1.06667250e-01, -1.95529485e+00,  2.07824659e+00,\n",
       "        -3.58924174e+00, -6.58482742e+00],\n",
       "       [-4.67547417e+00,  3.90050220e+00,  7.84828806e+00,\n",
       "         1.95864558e+00,  2.91134208e-01, -4.32279587e+00,\n",
       "        -4.85612202e+00, -3.63011575e+00, -4.56243658e+00,\n",
       "        -6.75482655e+00, -2.34540701e+00,  8.73556519e+00,\n",
       "         4.79035950e+00,  8.55029488e+00,  2.17427654e+01,\n",
       "         1.48839922e+01,  9.50321960e+00,  9.34209251e+00,\n",
       "         4.50280368e-01, -4.85223866e+00],\n",
       "       [-3.41820574e+00, -7.00990009e+00, -6.06575203e+00,\n",
       "        -9.57423782e+00, -4.51690102e+00, -7.05561066e+00,\n",
       "        -8.61750889e+00, -1.17396631e+01, -1.06182175e+01,\n",
       "        -1.12463150e+01, -4.01076078e+00,  2.81281114e-01,\n",
       "         5.66604328e+00,  1.84508610e+01,  3.50980568e+01,\n",
       "         2.51844711e+01,  1.20261364e+01,  2.64425850e+00,\n",
       "        -3.87277985e+00, -1.13093939e+01],\n",
       "       [ 2.19217420e-01, -3.99467754e+00, -5.37749469e-01,\n",
       "        -3.66521978e+00, -1.01597853e+01, -7.03770924e+00,\n",
       "        -8.24698830e+00, -8.88425827e+00, -1.24234810e+01,\n",
       "        -1.95793610e+01, -8.73353577e+00,  1.16523399e+01,\n",
       "         2.30302620e+01,  3.06222458e+01,  4.11717682e+01,\n",
       "         3.33200989e+01,  1.94571915e+01,  6.00245619e+00,\n",
       "        -1.89597011e-02, -4.88949585e+00],\n",
       "       [-8.65672398e+00, -8.37995338e+00, -1.45476270e+00,\n",
       "        -5.04257679e-02, -2.57175207e+00, -8.01688290e+00,\n",
       "        -1.14079742e+01, -9.72469616e+00, -1.20543747e+01,\n",
       "        -1.95093002e+01, -1.74630833e+01,  8.07215929e-01,\n",
       "         9.88359547e+00,  1.80006447e+01,  2.59525337e+01,\n",
       "         2.33681793e+01,  1.78175430e+01,  5.90894890e+00,\n",
       "        -3.27878523e+00,  1.39265108e+00],\n",
       "       [ 3.41636658e+00,  3.76945901e+00,  7.10914898e+00,\n",
       "         1.22557001e+01,  4.27858829e+00, -9.96623933e-01,\n",
       "        -5.62755108e+00,  6.00539923e-01,  1.01998844e+01,\n",
       "         1.14512281e+01,  9.53804207e+00,  1.00902748e+01,\n",
       "         1.37340622e+01,  1.93041058e+01,  2.15052528e+01,\n",
       "         2.41213646e+01,  2.39475594e+01,  1.43818779e+01,\n",
       "         3.67414045e+00,  8.70782614e-01],\n",
       "       [ 7.52245545e-01,  1.11954796e+00,  1.37433982e+00,\n",
       "         6.81539392e+00,  1.30193782e+00, -3.99588346e+00,\n",
       "        -4.91948223e+00,  9.42759705e+00,  1.89139690e+01,\n",
       "         2.06252480e+01,  1.39667740e+01,  5.01121235e+00,\n",
       "         7.01501250e-01, -1.11571026e+00,  4.38352942e-01,\n",
       "         3.89988136e+00,  1.01588364e+01,  8.78347588e+00,\n",
       "         4.37749386e+00,  6.71015072e+00],\n",
       "       [ 8.39583874e-02,  3.59720850e+00,  3.22606564e+00,\n",
       "         6.79793596e+00,  2.68413401e+00,  5.80389977e-01,\n",
       "         8.70772362e+00,  2.85481567e+01,  3.61792450e+01,\n",
       "         3.61191635e+01,  1.75960674e+01, -6.32959843e+00,\n",
       "        -1.32973671e+01, -1.73771248e+01, -1.07916679e+01,\n",
       "        -9.86417103e+00, -1.51094985e+00,  4.67193270e+00,\n",
       "         2.30340433e+00,  1.05290246e+00],\n",
       "       [-1.07259130e+00,  4.32546234e+00,  2.86397362e+00,\n",
       "         5.87630749e+00,  7.40903568e+00,  1.03037186e+01,\n",
       "         2.69412766e+01,  4.04633484e+01,  3.69946022e+01,\n",
       "         3.45860443e+01,  2.33222466e+01,  2.76985884e-01,\n",
       "        -2.39853477e+00, -6.08712292e+00, -2.93348813e+00,\n",
       "         1.11517251e+00,  7.20997453e-02,  1.91064990e+00,\n",
       "         1.45570469e+00, -1.84652805e-02]], dtype=float32)"
      ]
     },
     "execution_count": 12,
     "metadata": {},
     "output_type": "execute_result"
    }
   ],
   "source": [
    "mfccs"
   ]
  },
  {
   "cell_type": "code",
   "execution_count": 13,
   "metadata": {},
   "outputs": [
    {
     "data": {
      "text/plain": [
       "<matplotlib.collections.QuadMesh at 0x7f64224d1370>"
      ]
     },
     "execution_count": 13,
     "metadata": {},
     "output_type": "execute_result"
    },
    {
     "data": {
      "image/png": "[encoded data removed]",
      "text/plain": [
       "<Figure size 576x576 with 1 Axes>"
      ]
     },
     "metadata": {
      "needs_background": "light"
     },
     "output_type": "display_data"
    }
   ],
   "source": [
    "filepath = f'./assets/audio_train/1400062_flowers.wav'\n",
    "audio, sr = librosa.load(filepath)\n",
    "mfccs = librosa.feature.mfcc(y = audio, sr=sr, n_mfcc=40)\n",
    "plt.figure(figsize=(8,8))\n",
    "librosa.display.specshow(mfccs, sr=sr, x_axis = 'time')"
   ]
  },
  {
   "cell_type": "code",
   "execution_count": 9,
   "metadata": {},
   "outputs": [
    {
     "data": {
      "text/plain": [
       "(40, 34)"
      ]
     },
     "execution_count": 9,
     "metadata": {},
     "output_type": "execute_result"
    }
   ],
   "source": [
    "mfccs.shape"
   ]
  },
  {
   "cell_type": "code",
   "execution_count": null,
   "metadata": {},
   "outputs": [],
   "source": []
  }
 ],
 "metadata": {
  "kernelspec": {
   "display_name": "Python 3",
   "language": "python",
   "name": "python3"
  },
  "language_info": {
   "codemirror_mode": {
    "name": "ipython",
    "version": 3
   },
   "file_extension": ".py",
   "mimetype": "text/x-python",
   "name": "python",
   "nbconvert_exporter": "python",
   "pygments_lexer": "ipython3",
   "version": "3.8.3"
  }
 },
 "nbformat": 4,
 "nbformat_minor": 4
}
