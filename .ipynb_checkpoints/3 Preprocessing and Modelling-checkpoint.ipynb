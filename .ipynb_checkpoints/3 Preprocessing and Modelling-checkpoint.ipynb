{
 "cells": [
  {
   "cell_type": "code",
   "execution_count": 2,
   "metadata": {
    "scrolled": true
   },
   "outputs": [
    {
     "name": "stderr",
     "output_type": "stream",
     "text": [
      "Using TensorFlow backend.\n"
     ]
    }
   ],
   "source": [
    "import IPython.display as ipd\n",
    "import pandas as pd\n",
    "import numpy as np\n",
    "import librosa\n",
    "import librosa.display\n",
    "import matplotlib.pyplot as plt\n",
    "from scipy.io import wavfile as wav\n",
    "\n",
    "from sklearn import metrics\n",
    "from sklearn.preprocessing import LabelEncoder, StandardScaler\n",
    "from sklearn.model_selection import train_test_split\n",
    "\n",
    "from keras.models import Sequential\n",
    "from keras.layers import Dense, Dropout, Activation, Conv2D, MaxPooling2D, Flatten, Masking, GRU, LSTM\n",
    "from keras.preprocessing.sequence import pad_sequences\n",
    "from keras.optimizers import Adam\n",
    "from keras.utils import to_categorical\n",
    "from keras.callbacks import ModelCheckpoint \n",
    "from datetime import datetime \n"
   ]
  },
  {
   "cell_type": "code",
   "execution_count": 3,
   "metadata": {},
   "outputs": [],
   "source": [
    "train_df = pd.read_csv(\"datasets/train.csv\")"
   ]
  },
  {
   "cell_type": "code",
   "execution_count": 4,
   "metadata": {},
   "outputs": [
    {
     "data": {
      "text/html": [
       "<div>\n",
       "<style scoped>\n",
       "    .dataframe tbody tr th:only-of-type {\n",
       "        vertical-align: middle;\n",
       "    }\n",
       "\n",
       "    .dataframe tbody tr th {\n",
       "        vertical-align: top;\n",
       "    }\n",
       "\n",
       "    .dataframe thead th {\n",
       "        text-align: right;\n",
       "    }\n",
       "</style>\n",
       "<table border=\"1\" class=\"dataframe\">\n",
       "  <thead>\n",
       "    <tr style=\"text-align: right;\">\n",
       "      <th></th>\n",
       "      <th>id</th>\n",
       "      <th>filepath</th>\n",
       "      <th>duration</th>\n",
       "      <th>class_label</th>\n",
       "    </tr>\n",
       "  </thead>\n",
       "  <tbody>\n",
       "    <tr>\n",
       "      <th>0</th>\n",
       "      <td>10210049</td>\n",
       "      <td>./assets/audio_train/10210049_father.wav</td>\n",
       "      <td>0.457959</td>\n",
       "      <td>father</td>\n",
       "    </tr>\n",
       "    <tr>\n",
       "      <th>1</th>\n",
       "      <td>10210049</td>\n",
       "      <td>./assets/audio_train/10210049_worker.wav</td>\n",
       "      <td>0.519501</td>\n",
       "      <td>worker</td>\n",
       "    </tr>\n",
       "    <tr>\n",
       "      <th>2</th>\n",
       "      <td>10210051</td>\n",
       "      <td>./assets/audio_train/10210051_water.wav</td>\n",
       "      <td>0.395828</td>\n",
       "      <td>water</td>\n",
       "    </tr>\n",
       "    <tr>\n",
       "      <th>3</th>\n",
       "      <td>10210062</td>\n",
       "      <td>./assets/audio_train/10210062_flowers.wav</td>\n",
       "      <td>0.399229</td>\n",
       "      <td>flowers</td>\n",
       "    </tr>\n",
       "    <tr>\n",
       "      <th>4</th>\n",
       "      <td>10210066</td>\n",
       "      <td>./assets/audio_train/10210066_apples.wav</td>\n",
       "      <td>0.524354</td>\n",
       "      <td>apples</td>\n",
       "    </tr>\n",
       "  </tbody>\n",
       "</table>\n",
       "</div>"
      ],
      "text/plain": [
       "         id                                   filepath  duration class_label\n",
       "0  10210049   ./assets/audio_train/10210049_father.wav  0.457959      father\n",
       "1  10210049   ./assets/audio_train/10210049_worker.wav  0.519501      worker\n",
       "2  10210051    ./assets/audio_train/10210051_water.wav  0.395828       water\n",
       "3  10210062  ./assets/audio_train/10210062_flowers.wav  0.399229     flowers\n",
       "4  10210066   ./assets/audio_train/10210066_apples.wav  0.524354      apples"
      ]
     },
     "execution_count": 4,
     "metadata": {},
     "output_type": "execute_result"
    }
   ],
   "source": [
    "train_df.head()"
   ]
  },
  {
   "cell_type": "markdown",
   "metadata": {},
   "source": [
    "## 3. Preprocessing"
   ]
  },
  {
   "cell_type": "markdown",
   "metadata": {},
   "source": [
    "There are many ways of preprocessing audio files and the methods of preprocessing is heavily dependent on the type of classification model which will be used.\n",
    "\n",
    "The model I will be building is:\n",
    "\n",
    "1. Feedforward Neural Network ( 2 kind of preprocessing )\n",
    "2. Convolutional Neural Network\n",
    "3. Recurrent Neural Network with LSTM\n",
    "4. Ensemble Method"
   ]
  },
  {
   "cell_type": "markdown",
   "metadata": {},
   "source": [
    "#### Preproccessing for FNN\n",
    "\n",
    "There are a few ways to process the audio for a simple feedforward neural network. The first and most common way is to find the average of each coefficient of the MFCC across time, which will give us a shape of (40,1) dimensions. \n"
   ]
  },
  {
   "cell_type": "code",
   "execution_count": 6,
   "metadata": {},
   "outputs": [],
   "source": [
    "def get_mfccs_features(file_list, n_mfcc=40):\n",
    "    \"\"\"\n",
    "    This function will take in a list of audio file path and produce 4 times 40 dimensions numpy array (40, 1) which\n",
    "    will be ready to put into the neural network.\n",
    "    \n",
    "    How it works?\n",
    "    \n",
    "    For each audio file, it will calculate the Mel-Frequency Cestral Coefficients (MFCCs) over a set\n",
    "    number of time frames, determined by the sampling rate. The default number of coefficient is set at 40,\n",
    "    giving us a numpy array of 40 (coefs) by number of timeframes.\n",
    "    \n",
    "    In order for it to be have a shape of (, 1), the mean and standard deviation will be calculated, across \n",
    "    the entire time frame. As time is also important information which we would not want to lose, the \n",
    "    delta of the mfcc will also be calculated, and likewise, the average and the standard deviation will be\n",
    "    calculated.\n",
    "    \n",
    "    mfccs_mean = mean of (40 mfcc x time) - shape = (40,1)\n",
    "    mfccs_std = standard dev of (40 mfcc x time) - shape = (40,1)\n",
    "    delta_mean = mean of delta of 40 mfcc across time - shape = (40,1)\n",
    "    delta_std = standard dev of delta of 40 mfcc across time - shape = (40,1)\n",
    "    \n",
    "    \n",
    "    \"\"\"\n",
    "    \n",
    "    \n",
    "    features = {}\n",
    "    mean = []\n",
    "    std = []\n",
    "    delta_mean = []\n",
    "    delta_std = []\n",
    "    for f in file_list:\n",
    "        audio, sr = librosa.load(f) \n",
    "        mfccs = librosa.feature.mfcc(y=audio, sr=sr, n_mfcc=n_mfcc)\n",
    "        mfccs_delta = librosa.feature.delta(mfccs)\n",
    "        \n",
    "        mfccs_mean = np.mean(mfccs.T,axis=0)\n",
    "        mean.append(mfccs_mean)\n",
    "        \n",
    "        mfccs_std = np.std(mfccs.T,axis=0)\n",
    "        std.append(mfccs_std)\n",
    "        \n",
    "        mfccs_delta_mean = np.mean(mfccs_delta.T,axis=0)\n",
    "        delta_mean.append(mfccs_delta_mean)\n",
    "        \n",
    "        mfccs_delta_std = np.std(mfccs_delta.T,axis=0)\n",
    "        delta_std.append(mfccs_delta_std)\n",
    "    \n",
    "    features['mfccs_mean'] = mean\n",
    "    features['mfccs_std'] = std\n",
    "    features['mfccs_delta_mean'] = delta_mean\n",
    "    features['mfccs_delta_std'] = delta_std\n",
    "    \n",
    "    return features"
   ]
  },
  {
   "cell_type": "code",
   "execution_count": 7,
   "metadata": {},
   "outputs": [],
   "source": [
    "# get all the features\n",
    "\n",
    "mfccs_features = get_mfccs_features(train_df['filepath'])"
   ]
  },
  {
   "cell_type": "code",
   "execution_count": 9,
   "metadata": {},
   "outputs": [],
   "source": [
    "# add them into the dataframe\n",
    "\n",
    "for k, v in mfccs_features.items():\n",
    "    train_df[k] = v"
   ]
  },
  {
   "cell_type": "code",
   "execution_count": 10,
   "metadata": {},
   "outputs": [],
   "source": [
    "# create a new feature with a dimension of 160, stacking the mean and standard deviation of \n",
    "# the mfcc and its delta.\n",
    "\n",
    "combined_features = []\n",
    "for n in range(0,len(train_df)):\n",
    "    combined_features.append(np.concatenate((train_df['mfccs_mean'][n],\n",
    "                                             train_df['mfccs_std'][n], \n",
    "                                             train_df['mfccs_delta_mean'][n],\n",
    "                                             train_df['mfccs_delta_std'][n])))\n",
    "    \n",
    "train_df['combined_mfccs'] = combined_features\n",
    "# this will give us an array of (160, 1)"
   ]
  },
  {
   "cell_type": "code",
   "execution_count": 12,
   "metadata": {},
   "outputs": [
    {
     "data": {
      "text/html": [
       "<div>\n",
       "<style scoped>\n",
       "    .dataframe tbody tr th:only-of-type {\n",
       "        vertical-align: middle;\n",
       "    }\n",
       "\n",
       "    .dataframe tbody tr th {\n",
       "        vertical-align: top;\n",
       "    }\n",
       "\n",
       "    .dataframe thead th {\n",
       "        text-align: right;\n",
       "    }\n",
       "</style>\n",
       "<table border=\"1\" class=\"dataframe\">\n",
       "  <thead>\n",
       "    <tr style=\"text-align: right;\">\n",
       "      <th></th>\n",
       "      <th>id</th>\n",
       "      <th>filepath</th>\n",
       "      <th>duration</th>\n",
       "      <th>class_label</th>\n",
       "      <th>mfccs_mean</th>\n",
       "      <th>mfccs_std</th>\n",
       "      <th>mfccs_delta_mean</th>\n",
       "      <th>mfccs_delta_std</th>\n",
       "      <th>combined_mfccs</th>\n",
       "    </tr>\n",
       "  </thead>\n",
       "  <tbody>\n",
       "    <tr>\n",
       "      <th>0</th>\n",
       "      <td>10210049</td>\n",
       "      <td>./assets/audio_train/10210049_father.wav</td>\n",
       "      <td>0.457959</td>\n",
       "      <td>father</td>\n",
       "      <td>[-196.65865, 126.91008, -32.876976, 25.416832,...</td>\n",
       "      <td>[58.43318, 37.41045, 29.724075, 16.595234, 13....</td>\n",
       "      <td>[7.6438293, 2.0495448, -2.2808201, 0.26232308,...</td>\n",
       "      <td>[12.530376, 8.677294, 7.3228106, 4.123108, 2.8...</td>\n",
       "      <td>[-196.65865, 126.91008, -32.876976, 25.416832,...</td>\n",
       "    </tr>\n",
       "    <tr>\n",
       "      <th>1</th>\n",
       "      <td>10210049</td>\n",
       "      <td>./assets/audio_train/10210049_worker.wav</td>\n",
       "      <td>0.519501</td>\n",
       "      <td>worker</td>\n",
       "      <td>[-258.90433, 171.56952, 5.8856416, 34.963104, ...</td>\n",
       "      <td>[62.08626, 30.751865, 25.998608, 21.70042, 16....</td>\n",
       "      <td>[-4.5402517, -3.4924977, -0.37305757, -0.64102...</td>\n",
       "      <td>[10.262612, 6.768381, 4.2443323, 5.0021243, 2....</td>\n",
       "      <td>[-258.90433, 171.56952, 5.8856416, 34.963104, ...</td>\n",
       "    </tr>\n",
       "    <tr>\n",
       "      <th>2</th>\n",
       "      <td>10210051</td>\n",
       "      <td>./assets/audio_train/10210051_water.wav</td>\n",
       "      <td>0.395828</td>\n",
       "      <td>water</td>\n",
       "      <td>[-235.71283, 148.99991, 7.0049567, 34.56189, -...</td>\n",
       "      <td>[87.36377, 34.059155, 39.78111, 24.895144, 33....</td>\n",
       "      <td>[3.2932093, -4.0986385, -3.06783, 1.4283211, 2...</td>\n",
       "      <td>[11.529502, 5.509337, 4.7498536, 5.5789504, 6....</td>\n",
       "      <td>[-235.71283, 148.99991, 7.0049567, 34.56189, -...</td>\n",
       "    </tr>\n",
       "    <tr>\n",
       "      <th>3</th>\n",
       "      <td>10210062</td>\n",
       "      <td>./assets/audio_train/10210062_flowers.wav</td>\n",
       "      <td>0.399229</td>\n",
       "      <td>flowers</td>\n",
       "      <td>[-233.44008, 127.30211, 11.549065, 42.032394, ...</td>\n",
       "      <td>[44.99465, 60.81429, 18.286491, 29.394094, 21....</td>\n",
       "      <td>[-0.2987371, -4.79065, 2.8436575, 3.4281251, -...</td>\n",
       "      <td>[9.446445, 16.08716, 2.7725258, 6.156691, 4.67...</td>\n",
       "      <td>[-233.44008, 127.30211, 11.549065, 42.032394, ...</td>\n",
       "    </tr>\n",
       "    <tr>\n",
       "      <th>4</th>\n",
       "      <td>10210066</td>\n",
       "      <td>./assets/audio_train/10210066_apples.wav</td>\n",
       "      <td>0.524354</td>\n",
       "      <td>apples</td>\n",
       "      <td>[-242.86156, 123.218254, -12.731119, 54.86693,...</td>\n",
       "      <td>[71.841354, 71.481544, 38.154087, 27.27552, 38...</td>\n",
       "      <td>[-5.2192245, -10.501004, 5.264592, 1.5651596, ...</td>\n",
       "      <td>[14.663708, 11.573661, 4.3268127, 5.169234, 5....</td>\n",
       "      <td>[-242.86156, 123.218254, -12.731119, 54.86693,...</td>\n",
       "    </tr>\n",
       "  </tbody>\n",
       "</table>\n",
       "</div>"
      ],
      "text/plain": [
       "         id                                   filepath  duration class_label  \\\n",
       "0  10210049   ./assets/audio_train/10210049_father.wav  0.457959      father   \n",
       "1  10210049   ./assets/audio_train/10210049_worker.wav  0.519501      worker   \n",
       "2  10210051    ./assets/audio_train/10210051_water.wav  0.395828       water   \n",
       "3  10210062  ./assets/audio_train/10210062_flowers.wav  0.399229     flowers   \n",
       "4  10210066   ./assets/audio_train/10210066_apples.wav  0.524354      apples   \n",
       "\n",
       "                                          mfccs_mean  \\\n",
       "0  [-196.65865, 126.91008, -32.876976, 25.416832,...   \n",
       "1  [-258.90433, 171.56952, 5.8856416, 34.963104, ...   \n",
       "2  [-235.71283, 148.99991, 7.0049567, 34.56189, -...   \n",
       "3  [-233.44008, 127.30211, 11.549065, 42.032394, ...   \n",
       "4  [-242.86156, 123.218254, -12.731119, 54.86693,...   \n",
       "\n",
       "                                           mfccs_std  \\\n",
       "0  [58.43318, 37.41045, 29.724075, 16.595234, 13....   \n",
       "1  [62.08626, 30.751865, 25.998608, 21.70042, 16....   \n",
       "2  [87.36377, 34.059155, 39.78111, 24.895144, 33....   \n",
       "3  [44.99465, 60.81429, 18.286491, 29.394094, 21....   \n",
       "4  [71.841354, 71.481544, 38.154087, 27.27552, 38...   \n",
       "\n",
       "                                    mfccs_delta_mean  \\\n",
       "0  [7.6438293, 2.0495448, -2.2808201, 0.26232308,...   \n",
       "1  [-4.5402517, -3.4924977, -0.37305757, -0.64102...   \n",
       "2  [3.2932093, -4.0986385, -3.06783, 1.4283211, 2...   \n",
       "3  [-0.2987371, -4.79065, 2.8436575, 3.4281251, -...   \n",
       "4  [-5.2192245, -10.501004, 5.264592, 1.5651596, ...   \n",
       "\n",
       "                                     mfccs_delta_std  \\\n",
       "0  [12.530376, 8.677294, 7.3228106, 4.123108, 2.8...   \n",
       "1  [10.262612, 6.768381, 4.2443323, 5.0021243, 2....   \n",
       "2  [11.529502, 5.509337, 4.7498536, 5.5789504, 6....   \n",
       "3  [9.446445, 16.08716, 2.7725258, 6.156691, 4.67...   \n",
       "4  [14.663708, 11.573661, 4.3268127, 5.169234, 5....   \n",
       "\n",
       "                                      combined_mfccs  \n",
       "0  [-196.65865, 126.91008, -32.876976, 25.416832,...  \n",
       "1  [-258.90433, 171.56952, 5.8856416, 34.963104, ...  \n",
       "2  [-235.71283, 148.99991, 7.0049567, 34.56189, -...  \n",
       "3  [-233.44008, 127.30211, 11.549065, 42.032394, ...  \n",
       "4  [-242.86156, 123.218254, -12.731119, 54.86693,...  "
      ]
     },
     "execution_count": 12,
     "metadata": {},
     "output_type": "execute_result"
    }
   ],
   "source": [
    "# check if all correctly done\n",
    "\n",
    "train_df.head()"
   ]
  },
  {
   "cell_type": "markdown",
   "metadata": {},
   "source": [
    "**Pre-processing For CNN**"
   ]
  },
  {
   "cell_type": "code",
   "execution_count": 25,
   "metadata": {},
   "outputs": [],
   "source": [
    "def get_mel(filename):\n",
    "    \"\"\"\n",
    "    This function gives the melspectrogram and padded to a fixed dimension, which is 39. 39 frame happens to be the longest frame.\n",
    "    The spectrogram can then be used in CNN later.\n",
    "    \"\"\"\n",
    "    \n",
    "    audio, sr = librosa.load(filename)\n",
    "    mel= librosa.feature.melspectrogram(audio, sr=sr)\n",
    "    mel = librosa.util.fix_length(mel,45)\n",
    "    return mel"
   ]
  },
  {
   "cell_type": "code",
   "execution_count": 24,
   "metadata": {},
   "outputs": [
    {
     "data": {
      "text/plain": [
       "42"
      ]
     },
     "execution_count": 24,
     "metadata": {},
     "output_type": "execute_result"
    }
   ],
   "source": [
    "# emp = []\n",
    "# for f in train_df['filepath'].values:\n",
    "#     audio, sr = librosa.load(f)\n",
    "#     mel= librosa.feature.melspectrogram(audio, sr=sr)\n",
    "#     emp.append(mel.shape[1])\n",
    "    \n",
    "# max(emp)"
   ]
  },
  {
   "cell_type": "code",
   "execution_count": 26,
   "metadata": {},
   "outputs": [],
   "source": [
    "# apply the mel-spectrogram function to all the files\n",
    "\n",
    "train_df['mel'] = train_df['filepath'].map(get_mel)"
   ]
  },
  {
   "cell_type": "code",
   "execution_count": 27,
   "metadata": {},
   "outputs": [
    {
     "data": {
      "text/html": [
       "<div>\n",
       "<style scoped>\n",
       "    .dataframe tbody tr th:only-of-type {\n",
       "        vertical-align: middle;\n",
       "    }\n",
       "\n",
       "    .dataframe tbody tr th {\n",
       "        vertical-align: top;\n",
       "    }\n",
       "\n",
       "    .dataframe thead th {\n",
       "        text-align: right;\n",
       "    }\n",
       "</style>\n",
       "<table border=\"1\" class=\"dataframe\">\n",
       "  <thead>\n",
       "    <tr style=\"text-align: right;\">\n",
       "      <th></th>\n",
       "      <th>id</th>\n",
       "      <th>filepath</th>\n",
       "      <th>duration</th>\n",
       "      <th>class_label</th>\n",
       "      <th>mfccs_mean</th>\n",
       "      <th>mfccs_std</th>\n",
       "      <th>mfccs_delta_mean</th>\n",
       "      <th>mfccs_delta_std</th>\n",
       "      <th>combined_mfccs</th>\n",
       "      <th>mel</th>\n",
       "    </tr>\n",
       "  </thead>\n",
       "  <tbody>\n",
       "    <tr>\n",
       "      <th>0</th>\n",
       "      <td>10210049</td>\n",
       "      <td>./assets/audio_train/10210049_father.wav</td>\n",
       "      <td>0.457959</td>\n",
       "      <td>father</td>\n",
       "      <td>[-196.65865, 126.91008, -32.876976, 25.416832,...</td>\n",
       "      <td>[58.43318, 37.41045, 29.724075, 16.595234, 13....</td>\n",
       "      <td>[7.6438293, 2.0495448, -2.2808201, 0.26232308,...</td>\n",
       "      <td>[12.530376, 8.677294, 7.3228106, 4.123108, 2.8...</td>\n",
       "      <td>[-196.65865, 126.91008, -32.876976, 25.416832,...</td>\n",
       "      <td>[[0.010372462, 0.0030662478, 0.00062838185, 0....</td>\n",
       "    </tr>\n",
       "    <tr>\n",
       "      <th>1</th>\n",
       "      <td>10210049</td>\n",
       "      <td>./assets/audio_train/10210049_worker.wav</td>\n",
       "      <td>0.519501</td>\n",
       "      <td>worker</td>\n",
       "      <td>[-258.90433, 171.56952, 5.8856416, 34.963104, ...</td>\n",
       "      <td>[62.08626, 30.751865, 25.998608, 21.70042, 16....</td>\n",
       "      <td>[-4.5402517, -3.4924977, -0.37305757, -0.64102...</td>\n",
       "      <td>[10.262612, 6.768381, 4.2443323, 5.0021243, 2....</td>\n",
       "      <td>[-258.90433, 171.56952, 5.8856416, 34.963104, ...</td>\n",
       "      <td>[[0.0010817309, 0.0005368751, 0.001299449, 0.0...</td>\n",
       "    </tr>\n",
       "    <tr>\n",
       "      <th>2</th>\n",
       "      <td>10210051</td>\n",
       "      <td>./assets/audio_train/10210051_water.wav</td>\n",
       "      <td>0.395828</td>\n",
       "      <td>water</td>\n",
       "      <td>[-235.71283, 148.99991, 7.0049567, 34.56189, -...</td>\n",
       "      <td>[87.36377, 34.059155, 39.78111, 24.895144, 33....</td>\n",
       "      <td>[3.2932093, -4.0986385, -3.06783, 1.4283211, 2...</td>\n",
       "      <td>[11.529502, 5.509337, 4.7498536, 5.5789504, 6....</td>\n",
       "      <td>[-235.71283, 148.99991, 7.0049567, 34.56189, -...</td>\n",
       "      <td>[[0.06794148, 0.01626657, 0.0052422658, 0.0144...</td>\n",
       "    </tr>\n",
       "    <tr>\n",
       "      <th>3</th>\n",
       "      <td>10210062</td>\n",
       "      <td>./assets/audio_train/10210062_flowers.wav</td>\n",
       "      <td>0.399229</td>\n",
       "      <td>flowers</td>\n",
       "      <td>[-233.44008, 127.30211, 11.549065, 42.032394, ...</td>\n",
       "      <td>[44.99465, 60.81429, 18.286491, 29.394094, 21....</td>\n",
       "      <td>[-0.2987371, -4.79065, 2.8436575, 3.4281251, -...</td>\n",
       "      <td>[9.446445, 16.08716, 2.7725258, 6.156691, 4.67...</td>\n",
       "      <td>[-233.44008, 127.30211, 11.549065, 42.032394, ...</td>\n",
       "      <td>[[0.029654736, 0.037957847, 0.040742517, 0.037...</td>\n",
       "    </tr>\n",
       "    <tr>\n",
       "      <th>4</th>\n",
       "      <td>10210066</td>\n",
       "      <td>./assets/audio_train/10210066_apples.wav</td>\n",
       "      <td>0.524354</td>\n",
       "      <td>apples</td>\n",
       "      <td>[-242.86156, 123.218254, -12.731119, 54.86693,...</td>\n",
       "      <td>[71.841354, 71.481544, 38.154087, 27.27552, 38...</td>\n",
       "      <td>[-5.2192245, -10.501004, 5.264592, 1.5651596, ...</td>\n",
       "      <td>[14.663708, 11.573661, 4.3268127, 5.169234, 5....</td>\n",
       "      <td>[-242.86156, 123.218254, -12.731119, 54.86693,...</td>\n",
       "      <td>[[0.0025025601, 0.0026420446, 0.0025871138, 0....</td>\n",
       "    </tr>\n",
       "  </tbody>\n",
       "</table>\n",
       "</div>"
      ],
      "text/plain": [
       "         id                                   filepath  duration class_label  \\\n",
       "0  10210049   ./assets/audio_train/10210049_father.wav  0.457959      father   \n",
       "1  10210049   ./assets/audio_train/10210049_worker.wav  0.519501      worker   \n",
       "2  10210051    ./assets/audio_train/10210051_water.wav  0.395828       water   \n",
       "3  10210062  ./assets/audio_train/10210062_flowers.wav  0.399229     flowers   \n",
       "4  10210066   ./assets/audio_train/10210066_apples.wav  0.524354      apples   \n",
       "\n",
       "                                          mfccs_mean  \\\n",
       "0  [-196.65865, 126.91008, -32.876976, 25.416832,...   \n",
       "1  [-258.90433, 171.56952, 5.8856416, 34.963104, ...   \n",
       "2  [-235.71283, 148.99991, 7.0049567, 34.56189, -...   \n",
       "3  [-233.44008, 127.30211, 11.549065, 42.032394, ...   \n",
       "4  [-242.86156, 123.218254, -12.731119, 54.86693,...   \n",
       "\n",
       "                                           mfccs_std  \\\n",
       "0  [58.43318, 37.41045, 29.724075, 16.595234, 13....   \n",
       "1  [62.08626, 30.751865, 25.998608, 21.70042, 16....   \n",
       "2  [87.36377, 34.059155, 39.78111, 24.895144, 33....   \n",
       "3  [44.99465, 60.81429, 18.286491, 29.394094, 21....   \n",
       "4  [71.841354, 71.481544, 38.154087, 27.27552, 38...   \n",
       "\n",
       "                                    mfccs_delta_mean  \\\n",
       "0  [7.6438293, 2.0495448, -2.2808201, 0.26232308,...   \n",
       "1  [-4.5402517, -3.4924977, -0.37305757, -0.64102...   \n",
       "2  [3.2932093, -4.0986385, -3.06783, 1.4283211, 2...   \n",
       "3  [-0.2987371, -4.79065, 2.8436575, 3.4281251, -...   \n",
       "4  [-5.2192245, -10.501004, 5.264592, 1.5651596, ...   \n",
       "\n",
       "                                     mfccs_delta_std  \\\n",
       "0  [12.530376, 8.677294, 7.3228106, 4.123108, 2.8...   \n",
       "1  [10.262612, 6.768381, 4.2443323, 5.0021243, 2....   \n",
       "2  [11.529502, 5.509337, 4.7498536, 5.5789504, 6....   \n",
       "3  [9.446445, 16.08716, 2.7725258, 6.156691, 4.67...   \n",
       "4  [14.663708, 11.573661, 4.3268127, 5.169234, 5....   \n",
       "\n",
       "                                      combined_mfccs  \\\n",
       "0  [-196.65865, 126.91008, -32.876976, 25.416832,...   \n",
       "1  [-258.90433, 171.56952, 5.8856416, 34.963104, ...   \n",
       "2  [-235.71283, 148.99991, 7.0049567, 34.56189, -...   \n",
       "3  [-233.44008, 127.30211, 11.549065, 42.032394, ...   \n",
       "4  [-242.86156, 123.218254, -12.731119, 54.86693,...   \n",
       "\n",
       "                                                 mel  \n",
       "0  [[0.010372462, 0.0030662478, 0.00062838185, 0....  \n",
       "1  [[0.0010817309, 0.0005368751, 0.001299449, 0.0...  \n",
       "2  [[0.06794148, 0.01626657, 0.0052422658, 0.0144...  \n",
       "3  [[0.029654736, 0.037957847, 0.040742517, 0.037...  \n",
       "4  [[0.0025025601, 0.0026420446, 0.0025871138, 0....  "
      ]
     },
     "execution_count": 27,
     "metadata": {},
     "output_type": "execute_result"
    }
   ],
   "source": [
    "# check if successful\n",
    "\n",
    "train_df.head()"
   ]
  },
  {
   "cell_type": "markdown",
   "metadata": {},
   "source": [
    "\n",
    "## 4. Modelling"
   ]
  },
  {
   "cell_type": "markdown",
   "metadata": {},
   "source": [
    "Model 1: Vanilla Base-line model\n",
    "\n",
    "FNN with MFCCS mean\n",
    "Dimension = 40\n",
    "layers = 2"
   ]
  },
  {
   "cell_type": "code",
   "execution_count": 29,
   "metadata": {},
   "outputs": [],
   "source": [
    "X = train_df['mfccs_mean']"
   ]
  },
  {
   "cell_type": "code",
   "execution_count": 30,
   "metadata": {},
   "outputs": [],
   "source": [
    "X = np.array(X.tolist())"
   ]
  },
  {
   "cell_type": "code",
   "execution_count": 104,
   "metadata": {},
   "outputs": [],
   "source": [
    "le = LabelEncoder()\n",
    "y = to_categorical(le.fit_transform(train_df['class_label'].tolist()))\n",
    "y = np.array(y)"
   ]
  },
  {
   "cell_type": "code",
   "execution_count": 32,
   "metadata": {},
   "outputs": [],
   "source": [
    "X_train, X_test, y_train, y_test = train_test_split(X, y, test_size = 0.2, random_state = 42, stratify = y)"
   ]
  },
  {
   "cell_type": "code",
   "execution_count": 33,
   "metadata": {},
   "outputs": [
    {
     "data": {
      "text/plain": [
       "(210, 40)"
      ]
     },
     "execution_count": 33,
     "metadata": {},
     "output_type": "execute_result"
    }
   ],
   "source": [
    "X_test.shape"
   ]
  },
  {
   "cell_type": "code",
   "execution_count": 34,
   "metadata": {},
   "outputs": [],
   "source": [
    "model = Sequential()\n",
    "model.add(Dense(64, activation='relu', input_shape=(40,)))\n",
    "model.add(Dense(64, activation='relu'))\n",
    "model.add(Dense(5, activation='softmax'))"
   ]
  },
  {
   "cell_type": "code",
   "execution_count": 35,
   "metadata": {},
   "outputs": [],
   "source": [
    "model.compile(loss='categorical_crossentropy', optimizer='adam', metrics = ['accuracy'])"
   ]
  },
  {
   "cell_type": "code",
   "execution_count": 36,
   "metadata": {},
   "outputs": [
    {
     "name": "stdout",
     "output_type": "stream",
     "text": [
      "Model: \"sequential_1\"\n",
      "_________________________________________________________________\n",
      "Layer (type)                 Output Shape              Param #   \n",
      "=================================================================\n",
      "dense_1 (Dense)              (None, 64)                2624      \n",
      "_________________________________________________________________\n",
      "dense_2 (Dense)              (None, 64)                4160      \n",
      "_________________________________________________________________\n",
      "dense_3 (Dense)              (None, 5)                 325       \n",
      "=================================================================\n",
      "Total params: 7,109\n",
      "Trainable params: 7,109\n",
      "Non-trainable params: 0\n",
      "_________________________________________________________________\n"
     ]
    }
   ],
   "source": [
    "model.summary()"
   ]
  },
  {
   "cell_type": "code",
   "execution_count": 37,
   "metadata": {
    "scrolled": true
   },
   "outputs": [
    {
     "name": "stdout",
     "output_type": "stream",
     "text": [
      "Train on 839 samples, validate on 210 samples\n",
      "Epoch 1/50\n",
      " - 3s - loss: 8.8714 - accuracy: 0.2515 - val_loss: 4.3193 - val_accuracy: 0.3095\n",
      "Epoch 2/50\n",
      " - 0s - loss: 2.8525 - accuracy: 0.4291 - val_loss: 2.2056 - val_accuracy: 0.5048\n",
      "Epoch 3/50\n",
      " - 0s - loss: 1.6695 - accuracy: 0.5912 - val_loss: 1.8853 - val_accuracy: 0.5381\n",
      "Epoch 4/50\n",
      " - 0s - loss: 1.3783 - accuracy: 0.6436 - val_loss: 1.5808 - val_accuracy: 0.6238\n",
      "Epoch 5/50\n",
      " - 0s - loss: 1.0796 - accuracy: 0.6913 - val_loss: 1.3841 - val_accuracy: 0.6429\n",
      "Epoch 6/50\n",
      " - 0s - loss: 1.0084 - accuracy: 0.6985 - val_loss: 1.4101 - val_accuracy: 0.6286\n",
      "Epoch 7/50\n",
      " - 0s - loss: 0.9603 - accuracy: 0.7104 - val_loss: 1.2851 - val_accuracy: 0.6619\n",
      "Epoch 8/50\n",
      " - 0s - loss: 0.8717 - accuracy: 0.7247 - val_loss: 1.2588 - val_accuracy: 0.6381\n",
      "Epoch 9/50\n",
      " - 0s - loss: 0.9274 - accuracy: 0.7092 - val_loss: 1.2808 - val_accuracy: 0.6238\n",
      "Epoch 10/50\n",
      " - 0s - loss: 0.8599 - accuracy: 0.7271 - val_loss: 1.1451 - val_accuracy: 0.6762\n",
      "Epoch 11/50\n",
      " - 0s - loss: 0.7332 - accuracy: 0.7712 - val_loss: 1.2662 - val_accuracy: 0.6381\n",
      "Epoch 12/50\n",
      " - 0s - loss: 0.8459 - accuracy: 0.7199 - val_loss: 1.3838 - val_accuracy: 0.6619\n",
      "Epoch 13/50\n",
      " - 0s - loss: 0.7896 - accuracy: 0.7306 - val_loss: 1.1916 - val_accuracy: 0.6905\n",
      "Epoch 14/50\n",
      " - 0s - loss: 0.6760 - accuracy: 0.7688 - val_loss: 1.1908 - val_accuracy: 0.6857\n",
      "Epoch 15/50\n",
      " - 0s - loss: 0.6466 - accuracy: 0.7712 - val_loss: 1.2662 - val_accuracy: 0.6095\n",
      "Epoch 16/50\n",
      " - 0s - loss: 0.6794 - accuracy: 0.7747 - val_loss: 1.1202 - val_accuracy: 0.6619\n",
      "Epoch 17/50\n",
      " - 0s - loss: 0.6085 - accuracy: 0.7867 - val_loss: 1.1233 - val_accuracy: 0.6857\n",
      "Epoch 18/50\n",
      " - 0s - loss: 0.5813 - accuracy: 0.7962 - val_loss: 1.0922 - val_accuracy: 0.6571\n",
      "Epoch 19/50\n",
      " - 0s - loss: 0.5575 - accuracy: 0.8117 - val_loss: 1.2421 - val_accuracy: 0.6190\n",
      "Epoch 20/50\n",
      " - 0s - loss: 0.5719 - accuracy: 0.7962 - val_loss: 1.0993 - val_accuracy: 0.6762\n",
      "Epoch 21/50\n",
      " - 0s - loss: 0.5745 - accuracy: 0.8045 - val_loss: 1.2734 - val_accuracy: 0.6333\n",
      "Epoch 22/50\n",
      " - 0s - loss: 0.5681 - accuracy: 0.7998 - val_loss: 1.1498 - val_accuracy: 0.6619\n",
      "Epoch 23/50\n",
      " - 0s - loss: 0.4784 - accuracy: 0.8284 - val_loss: 1.0979 - val_accuracy: 0.6381\n",
      "Epoch 24/50\n",
      " - 0s - loss: 0.4588 - accuracy: 0.8403 - val_loss: 1.1106 - val_accuracy: 0.6857\n",
      "Epoch 25/50\n",
      " - 0s - loss: 0.4953 - accuracy: 0.8129 - val_loss: 1.1385 - val_accuracy: 0.6571\n",
      "Epoch 26/50\n",
      " - 0s - loss: 0.4665 - accuracy: 0.8355 - val_loss: 1.2152 - val_accuracy: 0.6524\n",
      "Epoch 27/50\n",
      " - 0s - loss: 0.5140 - accuracy: 0.8176 - val_loss: 1.2574 - val_accuracy: 0.6524\n",
      "Epoch 28/50\n",
      " - 0s - loss: 0.4786 - accuracy: 0.8200 - val_loss: 1.1465 - val_accuracy: 0.6905\n",
      "Epoch 29/50\n",
      " - 0s - loss: 0.4024 - accuracy: 0.8534 - val_loss: 1.1043 - val_accuracy: 0.6667\n",
      "Epoch 30/50\n",
      " - 0s - loss: 0.4238 - accuracy: 0.8462 - val_loss: 1.1176 - val_accuracy: 0.6619\n",
      "Epoch 31/50\n",
      " - 0s - loss: 0.3876 - accuracy: 0.8522 - val_loss: 1.1688 - val_accuracy: 0.6762\n",
      "Epoch 32/50\n",
      " - 0s - loss: 0.4440 - accuracy: 0.8379 - val_loss: 1.0857 - val_accuracy: 0.6667\n",
      "Epoch 33/50\n",
      " - 0s - loss: 0.4156 - accuracy: 0.8486 - val_loss: 1.1826 - val_accuracy: 0.6571\n",
      "Epoch 34/50\n",
      " - 0s - loss: 0.4164 - accuracy: 0.8391 - val_loss: 1.1885 - val_accuracy: 0.6762\n",
      "Epoch 35/50\n",
      " - 0s - loss: 0.4091 - accuracy: 0.8522 - val_loss: 1.1656 - val_accuracy: 0.6667\n",
      "Epoch 36/50\n",
      " - 0s - loss: 0.3624 - accuracy: 0.8665 - val_loss: 1.1515 - val_accuracy: 0.6905\n",
      "Epoch 37/50\n",
      " - 0s - loss: 0.3483 - accuracy: 0.8617 - val_loss: 1.2048 - val_accuracy: 0.6667\n",
      "Epoch 38/50\n",
      " - 0s - loss: 0.3893 - accuracy: 0.8582 - val_loss: 1.1437 - val_accuracy: 0.6857\n",
      "Epoch 39/50\n",
      " - 0s - loss: 0.3743 - accuracy: 0.8737 - val_loss: 1.2384 - val_accuracy: 0.6952\n",
      "Epoch 40/50\n",
      " - 0s - loss: 0.3280 - accuracy: 0.8963 - val_loss: 1.1953 - val_accuracy: 0.6524\n",
      "Epoch 41/50\n",
      " - 0s - loss: 0.2908 - accuracy: 0.9070 - val_loss: 1.2005 - val_accuracy: 0.6714\n",
      "Epoch 42/50\n",
      " - 0s - loss: 0.3604 - accuracy: 0.8725 - val_loss: 1.1032 - val_accuracy: 0.6714\n",
      "Epoch 43/50\n",
      " - 0s - loss: 0.3327 - accuracy: 0.8784 - val_loss: 1.2234 - val_accuracy: 0.6762\n",
      "Epoch 44/50\n",
      " - 0s - loss: 0.3379 - accuracy: 0.8772 - val_loss: 1.2730 - val_accuracy: 0.6714\n",
      "Epoch 45/50\n",
      " - 0s - loss: 0.3144 - accuracy: 0.8820 - val_loss: 1.2330 - val_accuracy: 0.6619\n",
      "Epoch 46/50\n",
      " - 0s - loss: 0.3483 - accuracy: 0.8749 - val_loss: 1.4409 - val_accuracy: 0.6381\n",
      "Epoch 47/50\n",
      " - 0s - loss: 0.3111 - accuracy: 0.8963 - val_loss: 1.2874 - val_accuracy: 0.6476\n",
      "Epoch 48/50\n",
      " - 0s - loss: 0.2883 - accuracy: 0.8987 - val_loss: 1.2510 - val_accuracy: 0.6762\n",
      "Epoch 49/50\n",
      " - 0s - loss: 0.3061 - accuracy: 0.8880 - val_loss: 1.2773 - val_accuracy: 0.6667\n",
      "Epoch 50/50\n",
      " - 0s - loss: 0.2994 - accuracy: 0.8975 - val_loss: 1.2243 - val_accuracy: 0.6762\n"
     ]
    }
   ],
   "source": [
    "history = model.fit(X_train, y_train, validation_data=(X_test, y_test), batch_size=32, epochs = 50, verbose=2)"
   ]
  },
  {
   "cell_type": "code",
   "execution_count": 38,
   "metadata": {
    "scrolled": true
   },
   "outputs": [
    {
     "data": {
      "text/plain": [
       "<matplotlib.legend.Legend at 0x28b43b90198>"
      ]
     },
     "execution_count": 38,
     "metadata": {},
     "output_type": "execute_result"
    },
    {
     "data": {
      "image/png": "[encoded data removed]",
      "text/plain": [
       "<Figure size 432x288 with 1 Axes>"
      ]
     },
     "metadata": {
      "needs_background": "light"
     },
     "output_type": "display_data"
    }
   ],
   "source": [
    "plt.plot(history.history['loss'], label = ' Training Loss')\n",
    "plt.plot(history.history['val_loss'], label = ' Test Loss')\n",
    "plt.legend()"
   ]
  },
  {
   "cell_type": "code",
   "execution_count": 39,
   "metadata": {},
   "outputs": [
    {
     "data": {
      "text/plain": [
       "<matplotlib.legend.Legend at 0x28b43871630>"
      ]
     },
     "execution_count": 39,
     "metadata": {},
     "output_type": "execute_result"
    },
    {
     "data": {
      "image/png": "[encoded data removed]",
      "text/plain": [
       "<Figure size 432x288 with 1 Axes>"
      ]
     },
     "metadata": {
      "needs_background": "light"
     },
     "output_type": "display_data"
    }
   ],
   "source": [
    "plt.plot(history.history['accuracy'], label = ' Training Accuracy')\n",
    "plt.plot(history.history['val_accuracy'], label = ' Test Accuracy')\n",
    "plt.legend()"
   ]
  },
  {
   "cell_type": "code",
   "execution_count": 40,
   "metadata": {},
   "outputs": [
    {
     "name": "stdout",
     "output_type": "stream",
     "text": [
      "210/210 [==============================] - 0s 43us/step\n"
     ]
    }
   ],
   "source": [
    "model_eval = model.evaluate(X_test,y_test, verbose=1)\n",
    "model_metrics = model.metrics_names"
   ]
  },
  {
   "cell_type": "markdown",
   "metadata": {},
   "source": [
    "Model 2\n",
    "\n",
    "Classifier: FNN\n",
    "Features: 40 coef * 4 indicators (mean and std, delta mean delta std)\n",
    "dimension 160\n"
   ]
  },
  {
   "cell_type": "code",
   "execution_count": 41,
   "metadata": {},
   "outputs": [],
   "source": [
    "X = np.array(train_df['combined_mfccs'].tolist())"
   ]
  },
  {
   "cell_type": "code",
   "execution_count": 42,
   "metadata": {},
   "outputs": [],
   "source": [
    "X_train_2, X_test_2, y_train, y_test = train_test_split(X, y, test_size = 0.2, random_state = 42, stratify = y)"
   ]
  },
  {
   "cell_type": "code",
   "execution_count": 43,
   "metadata": {},
   "outputs": [],
   "source": [
    "ss = StandardScaler()\n",
    "X_train_2 = ss.fit_transform(X_train_2)\n",
    "X_test_2 = ss.transform(X_test_2)"
   ]
  },
  {
   "cell_type": "code",
   "execution_count": 44,
   "metadata": {},
   "outputs": [],
   "source": [
    "model2 = Sequential()\n",
    "model2.add(Dense(64, activation='relu', input_shape=(160,)))\n",
    "model2.add(Dense(64, activation='relu'))\n",
    "model2.add(Dense(5, activation='softmax'))"
   ]
  },
  {
   "cell_type": "code",
   "execution_count": 45,
   "metadata": {},
   "outputs": [],
   "source": [
    "model2.compile(loss='categorical_crossentropy', optimizer='adam', metrics = ['accuracy'])"
   ]
  },
  {
   "cell_type": "code",
   "execution_count": 46,
   "metadata": {
    "scrolled": true
   },
   "outputs": [
    {
     "name": "stdout",
     "output_type": "stream",
     "text": [
      "Train on 839 samples, validate on 210 samples\n",
      "Epoch 1/50\n",
      " - 0s - loss: 1.3756 - accuracy: 0.4470 - val_loss: 0.9403 - val_accuracy: 0.6619\n",
      "Epoch 2/50\n",
      " - 0s - loss: 0.6538 - accuracy: 0.8474 - val_loss: 0.4796 - val_accuracy: 0.8762\n",
      "Epoch 3/50\n",
      " - 0s - loss: 0.2995 - accuracy: 0.9452 - val_loss: 0.2843 - val_accuracy: 0.9095\n",
      "Epoch 4/50\n",
      " - 0s - loss: 0.1542 - accuracy: 0.9762 - val_loss: 0.1985 - val_accuracy: 0.9333\n",
      "Epoch 5/50\n",
      " - 0s - loss: 0.0861 - accuracy: 0.9893 - val_loss: 0.1697 - val_accuracy: 0.9429\n",
      "Epoch 6/50\n",
      " - 0s - loss: 0.0520 - accuracy: 0.9952 - val_loss: 0.1520 - val_accuracy: 0.9429\n",
      "Epoch 7/50\n",
      " - 0s - loss: 0.0342 - accuracy: 0.9988 - val_loss: 0.1435 - val_accuracy: 0.9476\n",
      "Epoch 8/50\n",
      " - 0s - loss: 0.0240 - accuracy: 1.0000 - val_loss: 0.1398 - val_accuracy: 0.9476\n",
      "Epoch 9/50\n",
      " - 0s - loss: 0.0181 - accuracy: 1.0000 - val_loss: 0.1389 - val_accuracy: 0.9524\n",
      "Epoch 10/50\n",
      " - 0s - loss: 0.0138 - accuracy: 1.0000 - val_loss: 0.1388 - val_accuracy: 0.9524\n",
      "Epoch 11/50\n",
      " - 0s - loss: 0.0109 - accuracy: 1.0000 - val_loss: 0.1388 - val_accuracy: 0.9524\n",
      "Epoch 12/50\n",
      " - 0s - loss: 0.0088 - accuracy: 1.0000 - val_loss: 0.1372 - val_accuracy: 0.9571\n",
      "Epoch 13/50\n",
      " - 0s - loss: 0.0073 - accuracy: 1.0000 - val_loss: 0.1382 - val_accuracy: 0.9571\n",
      "Epoch 14/50\n",
      " - 0s - loss: 0.0062 - accuracy: 1.0000 - val_loss: 0.1382 - val_accuracy: 0.9571\n",
      "Epoch 15/50\n",
      " - 0s - loss: 0.0053 - accuracy: 1.0000 - val_loss: 0.1387 - val_accuracy: 0.9571\n",
      "Epoch 16/50\n",
      " - 0s - loss: 0.0045 - accuracy: 1.0000 - val_loss: 0.1388 - val_accuracy: 0.9571\n",
      "Epoch 17/50\n",
      " - 0s - loss: 0.0039 - accuracy: 1.0000 - val_loss: 0.1394 - val_accuracy: 0.9619\n",
      "Epoch 18/50\n",
      " - 0s - loss: 0.0034 - accuracy: 1.0000 - val_loss: 0.1395 - val_accuracy: 0.9619\n",
      "Epoch 19/50\n",
      " - 0s - loss: 0.0030 - accuracy: 1.0000 - val_loss: 0.1391 - val_accuracy: 0.9619\n",
      "Epoch 20/50\n",
      " - 0s - loss: 0.0027 - accuracy: 1.0000 - val_loss: 0.1397 - val_accuracy: 0.9619\n",
      "Epoch 21/50\n",
      " - 0s - loss: 0.0024 - accuracy: 1.0000 - val_loss: 0.1406 - val_accuracy: 0.9619\n",
      "Epoch 22/50\n",
      " - 0s - loss: 0.0022 - accuracy: 1.0000 - val_loss: 0.1413 - val_accuracy: 0.9619\n",
      "Epoch 23/50\n",
      " - 0s - loss: 0.0020 - accuracy: 1.0000 - val_loss: 0.1422 - val_accuracy: 0.9619\n",
      "Epoch 24/50\n",
      " - 0s - loss: 0.0018 - accuracy: 1.0000 - val_loss: 0.1424 - val_accuracy: 0.9619\n",
      "Epoch 25/50\n",
      " - 0s - loss: 0.0016 - accuracy: 1.0000 - val_loss: 0.1428 - val_accuracy: 0.9619\n",
      "Epoch 26/50\n",
      " - 0s - loss: 0.0015 - accuracy: 1.0000 - val_loss: 0.1433 - val_accuracy: 0.9619\n",
      "Epoch 27/50\n",
      " - 0s - loss: 0.0014 - accuracy: 1.0000 - val_loss: 0.1437 - val_accuracy: 0.9619\n",
      "Epoch 28/50\n",
      " - 0s - loss: 0.0013 - accuracy: 1.0000 - val_loss: 0.1443 - val_accuracy: 0.9619\n",
      "Epoch 29/50\n",
      " - 0s - loss: 0.0012 - accuracy: 1.0000 - val_loss: 0.1446 - val_accuracy: 0.9619\n",
      "Epoch 30/50\n",
      " - 0s - loss: 0.0011 - accuracy: 1.0000 - val_loss: 0.1451 - val_accuracy: 0.9619\n",
      "Epoch 31/50\n",
      " - 0s - loss: 0.0010 - accuracy: 1.0000 - val_loss: 0.1458 - val_accuracy: 0.9619\n",
      "Epoch 32/50\n",
      " - 0s - loss: 9.5713e-04 - accuracy: 1.0000 - val_loss: 0.1458 - val_accuracy: 0.9619\n",
      "Epoch 33/50\n",
      " - 0s - loss: 8.9895e-04 - accuracy: 1.0000 - val_loss: 0.1466 - val_accuracy: 0.9619\n",
      "Epoch 34/50\n",
      " - 0s - loss: 8.4342e-04 - accuracy: 1.0000 - val_loss: 0.1468 - val_accuracy: 0.9619\n",
      "Epoch 35/50\n",
      " - 0s - loss: 7.9354e-04 - accuracy: 1.0000 - val_loss: 0.1474 - val_accuracy: 0.9619\n",
      "Epoch 36/50\n",
      " - 0s - loss: 7.4844e-04 - accuracy: 1.0000 - val_loss: 0.1479 - val_accuracy: 0.9619\n",
      "Epoch 37/50\n",
      " - 0s - loss: 7.0359e-04 - accuracy: 1.0000 - val_loss: 0.1482 - val_accuracy: 0.9619\n",
      "Epoch 38/50\n",
      " - 0s - loss: 6.6358e-04 - accuracy: 1.0000 - val_loss: 0.1486 - val_accuracy: 0.9619\n",
      "Epoch 39/50\n",
      " - 0s - loss: 6.2878e-04 - accuracy: 1.0000 - val_loss: 0.1491 - val_accuracy: 0.9619\n",
      "Epoch 40/50\n",
      " - 0s - loss: 5.9575e-04 - accuracy: 1.0000 - val_loss: 0.1493 - val_accuracy: 0.9619\n",
      "Epoch 41/50\n",
      " - 0s - loss: 5.6131e-04 - accuracy: 1.0000 - val_loss: 0.1497 - val_accuracy: 0.9619\n",
      "Epoch 42/50\n",
      " - 0s - loss: 5.3350e-04 - accuracy: 1.0000 - val_loss: 0.1512 - val_accuracy: 0.9619\n",
      "Epoch 43/50\n",
      " - 0s - loss: 5.0669e-04 - accuracy: 1.0000 - val_loss: 0.1514 - val_accuracy: 0.9619\n",
      "Epoch 44/50\n",
      " - 0s - loss: 4.8135e-04 - accuracy: 1.0000 - val_loss: 0.1516 - val_accuracy: 0.9619\n",
      "Epoch 45/50\n",
      " - 0s - loss: 4.5827e-04 - accuracy: 1.0000 - val_loss: 0.1517 - val_accuracy: 0.9619\n",
      "Epoch 46/50\n",
      " - 0s - loss: 4.3670e-04 - accuracy: 1.0000 - val_loss: 0.1522 - val_accuracy: 0.9619\n",
      "Epoch 47/50\n",
      " - 0s - loss: 4.1700e-04 - accuracy: 1.0000 - val_loss: 0.1529 - val_accuracy: 0.9619\n",
      "Epoch 48/50\n",
      " - 0s - loss: 3.9821e-04 - accuracy: 1.0000 - val_loss: 0.1529 - val_accuracy: 0.9619\n",
      "Epoch 49/50\n",
      " - 0s - loss: 3.8062e-04 - accuracy: 1.0000 - val_loss: 0.1533 - val_accuracy: 0.9619\n",
      "Epoch 50/50\n",
      " - 0s - loss: 3.6305e-04 - accuracy: 1.0000 - val_loss: 0.1536 - val_accuracy: 0.9619\n"
     ]
    }
   ],
   "source": [
    "history = model2.fit(X_train_2, y_train, validation_data=(X_test_2, y_test), batch_size=32, epochs = 50, verbose=2)"
   ]
  },
  {
   "cell_type": "code",
   "execution_count": 47,
   "metadata": {
    "scrolled": false
   },
   "outputs": [
    {
     "data": {
      "text/plain": [
       "<matplotlib.legend.Legend at 0x28c7aa262b0>"
      ]
     },
     "execution_count": 47,
     "metadata": {},
     "output_type": "execute_result"
    },
    {
     "data": {
      "image/png": "[encoded data removed]",
      "text/plain": [
       "<Figure size 432x288 with 1 Axes>"
      ]
     },
     "metadata": {
      "needs_background": "light"
     },
     "output_type": "display_data"
    }
   ],
   "source": [
    "plt.plot(history.history['loss'], label = ' Training Loss')\n",
    "plt.plot(history.history['val_loss'], label = ' Test Loss')\n",
    "plt.legend()"
   ]
  },
  {
   "cell_type": "code",
   "execution_count": 48,
   "metadata": {},
   "outputs": [
    {
     "data": {
      "text/plain": [
       "<matplotlib.legend.Legend at 0x28c7aa90cf8>"
      ]
     },
     "execution_count": 48,
     "metadata": {},
     "output_type": "execute_result"
    },
    {
     "data": {
      "image/png": "[encoded data removed]",
      "text/plain": [
       "<Figure size 432x288 with 1 Axes>"
      ]
     },
     "metadata": {
      "needs_background": "light"
     },
     "output_type": "display_data"
    }
   ],
   "source": [
    "plt.plot(history.history['accuracy'], label = ' Training Accuracy')\n",
    "plt.plot(history.history['val_accuracy'], label = ' Test Accuracy')\n",
    "plt.legend()"
   ]
  },
  {
   "cell_type": "code",
   "execution_count": 100,
   "metadata": {},
   "outputs": [
    {
     "name": "stdout",
     "output_type": "stream",
     "text": [
      "210/210 [==============================] - 0s 38us/step\n"
     ]
    }
   ],
   "source": [
    "model2_eval = model2.evaluate(X_test_2,y_test, verbose=1)\n",
    "model2_metrics = model2.metrics_names"
   ]
  },
  {
   "cell_type": "markdown",
   "metadata": {},
   "source": [
    "**CNN**\n",
    "\n",
    "model 3:\n",
    "\n",
    "classifier: CNN 2D\n",
    "\n",
    "Features: mel spectrogram, padded until 45 sequence (128, 39)"
   ]
  },
  {
   "cell_type": "code",
   "execution_count": 49,
   "metadata": {},
   "outputs": [],
   "source": [
    "X = np.array(train_df['mel'].tolist())"
   ]
  },
  {
   "cell_type": "code",
   "execution_count": 50,
   "metadata": {},
   "outputs": [
    {
     "data": {
      "text/plain": [
       "(1049, 128, 45)"
      ]
     },
     "execution_count": 50,
     "metadata": {},
     "output_type": "execute_result"
    }
   ],
   "source": [
    "X.shape"
   ]
  },
  {
   "cell_type": "code",
   "execution_count": 52,
   "metadata": {},
   "outputs": [
    {
     "data": {
      "text/plain": [
       "(1049, 128, 45)"
      ]
     },
     "execution_count": 52,
     "metadata": {},
     "output_type": "execute_result"
    }
   ],
   "source": [
    "X.shape"
   ]
  },
  {
   "cell_type": "code",
   "execution_count": 53,
   "metadata": {},
   "outputs": [],
   "source": [
    "X_train_3, X_test_3, y_train, y_test = train_test_split(X, y, test_size = 0.2, random_state = 42, stratify = y)"
   ]
  },
  {
   "cell_type": "code",
   "execution_count": 54,
   "metadata": {},
   "outputs": [
    {
     "data": {
      "text/plain": [
       "(839, 128, 45)"
      ]
     },
     "execution_count": 54,
     "metadata": {},
     "output_type": "execute_result"
    }
   ],
   "source": [
    "X_train_3.shape"
   ]
  },
  {
   "cell_type": "code",
   "execution_count": 56,
   "metadata": {},
   "outputs": [],
   "source": [
    "X_train_3 = X_train_3.reshape(X_train_3.shape[0], 128, 45, 1)\n",
    "X_test_3 = X_test_3.reshape(X_test_3.shape[0], 128, 45, 1)"
   ]
  },
  {
   "cell_type": "code",
   "execution_count": 62,
   "metadata": {},
   "outputs": [],
   "source": [
    "model3 = Sequential()\n",
    "model3.add(Conv2D(filters = 6, kernel_size=3, activation = 'relu', input_shape = (128,45,1), padding = 'same'))\n",
    "model3.add(MaxPooling2D(pool_size= (2,2), padding='same'))\n",
    "model3.add(Conv2D(32, kernel_size=3, activation='relu'))\n",
    "model3.add(MaxPooling2D(pool_size=(2,2), padding='same'))\n",
    "model3.add(Flatten())\n",
    "model3.add(Dense(64, activation = 'relu'))\n",
    "model3.add(Dense(32, activation = 'relu'))\n",
    "model3.add(Dense(5, activation = 'softmax'))"
   ]
  },
  {
   "cell_type": "code",
   "execution_count": 63,
   "metadata": {},
   "outputs": [],
   "source": [
    "model3.compile(loss='categorical_crossentropy',\n",
    "                  optimizer='adam',\n",
    "                  metrics=['accuracy'])"
   ]
  },
  {
   "cell_type": "code",
   "execution_count": 64,
   "metadata": {
    "scrolled": true
   },
   "outputs": [
    {
     "name": "stdout",
     "output_type": "stream",
     "text": [
      "Model: \"sequential_4\"\n",
      "_________________________________________________________________\n",
      "Layer (type)                 Output Shape              Param #   \n",
      "=================================================================\n",
      "conv2d_3 (Conv2D)            (None, 128, 45, 6)        60        \n",
      "_________________________________________________________________\n",
      "max_pooling2d_3 (MaxPooling2 (None, 64, 23, 6)         0         \n",
      "_________________________________________________________________\n",
      "conv2d_4 (Conv2D)            (None, 62, 21, 32)        1760      \n",
      "_________________________________________________________________\n",
      "max_pooling2d_4 (MaxPooling2 (None, 31, 11, 32)        0         \n",
      "_________________________________________________________________\n",
      "flatten_2 (Flatten)          (None, 10912)             0         \n",
      "_________________________________________________________________\n",
      "dense_10 (Dense)             (None, 64)                698432    \n",
      "_________________________________________________________________\n",
      "dense_11 (Dense)             (None, 32)                2080      \n",
      "_________________________________________________________________\n",
      "dense_12 (Dense)             (None, 5)                 165       \n",
      "=================================================================\n",
      "Total params: 702,497\n",
      "Trainable params: 702,497\n",
      "Non-trainable params: 0\n",
      "_________________________________________________________________\n"
     ]
    }
   ],
   "source": [
    "model3.summary()"
   ]
  },
  {
   "cell_type": "code",
   "execution_count": 65,
   "metadata": {
    "scrolled": true
   },
   "outputs": [
    {
     "name": "stdout",
     "output_type": "stream",
     "text": [
      "Train on 839 samples, validate on 210 samples\n",
      "Epoch 1/100\n",
      " - 10s - loss: 4.6477 - accuracy: 0.4565 - val_loss: 2.1562 - val_accuracy: 0.5714\n",
      "Epoch 2/100\n",
      " - 0s - loss: 1.2116 - accuracy: 0.6627 - val_loss: 1.0625 - val_accuracy: 0.6381\n",
      "Epoch 3/100\n",
      " - 0s - loss: 0.6157 - accuracy: 0.7878 - val_loss: 0.8584 - val_accuracy: 0.7571\n",
      "Epoch 4/100\n",
      " - 0s - loss: 0.4237 - accuracy: 0.8546 - val_loss: 0.7524 - val_accuracy: 0.7524\n",
      "Epoch 5/100\n",
      " - 0s - loss: 0.3165 - accuracy: 0.8927 - val_loss: 0.7974 - val_accuracy: 0.7952\n",
      "Epoch 6/100\n",
      " - 0s - loss: 0.2459 - accuracy: 0.9261 - val_loss: 0.9362 - val_accuracy: 0.8000\n",
      "Epoch 7/100\n",
      " - 0s - loss: 0.1770 - accuracy: 0.9535 - val_loss: 0.7124 - val_accuracy: 0.8000\n",
      "Epoch 8/100\n",
      " - 0s - loss: 0.1331 - accuracy: 0.9631 - val_loss: 0.7517 - val_accuracy: 0.8238\n",
      "Epoch 9/100\n",
      " - 0s - loss: 0.1184 - accuracy: 0.9678 - val_loss: 0.7884 - val_accuracy: 0.8381\n",
      "Epoch 10/100\n",
      " - 0s - loss: 0.0914 - accuracy: 0.9750 - val_loss: 0.9892 - val_accuracy: 0.8381\n",
      "Epoch 11/100\n",
      " - 0s - loss: 0.0741 - accuracy: 0.9809 - val_loss: 0.8458 - val_accuracy: 0.8571\n",
      "Epoch 12/100\n",
      " - 0s - loss: 0.0443 - accuracy: 0.9893 - val_loss: 0.9632 - val_accuracy: 0.8524\n",
      "Epoch 13/100\n",
      " - 0s - loss: 0.0405 - accuracy: 0.9952 - val_loss: 0.8734 - val_accuracy: 0.8619\n",
      "Epoch 14/100\n",
      " - 0s - loss: 0.0349 - accuracy: 0.9940 - val_loss: 0.9965 - val_accuracy: 0.8333\n",
      "Epoch 15/100\n",
      " - 0s - loss: 0.0244 - accuracy: 0.9988 - val_loss: 0.8425 - val_accuracy: 0.8619\n",
      "Epoch 16/100\n",
      " - 0s - loss: 0.0238 - accuracy: 0.9976 - val_loss: 0.7216 - val_accuracy: 0.8333\n",
      "Epoch 17/100\n",
      " - 0s - loss: 0.0660 - accuracy: 0.9797 - val_loss: 1.1143 - val_accuracy: 0.8143\n",
      "Epoch 18/100\n",
      " - 0s - loss: 0.3469 - accuracy: 0.9118 - val_loss: 1.3137 - val_accuracy: 0.7810\n",
      "Epoch 19/100\n",
      " - 0s - loss: 0.3064 - accuracy: 0.9178 - val_loss: 1.3407 - val_accuracy: 0.7857\n",
      "Epoch 20/100\n",
      " - 0s - loss: 0.1990 - accuracy: 0.9452 - val_loss: 0.8685 - val_accuracy: 0.8190\n",
      "Epoch 21/100\n",
      " - 0s - loss: 0.0785 - accuracy: 0.9809 - val_loss: 0.9852 - val_accuracy: 0.8095\n",
      "Epoch 22/100\n",
      " - 0s - loss: 0.0568 - accuracy: 0.9893 - val_loss: 0.9143 - val_accuracy: 0.8381\n",
      "Epoch 23/100\n",
      " - 0s - loss: 0.0265 - accuracy: 0.9952 - val_loss: 0.9302 - val_accuracy: 0.8667\n",
      "Epoch 24/100\n",
      " - 0s - loss: 0.0157 - accuracy: 1.0000 - val_loss: 0.8299 - val_accuracy: 0.8667\n",
      "Epoch 25/100\n",
      " - 0s - loss: 0.0111 - accuracy: 0.9988 - val_loss: 0.8909 - val_accuracy: 0.8762\n",
      "Epoch 26/100\n",
      " - 0s - loss: 0.0088 - accuracy: 1.0000 - val_loss: 0.9073 - val_accuracy: 0.8619\n",
      "Epoch 27/100\n",
      " - 0s - loss: 0.0070 - accuracy: 1.0000 - val_loss: 0.9271 - val_accuracy: 0.8714\n",
      "Epoch 28/100\n",
      " - 0s - loss: 0.0060 - accuracy: 1.0000 - val_loss: 0.9578 - val_accuracy: 0.8571\n",
      "Epoch 29/100\n",
      " - 0s - loss: 0.0052 - accuracy: 1.0000 - val_loss: 0.9701 - val_accuracy: 0.8571\n",
      "Epoch 30/100\n",
      " - 0s - loss: 0.0045 - accuracy: 1.0000 - val_loss: 0.9841 - val_accuracy: 0.8571\n",
      "Epoch 31/100\n",
      " - 0s - loss: 0.0040 - accuracy: 1.0000 - val_loss: 1.0003 - val_accuracy: 0.8571\n",
      "Epoch 32/100\n",
      " - 0s - loss: 0.0036 - accuracy: 1.0000 - val_loss: 1.0135 - val_accuracy: 0.8571\n",
      "Epoch 33/100\n",
      " - 0s - loss: 0.0032 - accuracy: 1.0000 - val_loss: 1.0208 - val_accuracy: 0.8619\n",
      "Epoch 34/100\n",
      " - 0s - loss: 0.0029 - accuracy: 1.0000 - val_loss: 1.0364 - val_accuracy: 0.8571\n",
      "Epoch 35/100\n",
      " - 0s - loss: 0.0027 - accuracy: 1.0000 - val_loss: 1.0501 - val_accuracy: 0.8571\n",
      "Epoch 36/100\n",
      " - 0s - loss: 0.0025 - accuracy: 1.0000 - val_loss: 1.0639 - val_accuracy: 0.8524\n",
      "Epoch 37/100\n",
      " - 0s - loss: 0.0023 - accuracy: 1.0000 - val_loss: 1.0715 - val_accuracy: 0.8571\n",
      "Epoch 38/100\n",
      " - 0s - loss: 0.0021 - accuracy: 1.0000 - val_loss: 1.0825 - val_accuracy: 0.8571\n",
      "Epoch 39/100\n",
      " - 0s - loss: 0.0019 - accuracy: 1.0000 - val_loss: 1.0940 - val_accuracy: 0.8571\n",
      "Epoch 40/100\n",
      " - 0s - loss: 0.0018 - accuracy: 1.0000 - val_loss: 1.1005 - val_accuracy: 0.8619\n",
      "Epoch 41/100\n",
      " - 0s - loss: 0.0017 - accuracy: 1.0000 - val_loss: 1.1114 - val_accuracy: 0.8619\n",
      "Epoch 42/100\n",
      " - 0s - loss: 0.0015 - accuracy: 1.0000 - val_loss: 1.1151 - val_accuracy: 0.8619\n",
      "Epoch 43/100\n",
      " - 0s - loss: 0.0014 - accuracy: 1.0000 - val_loss: 1.1247 - val_accuracy: 0.8619\n",
      "Epoch 44/100\n",
      " - 0s - loss: 0.0013 - accuracy: 1.0000 - val_loss: 1.1293 - val_accuracy: 0.8619\n",
      "Epoch 45/100\n",
      " - 0s - loss: 0.0013 - accuracy: 1.0000 - val_loss: 1.1383 - val_accuracy: 0.8667\n",
      "Epoch 46/100\n",
      " - 0s - loss: 0.0012 - accuracy: 1.0000 - val_loss: 1.1440 - val_accuracy: 0.8619\n",
      "Epoch 47/100\n",
      " - 0s - loss: 0.0011 - accuracy: 1.0000 - val_loss: 1.1515 - val_accuracy: 0.8667\n",
      "Epoch 48/100\n",
      " - 0s - loss: 0.0010 - accuracy: 1.0000 - val_loss: 1.1571 - val_accuracy: 0.8667\n",
      "Epoch 49/100\n",
      " - 0s - loss: 9.8248e-04 - accuracy: 1.0000 - val_loss: 1.1677 - val_accuracy: 0.8619\n",
      "Epoch 50/100\n",
      " - 0s - loss: 9.3042e-04 - accuracy: 1.0000 - val_loss: 1.1669 - val_accuracy: 0.8667\n",
      "Epoch 51/100\n",
      " - 0s - loss: 9.0490e-04 - accuracy: 1.0000 - val_loss: 1.1761 - val_accuracy: 0.8619\n",
      "Epoch 52/100\n",
      " - 0s - loss: 8.1721e-04 - accuracy: 1.0000 - val_loss: 1.1723 - val_accuracy: 0.8667\n",
      "Epoch 53/100\n",
      " - 0s - loss: 7.8346e-04 - accuracy: 1.0000 - val_loss: 1.1827 - val_accuracy: 0.8619\n",
      "Epoch 54/100\n",
      " - 0s - loss: 7.3984e-04 - accuracy: 1.0000 - val_loss: 1.1948 - val_accuracy: 0.8619\n",
      "Epoch 55/100\n",
      " - 0s - loss: 7.0172e-04 - accuracy: 1.0000 - val_loss: 1.1985 - val_accuracy: 0.8667\n",
      "Epoch 56/100\n",
      " - 0s - loss: 6.6873e-04 - accuracy: 1.0000 - val_loss: 1.2065 - val_accuracy: 0.8619\n",
      "Epoch 57/100\n",
      " - 0s - loss: 6.3825e-04 - accuracy: 1.0000 - val_loss: 1.2120 - val_accuracy: 0.8667\n",
      "Epoch 58/100\n",
      " - 0s - loss: 6.1552e-04 - accuracy: 1.0000 - val_loss: 1.2140 - val_accuracy: 0.8667\n",
      "Epoch 59/100\n",
      " - 0s - loss: 5.8679e-04 - accuracy: 1.0000 - val_loss: 1.2215 - val_accuracy: 0.8667\n",
      "Epoch 60/100\n",
      " - 0s - loss: 5.5925e-04 - accuracy: 1.0000 - val_loss: 1.2273 - val_accuracy: 0.8619\n",
      "Epoch 61/100\n",
      " - 0s - loss: 5.3660e-04 - accuracy: 1.0000 - val_loss: 1.2307 - val_accuracy: 0.8619\n",
      "Epoch 62/100\n",
      " - 0s - loss: 5.1352e-04 - accuracy: 1.0000 - val_loss: 1.2389 - val_accuracy: 0.8619\n",
      "Epoch 63/100\n",
      " - 0s - loss: 4.9053e-04 - accuracy: 1.0000 - val_loss: 1.2428 - val_accuracy: 0.8667\n",
      "Epoch 64/100\n",
      " - 0s - loss: 4.7308e-04 - accuracy: 1.0000 - val_loss: 1.2465 - val_accuracy: 0.8619\n",
      "Epoch 65/100\n",
      " - 0s - loss: 4.5105e-04 - accuracy: 1.0000 - val_loss: 1.2519 - val_accuracy: 0.8619\n",
      "Epoch 66/100\n",
      " - 0s - loss: 4.3461e-04 - accuracy: 1.0000 - val_loss: 1.2560 - val_accuracy: 0.8619\n",
      "Epoch 67/100\n",
      " - 0s - loss: 4.1833e-04 - accuracy: 1.0000 - val_loss: 1.2672 - val_accuracy: 0.8619\n",
      "Epoch 68/100\n",
      " - 0s - loss: 3.9947e-04 - accuracy: 1.0000 - val_loss: 1.2668 - val_accuracy: 0.8619\n",
      "Epoch 69/100\n",
      " - 0s - loss: 3.8472e-04 - accuracy: 1.0000 - val_loss: 1.2715 - val_accuracy: 0.8619\n",
      "Epoch 70/100\n",
      " - 0s - loss: 3.7471e-04 - accuracy: 1.0000 - val_loss: 1.2758 - val_accuracy: 0.8619\n",
      "Epoch 71/100\n",
      " - 0s - loss: 3.5954e-04 - accuracy: 1.0000 - val_loss: 1.2795 - val_accuracy: 0.8619\n",
      "Epoch 72/100\n",
      " - 0s - loss: 3.4620e-04 - accuracy: 1.0000 - val_loss: 1.2832 - val_accuracy: 0.8619\n",
      "Epoch 73/100\n",
      " - 0s - loss: 3.3204e-04 - accuracy: 1.0000 - val_loss: 1.2883 - val_accuracy: 0.8619\n",
      "Epoch 74/100\n",
      " - 0s - loss: 3.2054e-04 - accuracy: 1.0000 - val_loss: 1.2894 - val_accuracy: 0.8619\n",
      "Epoch 75/100\n",
      " - 0s - loss: 3.1002e-04 - accuracy: 1.0000 - val_loss: 1.2950 - val_accuracy: 0.8667\n",
      "Epoch 76/100\n",
      " - 0s - loss: 3.0171e-04 - accuracy: 1.0000 - val_loss: 1.2955 - val_accuracy: 0.8667\n",
      "Epoch 77/100\n",
      " - 0s - loss: 2.9073e-04 - accuracy: 1.0000 - val_loss: 1.3046 - val_accuracy: 0.8667\n",
      "Epoch 78/100\n",
      " - 0s - loss: 2.8756e-04 - accuracy: 1.0000 - val_loss: 1.3149 - val_accuracy: 0.8714\n",
      "Epoch 79/100\n",
      " - 0s - loss: 2.6876e-04 - accuracy: 1.0000 - val_loss: 1.3117 - val_accuracy: 0.8667\n",
      "Epoch 80/100\n",
      " - 0s - loss: 2.6274e-04 - accuracy: 1.0000 - val_loss: 1.3148 - val_accuracy: 0.8667\n",
      "Epoch 81/100\n",
      " - 0s - loss: 2.5354e-04 - accuracy: 1.0000 - val_loss: 1.3199 - val_accuracy: 0.8667\n",
      "Epoch 82/100\n",
      " - 0s - loss: 2.4755e-04 - accuracy: 1.0000 - val_loss: 1.3199 - val_accuracy: 0.8619\n",
      "Epoch 83/100\n",
      " - 0s - loss: 2.3841e-04 - accuracy: 1.0000 - val_loss: 1.3256 - val_accuracy: 0.8667\n",
      "Epoch 84/100\n",
      " - 0s - loss: 2.3093e-04 - accuracy: 1.0000 - val_loss: 1.3279 - val_accuracy: 0.8667\n",
      "Epoch 85/100\n",
      " - 0s - loss: 2.2372e-04 - accuracy: 1.0000 - val_loss: 1.3325 - val_accuracy: 0.8667\n"
     ]
    },
    {
     "name": "stdout",
     "output_type": "stream",
     "text": [
      "Epoch 86/100\n",
      " - 0s - loss: 2.1597e-04 - accuracy: 1.0000 - val_loss: 1.3349 - val_accuracy: 0.8714\n",
      "Epoch 87/100\n",
      " - 0s - loss: 2.1021e-04 - accuracy: 1.0000 - val_loss: 1.3387 - val_accuracy: 0.8714\n",
      "Epoch 88/100\n",
      " - 0s - loss: 2.0339e-04 - accuracy: 1.0000 - val_loss: 1.3419 - val_accuracy: 0.8714\n",
      "Epoch 89/100\n",
      " - 0s - loss: 1.9860e-04 - accuracy: 1.0000 - val_loss: 1.3451 - val_accuracy: 0.8714\n",
      "Epoch 90/100\n",
      " - 0s - loss: 1.9385e-04 - accuracy: 1.0000 - val_loss: 1.3508 - val_accuracy: 0.8714\n",
      "Epoch 91/100\n",
      " - 0s - loss: 1.8708e-04 - accuracy: 1.0000 - val_loss: 1.3522 - val_accuracy: 0.8667\n",
      "Epoch 92/100\n",
      " - 0s - loss: 1.8086e-04 - accuracy: 1.0000 - val_loss: 1.3586 - val_accuracy: 0.8667\n",
      "Epoch 93/100\n",
      " - 0s - loss: 1.7633e-04 - accuracy: 1.0000 - val_loss: 1.3590 - val_accuracy: 0.8667\n",
      "Epoch 94/100\n",
      " - 0s - loss: 1.7117e-04 - accuracy: 1.0000 - val_loss: 1.3601 - val_accuracy: 0.8667\n",
      "Epoch 95/100\n",
      " - 0s - loss: 1.6673e-04 - accuracy: 1.0000 - val_loss: 1.3677 - val_accuracy: 0.8667\n",
      "Epoch 96/100\n",
      " - 0s - loss: 1.6141e-04 - accuracy: 1.0000 - val_loss: 1.3744 - val_accuracy: 0.8667\n",
      "Epoch 97/100\n",
      " - 0s - loss: 1.5746e-04 - accuracy: 1.0000 - val_loss: 1.3758 - val_accuracy: 0.8667\n",
      "Epoch 98/100\n",
      " - 0s - loss: 1.5310e-04 - accuracy: 1.0000 - val_loss: 1.3711 - val_accuracy: 0.8667\n",
      "Epoch 99/100\n",
      " - 0s - loss: 1.4878e-04 - accuracy: 1.0000 - val_loss: 1.3762 - val_accuracy: 0.8667\n",
      "Epoch 100/100\n",
      " - 0s - loss: 1.4494e-04 - accuracy: 1.0000 - val_loss: 1.3787 - val_accuracy: 0.8667\n"
     ]
    }
   ],
   "source": [
    "history = model3.fit(X_train_3,\n",
    "                        y_train,\n",
    "                        batch_size=32,\n",
    "                        validation_data=(X_test_3, y_test),\n",
    "                        epochs=100,\n",
    "                        verbose=2)"
   ]
  },
  {
   "cell_type": "code",
   "execution_count": 66,
   "metadata": {
    "scrolled": true
   },
   "outputs": [
    {
     "data": {
      "text/plain": [
       "<matplotlib.legend.Legend at 0x28b55205240>"
      ]
     },
     "execution_count": 66,
     "metadata": {},
     "output_type": "execute_result"
    },
    {
     "data": {
      "image/png": "[encoded data removed]",
      "text/plain": [
       "<Figure size 432x288 with 1 Axes>"
      ]
     },
     "metadata": {
      "needs_background": "light"
     },
     "output_type": "display_data"
    }
   ],
   "source": [
    "plt.plot(history.history['loss'], label = ' Training Loss')\n",
    "plt.plot(history.history['val_loss'], label = ' Test Loss')\n",
    "plt.legend()"
   ]
  },
  {
   "cell_type": "code",
   "execution_count": 67,
   "metadata": {},
   "outputs": [
    {
     "data": {
      "text/plain": [
       "<matplotlib.legend.Legend at 0x28b55268940>"
      ]
     },
     "execution_count": 67,
     "metadata": {},
     "output_type": "execute_result"
    },
    {
     "data": {
      "image/png": "[encoded data removed]",
      "text/plain": [
       "<Figure size 432x288 with 1 Axes>"
      ]
     },
     "metadata": {
      "needs_background": "light"
     },
     "output_type": "display_data"
    }
   ],
   "source": [
    "plt.plot(history.history['accuracy'], label = ' Training Accuracy')\n",
    "plt.plot(history.history['val_accuracy'], label = ' Test Accuracy')\n",
    "plt.legend()"
   ]
  },
  {
   "cell_type": "code",
   "execution_count": 76,
   "metadata": {},
   "outputs": [
    {
     "name": "stdout",
     "output_type": "stream",
     "text": [
      "210/210 [==============================] - 0s 81us/step\n"
     ]
    }
   ],
   "source": [
    "model3_eval = model3.evaluate(X_test_3,y_test, verbose=1)\n",
    "model3_metrics = model3.metrics_names"
   ]
  },
  {
   "cell_type": "markdown",
   "metadata": {},
   "source": [
    "**CNN**\n",
    "\n",
    "model 4:\n",
    "\n",
    "classifier: CNN with picture WIP"
   ]
  },
  {
   "cell_type": "code",
   "execution_count": 48,
   "metadata": {},
   "outputs": [],
   "source": [
    "# Not yet"
   ]
  },
  {
   "cell_type": "markdown",
   "metadata": {},
   "source": [
    "**RNN**\n",
    "\n",
    "Feeding same data as melspectrogram is possible."
   ]
  },
  {
   "cell_type": "code",
   "execution_count": 68,
   "metadata": {},
   "outputs": [],
   "source": [
    "X_train_5, X_test_5, y_train, y_test = train_test_split(X, y, test_size = 0.2, random_state = 42, stratify = y)"
   ]
  },
  {
   "cell_type": "code",
   "execution_count": 69,
   "metadata": {},
   "outputs": [],
   "source": [
    "model5 = Sequential()\n",
    "\n",
    "model5.add(LSTM(64, input_shape = (128,45), return_sequences=True))\n",
    "model5.add(LSTM(64, return_sequences=False ))\n",
    "model5.add(Dense(64, activation = 'relu'))\n",
    "model5.add(Dropout(0.3))\n",
    "\n",
    "model5.add(Dense(5, activation = 'softmax'))"
   ]
  },
  {
   "cell_type": "code",
   "execution_count": 70,
   "metadata": {},
   "outputs": [],
   "source": [
    "model5.compile(optimizer = 'Adam', loss = 'categorical_crossentropy', metrics = ['accuracy'])"
   ]
  },
  {
   "cell_type": "code",
   "execution_count": 71,
   "metadata": {},
   "outputs": [
    {
     "name": "stdout",
     "output_type": "stream",
     "text": [
      "Model: \"sequential_5\"\n",
      "_________________________________________________________________\n",
      "Layer (type)                 Output Shape              Param #   \n",
      "=================================================================\n",
      "lstm_1 (LSTM)                (None, 128, 64)           28160     \n",
      "_________________________________________________________________\n",
      "lstm_2 (LSTM)                (None, 64)                33024     \n",
      "_________________________________________________________________\n",
      "dense_13 (Dense)             (None, 64)                4160      \n",
      "_________________________________________________________________\n",
      "dropout_1 (Dropout)          (None, 64)                0         \n",
      "_________________________________________________________________\n",
      "dense_14 (Dense)             (None, 5)                 325       \n",
      "=================================================================\n",
      "Total params: 65,669\n",
      "Trainable params: 65,669\n",
      "Non-trainable params: 0\n",
      "_________________________________________________________________\n"
     ]
    }
   ],
   "source": [
    "model5.summary()"
   ]
  },
  {
   "cell_type": "code",
   "execution_count": 72,
   "metadata": {
    "scrolled": true
   },
   "outputs": [
    {
     "name": "stdout",
     "output_type": "stream",
     "text": [
      "Train on 839 samples, validate on 210 samples\n",
      "Epoch 1/100\n",
      " - 5s - loss: 1.5465 - accuracy: 0.2777 - val_loss: 1.3535 - val_accuracy: 0.3714\n",
      "Epoch 2/100\n",
      " - 4s - loss: 1.3368 - accuracy: 0.3564 - val_loss: 1.2328 - val_accuracy: 0.4190\n",
      "Epoch 3/100\n",
      " - 4s - loss: 1.1908 - accuracy: 0.4350 - val_loss: 1.1111 - val_accuracy: 0.4810\n",
      "Epoch 4/100\n",
      " - 4s - loss: 1.0626 - accuracy: 0.5185 - val_loss: 1.1766 - val_accuracy: 0.5476\n",
      "Epoch 5/100\n",
      " - 4s - loss: 1.0005 - accuracy: 0.5602 - val_loss: 0.9111 - val_accuracy: 0.5714\n",
      "Epoch 6/100\n",
      " - 4s - loss: 0.8991 - accuracy: 0.6019 - val_loss: 0.8569 - val_accuracy: 0.6524\n",
      "Epoch 7/100\n",
      " - 4s - loss: 0.7671 - accuracy: 0.6758 - val_loss: 0.8735 - val_accuracy: 0.6238\n",
      "Epoch 8/100\n",
      " - 4s - loss: 0.6849 - accuracy: 0.7723 - val_loss: 0.6832 - val_accuracy: 0.7286\n",
      "Epoch 9/100\n",
      " - 4s - loss: 0.5780 - accuracy: 0.8010 - val_loss: 0.6668 - val_accuracy: 0.7571\n",
      "Epoch 10/100\n",
      " - 4s - loss: 0.5531 - accuracy: 0.8224 - val_loss: 0.6734 - val_accuracy: 0.7762\n",
      "Epoch 11/100\n",
      " - 4s - loss: 0.8404 - accuracy: 0.7330 - val_loss: 0.8648 - val_accuracy: 0.6238\n",
      "Epoch 12/100\n",
      " - 4s - loss: 0.7423 - accuracy: 0.6853 - val_loss: 0.7112 - val_accuracy: 0.7333\n",
      "Epoch 13/100\n",
      " - 4s - loss: 0.6319 - accuracy: 0.7592 - val_loss: 0.6920 - val_accuracy: 0.7429\n",
      "Epoch 14/100\n",
      " - 4s - loss: 0.4465 - accuracy: 0.8439 - val_loss: 0.5501 - val_accuracy: 0.8143\n",
      "Epoch 15/100\n",
      " - 4s - loss: 0.4302 - accuracy: 0.8665 - val_loss: 0.5293 - val_accuracy: 0.8286\n",
      "Epoch 16/100\n",
      " - 4s - loss: 0.3475 - accuracy: 0.8927 - val_loss: 0.5627 - val_accuracy: 0.8429\n",
      "Epoch 17/100\n",
      " - 4s - loss: 0.3369 - accuracy: 0.9011 - val_loss: 0.5483 - val_accuracy: 0.8571\n",
      "Epoch 18/100\n",
      " - 4s - loss: 0.2740 - accuracy: 0.9285 - val_loss: 0.4676 - val_accuracy: 0.8762\n",
      "Epoch 19/100\n",
      " - 4s - loss: 0.3438 - accuracy: 0.8820 - val_loss: 0.4907 - val_accuracy: 0.8571\n",
      "Epoch 20/100\n",
      " - 4s - loss: 0.3301 - accuracy: 0.8903 - val_loss: 0.4666 - val_accuracy: 0.8571\n",
      "Epoch 21/100\n",
      " - 4s - loss: 0.2595 - accuracy: 0.9201 - val_loss: 0.4655 - val_accuracy: 0.8667\n",
      "Epoch 22/100\n",
      " - 4s - loss: 0.2206 - accuracy: 0.9344 - val_loss: 0.4130 - val_accuracy: 0.8714\n",
      "Epoch 23/100\n",
      " - 4s - loss: 0.3007 - accuracy: 0.8999 - val_loss: 0.4492 - val_accuracy: 0.8619\n",
      "Epoch 24/100\n",
      " - 4s - loss: 0.3518 - accuracy: 0.8880 - val_loss: 0.8589 - val_accuracy: 0.6952\n",
      "Epoch 25/100\n",
      " - 4s - loss: 0.3798 - accuracy: 0.8868 - val_loss: 0.4013 - val_accuracy: 0.8762\n",
      "Epoch 26/100\n",
      " - 4s - loss: 0.2260 - accuracy: 0.9416 - val_loss: 0.3979 - val_accuracy: 0.8762\n",
      "Epoch 27/100\n",
      " - 4s - loss: 0.2144 - accuracy: 0.9464 - val_loss: 0.3697 - val_accuracy: 0.8952\n",
      "Epoch 28/100\n",
      " - 4s - loss: 0.1871 - accuracy: 0.9535 - val_loss: 0.3957 - val_accuracy: 0.8810\n",
      "Epoch 29/100\n",
      " - 4s - loss: 0.1684 - accuracy: 0.9535 - val_loss: 0.3166 - val_accuracy: 0.9143\n",
      "Epoch 30/100\n",
      " - 4s - loss: 0.2238 - accuracy: 0.9297 - val_loss: 0.3645 - val_accuracy: 0.9143\n",
      "Epoch 31/100\n",
      " - 4s - loss: 0.4309 - accuracy: 0.8808 - val_loss: 0.5425 - val_accuracy: 0.8476\n",
      "Epoch 32/100\n",
      " - 4s - loss: 0.2233 - accuracy: 0.9499 - val_loss: 0.4487 - val_accuracy: 0.8762\n",
      "Epoch 33/100\n",
      " - 4s - loss: 0.1834 - accuracy: 0.9559 - val_loss: 0.4195 - val_accuracy: 0.8810\n",
      "Epoch 34/100\n",
      " - 4s - loss: 0.1666 - accuracy: 0.9559 - val_loss: 0.4380 - val_accuracy: 0.8762\n",
      "Epoch 35/100\n",
      " - 4s - loss: 0.1627 - accuracy: 0.9595 - val_loss: 0.4415 - val_accuracy: 0.8714\n",
      "Epoch 36/100\n",
      " - 4s - loss: 0.1214 - accuracy: 0.9690 - val_loss: 0.4115 - val_accuracy: 0.8905\n",
      "Epoch 37/100\n",
      " - 4s - loss: 0.1306 - accuracy: 0.9654 - val_loss: 0.4215 - val_accuracy: 0.9143\n",
      "Epoch 38/100\n",
      " - 4s - loss: 0.1257 - accuracy: 0.9654 - val_loss: 0.4395 - val_accuracy: 0.8857\n",
      "Epoch 39/100\n",
      " - 4s - loss: 0.1098 - accuracy: 0.9726 - val_loss: 0.3957 - val_accuracy: 0.9143\n",
      "Epoch 40/100\n",
      " - 4s - loss: 0.1586 - accuracy: 0.9535 - val_loss: 0.4413 - val_accuracy: 0.8952\n",
      "Epoch 41/100\n",
      " - 4s - loss: 0.1505 - accuracy: 0.9547 - val_loss: 0.4338 - val_accuracy: 0.8429\n",
      "Epoch 42/100\n",
      " - 4s - loss: 0.1403 - accuracy: 0.9583 - val_loss: 0.3692 - val_accuracy: 0.9048\n",
      "Epoch 43/100\n",
      " - 4s - loss: 0.1215 - accuracy: 0.9666 - val_loss: 0.4424 - val_accuracy: 0.8857\n",
      "Epoch 44/100\n",
      " - 4s - loss: 0.1014 - accuracy: 0.9738 - val_loss: 0.3777 - val_accuracy: 0.9095\n",
      "Epoch 45/100\n",
      " - 4s - loss: 0.1042 - accuracy: 0.9785 - val_loss: 0.4186 - val_accuracy: 0.8952\n",
      "Epoch 46/100\n",
      " - 4s - loss: 0.1697 - accuracy: 0.9511 - val_loss: 0.3768 - val_accuracy: 0.9048\n",
      "Epoch 47/100\n",
      " - 4s - loss: 0.3870 - accuracy: 0.8880 - val_loss: 0.3687 - val_accuracy: 0.8714\n",
      "Epoch 48/100\n",
      " - 4s - loss: 0.2153 - accuracy: 0.9368 - val_loss: 0.4219 - val_accuracy: 0.8857\n",
      "Epoch 49/100\n",
      " - 4s - loss: 0.1700 - accuracy: 0.9523 - val_loss: 0.3831 - val_accuracy: 0.9095\n",
      "Epoch 50/100\n",
      " - 4s - loss: 0.1472 - accuracy: 0.9595 - val_loss: 0.3236 - val_accuracy: 0.9190\n",
      "Epoch 51/100\n",
      " - 4s - loss: 0.1417 - accuracy: 0.9702 - val_loss: 0.3852 - val_accuracy: 0.9000\n",
      "Epoch 52/100\n",
      " - 4s - loss: 0.1587 - accuracy: 0.9571 - val_loss: 0.3502 - val_accuracy: 0.9048\n",
      "Epoch 53/100\n",
      " - 4s - loss: 0.1003 - accuracy: 0.9726 - val_loss: 0.3488 - val_accuracy: 0.9048\n",
      "Epoch 54/100\n",
      " - 4s - loss: 0.1165 - accuracy: 0.9714 - val_loss: 0.3662 - val_accuracy: 0.9000\n",
      "Epoch 55/100\n",
      " - 4s - loss: 0.1704 - accuracy: 0.9464 - val_loss: 0.3940 - val_accuracy: 0.9048\n",
      "Epoch 56/100\n",
      " - 4s - loss: 0.1553 - accuracy: 0.9571 - val_loss: 0.3303 - val_accuracy: 0.8952\n",
      "Epoch 57/100\n",
      " - 4s - loss: 0.1490 - accuracy: 0.9583 - val_loss: 0.3970 - val_accuracy: 0.8810\n",
      "Epoch 58/100\n",
      " - 4s - loss: 0.1250 - accuracy: 0.9619 - val_loss: 0.3366 - val_accuracy: 0.8952\n",
      "Epoch 59/100\n",
      " - 4s - loss: 0.0852 - accuracy: 0.9738 - val_loss: 0.3479 - val_accuracy: 0.9000\n",
      "Epoch 60/100\n",
      " - 4s - loss: 0.0889 - accuracy: 0.9738 - val_loss: 0.3022 - val_accuracy: 0.9143\n",
      "Epoch 61/100\n",
      " - 4s - loss: 0.0674 - accuracy: 0.9797 - val_loss: 0.4212 - val_accuracy: 0.8810\n",
      "Epoch 62/100\n",
      " - 4s - loss: 0.0832 - accuracy: 0.9738 - val_loss: 0.3490 - val_accuracy: 0.9143\n",
      "Epoch 63/100\n",
      " - 4s - loss: 0.0809 - accuracy: 0.9762 - val_loss: 0.3433 - val_accuracy: 0.9190\n",
      "Epoch 64/100\n",
      " - 4s - loss: 0.0888 - accuracy: 0.9821 - val_loss: 0.4012 - val_accuracy: 0.8952\n",
      "Epoch 65/100\n",
      " - 4s - loss: 0.0677 - accuracy: 0.9750 - val_loss: 0.3887 - val_accuracy: 0.9000\n",
      "Epoch 66/100\n",
      " - 4s - loss: 0.0634 - accuracy: 0.9821 - val_loss: 0.4031 - val_accuracy: 0.8857\n",
      "Epoch 67/100\n",
      " - 4s - loss: 0.0601 - accuracy: 0.9797 - val_loss: 0.6357 - val_accuracy: 0.8762\n",
      "Epoch 68/100\n",
      " - 4s - loss: 0.0705 - accuracy: 0.9809 - val_loss: 0.4185 - val_accuracy: 0.8952\n",
      "Epoch 69/100\n",
      " - 4s - loss: 0.0443 - accuracy: 0.9869 - val_loss: 0.4463 - val_accuracy: 0.8905\n",
      "Epoch 70/100\n",
      " - 4s - loss: 0.0457 - accuracy: 0.9821 - val_loss: 0.3405 - val_accuracy: 0.9238\n",
      "Epoch 71/100\n",
      " - 4s - loss: 0.1037 - accuracy: 0.9726 - val_loss: 0.3759 - val_accuracy: 0.9095\n",
      "Epoch 72/100\n",
      " - 4s - loss: 0.0798 - accuracy: 0.9821 - val_loss: 0.4262 - val_accuracy: 0.9143\n",
      "Epoch 73/100\n",
      " - 4s - loss: 0.0838 - accuracy: 0.9726 - val_loss: 0.4291 - val_accuracy: 0.8905\n",
      "Epoch 74/100\n",
      " - 4s - loss: 0.1946 - accuracy: 0.9333 - val_loss: 0.3379 - val_accuracy: 0.9143\n",
      "Epoch 75/100\n",
      " - 4s - loss: 0.0726 - accuracy: 0.9785 - val_loss: 0.3759 - val_accuracy: 0.8857\n",
      "Epoch 76/100\n",
      " - 4s - loss: 0.0357 - accuracy: 0.9905 - val_loss: 0.2902 - val_accuracy: 0.9286\n",
      "Epoch 77/100\n",
      " - 4s - loss: 0.0373 - accuracy: 0.9893 - val_loss: 0.2728 - val_accuracy: 0.9286\n",
      "Epoch 78/100\n",
      " - 4s - loss: 0.0580 - accuracy: 0.9821 - val_loss: 0.3603 - val_accuracy: 0.9095\n",
      "Epoch 79/100\n",
      " - 4s - loss: 0.1379 - accuracy: 0.9654 - val_loss: 0.2737 - val_accuracy: 0.9238\n",
      "Epoch 80/100\n",
      " - 4s - loss: 0.0584 - accuracy: 0.9845 - val_loss: 0.3842 - val_accuracy: 0.9095\n",
      "Epoch 81/100\n",
      " - 4s - loss: 0.0666 - accuracy: 0.9785 - val_loss: 0.3902 - val_accuracy: 0.9238\n",
      "Epoch 82/100\n",
      " - 4s - loss: 0.1458 - accuracy: 0.9583 - val_loss: 0.3578 - val_accuracy: 0.8905\n",
      "Epoch 83/100\n",
      " - 4s - loss: 0.1201 - accuracy: 0.9571 - val_loss: 0.3815 - val_accuracy: 0.9095\n",
      "Epoch 84/100\n",
      " - 4s - loss: 0.0762 - accuracy: 0.9785 - val_loss: 0.2841 - val_accuracy: 0.9286\n",
      "Epoch 85/100\n",
      " - 4s - loss: 0.0976 - accuracy: 0.9666 - val_loss: 0.6683 - val_accuracy: 0.8571\n",
      "Epoch 86/100\n",
      " - 4s - loss: 0.1193 - accuracy: 0.9642 - val_loss: 0.3425 - val_accuracy: 0.9048\n"
     ]
    },
    {
     "name": "stdout",
     "output_type": "stream",
     "text": [
      "Epoch 87/100\n",
      " - 4s - loss: 0.0448 - accuracy: 0.9857 - val_loss: 0.3133 - val_accuracy: 0.9143\n",
      "Epoch 88/100\n",
      " - 4s - loss: 0.1404 - accuracy: 0.9583 - val_loss: 0.3530 - val_accuracy: 0.9048\n",
      "Epoch 89/100\n",
      " - 4s - loss: 0.0601 - accuracy: 0.9905 - val_loss: 0.4138 - val_accuracy: 0.9143\n",
      "Epoch 90/100\n",
      " - 4s - loss: 0.0559 - accuracy: 0.9905 - val_loss: 0.5193 - val_accuracy: 0.9048\n",
      "Epoch 91/100\n",
      " - 4s - loss: 0.0551 - accuracy: 0.9833 - val_loss: 0.5310 - val_accuracy: 0.8857\n",
      "Epoch 92/100\n",
      " - 4s - loss: 0.2919 - accuracy: 0.9392 - val_loss: 0.4571 - val_accuracy: 0.9000\n",
      "Epoch 93/100\n",
      " - 4s - loss: 0.3219 - accuracy: 0.9166 - val_loss: 0.2684 - val_accuracy: 0.9143\n",
      "Epoch 94/100\n",
      " - 4s - loss: 0.1027 - accuracy: 0.9750 - val_loss: 0.2725 - val_accuracy: 0.9286\n",
      "Epoch 95/100\n",
      " - 4s - loss: 0.0499 - accuracy: 0.9833 - val_loss: 0.4776 - val_accuracy: 0.8857\n",
      "Epoch 96/100\n",
      " - 4s - loss: 0.0749 - accuracy: 0.9774 - val_loss: 0.3849 - val_accuracy: 0.9000\n",
      "Epoch 97/100\n",
      " - 4s - loss: 0.1279 - accuracy: 0.9702 - val_loss: 0.3467 - val_accuracy: 0.9048\n",
      "Epoch 98/100\n",
      " - 4s - loss: 0.0615 - accuracy: 0.9869 - val_loss: 0.3345 - val_accuracy: 0.9190\n",
      "Epoch 99/100\n",
      " - 4s - loss: 0.0496 - accuracy: 0.9893 - val_loss: 0.3386 - val_accuracy: 0.9190\n",
      "Epoch 100/100\n",
      " - 4s - loss: 0.0438 - accuracy: 0.9905 - val_loss: 0.2884 - val_accuracy: 0.9333\n"
     ]
    }
   ],
   "source": [
    "history = model5.fit(X_train_5,\n",
    "                        y_train,\n",
    "                        batch_size=32,\n",
    "                        validation_data=(X_test_5, y_test),\n",
    "                        epochs=100,\n",
    "                        verbose=2)"
   ]
  },
  {
   "cell_type": "code",
   "execution_count": 73,
   "metadata": {},
   "outputs": [
    {
     "data": {
      "text/plain": [
       "<matplotlib.legend.Legend at 0x28cc33fc668>"
      ]
     },
     "execution_count": 73,
     "metadata": {},
     "output_type": "execute_result"
    },
    {
     "data": {
      "image/png": "[encoded data removed]",
      "text/plain": [
       "<Figure size 432x288 with 1 Axes>"
      ]
     },
     "metadata": {
      "needs_background": "light"
     },
     "output_type": "display_data"
    }
   ],
   "source": [
    "plt.plot(history.history['loss'], label = ' Training Loss')\n",
    "plt.plot(history.history['val_loss'], label = ' Test Loss')\n",
    "plt.legend()"
   ]
  },
  {
   "cell_type": "code",
   "execution_count": 74,
   "metadata": {},
   "outputs": [
    {
     "data": {
      "text/plain": [
       "<matplotlib.legend.Legend at 0x28cc3475630>"
      ]
     },
     "execution_count": 74,
     "metadata": {},
     "output_type": "execute_result"
    },
    {
     "data": {
      "image/png": "[encoded data removed]",
      "text/plain": [
       "<Figure size 432x288 with 1 Axes>"
      ]
     },
     "metadata": {
      "needs_background": "light"
     },
     "output_type": "display_data"
    }
   ],
   "source": [
    "plt.plot(history.history['accuracy'], label = ' Training Accuracy')\n",
    "plt.plot(history.history['val_accuracy'], label = ' Test Accuracy')\n",
    "plt.legend()"
   ]
  },
  {
   "cell_type": "code",
   "execution_count": 75,
   "metadata": {},
   "outputs": [
    {
     "name": "stdout",
     "output_type": "stream",
     "text": [
      "210/210 [==============================] - 0s 1ms/step\n"
     ]
    }
   ],
   "source": [
    "model5_eval = model5.evaluate(X_test_5,y_test, verbose=1)\n",
    "model5_metrics = model5.metrics_names"
   ]
  },
  {
   "cell_type": "markdown",
   "metadata": {},
   "source": [
    "**Model 6**\n",
    "mfcc with padding"
   ]
  },
  {
   "cell_type": "code",
   "execution_count": 77,
   "metadata": {},
   "outputs": [],
   "source": [
    "def get_mfcc(file, n_mfcc=40):\n",
    "    audio, sr = librosa.load(file) \n",
    "    mfccs = librosa.feature.mfcc(y=audio, sr=sr, n_mfcc=n_mfcc)\n",
    "    return mfccs.T"
   ]
  },
  {
   "cell_type": "code",
   "execution_count": 78,
   "metadata": {},
   "outputs": [],
   "source": [
    "mfcc = train_df['filepath'].map(get_mfcc)"
   ]
  },
  {
   "cell_type": "code",
   "execution_count": 79,
   "metadata": {},
   "outputs": [],
   "source": [
    "X = pad_sequences(mfcc, padding='post')"
   ]
  },
  {
   "cell_type": "code",
   "execution_count": 80,
   "metadata": {},
   "outputs": [
    {
     "data": {
      "text/plain": [
       "(1049, 42, 40)"
      ]
     },
     "execution_count": 80,
     "metadata": {},
     "output_type": "execute_result"
    }
   ],
   "source": [
    "X.shape"
   ]
  },
  {
   "cell_type": "code",
   "execution_count": 81,
   "metadata": {},
   "outputs": [],
   "source": [
    "X_train_6, X_test_6, y_train, y_test = train_test_split(X, y, test_size = 0.2, random_state = 42, stratify = y)"
   ]
  },
  {
   "cell_type": "code",
   "execution_count": 82,
   "metadata": {},
   "outputs": [],
   "source": [
    "model6 = Sequential()\n",
    "\n",
    "model6.add(Masking(mask_value=0, input_shape=(42, 40)))\n",
    "model6.add(LSTM(64, input_shape = (42,40), return_sequences=True))\n",
    "model6.add(LSTM(64, return_sequences=False ))\n",
    "model6.add(Dense(64, activation = 'relu'))\n",
    "model6.add(Dropout(0.3))\n",
    "\n",
    "model6.add(Dense(5, activation = 'softmax'))"
   ]
  },
  {
   "cell_type": "code",
   "execution_count": 83,
   "metadata": {},
   "outputs": [],
   "source": [
    "model6.compile(optimizer = 'Adam', loss = 'categorical_crossentropy', metrics = ['accuracy'])"
   ]
  },
  {
   "cell_type": "code",
   "execution_count": 84,
   "metadata": {},
   "outputs": [
    {
     "name": "stdout",
     "output_type": "stream",
     "text": [
      "Model: \"sequential_6\"\n",
      "_________________________________________________________________\n",
      "Layer (type)                 Output Shape              Param #   \n",
      "=================================================================\n",
      "masking_1 (Masking)          (None, 42, 40)            0         \n",
      "_________________________________________________________________\n",
      "lstm_3 (LSTM)                (None, 42, 64)            26880     \n",
      "_________________________________________________________________\n",
      "lstm_4 (LSTM)                (None, 64)                33024     \n",
      "_________________________________________________________________\n",
      "dense_15 (Dense)             (None, 64)                4160      \n",
      "_________________________________________________________________\n",
      "dropout_2 (Dropout)          (None, 64)                0         \n",
      "_________________________________________________________________\n",
      "dense_16 (Dense)             (None, 5)                 325       \n",
      "=================================================================\n",
      "Total params: 64,389\n",
      "Trainable params: 64,389\n",
      "Non-trainable params: 0\n",
      "_________________________________________________________________\n"
     ]
    }
   ],
   "source": [
    "model6.summary()"
   ]
  },
  {
   "cell_type": "code",
   "execution_count": 85,
   "metadata": {},
   "outputs": [
    {
     "name": "stdout",
     "output_type": "stream",
     "text": [
      "Train on 839 samples, validate on 210 samples\n",
      "Epoch 1/100\n",
      " - 3s - loss: 1.4357 - accuracy: 0.4362 - val_loss: 1.1236 - val_accuracy: 0.7048\n",
      "Epoch 2/100\n",
      " - 2s - loss: 0.7307 - accuracy: 0.7998 - val_loss: 0.4884 - val_accuracy: 0.8381\n",
      "Epoch 3/100\n",
      " - 2s - loss: 0.3050 - accuracy: 0.9046 - val_loss: 0.3100 - val_accuracy: 0.8810\n",
      "Epoch 4/100\n",
      " - 2s - loss: 0.1790 - accuracy: 0.9464 - val_loss: 0.2973 - val_accuracy: 0.9048\n",
      "Epoch 5/100\n",
      " - 2s - loss: 0.1446 - accuracy: 0.9583 - val_loss: 0.1731 - val_accuracy: 0.9333\n",
      "Epoch 6/100\n",
      " - 2s - loss: 0.0907 - accuracy: 0.9738 - val_loss: 0.1659 - val_accuracy: 0.9429\n",
      "Epoch 7/100\n",
      " - 2s - loss: 0.0707 - accuracy: 0.9845 - val_loss: 0.1786 - val_accuracy: 0.9476\n",
      "Epoch 8/100\n",
      " - 2s - loss: 0.0427 - accuracy: 0.9905 - val_loss: 0.2141 - val_accuracy: 0.9333\n",
      "Epoch 9/100\n",
      " - 2s - loss: 0.0291 - accuracy: 0.9893 - val_loss: 0.1499 - val_accuracy: 0.9619\n",
      "Epoch 10/100\n",
      " - 2s - loss: 0.0388 - accuracy: 0.9905 - val_loss: 0.1414 - val_accuracy: 0.9476\n",
      "Epoch 11/100\n",
      " - 2s - loss: 0.0284 - accuracy: 0.9952 - val_loss: 0.1440 - val_accuracy: 0.9571\n",
      "Epoch 12/100\n",
      " - 2s - loss: 0.0125 - accuracy: 0.9988 - val_loss: 0.1265 - val_accuracy: 0.9524\n",
      "Epoch 13/100\n",
      " - 2s - loss: 0.0069 - accuracy: 0.9988 - val_loss: 0.1341 - val_accuracy: 0.9571\n",
      "Epoch 14/100\n",
      " - 2s - loss: 0.0065 - accuracy: 0.9988 - val_loss: 0.1287 - val_accuracy: 0.9571\n",
      "Epoch 15/100\n",
      " - 2s - loss: 0.0048 - accuracy: 1.0000 - val_loss: 0.1290 - val_accuracy: 0.9667\n",
      "Epoch 16/100\n",
      " - 2s - loss: 0.0034 - accuracy: 1.0000 - val_loss: 0.1338 - val_accuracy: 0.9619\n",
      "Epoch 17/100\n",
      " - 2s - loss: 0.0020 - accuracy: 1.0000 - val_loss: 0.1297 - val_accuracy: 0.9714\n",
      "Epoch 18/100\n",
      " - 2s - loss: 0.0022 - accuracy: 1.0000 - val_loss: 0.1295 - val_accuracy: 0.9667\n",
      "Epoch 19/100\n",
      " - 2s - loss: 0.0015 - accuracy: 1.0000 - val_loss: 0.1376 - val_accuracy: 0.9667\n",
      "Epoch 20/100\n",
      " - 2s - loss: 0.0014 - accuracy: 1.0000 - val_loss: 0.1347 - val_accuracy: 0.9667\n",
      "Epoch 21/100\n",
      " - 2s - loss: 0.0015 - accuracy: 1.0000 - val_loss: 0.1269 - val_accuracy: 0.9714\n",
      "Epoch 22/100\n",
      " - 2s - loss: 0.0026 - accuracy: 1.0000 - val_loss: 0.1432 - val_accuracy: 0.9714\n",
      "Epoch 23/100\n",
      " - 2s - loss: 0.0010 - accuracy: 1.0000 - val_loss: 0.1645 - val_accuracy: 0.9571\n",
      "Epoch 24/100\n",
      " - 2s - loss: 0.0010 - accuracy: 1.0000 - val_loss: 0.1521 - val_accuracy: 0.9667\n",
      "Epoch 25/100\n",
      " - 2s - loss: 0.0013 - accuracy: 1.0000 - val_loss: 0.1603 - val_accuracy: 0.9619\n",
      "Epoch 26/100\n",
      " - 2s - loss: 0.0015 - accuracy: 1.0000 - val_loss: 0.1561 - val_accuracy: 0.9619\n",
      "Epoch 27/100\n",
      " - 2s - loss: 0.0010 - accuracy: 1.0000 - val_loss: 0.1662 - val_accuracy: 0.9571\n",
      "Epoch 28/100\n",
      " - 2s - loss: 7.9822e-04 - accuracy: 1.0000 - val_loss: 0.1635 - val_accuracy: 0.9619\n",
      "Epoch 29/100\n",
      " - 2s - loss: 7.9145e-04 - accuracy: 1.0000 - val_loss: 0.1621 - val_accuracy: 0.9619\n",
      "Epoch 30/100\n",
      " - 2s - loss: 5.1854e-04 - accuracy: 1.0000 - val_loss: 0.1543 - val_accuracy: 0.9619\n",
      "Epoch 31/100\n",
      " - 2s - loss: 8.2063e-04 - accuracy: 1.0000 - val_loss: 0.1562 - val_accuracy: 0.9667\n",
      "Epoch 32/100\n",
      " - 2s - loss: 7.9263e-04 - accuracy: 1.0000 - val_loss: 0.1594 - val_accuracy: 0.9667\n",
      "Epoch 33/100\n",
      " - 2s - loss: 5.9747e-04 - accuracy: 1.0000 - val_loss: 0.1568 - val_accuracy: 0.9667\n",
      "Epoch 34/100\n",
      " - 2s - loss: 5.7981e-04 - accuracy: 1.0000 - val_loss: 0.1582 - val_accuracy: 0.9667\n",
      "Epoch 35/100\n",
      " - 2s - loss: 5.2916e-04 - accuracy: 1.0000 - val_loss: 0.1577 - val_accuracy: 0.9667\n",
      "Epoch 36/100\n",
      " - 2s - loss: 3.1799e-04 - accuracy: 1.0000 - val_loss: 0.1638 - val_accuracy: 0.9667\n",
      "Epoch 37/100\n",
      " - 2s - loss: 5.1118e-04 - accuracy: 1.0000 - val_loss: 0.1528 - val_accuracy: 0.9714\n",
      "Epoch 38/100\n",
      " - 2s - loss: 4.0466e-04 - accuracy: 1.0000 - val_loss: 0.1500 - val_accuracy: 0.9714\n",
      "Epoch 39/100\n",
      " - 2s - loss: 3.7278e-04 - accuracy: 1.0000 - val_loss: 0.1484 - val_accuracy: 0.9714\n",
      "Epoch 40/100\n",
      " - 2s - loss: 4.3082e-04 - accuracy: 1.0000 - val_loss: 0.1511 - val_accuracy: 0.9714\n",
      "Epoch 41/100\n",
      " - 2s - loss: 3.3456e-04 - accuracy: 1.0000 - val_loss: 0.1580 - val_accuracy: 0.9667\n",
      "Epoch 42/100\n",
      " - 2s - loss: 5.8015e-04 - accuracy: 1.0000 - val_loss: 0.1598 - val_accuracy: 0.9667\n",
      "Epoch 43/100\n",
      " - 2s - loss: 3.4907e-04 - accuracy: 1.0000 - val_loss: 0.1800 - val_accuracy: 0.9667\n",
      "Epoch 44/100\n",
      " - 2s - loss: 6.2376e-04 - accuracy: 1.0000 - val_loss: 0.1696 - val_accuracy: 0.9667\n",
      "Epoch 45/100\n",
      " - 2s - loss: 3.8563e-04 - accuracy: 1.0000 - val_loss: 0.1580 - val_accuracy: 0.9619\n",
      "Epoch 46/100\n",
      " - 2s - loss: 2.7126e-04 - accuracy: 1.0000 - val_loss: 0.1580 - val_accuracy: 0.9714\n",
      "Epoch 47/100\n",
      " - 2s - loss: 2.0621e-04 - accuracy: 1.0000 - val_loss: 0.1576 - val_accuracy: 0.9714\n",
      "Epoch 48/100\n",
      " - 2s - loss: 4.3907e-04 - accuracy: 1.0000 - val_loss: 0.1611 - val_accuracy: 0.9714\n",
      "Epoch 49/100\n",
      " - 2s - loss: 4.5104e-04 - accuracy: 1.0000 - val_loss: 0.1632 - val_accuracy: 0.9714\n",
      "Epoch 50/100\n",
      " - 2s - loss: 1.7516e-04 - accuracy: 1.0000 - val_loss: 0.1701 - val_accuracy: 0.9667\n",
      "Epoch 51/100\n",
      " - 2s - loss: 6.4531e-04 - accuracy: 1.0000 - val_loss: 0.1722 - val_accuracy: 0.9571\n",
      "Epoch 52/100\n",
      " - 2s - loss: 4.2066e-04 - accuracy: 1.0000 - val_loss: 0.1794 - val_accuracy: 0.9571\n",
      "Epoch 53/100\n",
      " - 2s - loss: 2.3356e-04 - accuracy: 1.0000 - val_loss: 0.1844 - val_accuracy: 0.9571\n",
      "Epoch 54/100\n",
      " - 2s - loss: 6.6624e-04 - accuracy: 1.0000 - val_loss: 0.1739 - val_accuracy: 0.9619\n",
      "Epoch 55/100\n",
      " - 2s - loss: 2.7795e-04 - accuracy: 1.0000 - val_loss: 0.1689 - val_accuracy: 0.9619\n",
      "Epoch 56/100\n",
      " - 2s - loss: 2.1187e-04 - accuracy: 1.0000 - val_loss: 0.1766 - val_accuracy: 0.9667\n",
      "Epoch 57/100\n",
      " - 2s - loss: 2.1851e-04 - accuracy: 1.0000 - val_loss: 0.1747 - val_accuracy: 0.9667\n",
      "Epoch 58/100\n",
      " - 2s - loss: 2.6870e-04 - accuracy: 1.0000 - val_loss: 0.1776 - val_accuracy: 0.9619\n",
      "Epoch 59/100\n",
      " - 2s - loss: 3.0836e-04 - accuracy: 1.0000 - val_loss: 0.1881 - val_accuracy: 0.9667\n",
      "Epoch 60/100\n",
      " - 2s - loss: 1.8634e-04 - accuracy: 1.0000 - val_loss: 0.1847 - val_accuracy: 0.9571\n",
      "Epoch 61/100\n",
      " - 2s - loss: 1.7712e-04 - accuracy: 1.0000 - val_loss: 0.1825 - val_accuracy: 0.9571\n",
      "Epoch 62/100\n",
      " - 2s - loss: 1.6094e-04 - accuracy: 1.0000 - val_loss: 0.1863 - val_accuracy: 0.9571\n",
      "Epoch 63/100\n",
      " - 2s - loss: 1.6689e-04 - accuracy: 1.0000 - val_loss: 0.1868 - val_accuracy: 0.9619\n",
      "Epoch 64/100\n",
      " - 2s - loss: 3.6674e-04 - accuracy: 1.0000 - val_loss: 0.1893 - val_accuracy: 0.9619\n",
      "Epoch 65/100\n",
      " - 2s - loss: 1.2535e-04 - accuracy: 1.0000 - val_loss: 0.1818 - val_accuracy: 0.9524\n",
      "Epoch 66/100\n",
      " - 2s - loss: 1.2023e-04 - accuracy: 1.0000 - val_loss: 0.1770 - val_accuracy: 0.9524\n",
      "Epoch 67/100\n",
      " - 2s - loss: 2.0693e-04 - accuracy: 1.0000 - val_loss: 0.1840 - val_accuracy: 0.9524\n",
      "Epoch 68/100\n",
      " - 2s - loss: 1.6947e-04 - accuracy: 1.0000 - val_loss: 0.2048 - val_accuracy: 0.9571\n",
      "Epoch 69/100\n",
      " - 2s - loss: 1.7406e-04 - accuracy: 1.0000 - val_loss: 0.2068 - val_accuracy: 0.9571\n",
      "Epoch 70/100\n",
      " - 2s - loss: 1.7925e-04 - accuracy: 1.0000 - val_loss: 0.1985 - val_accuracy: 0.9571\n",
      "Epoch 71/100\n",
      " - 2s - loss: 2.5315e-04 - accuracy: 1.0000 - val_loss: 0.1983 - val_accuracy: 0.9571\n",
      "Epoch 72/100\n",
      " - 2s - loss: 2.0257e-04 - accuracy: 1.0000 - val_loss: 0.1876 - val_accuracy: 0.9524\n",
      "Epoch 73/100\n",
      " - 2s - loss: 1.3187e-04 - accuracy: 1.0000 - val_loss: 0.1780 - val_accuracy: 0.9571\n",
      "Epoch 74/100\n",
      " - 2s - loss: 1.4643e-04 - accuracy: 1.0000 - val_loss: 0.1766 - val_accuracy: 0.9619\n",
      "Epoch 75/100\n",
      " - 2s - loss: 2.6337e-04 - accuracy: 1.0000 - val_loss: 0.1783 - val_accuracy: 0.9619\n",
      "Epoch 76/100\n",
      " - 2s - loss: 7.8784e-05 - accuracy: 1.0000 - val_loss: 0.1813 - val_accuracy: 0.9571\n",
      "Epoch 77/100\n",
      " - 2s - loss: 1.4503e-04 - accuracy: 1.0000 - val_loss: 0.1866 - val_accuracy: 0.9619\n",
      "Epoch 78/100\n",
      " - 2s - loss: 1.6858e-04 - accuracy: 1.0000 - val_loss: 0.1890 - val_accuracy: 0.9571\n",
      "Epoch 79/100\n",
      " - 2s - loss: 1.0041e-04 - accuracy: 1.0000 - val_loss: 0.1904 - val_accuracy: 0.9571\n",
      "Epoch 80/100\n",
      " - 2s - loss: 2.2392e-04 - accuracy: 1.0000 - val_loss: 0.1852 - val_accuracy: 0.9524\n",
      "Epoch 81/100\n",
      " - 2s - loss: 1.8634e-04 - accuracy: 1.0000 - val_loss: 0.1804 - val_accuracy: 0.9524\n",
      "Epoch 82/100\n",
      " - 2s - loss: 1.8393e-04 - accuracy: 1.0000 - val_loss: 0.1832 - val_accuracy: 0.9524\n",
      "Epoch 83/100\n",
      " - 2s - loss: 1.3607e-04 - accuracy: 1.0000 - val_loss: 0.1800 - val_accuracy: 0.9571\n",
      "Epoch 84/100\n",
      " - 2s - loss: 1.6758e-04 - accuracy: 1.0000 - val_loss: 0.1748 - val_accuracy: 0.9571\n"
     ]
    },
    {
     "name": "stdout",
     "output_type": "stream",
     "text": [
      "Epoch 85/100\n",
      " - 2s - loss: 6.4723e-05 - accuracy: 1.0000 - val_loss: 0.1765 - val_accuracy: 0.9571\n",
      "Epoch 86/100\n",
      " - 2s - loss: 6.0571e-05 - accuracy: 1.0000 - val_loss: 0.1811 - val_accuracy: 0.9619\n",
      "Epoch 87/100\n",
      " - 2s - loss: 9.2166e-05 - accuracy: 1.0000 - val_loss: 0.1810 - val_accuracy: 0.9571\n",
      "Epoch 88/100\n",
      " - 2s - loss: 2.0802e-04 - accuracy: 1.0000 - val_loss: 0.1900 - val_accuracy: 0.9571\n",
      "Epoch 89/100\n",
      " - 2s - loss: 8.1650e-05 - accuracy: 1.0000 - val_loss: 0.1917 - val_accuracy: 0.9619\n",
      "Epoch 90/100\n",
      " - 2s - loss: 1.2119e-04 - accuracy: 1.0000 - val_loss: 0.1956 - val_accuracy: 0.9619\n",
      "Epoch 91/100\n",
      " - 2s - loss: 4.6651e-05 - accuracy: 1.0000 - val_loss: 0.1868 - val_accuracy: 0.9571\n",
      "Epoch 92/100\n",
      " - 2s - loss: 8.0247e-05 - accuracy: 1.0000 - val_loss: 0.1814 - val_accuracy: 0.9571\n",
      "Epoch 93/100\n",
      " - 2s - loss: 1.0305e-04 - accuracy: 1.0000 - val_loss: 0.1927 - val_accuracy: 0.9571\n",
      "Epoch 94/100\n",
      " - 2s - loss: 1.0195e-04 - accuracy: 1.0000 - val_loss: 0.1950 - val_accuracy: 0.9571\n",
      "Epoch 95/100\n",
      " - 2s - loss: 1.9908e-04 - accuracy: 1.0000 - val_loss: 0.2247 - val_accuracy: 0.9524\n",
      "Epoch 96/100\n",
      " - 2s - loss: 1.2404e-04 - accuracy: 1.0000 - val_loss: 0.2006 - val_accuracy: 0.9571\n",
      "Epoch 97/100\n",
      " - 2s - loss: 1.5415e-04 - accuracy: 1.0000 - val_loss: 0.1967 - val_accuracy: 0.9667\n",
      "Epoch 98/100\n",
      " - 2s - loss: 6.7212e-05 - accuracy: 1.0000 - val_loss: 0.2025 - val_accuracy: 0.9524\n",
      "Epoch 99/100\n",
      " - 2s - loss: 1.6410e-04 - accuracy: 1.0000 - val_loss: 0.2026 - val_accuracy: 0.9667\n",
      "Epoch 100/100\n",
      " - 2s - loss: 8.2437e-05 - accuracy: 1.0000 - val_loss: 0.2068 - val_accuracy: 0.9524\n"
     ]
    }
   ],
   "source": [
    "history = model6.fit(X_train_6,\n",
    "                    y_train,\n",
    "                    batch_size=32,\n",
    "                    validation_data=(X_test_6, y_test),\n",
    "                    epochs=100,\n",
    "                    verbose=2)"
   ]
  },
  {
   "cell_type": "code",
   "execution_count": 86,
   "metadata": {},
   "outputs": [
    {
     "data": {
      "text/plain": [
       "<matplotlib.legend.Legend at 0x28cc9675240>"
      ]
     },
     "execution_count": 86,
     "metadata": {},
     "output_type": "execute_result"
    },
    {
     "data": {
      "image/png": "[encoded data removed]",
      "text/plain": [
       "<Figure size 432x288 with 1 Axes>"
      ]
     },
     "metadata": {
      "needs_background": "light"
     },
     "output_type": "display_data"
    }
   ],
   "source": [
    "plt.plot(history.history['loss'], label = ' Training Loss')\n",
    "plt.plot(history.history['val_loss'], label = ' Test Loss')\n",
    "plt.legend()"
   ]
  },
  {
   "cell_type": "code",
   "execution_count": 87,
   "metadata": {},
   "outputs": [
    {
     "data": {
      "text/plain": [
       "<matplotlib.legend.Legend at 0x28cd34b1be0>"
      ]
     },
     "execution_count": 87,
     "metadata": {},
     "output_type": "execute_result"
    },
    {
     "data": {
      "image/png": "[encoded data removed]",
      "text/plain": [
       "<Figure size 432x288 with 1 Axes>"
      ]
     },
     "metadata": {
      "needs_background": "light"
     },
     "output_type": "display_data"
    }
   ],
   "source": [
    "plt.plot(history.history['accuracy'], label = ' Training Accuracy')\n",
    "plt.plot(history.history['val_accuracy'], label = ' Test Accuracy')\n",
    "plt.legend()"
   ]
  },
  {
   "cell_type": "code",
   "execution_count": 88,
   "metadata": {},
   "outputs": [
    {
     "name": "stdout",
     "output_type": "stream",
     "text": [
      "210/210 [==============================] - 0s 581us/step\n"
     ]
    }
   ],
   "source": [
    "model6_eval = model6.evaluate(X_test_6,y_test, verbose=1)\n",
    "model6_metrics = model6.metrics_names"
   ]
  },
  {
   "cell_type": "markdown",
   "metadata": {},
   "source": [
    "Model 7 \n",
    "RNN with GRU"
   ]
  },
  {
   "cell_type": "code",
   "execution_count": 89,
   "metadata": {},
   "outputs": [],
   "source": [
    "X_train_7, X_test_7, y_train, y_test = train_test_split(X, y, test_size = 0.2, random_state = 42, stratify = y)"
   ]
  },
  {
   "cell_type": "code",
   "execution_count": 91,
   "metadata": {},
   "outputs": [],
   "source": [
    "model7 = Sequential()\n",
    "\n",
    "model7.add(Masking(mask_value=0, input_shape=(42, 40)))\n",
    "model7.add(GRU(64, input_shape = (42,40), return_sequences=True))\n",
    "model7.add(GRU(64, return_sequences=False ))\n",
    "model7.add(Dense(64, activation = 'relu'))\n",
    "model7.add(Dropout(0.3))\n",
    "\n",
    "model7.add(Dense(5, activation = 'softmax'))"
   ]
  },
  {
   "cell_type": "code",
   "execution_count": 92,
   "metadata": {},
   "outputs": [],
   "source": [
    "model7.compile(optimizer = 'Adam', loss = 'categorical_crossentropy', metrics = ['accuracy'])"
   ]
  },
  {
   "cell_type": "code",
   "execution_count": 93,
   "metadata": {
    "scrolled": true
   },
   "outputs": [
    {
     "name": "stdout",
     "output_type": "stream",
     "text": [
      "Model: \"sequential_8\"\n",
      "_________________________________________________________________\n",
      "Layer (type)                 Output Shape              Param #   \n",
      "=================================================================\n",
      "masking_3 (Masking)          (None, 42, 40)            0         \n",
      "_________________________________________________________________\n",
      "gru_3 (GRU)                  (None, 42, 64)            20160     \n",
      "_________________________________________________________________\n",
      "gru_4 (GRU)                  (None, 64)                24768     \n",
      "_________________________________________________________________\n",
      "dense_19 (Dense)             (None, 64)                4160      \n",
      "_________________________________________________________________\n",
      "dropout_4 (Dropout)          (None, 64)                0         \n",
      "_________________________________________________________________\n",
      "dense_20 (Dense)             (None, 5)                 325       \n",
      "=================================================================\n",
      "Total params: 49,413\n",
      "Trainable params: 49,413\n",
      "Non-trainable params: 0\n",
      "_________________________________________________________________\n"
     ]
    }
   ],
   "source": [
    "model7.summary()"
   ]
  },
  {
   "cell_type": "code",
   "execution_count": 94,
   "metadata": {},
   "outputs": [
    {
     "name": "stdout",
     "output_type": "stream",
     "text": [
      "Train on 839 samples, validate on 210 samples\n",
      "Epoch 1/100\n",
      " - 3s - loss: 1.3685 - accuracy: 0.4207 - val_loss: 1.0523 - val_accuracy: 0.6667\n",
      "Epoch 2/100\n",
      " - 2s - loss: 0.9255 - accuracy: 0.6508 - val_loss: 0.7365 - val_accuracy: 0.7619\n",
      "Epoch 3/100\n",
      " - 2s - loss: 0.6225 - accuracy: 0.7843 - val_loss: 0.4638 - val_accuracy: 0.8762\n",
      "Epoch 4/100\n",
      " - 2s - loss: 0.3638 - accuracy: 0.8856 - val_loss: 0.3176 - val_accuracy: 0.9143\n",
      "Epoch 5/100\n",
      " - 2s - loss: 0.2355 - accuracy: 0.9273 - val_loss: 0.3033 - val_accuracy: 0.9048\n",
      "Epoch 6/100\n",
      " - 2s - loss: 0.1704 - accuracy: 0.9499 - val_loss: 0.2849 - val_accuracy: 0.9143\n",
      "Epoch 7/100\n",
      " - 2s - loss: 0.1013 - accuracy: 0.9714 - val_loss: 0.2528 - val_accuracy: 0.9143\n",
      "Epoch 8/100\n",
      " - 2s - loss: 0.0868 - accuracy: 0.9774 - val_loss: 0.3498 - val_accuracy: 0.9000\n",
      "Epoch 9/100\n",
      " - 2s - loss: 0.0686 - accuracy: 0.9809 - val_loss: 0.2859 - val_accuracy: 0.9143\n",
      "Epoch 10/100\n",
      " - 2s - loss: 0.0812 - accuracy: 0.9762 - val_loss: 0.2173 - val_accuracy: 0.9333\n",
      "Epoch 11/100\n",
      " - 2s - loss: 0.0762 - accuracy: 0.9750 - val_loss: 0.1981 - val_accuracy: 0.9429\n",
      "Epoch 12/100\n",
      " - 2s - loss: 0.0374 - accuracy: 0.9917 - val_loss: 0.2077 - val_accuracy: 0.9238\n",
      "Epoch 13/100\n",
      " - 2s - loss: 0.0366 - accuracy: 0.9917 - val_loss: 0.2149 - val_accuracy: 0.9286\n",
      "Epoch 14/100\n",
      " - 2s - loss: 0.0248 - accuracy: 0.9976 - val_loss: 0.2447 - val_accuracy: 0.9143\n",
      "Epoch 15/100\n",
      " - 2s - loss: 0.0186 - accuracy: 0.9964 - val_loss: 0.2443 - val_accuracy: 0.9476\n",
      "Epoch 16/100\n",
      " - 2s - loss: 0.0159 - accuracy: 0.9988 - val_loss: 0.2045 - val_accuracy: 0.9476\n",
      "Epoch 17/100\n",
      " - 2s - loss: 0.0085 - accuracy: 0.9988 - val_loss: 0.2342 - val_accuracy: 0.9429\n",
      "Epoch 18/100\n",
      " - 2s - loss: 0.0068 - accuracy: 0.9988 - val_loss: 0.2114 - val_accuracy: 0.9429\n",
      "Epoch 19/100\n",
      " - 2s - loss: 0.0040 - accuracy: 1.0000 - val_loss: 0.1980 - val_accuracy: 0.9381\n",
      "Epoch 20/100\n",
      " - 2s - loss: 0.0036 - accuracy: 1.0000 - val_loss: 0.1983 - val_accuracy: 0.9381\n",
      "Epoch 21/100\n",
      " - 2s - loss: 0.0032 - accuracy: 1.0000 - val_loss: 0.2246 - val_accuracy: 0.9524\n",
      "Epoch 22/100\n",
      " - 2s - loss: 0.0036 - accuracy: 1.0000 - val_loss: 0.2287 - val_accuracy: 0.9476\n",
      "Epoch 23/100\n",
      " - 2s - loss: 0.0024 - accuracy: 1.0000 - val_loss: 0.2457 - val_accuracy: 0.9429\n",
      "Epoch 24/100\n",
      " - 2s - loss: 0.0019 - accuracy: 1.0000 - val_loss: 0.2355 - val_accuracy: 0.9524\n",
      "Epoch 25/100\n",
      " - 2s - loss: 0.0025 - accuracy: 1.0000 - val_loss: 0.2867 - val_accuracy: 0.9476\n",
      "Epoch 26/100\n",
      " - 2s - loss: 0.0018 - accuracy: 1.0000 - val_loss: 0.2873 - val_accuracy: 0.9429\n",
      "Epoch 27/100\n",
      " - 2s - loss: 0.0012 - accuracy: 1.0000 - val_loss: 0.2551 - val_accuracy: 0.9476\n",
      "Epoch 28/100\n",
      " - 2s - loss: 0.0014 - accuracy: 1.0000 - val_loss: 0.2522 - val_accuracy: 0.9524\n",
      "Epoch 29/100\n",
      " - 2s - loss: 0.0014 - accuracy: 1.0000 - val_loss: 0.2498 - val_accuracy: 0.9524\n",
      "Epoch 30/100\n",
      " - 2s - loss: 0.0012 - accuracy: 1.0000 - val_loss: 0.2578 - val_accuracy: 0.9476\n",
      "Epoch 31/100\n",
      " - 2s - loss: 0.0010 - accuracy: 1.0000 - val_loss: 0.2648 - val_accuracy: 0.9476\n",
      "Epoch 32/100\n",
      " - 2s - loss: 7.4324e-04 - accuracy: 1.0000 - val_loss: 0.2643 - val_accuracy: 0.9524\n",
      "Epoch 33/100\n",
      " - 2s - loss: 9.1803e-04 - accuracy: 1.0000 - val_loss: 0.2678 - val_accuracy: 0.9524\n",
      "Epoch 34/100\n",
      " - 2s - loss: 0.0016 - accuracy: 1.0000 - val_loss: 0.2490 - val_accuracy: 0.9524\n",
      "Epoch 35/100\n",
      " - 2s - loss: 7.3395e-04 - accuracy: 1.0000 - val_loss: 0.2586 - val_accuracy: 0.9524\n",
      "Epoch 36/100\n",
      " - 2s - loss: 6.3728e-04 - accuracy: 1.0000 - val_loss: 0.2670 - val_accuracy: 0.9524\n",
      "Epoch 37/100\n",
      " - 2s - loss: 6.3705e-04 - accuracy: 1.0000 - val_loss: 0.2687 - val_accuracy: 0.9524\n",
      "Epoch 38/100\n",
      " - 2s - loss: 0.0013 - accuracy: 1.0000 - val_loss: 0.2638 - val_accuracy: 0.9524\n",
      "Epoch 39/100\n",
      " - 2s - loss: 4.7772e-04 - accuracy: 1.0000 - val_loss: 0.2663 - val_accuracy: 0.9524\n",
      "Epoch 40/100\n",
      " - 2s - loss: 0.0010 - accuracy: 1.0000 - val_loss: 0.2690 - val_accuracy: 0.9571\n",
      "Epoch 41/100\n",
      " - 2s - loss: 6.2453e-04 - accuracy: 1.0000 - val_loss: 0.2699 - val_accuracy: 0.9571\n",
      "Epoch 42/100\n",
      " - 2s - loss: 6.5322e-04 - accuracy: 1.0000 - val_loss: 0.2733 - val_accuracy: 0.9571\n",
      "Epoch 43/100\n",
      " - 2s - loss: 3.4177e-04 - accuracy: 1.0000 - val_loss: 0.2810 - val_accuracy: 0.9571\n",
      "Epoch 44/100\n",
      " - 2s - loss: 5.0307e-04 - accuracy: 1.0000 - val_loss: 0.2843 - val_accuracy: 0.9571\n",
      "Epoch 45/100\n",
      " - 2s - loss: 4.2858e-04 - accuracy: 1.0000 - val_loss: 0.2836 - val_accuracy: 0.9571\n",
      "Epoch 46/100\n",
      " - 2s - loss: 8.2969e-04 - accuracy: 1.0000 - val_loss: 0.2671 - val_accuracy: 0.9619\n",
      "Epoch 47/100\n",
      " - 2s - loss: 4.3571e-04 - accuracy: 1.0000 - val_loss: 0.2698 - val_accuracy: 0.9619\n",
      "Epoch 48/100\n",
      " - 2s - loss: 4.8355e-04 - accuracy: 1.0000 - val_loss: 0.2754 - val_accuracy: 0.9619\n",
      "Epoch 49/100\n",
      " - 2s - loss: 3.2922e-04 - accuracy: 1.0000 - val_loss: 0.2748 - val_accuracy: 0.9619\n",
      "Epoch 50/100\n",
      " - 2s - loss: 2.9154e-04 - accuracy: 1.0000 - val_loss: 0.2640 - val_accuracy: 0.9619\n",
      "Epoch 51/100\n",
      " - 2s - loss: 2.5920e-04 - accuracy: 1.0000 - val_loss: 0.2759 - val_accuracy: 0.9619\n",
      "Epoch 52/100\n",
      " - 2s - loss: 2.6486e-04 - accuracy: 1.0000 - val_loss: 0.2778 - val_accuracy: 0.9619\n",
      "Epoch 53/100\n",
      " - 2s - loss: 4.2509e-04 - accuracy: 1.0000 - val_loss: 0.2706 - val_accuracy: 0.9619\n",
      "Epoch 54/100\n",
      " - 2s - loss: 3.2285e-04 - accuracy: 1.0000 - val_loss: 0.2737 - val_accuracy: 0.9571\n",
      "Epoch 55/100\n",
      " - 2s - loss: 5.1963e-04 - accuracy: 1.0000 - val_loss: 0.2823 - val_accuracy: 0.9571\n",
      "Epoch 56/100\n",
      " - 2s - loss: 3.4188e-04 - accuracy: 1.0000 - val_loss: 0.2949 - val_accuracy: 0.9571\n",
      "Epoch 57/100\n",
      " - 2s - loss: 4.8131e-04 - accuracy: 1.0000 - val_loss: 0.3004 - val_accuracy: 0.9571\n",
      "Epoch 58/100\n",
      " - 2s - loss: 6.6363e-04 - accuracy: 1.0000 - val_loss: 0.3279 - val_accuracy: 0.9524\n",
      "Epoch 59/100\n",
      " - 2s - loss: 2.4734e-04 - accuracy: 1.0000 - val_loss: 0.3287 - val_accuracy: 0.9524\n",
      "Epoch 60/100\n",
      " - 2s - loss: 3.7954e-04 - accuracy: 1.0000 - val_loss: 0.3280 - val_accuracy: 0.9571\n",
      "Epoch 61/100\n",
      " - 2s - loss: 3.4587e-04 - accuracy: 1.0000 - val_loss: 0.3311 - val_accuracy: 0.9571\n",
      "Epoch 62/100\n",
      " - 2s - loss: 2.4232e-04 - accuracy: 1.0000 - val_loss: 0.3384 - val_accuracy: 0.9571\n",
      "Epoch 63/100\n",
      " - 2s - loss: 1.6464e-04 - accuracy: 1.0000 - val_loss: 0.3378 - val_accuracy: 0.9571\n",
      "Epoch 64/100\n",
      " - 2s - loss: 1.6049e-04 - accuracy: 1.0000 - val_loss: 0.3350 - val_accuracy: 0.9571\n",
      "Epoch 65/100\n",
      " - 2s - loss: 4.9688e-04 - accuracy: 1.0000 - val_loss: 0.3408 - val_accuracy: 0.9571\n",
      "Epoch 66/100\n",
      " - 2s - loss: 2.1501e-04 - accuracy: 1.0000 - val_loss: 0.3461 - val_accuracy: 0.9571\n",
      "Epoch 67/100\n",
      " - 2s - loss: 4.9747e-04 - accuracy: 1.0000 - val_loss: 0.3504 - val_accuracy: 0.9571\n",
      "Epoch 68/100\n",
      " - 2s - loss: 2.8680e-04 - accuracy: 1.0000 - val_loss: 0.3468 - val_accuracy: 0.9571\n",
      "Epoch 69/100\n",
      " - 2s - loss: 2.4475e-04 - accuracy: 1.0000 - val_loss: 0.3495 - val_accuracy: 0.9571\n",
      "Epoch 70/100\n",
      " - 2s - loss: 1.6579e-04 - accuracy: 1.0000 - val_loss: 0.3534 - val_accuracy: 0.9571\n",
      "Epoch 71/100\n",
      " - 2s - loss: 1.6626e-04 - accuracy: 1.0000 - val_loss: 0.3472 - val_accuracy: 0.9571\n",
      "Epoch 72/100\n",
      " - 2s - loss: 6.7674e-04 - accuracy: 1.0000 - val_loss: 0.3402 - val_accuracy: 0.9524\n",
      "Epoch 73/100\n",
      " - 2s - loss: 1.5895e-04 - accuracy: 1.0000 - val_loss: 0.3328 - val_accuracy: 0.9571\n",
      "Epoch 74/100\n",
      " - 2s - loss: 0.0010 - accuracy: 0.9988 - val_loss: 0.3700 - val_accuracy: 0.9524\n",
      "Epoch 75/100\n",
      " - 2s - loss: 0.3048 - accuracy: 0.9154 - val_loss: 0.8919 - val_accuracy: 0.7857\n",
      "Epoch 76/100\n",
      " - 2s - loss: 0.2864 - accuracy: 0.9166 - val_loss: 0.1817 - val_accuracy: 0.9524\n",
      "Epoch 77/100\n",
      " - 2s - loss: 0.0883 - accuracy: 0.9738 - val_loss: 0.1559 - val_accuracy: 0.9667\n",
      "Epoch 78/100\n",
      " - 2s - loss: 0.0619 - accuracy: 0.9833 - val_loss: 0.1550 - val_accuracy: 0.9619\n",
      "Epoch 79/100\n",
      " - 2s - loss: 0.0215 - accuracy: 0.9964 - val_loss: 0.1655 - val_accuracy: 0.9714\n",
      "Epoch 80/100\n",
      " - 2s - loss: 0.0126 - accuracy: 0.9976 - val_loss: 0.1897 - val_accuracy: 0.9619\n",
      "Epoch 81/100\n",
      " - 2s - loss: 0.0071 - accuracy: 1.0000 - val_loss: 0.1492 - val_accuracy: 0.9667\n",
      "Epoch 82/100\n",
      " - 2s - loss: 0.0047 - accuracy: 1.0000 - val_loss: 0.1611 - val_accuracy: 0.9714\n",
      "Epoch 83/100\n",
      " - 2s - loss: 0.0023 - accuracy: 1.0000 - val_loss: 0.1681 - val_accuracy: 0.9714\n",
      "Epoch 84/100\n",
      " - 2s - loss: 0.0017 - accuracy: 1.0000 - val_loss: 0.1681 - val_accuracy: 0.9714\n",
      "Epoch 85/100\n",
      " - 2s - loss: 0.0015 - accuracy: 1.0000 - val_loss: 0.1712 - val_accuracy: 0.9714\n"
     ]
    },
    {
     "name": "stdout",
     "output_type": "stream",
     "text": [
      "Epoch 86/100\n",
      " - 2s - loss: 0.0014 - accuracy: 1.0000 - val_loss: 0.1743 - val_accuracy: 0.9714\n",
      "Epoch 87/100\n",
      " - 2s - loss: 0.0015 - accuracy: 1.0000 - val_loss: 0.1756 - val_accuracy: 0.9714\n",
      "Epoch 88/100\n",
      " - 2s - loss: 0.0014 - accuracy: 1.0000 - val_loss: 0.1802 - val_accuracy: 0.9714\n",
      "Epoch 89/100\n",
      " - 2s - loss: 0.0010 - accuracy: 1.0000 - val_loss: 0.1809 - val_accuracy: 0.9714\n",
      "Epoch 90/100\n",
      " - 2s - loss: 7.7954e-04 - accuracy: 1.0000 - val_loss: 0.1810 - val_accuracy: 0.9714\n",
      "Epoch 91/100\n",
      " - 2s - loss: 6.8904e-04 - accuracy: 1.0000 - val_loss: 0.1829 - val_accuracy: 0.9714\n",
      "Epoch 92/100\n",
      " - 2s - loss: 0.0011 - accuracy: 1.0000 - val_loss: 0.1867 - val_accuracy: 0.9714\n",
      "Epoch 93/100\n",
      " - 2s - loss: 8.8544e-04 - accuracy: 1.0000 - val_loss: 0.1912 - val_accuracy: 0.9714\n",
      "Epoch 94/100\n",
      " - 2s - loss: 7.5056e-04 - accuracy: 1.0000 - val_loss: 0.1931 - val_accuracy: 0.9714\n",
      "Epoch 95/100\n",
      " - 2s - loss: 6.4425e-04 - accuracy: 1.0000 - val_loss: 0.1950 - val_accuracy: 0.9714\n",
      "Epoch 96/100\n",
      " - 2s - loss: 6.9809e-04 - accuracy: 1.0000 - val_loss: 0.1977 - val_accuracy: 0.9714\n",
      "Epoch 97/100\n",
      " - 2s - loss: 8.0135e-04 - accuracy: 1.0000 - val_loss: 0.1994 - val_accuracy: 0.9714\n",
      "Epoch 98/100\n",
      " - 2s - loss: 3.9209e-04 - accuracy: 1.0000 - val_loss: 0.1995 - val_accuracy: 0.9714\n",
      "Epoch 99/100\n",
      " - 2s - loss: 9.1777e-04 - accuracy: 1.0000 - val_loss: 0.2017 - val_accuracy: 0.9714\n",
      "Epoch 100/100\n",
      " - 2s - loss: 6.3807e-04 - accuracy: 1.0000 - val_loss: 0.2034 - val_accuracy: 0.9714\n"
     ]
    }
   ],
   "source": [
    "history = model7.fit(X_train_7,\n",
    "                    y_train,\n",
    "                    batch_size=32,\n",
    "                    validation_data=(X_test_7, y_test),\n",
    "                    epochs=100,\n",
    "                    verbose=2)"
   ]
  },
  {
   "cell_type": "code",
   "execution_count": 95,
   "metadata": {},
   "outputs": [
    {
     "data": {
      "text/plain": [
       "<matplotlib.legend.Legend at 0x28cd81b8390>"
      ]
     },
     "execution_count": 95,
     "metadata": {},
     "output_type": "execute_result"
    },
    {
     "data": {
      "image/png": "[encoded data removed]",
      "text/plain": [
       "<Figure size 432x288 with 1 Axes>"
      ]
     },
     "metadata": {
      "needs_background": "light"
     },
     "output_type": "display_data"
    }
   ],
   "source": [
    "plt.plot(history.history['loss'], label = ' Training Loss')\n",
    "plt.plot(history.history['val_loss'], label = ' Test Loss')\n",
    "plt.legend()"
   ]
  },
  {
   "cell_type": "code",
   "execution_count": 96,
   "metadata": {},
   "outputs": [
    {
     "data": {
      "text/plain": [
       "<matplotlib.legend.Legend at 0x28cd8227dd8>"
      ]
     },
     "execution_count": 96,
     "metadata": {},
     "output_type": "execute_result"
    },
    {
     "data": {
      "image/png": "[encoded data removed]",
      "text/plain": [
       "<Figure size 432x288 with 1 Axes>"
      ]
     },
     "metadata": {
      "needs_background": "light"
     },
     "output_type": "display_data"
    }
   ],
   "source": [
    "plt.plot(history.history['accuracy'], label = ' Training Accuracy')\n",
    "plt.plot(history.history['val_accuracy'], label = ' Test Accuracy')\n",
    "plt.legend()"
   ]
  },
  {
   "cell_type": "code",
   "execution_count": 97,
   "metadata": {},
   "outputs": [
    {
     "name": "stdout",
     "output_type": "stream",
     "text": [
      "210/210 [==============================] - 0s 537us/step\n"
     ]
    }
   ],
   "source": [
    "model7_eval = model7.evaluate(X_test_7, y_test, verbose=1)\n",
    "model7_metrics = model7.metrics_names"
   ]
  },
  {
   "cell_type": "markdown",
   "metadata": {},
   "source": [
    "## Evaluation\n"
   ]
  },
  {
   "cell_type": "code",
   "execution_count": 98,
   "metadata": {},
   "outputs": [],
   "source": [
    "from sklearn.metrics import classification_report, confusion_matrix"
   ]
  },
  {
   "cell_type": "code",
   "execution_count": 101,
   "metadata": {},
   "outputs": [
    {
     "name": "stdout",
     "output_type": "stream",
     "text": [
      "Model 1 loss: 1.2243078487260002\n",
      "Model 1 accuracy: 0.6761904954910278\n",
      "\n",
      "Model 2 loss: 0.15360637477466038\n",
      "Model 2 accuracy: 0.961904764175415\n",
      "\n",
      "Model 3 loss: 1.378681714619909\n",
      "Model 3 accuracy: 0.8666666746139526\n",
      "\n",
      "Model 5 loss: 0.288373859723409\n",
      "Model 5 accuracy: 0.9333333373069763\n",
      "\n",
      "Model 6 loss: 0.20681281523409\n",
      "Model 6 accuracy: 0.9523809552192688\n",
      "\n",
      "Model 7 loss: 0.20337131242933018\n",
      "Model 7 accuracy: 0.9714285731315613\n",
      "\n"
     ]
    }
   ],
   "source": [
    "print(f\"Model 1 {model_metrics[0]}: {model_eval[0]}\")\n",
    "print(f\"Model 1 {model_metrics[1]}: {model_eval[1]}\\n\")\n",
    "\n",
    "print(f\"Model 2 {model2_metrics[0]}: {model2_eval[0]}\")\n",
    "print(f\"Model 2 {model2_metrics[1]}: {model2_eval[1]}\\n\")\n",
    "\n",
    "print(f\"Model 3 {model3_metrics[0]}: {model3_eval[0]}\")\n",
    "print(f\"Model 3 {model3_metrics[1]}: {model3_eval[1]}\\n\")\n",
    "\n",
    "print(f\"Model 5 {model5_metrics[0]}: {model5_eval[0]}\")\n",
    "print(f\"Model 5 {model5_metrics[1]}: {model5_eval[1]}\\n\")\n",
    "\n",
    "print(f\"Model 6 {model6_metrics[0]}: {model6_eval[0]}\")\n",
    "print(f\"Model 6 {model6_metrics[1]}: {model6_eval[1]}\\n\")\n",
    "\n",
    "print(f\"Model 7 {model7_metrics[0]}: {model7_eval[0]}\")\n",
    "print(f\"Model 7 {model7_metrics[1]}: {model7_eval[1]}\\n\")\n"
   ]
  },
  {
   "cell_type": "markdown",
   "metadata": {},
   "source": [
    "Get Predictions for Each Model"
   ]
  },
  {
   "cell_type": "code",
   "execution_count": 105,
   "metadata": {},
   "outputs": [
    {
     "data": {
      "text/plain": [
       "['flowers',\n",
       " 'water',\n",
       " 'apples',\n",
       " 'flowers',\n",
       " 'flowers',\n",
       " 'worker',\n",
       " 'apples',\n",
       " 'father',\n",
       " 'worker',\n",
       " 'worker',\n",
       " 'flowers',\n",
       " 'father',\n",
       " 'worker',\n",
       " 'father',\n",
       " 'apples',\n",
       " 'water',\n",
       " 'flowers',\n",
       " 'flowers',\n",
       " 'flowers',\n",
       " 'flowers',\n",
       " 'father',\n",
       " 'worker',\n",
       " 'worker',\n",
       " 'water',\n",
       " 'flowers',\n",
       " 'father',\n",
       " 'father',\n",
       " 'father',\n",
       " 'flowers',\n",
       " 'worker',\n",
       " 'father',\n",
       " 'worker',\n",
       " 'father',\n",
       " 'worker',\n",
       " 'apples',\n",
       " 'father',\n",
       " 'worker',\n",
       " 'worker',\n",
       " 'worker',\n",
       " 'apples',\n",
       " 'flowers',\n",
       " 'flowers',\n",
       " 'water',\n",
       " 'worker',\n",
       " 'flowers',\n",
       " 'father',\n",
       " 'father',\n",
       " 'father',\n",
       " 'worker',\n",
       " 'father',\n",
       " 'water',\n",
       " 'water',\n",
       " 'flowers',\n",
       " 'apples',\n",
       " 'water',\n",
       " 'water',\n",
       " 'water',\n",
       " 'water',\n",
       " 'father',\n",
       " 'flowers',\n",
       " 'worker',\n",
       " 'worker',\n",
       " 'worker',\n",
       " 'worker',\n",
       " 'water',\n",
       " 'flowers',\n",
       " 'worker',\n",
       " 'apples',\n",
       " 'apples',\n",
       " 'worker',\n",
       " 'apples',\n",
       " 'flowers',\n",
       " 'father',\n",
       " 'worker',\n",
       " 'apples',\n",
       " 'apples',\n",
       " 'flowers',\n",
       " 'water',\n",
       " 'water',\n",
       " 'apples',\n",
       " 'father',\n",
       " 'apples',\n",
       " 'apples',\n",
       " 'father',\n",
       " 'water',\n",
       " 'water',\n",
       " 'apples',\n",
       " 'father',\n",
       " 'apples',\n",
       " 'worker',\n",
       " 'father',\n",
       " 'worker',\n",
       " 'water',\n",
       " 'water',\n",
       " 'apples',\n",
       " 'water',\n",
       " 'flowers',\n",
       " 'apples',\n",
       " 'flowers',\n",
       " 'apples',\n",
       " 'father',\n",
       " 'worker',\n",
       " 'water',\n",
       " 'worker',\n",
       " 'water',\n",
       " 'apples',\n",
       " 'flowers',\n",
       " 'water',\n",
       " 'water',\n",
       " 'worker',\n",
       " 'apples',\n",
       " 'flowers',\n",
       " 'father',\n",
       " 'apples',\n",
       " 'flowers',\n",
       " 'flowers',\n",
       " 'father',\n",
       " 'apples',\n",
       " 'apples',\n",
       " 'father',\n",
       " 'flowers',\n",
       " 'father',\n",
       " 'apples',\n",
       " 'apples',\n",
       " 'flowers',\n",
       " 'flowers',\n",
       " 'father',\n",
       " 'apples',\n",
       " 'water',\n",
       " 'apples',\n",
       " 'father',\n",
       " 'father',\n",
       " 'apples',\n",
       " 'worker',\n",
       " 'worker',\n",
       " 'father',\n",
       " 'water',\n",
       " 'flowers',\n",
       " 'water',\n",
       " 'father',\n",
       " 'worker',\n",
       " 'apples',\n",
       " 'water',\n",
       " 'worker',\n",
       " 'apples',\n",
       " 'apples',\n",
       " 'worker',\n",
       " 'worker',\n",
       " 'apples',\n",
       " 'apples',\n",
       " 'apples',\n",
       " 'water',\n",
       " 'flowers',\n",
       " 'father',\n",
       " 'flowers',\n",
       " 'father',\n",
       " 'apples',\n",
       " 'father',\n",
       " 'water',\n",
       " 'water',\n",
       " 'flowers',\n",
       " 'water',\n",
       " 'flowers',\n",
       " 'flowers',\n",
       " 'apples',\n",
       " 'apples',\n",
       " 'water',\n",
       " 'water',\n",
       " 'apples',\n",
       " 'worker',\n",
       " 'worker',\n",
       " 'father',\n",
       " 'worker',\n",
       " 'flowers',\n",
       " 'flowers',\n",
       " 'water',\n",
       " 'apples',\n",
       " 'flowers',\n",
       " 'water',\n",
       " 'apples',\n",
       " 'flowers',\n",
       " 'worker',\n",
       " 'father',\n",
       " 'worker',\n",
       " 'water',\n",
       " 'father',\n",
       " 'water',\n",
       " 'father',\n",
       " 'apples',\n",
       " 'father',\n",
       " 'worker',\n",
       " 'father',\n",
       " 'water',\n",
       " 'worker',\n",
       " 'flowers',\n",
       " 'flowers',\n",
       " 'father',\n",
       " 'water',\n",
       " 'father',\n",
       " 'water',\n",
       " 'worker',\n",
       " 'flowers',\n",
       " 'flowers',\n",
       " 'water',\n",
       " 'water',\n",
       " 'worker',\n",
       " 'father',\n",
       " 'water',\n",
       " 'worker',\n",
       " 'flowers']"
      ]
     },
     "execution_count": 105,
     "metadata": {},
     "output_type": "execute_result"
    }
   ],
   "source": [
    "labels = list(le.classes_)\n",
    "\n",
    "y_test_labels = []\n",
    "for pred in y_test:\n",
    "    for n, i in enumerate(pred):\n",
    "        if i == 1:\n",
    "            y_test_labels.append(labels[n])\n",
    "            \n",
    "y_test_labels"
   ]
  },
  {
   "cell_type": "code",
   "execution_count": 106,
   "metadata": {},
   "outputs": [
    {
     "name": "stdout",
     "output_type": "stream",
     "text": [
      "              precision    recall  f1-score   support\n",
      "\n",
      "      apples       0.73      0.57      0.64        42\n",
      "      father       0.70      0.67      0.68        42\n",
      "     flowers       0.56      0.55      0.55        42\n",
      "       water       0.75      0.79      0.77        42\n",
      "      worker       0.65      0.81      0.72        42\n",
      "\n",
      "    accuracy                           0.68       210\n",
      "   macro avg       0.68      0.68      0.67       210\n",
      "weighted avg       0.68      0.68      0.67       210\n",
      "\n"
     ]
    }
   ],
   "source": [
    "y_pred = model.predict_classes(X_test)\n",
    "y_pred = list(le.inverse_transform(y_pred))\n",
    "\n",
    "print(classification_report(y_test_labels, y_pred))"
   ]
  },
  {
   "cell_type": "code",
   "execution_count": 107,
   "metadata": {},
   "outputs": [
    {
     "name": "stdout",
     "output_type": "stream",
     "text": [
      "              precision    recall  f1-score   support\n",
      "\n",
      "      apples       0.95      0.98      0.96        42\n",
      "      father       0.95      0.98      0.96        42\n",
      "     flowers       0.95      0.93      0.94        42\n",
      "       water       0.98      0.95      0.96        42\n",
      "      worker       0.98      0.98      0.98        42\n",
      "\n",
      "    accuracy                           0.96       210\n",
      "   macro avg       0.96      0.96      0.96       210\n",
      "weighted avg       0.96      0.96      0.96       210\n",
      "\n"
     ]
    }
   ],
   "source": [
    "y_pred2 = model2.predict_classes(X_test_2)\n",
    "y_pred2 = list(le.inverse_transform(y_pred2))\n",
    "\n",
    "print(classification_report(y_test_labels, y_pred2))"
   ]
  },
  {
   "cell_type": "code",
   "execution_count": 108,
   "metadata": {},
   "outputs": [
    {
     "name": "stdout",
     "output_type": "stream",
     "text": [
      "              precision    recall  f1-score   support\n",
      "\n",
      "      apples       0.90      0.88      0.89        42\n",
      "      father       0.82      0.86      0.84        42\n",
      "     flowers       0.90      0.86      0.88        42\n",
      "       water       0.79      0.81      0.80        42\n",
      "      worker       0.93      0.93      0.93        42\n",
      "\n",
      "    accuracy                           0.87       210\n",
      "   macro avg       0.87      0.87      0.87       210\n",
      "weighted avg       0.87      0.87      0.87       210\n",
      "\n"
     ]
    }
   ],
   "source": [
    "y_pred3 = model3.predict_classes(X_test_3)\n",
    "y_pred3 = list(le.inverse_transform(y_pred3))\n",
    "\n",
    "print(classification_report(y_test_labels, y_pred3))"
   ]
  },
  {
   "cell_type": "code",
   "execution_count": 109,
   "metadata": {},
   "outputs": [
    {
     "name": "stdout",
     "output_type": "stream",
     "text": [
      "              precision    recall  f1-score   support\n",
      "\n",
      "      apples       0.98      1.00      0.99        42\n",
      "      father       0.89      0.93      0.91        42\n",
      "     flowers       0.95      0.93      0.94        42\n",
      "       water       0.92      0.86      0.89        42\n",
      "      worker       0.93      0.95      0.94        42\n",
      "\n",
      "    accuracy                           0.93       210\n",
      "   macro avg       0.93      0.93      0.93       210\n",
      "weighted avg       0.93      0.93      0.93       210\n",
      "\n"
     ]
    }
   ],
   "source": [
    "y_pred5 = model5.predict_classes(X_test_5)\n",
    "y_pred5 = list(le.inverse_transform(y_pred5))\n",
    "\n",
    "print(classification_report(y_test_labels, y_pred5))"
   ]
  },
  {
   "cell_type": "code",
   "execution_count": 110,
   "metadata": {},
   "outputs": [
    {
     "name": "stdout",
     "output_type": "stream",
     "text": [
      "              precision    recall  f1-score   support\n",
      "\n",
      "      apples       0.95      0.95      0.95        42\n",
      "      father       0.98      0.98      0.98        42\n",
      "     flowers       0.95      0.93      0.94        42\n",
      "       water       0.93      0.98      0.95        42\n",
      "      worker       0.95      0.93      0.94        42\n",
      "\n",
      "    accuracy                           0.95       210\n",
      "   macro avg       0.95      0.95      0.95       210\n",
      "weighted avg       0.95      0.95      0.95       210\n",
      "\n"
     ]
    }
   ],
   "source": [
    "y_pred6 = model6.predict_classes(X_test_6)\n",
    "y_pred6 = list(le.inverse_transform(y_pred6))\n",
    "\n",
    "print(classification_report(y_test_labels, y_pred6))"
   ]
  },
  {
   "cell_type": "code",
   "execution_count": 111,
   "metadata": {},
   "outputs": [
    {
     "name": "stdout",
     "output_type": "stream",
     "text": [
      "              precision    recall  f1-score   support\n",
      "\n",
      "      apples       0.98      0.98      0.98        42\n",
      "      father       0.98      0.98      0.98        42\n",
      "     flowers       0.98      0.98      0.98        42\n",
      "       water       0.95      0.95      0.95        42\n",
      "      worker       0.98      0.98      0.98        42\n",
      "\n",
      "    accuracy                           0.97       210\n",
      "   macro avg       0.97      0.97      0.97       210\n",
      "weighted avg       0.97      0.97      0.97       210\n",
      "\n"
     ]
    }
   ],
   "source": [
    "y_pred7 = model7.predict_classes(X_test_7)\n",
    "y_pred7 = list(le.inverse_transform(y_pred7))\n",
    "\n",
    "print(classification_report(y_test_labels, y_pred7))"
   ]
  },
  {
   "cell_type": "markdown",
   "metadata": {},
   "source": [
    "The top 2 performing models are Model 2 and Model 7, based on the accuracy and the f1 score."
   ]
  },
  {
   "cell_type": "markdown",
   "metadata": {},
   "source": [
    "**Unseen Data**"
   ]
  },
  {
   "cell_type": "code",
   "execution_count": 112,
   "metadata": {},
   "outputs": [
    {
     "data": {
      "text/html": [
       "<div>\n",
       "<style scoped>\n",
       "    .dataframe tbody tr th:only-of-type {\n",
       "        vertical-align: middle;\n",
       "    }\n",
       "\n",
       "    .dataframe tbody tr th {\n",
       "        vertical-align: top;\n",
       "    }\n",
       "\n",
       "    .dataframe thead th {\n",
       "        text-align: right;\n",
       "    }\n",
       "</style>\n",
       "<table border=\"1\" class=\"dataframe\">\n",
       "  <thead>\n",
       "    <tr style=\"text-align: right;\">\n",
       "      <th></th>\n",
       "      <th>id</th>\n",
       "      <th>filepath</th>\n",
       "      <th>duration</th>\n",
       "      <th>class_label</th>\n",
       "    </tr>\n",
       "  </thead>\n",
       "  <tbody>\n",
       "    <tr>\n",
       "      <th>0</th>\n",
       "      <td>8750049</td>\n",
       "      <td>./assets/audio_test/8750049_father.wav</td>\n",
       "      <td>0.353016</td>\n",
       "      <td>father</td>\n",
       "    </tr>\n",
       "    <tr>\n",
       "      <th>1</th>\n",
       "      <td>8750049</td>\n",
       "      <td>./assets/audio_test/8750049_worker.wav</td>\n",
       "      <td>0.531655</td>\n",
       "      <td>worker</td>\n",
       "    </tr>\n",
       "    <tr>\n",
       "      <th>2</th>\n",
       "      <td>8750051</td>\n",
       "      <td>./assets/audio_test/8750051_water.wav</td>\n",
       "      <td>0.374467</td>\n",
       "      <td>water</td>\n",
       "    </tr>\n",
       "    <tr>\n",
       "      <th>3</th>\n",
       "      <td>8750062</td>\n",
       "      <td>./assets/audio_test/8750062_flowers.wav</td>\n",
       "      <td>0.533379</td>\n",
       "      <td>flowers</td>\n",
       "    </tr>\n",
       "    <tr>\n",
       "      <th>4</th>\n",
       "      <td>8750066</td>\n",
       "      <td>./assets/audio_test/8750066_apples.wav</td>\n",
       "      <td>0.503719</td>\n",
       "      <td>apples</td>\n",
       "    </tr>\n",
       "  </tbody>\n",
       "</table>\n",
       "</div>"
      ],
      "text/plain": [
       "        id                                 filepath  duration class_label\n",
       "0  8750049   ./assets/audio_test/8750049_father.wav  0.353016      father\n",
       "1  8750049   ./assets/audio_test/8750049_worker.wav  0.531655      worker\n",
       "2  8750051    ./assets/audio_test/8750051_water.wav  0.374467       water\n",
       "3  8750062  ./assets/audio_test/8750062_flowers.wav  0.533379     flowers\n",
       "4  8750066   ./assets/audio_test/8750066_apples.wav  0.503719      apples"
      ]
     },
     "execution_count": 112,
     "metadata": {},
     "output_type": "execute_result"
    }
   ],
   "source": [
    "# import test data\n",
    "test_df = pd.read_csv(\"./datasets/test.csv\")\n",
    "test_df.head()"
   ]
  },
  {
   "cell_type": "code",
   "execution_count": 113,
   "metadata": {},
   "outputs": [],
   "source": [
    "# preprocess the same as previously\n",
    "test_mfccs_features = get_mfccs_features(test_df['filepath'])\n"
   ]
  },
  {
   "cell_type": "code",
   "execution_count": 114,
   "metadata": {},
   "outputs": [],
   "source": [
    "# add them into the dataframe\n",
    "\n",
    "for k, v in test_mfccs_features.items():\n",
    "    test_df[k] = v"
   ]
  },
  {
   "cell_type": "code",
   "execution_count": 115,
   "metadata": {},
   "outputs": [],
   "source": [
    "# create a new feature with a dimension of 160, stacking the mean and standard deviation of \n",
    "# the mfcc and its delta.\n",
    "\n",
    "combined_features = []\n",
    "for n in range(0,len(test_df)):\n",
    "    combined_features.append(np.concatenate((test_df['mfccs_mean'][n],\n",
    "                                             test_df['mfccs_std'][n], \n",
    "                                             test_df['mfccs_delta_mean'][n],\n",
    "                                             test_df['mfccs_delta_std'][n])))\n",
    "    \n",
    "test_df['combined_mfccs'] = combined_features\n",
    "# this will give us an array of (160, 1)"
   ]
  },
  {
   "cell_type": "code",
   "execution_count": 116,
   "metadata": {},
   "outputs": [
    {
     "data": {
      "text/html": [
       "<div>\n",
       "<style scoped>\n",
       "    .dataframe tbody tr th:only-of-type {\n",
       "        vertical-align: middle;\n",
       "    }\n",
       "\n",
       "    .dataframe tbody tr th {\n",
       "        vertical-align: top;\n",
       "    }\n",
       "\n",
       "    .dataframe thead th {\n",
       "        text-align: right;\n",
       "    }\n",
       "</style>\n",
       "<table border=\"1\" class=\"dataframe\">\n",
       "  <thead>\n",
       "    <tr style=\"text-align: right;\">\n",
       "      <th></th>\n",
       "      <th>id</th>\n",
       "      <th>filepath</th>\n",
       "      <th>duration</th>\n",
       "      <th>class_label</th>\n",
       "      <th>mfccs_mean</th>\n",
       "      <th>mfccs_std</th>\n",
       "      <th>mfccs_delta_mean</th>\n",
       "      <th>mfccs_delta_std</th>\n",
       "      <th>combined_mfccs</th>\n",
       "    </tr>\n",
       "  </thead>\n",
       "  <tbody>\n",
       "    <tr>\n",
       "      <th>0</th>\n",
       "      <td>8750049</td>\n",
       "      <td>./assets/audio_test/8750049_father.wav</td>\n",
       "      <td>0.353016</td>\n",
       "      <td>father</td>\n",
       "      <td>[-169.13393, 136.69135, -31.809338, 20.55186, ...</td>\n",
       "      <td>[41.70879, 21.830057, 27.636902, 12.362332, 18...</td>\n",
       "      <td>[1.9910371, -0.25411266, -2.515326, 1.3795561,...</td>\n",
       "      <td>[8.519464, 4.3707027, 4.3258567, 1.7772573, 2....</td>\n",
       "      <td>[-169.13393, 136.69135, -31.809338, 20.55186, ...</td>\n",
       "    </tr>\n",
       "    <tr>\n",
       "      <th>1</th>\n",
       "      <td>8750049</td>\n",
       "      <td>./assets/audio_test/8750049_worker.wav</td>\n",
       "      <td>0.531655</td>\n",
       "      <td>worker</td>\n",
       "      <td>[-287.14914, 180.64957, 22.688225, -9.836566, ...</td>\n",
       "      <td>[74.63576, 30.15931, 21.801395, 15.327445, 15....</td>\n",
       "      <td>[-5.404343, -2.924971, 1.0068195, -0.86250436,...</td>\n",
       "      <td>[19.696611, 6.326892, 5.3654685, 3.914428, 4.0...</td>\n",
       "      <td>[-287.14914, 180.64957, 22.688225, -9.836566, ...</td>\n",
       "    </tr>\n",
       "    <tr>\n",
       "      <th>2</th>\n",
       "      <td>8750051</td>\n",
       "      <td>./assets/audio_test/8750051_water.wav</td>\n",
       "      <td>0.374467</td>\n",
       "      <td>water</td>\n",
       "      <td>[-221.17166, 137.10963, 11.459793, 28.60778, -...</td>\n",
       "      <td>[66.85327, 36.957886, 32.5245, 16.585081, 24.3...</td>\n",
       "      <td>[-2.8528218, -7.177959, -1.6909441, 0.9749463,...</td>\n",
       "      <td>[9.90385, 2.6404707, 5.663468, 1.8970118, 5.49...</td>\n",
       "      <td>[-221.17166, 137.10963, 11.459793, 28.60778, -...</td>\n",
       "    </tr>\n",
       "    <tr>\n",
       "      <th>3</th>\n",
       "      <td>8750062</td>\n",
       "      <td>./assets/audio_test/8750062_flowers.wav</td>\n",
       "      <td>0.533379</td>\n",
       "      <td>flowers</td>\n",
       "      <td>[-219.64317, 124.65655, -11.501224, 17.839247,...</td>\n",
       "      <td>[50.044624, 25.74483, 34.892227, 18.774397, 29...</td>\n",
       "      <td>[-4.74574, -2.835228, 2.4696124, 0.986755, 1.1...</td>\n",
       "      <td>[10.575305, 3.459822, 8.680221, 4.149211, 7.07...</td>\n",
       "      <td>[-219.64317, 124.65655, -11.501224, 17.839247,...</td>\n",
       "    </tr>\n",
       "    <tr>\n",
       "      <th>4</th>\n",
       "      <td>8750066</td>\n",
       "      <td>./assets/audio_test/8750066_apples.wav</td>\n",
       "      <td>0.503719</td>\n",
       "      <td>apples</td>\n",
       "      <td>[-248.58002, 125.00463, -3.9754348, 30.73246, ...</td>\n",
       "      <td>[88.9623, 53.28954, 24.958252, 22.293911, 21.7...</td>\n",
       "      <td>[-10.459837, -8.300082, 4.2740784, -1.519041, ...</td>\n",
       "      <td>[21.781862, 8.261361, 5.409559, 5.4887886, 4.5...</td>\n",
       "      <td>[-248.58002, 125.00463, -3.9754348, 30.73246, ...</td>\n",
       "    </tr>\n",
       "    <tr>\n",
       "      <th>5</th>\n",
       "      <td>8820049</td>\n",
       "      <td>./assets/audio_test/8820049_father.wav</td>\n",
       "      <td>0.389977</td>\n",
       "      <td>father</td>\n",
       "      <td>[-164.45847, 136.31158, -50.77888, 24.216885, ...</td>\n",
       "      <td>[54.695415, 38.007706, 29.594824, 13.980123, 1...</td>\n",
       "      <td>[4.4929843, 0.48799628, -3.3930488, 0.19807073...</td>\n",
       "      <td>[11.711, 5.3738256, 4.890711, 2.825163, 2.6192...</td>\n",
       "      <td>[-164.45847, 136.31158, -50.77888, 24.216885, ...</td>\n",
       "    </tr>\n",
       "    <tr>\n",
       "      <th>6</th>\n",
       "      <td>8820049</td>\n",
       "      <td>./assets/audio_test/8820049_worker.wav</td>\n",
       "      <td>0.457596</td>\n",
       "      <td>worker</td>\n",
       "      <td>[-236.2233, 179.06107, 4.394506, -2.723906, -2...</td>\n",
       "      <td>[90.078094, 26.892817, 21.36698, 12.648206, 20...</td>\n",
       "      <td>[-11.399908, -3.57979, 1.0712223, -1.6307619, ...</td>\n",
       "      <td>[22.681133, 6.692017, 4.4309363, 1.9995955, 4....</td>\n",
       "      <td>[-236.2233, 179.06107, 4.394506, -2.723906, -2...</td>\n",
       "    </tr>\n",
       "    <tr>\n",
       "      <th>7</th>\n",
       "      <td>8820051</td>\n",
       "      <td>./assets/audio_test/8820051_water.wav</td>\n",
       "      <td>0.403039</td>\n",
       "      <td>water</td>\n",
       "      <td>[-247.21452, 152.4828, -16.52004, 25.00746, -2...</td>\n",
       "      <td>[77.61637, 31.948997, 33.830154, 22.606028, 21...</td>\n",
       "      <td>[8.539368, -3.7038105, -2.947812, 4.3035555, -...</td>\n",
       "      <td>[9.36499, 2.90386, 4.212083, 2.541092, 3.45674...</td>\n",
       "      <td>[-247.21452, 152.4828, -16.52004, 25.00746, -2...</td>\n",
       "    </tr>\n",
       "    <tr>\n",
       "      <th>8</th>\n",
       "      <td>8820062</td>\n",
       "      <td>./assets/audio_test/8820062_flowers.wav</td>\n",
       "      <td>0.519002</td>\n",
       "      <td>flowers</td>\n",
       "      <td>[-225.63876, 105.78125, -12.333526, 24.97816, ...</td>\n",
       "      <td>[53.059155, 44.02755, 36.21792, 15.884366, 21....</td>\n",
       "      <td>[-3.729883, -3.446553, 3.254778, 0.6638056, -2...</td>\n",
       "      <td>[12.999378, 8.687178, 6.886966, 3.1590445, 5.9...</td>\n",
       "      <td>[-225.63876, 105.78125, -12.333526, 24.97816, ...</td>\n",
       "    </tr>\n",
       "    <tr>\n",
       "      <th>9</th>\n",
       "      <td>8820066</td>\n",
       "      <td>./assets/audio_test/8820066_apples.wav</td>\n",
       "      <td>0.602948</td>\n",
       "      <td>apples</td>\n",
       "      <td>[-229.98706, 131.4102, 2.7116969, 26.007465, -...</td>\n",
       "      <td>[79.78912, 60.08728, 30.824759, 21.994692, 21....</td>\n",
       "      <td>[-10.459578, -6.5889587, 4.380996, 0.3021544, ...</td>\n",
       "      <td>[14.317113, 11.652658, 3.500336, 5.1578817, 6....</td>\n",
       "      <td>[-229.98706, 131.4102, 2.7116969, 26.007465, -...</td>\n",
       "    </tr>\n",
       "    <tr>\n",
       "      <th>10</th>\n",
       "      <td>8830049</td>\n",
       "      <td>./assets/audio_test/8830049_father.wav</td>\n",
       "      <td>0.392653</td>\n",
       "      <td>father</td>\n",
       "      <td>[-175.76672, 132.78757, -74.15096, 7.433678, -...</td>\n",
       "      <td>[58.427147, 31.495325, 32.113873, 16.539162, 2...</td>\n",
       "      <td>[8.680094, 2.0464292, -5.2367415, -1.5796459, ...</td>\n",
       "      <td>[9.532841, 2.0917578, 4.1450186, 3.832926, 4.2...</td>\n",
       "      <td>[-175.76672, 132.78757, -74.15096, 7.433678, -...</td>\n",
       "    </tr>\n",
       "    <tr>\n",
       "      <th>11</th>\n",
       "      <td>8830049</td>\n",
       "      <td>./assets/audio_test/8830049_worker.wav</td>\n",
       "      <td>0.604853</td>\n",
       "      <td>worker</td>\n",
       "      <td>[-282.45422, 177.63524, -17.767813, -18.203701...</td>\n",
       "      <td>[104.86878, 32.719177, 31.443756, 12.647212, 1...</td>\n",
       "      <td>[-15.113841, -2.6549845, 3.0156343, -1.5471303...</td>\n",
       "      <td>[26.63582, 7.3642273, 7.0153008, 2.8483477, 1....</td>\n",
       "      <td>[-282.45422, 177.63524, -17.767813, -18.203701...</td>\n",
       "    </tr>\n",
       "    <tr>\n",
       "      <th>12</th>\n",
       "      <td>8830051</td>\n",
       "      <td>./assets/audio_test/8830051_water.wav</td>\n",
       "      <td>0.408571</td>\n",
       "      <td>water</td>\n",
       "      <td>[-222.30742, 141.91107, -17.941856, 26.128607,...</td>\n",
       "      <td>[96.9211, 33.699574, 52.56062, 23.888277, 21.9...</td>\n",
       "      <td>[1.5466443, -3.9220276, -3.7541187, 0.9439731,...</td>\n",
       "      <td>[13.321882, 3.4720674, 6.8144135, 4.9554644, 3...</td>\n",
       "      <td>[-222.30742, 141.91107, -17.941856, 26.128607,...</td>\n",
       "    </tr>\n",
       "    <tr>\n",
       "      <th>13</th>\n",
       "      <td>8830062</td>\n",
       "      <td>./assets/audio_test/8830062_flowers.wav</td>\n",
       "      <td>0.562857</td>\n",
       "      <td>flowers</td>\n",
       "      <td>[-248.42778, 133.04659, -27.930243, 12.392974,...</td>\n",
       "      <td>[110.368, 29.375319, 54.253582, 23.459078, 25....</td>\n",
       "      <td>[-14.239158, -1.6086868, 3.8201876, 0.10190554...</td>\n",
       "      <td>[13.718916, 3.7312393, 7.423891, 4.777038, 4.2...</td>\n",
       "      <td>[-248.42778, 133.04659, -27.930243, 12.392974,...</td>\n",
       "    </tr>\n",
       "    <tr>\n",
       "      <th>14</th>\n",
       "      <td>8830066</td>\n",
       "      <td>./assets/audio_test/8830066_apples.wav</td>\n",
       "      <td>0.385941</td>\n",
       "      <td>apples</td>\n",
       "      <td>[-197.75975, 141.56473, -22.847359, 17.336676,...</td>\n",
       "      <td>[83.39289, 38.33226, 32.988827, 17.034079, 21....</td>\n",
       "      <td>[-7.8049917, -5.322825, 4.346695, -0.04595019,...</td>\n",
       "      <td>[20.755604, 6.399543, 6.513721, 3.4858384, 4.3...</td>\n",
       "      <td>[-197.75975, 141.56473, -22.847359, 17.336676,...</td>\n",
       "    </tr>\n",
       "    <tr>\n",
       "      <th>15</th>\n",
       "      <td>8840049</td>\n",
       "      <td>./assets/audio_test/8840049_father.wav</td>\n",
       "      <td>0.280726</td>\n",
       "      <td>father</td>\n",
       "      <td>[-197.28362, 162.9694, -62.7931, -3.3547378, -...</td>\n",
       "      <td>[46.673542, 35.033634, 35.37869, 12.369743, 12...</td>\n",
       "      <td>[6.7435384, 2.9636838, -3.4873433, 0.2397038, ...</td>\n",
       "      <td>[6.260938, 6.030005, 8.4057, 3.4203331, 2.1103...</td>\n",
       "      <td>[-197.28362, 162.9694, -62.7931, -3.3547378, -...</td>\n",
       "    </tr>\n",
       "    <tr>\n",
       "      <th>16</th>\n",
       "      <td>8840049</td>\n",
       "      <td>./assets/audio_test/8840049_worker.wav</td>\n",
       "      <td>0.398458</td>\n",
       "      <td>worker</td>\n",
       "      <td>[-239.44507, 189.68962, -28.784328, 2.3710423,...</td>\n",
       "      <td>[68.02903, 28.433195, 24.248737, 16.214592, 13...</td>\n",
       "      <td>[-7.898916, -3.118727, 1.8138763, -2.6460083, ...</td>\n",
       "      <td>[16.139942, 7.796285, 4.3865395, 3.8637347, 1....</td>\n",
       "      <td>[-239.44507, 189.68962, -28.784328, 2.3710423,...</td>\n",
       "    </tr>\n",
       "    <tr>\n",
       "      <th>17</th>\n",
       "      <td>8840051</td>\n",
       "      <td>./assets/audio_test/8840051_water.wav</td>\n",
       "      <td>0.413107</td>\n",
       "      <td>water</td>\n",
       "      <td>[-245.13826, 170.51767, -28.637138, 6.7855873,...</td>\n",
       "      <td>[74.67042, 28.375803, 42.15272, 9.493943, 18.2...</td>\n",
       "      <td>[0.683915, -2.793041, -4.3332033, 0.06766799, ...</td>\n",
       "      <td>[12.061865, 4.9931684, 5.2645884, 2.147108, 3....</td>\n",
       "      <td>[-245.13826, 170.51767, -28.637138, 6.7855873,...</td>\n",
       "    </tr>\n",
       "    <tr>\n",
       "      <th>18</th>\n",
       "      <td>8840062</td>\n",
       "      <td>./assets/audio_test/8840062_flowers.wav</td>\n",
       "      <td>0.512200</td>\n",
       "      <td>flowers</td>\n",
       "      <td>[-263.49023, 155.01178, -43.62218, -2.8491814,...</td>\n",
       "      <td>[76.67761, 35.624332, 41.92477, 15.691206, 20....</td>\n",
       "      <td>[-8.507332, -0.8448008, 3.3491805, 1.0661871, ...</td>\n",
       "      <td>[16.589064, 6.8647513, 10.225589, 2.5426595, 3...</td>\n",
       "      <td>[-263.49023, 155.01178, -43.62218, -2.8491814,...</td>\n",
       "    </tr>\n",
       "    <tr>\n",
       "      <th>19</th>\n",
       "      <td>8840066</td>\n",
       "      <td>./assets/audio_test/8840066_apples.wav</td>\n",
       "      <td>0.436417</td>\n",
       "      <td>apples</td>\n",
       "      <td>[-215.32233, 145.0903, -47.381577, 13.600419, ...</td>\n",
       "      <td>[56.868504, 55.47462, 27.039679, 14.52245, 25....</td>\n",
       "      <td>[-2.6133943, -8.125476, 4.57423, 1.236747, -4....</td>\n",
       "      <td>[8.686955, 12.272804, 5.157783, 3.0768971, 2.3...</td>\n",
       "      <td>[-215.32233, 145.0903, -47.381577, 13.600419, ...</td>\n",
       "    </tr>\n",
       "  </tbody>\n",
       "</table>\n",
       "</div>"
      ],
      "text/plain": [
       "         id                                 filepath  duration class_label  \\\n",
       "0   8750049   ./assets/audio_test/8750049_father.wav  0.353016      father   \n",
       "1   8750049   ./assets/audio_test/8750049_worker.wav  0.531655      worker   \n",
       "2   8750051    ./assets/audio_test/8750051_water.wav  0.374467       water   \n",
       "3   8750062  ./assets/audio_test/8750062_flowers.wav  0.533379     flowers   \n",
       "4   8750066   ./assets/audio_test/8750066_apples.wav  0.503719      apples   \n",
       "5   8820049   ./assets/audio_test/8820049_father.wav  0.389977      father   \n",
       "6   8820049   ./assets/audio_test/8820049_worker.wav  0.457596      worker   \n",
       "7   8820051    ./assets/audio_test/8820051_water.wav  0.403039       water   \n",
       "8   8820062  ./assets/audio_test/8820062_flowers.wav  0.519002     flowers   \n",
       "9   8820066   ./assets/audio_test/8820066_apples.wav  0.602948      apples   \n",
       "10  8830049   ./assets/audio_test/8830049_father.wav  0.392653      father   \n",
       "11  8830049   ./assets/audio_test/8830049_worker.wav  0.604853      worker   \n",
       "12  8830051    ./assets/audio_test/8830051_water.wav  0.408571       water   \n",
       "13  8830062  ./assets/audio_test/8830062_flowers.wav  0.562857     flowers   \n",
       "14  8830066   ./assets/audio_test/8830066_apples.wav  0.385941      apples   \n",
       "15  8840049   ./assets/audio_test/8840049_father.wav  0.280726      father   \n",
       "16  8840049   ./assets/audio_test/8840049_worker.wav  0.398458      worker   \n",
       "17  8840051    ./assets/audio_test/8840051_water.wav  0.413107       water   \n",
       "18  8840062  ./assets/audio_test/8840062_flowers.wav  0.512200     flowers   \n",
       "19  8840066   ./assets/audio_test/8840066_apples.wav  0.436417      apples   \n",
       "\n",
       "                                           mfccs_mean  \\\n",
       "0   [-169.13393, 136.69135, -31.809338, 20.55186, ...   \n",
       "1   [-287.14914, 180.64957, 22.688225, -9.836566, ...   \n",
       "2   [-221.17166, 137.10963, 11.459793, 28.60778, -...   \n",
       "3   [-219.64317, 124.65655, -11.501224, 17.839247,...   \n",
       "4   [-248.58002, 125.00463, -3.9754348, 30.73246, ...   \n",
       "5   [-164.45847, 136.31158, -50.77888, 24.216885, ...   \n",
       "6   [-236.2233, 179.06107, 4.394506, -2.723906, -2...   \n",
       "7   [-247.21452, 152.4828, -16.52004, 25.00746, -2...   \n",
       "8   [-225.63876, 105.78125, -12.333526, 24.97816, ...   \n",
       "9   [-229.98706, 131.4102, 2.7116969, 26.007465, -...   \n",
       "10  [-175.76672, 132.78757, -74.15096, 7.433678, -...   \n",
       "11  [-282.45422, 177.63524, -17.767813, -18.203701...   \n",
       "12  [-222.30742, 141.91107, -17.941856, 26.128607,...   \n",
       "13  [-248.42778, 133.04659, -27.930243, 12.392974,...   \n",
       "14  [-197.75975, 141.56473, -22.847359, 17.336676,...   \n",
       "15  [-197.28362, 162.9694, -62.7931, -3.3547378, -...   \n",
       "16  [-239.44507, 189.68962, -28.784328, 2.3710423,...   \n",
       "17  [-245.13826, 170.51767, -28.637138, 6.7855873,...   \n",
       "18  [-263.49023, 155.01178, -43.62218, -2.8491814,...   \n",
       "19  [-215.32233, 145.0903, -47.381577, 13.600419, ...   \n",
       "\n",
       "                                            mfccs_std  \\\n",
       "0   [41.70879, 21.830057, 27.636902, 12.362332, 18...   \n",
       "1   [74.63576, 30.15931, 21.801395, 15.327445, 15....   \n",
       "2   [66.85327, 36.957886, 32.5245, 16.585081, 24.3...   \n",
       "3   [50.044624, 25.74483, 34.892227, 18.774397, 29...   \n",
       "4   [88.9623, 53.28954, 24.958252, 22.293911, 21.7...   \n",
       "5   [54.695415, 38.007706, 29.594824, 13.980123, 1...   \n",
       "6   [90.078094, 26.892817, 21.36698, 12.648206, 20...   \n",
       "7   [77.61637, 31.948997, 33.830154, 22.606028, 21...   \n",
       "8   [53.059155, 44.02755, 36.21792, 15.884366, 21....   \n",
       "9   [79.78912, 60.08728, 30.824759, 21.994692, 21....   \n",
       "10  [58.427147, 31.495325, 32.113873, 16.539162, 2...   \n",
       "11  [104.86878, 32.719177, 31.443756, 12.647212, 1...   \n",
       "12  [96.9211, 33.699574, 52.56062, 23.888277, 21.9...   \n",
       "13  [110.368, 29.375319, 54.253582, 23.459078, 25....   \n",
       "14  [83.39289, 38.33226, 32.988827, 17.034079, 21....   \n",
       "15  [46.673542, 35.033634, 35.37869, 12.369743, 12...   \n",
       "16  [68.02903, 28.433195, 24.248737, 16.214592, 13...   \n",
       "17  [74.67042, 28.375803, 42.15272, 9.493943, 18.2...   \n",
       "18  [76.67761, 35.624332, 41.92477, 15.691206, 20....   \n",
       "19  [56.868504, 55.47462, 27.039679, 14.52245, 25....   \n",
       "\n",
       "                                     mfccs_delta_mean  \\\n",
       "0   [1.9910371, -0.25411266, -2.515326, 1.3795561,...   \n",
       "1   [-5.404343, -2.924971, 1.0068195, -0.86250436,...   \n",
       "2   [-2.8528218, -7.177959, -1.6909441, 0.9749463,...   \n",
       "3   [-4.74574, -2.835228, 2.4696124, 0.986755, 1.1...   \n",
       "4   [-10.459837, -8.300082, 4.2740784, -1.519041, ...   \n",
       "5   [4.4929843, 0.48799628, -3.3930488, 0.19807073...   \n",
       "6   [-11.399908, -3.57979, 1.0712223, -1.6307619, ...   \n",
       "7   [8.539368, -3.7038105, -2.947812, 4.3035555, -...   \n",
       "8   [-3.729883, -3.446553, 3.254778, 0.6638056, -2...   \n",
       "9   [-10.459578, -6.5889587, 4.380996, 0.3021544, ...   \n",
       "10  [8.680094, 2.0464292, -5.2367415, -1.5796459, ...   \n",
       "11  [-15.113841, -2.6549845, 3.0156343, -1.5471303...   \n",
       "12  [1.5466443, -3.9220276, -3.7541187, 0.9439731,...   \n",
       "13  [-14.239158, -1.6086868, 3.8201876, 0.10190554...   \n",
       "14  [-7.8049917, -5.322825, 4.346695, -0.04595019,...   \n",
       "15  [6.7435384, 2.9636838, -3.4873433, 0.2397038, ...   \n",
       "16  [-7.898916, -3.118727, 1.8138763, -2.6460083, ...   \n",
       "17  [0.683915, -2.793041, -4.3332033, 0.06766799, ...   \n",
       "18  [-8.507332, -0.8448008, 3.3491805, 1.0661871, ...   \n",
       "19  [-2.6133943, -8.125476, 4.57423, 1.236747, -4....   \n",
       "\n",
       "                                      mfccs_delta_std  \\\n",
       "0   [8.519464, 4.3707027, 4.3258567, 1.7772573, 2....   \n",
       "1   [19.696611, 6.326892, 5.3654685, 3.914428, 4.0...   \n",
       "2   [9.90385, 2.6404707, 5.663468, 1.8970118, 5.49...   \n",
       "3   [10.575305, 3.459822, 8.680221, 4.149211, 7.07...   \n",
       "4   [21.781862, 8.261361, 5.409559, 5.4887886, 4.5...   \n",
       "5   [11.711, 5.3738256, 4.890711, 2.825163, 2.6192...   \n",
       "6   [22.681133, 6.692017, 4.4309363, 1.9995955, 4....   \n",
       "7   [9.36499, 2.90386, 4.212083, 2.541092, 3.45674...   \n",
       "8   [12.999378, 8.687178, 6.886966, 3.1590445, 5.9...   \n",
       "9   [14.317113, 11.652658, 3.500336, 5.1578817, 6....   \n",
       "10  [9.532841, 2.0917578, 4.1450186, 3.832926, 4.2...   \n",
       "11  [26.63582, 7.3642273, 7.0153008, 2.8483477, 1....   \n",
       "12  [13.321882, 3.4720674, 6.8144135, 4.9554644, 3...   \n",
       "13  [13.718916, 3.7312393, 7.423891, 4.777038, 4.2...   \n",
       "14  [20.755604, 6.399543, 6.513721, 3.4858384, 4.3...   \n",
       "15  [6.260938, 6.030005, 8.4057, 3.4203331, 2.1103...   \n",
       "16  [16.139942, 7.796285, 4.3865395, 3.8637347, 1....   \n",
       "17  [12.061865, 4.9931684, 5.2645884, 2.147108, 3....   \n",
       "18  [16.589064, 6.8647513, 10.225589, 2.5426595, 3...   \n",
       "19  [8.686955, 12.272804, 5.157783, 3.0768971, 2.3...   \n",
       "\n",
       "                                       combined_mfccs  \n",
       "0   [-169.13393, 136.69135, -31.809338, 20.55186, ...  \n",
       "1   [-287.14914, 180.64957, 22.688225, -9.836566, ...  \n",
       "2   [-221.17166, 137.10963, 11.459793, 28.60778, -...  \n",
       "3   [-219.64317, 124.65655, -11.501224, 17.839247,...  \n",
       "4   [-248.58002, 125.00463, -3.9754348, 30.73246, ...  \n",
       "5   [-164.45847, 136.31158, -50.77888, 24.216885, ...  \n",
       "6   [-236.2233, 179.06107, 4.394506, -2.723906, -2...  \n",
       "7   [-247.21452, 152.4828, -16.52004, 25.00746, -2...  \n",
       "8   [-225.63876, 105.78125, -12.333526, 24.97816, ...  \n",
       "9   [-229.98706, 131.4102, 2.7116969, 26.007465, -...  \n",
       "10  [-175.76672, 132.78757, -74.15096, 7.433678, -...  \n",
       "11  [-282.45422, 177.63524, -17.767813, -18.203701...  \n",
       "12  [-222.30742, 141.91107, -17.941856, 26.128607,...  \n",
       "13  [-248.42778, 133.04659, -27.930243, 12.392974,...  \n",
       "14  [-197.75975, 141.56473, -22.847359, 17.336676,...  \n",
       "15  [-197.28362, 162.9694, -62.7931, -3.3547378, -...  \n",
       "16  [-239.44507, 189.68962, -28.784328, 2.3710423,...  \n",
       "17  [-245.13826, 170.51767, -28.637138, 6.7855873,...  \n",
       "18  [-263.49023, 155.01178, -43.62218, -2.8491814,...  \n",
       "19  [-215.32233, 145.0903, -47.381577, 13.600419, ...  "
      ]
     },
     "execution_count": 116,
     "metadata": {},
     "output_type": "execute_result"
    }
   ],
   "source": [
    "test_df"
   ]
  },
  {
   "cell_type": "code",
   "execution_count": 117,
   "metadata": {},
   "outputs": [],
   "source": [
    "X = np.array(test_df['combined_mfccs'].tolist())"
   ]
  },
  {
   "cell_type": "code",
   "execution_count": 118,
   "metadata": {},
   "outputs": [
    {
     "data": {
      "text/plain": [
       "array([3, 3, 3, 3, 3, 3, 3, 3, 3, 3, 3, 3, 3, 3, 3, 3, 3, 3, 3, 3],\n",
       "      dtype=int64)"
      ]
     },
     "execution_count": 118,
     "metadata": {},
     "output_type": "execute_result"
    }
   ],
   "source": [
    "model2.predict_classes(X)"
   ]
  },
  {
   "cell_type": "code",
   "execution_count": null,
   "metadata": {},
   "outputs": [],
   "source": []
  },
  {
   "cell_type": "code",
   "execution_count": 119,
   "metadata": {},
   "outputs": [],
   "source": [
    "def get_mfcc(file, n_mfcc=40):\n",
    "    audio, sr = librosa.load(file) \n",
    "    mfccs = librosa.feature.mfcc(y=audio, sr=sr, n_mfcc=n_mfcc)\n",
    "    return mfccs.T"
   ]
  },
  {
   "cell_type": "code",
   "execution_count": 120,
   "metadata": {},
   "outputs": [],
   "source": [
    "mfcc_test = test_df['filepath'].map(get_mfcc)"
   ]
  },
  {
   "cell_type": "code",
   "execution_count": 124,
   "metadata": {},
   "outputs": [],
   "source": [
    "X = pad_sequences(mfcc_test, padding='post', maxlen=42)"
   ]
  },
  {
   "cell_type": "code",
   "execution_count": 125,
   "metadata": {},
   "outputs": [
    {
     "data": {
      "text/plain": [
       "(20, 42, 40)"
      ]
     },
     "execution_count": 125,
     "metadata": {},
     "output_type": "execute_result"
    }
   ],
   "source": [
    "X.shape"
   ]
  },
  {
   "cell_type": "code",
   "execution_count": 126,
   "metadata": {
    "scrolled": true
   },
   "outputs": [],
   "source": [
    "y_test_pred = model7.predict_classes(X)"
   ]
  },
  {
   "cell_type": "code",
   "execution_count": 127,
   "metadata": {},
   "outputs": [],
   "source": [
    "y_test_pred = list(le.inverse_transform(y_test_pred))"
   ]
  },
  {
   "cell_type": "code",
   "execution_count": 128,
   "metadata": {},
   "outputs": [
    {
     "name": "stdout",
     "output_type": "stream",
     "text": [
      "              precision    recall  f1-score   support\n",
      "\n",
      "      apples       1.00      1.00      1.00         4\n",
      "      father       1.00      1.00      1.00         4\n",
      "     flowers       1.00      1.00      1.00         4\n",
      "       water       1.00      1.00      1.00         4\n",
      "      worker       1.00      1.00      1.00         4\n",
      "\n",
      "    accuracy                           1.00        20\n",
      "   macro avg       1.00      1.00      1.00        20\n",
      "weighted avg       1.00      1.00      1.00        20\n",
      "\n"
     ]
    }
   ],
   "source": [
    "print(classification_report(test_df['class_label'], y_test_pred))"
   ]
  },
  {
   "cell_type": "code",
   "execution_count": null,
   "metadata": {},
   "outputs": [],
   "source": []
  }
 ],
 "metadata": {
  "kernelspec": {
   "display_name": "Python 3",
   "language": "python",
   "name": "python3"
  },
  "language_info": {
   "codemirror_mode": {
    "name": "ipython",
    "version": 3
   },
   "file_extension": ".py",
   "mimetype": "text/x-python",
   "name": "python",
   "nbconvert_exporter": "python",
   "pygments_lexer": "ipython3",
   "version": "3.6.12"
  }
 },
 "nbformat": 4,
 "nbformat_minor": 4
}
