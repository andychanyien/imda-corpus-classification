{
 "cells": [
  {
   "cell_type": "markdown",
   "metadata": {},
   "source": [
    "# Preprocessing, Modelling and Evaluation"
   ]
  },
  {
   "cell_type": "code",
   "execution_count": 1,
   "metadata": {
    "scrolled": true
   },
   "outputs": [
    {
     "name": "stderr",
     "output_type": "stream",
     "text": [
      "Using TensorFlow backend.\n"
     ]
    }
   ],
   "source": [
    "# data science essentials\n",
    "import pandas as pd\n",
    "import numpy as np\n",
    "import matplotlib.pyplot as plt\n",
    "\n",
    "# for audio\n",
    "import IPython.display as ipd\n",
    "import librosa\n",
    "import librosa.display\n",
    "\n",
    "# modelling and preprocessing\n",
    "from sklearn.preprocessing import LabelEncoder, StandardScaler\n",
    "from sklearn.model_selection import train_test_split\n",
    "from sklearn.metrics import classification_report, confusion_matrix\n",
    "from keras.models import Sequential\n",
    "from keras.layers import Dense, Dropout, Activation, Conv2D, MaxPooling2D, Flatten, Masking, GRU, LSTM\n",
    "from keras.preprocessing.sequence import pad_sequences\n",
    "from keras.optimizers import Adam\n",
    "from keras.utils import to_categorical\n",
    "\n",
    "# for processing images for CNN\n",
    "import os\n",
    "from PIL import Image\n",
    "\n",
    "# for timing code\n",
    "import time\n"
   ]
  },
  {
   "cell_type": "code",
   "execution_count": 2,
   "metadata": {},
   "outputs": [],
   "source": [
    "train_df = pd.read_csv(\"datasets/train.csv\")"
   ]
  },
  {
   "cell_type": "code",
   "execution_count": 3,
   "metadata": {},
   "outputs": [
    {
     "data": {
      "text/html": [
       "<div>\n",
       "<style scoped>\n",
       "    .dataframe tbody tr th:only-of-type {\n",
       "        vertical-align: middle;\n",
       "    }\n",
       "\n",
       "    .dataframe tbody tr th {\n",
       "        vertical-align: top;\n",
       "    }\n",
       "\n",
       "    .dataframe thead th {\n",
       "        text-align: right;\n",
       "    }\n",
       "</style>\n",
       "<table border=\"1\" class=\"dataframe\">\n",
       "  <thead>\n",
       "    <tr style=\"text-align: right;\">\n",
       "      <th></th>\n",
       "      <th>id</th>\n",
       "      <th>filepath</th>\n",
       "      <th>duration</th>\n",
       "      <th>class_label</th>\n",
       "    </tr>\n",
       "  </thead>\n",
       "  <tbody>\n",
       "    <tr>\n",
       "      <th>0</th>\n",
       "      <td>10210049</td>\n",
       "      <td>./assets/audio_train/10210049_father.wav</td>\n",
       "      <td>0.457959</td>\n",
       "      <td>father</td>\n",
       "    </tr>\n",
       "    <tr>\n",
       "      <th>1</th>\n",
       "      <td>10210049</td>\n",
       "      <td>./assets/audio_train/10210049_worker.wav</td>\n",
       "      <td>0.519501</td>\n",
       "      <td>worker</td>\n",
       "    </tr>\n",
       "    <tr>\n",
       "      <th>2</th>\n",
       "      <td>10210051</td>\n",
       "      <td>./assets/audio_train/10210051_water.wav</td>\n",
       "      <td>0.395828</td>\n",
       "      <td>water</td>\n",
       "    </tr>\n",
       "    <tr>\n",
       "      <th>3</th>\n",
       "      <td>10210062</td>\n",
       "      <td>./assets/audio_train/10210062_flowers.wav</td>\n",
       "      <td>0.399229</td>\n",
       "      <td>flowers</td>\n",
       "    </tr>\n",
       "    <tr>\n",
       "      <th>4</th>\n",
       "      <td>10210066</td>\n",
       "      <td>./assets/audio_train/10210066_apples.wav</td>\n",
       "      <td>0.524354</td>\n",
       "      <td>apples</td>\n",
       "    </tr>\n",
       "  </tbody>\n",
       "</table>\n",
       "</div>"
      ],
      "text/plain": [
       "         id                                   filepath  duration class_label\n",
       "0  10210049   ./assets/audio_train/10210049_father.wav  0.457959      father\n",
       "1  10210049   ./assets/audio_train/10210049_worker.wav  0.519501      worker\n",
       "2  10210051    ./assets/audio_train/10210051_water.wav  0.395828       water\n",
       "3  10210062  ./assets/audio_train/10210062_flowers.wav  0.399229     flowers\n",
       "4  10210066   ./assets/audio_train/10210066_apples.wav  0.524354      apples"
      ]
     },
     "execution_count": 3,
     "metadata": {},
     "output_type": "execute_result"
    }
   ],
   "source": [
    "train_df.head()"
   ]
  },
  {
   "cell_type": "code",
   "execution_count": 4,
   "metadata": {},
   "outputs": [
    {
     "data": {
      "text/plain": [
       "(1049, 4)"
      ]
     },
     "execution_count": 4,
     "metadata": {},
     "output_type": "execute_result"
    }
   ],
   "source": [
    "train_df.shape"
   ]
  },
  {
   "cell_type": "markdown",
   "metadata": {},
   "source": [
    "## 3. Preprocessing"
   ]
  },
  {
   "cell_type": "markdown",
   "metadata": {},
   "source": [
    "There are many ways of preprocessing audio files and the methods of preprocessing is heavily dependent on the type of classification model which will be used.\n",
    "\n",
    "The model I will be building is:\n",
    "\n",
    "1. Feedforward Neural Network ( 2 kind of preprocessing )\n",
    "2. Convolutional Neural Network\n",
    "3. Recurrent Neural Network with LSTM\n",
    "4. Ensemble Method"
   ]
  },
  {
   "cell_type": "markdown",
   "metadata": {},
   "source": [
    "### Preprocessing for Feedforward Neural Network (FNN)\n",
    "\n",
    "**Calculate the Mean and Standard Deviation of MFCC and the Delta**\n",
    "\n",
    "Getting the Mean and Standard Deviation is a way of normalising the data since they are all of different shape."
   ]
  },
  {
   "cell_type": "code",
   "execution_count": 5,
   "metadata": {},
   "outputs": [],
   "source": [
    "def get_mfccs_features(file_list, n_mfcc=40):\n",
    "    \"\"\"\n",
    "    This function will take in a list of audio file path and return a dictionary of 4 MFCC features.\n",
    "    The 4 features will be transformed from a shape of (ts, 40) to (1, 40), where \"ts\" is the number of timesteps.\n",
    "    The first feature is the mean of the MFCC across time.\n",
    "    The second feature is the standard deviation of MFCC across time.\n",
    "    The third feature is the mean of the delta of the MFCC across time.\n",
    "    The fourth feature is the standard deviation of the MFCC across time.\n",
    "    \n",
    "    The dictionary can be used to add into the dataframe later\n",
    "    \n",
    "    \"\"\"\n",
    "    \n",
    "    # set up empty list and dictionary\n",
    "    features = {}\n",
    "    \n",
    "    mean = []\n",
    "    std = []\n",
    "    delta_mean = []\n",
    "    delta_std = []\n",
    "    \n",
    "    for f in file_list:\n",
    "        audio, sr = librosa.load(f) \n",
    "        mfccs = librosa.feature.mfcc(y=audio, sr=sr, n_mfcc=n_mfcc)\n",
    "        mfccs_delta = librosa.feature.delta(mfccs)\n",
    "        \n",
    "        # mfcc mean across time\n",
    "        mfccs_mean = np.mean(mfccs.T,axis=0)\n",
    "        mean.append(mfccs_mean)\n",
    "        \n",
    "        # mfcc standard deviation across time\n",
    "        mfccs_std = np.std(mfccs.T,axis=0)\n",
    "        std.append(mfccs_std)\n",
    "        \n",
    "        # mean of mfcc delta across time\n",
    "        mfccs_delta_mean = np.mean(mfccs_delta.T,axis=0)\n",
    "        delta_mean.append(mfccs_delta_mean)\n",
    "        \n",
    "        # standard deviation of mfcc delta across time\n",
    "        mfccs_delta_std = np.std(mfccs_delta.T,axis=0)\n",
    "        delta_std.append(mfccs_delta_std)\n",
    "    \n",
    "    # add all of the list into the empty dictionary\n",
    "    features['mfccs_mean'] = mean\n",
    "    features['mfccs_std'] = std\n",
    "    features['mfccs_delta_mean'] = delta_mean\n",
    "    features['mfccs_delta_std'] = delta_std\n",
    "    \n",
    "    return features"
   ]
  },
  {
   "cell_type": "code",
   "execution_count": 6,
   "metadata": {},
   "outputs": [],
   "source": [
    "# get all the features\n",
    "\n",
    "mfccs_features = get_mfccs_features(train_df['filepath'])\n",
    "\n",
    "# add them into the dataframe\n",
    "for k, v in mfccs_features.items():\n",
    "    train_df[k] = v"
   ]
  },
  {
   "cell_type": "code",
   "execution_count": 7,
   "metadata": {},
   "outputs": [
    {
     "data": {
      "text/html": [
       "<div>\n",
       "<style scoped>\n",
       "    .dataframe tbody tr th:only-of-type {\n",
       "        vertical-align: middle;\n",
       "    }\n",
       "\n",
       "    .dataframe tbody tr th {\n",
       "        vertical-align: top;\n",
       "    }\n",
       "\n",
       "    .dataframe thead th {\n",
       "        text-align: right;\n",
       "    }\n",
       "</style>\n",
       "<table border=\"1\" class=\"dataframe\">\n",
       "  <thead>\n",
       "    <tr style=\"text-align: right;\">\n",
       "      <th></th>\n",
       "      <th>id</th>\n",
       "      <th>filepath</th>\n",
       "      <th>duration</th>\n",
       "      <th>class_label</th>\n",
       "      <th>mfccs_mean</th>\n",
       "      <th>mfccs_std</th>\n",
       "      <th>mfccs_delta_mean</th>\n",
       "      <th>mfccs_delta_std</th>\n",
       "    </tr>\n",
       "  </thead>\n",
       "  <tbody>\n",
       "    <tr>\n",
       "      <th>0</th>\n",
       "      <td>10210049</td>\n",
       "      <td>./assets/audio_train/10210049_father.wav</td>\n",
       "      <td>0.457959</td>\n",
       "      <td>father</td>\n",
       "      <td>[-196.65865, 126.91008, -32.876976, 25.416832,...</td>\n",
       "      <td>[58.43318, 37.41045, 29.724075, 16.595234, 13....</td>\n",
       "      <td>[7.6438293, 2.0495448, -2.2808201, 0.26232308,...</td>\n",
       "      <td>[12.530376, 8.677294, 7.3228106, 4.123108, 2.8...</td>\n",
       "    </tr>\n",
       "    <tr>\n",
       "      <th>1</th>\n",
       "      <td>10210049</td>\n",
       "      <td>./assets/audio_train/10210049_worker.wav</td>\n",
       "      <td>0.519501</td>\n",
       "      <td>worker</td>\n",
       "      <td>[-258.90433, 171.56952, 5.8856416, 34.963104, ...</td>\n",
       "      <td>[62.08626, 30.751865, 25.998608, 21.70042, 16....</td>\n",
       "      <td>[-4.5402517, -3.4924977, -0.37305757, -0.64102...</td>\n",
       "      <td>[10.262612, 6.768381, 4.2443323, 5.0021243, 2....</td>\n",
       "    </tr>\n",
       "    <tr>\n",
       "      <th>2</th>\n",
       "      <td>10210051</td>\n",
       "      <td>./assets/audio_train/10210051_water.wav</td>\n",
       "      <td>0.395828</td>\n",
       "      <td>water</td>\n",
       "      <td>[-235.71283, 148.99991, 7.0049567, 34.56189, -...</td>\n",
       "      <td>[87.36377, 34.059155, 39.78111, 24.895144, 33....</td>\n",
       "      <td>[3.2932093, -4.0986385, -3.06783, 1.4283211, 2...</td>\n",
       "      <td>[11.529502, 5.509337, 4.7498536, 5.5789504, 6....</td>\n",
       "    </tr>\n",
       "  </tbody>\n",
       "</table>\n",
       "</div>"
      ],
      "text/plain": [
       "         id                                  filepath  duration class_label  \\\n",
       "0  10210049  ./assets/audio_train/10210049_father.wav  0.457959      father   \n",
       "1  10210049  ./assets/audio_train/10210049_worker.wav  0.519501      worker   \n",
       "2  10210051   ./assets/audio_train/10210051_water.wav  0.395828       water   \n",
       "\n",
       "                                          mfccs_mean  \\\n",
       "0  [-196.65865, 126.91008, -32.876976, 25.416832,...   \n",
       "1  [-258.90433, 171.56952, 5.8856416, 34.963104, ...   \n",
       "2  [-235.71283, 148.99991, 7.0049567, 34.56189, -...   \n",
       "\n",
       "                                           mfccs_std  \\\n",
       "0  [58.43318, 37.41045, 29.724075, 16.595234, 13....   \n",
       "1  [62.08626, 30.751865, 25.998608, 21.70042, 16....   \n",
       "2  [87.36377, 34.059155, 39.78111, 24.895144, 33....   \n",
       "\n",
       "                                    mfccs_delta_mean  \\\n",
       "0  [7.6438293, 2.0495448, -2.2808201, 0.26232308,...   \n",
       "1  [-4.5402517, -3.4924977, -0.37305757, -0.64102...   \n",
       "2  [3.2932093, -4.0986385, -3.06783, 1.4283211, 2...   \n",
       "\n",
       "                                     mfccs_delta_std  \n",
       "0  [12.530376, 8.677294, 7.3228106, 4.123108, 2.8...  \n",
       "1  [10.262612, 6.768381, 4.2443323, 5.0021243, 2....  \n",
       "2  [11.529502, 5.509337, 4.7498536, 5.5789504, 6....  "
      ]
     },
     "execution_count": 7,
     "metadata": {},
     "output_type": "execute_result"
    }
   ],
   "source": [
    "# check if done correctly\n",
    "train_df.head(3)"
   ]
  },
  {
   "cell_type": "markdown",
   "metadata": {},
   "source": [
    "**Create a Combined Feature Column**\n",
    "\n",
    "Another feature that can be created is the combination of all the 4 features, giving us an array shape of (160, 1). This would give each training data more features to distinguish itself."
   ]
  },
  {
   "cell_type": "code",
   "execution_count": 8,
   "metadata": {},
   "outputs": [],
   "source": [
    "# create a new feature with a dimension of 160, stacking the mean and standard deviation of \n",
    "# the mfcc and its delta.\n",
    "\n",
    "combined_features = []\n",
    "for n in range(0,len(train_df)):\n",
    "    combined_features.append(np.concatenate((train_df['mfccs_mean'][n],\n",
    "                                             train_df['mfccs_std'][n], \n",
    "                                             train_df['mfccs_delta_mean'][n],\n",
    "                                             train_df['mfccs_delta_std'][n])))\n",
    "    \n",
    "train_df['combined_mfccs'] = combined_features\n",
    "# this will give us an array of (160, 1)"
   ]
  },
  {
   "cell_type": "code",
   "execution_count": 9,
   "metadata": {},
   "outputs": [
    {
     "data": {
      "text/html": [
       "<div>\n",
       "<style scoped>\n",
       "    .dataframe tbody tr th:only-of-type {\n",
       "        vertical-align: middle;\n",
       "    }\n",
       "\n",
       "    .dataframe tbody tr th {\n",
       "        vertical-align: top;\n",
       "    }\n",
       "\n",
       "    .dataframe thead th {\n",
       "        text-align: right;\n",
       "    }\n",
       "</style>\n",
       "<table border=\"1\" class=\"dataframe\">\n",
       "  <thead>\n",
       "    <tr style=\"text-align: right;\">\n",
       "      <th></th>\n",
       "      <th>id</th>\n",
       "      <th>filepath</th>\n",
       "      <th>duration</th>\n",
       "      <th>class_label</th>\n",
       "      <th>mfccs_mean</th>\n",
       "      <th>mfccs_std</th>\n",
       "      <th>mfccs_delta_mean</th>\n",
       "      <th>mfccs_delta_std</th>\n",
       "      <th>combined_mfccs</th>\n",
       "    </tr>\n",
       "  </thead>\n",
       "  <tbody>\n",
       "    <tr>\n",
       "      <th>0</th>\n",
       "      <td>10210049</td>\n",
       "      <td>./assets/audio_train/10210049_father.wav</td>\n",
       "      <td>0.457959</td>\n",
       "      <td>father</td>\n",
       "      <td>[-196.65865, 126.91008, -32.876976, 25.416832,...</td>\n",
       "      <td>[58.43318, 37.41045, 29.724075, 16.595234, 13....</td>\n",
       "      <td>[7.6438293, 2.0495448, -2.2808201, 0.26232308,...</td>\n",
       "      <td>[12.530376, 8.677294, 7.3228106, 4.123108, 2.8...</td>\n",
       "      <td>[-196.65865, 126.91008, -32.876976, 25.416832,...</td>\n",
       "    </tr>\n",
       "    <tr>\n",
       "      <th>1</th>\n",
       "      <td>10210049</td>\n",
       "      <td>./assets/audio_train/10210049_worker.wav</td>\n",
       "      <td>0.519501</td>\n",
       "      <td>worker</td>\n",
       "      <td>[-258.90433, 171.56952, 5.8856416, 34.963104, ...</td>\n",
       "      <td>[62.08626, 30.751865, 25.998608, 21.70042, 16....</td>\n",
       "      <td>[-4.5402517, -3.4924977, -0.37305757, -0.64102...</td>\n",
       "      <td>[10.262612, 6.768381, 4.2443323, 5.0021243, 2....</td>\n",
       "      <td>[-258.90433, 171.56952, 5.8856416, 34.963104, ...</td>\n",
       "    </tr>\n",
       "    <tr>\n",
       "      <th>2</th>\n",
       "      <td>10210051</td>\n",
       "      <td>./assets/audio_train/10210051_water.wav</td>\n",
       "      <td>0.395828</td>\n",
       "      <td>water</td>\n",
       "      <td>[-235.71283, 148.99991, 7.0049567, 34.56189, -...</td>\n",
       "      <td>[87.36377, 34.059155, 39.78111, 24.895144, 33....</td>\n",
       "      <td>[3.2932093, -4.0986385, -3.06783, 1.4283211, 2...</td>\n",
       "      <td>[11.529502, 5.509337, 4.7498536, 5.5789504, 6....</td>\n",
       "      <td>[-235.71283, 148.99991, 7.0049567, 34.56189, -...</td>\n",
       "    </tr>\n",
       "  </tbody>\n",
       "</table>\n",
       "</div>"
      ],
      "text/plain": [
       "         id                                  filepath  duration class_label  \\\n",
       "0  10210049  ./assets/audio_train/10210049_father.wav  0.457959      father   \n",
       "1  10210049  ./assets/audio_train/10210049_worker.wav  0.519501      worker   \n",
       "2  10210051   ./assets/audio_train/10210051_water.wav  0.395828       water   \n",
       "\n",
       "                                          mfccs_mean  \\\n",
       "0  [-196.65865, 126.91008, -32.876976, 25.416832,...   \n",
       "1  [-258.90433, 171.56952, 5.8856416, 34.963104, ...   \n",
       "2  [-235.71283, 148.99991, 7.0049567, 34.56189, -...   \n",
       "\n",
       "                                           mfccs_std  \\\n",
       "0  [58.43318, 37.41045, 29.724075, 16.595234, 13....   \n",
       "1  [62.08626, 30.751865, 25.998608, 21.70042, 16....   \n",
       "2  [87.36377, 34.059155, 39.78111, 24.895144, 33....   \n",
       "\n",
       "                                    mfccs_delta_mean  \\\n",
       "0  [7.6438293, 2.0495448, -2.2808201, 0.26232308,...   \n",
       "1  [-4.5402517, -3.4924977, -0.37305757, -0.64102...   \n",
       "2  [3.2932093, -4.0986385, -3.06783, 1.4283211, 2...   \n",
       "\n",
       "                                     mfccs_delta_std  \\\n",
       "0  [12.530376, 8.677294, 7.3228106, 4.123108, 2.8...   \n",
       "1  [10.262612, 6.768381, 4.2443323, 5.0021243, 2....   \n",
       "2  [11.529502, 5.509337, 4.7498536, 5.5789504, 6....   \n",
       "\n",
       "                                      combined_mfccs  \n",
       "0  [-196.65865, 126.91008, -32.876976, 25.416832,...  \n",
       "1  [-258.90433, 171.56952, 5.8856416, 34.963104, ...  \n",
       "2  [-235.71283, 148.99991, 7.0049567, 34.56189, -...  "
      ]
     },
     "execution_count": 9,
     "metadata": {},
     "output_type": "execute_result"
    }
   ],
   "source": [
    "# check if done correctly\n",
    "train_df.head(3)"
   ]
  },
  {
   "cell_type": "markdown",
   "metadata": {},
   "source": [
    "### Preprocessing for Recurrent Neural Network (RNN)\n",
    "\n",
    "The RNN takes in sequential data and this would mean that we do not have to compress the array like how it was done for FNN. In order to ensure they have the same shape, it will also be padded with zeroes. During the fitting, the zeroes will be masked so that the model knows the padding should be disregarded.\n",
    "\n",
    "**Extract Raw MFCC Array and Raw MFCC Delta & Delta2 Array**\n",
    "\n",
    "The function below also needs to transpose the array because for sequential data, the input shape should be (ts, n_mfcc) where `ts` represents timesteps while `n_mfcc` represents number of MFCC coefficient. For our case, `ts` will be padded to the maximum timestep present in the entire dataset while the `n_mfcc` will be 40."
   ]
  },
  {
   "cell_type": "code",
   "execution_count": 10,
   "metadata": {},
   "outputs": [],
   "source": [
    "def get_mfcc(file, n_mfcc=40):\n",
    "    \"\"\"\n",
    "    Gets the MFCC array, and transposes it.\n",
    "    \"\"\"\n",
    "    audio, sr = librosa.load(file) \n",
    "    mfccs = librosa.feature.mfcc(y=audio, sr=sr, n_mfcc=n_mfcc)\n",
    "    return mfccs.T"
   ]
  },
  {
   "cell_type": "code",
   "execution_count": 11,
   "metadata": {},
   "outputs": [],
   "source": [
    "def get_mfcc_combined(file, n_mfcc=40):\n",
    "    \"\"\"\n",
    "    extracts the mfcc, the delta and delta2 across timestep and return a transposed concatenation.\n",
    "    \"\"\"\n",
    "    \n",
    "    audio, sr = librosa.load(file) \n",
    "    mfccs = librosa.feature.mfcc(y=audio, sr=sr, n_mfcc=n_mfcc)\n",
    "    delta = librosa.feature.delta(mfccs)\n",
    "    delta2 = librosa.feature.delta(mfccs, order = 2)\n",
    "    combined = np.concatenate((mfccs, delta, delta2))\n",
    "    return combined.T"
   ]
  },
  {
   "cell_type": "code",
   "execution_count": 12,
   "metadata": {},
   "outputs": [],
   "source": [
    "# apply function to all files\n",
    "mfcc_all = train_df['filepath'].map(get_mfcc)\n",
    "\n",
    "# padding\n",
    "mfcc_all = pad_sequences(mfcc_all, padding='post')\n",
    "\n",
    "# add into the dataframe\n",
    "train_df['mfcc_pad'] = mfcc_all.tolist()"
   ]
  },
  {
   "cell_type": "code",
   "execution_count": 13,
   "metadata": {},
   "outputs": [],
   "source": [
    "# apply function to all files\n",
    "mfcc_combined = train_df['filepath'].map(get_mfcc_combined)\n",
    "\n",
    "# padding\n",
    "mfcc_combined = pad_sequences(mfcc_combined, padding='post')\n",
    "\n",
    "# add into dataframe\n",
    "train_df['mfcc_pad_combined'] = mfcc_combined.tolist()"
   ]
  },
  {
   "cell_type": "code",
   "execution_count": 14,
   "metadata": {},
   "outputs": [
    {
     "data": {
      "text/html": [
       "<div>\n",
       "<style scoped>\n",
       "    .dataframe tbody tr th:only-of-type {\n",
       "        vertical-align: middle;\n",
       "    }\n",
       "\n",
       "    .dataframe tbody tr th {\n",
       "        vertical-align: top;\n",
       "    }\n",
       "\n",
       "    .dataframe thead th {\n",
       "        text-align: right;\n",
       "    }\n",
       "</style>\n",
       "<table border=\"1\" class=\"dataframe\">\n",
       "  <thead>\n",
       "    <tr style=\"text-align: right;\">\n",
       "      <th></th>\n",
       "      <th>id</th>\n",
       "      <th>filepath</th>\n",
       "      <th>duration</th>\n",
       "      <th>class_label</th>\n",
       "      <th>mfccs_mean</th>\n",
       "      <th>mfccs_std</th>\n",
       "      <th>mfccs_delta_mean</th>\n",
       "      <th>mfccs_delta_std</th>\n",
       "      <th>combined_mfccs</th>\n",
       "      <th>mfcc_pad</th>\n",
       "      <th>mfcc_pad_combined</th>\n",
       "    </tr>\n",
       "  </thead>\n",
       "  <tbody>\n",
       "    <tr>\n",
       "      <th>0</th>\n",
       "      <td>10210049</td>\n",
       "      <td>./assets/audio_train/10210049_father.wav</td>\n",
       "      <td>0.457959</td>\n",
       "      <td>father</td>\n",
       "      <td>[-196.65865, 126.91008, -32.876976, 25.416832,...</td>\n",
       "      <td>[58.43318, 37.41045, 29.724075, 16.595234, 13....</td>\n",
       "      <td>[7.6438293, 2.0495448, -2.2808201, 0.26232308,...</td>\n",
       "      <td>[12.530376, 8.677294, 7.3228106, 4.123108, 2.8...</td>\n",
       "      <td>[-196.65865, 126.91008, -32.876976, 25.416832,...</td>\n",
       "      <td>[[-292, 70, -6, 39, -23, 24, -24, 18, -19, 0, ...</td>\n",
       "      <td>[[-292, 70, -6, 39, -23, 24, -24, 18, -19, 0, ...</td>\n",
       "    </tr>\n",
       "    <tr>\n",
       "      <th>1</th>\n",
       "      <td>10210049</td>\n",
       "      <td>./assets/audio_train/10210049_worker.wav</td>\n",
       "      <td>0.519501</td>\n",
       "      <td>worker</td>\n",
       "      <td>[-258.90433, 171.56952, 5.8856416, 34.963104, ...</td>\n",
       "      <td>[62.08626, 30.751865, 25.998608, 21.70042, 16....</td>\n",
       "      <td>[-4.5402517, -3.4924977, -0.37305757, -0.64102...</td>\n",
       "      <td>[10.262612, 6.768381, 4.2443323, 5.0021243, 2....</td>\n",
       "      <td>[-258.90433, 171.56952, 5.8856416, 34.963104, ...</td>\n",
       "      <td>[[-362, 188, 46, -1, -12, -11, 0, -10, -19, -6...</td>\n",
       "      <td>[[-362, 188, 46, -1, -12, -11, 0, -10, -19, -6...</td>\n",
       "    </tr>\n",
       "    <tr>\n",
       "      <th>2</th>\n",
       "      <td>10210051</td>\n",
       "      <td>./assets/audio_train/10210051_water.wav</td>\n",
       "      <td>0.395828</td>\n",
       "      <td>water</td>\n",
       "      <td>[-235.71283, 148.99991, 7.0049567, 34.56189, -...</td>\n",
       "      <td>[87.36377, 34.059155, 39.78111, 24.895144, 33....</td>\n",
       "      <td>[3.2932093, -4.0986385, -3.06783, 1.4283211, 2...</td>\n",
       "      <td>[11.529502, 5.509337, 4.7498536, 5.5789504, 6....</td>\n",
       "      <td>[-235.71283, 148.99991, 7.0049567, 34.56189, -...</td>\n",
       "      <td>[[-316, 165, 42, 39, 0, -1, -9, -2, -12, -20, ...</td>\n",
       "      <td>[[-316, 165, 42, 39, 0, -1, -9, -2, -12, -20, ...</td>\n",
       "    </tr>\n",
       "    <tr>\n",
       "      <th>3</th>\n",
       "      <td>10210062</td>\n",
       "      <td>./assets/audio_train/10210062_flowers.wav</td>\n",
       "      <td>0.399229</td>\n",
       "      <td>flowers</td>\n",
       "      <td>[-233.44008, 127.30211, 11.549065, 42.032394, ...</td>\n",
       "      <td>[44.99465, 60.81429, 18.286491, 29.394094, 21....</td>\n",
       "      <td>[-0.2987371, -4.79065, 2.8436575, 3.4281251, -...</td>\n",
       "      <td>[9.446445, 16.08716, 2.7725258, 6.156691, 4.67...</td>\n",
       "      <td>[-233.44008, 127.30211, 11.549065, 42.032394, ...</td>\n",
       "      <td>[[-300, 81, 2, 22, -39, 18, -24, 18, -5, 4, 11...</td>\n",
       "      <td>[[-300, 81, 2, 22, -39, 18, -24, 18, -5, 4, 11...</td>\n",
       "    </tr>\n",
       "    <tr>\n",
       "      <th>4</th>\n",
       "      <td>10210066</td>\n",
       "      <td>./assets/audio_train/10210066_apples.wav</td>\n",
       "      <td>0.524354</td>\n",
       "      <td>apples</td>\n",
       "      <td>[-242.86156, 123.218254, -12.731119, 54.86693,...</td>\n",
       "      <td>[71.841354, 71.481544, 38.154087, 27.27552, 38...</td>\n",
       "      <td>[-5.2192245, -10.501004, 5.264592, 1.5651596, ...</td>\n",
       "      <td>[14.663708, 11.573661, 4.3268127, 5.169234, 5....</td>\n",
       "      <td>[-242.86156, 123.218254, -12.731119, 54.86693,...</td>\n",
       "      <td>[[-285, 126, -45, 51, -1, -55, -29, -12, -6, -...</td>\n",
       "      <td>[[-285, 126, -45, 51, -1, -55, -29, -12, -6, -...</td>\n",
       "    </tr>\n",
       "  </tbody>\n",
       "</table>\n",
       "</div>"
      ],
      "text/plain": [
       "         id                                   filepath  duration class_label  \\\n",
       "0  10210049   ./assets/audio_train/10210049_father.wav  0.457959      father   \n",
       "1  10210049   ./assets/audio_train/10210049_worker.wav  0.519501      worker   \n",
       "2  10210051    ./assets/audio_train/10210051_water.wav  0.395828       water   \n",
       "3  10210062  ./assets/audio_train/10210062_flowers.wav  0.399229     flowers   \n",
       "4  10210066   ./assets/audio_train/10210066_apples.wav  0.524354      apples   \n",
       "\n",
       "                                          mfccs_mean  \\\n",
       "0  [-196.65865, 126.91008, -32.876976, 25.416832,...   \n",
       "1  [-258.90433, 171.56952, 5.8856416, 34.963104, ...   \n",
       "2  [-235.71283, 148.99991, 7.0049567, 34.56189, -...   \n",
       "3  [-233.44008, 127.30211, 11.549065, 42.032394, ...   \n",
       "4  [-242.86156, 123.218254, -12.731119, 54.86693,...   \n",
       "\n",
       "                                           mfccs_std  \\\n",
       "0  [58.43318, 37.41045, 29.724075, 16.595234, 13....   \n",
       "1  [62.08626, 30.751865, 25.998608, 21.70042, 16....   \n",
       "2  [87.36377, 34.059155, 39.78111, 24.895144, 33....   \n",
       "3  [44.99465, 60.81429, 18.286491, 29.394094, 21....   \n",
       "4  [71.841354, 71.481544, 38.154087, 27.27552, 38...   \n",
       "\n",
       "                                    mfccs_delta_mean  \\\n",
       "0  [7.6438293, 2.0495448, -2.2808201, 0.26232308,...   \n",
       "1  [-4.5402517, -3.4924977, -0.37305757, -0.64102...   \n",
       "2  [3.2932093, -4.0986385, -3.06783, 1.4283211, 2...   \n",
       "3  [-0.2987371, -4.79065, 2.8436575, 3.4281251, -...   \n",
       "4  [-5.2192245, -10.501004, 5.264592, 1.5651596, ...   \n",
       "\n",
       "                                     mfccs_delta_std  \\\n",
       "0  [12.530376, 8.677294, 7.3228106, 4.123108, 2.8...   \n",
       "1  [10.262612, 6.768381, 4.2443323, 5.0021243, 2....   \n",
       "2  [11.529502, 5.509337, 4.7498536, 5.5789504, 6....   \n",
       "3  [9.446445, 16.08716, 2.7725258, 6.156691, 4.67...   \n",
       "4  [14.663708, 11.573661, 4.3268127, 5.169234, 5....   \n",
       "\n",
       "                                      combined_mfccs  \\\n",
       "0  [-196.65865, 126.91008, -32.876976, 25.416832,...   \n",
       "1  [-258.90433, 171.56952, 5.8856416, 34.963104, ...   \n",
       "2  [-235.71283, 148.99991, 7.0049567, 34.56189, -...   \n",
       "3  [-233.44008, 127.30211, 11.549065, 42.032394, ...   \n",
       "4  [-242.86156, 123.218254, -12.731119, 54.86693,...   \n",
       "\n",
       "                                            mfcc_pad  \\\n",
       "0  [[-292, 70, -6, 39, -23, 24, -24, 18, -19, 0, ...   \n",
       "1  [[-362, 188, 46, -1, -12, -11, 0, -10, -19, -6...   \n",
       "2  [[-316, 165, 42, 39, 0, -1, -9, -2, -12, -20, ...   \n",
       "3  [[-300, 81, 2, 22, -39, 18, -24, 18, -5, 4, 11...   \n",
       "4  [[-285, 126, -45, 51, -1, -55, -29, -12, -6, -...   \n",
       "\n",
       "                                   mfcc_pad_combined  \n",
       "0  [[-292, 70, -6, 39, -23, 24, -24, 18, -19, 0, ...  \n",
       "1  [[-362, 188, 46, -1, -12, -11, 0, -10, -19, -6...  \n",
       "2  [[-316, 165, 42, 39, 0, -1, -9, -2, -12, -20, ...  \n",
       "3  [[-300, 81, 2, 22, -39, 18, -24, 18, -5, 4, 11...  \n",
       "4  [[-285, 126, -45, 51, -1, -55, -29, -12, -6, -...  "
      ]
     },
     "execution_count": 14,
     "metadata": {},
     "output_type": "execute_result"
    }
   ],
   "source": [
    "# check if all correctly done\n",
    "\n",
    "train_df.head()"
   ]
  },
  {
   "cell_type": "markdown",
   "metadata": {},
   "source": [
    "**Preprocessing For CNN**\n",
    "\n",
    "From the EDA, it seems possible to do a classification based on Spectrogram. This section does two forms of preprocessing. The first type transforms the audio file into plotting data for the mel-spectrogram. This plotting data will also be used for one CNN model.\n",
    "\n",
    "The second type transforms the audio file into a mel-spectrogram and then saving it as a PNG file. It will be then be subsequently used to train another CNN model."
   ]
  },
  {
   "cell_type": "code",
   "execution_count": 15,
   "metadata": {},
   "outputs": [],
   "source": [
    "def get_mel(filename):\n",
    "    \"\"\"\n",
    "    This function gives the melspectrogram array and padded to a fixed dimension.\n",
    "    \"\"\"\n",
    "    audio, sr = librosa.load(filename)\n",
    "    mel= librosa.feature.melspectrogram(audio, sr=sr, n_mels=20)\n",
    "    mel = librosa.util.fix_length(mel,45)\n",
    "    return mel"
   ]
  },
  {
   "cell_type": "code",
   "execution_count": 16,
   "metadata": {},
   "outputs": [],
   "source": [
    "# apply the mel-spectrogram function to all the files\n",
    "\n",
    "train_df['mel'] = train_df['filepath'].map(get_mel)"
   ]
  },
  {
   "cell_type": "code",
   "execution_count": 17,
   "metadata": {},
   "outputs": [
    {
     "data": {
      "text/html": [
       "<div>\n",
       "<style scoped>\n",
       "    .dataframe tbody tr th:only-of-type {\n",
       "        vertical-align: middle;\n",
       "    }\n",
       "\n",
       "    .dataframe tbody tr th {\n",
       "        vertical-align: top;\n",
       "    }\n",
       "\n",
       "    .dataframe thead th {\n",
       "        text-align: right;\n",
       "    }\n",
       "</style>\n",
       "<table border=\"1\" class=\"dataframe\">\n",
       "  <thead>\n",
       "    <tr style=\"text-align: right;\">\n",
       "      <th></th>\n",
       "      <th>id</th>\n",
       "      <th>filepath</th>\n",
       "      <th>duration</th>\n",
       "      <th>class_label</th>\n",
       "      <th>mfccs_mean</th>\n",
       "      <th>mfccs_std</th>\n",
       "      <th>mfccs_delta_mean</th>\n",
       "      <th>mfccs_delta_std</th>\n",
       "      <th>combined_mfccs</th>\n",
       "      <th>mfcc_pad</th>\n",
       "      <th>mfcc_pad_combined</th>\n",
       "      <th>mel</th>\n",
       "    </tr>\n",
       "  </thead>\n",
       "  <tbody>\n",
       "    <tr>\n",
       "      <th>0</th>\n",
       "      <td>10210049</td>\n",
       "      <td>./assets/audio_train/10210049_father.wav</td>\n",
       "      <td>0.457959</td>\n",
       "      <td>father</td>\n",
       "      <td>[-196.65865, 126.91008, -32.876976, 25.416832,...</td>\n",
       "      <td>[58.43318, 37.41045, 29.724075, 16.595234, 13....</td>\n",
       "      <td>[7.6438293, 2.0495448, -2.2808201, 0.26232308,...</td>\n",
       "      <td>[12.530376, 8.677294, 7.3228106, 4.123108, 2.8...</td>\n",
       "      <td>[-196.65865, 126.91008, -32.876976, 25.416832,...</td>\n",
       "      <td>[[-292, 70, -6, 39, -23, 24, -24, 18, -19, 0, ...</td>\n",
       "      <td>[[-292, 70, -6, 39, -23, 24, -24, 18, -19, 0, ...</td>\n",
       "      <td>[[0.09585485, 0.03155937, 0.00384897, 0.377477...</td>\n",
       "    </tr>\n",
       "    <tr>\n",
       "      <th>1</th>\n",
       "      <td>10210049</td>\n",
       "      <td>./assets/audio_train/10210049_worker.wav</td>\n",
       "      <td>0.519501</td>\n",
       "      <td>worker</td>\n",
       "      <td>[-258.90433, 171.56952, 5.8856416, 34.963104, ...</td>\n",
       "      <td>[62.08626, 30.751865, 25.998608, 21.70042, 16....</td>\n",
       "      <td>[-4.5402517, -3.4924977, -0.37305757, -0.64102...</td>\n",
       "      <td>[10.262612, 6.768381, 4.2443323, 5.0021243, 2....</td>\n",
       "      <td>[-258.90433, 171.56952, 5.8856416, 34.963104, ...</td>\n",
       "      <td>[[-362, 188, 46, -1, -12, -11, 0, -10, -19, -6...</td>\n",
       "      <td>[[-362, 188, 46, -1, -12, -11, 0, -10, -19, -6...</td>\n",
       "      <td>[[1.5918645, 21.006813, 87.20263, 143.3757, 15...</td>\n",
       "    </tr>\n",
       "    <tr>\n",
       "      <th>2</th>\n",
       "      <td>10210051</td>\n",
       "      <td>./assets/audio_train/10210051_water.wav</td>\n",
       "      <td>0.395828</td>\n",
       "      <td>water</td>\n",
       "      <td>[-235.71283, 148.99991, 7.0049567, 34.56189, -...</td>\n",
       "      <td>[87.36377, 34.059155, 39.78111, 24.895144, 33....</td>\n",
       "      <td>[3.2932093, -4.0986385, -3.06783, 1.4283211, 2...</td>\n",
       "      <td>[11.529502, 5.509337, 4.7498536, 5.5789504, 6....</td>\n",
       "      <td>[-235.71283, 148.99991, 7.0049567, 34.56189, -...</td>\n",
       "      <td>[[-316, 165, 42, 39, 0, -1, -9, -2, -12, -20, ...</td>\n",
       "      <td>[[-316, 165, 42, 39, 0, -1, -9, -2, -12, -20, ...</td>\n",
       "      <td>[[3.2332034, 8.094086, 16.798113, 23.049984, 3...</td>\n",
       "    </tr>\n",
       "  </tbody>\n",
       "</table>\n",
       "</div>"
      ],
      "text/plain": [
       "         id                                  filepath  duration class_label  \\\n",
       "0  10210049  ./assets/audio_train/10210049_father.wav  0.457959      father   \n",
       "1  10210049  ./assets/audio_train/10210049_worker.wav  0.519501      worker   \n",
       "2  10210051   ./assets/audio_train/10210051_water.wav  0.395828       water   \n",
       "\n",
       "                                          mfccs_mean  \\\n",
       "0  [-196.65865, 126.91008, -32.876976, 25.416832,...   \n",
       "1  [-258.90433, 171.56952, 5.8856416, 34.963104, ...   \n",
       "2  [-235.71283, 148.99991, 7.0049567, 34.56189, -...   \n",
       "\n",
       "                                           mfccs_std  \\\n",
       "0  [58.43318, 37.41045, 29.724075, 16.595234, 13....   \n",
       "1  [62.08626, 30.751865, 25.998608, 21.70042, 16....   \n",
       "2  [87.36377, 34.059155, 39.78111, 24.895144, 33....   \n",
       "\n",
       "                                    mfccs_delta_mean  \\\n",
       "0  [7.6438293, 2.0495448, -2.2808201, 0.26232308,...   \n",
       "1  [-4.5402517, -3.4924977, -0.37305757, -0.64102...   \n",
       "2  [3.2932093, -4.0986385, -3.06783, 1.4283211, 2...   \n",
       "\n",
       "                                     mfccs_delta_std  \\\n",
       "0  [12.530376, 8.677294, 7.3228106, 4.123108, 2.8...   \n",
       "1  [10.262612, 6.768381, 4.2443323, 5.0021243, 2....   \n",
       "2  [11.529502, 5.509337, 4.7498536, 5.5789504, 6....   \n",
       "\n",
       "                                      combined_mfccs  \\\n",
       "0  [-196.65865, 126.91008, -32.876976, 25.416832,...   \n",
       "1  [-258.90433, 171.56952, 5.8856416, 34.963104, ...   \n",
       "2  [-235.71283, 148.99991, 7.0049567, 34.56189, -...   \n",
       "\n",
       "                                            mfcc_pad  \\\n",
       "0  [[-292, 70, -6, 39, -23, 24, -24, 18, -19, 0, ...   \n",
       "1  [[-362, 188, 46, -1, -12, -11, 0, -10, -19, -6...   \n",
       "2  [[-316, 165, 42, 39, 0, -1, -9, -2, -12, -20, ...   \n",
       "\n",
       "                                   mfcc_pad_combined  \\\n",
       "0  [[-292, 70, -6, 39, -23, 24, -24, 18, -19, 0, ...   \n",
       "1  [[-362, 188, 46, -1, -12, -11, 0, -10, -19, -6...   \n",
       "2  [[-316, 165, 42, 39, 0, -1, -9, -2, -12, -20, ...   \n",
       "\n",
       "                                                 mel  \n",
       "0  [[0.09585485, 0.03155937, 0.00384897, 0.377477...  \n",
       "1  [[1.5918645, 21.006813, 87.20263, 143.3757, 15...  \n",
       "2  [[3.2332034, 8.094086, 16.798113, 23.049984, 3...  "
      ]
     },
     "execution_count": 17,
     "metadata": {},
     "output_type": "execute_result"
    }
   ],
   "source": [
    "# check if successful\n",
    "train_df.head(3)"
   ]
  },
  {
   "cell_type": "markdown",
   "metadata": {},
   "source": [
    "**Save Spectrograms as PNG**"
   ]
  },
  {
   "cell_type": "code",
   "execution_count": 18,
   "metadata": {
    "scrolled": true
   },
   "outputs": [],
   "source": [
    "# generate spectrogram for each file\n",
    "\n",
    "# for each file\n",
    "for n, f in enumerate(train_df['filepath']):\n",
    "    \n",
    "    # get unique id\n",
    "    audio_id = train_df['id'][n]\n",
    "    \n",
    "    # get label\n",
    "    label = train_df['class_label'][n]\n",
    "    \n",
    "    # load file\n",
    "    audio, sr = librosa.load(f)\n",
    "    \n",
    "    # plot spectrogram\n",
    "    plt.figure(figsize=[2,2])\n",
    "    mel_spec = librosa.feature.melspectrogram(audio, sr=sr, n_mels=20)\n",
    "    log_mel_spec = librosa.power_to_db(mel_spec)\n",
    "    librosa.display.specshow(log_mel_spec)\n",
    "    \n",
    "    # save and close, slightly padded\n",
    "    plt.savefig(f\"./assets/spec_train/{label}_{audio_id}.png\", dpi=500, bbox_inches='tight',pad_inches=0.1)\n",
    "    plt.close()\n"
   ]
  },
  {
   "cell_type": "code",
   "execution_count": 19,
   "metadata": {},
   "outputs": [],
   "source": [
    "# create training data\n",
    "\n",
    "img_size = 300\n",
    "\n",
    "# target folder\n",
    "folder = \"./assets/spec_train/\"\n",
    "\n",
    "# create empty list for spectrogram data and label\n",
    "train_data_spec = []\n",
    "train_label_spec = []\n",
    "\n",
    "# get image data and label\n",
    "for img in os.listdir(folder):\n",
    "    label, filename = img.split('_')\n",
    "    path = os.path.join(folder, img)\n",
    "    im = Image.open(path)\n",
    "    im = im.convert('RGB')\n",
    "    im = im.resize((img_size, img_size), Image.ANTIALIAS)\n",
    "    train_data_spec.append(np.array(im))\n",
    "    train_label_spec.append(label)\n",
    "\n",
    "\n",
    "# normalise the data\n",
    "train_data_spec = np.array(train_data_spec)/255"
   ]
  },
  {
   "cell_type": "code",
   "execution_count": 20,
   "metadata": {},
   "outputs": [],
   "source": [
    "# create the y label for cnn\n",
    "le_cnn = LabelEncoder()\n",
    "y_cnn = to_categorical(le_cnn.fit_transform(train_label_spec))\n",
    "y_cnn = np.array(y_cnn)"
   ]
  },
  {
   "cell_type": "markdown",
   "metadata": {},
   "source": [
    "## 4. Modelling\n",
    "\n",
    "The types of model which will be built are:\n",
    "\n",
    "1. Feedforward Neural Network (FNN)\n",
    "2. Convolutional Neural Network (CNN)\n",
    "3. Recurrent Neural Network\n",
    "    - Long-Short Term Memory (LSTM)\n",
    "    - Gated Recurrent Units (GRUC)"
   ]
  },
  {
   "cell_type": "code",
   "execution_count": 21,
   "metadata": {},
   "outputs": [],
   "source": [
    "# set random seed\n",
    "np.random.seed(42)\n",
    "\n",
    "from tensorflow import random\n",
    "random.set_seed(42)"
   ]
  },
  {
   "cell_type": "markdown",
   "metadata": {},
   "source": [
    "**Model 1: Feedforward Neural Network (baseline model)**\n",
    "\n",
    "- Features: MFCC Mean\n",
    "- Input Shape: (40,1)\n",
    "\n",
    "The most basic neural network is trained based on the MFCC mean of each coefficient across the whole time frame, turning it all into a single dimension, most suitable for a vanilla neural network.\n",
    "\n",
    "The accuracy will also be used as the baseline score."
   ]
  },
  {
   "cell_type": "code",
   "execution_count": 22,
   "metadata": {},
   "outputs": [],
   "source": [
    "X = train_df['mfccs_mean']"
   ]
  },
  {
   "cell_type": "code",
   "execution_count": 23,
   "metadata": {},
   "outputs": [],
   "source": [
    "X = np.array(X.tolist())"
   ]
  },
  {
   "cell_type": "code",
   "execution_count": 24,
   "metadata": {},
   "outputs": [],
   "source": [
    "# one-hot encoding of the classes\n",
    "le = LabelEncoder()\n",
    "y = to_categorical(le.fit_transform(train_df['class_label'].tolist()))\n",
    "y = np.array(y)"
   ]
  },
  {
   "cell_type": "code",
   "execution_count": 25,
   "metadata": {},
   "outputs": [],
   "source": [
    "X_train_1, X_test_1, y_train, y_test = train_test_split(X, y, test_size = 0.2, random_state = 42, stratify = y)"
   ]
  },
  {
   "cell_type": "code",
   "execution_count": 26,
   "metadata": {},
   "outputs": [],
   "source": [
    "model_1 = Sequential()\n",
    "\n",
    "# two dense layer\n",
    "model_1.add(Dense(64, activation='relu', input_shape=(40,)))\n",
    "model_1.add(Dense(64, activation='relu'))\n",
    "\n",
    "# output layer\n",
    "model_1.add(Dense(5, activation='softmax'))"
   ]
  },
  {
   "cell_type": "code",
   "execution_count": 27,
   "metadata": {},
   "outputs": [],
   "source": [
    "model_1.compile(loss='categorical_crossentropy', optimizer='adam', metrics = ['accuracy'])"
   ]
  },
  {
   "cell_type": "code",
   "execution_count": 28,
   "metadata": {},
   "outputs": [
    {
     "name": "stdout",
     "output_type": "stream",
     "text": [
      "Model: \"sequential_1\"\n",
      "_________________________________________________________________\n",
      "Layer (type)                 Output Shape              Param #   \n",
      "=================================================================\n",
      "dense_1 (Dense)              (None, 64)                2624      \n",
      "_________________________________________________________________\n",
      "dense_2 (Dense)              (None, 64)                4160      \n",
      "_________________________________________________________________\n",
      "dense_3 (Dense)              (None, 5)                 325       \n",
      "=================================================================\n",
      "Total params: 7,109\n",
      "Trainable params: 7,109\n",
      "Non-trainable params: 0\n",
      "_________________________________________________________________\n"
     ]
    }
   ],
   "source": [
    "model_1.summary()"
   ]
  },
  {
   "cell_type": "code",
   "execution_count": 29,
   "metadata": {
    "scrolled": true
   },
   "outputs": [
    {
     "name": "stdout",
     "output_type": "stream",
     "text": [
      "Train on 839 samples, validate on 210 samples\n",
      "Epoch 1/50\n",
      " - 0s - loss: 7.4926 - accuracy: 0.2324 - val_loss: 2.9196 - val_accuracy: 0.3571\n",
      "Epoch 2/50\n",
      " - 0s - loss: 2.3258 - accuracy: 0.4100 - val_loss: 2.0743 - val_accuracy: 0.4524\n",
      "Epoch 3/50\n",
      " - 0s - loss: 1.5496 - accuracy: 0.5411 - val_loss: 1.8274 - val_accuracy: 0.5048\n",
      "Epoch 4/50\n",
      " - 0s - loss: 1.2559 - accuracy: 0.5816 - val_loss: 1.4492 - val_accuracy: 0.5762\n",
      "Epoch 5/50\n",
      " - 0s - loss: 0.9904 - accuracy: 0.6675 - val_loss: 1.4173 - val_accuracy: 0.6048\n",
      "Epoch 6/50\n",
      " - 0s - loss: 0.9053 - accuracy: 0.6722 - val_loss: 1.4595 - val_accuracy: 0.6143\n",
      "Epoch 7/50\n",
      " - 0s - loss: 0.8882 - accuracy: 0.6782 - val_loss: 1.3024 - val_accuracy: 0.6286\n",
      "Epoch 8/50\n",
      " - 0s - loss: 0.7849 - accuracy: 0.7294 - val_loss: 1.2389 - val_accuracy: 0.6143\n",
      "Epoch 9/50\n",
      " - 0s - loss: 0.7304 - accuracy: 0.7426 - val_loss: 1.3268 - val_accuracy: 0.6190\n",
      "Epoch 10/50\n",
      " - 0s - loss: 0.7839 - accuracy: 0.7330 - val_loss: 1.3516 - val_accuracy: 0.6286\n",
      "Epoch 11/50\n",
      " - 0s - loss: 0.6941 - accuracy: 0.7437 - val_loss: 1.3711 - val_accuracy: 0.5905\n",
      "Epoch 12/50\n",
      " - 0s - loss: 0.6271 - accuracy: 0.7735 - val_loss: 1.1902 - val_accuracy: 0.6381\n",
      "Epoch 13/50\n",
      " - 0s - loss: 0.6401 - accuracy: 0.7604 - val_loss: 1.2485 - val_accuracy: 0.6571\n",
      "Epoch 14/50\n",
      " - 0s - loss: 0.6001 - accuracy: 0.7878 - val_loss: 1.1732 - val_accuracy: 0.6429\n",
      "Epoch 15/50\n",
      " - 0s - loss: 0.5439 - accuracy: 0.7878 - val_loss: 1.1726 - val_accuracy: 0.6714\n",
      "Epoch 16/50\n",
      " - 0s - loss: 0.5183 - accuracy: 0.8141 - val_loss: 1.1216 - val_accuracy: 0.6571\n",
      "Epoch 17/50\n",
      " - 0s - loss: 0.4944 - accuracy: 0.8176 - val_loss: 1.2249 - val_accuracy: 0.6571\n",
      "Epoch 18/50\n",
      " - 0s - loss: 0.4916 - accuracy: 0.8331 - val_loss: 1.0905 - val_accuracy: 0.6714\n",
      "Epoch 19/50\n",
      " - 0s - loss: 0.4840 - accuracy: 0.8236 - val_loss: 1.1626 - val_accuracy: 0.6429\n",
      "Epoch 20/50\n",
      " - 0s - loss: 0.4495 - accuracy: 0.8462 - val_loss: 1.2403 - val_accuracy: 0.6667\n",
      "Epoch 21/50\n",
      " - 0s - loss: 0.5041 - accuracy: 0.7890 - val_loss: 1.1624 - val_accuracy: 0.6429\n",
      "Epoch 22/50\n",
      " - 0s - loss: 0.4290 - accuracy: 0.8403 - val_loss: 1.1291 - val_accuracy: 0.6714\n",
      "Epoch 23/50\n",
      " - 0s - loss: 0.4400 - accuracy: 0.8451 - val_loss: 1.1469 - val_accuracy: 0.6667\n",
      "Epoch 24/50\n",
      " - 0s - loss: 0.4130 - accuracy: 0.8486 - val_loss: 1.2758 - val_accuracy: 0.6476\n",
      "Epoch 25/50\n",
      " - 0s - loss: 0.4200 - accuracy: 0.8391 - val_loss: 1.2149 - val_accuracy: 0.6619\n",
      "Epoch 26/50\n",
      " - 0s - loss: 0.4143 - accuracy: 0.8439 - val_loss: 1.2273 - val_accuracy: 0.6286\n",
      "Epoch 27/50\n",
      " - 0s - loss: 0.3941 - accuracy: 0.8558 - val_loss: 1.1315 - val_accuracy: 0.6762\n",
      "Epoch 28/50\n",
      " - 0s - loss: 0.3468 - accuracy: 0.8784 - val_loss: 1.2313 - val_accuracy: 0.6667\n",
      "Epoch 29/50\n",
      " - 0s - loss: 0.3712 - accuracy: 0.8677 - val_loss: 1.1746 - val_accuracy: 0.6619\n",
      "Epoch 30/50\n",
      " - 0s - loss: 0.5042 - accuracy: 0.8129 - val_loss: 1.2503 - val_accuracy: 0.6619\n",
      "Epoch 31/50\n",
      " - 0s - loss: 0.4621 - accuracy: 0.8355 - val_loss: 1.1229 - val_accuracy: 0.6857\n",
      "Epoch 32/50\n",
      " - 0s - loss: 0.3509 - accuracy: 0.8856 - val_loss: 1.2396 - val_accuracy: 0.6667\n",
      "Epoch 33/50\n",
      " - 0s - loss: 0.3992 - accuracy: 0.8546 - val_loss: 1.3292 - val_accuracy: 0.6286\n",
      "Epoch 34/50\n",
      " - 0s - loss: 0.3614 - accuracy: 0.8605 - val_loss: 1.1903 - val_accuracy: 0.6857\n",
      "Epoch 35/50\n",
      " - 0s - loss: 0.4049 - accuracy: 0.8594 - val_loss: 1.3238 - val_accuracy: 0.6571\n",
      "Epoch 36/50\n",
      " - 0s - loss: 0.3081 - accuracy: 0.8927 - val_loss: 1.1820 - val_accuracy: 0.6714\n",
      "Epoch 37/50\n",
      " - 0s - loss: 0.3088 - accuracy: 0.9011 - val_loss: 1.2232 - val_accuracy: 0.6667\n",
      "Epoch 38/50\n",
      " - 0s - loss: 0.3124 - accuracy: 0.8868 - val_loss: 1.2295 - val_accuracy: 0.6857\n",
      "Epoch 39/50\n",
      " - 0s - loss: 0.3090 - accuracy: 0.8951 - val_loss: 1.2664 - val_accuracy: 0.6714\n",
      "Epoch 40/50\n",
      " - 0s - loss: 0.2859 - accuracy: 0.9035 - val_loss: 1.2387 - val_accuracy: 0.6619\n",
      "Epoch 41/50\n",
      " - 0s - loss: 0.2917 - accuracy: 0.8951 - val_loss: 1.2895 - val_accuracy: 0.6714\n",
      "Epoch 42/50\n",
      " - 0s - loss: 0.3120 - accuracy: 0.8939 - val_loss: 1.2095 - val_accuracy: 0.6905\n",
      "Epoch 43/50\n",
      " - 0s - loss: 0.2589 - accuracy: 0.9178 - val_loss: 1.3477 - val_accuracy: 0.6810\n",
      "Epoch 44/50\n",
      " - 0s - loss: 0.2935 - accuracy: 0.8927 - val_loss: 1.3190 - val_accuracy: 0.6571\n",
      "Epoch 45/50\n",
      " - 0s - loss: 0.2555 - accuracy: 0.9106 - val_loss: 1.2752 - val_accuracy: 0.6619\n",
      "Epoch 46/50\n",
      " - 0s - loss: 0.2920 - accuracy: 0.8987 - val_loss: 1.4416 - val_accuracy: 0.6857\n",
      "Epoch 47/50\n",
      " - 0s - loss: 0.2867 - accuracy: 0.8939 - val_loss: 1.2131 - val_accuracy: 0.7048\n",
      "Epoch 48/50\n",
      " - 0s - loss: 0.3067 - accuracy: 0.8880 - val_loss: 1.2695 - val_accuracy: 0.6952\n",
      "Epoch 49/50\n",
      " - 0s - loss: 0.3053 - accuracy: 0.8844 - val_loss: 1.3327 - val_accuracy: 0.6619\n",
      "Epoch 50/50\n",
      " - 0s - loss: 0.2284 - accuracy: 0.9166 - val_loss: 1.2805 - val_accuracy: 0.6952\n",
      "Wall time: 3.32 s\n"
     ]
    }
   ],
   "source": [
    "%%time\n",
    "\n",
    "history = model_1.fit(X_train_1, y_train, validation_data=(X_test_1, y_test), batch_size=32, epochs = 50, verbose=2)"
   ]
  },
  {
   "cell_type": "code",
   "execution_count": 30,
   "metadata": {
    "scrolled": true
   },
   "outputs": [
    {
     "data": {
      "text/plain": [
       "<matplotlib.legend.Legend at 0x179a5792da0>"
      ]
     },
     "execution_count": 30,
     "metadata": {},
     "output_type": "execute_result"
    },
    {
     "data": {
      "image/png": "[encoded data removed]",
      "text/plain": [
       "<Figure size 432x288 with 1 Axes>"
      ]
     },
     "metadata": {
      "needs_background": "light"
     },
     "output_type": "display_data"
    }
   ],
   "source": [
    "plt.plot(history.history['loss'], label = ' Training Loss')\n",
    "plt.plot(history.history['val_loss'], label = ' Test Loss')\n",
    "plt.legend()"
   ]
  },
  {
   "cell_type": "code",
   "execution_count": 31,
   "metadata": {},
   "outputs": [
    {
     "data": {
      "text/plain": [
       "<matplotlib.legend.Legend at 0x179a58358d0>"
      ]
     },
     "execution_count": 31,
     "metadata": {},
     "output_type": "execute_result"
    },
    {
     "data": {
      "image/png": "[encoded data removed]",
      "text/plain": [
       "<Figure size 432x288 with 1 Axes>"
      ]
     },
     "metadata": {
      "needs_background": "light"
     },
     "output_type": "display_data"
    }
   ],
   "source": [
    "plt.plot(history.history['accuracy'], label = ' Training Accuracy')\n",
    "plt.plot(history.history['val_accuracy'], label = ' Test Accuracy')\n",
    "plt.legend()"
   ]
  },
  {
   "cell_type": "code",
   "execution_count": 32,
   "metadata": {
    "scrolled": true
   },
   "outputs": [
    {
     "name": "stdout",
     "output_type": "stream",
     "text": [
      "210/210 [==============================] - 0s 55us/step\n",
      "Model 1 loss: 1.280540502639044\n",
      "Model 1 accuracy: 0.6952381134033203\n"
     ]
    }
   ],
   "source": [
    "# print evaluation score\n",
    "\n",
    "model_1_eval = model_1.evaluate(X_test_1,y_test, verbose=1)\n",
    "model_1_metrics = model_1.metrics_names\n",
    "\n",
    "print(f\"Model 1 {model_1_metrics[0]}: {model_1_eval[0]}\")\n",
    "print(f\"Model 1 {model_1_metrics[1]}: {model_1_eval[1]}\")"
   ]
  },
  {
   "cell_type": "markdown",
   "metadata": {},
   "source": [
    "**Establish Baseline Score**\n",
    "\n",
    "The baseline score is 69.5% accuracy. Subsequent models should outperform this vanilla neural network."
   ]
  },
  {
   "cell_type": "markdown",
   "metadata": {},
   "source": [
    "**Model 2: Feedforward Neural Network**\n",
    "\n",
    "- Features: 40 MFCC x 4 indicators (mean and std, delta mean, delta std)\n",
    "- Input Shape: (160,1) "
   ]
  },
  {
   "cell_type": "code",
   "execution_count": 33,
   "metadata": {},
   "outputs": [],
   "source": [
    "X = np.array(train_df['combined_mfccs'].tolist())"
   ]
  },
  {
   "cell_type": "code",
   "execution_count": 34,
   "metadata": {},
   "outputs": [],
   "source": [
    "X_train_2, X_test_2, y_train, y_test = train_test_split(X, y, test_size = 0.2, random_state = 42, stratify = y)"
   ]
  },
  {
   "cell_type": "code",
   "execution_count": 35,
   "metadata": {},
   "outputs": [],
   "source": [
    "ss = StandardScaler()\n",
    "X_train_2 = ss.fit_transform(X_train_2)\n",
    "X_test_2 = ss.transform(X_test_2)"
   ]
  },
  {
   "cell_type": "code",
   "execution_count": 36,
   "metadata": {},
   "outputs": [],
   "source": [
    "model_2 = Sequential()\n",
    "\n",
    "# two dense layer\n",
    "model_2.add(Dense(64, activation='relu', input_shape=(160,)))\n",
    "model_2.add(Dense(64, activation='relu'))\n",
    "\n",
    "# output layer\n",
    "model_2.add(Dense(5, activation='softmax'))"
   ]
  },
  {
   "cell_type": "code",
   "execution_count": 37,
   "metadata": {},
   "outputs": [],
   "source": [
    "model_2.compile(loss='categorical_crossentropy', optimizer='adam', metrics = ['accuracy'])"
   ]
  },
  {
   "cell_type": "code",
   "execution_count": 38,
   "metadata": {
    "scrolled": true
   },
   "outputs": [
    {
     "name": "stdout",
     "output_type": "stream",
     "text": [
      "Train on 839 samples, validate on 210 samples\n",
      "Epoch 1/50\n",
      " - 0s - loss: 1.3189 - accuracy: 0.4934 - val_loss: 0.9120 - val_accuracy: 0.7619\n",
      "Epoch 2/50\n",
      " - 0s - loss: 0.6208 - accuracy: 0.8546 - val_loss: 0.4686 - val_accuracy: 0.8952\n",
      "Epoch 3/50\n",
      " - 0s - loss: 0.2882 - accuracy: 0.9499 - val_loss: 0.2690 - val_accuracy: 0.9381\n",
      "Epoch 4/50\n",
      " - 0s - loss: 0.1473 - accuracy: 0.9809 - val_loss: 0.1959 - val_accuracy: 0.9476\n",
      "Epoch 5/50\n",
      " - 0s - loss: 0.0850 - accuracy: 0.9893 - val_loss: 0.1587 - val_accuracy: 0.9571\n",
      "Epoch 6/50\n",
      " - 0s - loss: 0.0523 - accuracy: 0.9976 - val_loss: 0.1426 - val_accuracy: 0.9524\n",
      "Epoch 7/50\n",
      " - 0s - loss: 0.0344 - accuracy: 1.0000 - val_loss: 0.1319 - val_accuracy: 0.9524\n",
      "Epoch 8/50\n",
      " - 0s - loss: 0.0255 - accuracy: 1.0000 - val_loss: 0.1253 - val_accuracy: 0.9476\n",
      "Epoch 9/50\n",
      " - 0s - loss: 0.0180 - accuracy: 1.0000 - val_loss: 0.1225 - val_accuracy: 0.9524\n",
      "Epoch 10/50\n",
      " - 0s - loss: 0.0136 - accuracy: 1.0000 - val_loss: 0.1177 - val_accuracy: 0.9524\n",
      "Epoch 11/50\n",
      " - 0s - loss: 0.0109 - accuracy: 1.0000 - val_loss: 0.1158 - val_accuracy: 0.9524\n",
      "Epoch 12/50\n",
      " - 0s - loss: 0.0088 - accuracy: 1.0000 - val_loss: 0.1162 - val_accuracy: 0.9524\n",
      "Epoch 13/50\n",
      " - 0s - loss: 0.0074 - accuracy: 1.0000 - val_loss: 0.1139 - val_accuracy: 0.9524\n",
      "Epoch 14/50\n",
      " - 0s - loss: 0.0062 - accuracy: 1.0000 - val_loss: 0.1145 - val_accuracy: 0.9524\n",
      "Epoch 15/50\n",
      " - 0s - loss: 0.0053 - accuracy: 1.0000 - val_loss: 0.1135 - val_accuracy: 0.9524\n",
      "Epoch 16/50\n",
      " - 0s - loss: 0.0046 - accuracy: 1.0000 - val_loss: 0.1128 - val_accuracy: 0.9524\n",
      "Epoch 17/50\n",
      " - 0s - loss: 0.0041 - accuracy: 1.0000 - val_loss: 0.1123 - val_accuracy: 0.9524\n",
      "Epoch 18/50\n",
      " - 0s - loss: 0.0036 - accuracy: 1.0000 - val_loss: 0.1126 - val_accuracy: 0.9524\n",
      "Epoch 19/50\n",
      " - 0s - loss: 0.0032 - accuracy: 1.0000 - val_loss: 0.1125 - val_accuracy: 0.9476\n",
      "Epoch 20/50\n",
      " - 0s - loss: 0.0028 - accuracy: 1.0000 - val_loss: 0.1124 - val_accuracy: 0.9476\n",
      "Epoch 21/50\n",
      " - 0s - loss: 0.0026 - accuracy: 1.0000 - val_loss: 0.1123 - val_accuracy: 0.9429\n",
      "Epoch 22/50\n",
      " - 0s - loss: 0.0023 - accuracy: 1.0000 - val_loss: 0.1125 - val_accuracy: 0.9429\n",
      "Epoch 23/50\n",
      " - 0s - loss: 0.0021 - accuracy: 1.0000 - val_loss: 0.1123 - val_accuracy: 0.9429\n",
      "Epoch 24/50\n",
      " - 0s - loss: 0.0019 - accuracy: 1.0000 - val_loss: 0.1126 - val_accuracy: 0.9429\n",
      "Epoch 25/50\n",
      " - 0s - loss: 0.0018 - accuracy: 1.0000 - val_loss: 0.1126 - val_accuracy: 0.9429\n",
      "Epoch 26/50\n",
      " - 0s - loss: 0.0016 - accuracy: 1.0000 - val_loss: 0.1124 - val_accuracy: 0.9429\n",
      "Epoch 27/50\n",
      " - 0s - loss: 0.0015 - accuracy: 1.0000 - val_loss: 0.1132 - val_accuracy: 0.9429\n",
      "Epoch 28/50\n",
      " - 0s - loss: 0.0014 - accuracy: 1.0000 - val_loss: 0.1135 - val_accuracy: 0.9429\n",
      "Epoch 29/50\n",
      " - 0s - loss: 0.0013 - accuracy: 1.0000 - val_loss: 0.1135 - val_accuracy: 0.9429\n",
      "Epoch 30/50\n",
      " - 0s - loss: 0.0012 - accuracy: 1.0000 - val_loss: 0.1138 - val_accuracy: 0.9429\n",
      "Epoch 31/50\n",
      " - 0s - loss: 0.0011 - accuracy: 1.0000 - val_loss: 0.1138 - val_accuracy: 0.9429\n",
      "Epoch 32/50\n",
      " - 0s - loss: 0.0010 - accuracy: 1.0000 - val_loss: 0.1139 - val_accuracy: 0.9429\n",
      "Epoch 33/50\n",
      " - 0s - loss: 9.7220e-04 - accuracy: 1.0000 - val_loss: 0.1140 - val_accuracy: 0.9429\n",
      "Epoch 34/50\n",
      " - 0s - loss: 9.1411e-04 - accuracy: 1.0000 - val_loss: 0.1144 - val_accuracy: 0.9429\n",
      "Epoch 35/50\n",
      " - 0s - loss: 8.5798e-04 - accuracy: 1.0000 - val_loss: 0.1148 - val_accuracy: 0.9429\n",
      "Epoch 36/50\n",
      " - 0s - loss: 8.0701e-04 - accuracy: 1.0000 - val_loss: 0.1148 - val_accuracy: 0.9429\n",
      "Epoch 37/50\n",
      " - 0s - loss: 7.6155e-04 - accuracy: 1.0000 - val_loss: 0.1153 - val_accuracy: 0.9429\n",
      "Epoch 38/50\n",
      " - 0s - loss: 7.2006e-04 - accuracy: 1.0000 - val_loss: 0.1149 - val_accuracy: 0.9429\n",
      "Epoch 39/50\n",
      " - 0s - loss: 6.8069e-04 - accuracy: 1.0000 - val_loss: 0.1150 - val_accuracy: 0.9429\n",
      "Epoch 40/50\n",
      " - 0s - loss: 6.4681e-04 - accuracy: 1.0000 - val_loss: 0.1158 - val_accuracy: 0.9429\n",
      "Epoch 41/50\n",
      " - 0s - loss: 6.1233e-04 - accuracy: 1.0000 - val_loss: 0.1158 - val_accuracy: 0.9429\n",
      "Epoch 42/50\n",
      " - 0s - loss: 5.8212e-04 - accuracy: 1.0000 - val_loss: 0.1160 - val_accuracy: 0.9429\n",
      "Epoch 43/50\n",
      " - 0s - loss: 5.5338e-04 - accuracy: 1.0000 - val_loss: 0.1160 - val_accuracy: 0.9429\n",
      "Epoch 44/50\n",
      " - 0s - loss: 5.2789e-04 - accuracy: 1.0000 - val_loss: 0.1163 - val_accuracy: 0.9429\n",
      "Epoch 45/50\n",
      " - 0s - loss: 5.0188e-04 - accuracy: 1.0000 - val_loss: 0.1169 - val_accuracy: 0.9429\n",
      "Epoch 46/50\n",
      " - 0s - loss: 4.7928e-04 - accuracy: 1.0000 - val_loss: 0.1170 - val_accuracy: 0.9429\n",
      "Epoch 47/50\n",
      " - 0s - loss: 4.5711e-04 - accuracy: 1.0000 - val_loss: 0.1169 - val_accuracy: 0.9429\n",
      "Epoch 48/50\n",
      " - 0s - loss: 4.3675e-04 - accuracy: 1.0000 - val_loss: 0.1174 - val_accuracy: 0.9429\n",
      "Epoch 49/50\n",
      " - 0s - loss: 4.1840e-04 - accuracy: 1.0000 - val_loss: 0.1174 - val_accuracy: 0.9429\n",
      "Epoch 50/50\n",
      " - 0s - loss: 3.9950e-04 - accuracy: 1.0000 - val_loss: 0.1177 - val_accuracy: 0.9429\n",
      "Wall time: 3.06 s\n"
     ]
    }
   ],
   "source": [
    "%%time\n",
    "history = model_2.fit(X_train_2, y_train, validation_data=(X_test_2, y_test), batch_size=32, epochs = 50, verbose=2)"
   ]
  },
  {
   "cell_type": "code",
   "execution_count": 39,
   "metadata": {
    "scrolled": false
   },
   "outputs": [
    {
     "data": {
      "text/plain": [
       "<matplotlib.legend.Legend at 0x179ac23d390>"
      ]
     },
     "execution_count": 39,
     "metadata": {},
     "output_type": "execute_result"
    },
    {
     "data": {
      "image/png": "[encoded data removed]",
      "text/plain": [
       "<Figure size 432x288 with 1 Axes>"
      ]
     },
     "metadata": {
      "needs_background": "light"
     },
     "output_type": "display_data"
    }
   ],
   "source": [
    "plt.plot(history.history['loss'], label = ' Training Loss')\n",
    "plt.plot(history.history['val_loss'], label = ' Test Loss')\n",
    "plt.legend()"
   ]
  },
  {
   "cell_type": "code",
   "execution_count": 40,
   "metadata": {},
   "outputs": [
    {
     "data": {
      "text/plain": [
       "<matplotlib.legend.Legend at 0x179ae15c7f0>"
      ]
     },
     "execution_count": 40,
     "metadata": {},
     "output_type": "execute_result"
    },
    {
     "data": {
      "image/png": "[encoded data removed]",
      "text/plain": [
       "<Figure size 432x288 with 1 Axes>"
      ]
     },
     "metadata": {
      "needs_background": "light"
     },
     "output_type": "display_data"
    }
   ],
   "source": [
    "plt.plot(history.history['accuracy'], label = ' Training Accuracy')\n",
    "plt.plot(history.history['val_accuracy'], label = ' Test Accuracy')\n",
    "plt.legend()"
   ]
  },
  {
   "cell_type": "code",
   "execution_count": 41,
   "metadata": {
    "scrolled": false
   },
   "outputs": [
    {
     "name": "stdout",
     "output_type": "stream",
     "text": [
      "210/210 [==============================] - 0s 38us/step\n",
      "Model 2 loss: 0.11765583597478413\n",
      "Model 2 accuracy: 0.9428571462631226\n"
     ]
    }
   ],
   "source": [
    "# print evaluation score\n",
    "\n",
    "model_2_eval = model_2.evaluate(X_test_2,y_test, verbose=1)\n",
    "model_2_metrics = model_2.metrics_names\n",
    "\n",
    "print(f\"Model 2 {model_2_metrics[0]}: {model_2_eval[0]}\")\n",
    "print(f\"Model 2 {model_2_metrics[1]}: {model_2_eval[1]}\")"
   ]
  },
  {
   "cell_type": "markdown",
   "metadata": {},
   "source": [
    "**Model 3: Feedforward Neural Network**\n",
    "\n",
    "- Features: timesteps x (40 MFCC x 3 features (MFCC, Delta, Delta2))\n",
    "- Input Shape: (42, 120)"
   ]
  },
  {
   "cell_type": "code",
   "execution_count": 42,
   "metadata": {},
   "outputs": [],
   "source": [
    "X = np.array(train_df['mfcc_pad_combined'].tolist())"
   ]
  },
  {
   "cell_type": "code",
   "execution_count": 43,
   "metadata": {},
   "outputs": [],
   "source": [
    "# reshape for the model\n",
    "X = X.reshape((1049, 42, 120))"
   ]
  },
  {
   "cell_type": "code",
   "execution_count": 44,
   "metadata": {},
   "outputs": [],
   "source": [
    "X_train_3, X_test_3, y_train, y_test = train_test_split(X, y, test_size = 0.2, random_state = 42, stratify = y)"
   ]
  },
  {
   "cell_type": "code",
   "execution_count": 45,
   "metadata": {},
   "outputs": [],
   "source": [
    "model_3 = Sequential()\n",
    "\n",
    "# two dense layers\n",
    "model_3.add(Dense(128, activation='relu', input_shape=(42,120,)))\n",
    "model_3.add(Dense(128, activation='relu'))\n",
    "\n",
    "# flatten for the output layer\n",
    "model_3.add(Flatten())\n",
    "\n",
    "# output layer\n",
    "model_3.add(Dense(5, activation='softmax'))"
   ]
  },
  {
   "cell_type": "code",
   "execution_count": 46,
   "metadata": {},
   "outputs": [],
   "source": [
    "model_3.compile(loss='categorical_crossentropy', optimizer='adam', metrics = ['accuracy'])"
   ]
  },
  {
   "cell_type": "code",
   "execution_count": 47,
   "metadata": {},
   "outputs": [
    {
     "name": "stdout",
     "output_type": "stream",
     "text": [
      "Model: \"sequential_3\"\n",
      "_________________________________________________________________\n",
      "Layer (type)                 Output Shape              Param #   \n",
      "=================================================================\n",
      "dense_7 (Dense)              (None, 42, 128)           15488     \n",
      "_________________________________________________________________\n",
      "dense_8 (Dense)              (None, 42, 128)           16512     \n",
      "_________________________________________________________________\n",
      "flatten_1 (Flatten)          (None, 5376)              0         \n",
      "_________________________________________________________________\n",
      "dense_9 (Dense)              (None, 5)                 26885     \n",
      "=================================================================\n",
      "Total params: 58,885\n",
      "Trainable params: 58,885\n",
      "Non-trainable params: 0\n",
      "_________________________________________________________________\n"
     ]
    }
   ],
   "source": [
    "model_3.summary()"
   ]
  },
  {
   "cell_type": "code",
   "execution_count": 48,
   "metadata": {
    "scrolled": true
   },
   "outputs": [
    {
     "name": "stdout",
     "output_type": "stream",
     "text": [
      "Train on 839 samples, validate on 210 samples\n",
      "Epoch 1/50\n",
      " - 0s - loss: 4.1628 - accuracy: 0.6532 - val_loss: 0.7310 - val_accuracy: 0.9190\n",
      "Epoch 2/50\n",
      " - 0s - loss: 0.3910 - accuracy: 0.9380 - val_loss: 0.4529 - val_accuracy: 0.9429\n",
      "Epoch 3/50\n",
      " - 0s - loss: 0.0870 - accuracy: 0.9750 - val_loss: 0.2269 - val_accuracy: 0.9524\n",
      "Epoch 4/50\n",
      " - 0s - loss: 0.0347 - accuracy: 0.9869 - val_loss: 0.2018 - val_accuracy: 0.9571\n",
      "Epoch 5/50\n",
      " - 0s - loss: 0.0084 - accuracy: 0.9964 - val_loss: 0.3248 - val_accuracy: 0.9381\n",
      "Epoch 6/50\n",
      " - 0s - loss: 0.0033 - accuracy: 0.9988 - val_loss: 0.2505 - val_accuracy: 0.9619\n",
      "Epoch 7/50\n",
      " - 0s - loss: 9.5005e-04 - accuracy: 1.0000 - val_loss: 0.2537 - val_accuracy: 0.9476\n",
      "Epoch 8/50\n",
      " - 0s - loss: 4.8322e-04 - accuracy: 1.0000 - val_loss: 0.2376 - val_accuracy: 0.9524\n",
      "Epoch 9/50\n",
      " - 0s - loss: 3.5931e-04 - accuracy: 1.0000 - val_loss: 0.2332 - val_accuracy: 0.9476\n",
      "Epoch 10/50\n",
      " - 0s - loss: 3.0642e-04 - accuracy: 1.0000 - val_loss: 0.2328 - val_accuracy: 0.9476\n",
      "Epoch 11/50\n",
      " - 0s - loss: 2.6281e-04 - accuracy: 1.0000 - val_loss: 0.2305 - val_accuracy: 0.9476\n",
      "Epoch 12/50\n",
      " - 0s - loss: 2.3449e-04 - accuracy: 1.0000 - val_loss: 0.2318 - val_accuracy: 0.9524\n",
      "Epoch 13/50\n",
      " - 0s - loss: 2.1375e-04 - accuracy: 1.0000 - val_loss: 0.2281 - val_accuracy: 0.9476\n",
      "Epoch 14/50\n",
      " - 0s - loss: 2.0097e-04 - accuracy: 1.0000 - val_loss: 0.2270 - val_accuracy: 0.9524\n",
      "Epoch 15/50\n",
      " - 0s - loss: 1.8583e-04 - accuracy: 1.0000 - val_loss: 0.2281 - val_accuracy: 0.9524\n",
      "Epoch 16/50\n",
      " - 0s - loss: 1.7334e-04 - accuracy: 1.0000 - val_loss: 0.2270 - val_accuracy: 0.9524\n",
      "Epoch 17/50\n",
      " - 0s - loss: 1.6054e-04 - accuracy: 1.0000 - val_loss: 0.2272 - val_accuracy: 0.9524\n",
      "Epoch 18/50\n",
      " - 0s - loss: 1.5271e-04 - accuracy: 1.0000 - val_loss: 0.2276 - val_accuracy: 0.9524\n",
      "Epoch 19/50\n",
      " - 0s - loss: 1.4345e-04 - accuracy: 1.0000 - val_loss: 0.2291 - val_accuracy: 0.9524\n",
      "Epoch 20/50\n",
      " - 0s - loss: 1.3648e-04 - accuracy: 1.0000 - val_loss: 0.2289 - val_accuracy: 0.9524\n",
      "Epoch 21/50\n",
      " - 0s - loss: 1.2897e-04 - accuracy: 1.0000 - val_loss: 0.2294 - val_accuracy: 0.9524\n",
      "Epoch 22/50\n",
      " - 0s - loss: 1.2263e-04 - accuracy: 1.0000 - val_loss: 0.2297 - val_accuracy: 0.9524\n",
      "Epoch 23/50\n",
      " - 0s - loss: 1.1620e-04 - accuracy: 1.0000 - val_loss: 0.2293 - val_accuracy: 0.9524\n",
      "Epoch 24/50\n",
      " - 0s - loss: 1.1259e-04 - accuracy: 1.0000 - val_loss: 0.2314 - val_accuracy: 0.9524\n",
      "Epoch 25/50\n",
      " - 0s - loss: 1.0574e-04 - accuracy: 1.0000 - val_loss: 0.2320 - val_accuracy: 0.9524\n",
      "Epoch 26/50\n",
      " - 0s - loss: 1.0175e-04 - accuracy: 1.0000 - val_loss: 0.2332 - val_accuracy: 0.9524\n",
      "Epoch 27/50\n",
      " - 0s - loss: 9.7777e-05 - accuracy: 1.0000 - val_loss: 0.2337 - val_accuracy: 0.9524\n",
      "Epoch 28/50\n",
      " - 0s - loss: 9.3650e-05 - accuracy: 1.0000 - val_loss: 0.2335 - val_accuracy: 0.9524\n",
      "Epoch 29/50\n",
      " - 0s - loss: 8.9893e-05 - accuracy: 1.0000 - val_loss: 0.2351 - val_accuracy: 0.9524\n",
      "Epoch 30/50\n",
      " - 0s - loss: 8.6782e-05 - accuracy: 1.0000 - val_loss: 0.2360 - val_accuracy: 0.9524\n",
      "Epoch 31/50\n",
      " - 0s - loss: 8.3408e-05 - accuracy: 1.0000 - val_loss: 0.2358 - val_accuracy: 0.9524\n",
      "Epoch 32/50\n",
      " - 0s - loss: 8.0455e-05 - accuracy: 1.0000 - val_loss: 0.2358 - val_accuracy: 0.9524\n",
      "Epoch 33/50\n",
      " - 0s - loss: 7.7643e-05 - accuracy: 1.0000 - val_loss: 0.2373 - val_accuracy: 0.9524\n",
      "Epoch 34/50\n",
      " - 0s - loss: 7.5002e-05 - accuracy: 1.0000 - val_loss: 0.2394 - val_accuracy: 0.9524\n",
      "Epoch 35/50\n",
      " - 0s - loss: 7.2183e-05 - accuracy: 1.0000 - val_loss: 0.2395 - val_accuracy: 0.9524\n",
      "Epoch 36/50\n",
      " - 0s - loss: 6.9622e-05 - accuracy: 1.0000 - val_loss: 0.2397 - val_accuracy: 0.9524\n",
      "Epoch 37/50\n",
      " - 0s - loss: 6.7438e-05 - accuracy: 1.0000 - val_loss: 0.2400 - val_accuracy: 0.9524\n",
      "Epoch 38/50\n",
      " - 0s - loss: 6.5274e-05 - accuracy: 1.0000 - val_loss: 0.2400 - val_accuracy: 0.9524\n",
      "Epoch 39/50\n",
      " - 0s - loss: 6.3204e-05 - accuracy: 1.0000 - val_loss: 0.2410 - val_accuracy: 0.9524\n",
      "Epoch 40/50\n",
      " - 0s - loss: 6.0966e-05 - accuracy: 1.0000 - val_loss: 0.2408 - val_accuracy: 0.9524\n",
      "Epoch 41/50\n",
      " - 0s - loss: 5.8959e-05 - accuracy: 1.0000 - val_loss: 0.2413 - val_accuracy: 0.9524\n",
      "Epoch 42/50\n",
      " - 0s - loss: 5.7151e-05 - accuracy: 1.0000 - val_loss: 0.2415 - val_accuracy: 0.9524\n",
      "Epoch 43/50\n",
      " - 0s - loss: 5.5694e-05 - accuracy: 1.0000 - val_loss: 0.2427 - val_accuracy: 0.9524\n",
      "Epoch 44/50\n",
      " - 0s - loss: 5.3905e-05 - accuracy: 1.0000 - val_loss: 0.2433 - val_accuracy: 0.9524\n",
      "Epoch 45/50\n",
      " - 0s - loss: 5.2947e-05 - accuracy: 1.0000 - val_loss: 0.2450 - val_accuracy: 0.9524\n",
      "Epoch 46/50\n",
      " - 0s - loss: 5.0692e-05 - accuracy: 1.0000 - val_loss: 0.2457 - val_accuracy: 0.9524\n",
      "Epoch 47/50\n",
      " - 0s - loss: 4.8469e-05 - accuracy: 1.0000 - val_loss: 0.2467 - val_accuracy: 0.9524\n",
      "Epoch 48/50\n",
      " - 0s - loss: 4.6726e-05 - accuracy: 1.0000 - val_loss: 0.2501 - val_accuracy: 0.9524\n",
      "Epoch 49/50\n",
      " - 0s - loss: 4.4525e-05 - accuracy: 1.0000 - val_loss: 0.2500 - val_accuracy: 0.9524\n",
      "Epoch 50/50\n",
      " - 0s - loss: 4.2701e-05 - accuracy: 1.0000 - val_loss: 0.2526 - val_accuracy: 0.9524\n",
      "Wall time: 4.67 s\n"
     ]
    }
   ],
   "source": [
    "%%time\n",
    "\n",
    "history = model_3.fit(X_train_3, y_train, validation_data=(X_test_3, y_test), batch_size=32, epochs = 50, verbose=2)"
   ]
  },
  {
   "cell_type": "code",
   "execution_count": 49,
   "metadata": {
    "scrolled": true
   },
   "outputs": [
    {
     "data": {
      "text/plain": [
       "<matplotlib.legend.Legend at 0x179b7169240>"
      ]
     },
     "execution_count": 49,
     "metadata": {},
     "output_type": "execute_result"
    },
    {
     "data": {
      "image/png": "[encoded data removed]",
      "text/plain": [
       "<Figure size 432x288 with 1 Axes>"
      ]
     },
     "metadata": {
      "needs_background": "light"
     },
     "output_type": "display_data"
    }
   ],
   "source": [
    "plt.plot(history.history['loss'], label = ' Training Loss')\n",
    "plt.plot(history.history['val_loss'], label = ' Test Loss')\n",
    "plt.legend()"
   ]
  },
  {
   "cell_type": "code",
   "execution_count": 50,
   "metadata": {},
   "outputs": [
    {
     "data": {
      "text/plain": [
       "<matplotlib.legend.Legend at 0x179b71d29b0>"
      ]
     },
     "execution_count": 50,
     "metadata": {},
     "output_type": "execute_result"
    },
    {
     "data": {
      "image/png": "[encoded data removed]",
      "text/plain": [
       "<Figure size 432x288 with 1 Axes>"
      ]
     },
     "metadata": {
      "needs_background": "light"
     },
     "output_type": "display_data"
    }
   ],
   "source": [
    "plt.plot(history.history['accuracy'], label = ' Training Accuracy')\n",
    "plt.plot(history.history['val_accuracy'], label = ' Test Accuracy')\n",
    "plt.legend()"
   ]
  },
  {
   "cell_type": "code",
   "execution_count": 51,
   "metadata": {},
   "outputs": [
    {
     "name": "stdout",
     "output_type": "stream",
     "text": [
      "210/210 [==============================] - 0s 62us/step\n",
      "Model 3 loss: 0.2526213808783463\n",
      "Model 3 accuracy: 0.9523809552192688\n"
     ]
    }
   ],
   "source": [
    "# print evaluation score\n",
    "\n",
    "model_3_eval = model_3.evaluate(X_test_3,y_test, verbose=1)\n",
    "model_3_metrics = model_3.metrics_names\n",
    "\n",
    "print(f\"Model 3 {model_3_metrics[0]}: {model_3_eval[0]}\")\n",
    "print(f\"Model 3 {model_3_metrics[1]}: {model_3_eval[1]}\")"
   ]
  },
  {
   "cell_type": "markdown",
   "metadata": {},
   "source": [
    "**Model 4: Convolutional Neural Network (2D)**\n",
    "\n",
    "- Features: mel-spectrogram array, padded until 45 sequence\n",
    "- Input shape: (20, 45)"
   ]
  },
  {
   "cell_type": "code",
   "execution_count": 52,
   "metadata": {},
   "outputs": [],
   "source": [
    "X = np.array(train_df['mel'].tolist())"
   ]
  },
  {
   "cell_type": "code",
   "execution_count": 53,
   "metadata": {},
   "outputs": [],
   "source": [
    "X_train_4, X_test_4, y_train, y_test = train_test_split(X, y, test_size = 0.2, random_state = 42, stratify = y)"
   ]
  },
  {
   "cell_type": "code",
   "execution_count": 54,
   "metadata": {},
   "outputs": [],
   "source": [
    "# reshape for input layer as CNN takes in 3 dimensions\n",
    "\n",
    "X_train_4 = X_train_4.reshape(X_train_4.shape[0], 20, 45, 1)\n",
    "X_test_4 = X_test_4.reshape(X_test_4.shape[0], 20, 45, 1)"
   ]
  },
  {
   "cell_type": "code",
   "execution_count": 55,
   "metadata": {},
   "outputs": [],
   "source": [
    "model_4 = Sequential()\n",
    "\n",
    "# two 2D convolution layers\n",
    "model_4.add(Conv2D(filters = 6, kernel_size=3, activation = 'relu', input_shape = (20,45,1), padding = 'same'))\n",
    "model_4.add(MaxPooling2D(pool_size= (2,2), padding='same'))\n",
    "model_4.add(Conv2D(32, kernel_size=3, activation='relu'))\n",
    "model_4.add(MaxPooling2D(pool_size=(2,2), padding='same'))\n",
    "\n",
    "# flatten for dense layer\n",
    "model_4.add(Flatten())\n",
    "\n",
    "# two dense layers\n",
    "model_4.add(Dense(64, activation = 'relu'))\n",
    "model_4.add(Dense(32, activation = 'relu'))\n",
    "\n",
    "# output layer\n",
    "model_4.add(Dense(5, activation = 'softmax'))"
   ]
  },
  {
   "cell_type": "code",
   "execution_count": 56,
   "metadata": {},
   "outputs": [],
   "source": [
    "model_4.compile(loss='categorical_crossentropy',\n",
    "                  optimizer='adam',\n",
    "                  metrics=['accuracy'])"
   ]
  },
  {
   "cell_type": "code",
   "execution_count": 57,
   "metadata": {
    "scrolled": true
   },
   "outputs": [
    {
     "name": "stdout",
     "output_type": "stream",
     "text": [
      "Model: \"sequential_4\"\n",
      "_________________________________________________________________\n",
      "Layer (type)                 Output Shape              Param #   \n",
      "=================================================================\n",
      "conv2d_1 (Conv2D)            (None, 20, 45, 6)         60        \n",
      "_________________________________________________________________\n",
      "max_pooling2d_1 (MaxPooling2 (None, 10, 23, 6)         0         \n",
      "_________________________________________________________________\n",
      "conv2d_2 (Conv2D)            (None, 8, 21, 32)         1760      \n",
      "_________________________________________________________________\n",
      "max_pooling2d_2 (MaxPooling2 (None, 4, 11, 32)         0         \n",
      "_________________________________________________________________\n",
      "flatten_2 (Flatten)          (None, 1408)              0         \n",
      "_________________________________________________________________\n",
      "dense_10 (Dense)             (None, 64)                90176     \n",
      "_________________________________________________________________\n",
      "dense_11 (Dense)             (None, 32)                2080      \n",
      "_________________________________________________________________\n",
      "dense_12 (Dense)             (None, 5)                 165       \n",
      "=================================================================\n",
      "Total params: 94,241\n",
      "Trainable params: 94,241\n",
      "Non-trainable params: 0\n",
      "_________________________________________________________________\n"
     ]
    }
   ],
   "source": [
    "model_4.summary()"
   ]
  },
  {
   "cell_type": "code",
   "execution_count": 58,
   "metadata": {
    "scrolled": true
   },
   "outputs": [
    {
     "name": "stdout",
     "output_type": "stream",
     "text": [
      "Train on 839 samples, validate on 210 samples\n",
      "Epoch 1/100\n",
      " - 1s - loss: 2.0865 - accuracy: 0.4565 - val_loss: 1.1954 - val_accuracy: 0.5762\n",
      "Epoch 2/100\n",
      " - 0s - loss: 0.9857 - accuracy: 0.6698 - val_loss: 0.9458 - val_accuracy: 0.6333\n",
      "Epoch 3/100\n",
      " - 0s - loss: 0.7084 - accuracy: 0.7628 - val_loss: 0.8072 - val_accuracy: 0.7143\n",
      "Epoch 4/100\n",
      " - 0s - loss: 0.5383 - accuracy: 0.8057 - val_loss: 0.7471 - val_accuracy: 0.7381\n",
      "Epoch 5/100\n",
      " - 0s - loss: 0.4598 - accuracy: 0.8427 - val_loss: 0.7043 - val_accuracy: 0.7571\n",
      "Epoch 6/100\n",
      " - 0s - loss: 0.4416 - accuracy: 0.8534 - val_loss: 0.6086 - val_accuracy: 0.7714\n",
      "Epoch 7/100\n",
      " - 0s - loss: 0.3605 - accuracy: 0.8725 - val_loss: 0.5849 - val_accuracy: 0.8000\n",
      "Epoch 8/100\n",
      " - 0s - loss: 0.2597 - accuracy: 0.9178 - val_loss: 0.5157 - val_accuracy: 0.8190\n",
      "Epoch 9/100\n",
      " - 0s - loss: 0.2581 - accuracy: 0.9249 - val_loss: 0.5670 - val_accuracy: 0.8238\n",
      "Epoch 10/100\n",
      " - 0s - loss: 0.2620 - accuracy: 0.9106 - val_loss: 0.5150 - val_accuracy: 0.8238\n",
      "Epoch 11/100\n",
      " - 0s - loss: 0.2289 - accuracy: 0.9249 - val_loss: 0.5604 - val_accuracy: 0.8286\n",
      "Epoch 12/100\n",
      " - 0s - loss: 0.1598 - accuracy: 0.9559 - val_loss: 0.4794 - val_accuracy: 0.8524\n",
      "Epoch 13/100\n",
      " - 0s - loss: 0.1150 - accuracy: 0.9774 - val_loss: 0.5309 - val_accuracy: 0.8524\n",
      "Epoch 14/100\n",
      " - 0s - loss: 0.1067 - accuracy: 0.9702 - val_loss: 0.5086 - val_accuracy: 0.8476\n",
      "Epoch 15/100\n",
      " - 0s - loss: 0.0918 - accuracy: 0.9738 - val_loss: 0.5146 - val_accuracy: 0.8381\n",
      "Epoch 16/100\n",
      " - 0s - loss: 0.0732 - accuracy: 0.9857 - val_loss: 0.4860 - val_accuracy: 0.8476\n",
      "Epoch 17/100\n",
      " - 0s - loss: 0.0495 - accuracy: 0.9917 - val_loss: 0.4547 - val_accuracy: 0.8619\n",
      "Epoch 18/100\n",
      " - 0s - loss: 0.0474 - accuracy: 0.9905 - val_loss: 0.5680 - val_accuracy: 0.8714\n",
      "Epoch 19/100\n",
      " - 0s - loss: 0.0940 - accuracy: 0.9785 - val_loss: 0.5241 - val_accuracy: 0.8667\n",
      "Epoch 20/100\n",
      " - 0s - loss: 0.0767 - accuracy: 0.9774 - val_loss: 0.5260 - val_accuracy: 0.8619\n",
      "Epoch 21/100\n",
      " - 0s - loss: 0.0607 - accuracy: 0.9821 - val_loss: 0.4790 - val_accuracy: 0.8952\n",
      "Epoch 22/100\n",
      " - 0s - loss: 0.0454 - accuracy: 0.9905 - val_loss: 0.5078 - val_accuracy: 0.8714\n",
      "Epoch 23/100\n",
      " - 0s - loss: 0.0244 - accuracy: 0.9964 - val_loss: 0.5035 - val_accuracy: 0.8857\n",
      "Epoch 24/100\n",
      " - 0s - loss: 0.0176 - accuracy: 0.9988 - val_loss: 0.5031 - val_accuracy: 0.8857\n",
      "Epoch 25/100\n",
      " - 0s - loss: 0.0129 - accuracy: 1.0000 - val_loss: 0.4871 - val_accuracy: 0.9048\n",
      "Epoch 26/100\n",
      " - 0s - loss: 0.0108 - accuracy: 1.0000 - val_loss: 0.4912 - val_accuracy: 0.9048\n",
      "Epoch 27/100\n",
      " - 0s - loss: 0.0091 - accuracy: 1.0000 - val_loss: 0.5082 - val_accuracy: 0.8905\n",
      "Epoch 28/100\n",
      " - 0s - loss: 0.0087 - accuracy: 1.0000 - val_loss: 0.5177 - val_accuracy: 0.8952\n",
      "Epoch 29/100\n",
      " - 0s - loss: 0.0065 - accuracy: 1.0000 - val_loss: 0.5240 - val_accuracy: 0.9048\n",
      "Epoch 30/100\n",
      " - 0s - loss: 0.0057 - accuracy: 1.0000 - val_loss: 0.5459 - val_accuracy: 0.8857\n",
      "Epoch 31/100\n",
      " - 0s - loss: 0.0054 - accuracy: 1.0000 - val_loss: 0.5400 - val_accuracy: 0.9048\n",
      "Epoch 32/100\n",
      " - 0s - loss: 0.0046 - accuracy: 1.0000 - val_loss: 0.5403 - val_accuracy: 0.9048\n",
      "Epoch 33/100\n",
      " - 0s - loss: 0.0045 - accuracy: 1.0000 - val_loss: 0.5450 - val_accuracy: 0.8952\n",
      "Epoch 34/100\n",
      " - 0s - loss: 0.0041 - accuracy: 1.0000 - val_loss: 0.5547 - val_accuracy: 0.9000\n",
      "Epoch 35/100\n",
      " - 0s - loss: 0.0036 - accuracy: 1.0000 - val_loss: 0.5564 - val_accuracy: 0.9048\n",
      "Epoch 36/100\n",
      " - 0s - loss: 0.0032 - accuracy: 1.0000 - val_loss: 0.5639 - val_accuracy: 0.9095\n",
      "Epoch 37/100\n",
      " - 0s - loss: 0.0031 - accuracy: 1.0000 - val_loss: 0.5653 - val_accuracy: 0.9095\n",
      "Epoch 38/100\n",
      " - 0s - loss: 0.0027 - accuracy: 1.0000 - val_loss: 0.5655 - val_accuracy: 0.9048\n",
      "Epoch 39/100\n",
      " - 0s - loss: 0.0026 - accuracy: 1.0000 - val_loss: 0.5677 - val_accuracy: 0.9048\n",
      "Epoch 40/100\n",
      " - 0s - loss: 0.0024 - accuracy: 1.0000 - val_loss: 0.5755 - val_accuracy: 0.9048\n",
      "Epoch 41/100\n",
      " - 0s - loss: 0.0023 - accuracy: 1.0000 - val_loss: 0.5817 - val_accuracy: 0.9000\n",
      "Epoch 42/100\n",
      " - 0s - loss: 0.0022 - accuracy: 1.0000 - val_loss: 0.5899 - val_accuracy: 0.9048\n",
      "Epoch 43/100\n",
      " - 0s - loss: 0.0022 - accuracy: 1.0000 - val_loss: 0.5843 - val_accuracy: 0.9000\n",
      "Epoch 44/100\n",
      " - 0s - loss: 0.0019 - accuracy: 1.0000 - val_loss: 0.5935 - val_accuracy: 0.9095\n",
      "Epoch 45/100\n",
      " - 0s - loss: 0.0018 - accuracy: 1.0000 - val_loss: 0.5896 - val_accuracy: 0.9000\n",
      "Epoch 46/100\n",
      " - 0s - loss: 0.0018 - accuracy: 1.0000 - val_loss: 0.5895 - val_accuracy: 0.9095\n",
      "Epoch 47/100\n",
      " - 0s - loss: 0.0016 - accuracy: 1.0000 - val_loss: 0.5930 - val_accuracy: 0.9095\n",
      "Epoch 48/100\n",
      " - 0s - loss: 0.0015 - accuracy: 1.0000 - val_loss: 0.5989 - val_accuracy: 0.9095\n",
      "Epoch 49/100\n",
      " - 0s - loss: 0.0014 - accuracy: 1.0000 - val_loss: 0.6021 - val_accuracy: 0.9048\n",
      "Epoch 50/100\n",
      " - 0s - loss: 0.0013 - accuracy: 1.0000 - val_loss: 0.6121 - val_accuracy: 0.9143\n",
      "Epoch 51/100\n",
      " - 0s - loss: 0.0013 - accuracy: 1.0000 - val_loss: 0.6129 - val_accuracy: 0.9095\n",
      "Epoch 52/100\n",
      " - 0s - loss: 0.0012 - accuracy: 1.0000 - val_loss: 0.6132 - val_accuracy: 0.9095\n",
      "Epoch 53/100\n",
      " - 0s - loss: 0.0011 - accuracy: 1.0000 - val_loss: 0.6212 - val_accuracy: 0.9095\n",
      "Epoch 54/100\n",
      " - 0s - loss: 0.0011 - accuracy: 1.0000 - val_loss: 0.6185 - val_accuracy: 0.9095\n",
      "Epoch 55/100\n",
      " - 0s - loss: 0.0010 - accuracy: 1.0000 - val_loss: 0.6320 - val_accuracy: 0.9095\n",
      "Epoch 56/100\n",
      " - 0s - loss: 9.5342e-04 - accuracy: 1.0000 - val_loss: 0.6290 - val_accuracy: 0.9095\n",
      "Epoch 57/100\n",
      " - 0s - loss: 9.3534e-04 - accuracy: 1.0000 - val_loss: 0.6368 - val_accuracy: 0.9095\n",
      "Epoch 58/100\n",
      " - 0s - loss: 8.8804e-04 - accuracy: 1.0000 - val_loss: 0.6281 - val_accuracy: 0.9095\n",
      "Epoch 59/100\n",
      " - 0s - loss: 8.1800e-04 - accuracy: 1.0000 - val_loss: 0.6263 - val_accuracy: 0.9095\n",
      "Epoch 60/100\n",
      " - 0s - loss: 8.0289e-04 - accuracy: 1.0000 - val_loss: 0.6282 - val_accuracy: 0.9095\n",
      "Epoch 61/100\n",
      " - 0s - loss: 7.5842e-04 - accuracy: 1.0000 - val_loss: 0.6354 - val_accuracy: 0.9095\n",
      "Epoch 62/100\n",
      " - 0s - loss: 7.2059e-04 - accuracy: 1.0000 - val_loss: 0.6333 - val_accuracy: 0.9095\n",
      "Epoch 63/100\n",
      " - 0s - loss: 6.9367e-04 - accuracy: 1.0000 - val_loss: 0.6375 - val_accuracy: 0.9095\n",
      "Epoch 64/100\n",
      " - 0s - loss: 6.9564e-04 - accuracy: 1.0000 - val_loss: 0.6435 - val_accuracy: 0.9095\n",
      "Epoch 65/100\n",
      " - 0s - loss: 6.5110e-04 - accuracy: 1.0000 - val_loss: 0.6460 - val_accuracy: 0.9095\n",
      "Epoch 66/100\n",
      " - 0s - loss: 6.1451e-04 - accuracy: 1.0000 - val_loss: 0.6428 - val_accuracy: 0.9095\n",
      "Epoch 67/100\n",
      " - 0s - loss: 5.9238e-04 - accuracy: 1.0000 - val_loss: 0.6451 - val_accuracy: 0.9095\n",
      "Epoch 68/100\n",
      " - 0s - loss: 5.7822e-04 - accuracy: 1.0000 - val_loss: 0.6537 - val_accuracy: 0.9048\n",
      "Epoch 69/100\n",
      " - 0s - loss: 5.7102e-04 - accuracy: 1.0000 - val_loss: 0.6569 - val_accuracy: 0.9095\n",
      "Epoch 70/100\n",
      " - 0s - loss: 5.3248e-04 - accuracy: 1.0000 - val_loss: 0.6552 - val_accuracy: 0.9095\n",
      "Epoch 71/100\n",
      " - 0s - loss: 5.1238e-04 - accuracy: 1.0000 - val_loss: 0.6622 - val_accuracy: 0.9095\n",
      "Epoch 72/100\n",
      " - 0s - loss: 4.9026e-04 - accuracy: 1.0000 - val_loss: 0.6617 - val_accuracy: 0.9095\n",
      "Epoch 73/100\n",
      " - 0s - loss: 4.7588e-04 - accuracy: 1.0000 - val_loss: 0.6675 - val_accuracy: 0.9048\n",
      "Epoch 74/100\n",
      " - 0s - loss: 4.6182e-04 - accuracy: 1.0000 - val_loss: 0.6731 - val_accuracy: 0.9048\n",
      "Epoch 75/100\n",
      " - 0s - loss: 4.4494e-04 - accuracy: 1.0000 - val_loss: 0.6712 - val_accuracy: 0.9095\n",
      "Epoch 76/100\n",
      " - 0s - loss: 4.3018e-04 - accuracy: 1.0000 - val_loss: 0.6768 - val_accuracy: 0.9095\n",
      "Epoch 77/100\n",
      " - 0s - loss: 4.1633e-04 - accuracy: 1.0000 - val_loss: 0.6753 - val_accuracy: 0.9095\n",
      "Epoch 78/100\n",
      " - 0s - loss: 3.9754e-04 - accuracy: 1.0000 - val_loss: 0.6792 - val_accuracy: 0.9095\n",
      "Epoch 79/100\n",
      " - 0s - loss: 3.8265e-04 - accuracy: 1.0000 - val_loss: 0.6818 - val_accuracy: 0.9095\n",
      "Epoch 80/100\n",
      " - 0s - loss: 3.7812e-04 - accuracy: 1.0000 - val_loss: 0.6836 - val_accuracy: 0.9095\n",
      "Epoch 81/100\n",
      " - 0s - loss: 3.7317e-04 - accuracy: 1.0000 - val_loss: 0.6904 - val_accuracy: 0.9048\n",
      "Epoch 82/100\n",
      " - 0s - loss: 3.5268e-04 - accuracy: 1.0000 - val_loss: 0.6913 - val_accuracy: 0.9095\n",
      "Epoch 83/100\n",
      " - 0s - loss: 3.3583e-04 - accuracy: 1.0000 - val_loss: 0.6914 - val_accuracy: 0.9095\n",
      "Epoch 84/100\n",
      " - 0s - loss: 3.2324e-04 - accuracy: 1.0000 - val_loss: 0.6973 - val_accuracy: 0.9048\n",
      "Epoch 85/100\n",
      " - 0s - loss: 3.1630e-04 - accuracy: 1.0000 - val_loss: 0.6973 - val_accuracy: 0.9048\n"
     ]
    },
    {
     "name": "stdout",
     "output_type": "stream",
     "text": [
      "Epoch 86/100\n",
      " - 0s - loss: 3.0776e-04 - accuracy: 1.0000 - val_loss: 0.6973 - val_accuracy: 0.9095\n",
      "Epoch 87/100\n",
      " - 0s - loss: 2.9347e-04 - accuracy: 1.0000 - val_loss: 0.7020 - val_accuracy: 0.9048\n",
      "Epoch 88/100\n",
      " - 0s - loss: 2.8686e-04 - accuracy: 1.0000 - val_loss: 0.7052 - val_accuracy: 0.9048\n",
      "Epoch 89/100\n",
      " - 0s - loss: 2.7761e-04 - accuracy: 1.0000 - val_loss: 0.7033 - val_accuracy: 0.9095\n",
      "Epoch 90/100\n",
      " - 0s - loss: 2.7055e-04 - accuracy: 1.0000 - val_loss: 0.7085 - val_accuracy: 0.9048\n",
      "Epoch 91/100\n",
      " - 0s - loss: 2.7172e-04 - accuracy: 1.0000 - val_loss: 0.7082 - val_accuracy: 0.9048\n",
      "Epoch 92/100\n",
      " - 0s - loss: 2.5756e-04 - accuracy: 1.0000 - val_loss: 0.7116 - val_accuracy: 0.9048\n",
      "Epoch 93/100\n",
      " - 0s - loss: 2.4587e-04 - accuracy: 1.0000 - val_loss: 0.7116 - val_accuracy: 0.9048\n",
      "Epoch 94/100\n",
      " - 0s - loss: 2.3958e-04 - accuracy: 1.0000 - val_loss: 0.7163 - val_accuracy: 0.9048\n",
      "Epoch 95/100\n",
      " - 0s - loss: 2.3737e-04 - accuracy: 1.0000 - val_loss: 0.7201 - val_accuracy: 0.9048\n",
      "Epoch 96/100\n",
      " - 0s - loss: 2.2829e-04 - accuracy: 1.0000 - val_loss: 0.7196 - val_accuracy: 0.9095\n",
      "Epoch 97/100\n",
      " - 0s - loss: 2.2249e-04 - accuracy: 1.0000 - val_loss: 0.7209 - val_accuracy: 0.9095\n",
      "Epoch 98/100\n",
      " - 0s - loss: 2.1320e-04 - accuracy: 1.0000 - val_loss: 0.7215 - val_accuracy: 0.9095\n",
      "Epoch 99/100\n",
      " - 0s - loss: 2.0899e-04 - accuracy: 1.0000 - val_loss: 0.7246 - val_accuracy: 0.9048\n",
      "Epoch 100/100\n",
      " - 0s - loss: 2.0838e-04 - accuracy: 1.0000 - val_loss: 0.7271 - val_accuracy: 0.9048\n",
      "Wall time: 10.3 s\n"
     ]
    }
   ],
   "source": [
    "%%time\n",
    "history = model_4.fit(X_train_4,\n",
    "                        y_train,\n",
    "                        batch_size=32,\n",
    "                        validation_data=(X_test_4, y_test),\n",
    "                        epochs=100,\n",
    "                        verbose=2)"
   ]
  },
  {
   "cell_type": "code",
   "execution_count": 59,
   "metadata": {
    "scrolled": true
   },
   "outputs": [
    {
     "data": {
      "text/plain": [
       "<matplotlib.legend.Legend at 0x177eae23860>"
      ]
     },
     "execution_count": 59,
     "metadata": {},
     "output_type": "execute_result"
    },
    {
     "data": {
      "image/png": "[encoded data removed]",
      "text/plain": [
       "<Figure size 432x288 with 1 Axes>"
      ]
     },
     "metadata": {
      "needs_background": "light"
     },
     "output_type": "display_data"
    }
   ],
   "source": [
    "plt.plot(history.history['loss'], label = ' Training Loss')\n",
    "plt.plot(history.history['val_loss'], label = ' Test Loss')\n",
    "plt.legend()"
   ]
  },
  {
   "cell_type": "code",
   "execution_count": 60,
   "metadata": {},
   "outputs": [
    {
     "data": {
      "text/plain": [
       "<matplotlib.legend.Legend at 0x177eae9a1d0>"
      ]
     },
     "execution_count": 60,
     "metadata": {},
     "output_type": "execute_result"
    },
    {
     "data": {
      "image/png": "[encoded data removed]",
      "text/plain": [
       "<Figure size 432x288 with 1 Axes>"
      ]
     },
     "metadata": {
      "needs_background": "light"
     },
     "output_type": "display_data"
    }
   ],
   "source": [
    "plt.plot(history.history['accuracy'], label = ' Training Accuracy')\n",
    "plt.plot(history.history['val_accuracy'], label = ' Test Accuracy')\n",
    "plt.legend()"
   ]
  },
  {
   "cell_type": "code",
   "execution_count": 61,
   "metadata": {},
   "outputs": [
    {
     "name": "stdout",
     "output_type": "stream",
     "text": [
      "210/210 [==============================] - 0s 57us/step\n",
      "Model 4 loss: 0.7271332939465841\n",
      "Model 4 accuracy: 0.9047619104385376\n"
     ]
    }
   ],
   "source": [
    "# print evaluation scores\n",
    "model_4_eval = model_4.evaluate(X_test_4, y_test, verbose=1)\n",
    "model_4_metrics = model_4.metrics_names\n",
    "\n",
    "\n",
    "print(f\"Model 4 {model_4_metrics[0]}: {model_4_eval[0]}\")\n",
    "print(f\"Model 4 {model_4_metrics[1]}: {model_4_eval[1]}\")"
   ]
  },
  {
   "cell_type": "markdown",
   "metadata": {},
   "source": [
    "**Model 5: Convolutional Neural Network**\n",
    "\n",
    "- Features: Mel-Spectrogram Images\n",
    "- Input Shape (300, 300, 3)"
   ]
  },
  {
   "cell_type": "code",
   "execution_count": 62,
   "metadata": {},
   "outputs": [],
   "source": [
    "X = train_data_spec"
   ]
  },
  {
   "cell_type": "code",
   "execution_count": 63,
   "metadata": {},
   "outputs": [],
   "source": [
    "X_train_5, X_test_5, y_train_cnn, y_test_cnn = train_test_split(X, y_cnn, stratify = y_cnn, test_size= 0.2, random_state = 42)"
   ]
  },
  {
   "cell_type": "code",
   "execution_count": 64,
   "metadata": {},
   "outputs": [],
   "source": [
    "model_5 = Sequential()\n",
    "\n",
    "# 3 convolution layers\n",
    "model_5.add(Conv2D(filters=32, kernel_size=(3, 3), activation='relu', input_shape=(300,300,3)))\n",
    "model_5.add(MaxPooling2D(pool_size=(2, 2)))\n",
    "\n",
    "model_5.add(Conv2D(filters=64, kernel_size=(3, 3), activation='relu'))\n",
    "model_5.add(MaxPooling2D(pool_size=(2, 2)))\n",
    "model_5.add(Dropout(0.5))\n",
    "\n",
    "model_5.add(Conv2D(filters=128, kernel_size=(3, 3), activation='relu'))\n",
    "model_5.add(MaxPooling2D(pool_size=(2, 2)))\n",
    "model_5.add(Dropout(0.5))\n",
    "\n",
    "model_5.add(Conv2D(filters=128, kernel_size=(3, 3), activation='relu'))\n",
    "model_5.add(MaxPooling2D(pool_size=(2, 2)))\n",
    "model_5.add(Dropout(0.5))\n",
    "\n",
    "# flatten for dense layer\n",
    "model_5.add(Flatten())\n",
    "\n",
    "# two dense layers\n",
    "model_5.add(Dense(512, activation='relu'))\n",
    "model_5.add(Dropout(0.5))\n",
    "\n",
    "model_5.add(Dense(128, activation='relu'))\n",
    "model_5.add(Dropout(0.5))\n",
    "\n",
    "# output layer\n",
    "model_5.add(Dense(5, activation='softmax'))"
   ]
  },
  {
   "cell_type": "code",
   "execution_count": 65,
   "metadata": {},
   "outputs": [],
   "source": [
    "model_5.compile(loss='categorical_crossentropy', optimizer='adam', metrics = ['accuracy'])"
   ]
  },
  {
   "cell_type": "code",
   "execution_count": 66,
   "metadata": {
    "scrolled": true
   },
   "outputs": [
    {
     "name": "stdout",
     "output_type": "stream",
     "text": [
      "Train on 839 samples, validate on 210 samples\n",
      "Epoch 1/100\n",
      " - 6s - loss: 1.8785 - accuracy: 0.2217 - val_loss: 1.6057 - val_accuracy: 0.3714\n",
      "Epoch 2/100\n",
      " - 4s - loss: 1.5454 - accuracy: 0.2682 - val_loss: 1.3019 - val_accuracy: 0.6714\n",
      "Epoch 3/100\n",
      " - 4s - loss: 0.9520 - accuracy: 0.6198 - val_loss: 0.5862 - val_accuracy: 0.8810\n",
      "Epoch 4/100\n",
      " - 4s - loss: 0.5110 - accuracy: 0.8093 - val_loss: 0.2372 - val_accuracy: 0.9381\n",
      "Epoch 5/100\n",
      " - 4s - loss: 0.2811 - accuracy: 0.8903 - val_loss: 0.1838 - val_accuracy: 0.9429\n",
      "Epoch 6/100\n",
      " - 4s - loss: 0.2731 - accuracy: 0.9070 - val_loss: 0.1851 - val_accuracy: 0.9333\n",
      "Epoch 7/100\n",
      " - 4s - loss: 0.2506 - accuracy: 0.9225 - val_loss: 0.1244 - val_accuracy: 0.9810\n",
      "Epoch 8/100\n",
      " - 4s - loss: 0.1901 - accuracy: 0.9261 - val_loss: 0.1264 - val_accuracy: 0.9667\n",
      "Epoch 9/100\n",
      " - 4s - loss: 0.1830 - accuracy: 0.9416 - val_loss: 0.1208 - val_accuracy: 0.9667\n",
      "Epoch 10/100\n",
      " - 4s - loss: 0.1905 - accuracy: 0.9356 - val_loss: 0.1166 - val_accuracy: 0.9619\n",
      "Epoch 11/100\n",
      " - 4s - loss: 0.1667 - accuracy: 0.9547 - val_loss: 0.1010 - val_accuracy: 0.9619\n",
      "Epoch 12/100\n",
      " - 4s - loss: 0.1401 - accuracy: 0.9440 - val_loss: 0.0908 - val_accuracy: 0.9619\n",
      "Epoch 13/100\n",
      " - 4s - loss: 0.1206 - accuracy: 0.9559 - val_loss: 0.0899 - val_accuracy: 0.9905\n",
      "Epoch 14/100\n",
      " - 4s - loss: 0.1485 - accuracy: 0.9511 - val_loss: 0.1043 - val_accuracy: 0.9714\n",
      "Epoch 15/100\n",
      " - 4s - loss: 0.1303 - accuracy: 0.9523 - val_loss: 0.1904 - val_accuracy: 0.9381\n",
      "Epoch 16/100\n",
      " - 4s - loss: 0.1492 - accuracy: 0.9547 - val_loss: 0.1269 - val_accuracy: 0.9619\n",
      "Epoch 17/100\n",
      " - 4s - loss: 0.1271 - accuracy: 0.9595 - val_loss: 0.0833 - val_accuracy: 0.9714\n",
      "Epoch 18/100\n",
      " - 4s - loss: 0.0956 - accuracy: 0.9726 - val_loss: 0.0917 - val_accuracy: 0.9762\n",
      "Epoch 19/100\n",
      " - 4s - loss: 0.1229 - accuracy: 0.9631 - val_loss: 0.1444 - val_accuracy: 0.9524\n",
      "Epoch 20/100\n",
      " - 4s - loss: 0.0700 - accuracy: 0.9738 - val_loss: 0.0813 - val_accuracy: 0.9667\n",
      "Epoch 21/100\n",
      " - 4s - loss: 0.0528 - accuracy: 0.9785 - val_loss: 0.0717 - val_accuracy: 0.9714\n",
      "Epoch 22/100\n",
      " - 4s - loss: 0.0779 - accuracy: 0.9714 - val_loss: 0.0716 - val_accuracy: 0.9905\n",
      "Epoch 23/100\n",
      " - 4s - loss: 0.0820 - accuracy: 0.9714 - val_loss: 0.0794 - val_accuracy: 0.9810\n",
      "Epoch 24/100\n",
      " - 4s - loss: 0.0530 - accuracy: 0.9857 - val_loss: 0.1006 - val_accuracy: 0.9714\n",
      "Epoch 25/100\n",
      " - 4s - loss: 0.0609 - accuracy: 0.9833 - val_loss: 0.0703 - val_accuracy: 0.9857\n",
      "Epoch 26/100\n",
      " - 4s - loss: 0.0517 - accuracy: 0.9785 - val_loss: 0.0508 - val_accuracy: 0.9857\n",
      "Epoch 27/100\n",
      " - 4s - loss: 0.0950 - accuracy: 0.9666 - val_loss: 0.0382 - val_accuracy: 0.9857\n",
      "Epoch 28/100\n",
      " - 4s - loss: 0.0544 - accuracy: 0.9797 - val_loss: 0.0471 - val_accuracy: 0.9810\n",
      "Epoch 29/100\n",
      " - 4s - loss: 0.1058 - accuracy: 0.9738 - val_loss: 0.1365 - val_accuracy: 0.9714\n",
      "Epoch 30/100\n",
      " - 4s - loss: 0.0785 - accuracy: 0.9726 - val_loss: 0.0558 - val_accuracy: 0.9810\n",
      "Epoch 31/100\n",
      " - 4s - loss: 0.0620 - accuracy: 0.9774 - val_loss: 0.0584 - val_accuracy: 0.9857\n",
      "Epoch 32/100\n",
      " - 4s - loss: 0.0564 - accuracy: 0.9833 - val_loss: 0.0526 - val_accuracy: 0.9857\n",
      "Epoch 33/100\n",
      " - 4s - loss: 0.0459 - accuracy: 0.9869 - val_loss: 0.0544 - val_accuracy: 0.9857\n",
      "Epoch 34/100\n",
      " - 4s - loss: 0.0668 - accuracy: 0.9762 - val_loss: 0.0525 - val_accuracy: 0.9810\n",
      "Epoch 35/100\n",
      " - 4s - loss: 0.0266 - accuracy: 0.9869 - val_loss: 0.0452 - val_accuracy: 0.9810\n",
      "Epoch 36/100\n",
      " - 4s - loss: 0.0393 - accuracy: 0.9833 - val_loss: 0.0403 - val_accuracy: 0.9905\n",
      "Epoch 37/100\n",
      " - 4s - loss: 0.0450 - accuracy: 0.9857 - val_loss: 0.0686 - val_accuracy: 0.9762\n",
      "Epoch 38/100\n",
      " - 4s - loss: 0.0397 - accuracy: 0.9881 - val_loss: 0.0287 - val_accuracy: 0.9857\n",
      "Epoch 39/100\n",
      " - 4s - loss: 0.1075 - accuracy: 0.9738 - val_loss: 0.0845 - val_accuracy: 0.9714\n",
      "Epoch 40/100\n",
      " - 4s - loss: 0.0464 - accuracy: 0.9881 - val_loss: 0.0474 - val_accuracy: 0.9905\n",
      "Epoch 41/100\n",
      " - 4s - loss: 0.0268 - accuracy: 0.9905 - val_loss: 0.0575 - val_accuracy: 0.9762\n",
      "Epoch 42/100\n",
      " - 4s - loss: 0.0510 - accuracy: 0.9845 - val_loss: 0.0858 - val_accuracy: 0.9667\n",
      "Epoch 43/100\n",
      " - 4s - loss: 0.0943 - accuracy: 0.9666 - val_loss: 0.0632 - val_accuracy: 0.9810\n",
      "Epoch 44/100\n",
      " - 4s - loss: 0.0530 - accuracy: 0.9869 - val_loss: 0.0410 - val_accuracy: 0.9857\n",
      "Epoch 45/100\n",
      " - 4s - loss: 0.0164 - accuracy: 0.9964 - val_loss: 0.0411 - val_accuracy: 0.9810\n",
      "Epoch 46/100\n",
      " - 4s - loss: 0.0845 - accuracy: 0.9750 - val_loss: 0.0576 - val_accuracy: 0.9762\n",
      "Epoch 47/100\n",
      " - 4s - loss: 0.0643 - accuracy: 0.9785 - val_loss: 0.0464 - val_accuracy: 0.9810\n",
      "Epoch 48/100\n",
      " - 4s - loss: 0.0336 - accuracy: 0.9869 - val_loss: 0.0431 - val_accuracy: 0.9810\n",
      "Epoch 49/100\n",
      " - 4s - loss: 0.0383 - accuracy: 0.9857 - val_loss: 0.0404 - val_accuracy: 0.9810\n",
      "Epoch 50/100\n",
      " - 4s - loss: 0.0270 - accuracy: 0.9940 - val_loss: 0.0281 - val_accuracy: 0.9905\n",
      "Epoch 51/100\n",
      " - 4s - loss: 0.0794 - accuracy: 0.9750 - val_loss: 0.0854 - val_accuracy: 0.9762\n",
      "Epoch 52/100\n",
      " - 4s - loss: 0.0604 - accuracy: 0.9785 - val_loss: 0.0637 - val_accuracy: 0.9762\n",
      "Epoch 53/100\n",
      " - 4s - loss: 0.0431 - accuracy: 0.9881 - val_loss: 0.0693 - val_accuracy: 0.9714\n",
      "Epoch 54/100\n",
      " - 4s - loss: 0.0538 - accuracy: 0.9857 - val_loss: 0.0580 - val_accuracy: 0.9810\n",
      "Epoch 55/100\n",
      " - 4s - loss: 0.0386 - accuracy: 0.9869 - val_loss: 0.0421 - val_accuracy: 0.9857\n",
      "Epoch 56/100\n",
      " - 4s - loss: 0.0462 - accuracy: 0.9857 - val_loss: 0.0507 - val_accuracy: 0.9857\n",
      "Epoch 57/100\n",
      " - 4s - loss: 0.0302 - accuracy: 0.9928 - val_loss: 0.0451 - val_accuracy: 0.9810\n",
      "Epoch 58/100\n",
      " - 4s - loss: 0.0201 - accuracy: 0.9940 - val_loss: 0.0349 - val_accuracy: 0.9857\n",
      "Epoch 59/100\n",
      " - 4s - loss: 0.0313 - accuracy: 0.9893 - val_loss: 0.0373 - val_accuracy: 0.9857\n",
      "Epoch 60/100\n",
      " - 4s - loss: 0.0370 - accuracy: 0.9881 - val_loss: 0.0544 - val_accuracy: 0.9857\n",
      "Epoch 61/100\n",
      " - 4s - loss: 0.0452 - accuracy: 0.9845 - val_loss: 0.0456 - val_accuracy: 0.9810\n",
      "Epoch 62/100\n",
      " - 4s - loss: 0.0849 - accuracy: 0.9726 - val_loss: 0.0817 - val_accuracy: 0.9762\n",
      "Epoch 63/100\n",
      " - 4s - loss: 0.0836 - accuracy: 0.9774 - val_loss: 0.0758 - val_accuracy: 0.9810\n",
      "Epoch 64/100\n",
      " - 4s - loss: 0.0624 - accuracy: 0.9797 - val_loss: 0.0386 - val_accuracy: 0.9857\n",
      "Epoch 65/100\n",
      " - 3s - loss: 0.0425 - accuracy: 0.9857 - val_loss: 0.0482 - val_accuracy: 0.9857\n",
      "Epoch 66/100\n",
      " - 3s - loss: 0.0305 - accuracy: 0.9928 - val_loss: 0.0458 - val_accuracy: 0.9762\n",
      "Epoch 67/100\n",
      " - 3s - loss: 0.0152 - accuracy: 0.9940 - val_loss: 0.0451 - val_accuracy: 0.9762\n",
      "Epoch 68/100\n",
      " - 3s - loss: 0.0237 - accuracy: 0.9928 - val_loss: 0.0277 - val_accuracy: 0.9857\n",
      "Epoch 69/100\n",
      " - 3s - loss: 0.0275 - accuracy: 0.9917 - val_loss: 0.0277 - val_accuracy: 0.9905\n",
      "Epoch 70/100\n",
      " - 3s - loss: 0.0356 - accuracy: 0.9893 - val_loss: 0.0454 - val_accuracy: 0.9810\n",
      "Epoch 71/100\n",
      " - 3s - loss: 0.0247 - accuracy: 0.9905 - val_loss: 0.0421 - val_accuracy: 0.9810\n",
      "Epoch 72/100\n",
      " - 3s - loss: 0.0235 - accuracy: 0.9928 - val_loss: 0.0326 - val_accuracy: 0.9810\n",
      "Epoch 73/100\n",
      " - 3s - loss: 0.0219 - accuracy: 0.9917 - val_loss: 0.0353 - val_accuracy: 0.9857\n",
      "Epoch 74/100\n",
      " - 3s - loss: 0.0187 - accuracy: 0.9952 - val_loss: 0.0449 - val_accuracy: 0.9762\n",
      "Epoch 75/100\n",
      " - 3s - loss: 0.0437 - accuracy: 0.9857 - val_loss: 0.0511 - val_accuracy: 0.9857\n",
      "Epoch 76/100\n",
      " - 3s - loss: 0.0500 - accuracy: 0.9869 - val_loss: 0.0563 - val_accuracy: 0.9810\n",
      "Epoch 77/100\n",
      " - 3s - loss: 0.0298 - accuracy: 0.9905 - val_loss: 0.0405 - val_accuracy: 0.9857\n",
      "Epoch 78/100\n",
      " - 3s - loss: 0.0464 - accuracy: 0.9857 - val_loss: 0.0861 - val_accuracy: 0.9667\n",
      "Epoch 79/100\n",
      " - 3s - loss: 0.0762 - accuracy: 0.9845 - val_loss: 0.0779 - val_accuracy: 0.9619\n",
      "Epoch 80/100\n",
      " - 3s - loss: 0.0573 - accuracy: 0.9905 - val_loss: 0.0789 - val_accuracy: 0.9762\n",
      "Epoch 81/100\n",
      " - 3s - loss: 0.0318 - accuracy: 0.9940 - val_loss: 0.0475 - val_accuracy: 0.9714\n",
      "Epoch 82/100\n",
      " - 3s - loss: 0.0251 - accuracy: 0.9893 - val_loss: 0.0448 - val_accuracy: 0.9810\n",
      "Epoch 83/100\n",
      " - 3s - loss: 0.0182 - accuracy: 0.9940 - val_loss: 0.0425 - val_accuracy: 0.9810\n",
      "Epoch 84/100\n",
      " - 3s - loss: 0.0232 - accuracy: 0.9952 - val_loss: 0.0456 - val_accuracy: 0.9810\n",
      "Epoch 85/100\n",
      " - 3s - loss: 0.0189 - accuracy: 0.9952 - val_loss: 0.0431 - val_accuracy: 0.9857\n",
      "Epoch 86/100\n",
      " - 3s - loss: 0.0072 - accuracy: 0.9988 - val_loss: 0.0497 - val_accuracy: 0.9810\n"
     ]
    },
    {
     "name": "stdout",
     "output_type": "stream",
     "text": [
      "Epoch 87/100\n",
      " - 3s - loss: 0.0273 - accuracy: 0.9917 - val_loss: 0.0528 - val_accuracy: 0.9762\n",
      "Epoch 88/100\n",
      " - 3s - loss: 0.0451 - accuracy: 0.9833 - val_loss: 0.0705 - val_accuracy: 0.9762\n",
      "Epoch 89/100\n",
      " - 3s - loss: 0.0404 - accuracy: 0.9845 - val_loss: 0.0534 - val_accuracy: 0.9857\n",
      "Epoch 90/100\n",
      " - 3s - loss: 0.0424 - accuracy: 0.9928 - val_loss: 0.0473 - val_accuracy: 0.9905\n",
      "Epoch 91/100\n",
      " - 3s - loss: 0.0549 - accuracy: 0.9893 - val_loss: 0.0580 - val_accuracy: 0.9810\n",
      "Epoch 92/100\n",
      " - 3s - loss: 0.0361 - accuracy: 0.9881 - val_loss: 0.0335 - val_accuracy: 0.9857\n",
      "Epoch 93/100\n",
      " - 3s - loss: 0.0254 - accuracy: 0.9928 - val_loss: 0.0488 - val_accuracy: 0.9857\n",
      "Epoch 94/100\n",
      " - 3s - loss: 0.0403 - accuracy: 0.9833 - val_loss: 0.0266 - val_accuracy: 0.9905\n",
      "Epoch 95/100\n",
      " - 3s - loss: 0.0444 - accuracy: 0.9845 - val_loss: 0.0435 - val_accuracy: 0.9762\n",
      "Epoch 96/100\n",
      " - 3s - loss: 0.0314 - accuracy: 0.9893 - val_loss: 0.0321 - val_accuracy: 0.9857\n",
      "Epoch 97/100\n",
      " - 3s - loss: 0.0269 - accuracy: 0.9952 - val_loss: 0.0405 - val_accuracy: 0.9762\n",
      "Epoch 98/100\n",
      " - 3s - loss: 0.0230 - accuracy: 0.9940 - val_loss: 0.0330 - val_accuracy: 0.9905\n",
      "Epoch 99/100\n",
      " - 3s - loss: 0.0482 - accuracy: 0.9893 - val_loss: 0.0275 - val_accuracy: 0.9905\n",
      "Epoch 100/100\n",
      " - 3s - loss: 0.0278 - accuracy: 0.9917 - val_loss: 0.0502 - val_accuracy: 0.9810\n",
      "Wall time: 6min 4s\n"
     ]
    }
   ],
   "source": [
    "%%time\n",
    "history = model_5.fit(X_train_5, y_train_cnn, validation_data=(X_test_5, y_test_cnn), batch_size=32, epochs = 100, verbose=2)"
   ]
  },
  {
   "cell_type": "code",
   "execution_count": 67,
   "metadata": {},
   "outputs": [
    {
     "data": {
      "text/plain": [
       "<matplotlib.legend.Legend at 0x179dfe10940>"
      ]
     },
     "execution_count": 67,
     "metadata": {},
     "output_type": "execute_result"
    },
    {
     "data": {
      "image/png": "[encoded data removed]",
      "text/plain": [
       "<Figure size 432x288 with 1 Axes>"
      ]
     },
     "metadata": {
      "needs_background": "light"
     },
     "output_type": "display_data"
    }
   ],
   "source": [
    "plt.plot(history.history['loss'], label = ' Training Loss')\n",
    "plt.plot(history.history['val_loss'], label = ' Test Loss')\n",
    "plt.legend()"
   ]
  },
  {
   "cell_type": "code",
   "execution_count": 68,
   "metadata": {},
   "outputs": [
    {
     "data": {
      "text/plain": [
       "<matplotlib.legend.Legend at 0x177952315f8>"
      ]
     },
     "execution_count": 68,
     "metadata": {},
     "output_type": "execute_result"
    },
    {
     "data": {
      "image/png": "[encoded data removed]",
      "text/plain": [
       "<Figure size 432x288 with 1 Axes>"
      ]
     },
     "metadata": {
      "needs_background": "light"
     },
     "output_type": "display_data"
    }
   ],
   "source": [
    "plt.plot(history.history['accuracy'], label = ' Training Accuracy')\n",
    "plt.plot(history.history['val_accuracy'], label = ' Test Accuracy')\n",
    "plt.legend()"
   ]
  },
  {
   "cell_type": "code",
   "execution_count": 69,
   "metadata": {
    "scrolled": true
   },
   "outputs": [
    {
     "name": "stdout",
     "output_type": "stream",
     "text": [
      "210/210 [==============================] - 0s 2ms/step\n",
      "Model 5 loss: 0.05022262746379489\n",
      "Model 5 accuracy: 0.9809523820877075\n"
     ]
    }
   ],
   "source": [
    "# print evaluation scores\n",
    "\n",
    "model_5_eval = model_5.evaluate(X_test_5, y_test_cnn, verbose=1)\n",
    "model_5_metrics = model_5.metrics_names\n",
    "\n",
    "print(f\"Model 5 {model_5_metrics[0]}: {model_5_eval[0]}\")\n",
    "print(f\"Model 5 {model_5_metrics[1]}: {model_5_eval[1]}\")"
   ]
  },
  {
   "cell_type": "markdown",
   "metadata": {},
   "source": [
    "**Model 6: Recurrent Neural Network (Long-Short Term Memory LSTM)**\n",
    "\n",
    "- Features: timesteps and MFCC, padded\n",
    "- input shape: (42,40)"
   ]
  },
  {
   "cell_type": "code",
   "execution_count": 70,
   "metadata": {},
   "outputs": [],
   "source": [
    "X = np.array(train_df['mfcc_pad'].tolist())"
   ]
  },
  {
   "cell_type": "code",
   "execution_count": 71,
   "metadata": {},
   "outputs": [],
   "source": [
    "X_train_6, X_test_6, y_train, y_test = train_test_split(X, y, test_size = 0.2, random_state = 42, stratify = y)"
   ]
  },
  {
   "cell_type": "code",
   "execution_count": 72,
   "metadata": {},
   "outputs": [],
   "source": [
    "random.set_seed(42)\n",
    "\n",
    "model_6 = Sequential()\n",
    "\n",
    "# add masking layer so that it would not use the zeroes\n",
    "model_6.add(Masking(mask_value=0, input_shape=(42, 40)))\n",
    "\n",
    "# two LSTM layers\n",
    "model_6.add(LSTM(64, input_shape = (42,40), return_sequences=True))\n",
    "model_6.add(LSTM(64, return_sequences=False))\n",
    "\n",
    "# one dense layer\n",
    "model_6.add(Dense(64, activation = 'relu'))\n",
    "model_6.add(Dropout(0.3))\n",
    "\n",
    "# output layer\n",
    "model_6.add(Dense(5, activation = 'softmax'))"
   ]
  },
  {
   "cell_type": "code",
   "execution_count": 73,
   "metadata": {},
   "outputs": [],
   "source": [
    "model_6.compile(optimizer = 'Adam', loss = 'categorical_crossentropy', metrics = ['accuracy'])"
   ]
  },
  {
   "cell_type": "code",
   "execution_count": 74,
   "metadata": {},
   "outputs": [
    {
     "name": "stdout",
     "output_type": "stream",
     "text": [
      "Model: \"sequential_6\"\n",
      "_________________________________________________________________\n",
      "Layer (type)                 Output Shape              Param #   \n",
      "=================================================================\n",
      "masking_1 (Masking)          (None, 42, 40)            0         \n",
      "_________________________________________________________________\n",
      "lstm_1 (LSTM)                (None, 42, 64)            26880     \n",
      "_________________________________________________________________\n",
      "lstm_2 (LSTM)                (None, 64)                33024     \n",
      "_________________________________________________________________\n",
      "dense_16 (Dense)             (None, 64)                4160      \n",
      "_________________________________________________________________\n",
      "dropout_6 (Dropout)          (None, 64)                0         \n",
      "_________________________________________________________________\n",
      "dense_17 (Dense)             (None, 5)                 325       \n",
      "=================================================================\n",
      "Total params: 64,389\n",
      "Trainable params: 64,389\n",
      "Non-trainable params: 0\n",
      "_________________________________________________________________\n"
     ]
    }
   ],
   "source": [
    "model_6.summary()"
   ]
  },
  {
   "cell_type": "code",
   "execution_count": 75,
   "metadata": {},
   "outputs": [
    {
     "name": "stdout",
     "output_type": "stream",
     "text": [
      "Train on 839 samples, validate on 210 samples\n",
      "Epoch 1/100\n",
      " - 3s - loss: 1.4389 - accuracy: 0.4017 - val_loss: 1.1453 - val_accuracy: 0.5619\n",
      "Epoch 2/100\n",
      " - 2s - loss: 0.8387 - accuracy: 0.7128 - val_loss: 0.6048 - val_accuracy: 0.8238\n",
      "Epoch 3/100\n",
      " - 2s - loss: 0.3991 - accuracy: 0.8749 - val_loss: 0.3284 - val_accuracy: 0.9095\n",
      "Epoch 4/100\n",
      " - 2s - loss: 0.2013 - accuracy: 0.9476 - val_loss: 0.3394 - val_accuracy: 0.8857\n",
      "Epoch 5/100\n",
      " - 2s - loss: 0.1429 - accuracy: 0.9631 - val_loss: 0.1745 - val_accuracy: 0.9429\n",
      "Epoch 6/100\n",
      " - 2s - loss: 0.0810 - accuracy: 0.9774 - val_loss: 0.1852 - val_accuracy: 0.9381\n",
      "Epoch 7/100\n",
      " - 2s - loss: 0.0662 - accuracy: 0.9845 - val_loss: 0.1771 - val_accuracy: 0.9524\n",
      "Epoch 8/100\n",
      " - 2s - loss: 0.0646 - accuracy: 0.9833 - val_loss: 0.1474 - val_accuracy: 0.9524\n",
      "Epoch 9/100\n",
      " - 2s - loss: 0.0539 - accuracy: 0.9821 - val_loss: 0.1500 - val_accuracy: 0.9571\n",
      "Epoch 10/100\n",
      " - 2s - loss: 0.0181 - accuracy: 0.9988 - val_loss: 0.1379 - val_accuracy: 0.9571\n",
      "Epoch 11/100\n",
      " - 2s - loss: 0.0127 - accuracy: 0.9964 - val_loss: 0.0993 - val_accuracy: 0.9857\n",
      "Epoch 12/100\n",
      " - 2s - loss: 0.0120 - accuracy: 0.9976 - val_loss: 0.1820 - val_accuracy: 0.9381\n",
      "Epoch 13/100\n",
      " - 2s - loss: 0.0139 - accuracy: 0.9976 - val_loss: 0.1168 - val_accuracy: 0.9667\n",
      "Epoch 14/100\n",
      " - 2s - loss: 0.0150 - accuracy: 0.9952 - val_loss: 0.1276 - val_accuracy: 0.9571\n",
      "Epoch 15/100\n",
      " - 2s - loss: 0.0102 - accuracy: 0.9988 - val_loss: 0.0819 - val_accuracy: 0.9810\n",
      "Epoch 16/100\n",
      " - 2s - loss: 0.0077 - accuracy: 0.9976 - val_loss: 0.1291 - val_accuracy: 0.9762\n",
      "Epoch 17/100\n",
      " - 2s - loss: 0.0026 - accuracy: 1.0000 - val_loss: 0.1188 - val_accuracy: 0.9762\n",
      "Epoch 18/100\n",
      " - 2s - loss: 0.0027 - accuracy: 1.0000 - val_loss: 0.1234 - val_accuracy: 0.9810\n",
      "Epoch 19/100\n",
      " - 2s - loss: 0.0026 - accuracy: 1.0000 - val_loss: 0.1186 - val_accuracy: 0.9714\n",
      "Epoch 20/100\n",
      " - 2s - loss: 0.0027 - accuracy: 1.0000 - val_loss: 0.1406 - val_accuracy: 0.9714\n",
      "Epoch 21/100\n",
      " - 2s - loss: 0.0018 - accuracy: 1.0000 - val_loss: 0.1490 - val_accuracy: 0.9714\n",
      "Epoch 22/100\n",
      " - 2s - loss: 0.0015 - accuracy: 1.0000 - val_loss: 0.1490 - val_accuracy: 0.9714\n",
      "Epoch 23/100\n",
      " - 2s - loss: 0.0015 - accuracy: 1.0000 - val_loss: 0.1441 - val_accuracy: 0.9714\n",
      "Epoch 24/100\n",
      " - 2s - loss: 0.0014 - accuracy: 1.0000 - val_loss: 0.1387 - val_accuracy: 0.9714\n",
      "Epoch 25/100\n",
      " - 2s - loss: 0.0014 - accuracy: 1.0000 - val_loss: 0.1653 - val_accuracy: 0.9714\n",
      "Epoch 26/100\n",
      " - 2s - loss: 0.0013 - accuracy: 1.0000 - val_loss: 0.1460 - val_accuracy: 0.9571\n",
      "Epoch 27/100\n",
      " - 2s - loss: 0.0394 - accuracy: 0.9881 - val_loss: 0.2233 - val_accuracy: 0.9476\n",
      "Epoch 28/100\n",
      " - 2s - loss: 0.1296 - accuracy: 0.9547 - val_loss: 0.3232 - val_accuracy: 0.9190\n",
      "Epoch 29/100\n",
      " - 2s - loss: 0.1036 - accuracy: 0.9666 - val_loss: 0.1914 - val_accuracy: 0.9381\n",
      "Epoch 30/100\n",
      " - 2s - loss: 0.0457 - accuracy: 0.9917 - val_loss: 0.1297 - val_accuracy: 0.9619\n",
      "Epoch 31/100\n",
      " - 2s - loss: 0.0241 - accuracy: 0.9917 - val_loss: 0.1744 - val_accuracy: 0.9571\n",
      "Epoch 32/100\n",
      " - 2s - loss: 0.0220 - accuracy: 0.9964 - val_loss: 0.1764 - val_accuracy: 0.9524\n",
      "Epoch 33/100\n",
      " - 2s - loss: 0.0184 - accuracy: 0.9952 - val_loss: 0.1889 - val_accuracy: 0.9476\n",
      "Epoch 34/100\n",
      " - 2s - loss: 0.0055 - accuracy: 1.0000 - val_loss: 0.1885 - val_accuracy: 0.9524\n",
      "Epoch 35/100\n",
      " - 2s - loss: 0.0041 - accuracy: 1.0000 - val_loss: 0.1667 - val_accuracy: 0.9571\n",
      "Epoch 36/100\n",
      " - 2s - loss: 0.0023 - accuracy: 1.0000 - val_loss: 0.1806 - val_accuracy: 0.9571\n",
      "Epoch 37/100\n",
      " - 2s - loss: 0.0012 - accuracy: 1.0000 - val_loss: 0.1804 - val_accuracy: 0.9524\n",
      "Epoch 38/100\n",
      " - 2s - loss: 0.0012 - accuracy: 1.0000 - val_loss: 0.1811 - val_accuracy: 0.9524\n",
      "Epoch 39/100\n",
      " - 2s - loss: 0.0017 - accuracy: 1.0000 - val_loss: 0.1803 - val_accuracy: 0.9571\n",
      "Epoch 40/100\n",
      " - 2s - loss: 0.0018 - accuracy: 1.0000 - val_loss: 0.1776 - val_accuracy: 0.9524\n",
      "Epoch 41/100\n",
      " - 2s - loss: 0.0011 - accuracy: 1.0000 - val_loss: 0.1818 - val_accuracy: 0.9619\n",
      "Epoch 42/100\n",
      " - 2s - loss: 8.6368e-04 - accuracy: 1.0000 - val_loss: 0.1838 - val_accuracy: 0.9619\n",
      "Epoch 43/100\n",
      " - 2s - loss: 0.0010 - accuracy: 1.0000 - val_loss: 0.1853 - val_accuracy: 0.9571\n",
      "Epoch 44/100\n",
      " - 2s - loss: 0.0012 - accuracy: 1.0000 - val_loss: 0.1779 - val_accuracy: 0.9571\n",
      "Epoch 45/100\n",
      " - 2s - loss: 7.2310e-04 - accuracy: 1.0000 - val_loss: 0.1782 - val_accuracy: 0.9571\n",
      "Epoch 46/100\n",
      " - 2s - loss: 5.0942e-04 - accuracy: 1.0000 - val_loss: 0.1825 - val_accuracy: 0.9619\n",
      "Epoch 47/100\n",
      " - 2s - loss: 8.9983e-04 - accuracy: 1.0000 - val_loss: 0.1900 - val_accuracy: 0.9571\n",
      "Epoch 48/100\n",
      " - 2s - loss: 7.6962e-04 - accuracy: 1.0000 - val_loss: 0.1890 - val_accuracy: 0.9619\n",
      "Epoch 49/100\n",
      " - 2s - loss: 6.0562e-04 - accuracy: 1.0000 - val_loss: 0.1977 - val_accuracy: 0.9571\n",
      "Epoch 50/100\n",
      " - 2s - loss: 6.9985e-04 - accuracy: 1.0000 - val_loss: 0.2013 - val_accuracy: 0.9571\n",
      "Epoch 51/100\n",
      " - 2s - loss: 5.7569e-04 - accuracy: 1.0000 - val_loss: 0.1983 - val_accuracy: 0.9619\n",
      "Epoch 52/100\n",
      " - 2s - loss: 8.3714e-04 - accuracy: 1.0000 - val_loss: 0.2027 - val_accuracy: 0.9619\n",
      "Epoch 53/100\n",
      " - 2s - loss: 5.3023e-04 - accuracy: 1.0000 - val_loss: 0.2037 - val_accuracy: 0.9619\n",
      "Epoch 54/100\n",
      " - 2s - loss: 5.6380e-04 - accuracy: 1.0000 - val_loss: 0.2033 - val_accuracy: 0.9619\n",
      "Epoch 55/100\n",
      " - 2s - loss: 5.3140e-04 - accuracy: 1.0000 - val_loss: 0.2125 - val_accuracy: 0.9571\n",
      "Epoch 56/100\n",
      " - 2s - loss: 3.4708e-04 - accuracy: 1.0000 - val_loss: 0.2160 - val_accuracy: 0.9571\n",
      "Epoch 57/100\n",
      " - 2s - loss: 4.1983e-04 - accuracy: 1.0000 - val_loss: 0.2161 - val_accuracy: 0.9571\n",
      "Epoch 58/100\n",
      " - 2s - loss: 3.7808e-04 - accuracy: 1.0000 - val_loss: 0.2190 - val_accuracy: 0.9571\n",
      "Epoch 59/100\n",
      " - 2s - loss: 5.4730e-04 - accuracy: 1.0000 - val_loss: 0.2190 - val_accuracy: 0.9571\n",
      "Epoch 60/100\n",
      " - 2s - loss: 3.1898e-04 - accuracy: 1.0000 - val_loss: 0.2201 - val_accuracy: 0.9571\n",
      "Epoch 61/100\n",
      " - 2s - loss: 4.1607e-04 - accuracy: 1.0000 - val_loss: 0.2201 - val_accuracy: 0.9619\n",
      "Epoch 62/100\n",
      " - 2s - loss: 3.5553e-04 - accuracy: 1.0000 - val_loss: 0.2206 - val_accuracy: 0.9571\n",
      "Epoch 63/100\n",
      " - 2s - loss: 2.7164e-04 - accuracy: 1.0000 - val_loss: 0.2203 - val_accuracy: 0.9571\n",
      "Epoch 64/100\n",
      " - 2s - loss: 3.9158e-04 - accuracy: 1.0000 - val_loss: 0.2222 - val_accuracy: 0.9571\n",
      "Epoch 65/100\n",
      " - 2s - loss: 2.7129e-04 - accuracy: 1.0000 - val_loss: 0.2269 - val_accuracy: 0.9571\n",
      "Epoch 66/100\n",
      " - 2s - loss: 3.8818e-04 - accuracy: 1.0000 - val_loss: 0.2276 - val_accuracy: 0.9571\n",
      "Epoch 67/100\n",
      " - 2s - loss: 3.2546e-04 - accuracy: 1.0000 - val_loss: 0.2277 - val_accuracy: 0.9571\n",
      "Epoch 68/100\n",
      " - 2s - loss: 3.6665e-04 - accuracy: 1.0000 - val_loss: 0.2214 - val_accuracy: 0.9524\n",
      "Epoch 69/100\n",
      " - 2s - loss: 1.8284e-04 - accuracy: 1.0000 - val_loss: 0.2185 - val_accuracy: 0.9524\n",
      "Epoch 70/100\n",
      " - 2s - loss: 3.1278e-04 - accuracy: 1.0000 - val_loss: 0.2206 - val_accuracy: 0.9524\n",
      "Epoch 71/100\n",
      " - 2s - loss: 2.3188e-04 - accuracy: 1.0000 - val_loss: 0.2248 - val_accuracy: 0.9524\n",
      "Epoch 72/100\n",
      " - 2s - loss: 2.6849e-04 - accuracy: 1.0000 - val_loss: 0.2287 - val_accuracy: 0.9571\n",
      "Epoch 73/100\n",
      " - 2s - loss: 3.2609e-04 - accuracy: 1.0000 - val_loss: 0.2338 - val_accuracy: 0.9571\n",
      "Epoch 74/100\n",
      " - 2s - loss: 1.4151e-04 - accuracy: 1.0000 - val_loss: 0.2353 - val_accuracy: 0.9571\n",
      "Epoch 75/100\n",
      " - 2s - loss: 2.1526e-04 - accuracy: 1.0000 - val_loss: 0.2388 - val_accuracy: 0.9571\n",
      "Epoch 76/100\n",
      " - 2s - loss: 2.7308e-04 - accuracy: 1.0000 - val_loss: 0.2422 - val_accuracy: 0.9571\n",
      "Epoch 77/100\n",
      " - 2s - loss: 1.8331e-04 - accuracy: 1.0000 - val_loss: 0.2441 - val_accuracy: 0.9571\n",
      "Epoch 78/100\n",
      " - 2s - loss: 1.3458e-04 - accuracy: 1.0000 - val_loss: 0.2459 - val_accuracy: 0.9571\n",
      "Epoch 79/100\n",
      " - 2s - loss: 1.6864e-04 - accuracy: 1.0000 - val_loss: 0.2462 - val_accuracy: 0.9571\n",
      "Epoch 80/100\n",
      " - 2s - loss: 2.4089e-04 - accuracy: 1.0000 - val_loss: 0.2503 - val_accuracy: 0.9571\n",
      "Epoch 81/100\n",
      " - 2s - loss: 1.9244e-04 - accuracy: 1.0000 - val_loss: 0.2501 - val_accuracy: 0.9571\n",
      "Epoch 82/100\n",
      " - 2s - loss: 1.4927e-04 - accuracy: 1.0000 - val_loss: 0.2541 - val_accuracy: 0.9571\n",
      "Epoch 83/100\n",
      " - 2s - loss: 1.6354e-04 - accuracy: 1.0000 - val_loss: 0.2530 - val_accuracy: 0.9571\n",
      "Epoch 84/100\n",
      " - 2s - loss: 2.0030e-04 - accuracy: 1.0000 - val_loss: 0.2550 - val_accuracy: 0.9571\n",
      "Epoch 85/100\n"
     ]
    },
    {
     "name": "stdout",
     "output_type": "stream",
     "text": [
      " - 2s - loss: 4.5095e-04 - accuracy: 1.0000 - val_loss: 0.2556 - val_accuracy: 0.9571\n",
      "Epoch 86/100\n",
      " - 2s - loss: 3.0909e-04 - accuracy: 1.0000 - val_loss: 0.2548 - val_accuracy: 0.9524\n",
      "Epoch 87/100\n",
      " - 2s - loss: 1.8301e-04 - accuracy: 1.0000 - val_loss: 0.2569 - val_accuracy: 0.9524\n",
      "Epoch 88/100\n",
      " - 2s - loss: 1.4769e-04 - accuracy: 1.0000 - val_loss: 0.2584 - val_accuracy: 0.9524\n",
      "Epoch 89/100\n",
      " - 2s - loss: 1.4561e-04 - accuracy: 1.0000 - val_loss: 0.2565 - val_accuracy: 0.9524\n",
      "Epoch 90/100\n",
      " - 2s - loss: 2.7938e-04 - accuracy: 1.0000 - val_loss: 0.2587 - val_accuracy: 0.9524\n",
      "Epoch 91/100\n",
      " - 2s - loss: 8.9886e-05 - accuracy: 1.0000 - val_loss: 0.2589 - val_accuracy: 0.9524\n",
      "Epoch 92/100\n",
      " - 2s - loss: 1.9150e-04 - accuracy: 1.0000 - val_loss: 0.2596 - val_accuracy: 0.9524\n",
      "Epoch 93/100\n",
      " - 2s - loss: 2.7289e-04 - accuracy: 1.0000 - val_loss: 0.2617 - val_accuracy: 0.9524\n",
      "Epoch 94/100\n",
      " - 2s - loss: 1.4774e-04 - accuracy: 1.0000 - val_loss: 0.2657 - val_accuracy: 0.9524\n",
      "Epoch 95/100\n",
      " - 2s - loss: 1.3081e-04 - accuracy: 1.0000 - val_loss: 0.2693 - val_accuracy: 0.9524\n",
      "Epoch 96/100\n",
      " - 2s - loss: 1.2138e-04 - accuracy: 1.0000 - val_loss: 0.2697 - val_accuracy: 0.9524\n",
      "Epoch 97/100\n",
      " - 2s - loss: 1.3612e-04 - accuracy: 1.0000 - val_loss: 0.2698 - val_accuracy: 0.9524\n",
      "Epoch 98/100\n",
      " - 2s - loss: 1.8154e-04 - accuracy: 1.0000 - val_loss: 0.2668 - val_accuracy: 0.9524\n",
      "Epoch 99/100\n",
      " - 2s - loss: 2.0300e-04 - accuracy: 1.0000 - val_loss: 0.2697 - val_accuracy: 0.9524\n",
      "Epoch 100/100\n",
      " - 2s - loss: 1.7612e-04 - accuracy: 1.0000 - val_loss: 0.2758 - val_accuracy: 0.9524\n",
      "Wall time: 3min 8s\n"
     ]
    }
   ],
   "source": [
    "%%time\n",
    "history = model_6.fit(X_train_6,\n",
    "                    y_train,\n",
    "                    batch_size=32,\n",
    "                    validation_data=(X_test_6, y_test),\n",
    "                    epochs=100,\n",
    "                    verbose=2)"
   ]
  },
  {
   "cell_type": "code",
   "execution_count": 76,
   "metadata": {},
   "outputs": [
    {
     "data": {
      "text/plain": [
       "<matplotlib.legend.Legend at 0x17a85e92e80>"
      ]
     },
     "execution_count": 76,
     "metadata": {},
     "output_type": "execute_result"
    },
    {
     "data": {
      "image/png": "[encoded data removed]",
      "text/plain": [
       "<Figure size 432x288 with 1 Axes>"
      ]
     },
     "metadata": {
      "needs_background": "light"
     },
     "output_type": "display_data"
    }
   ],
   "source": [
    "plt.plot(history.history['loss'], label = ' Training Loss')\n",
    "plt.plot(history.history['val_loss'], label = ' Test Loss')\n",
    "plt.legend()"
   ]
  },
  {
   "cell_type": "code",
   "execution_count": 77,
   "metadata": {},
   "outputs": [
    {
     "data": {
      "text/plain": [
       "<matplotlib.legend.Legend at 0x17a85edcfd0>"
      ]
     },
     "execution_count": 77,
     "metadata": {},
     "output_type": "execute_result"
    },
    {
     "data": {
      "image/png": "[encoded data removed]",
      "text/plain": [
       "<Figure size 432x288 with 1 Axes>"
      ]
     },
     "metadata": {
      "needs_background": "light"
     },
     "output_type": "display_data"
    }
   ],
   "source": [
    "plt.plot(history.history['accuracy'], label = ' Training Accuracy')\n",
    "plt.plot(history.history['val_accuracy'], label = ' Test Accuracy')\n",
    "plt.legend()"
   ]
  },
  {
   "cell_type": "code",
   "execution_count": 78,
   "metadata": {},
   "outputs": [
    {
     "name": "stdout",
     "output_type": "stream",
     "text": [
      "210/210 [==============================] - 0s 572us/step\n",
      "Model 6 loss: 0.2757752725882234\n",
      "Model 6 accuracy: 0.9523809552192688\n"
     ]
    }
   ],
   "source": [
    "# print evaluation scores\n",
    "\n",
    "model_6_eval = model_6.evaluate(X_test_6,y_test, verbose=1)\n",
    "model_6_metrics = model_6.metrics_names\n",
    "\n",
    "print(f\"Model 6 {model_6_metrics[0]}: {model_6_eval[0]}\")\n",
    "print(f\"Model 6 {model_6_metrics[1]}: {model_6_eval[1]}\")"
   ]
  },
  {
   "cell_type": "markdown",
   "metadata": {},
   "source": [
    "**Model 7: Recurrent Neural Network (Gated Recurrent Units GRU)**\n",
    "\n",
    "- Features: timesteps and MFCC, padded\n",
    "- input shape: (42,40)"
   ]
  },
  {
   "cell_type": "code",
   "execution_count": 79,
   "metadata": {},
   "outputs": [],
   "source": [
    "# it uses the same train test split as above\n",
    "X_train_7, X_test_7, y_train, y_test = train_test_split(X, y, test_size = 0.2, random_state = 42, stratify = y)"
   ]
  },
  {
   "cell_type": "code",
   "execution_count": 80,
   "metadata": {},
   "outputs": [],
   "source": [
    "random.set_seed(42)\n",
    "\n",
    "model_7 = Sequential()\n",
    "\n",
    "# add masking layer so that it would not use the zeroes\n",
    "model_7.add(Masking(mask_value=0, input_shape=(42, 40)))\n",
    "\n",
    "# two GRU layers\n",
    "model_7.add(GRU(64, input_shape = (42,40), return_sequences=True))\n",
    "model_7.add(GRU(64, return_sequences=False ))\n",
    "\n",
    "# one dense layer\n",
    "model_7.add(Dense(64, activation = 'relu'))\n",
    "model_7.add(Dropout(0.5))\n",
    "\n",
    "# output layer\n",
    "model_7.add(Dense(5, activation = 'softmax'))"
   ]
  },
  {
   "cell_type": "code",
   "execution_count": 81,
   "metadata": {},
   "outputs": [],
   "source": [
    "model_7.compile(optimizer = 'Adam', loss = 'categorical_crossentropy', metrics = ['accuracy'])"
   ]
  },
  {
   "cell_type": "code",
   "execution_count": 82,
   "metadata": {
    "scrolled": true
   },
   "outputs": [
    {
     "name": "stdout",
     "output_type": "stream",
     "text": [
      "Model: \"sequential_7\"\n",
      "_________________________________________________________________\n",
      "Layer (type)                 Output Shape              Param #   \n",
      "=================================================================\n",
      "masking_2 (Masking)          (None, 42, 40)            0         \n",
      "_________________________________________________________________\n",
      "gru_1 (GRU)                  (None, 42, 64)            20160     \n",
      "_________________________________________________________________\n",
      "gru_2 (GRU)                  (None, 64)                24768     \n",
      "_________________________________________________________________\n",
      "dense_18 (Dense)             (None, 64)                4160      \n",
      "_________________________________________________________________\n",
      "dropout_7 (Dropout)          (None, 64)                0         \n",
      "_________________________________________________________________\n",
      "dense_19 (Dense)             (None, 5)                 325       \n",
      "=================================================================\n",
      "Total params: 49,413\n",
      "Trainable params: 49,413\n",
      "Non-trainable params: 0\n",
      "_________________________________________________________________\n"
     ]
    }
   ],
   "source": [
    "model_7.summary()"
   ]
  },
  {
   "cell_type": "code",
   "execution_count": 83,
   "metadata": {},
   "outputs": [
    {
     "name": "stdout",
     "output_type": "stream",
     "text": [
      "Train on 839 samples, validate on 210 samples\n",
      "Epoch 1/100\n",
      " - 3s - loss: 1.4665 - accuracy: 0.3611 - val_loss: 1.1233 - val_accuracy: 0.6429\n",
      "Epoch 2/100\n",
      " - 2s - loss: 1.0586 - accuracy: 0.5757 - val_loss: 0.8070 - val_accuracy: 0.7476\n",
      "Epoch 3/100\n",
      " - 2s - loss: 0.7994 - accuracy: 0.6925 - val_loss: 0.6479 - val_accuracy: 0.7333\n",
      "Epoch 4/100\n",
      " - 2s - loss: 0.5851 - accuracy: 0.7712 - val_loss: 0.4909 - val_accuracy: 0.8238\n",
      "Epoch 5/100\n",
      " - 2s - loss: 0.3854 - accuracy: 0.8772 - val_loss: 0.3389 - val_accuracy: 0.8810\n",
      "Epoch 6/100\n",
      " - 2s - loss: 0.2218 - accuracy: 0.9368 - val_loss: 0.2797 - val_accuracy: 0.9000\n",
      "Epoch 7/100\n",
      " - 2s - loss: 0.1735 - accuracy: 0.9487 - val_loss: 0.2304 - val_accuracy: 0.9286\n",
      "Epoch 8/100\n",
      " - 2s - loss: 0.1175 - accuracy: 0.9666 - val_loss: 0.1967 - val_accuracy: 0.9190\n",
      "Epoch 9/100\n",
      " - 2s - loss: 0.0865 - accuracy: 0.9774 - val_loss: 0.3468 - val_accuracy: 0.9000\n",
      "Epoch 10/100\n",
      " - 2s - loss: 0.0648 - accuracy: 0.9845 - val_loss: 0.1865 - val_accuracy: 0.9381\n",
      "Epoch 11/100\n",
      " - 2s - loss: 0.0494 - accuracy: 0.9905 - val_loss: 0.1917 - val_accuracy: 0.9429\n",
      "Epoch 12/100\n",
      " - 2s - loss: 0.0253 - accuracy: 0.9940 - val_loss: 0.2956 - val_accuracy: 0.9143\n",
      "Epoch 13/100\n",
      " - 2s - loss: 0.0337 - accuracy: 0.9893 - val_loss: 0.3680 - val_accuracy: 0.9190\n",
      "Epoch 14/100\n",
      " - 2s - loss: 0.0243 - accuracy: 0.9940 - val_loss: 0.2959 - val_accuracy: 0.9286\n",
      "Epoch 15/100\n",
      " - 2s - loss: 0.0219 - accuracy: 0.9940 - val_loss: 0.3143 - val_accuracy: 0.9238\n",
      "Epoch 16/100\n",
      " - 2s - loss: 0.0098 - accuracy: 0.9988 - val_loss: 0.3181 - val_accuracy: 0.9190\n",
      "Epoch 17/100\n",
      " - 2s - loss: 0.0262 - accuracy: 0.9905 - val_loss: 0.3132 - val_accuracy: 0.9286\n",
      "Epoch 18/100\n",
      " - 2s - loss: 0.0485 - accuracy: 0.9881 - val_loss: 0.2100 - val_accuracy: 0.9524\n",
      "Epoch 19/100\n",
      " - 2s - loss: 0.0374 - accuracy: 0.9881 - val_loss: 0.2962 - val_accuracy: 0.9333\n",
      "Epoch 20/100\n",
      " - 2s - loss: 0.0828 - accuracy: 0.9750 - val_loss: 0.3242 - val_accuracy: 0.9238\n",
      "Epoch 21/100\n",
      " - 2s - loss: 0.0243 - accuracy: 0.9917 - val_loss: 0.1693 - val_accuracy: 0.9619\n",
      "Epoch 22/100\n",
      " - 2s - loss: 0.0151 - accuracy: 0.9976 - val_loss: 0.1952 - val_accuracy: 0.9619\n",
      "Epoch 23/100\n",
      " - 2s - loss: 0.0077 - accuracy: 1.0000 - val_loss: 0.1905 - val_accuracy: 0.9524\n",
      "Epoch 24/100\n",
      " - 2s - loss: 0.0062 - accuracy: 1.0000 - val_loss: 0.1762 - val_accuracy: 0.9619\n",
      "Epoch 25/100\n",
      " - 2s - loss: 0.0057 - accuracy: 1.0000 - val_loss: 0.1710 - val_accuracy: 0.9619\n",
      "Epoch 26/100\n",
      " - 2s - loss: 0.0059 - accuracy: 1.0000 - val_loss: 0.2042 - val_accuracy: 0.9619\n",
      "Epoch 27/100\n",
      " - 2s - loss: 0.0051 - accuracy: 1.0000 - val_loss: 0.1976 - val_accuracy: 0.9524\n",
      "Epoch 28/100\n",
      " - 2s - loss: 0.0046 - accuracy: 1.0000 - val_loss: 0.2023 - val_accuracy: 0.9571\n",
      "Epoch 29/100\n",
      " - 2s - loss: 0.0031 - accuracy: 1.0000 - val_loss: 0.2048 - val_accuracy: 0.9476\n",
      "Epoch 30/100\n",
      " - 2s - loss: 0.0031 - accuracy: 1.0000 - val_loss: 0.2218 - val_accuracy: 0.9571\n",
      "Epoch 31/100\n",
      " - 2s - loss: 0.0039 - accuracy: 1.0000 - val_loss: 0.2319 - val_accuracy: 0.9524\n",
      "Epoch 32/100\n",
      " - 2s - loss: 0.0027 - accuracy: 0.9988 - val_loss: 0.2464 - val_accuracy: 0.9476\n",
      "Epoch 33/100\n",
      " - 2s - loss: 0.0027 - accuracy: 1.0000 - val_loss: 0.2428 - val_accuracy: 0.9524\n",
      "Epoch 34/100\n",
      " - 2s - loss: 0.0034 - accuracy: 1.0000 - val_loss: 0.2342 - val_accuracy: 0.9524\n",
      "Epoch 35/100\n",
      " - 2s - loss: 0.0024 - accuracy: 1.0000 - val_loss: 0.2408 - val_accuracy: 0.9524\n",
      "Epoch 36/100\n",
      " - 2s - loss: 0.0012 - accuracy: 1.0000 - val_loss: 0.2406 - val_accuracy: 0.9524\n",
      "Epoch 37/100\n",
      " - 2s - loss: 0.0033 - accuracy: 1.0000 - val_loss: 0.2671 - val_accuracy: 0.9476\n",
      "Epoch 38/100\n",
      " - 2s - loss: 0.0015 - accuracy: 1.0000 - val_loss: 0.2586 - val_accuracy: 0.9476\n",
      "Epoch 39/100\n",
      " - 2s - loss: 0.0012 - accuracy: 1.0000 - val_loss: 0.2516 - val_accuracy: 0.9476\n",
      "Epoch 40/100\n",
      " - 2s - loss: 0.0021 - accuracy: 1.0000 - val_loss: 0.2420 - val_accuracy: 0.9524\n",
      "Epoch 41/100\n",
      " - 2s - loss: 8.7436e-04 - accuracy: 1.0000 - val_loss: 0.2495 - val_accuracy: 0.9524\n",
      "Epoch 42/100\n",
      " - 2s - loss: 0.0035 - accuracy: 0.9988 - val_loss: 0.2401 - val_accuracy: 0.9571\n",
      "Epoch 43/100\n",
      " - 2s - loss: 0.0014 - accuracy: 1.0000 - val_loss: 0.2329 - val_accuracy: 0.9571\n",
      "Epoch 44/100\n",
      " - 2s - loss: 0.0015 - accuracy: 1.0000 - val_loss: 0.2369 - val_accuracy: 0.9524\n",
      "Epoch 45/100\n",
      " - 2s - loss: 0.0016 - accuracy: 1.0000 - val_loss: 0.2060 - val_accuracy: 0.9619\n",
      "Epoch 46/100\n",
      " - 2s - loss: 0.0013 - accuracy: 1.0000 - val_loss: 0.2378 - val_accuracy: 0.9571\n",
      "Epoch 47/100\n",
      " - 2s - loss: 0.0023 - accuracy: 0.9988 - val_loss: 0.2475 - val_accuracy: 0.9571\n",
      "Epoch 48/100\n",
      " - 2s - loss: 0.0017 - accuracy: 1.0000 - val_loss: 0.2265 - val_accuracy: 0.9619\n",
      "Epoch 49/100\n",
      " - 2s - loss: 0.0035 - accuracy: 0.9988 - val_loss: 0.2523 - val_accuracy: 0.9571\n",
      "Epoch 50/100\n",
      " - 2s - loss: 0.0013 - accuracy: 1.0000 - val_loss: 0.3004 - val_accuracy: 0.9476\n",
      "Epoch 51/100\n",
      " - 2s - loss: 8.6074e-04 - accuracy: 1.0000 - val_loss: 0.2826 - val_accuracy: 0.9571\n",
      "Epoch 52/100\n",
      " - 2s - loss: 0.0010 - accuracy: 1.0000 - val_loss: 0.2782 - val_accuracy: 0.9571\n",
      "Epoch 53/100\n",
      " - 2s - loss: 0.0011 - accuracy: 1.0000 - val_loss: 0.2744 - val_accuracy: 0.9571\n",
      "Epoch 54/100\n",
      " - 2s - loss: 0.0014 - accuracy: 1.0000 - val_loss: 0.2401 - val_accuracy: 0.9619\n",
      "Epoch 55/100\n",
      " - 2s - loss: 7.0358e-04 - accuracy: 1.0000 - val_loss: 0.2482 - val_accuracy: 0.9571\n",
      "Epoch 56/100\n",
      " - 2s - loss: 9.8270e-04 - accuracy: 1.0000 - val_loss: 0.2598 - val_accuracy: 0.9571\n",
      "Epoch 57/100\n",
      " - 2s - loss: 0.0015 - accuracy: 1.0000 - val_loss: 0.3399 - val_accuracy: 0.9476\n",
      "Epoch 58/100\n",
      " - 2s - loss: 0.0011 - accuracy: 1.0000 - val_loss: 0.3329 - val_accuracy: 0.9476\n",
      "Epoch 59/100\n",
      " - 2s - loss: 8.1567e-04 - accuracy: 1.0000 - val_loss: 0.3022 - val_accuracy: 0.9571\n",
      "Epoch 60/100\n",
      " - 2s - loss: 9.0603e-04 - accuracy: 1.0000 - val_loss: 0.2948 - val_accuracy: 0.9571\n",
      "Epoch 61/100\n",
      " - 2s - loss: 0.0021 - accuracy: 1.0000 - val_loss: 0.2496 - val_accuracy: 0.9619\n",
      "Epoch 62/100\n",
      " - 2s - loss: 9.0924e-04 - accuracy: 1.0000 - val_loss: 0.3044 - val_accuracy: 0.9524\n",
      "Epoch 63/100\n",
      " - 2s - loss: 5.5602e-04 - accuracy: 1.0000 - val_loss: 0.3073 - val_accuracy: 0.9524\n",
      "Epoch 64/100\n",
      " - 2s - loss: 9.1659e-04 - accuracy: 1.0000 - val_loss: 0.3061 - val_accuracy: 0.9524\n",
      "Epoch 65/100\n",
      " - 2s - loss: 3.8977e-04 - accuracy: 1.0000 - val_loss: 0.3047 - val_accuracy: 0.9524\n",
      "Epoch 66/100\n",
      " - 2s - loss: 7.5079e-04 - accuracy: 1.0000 - val_loss: 0.3056 - val_accuracy: 0.9524\n",
      "Epoch 67/100\n",
      " - 2s - loss: 5.1688e-04 - accuracy: 1.0000 - val_loss: 0.3036 - val_accuracy: 0.9524\n",
      "Epoch 68/100\n",
      " - 2s - loss: 9.9537e-04 - accuracy: 1.0000 - val_loss: 0.3234 - val_accuracy: 0.9524\n",
      "Epoch 69/100\n",
      " - 2s - loss: 0.0017 - accuracy: 0.9988 - val_loss: 0.3058 - val_accuracy: 0.9524\n",
      "Epoch 70/100\n",
      " - 2s - loss: 8.3108e-04 - accuracy: 1.0000 - val_loss: 0.3547 - val_accuracy: 0.9429\n",
      "Epoch 71/100\n",
      " - 2s - loss: 4.8753e-04 - accuracy: 1.0000 - val_loss: 0.2926 - val_accuracy: 0.9571\n",
      "Epoch 72/100\n",
      " - 2s - loss: 0.3551 - accuracy: 0.9476 - val_loss: 0.5172 - val_accuracy: 0.8667\n",
      "Epoch 73/100\n",
      " - 2s - loss: 0.2212 - accuracy: 0.9261 - val_loss: 0.1222 - val_accuracy: 0.9571\n",
      "Epoch 74/100\n",
      " - 2s - loss: 0.0574 - accuracy: 0.9809 - val_loss: 0.1855 - val_accuracy: 0.9381\n",
      "Epoch 75/100\n",
      " - 2s - loss: 0.0328 - accuracy: 0.9940 - val_loss: 0.0898 - val_accuracy: 0.9762\n",
      "Epoch 76/100\n",
      " - 2s - loss: 0.0155 - accuracy: 0.9964 - val_loss: 0.1049 - val_accuracy: 0.9714\n",
      "Epoch 77/100\n",
      " - 2s - loss: 0.0211 - accuracy: 0.9940 - val_loss: 0.1374 - val_accuracy: 0.9667\n",
      "Epoch 78/100\n",
      " - 2s - loss: 0.0115 - accuracy: 0.9964 - val_loss: 0.0851 - val_accuracy: 0.9714\n",
      "Epoch 79/100\n",
      " - 2s - loss: 0.0112 - accuracy: 0.9988 - val_loss: 0.0875 - val_accuracy: 0.9762\n",
      "Epoch 80/100\n",
      " - 2s - loss: 0.0098 - accuracy: 0.9976 - val_loss: 0.1445 - val_accuracy: 0.9667\n",
      "Epoch 81/100\n",
      " - 2s - loss: 0.0065 - accuracy: 0.9976 - val_loss: 0.1271 - val_accuracy: 0.9762\n",
      "Epoch 82/100\n",
      " - 2s - loss: 0.0070 - accuracy: 0.9964 - val_loss: 0.1209 - val_accuracy: 0.9714\n",
      "Epoch 83/100\n",
      " - 2s - loss: 0.0060 - accuracy: 0.9988 - val_loss: 0.1288 - val_accuracy: 0.9667\n",
      "Epoch 84/100\n",
      " - 2s - loss: 0.0055 - accuracy: 0.9964 - val_loss: 0.1543 - val_accuracy: 0.9762\n",
      "Epoch 85/100\n",
      " - 2s - loss: 0.0060 - accuracy: 0.9988 - val_loss: 0.1892 - val_accuracy: 0.9524\n",
      "Epoch 86/100\n",
      " - 2s - loss: 0.0130 - accuracy: 0.9964 - val_loss: 0.1027 - val_accuracy: 0.9810\n"
     ]
    },
    {
     "name": "stdout",
     "output_type": "stream",
     "text": [
      "Epoch 87/100\n",
      " - 2s - loss: 0.0114 - accuracy: 0.9964 - val_loss: 0.1813 - val_accuracy: 0.9667\n",
      "Epoch 88/100\n",
      " - 2s - loss: 0.0025 - accuracy: 1.0000 - val_loss: 0.1982 - val_accuracy: 0.9667\n",
      "Epoch 89/100\n",
      " - 2s - loss: 0.0017 - accuracy: 1.0000 - val_loss: 0.1794 - val_accuracy: 0.9667\n",
      "Epoch 90/100\n",
      " - 2s - loss: 0.0016 - accuracy: 1.0000 - val_loss: 0.1719 - val_accuracy: 0.9667\n",
      "Epoch 91/100\n",
      " - 2s - loss: 0.0015 - accuracy: 1.0000 - val_loss: 0.1630 - val_accuracy: 0.9714\n",
      "Epoch 92/100\n",
      " - 2s - loss: 0.0016 - accuracy: 1.0000 - val_loss: 0.1630 - val_accuracy: 0.9667\n",
      "Epoch 93/100\n",
      " - 2s - loss: 0.0011 - accuracy: 1.0000 - val_loss: 0.1522 - val_accuracy: 0.9714\n",
      "Epoch 94/100\n",
      " - 2s - loss: 0.0014 - accuracy: 1.0000 - val_loss: 0.1524 - val_accuracy: 0.9714\n",
      "Epoch 95/100\n",
      " - 2s - loss: 7.8229e-04 - accuracy: 1.0000 - val_loss: 0.1581 - val_accuracy: 0.9667\n",
      "Epoch 96/100\n",
      " - 2s - loss: 0.0012 - accuracy: 1.0000 - val_loss: 0.1539 - val_accuracy: 0.9667\n",
      "Epoch 97/100\n",
      " - 2s - loss: 9.8675e-04 - accuracy: 1.0000 - val_loss: 0.1533 - val_accuracy: 0.9667\n",
      "Epoch 98/100\n",
      " - 2s - loss: 0.0012 - accuracy: 1.0000 - val_loss: 0.1517 - val_accuracy: 0.9667\n",
      "Epoch 99/100\n",
      " - 2s - loss: 0.0012 - accuracy: 1.0000 - val_loss: 0.1435 - val_accuracy: 0.9667\n",
      "Epoch 100/100\n",
      " - 2s - loss: 0.0013 - accuracy: 1.0000 - val_loss: 0.1354 - val_accuracy: 0.9714\n",
      "Wall time: 3min 20s\n"
     ]
    }
   ],
   "source": [
    "%%time\n",
    "history = model_7.fit(X_train_7,\n",
    "                    y_train,\n",
    "                    batch_size=32,\n",
    "                    validation_data=(X_test_7, y_test),\n",
    "                    epochs=100,\n",
    "                    verbose=2)"
   ]
  },
  {
   "cell_type": "code",
   "execution_count": 84,
   "metadata": {},
   "outputs": [
    {
     "data": {
      "text/plain": [
       "<matplotlib.legend.Legend at 0x17a85ed5828>"
      ]
     },
     "execution_count": 84,
     "metadata": {},
     "output_type": "execute_result"
    },
    {
     "data": {
      "image/png": "[encoded data removed]",
      "text/plain": [
       "<Figure size 432x288 with 1 Axes>"
      ]
     },
     "metadata": {
      "needs_background": "light"
     },
     "output_type": "display_data"
    }
   ],
   "source": [
    "plt.plot(history.history['loss'], label = ' Training Loss')\n",
    "plt.plot(history.history['val_loss'], label = ' Test Loss')\n",
    "plt.legend()"
   ]
  },
  {
   "cell_type": "code",
   "execution_count": 85,
   "metadata": {},
   "outputs": [
    {
     "data": {
      "text/plain": [
       "<matplotlib.legend.Legend at 0x17a87a99198>"
      ]
     },
     "execution_count": 85,
     "metadata": {},
     "output_type": "execute_result"
    },
    {
     "data": {
      "image/png": "[encoded data removed]",
      "text/plain": [
       "<Figure size 432x288 with 1 Axes>"
      ]
     },
     "metadata": {
      "needs_background": "light"
     },
     "output_type": "display_data"
    }
   ],
   "source": [
    "plt.plot(history.history['accuracy'], label = ' Training Accuracy')\n",
    "plt.plot(history.history['val_accuracy'], label = ' Test Accuracy')\n",
    "plt.legend()"
   ]
  },
  {
   "cell_type": "code",
   "execution_count": 86,
   "metadata": {},
   "outputs": [
    {
     "name": "stdout",
     "output_type": "stream",
     "text": [
      "210/210 [==============================] - 0s 481us/step\n",
      "Model 7 loss: 0.13535700653058788\n",
      "Model 7 accuracy: 0.9714285731315613\n"
     ]
    }
   ],
   "source": [
    "# print evaluation scores\n",
    "\n",
    "model_7_eval = model_7.evaluate(X_test_7, y_test, verbose=1)\n",
    "model_7_metrics = model_7.metrics_names\n",
    "\n",
    "print(f\"Model 7 {model_7_metrics[0]}: {model_7_eval[0]}\")\n",
    "print(f\"Model 7 {model_7_metrics[1]}: {model_7_eval[1]}\")"
   ]
  },
  {
   "cell_type": "markdown",
   "metadata": {},
   "source": [
    "## 5. Evaluation\n",
    "\n",
    "After the models are trained, they will be evaluated and the best model will be chosen. The best performing model will be chosen based on the best accuracy score. The top 2 models will also be tested against unseen data."
   ]
  },
  {
   "cell_type": "markdown",
   "metadata": {},
   "source": [
    "### Summary Table"
   ]
  },
  {
   "cell_type": "code",
   "execution_count": 87,
   "metadata": {},
   "outputs": [],
   "source": [
    "eval_df = pd.DataFrame(columns=['Model', 'Type', 'Accuracy', 'Loss'])"
   ]
  },
  {
   "cell_type": "code",
   "execution_count": 88,
   "metadata": {
    "scrolled": true
   },
   "outputs": [
    {
     "data": {
      "text/html": [
       "<div>\n",
       "<style scoped>\n",
       "    .dataframe tbody tr th:only-of-type {\n",
       "        vertical-align: middle;\n",
       "    }\n",
       "\n",
       "    .dataframe tbody tr th {\n",
       "        vertical-align: top;\n",
       "    }\n",
       "\n",
       "    .dataframe thead th {\n",
       "        text-align: right;\n",
       "    }\n",
       "</style>\n",
       "<table border=\"1\" class=\"dataframe\">\n",
       "  <thead>\n",
       "    <tr style=\"text-align: right;\">\n",
       "      <th></th>\n",
       "      <th>Model</th>\n",
       "      <th>Type</th>\n",
       "      <th>Accuracy</th>\n",
       "      <th>Loss</th>\n",
       "    </tr>\n",
       "  </thead>\n",
       "  <tbody>\n",
       "    <tr>\n",
       "      <th>4</th>\n",
       "      <td>Model 5</td>\n",
       "      <td>CNN</td>\n",
       "      <td>0.980952</td>\n",
       "      <td>0.050223</td>\n",
       "    </tr>\n",
       "    <tr>\n",
       "      <th>6</th>\n",
       "      <td>Model 7</td>\n",
       "      <td>RNN (GRU)</td>\n",
       "      <td>0.971429</td>\n",
       "      <td>0.135357</td>\n",
       "    </tr>\n",
       "    <tr>\n",
       "      <th>2</th>\n",
       "      <td>Model 3</td>\n",
       "      <td>FNN</td>\n",
       "      <td>0.952381</td>\n",
       "      <td>0.252621</td>\n",
       "    </tr>\n",
       "    <tr>\n",
       "      <th>5</th>\n",
       "      <td>Model 6</td>\n",
       "      <td>RNN (LSTM)</td>\n",
       "      <td>0.952381</td>\n",
       "      <td>0.275775</td>\n",
       "    </tr>\n",
       "    <tr>\n",
       "      <th>1</th>\n",
       "      <td>Model 2</td>\n",
       "      <td>FNN</td>\n",
       "      <td>0.942857</td>\n",
       "      <td>0.117656</td>\n",
       "    </tr>\n",
       "    <tr>\n",
       "      <th>3</th>\n",
       "      <td>Model 4</td>\n",
       "      <td>CNN</td>\n",
       "      <td>0.904762</td>\n",
       "      <td>0.727133</td>\n",
       "    </tr>\n",
       "    <tr>\n",
       "      <th>0</th>\n",
       "      <td>Model 1 (baseline)</td>\n",
       "      <td>FNN</td>\n",
       "      <td>0.695238</td>\n",
       "      <td>1.280541</td>\n",
       "    </tr>\n",
       "  </tbody>\n",
       "</table>\n",
       "</div>"
      ],
      "text/plain": [
       "                Model        Type  Accuracy      Loss\n",
       "4             Model 5         CNN  0.980952  0.050223\n",
       "6             Model 7   RNN (GRU)  0.971429  0.135357\n",
       "2             Model 3         FNN  0.952381  0.252621\n",
       "5             Model 6  RNN (LSTM)  0.952381  0.275775\n",
       "1             Model 2         FNN  0.942857  0.117656\n",
       "3             Model 4         CNN  0.904762  0.727133\n",
       "0  Model 1 (baseline)         FNN  0.695238  1.280541"
      ]
     },
     "execution_count": 88,
     "metadata": {},
     "output_type": "execute_result"
    }
   ],
   "source": [
    "eval_df['Model'] = ['Model 1 (baseline)', 'Model 2', 'Model 3', 'Model 4', 'Model 5', 'Model 6', 'Model 7']\n",
    "eval_df['Type'] = ['FNN', 'FNN', 'FNN', 'CNN', 'CNN', 'RNN (LSTM)', 'RNN (GRU)']\n",
    "eval_df['Accuracy'] = [model_1_eval[1], model_2_eval[1], model_3_eval[1], model_4_eval[1], model_5_eval[1],\n",
    "                      model_6_eval[1], model_7_eval[1]]\n",
    "\n",
    "eval_df['Loss'] = [model_1_eval[0], model_2_eval[0], model_3_eval[0], model_4_eval[0], model_5_eval[0],\n",
    "                      model_6_eval[0], model_7_eval[0]]\n",
    "\n",
    "eval_df.sort_values(by='Accuracy', ascending = False)"
   ]
  },
  {
   "cell_type": "markdown",
   "metadata": {},
   "source": [
    "Based on the results, the top 2 performing models are the CNN model with data processed by images and the RNN model with Long-Short Term Memory (LSTM) layers. They have an accuracy of 98.57% and 96.19%.\n",
    "\n",
    "To further assess their accuracy, we can examine the classification report.\n",
    "\n",
    "Before that, the labels will be converted so that they can be compared with the predictions."
   ]
  },
  {
   "cell_type": "code",
   "execution_count": 89,
   "metadata": {},
   "outputs": [],
   "source": [
    "# create labels for test set\n",
    "labels = list(le.classes_)\n",
    "\n",
    "y_test_labels = []\n",
    "for pred in y_test:\n",
    "    for n, i in enumerate(pred):\n",
    "        if i == 1:\n",
    "            y_test_labels.append(labels[n])"
   ]
  },
  {
   "cell_type": "code",
   "execution_count": 90,
   "metadata": {},
   "outputs": [],
   "source": [
    "# create labels for test set for cnn\n",
    "labels = list(le_cnn.classes_)\n",
    "\n",
    "y_cnn_labels = []\n",
    "for pred in y_test_cnn:\n",
    "    for n, i in enumerate(pred):\n",
    "        if i == 1:\n",
    "            y_cnn_labels.append(labels[n])"
   ]
  },
  {
   "cell_type": "markdown",
   "metadata": {},
   "source": [
    "### Classification Report\n",
    "**Model 1**"
   ]
  },
  {
   "cell_type": "code",
   "execution_count": 91,
   "metadata": {},
   "outputs": [
    {
     "name": "stdout",
     "output_type": "stream",
     "text": [
      "              precision    recall  f1-score   support\n",
      "\n",
      "      apples       0.58      0.69      0.63        42\n",
      "      father       0.67      0.86      0.75        42\n",
      "     flowers       0.69      0.48      0.56        42\n",
      "       water       0.80      0.76      0.78        42\n",
      "      worker       0.78      0.69      0.73        42\n",
      "\n",
      "    accuracy                           0.70       210\n",
      "   macro avg       0.70      0.70      0.69       210\n",
      "weighted avg       0.70      0.70      0.69       210\n",
      "\n"
     ]
    }
   ],
   "source": [
    "# convert predictions to its class labels\n",
    "y_pred_1 = model_1.predict_classes(X_test_1)\n",
    "y_pred_1 = list(le.inverse_transform(y_pred_1))\n",
    "\n",
    "print(classification_report(y_test_labels, y_pred_1))"
   ]
  },
  {
   "cell_type": "markdown",
   "metadata": {},
   "source": [
    "The accuracy in general is not very good relative to the rest of the model. It is especially bad in predicting `apples` with a precision of 54%. "
   ]
  },
  {
   "cell_type": "markdown",
   "metadata": {},
   "source": [
    "**Model 2**"
   ]
  },
  {
   "cell_type": "code",
   "execution_count": 92,
   "metadata": {},
   "outputs": [
    {
     "name": "stdout",
     "output_type": "stream",
     "text": [
      "              precision    recall  f1-score   support\n",
      "\n",
      "      apples       0.95      0.98      0.96        42\n",
      "      father       0.95      0.93      0.94        42\n",
      "     flowers       0.95      0.93      0.94        42\n",
      "       water       0.90      0.90      0.90        42\n",
      "      worker       0.95      0.98      0.96        42\n",
      "\n",
      "    accuracy                           0.94       210\n",
      "   macro avg       0.94      0.94      0.94       210\n",
      "weighted avg       0.94      0.94      0.94       210\n",
      "\n"
     ]
    }
   ],
   "source": [
    "# convert predictions to its class labels\n",
    "y_pred_2 = model_2.predict_classes(X_test_2)\n",
    "y_pred_2 = list(le.inverse_transform(y_pred_2))\n",
    "\n",
    "print(classification_report(y_test_labels, y_pred_2))"
   ]
  },
  {
   "cell_type": "markdown",
   "metadata": {},
   "source": [
    "Model 2 yields quite consistent results, with an average accuracy of 94%. It is slightly worse in classifying in `water`, with a precision of 90%."
   ]
  },
  {
   "cell_type": "markdown",
   "metadata": {},
   "source": [
    "**Model 3**"
   ]
  },
  {
   "cell_type": "code",
   "execution_count": 93,
   "metadata": {},
   "outputs": [
    {
     "name": "stdout",
     "output_type": "stream",
     "text": [
      "              precision    recall  f1-score   support\n",
      "\n",
      "      apples       0.98      0.98      0.98        42\n",
      "      father       0.87      0.98      0.92        42\n",
      "     flowers       1.00      0.95      0.98        42\n",
      "       water       0.95      0.95      0.95        42\n",
      "      worker       0.97      0.90      0.94        42\n",
      "\n",
      "    accuracy                           0.95       210\n",
      "   macro avg       0.96      0.95      0.95       210\n",
      "weighted avg       0.96      0.95      0.95       210\n",
      "\n"
     ]
    }
   ],
   "source": [
    "y_pred_3 = model_3.predict_classes(X_test_3)\n",
    "y_pred_3 = list(le.inverse_transform(y_pred_3))\n",
    "\n",
    "print(classification_report(y_test_labels, y_pred_3))"
   ]
  },
  {
   "cell_type": "markdown",
   "metadata": {},
   "source": [
    "Considering its feature being more complex, this Feedforward Neural Network performs quite well, predicting 100% of `flowers` correctly. However, this model seems to have difficulty classifying `father` accurately. Overall, it gives a 95% score which is higher than previous FNNs."
   ]
  },
  {
   "cell_type": "markdown",
   "metadata": {},
   "source": [
    "**Model 4**"
   ]
  },
  {
   "cell_type": "code",
   "execution_count": 94,
   "metadata": {},
   "outputs": [
    {
     "name": "stdout",
     "output_type": "stream",
     "text": [
      "              precision    recall  f1-score   support\n",
      "\n",
      "      apples       0.91      0.93      0.92        42\n",
      "      father       0.93      0.88      0.90        42\n",
      "     flowers       0.91      0.93      0.92        42\n",
      "       water       0.84      0.88      0.86        42\n",
      "      worker       0.95      0.90      0.93        42\n",
      "\n",
      "    accuracy                           0.90       210\n",
      "   macro avg       0.91      0.90      0.91       210\n",
      "weighted avg       0.91      0.90      0.91       210\n",
      "\n"
     ]
    }
   ],
   "source": [
    "y_pred_4 = model_4.predict_classes(X_test_4)\n",
    "y_pred_4 = list(le.inverse_transform(y_pred_4))\n",
    "\n",
    "print(classification_report(y_test_labels, y_pred_4))"
   ]
  },
  {
   "cell_type": "markdown",
   "metadata": {},
   "source": [
    "This CNN model performed quite poorly relative to the other models, giving an overall accuracy of 90%. It is unable to classify any class very well and actually classifies `water` rather poorly, with low accuracy and low recall. Perhaps Spectrogram arrays are not meant to be fed directly into the CNN model."
   ]
  },
  {
   "cell_type": "markdown",
   "metadata": {},
   "source": [
    "**Model 5**"
   ]
  },
  {
   "cell_type": "code",
   "execution_count": 95,
   "metadata": {},
   "outputs": [
    {
     "name": "stdout",
     "output_type": "stream",
     "text": [
      "              precision    recall  f1-score   support\n",
      "\n",
      "      apples       1.00      1.00      1.00        42\n",
      "      father       0.95      1.00      0.98        42\n",
      "     flowers       1.00      0.95      0.98        42\n",
      "       water       0.98      0.98      0.98        42\n",
      "      worker       0.98      0.98      0.98        42\n",
      "\n",
      "    accuracy                           0.98       210\n",
      "   macro avg       0.98      0.98      0.98       210\n",
      "weighted avg       0.98      0.98      0.98       210\n",
      "\n"
     ]
    }
   ],
   "source": [
    "y_pred_5 = model_5.predict_classes(X_test_5)\n",
    "y_pred_5 = list(le_cnn.inverse_transform(y_pred_5))\n",
    "\n",
    "print(classification_report(y_cnn_labels, y_pred_5))"
   ]
  },
  {
   "cell_type": "markdown",
   "metadata": {},
   "source": [
    "The CNN model has the best results so far, predicting `apples` and `flowers` with 100% precision. However, it seems like it could have mixed up the sounds between `father`, `water` and `worker` for 1 or 2 speakers. Nonetheless, this impressive model gave an average accuracy score of 98%. "
   ]
  },
  {
   "cell_type": "markdown",
   "metadata": {},
   "source": [
    "**Model 6**"
   ]
  },
  {
   "cell_type": "code",
   "execution_count": 96,
   "metadata": {},
   "outputs": [
    {
     "name": "stdout",
     "output_type": "stream",
     "text": [
      "              precision    recall  f1-score   support\n",
      "\n",
      "      apples       0.98      0.98      0.98        42\n",
      "      father       0.95      0.95      0.95        42\n",
      "     flowers       0.98      0.95      0.96        42\n",
      "       water       0.89      1.00      0.94        42\n",
      "      worker       0.97      0.88      0.93        42\n",
      "\n",
      "    accuracy                           0.95       210\n",
      "   macro avg       0.95      0.95      0.95       210\n",
      "weighted avg       0.95      0.95      0.95       210\n",
      "\n"
     ]
    }
   ],
   "source": [
    "y_pred_6 = model_6.predict_classes(X_test_6)\n",
    "y_pred_6 = list(le.inverse_transform(y_pred_6))\n",
    "\n",
    "print(classification_report(y_test_labels, y_pred_6))"
   ]
  },
  {
   "cell_type": "markdown",
   "metadata": {},
   "source": [
    "In general, the Recurrent Neural Networks produce quite consistent results. This model, with LSTM layers, have an accuracy of 96% even though it is slightly weaker in classifying `water`. It has high precision and recall score as well, giving it high overall accuracy."
   ]
  },
  {
   "cell_type": "markdown",
   "metadata": {},
   "source": [
    "**Model 7**"
   ]
  },
  {
   "cell_type": "code",
   "execution_count": 97,
   "metadata": {},
   "outputs": [
    {
     "name": "stdout",
     "output_type": "stream",
     "text": [
      "              precision    recall  f1-score   support\n",
      "\n",
      "      apples       0.98      0.98      0.98        42\n",
      "      father       0.98      0.98      0.98        42\n",
      "     flowers       1.00      0.95      0.98        42\n",
      "       water       0.93      0.98      0.95        42\n",
      "      worker       0.98      0.98      0.98        42\n",
      "\n",
      "    accuracy                           0.97       210\n",
      "   macro avg       0.97      0.97      0.97       210\n",
      "weighted avg       0.97      0.97      0.97       210\n",
      "\n"
     ]
    }
   ],
   "source": [
    "y_pred_7 = model_7.predict_classes(X_test_7)\n",
    "y_pred_7 = list(le.inverse_transform(y_pred_7))\n",
    "\n",
    "print(classification_report(y_test_labels, y_pred_7))"
   ]
  },
  {
   "cell_type": "markdown",
   "metadata": {},
   "source": [
    "This RNN with GRU layers also prodcued high precision and recall, giving it an overall accuracy of 94%. It has a balanced result for each class and does not necessarily predict one class much better than other, based on the f1-score."
   ]
  },
  {
   "cell_type": "markdown",
   "metadata": {},
   "source": [
    "**Conclusion of Model Results**\n",
    "\n",
    "Model 5 (CNN Model) and Model 6 (RNN LSTM Model) performed the best, based on accuracy. They also have low validation loss score, which is an added reason to choose the models. They also both performed above the baseline score.\n",
    "\n",
    "It is not unsurprising that the vanilla feedforward neural network would not perform very well as audio files are too complex to be represented by a one-dimensional matrix.\n",
    "\n",
    "The top 2 performing model will then be tested on unseen data to determine its ability to generalise."
   ]
  },
  {
   "cell_type": "markdown",
   "metadata": {},
   "source": [
    "### Test on Unseen Data\n",
    "\n",
    "The final round of evaluation will be based on unseen data. As it is not unusual for neural networks to overfit, one good way is to test the models on unseen data and evaluating them again. Furthermore, the ability of the model should also be determined by how well it generalises. Hence, this is an important evaluation to select the final model."
   ]
  },
  {
   "cell_type": "code",
   "execution_count": 98,
   "metadata": {},
   "outputs": [
    {
     "data": {
      "text/html": [
       "<div>\n",
       "<style scoped>\n",
       "    .dataframe tbody tr th:only-of-type {\n",
       "        vertical-align: middle;\n",
       "    }\n",
       "\n",
       "    .dataframe tbody tr th {\n",
       "        vertical-align: top;\n",
       "    }\n",
       "\n",
       "    .dataframe thead th {\n",
       "        text-align: right;\n",
       "    }\n",
       "</style>\n",
       "<table border=\"1\" class=\"dataframe\">\n",
       "  <thead>\n",
       "    <tr style=\"text-align: right;\">\n",
       "      <th></th>\n",
       "      <th>id</th>\n",
       "      <th>filepath</th>\n",
       "      <th>duration</th>\n",
       "      <th>class_label</th>\n",
       "    </tr>\n",
       "  </thead>\n",
       "  <tbody>\n",
       "    <tr>\n",
       "      <th>0</th>\n",
       "      <td>8750049</td>\n",
       "      <td>./assets/audio_test/8750049_father.wav</td>\n",
       "      <td>0.353016</td>\n",
       "      <td>father</td>\n",
       "    </tr>\n",
       "    <tr>\n",
       "      <th>1</th>\n",
       "      <td>8750049</td>\n",
       "      <td>./assets/audio_test/8750049_worker.wav</td>\n",
       "      <td>0.531655</td>\n",
       "      <td>worker</td>\n",
       "    </tr>\n",
       "    <tr>\n",
       "      <th>2</th>\n",
       "      <td>8750051</td>\n",
       "      <td>./assets/audio_test/8750051_water.wav</td>\n",
       "      <td>0.374467</td>\n",
       "      <td>water</td>\n",
       "    </tr>\n",
       "    <tr>\n",
       "      <th>3</th>\n",
       "      <td>8750062</td>\n",
       "      <td>./assets/audio_test/8750062_flowers.wav</td>\n",
       "      <td>0.533379</td>\n",
       "      <td>flowers</td>\n",
       "    </tr>\n",
       "    <tr>\n",
       "      <th>4</th>\n",
       "      <td>8750066</td>\n",
       "      <td>./assets/audio_test/8750066_apples.wav</td>\n",
       "      <td>0.503719</td>\n",
       "      <td>apples</td>\n",
       "    </tr>\n",
       "  </tbody>\n",
       "</table>\n",
       "</div>"
      ],
      "text/plain": [
       "        id                                 filepath  duration class_label\n",
       "0  8750049   ./assets/audio_test/8750049_father.wav  0.353016      father\n",
       "1  8750049   ./assets/audio_test/8750049_worker.wav  0.531655      worker\n",
       "2  8750051    ./assets/audio_test/8750051_water.wav  0.374467       water\n",
       "3  8750062  ./assets/audio_test/8750062_flowers.wav  0.533379     flowers\n",
       "4  8750066   ./assets/audio_test/8750066_apples.wav  0.503719      apples"
      ]
     },
     "execution_count": 98,
     "metadata": {},
     "output_type": "execute_result"
    }
   ],
   "source": [
    "# import test data\n",
    "test_df = pd.read_csv(\"./datasets/test.csv\")\n",
    "test_df.head()"
   ]
  },
  {
   "cell_type": "markdown",
   "metadata": {},
   "source": [
    "**Preprocess for CNN Model (Model 5)**"
   ]
  },
  {
   "cell_type": "code",
   "execution_count": 99,
   "metadata": {
    "scrolled": true
   },
   "outputs": [],
   "source": [
    "# generate spectrogram for the test set\n",
    "\n",
    "# for each file\n",
    "for n, f in enumerate(test_df['filepath']):\n",
    "    \n",
    "    # get unique id\n",
    "    audio_id = test_df['id'][n]\n",
    "    \n",
    "    # get label\n",
    "    label = test_df['class_label'][n]\n",
    "    \n",
    "    # load file\n",
    "    audio, sr = librosa.load(f)\n",
    "    \n",
    "    # plot spectrogram\n",
    "    plt.figure(figsize=[2,2])\n",
    "    mel_spec = librosa.feature.melspectrogram(audio, sr=sr, n_mels=20)\n",
    "    log_mel_spec = librosa.power_to_db(mel_spec)\n",
    "    librosa.display.specshow(log_mel_spec)\n",
    "    \n",
    "    # save and close, slightly padded\n",
    "    plt.savefig(f\"./assets/spec_test/{label}_{audio_id}.png\", dpi=500, bbox_inches='tight',pad_inches=0.1)\n",
    "    plt.close()\n"
   ]
  },
  {
   "cell_type": "code",
   "execution_count": 100,
   "metadata": {},
   "outputs": [],
   "source": [
    "# create test data\n",
    "\n",
    "img_size = 300\n",
    "\n",
    "# target folder\n",
    "folder = \"./assets/spec_test/\"\n",
    "\n",
    "# create empty list for spectrogram data and label\n",
    "test_data_spec = []\n",
    "test_label_spec = []\n",
    "\n",
    "# get image data and label\n",
    "for img in os.listdir(folder):\n",
    "    label, filename = img.split('_')\n",
    "    path = os.path.join(folder, img)\n",
    "    im = Image.open(path)\n",
    "    im = im.convert('RGB')\n",
    "    im = im.resize((img_size, img_size), Image.ANTIALIAS)\n",
    "    test_data_spec.append(np.array(im))\n",
    "    test_label_spec.append(label)\n",
    "\n",
    "\n",
    "# normalise the data\n",
    "test_data_spec = np.array(test_data_spec)/255"
   ]
  },
  {
   "cell_type": "markdown",
   "metadata": {},
   "source": [
    "**Preprocess for RNN (GRU) Model (Model 7)**"
   ]
  },
  {
   "cell_type": "code",
   "execution_count": 101,
   "metadata": {},
   "outputs": [],
   "source": [
    "# apply function to all files\n",
    "mfcc_test = test_df['filepath'].map(get_mfcc)\n",
    "\n",
    "# padding\n",
    "mfcc_test = pad_sequences(mfcc_test, padding='post', maxlen=42)\n",
    "\n",
    "# add into the dataframe\n",
    "test_df['mfcc_pad'] = mfcc_test.tolist()"
   ]
  },
  {
   "cell_type": "markdown",
   "metadata": {},
   "source": [
    "**Predictions**\n",
    "\n",
    "CNN Model:"
   ]
  },
  {
   "cell_type": "code",
   "execution_count": 102,
   "metadata": {},
   "outputs": [],
   "source": [
    "X = test_data_spec\n",
    "\n",
    "y_test_pred_1 = model_5.predict_classes(X)"
   ]
  },
  {
   "cell_type": "code",
   "execution_count": 103,
   "metadata": {},
   "outputs": [
    {
     "name": "stdout",
     "output_type": "stream",
     "text": [
      "              precision    recall  f1-score   support\n",
      "\n",
      "      apples       1.00      1.00      1.00        20\n",
      "      father       0.91      1.00      0.95        20\n",
      "     flowers       1.00      0.90      0.95        21\n",
      "       water       0.95      1.00      0.98        20\n",
      "      worker       1.00      0.95      0.97        20\n",
      "\n",
      "    accuracy                           0.97       101\n",
      "   macro avg       0.97      0.97      0.97       101\n",
      "weighted avg       0.97      0.97      0.97       101\n",
      "\n"
     ]
    }
   ],
   "source": [
    "y_test_pred_1 = list(le.inverse_transform(y_test_pred_1))\n",
    "\n",
    "print(classification_report(test_label_spec, y_test_pred_1))"
   ]
  },
  {
   "cell_type": "markdown",
   "metadata": {},
   "source": [
    "Even on Unseen Data, the CNN Model seems to perform very well, showing its strong ability to generalise well. It manages to perfectly classify `apples`, `father`, and `flowers`, seeming to confuse `water` and `worker`. However, this could also be due to the speaker's poor pronunciation."
   ]
  },
  {
   "cell_type": "markdown",
   "metadata": {},
   "source": [
    "RNN Model (GRU):"
   ]
  },
  {
   "cell_type": "code",
   "execution_count": 104,
   "metadata": {},
   "outputs": [],
   "source": [
    "X = np.array(test_df['mfcc_pad'].tolist())\n",
    "\n",
    "y_test_pred_2 = model_6.predict_classes(X)"
   ]
  },
  {
   "cell_type": "code",
   "execution_count": 105,
   "metadata": {},
   "outputs": [
    {
     "name": "stdout",
     "output_type": "stream",
     "text": [
      "              precision    recall  f1-score   support\n",
      "\n",
      "      apples       1.00      0.95      0.97        20\n",
      "      father       0.83      1.00      0.91        20\n",
      "     flowers       0.95      0.95      0.95        21\n",
      "       water       1.00      0.95      0.97        20\n",
      "      worker       0.94      0.85      0.89        20\n",
      "\n",
      "    accuracy                           0.94       101\n",
      "   macro avg       0.95      0.94      0.94       101\n",
      "weighted avg       0.95      0.94      0.94       101\n",
      "\n"
     ]
    }
   ],
   "source": [
    "y_test_pred_2 = list(le.inverse_transform(y_test_pred_2))\n",
    "\n",
    "print(classification_report(test_df['class_label'], y_test_pred_2))"
   ]
  },
  {
   "cell_type": "code",
   "execution_count": 106,
   "metadata": {},
   "outputs": [],
   "source": [
    "X = np.array(test_df['mfcc_pad'].tolist())\n",
    "\n",
    "y_test_pred_3 = model_7.predict_classes(X)"
   ]
  },
  {
   "cell_type": "code",
   "execution_count": 107,
   "metadata": {},
   "outputs": [
    {
     "name": "stdout",
     "output_type": "stream",
     "text": [
      "              precision    recall  f1-score   support\n",
      "\n",
      "      apples       1.00      1.00      1.00        20\n",
      "      father       0.95      1.00      0.98        20\n",
      "     flowers       1.00      0.95      0.98        21\n",
      "       water       1.00      1.00      1.00        20\n",
      "      worker       1.00      1.00      1.00        20\n",
      "\n",
      "    accuracy                           0.99       101\n",
      "   macro avg       0.99      0.99      0.99       101\n",
      "weighted avg       0.99      0.99      0.99       101\n",
      "\n"
     ]
    }
   ],
   "source": [
    "y_test_pred_3 = list(le.inverse_transform(y_test_pred_3))\n",
    "\n",
    "print(classification_report(test_df['class_label'], y_test_pred_3))"
   ]
  },
  {
   "cell_type": "markdown",
   "metadata": {},
   "source": [
    "On the unseen data, the RNN (LSTM) generalises better than the CNN Model, giving an almost perfect classification. From this table, it can be deduced that it has misclassified one audio, mistaking `father` for `flowers`. "
   ]
  },
  {
   "cell_type": "code",
   "execution_count": 108,
   "metadata": {},
   "outputs": [],
   "source": [
    "test_df['y_test_pred'] = y_test_pred_2"
   ]
  },
  {
   "cell_type": "markdown",
   "metadata": {},
   "source": [
    "## 6. Conclusion and Recommendations"
   ]
  },
  {
   "cell_type": "code",
   "execution_count": null,
   "metadata": {},
   "outputs": [],
   "source": []
  }
 ],
 "metadata": {
  "kernelspec": {
   "display_name": "Python 3",
   "language": "python",
   "name": "python3"
  },
  "language_info": {
   "codemirror_mode": {
    "name": "ipython",
    "version": 3
   },
   "file_extension": ".py",
   "mimetype": "text/x-python",
   "name": "python",
   "nbconvert_exporter": "python",
   "pygments_lexer": "ipython3",
   "version": "3.6.12"
  }
 },
 "nbformat": 4,
 "nbformat_minor": 4
}
