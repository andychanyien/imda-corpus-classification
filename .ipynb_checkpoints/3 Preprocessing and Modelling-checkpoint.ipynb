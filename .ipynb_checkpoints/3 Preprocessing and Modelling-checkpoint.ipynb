{
 "cells": [
  {
   "cell_type": "markdown",
   "metadata": {},
   "source": [
    "# Preprocessing, Modelling and Evaluation"
   ]
  },
  {
   "cell_type": "code",
   "execution_count": 1,
   "metadata": {
    "scrolled": true
   },
   "outputs": [
    {
     "name": "stderr",
     "output_type": "stream",
     "text": [
      "Using TensorFlow backend.\n"
     ]
    }
   ],
   "source": [
    "# data science essentials\n",
    "import pandas as pd\n",
    "import numpy as np\n",
    "import matplotlib.pyplot as plt\n",
    "\n",
    "# for audio\n",
    "import IPython.display as ipd\n",
    "import librosa\n",
    "import librosa.display\n",
    "\n",
    "# modelling and preprocessing\n",
    "from sklearn.preprocessing import LabelEncoder, StandardScaler\n",
    "from sklearn.model_selection import train_test_split\n",
    "from sklearn.metrics import classification_report, confusion_matrix\n",
    "from keras.models import Sequential\n",
    "from keras.layers import Dense, Dropout, Activation, Conv2D, MaxPooling2D, Flatten, Masking, GRU, LSTM\n",
    "from keras.preprocessing.sequence import pad_sequences\n",
    "from keras.optimizers import Adam\n",
    "from keras.utils import to_categorical\n",
    "\n",
    "# for processing images for CNN\n",
    "import os\n",
    "from PIL import Image\n",
    "\n",
    "# for timing code\n",
    "import time\n"
   ]
  },
  {
   "cell_type": "code",
   "execution_count": 2,
   "metadata": {},
   "outputs": [],
   "source": [
    "# import train set\n",
    "train_df = pd.read_csv(\"datasets/train.csv\")"
   ]
  },
  {
   "cell_type": "code",
   "execution_count": 3,
   "metadata": {},
   "outputs": [
    {
     "data": {
      "text/html": [
       "<div>\n",
       "<style scoped>\n",
       "    .dataframe tbody tr th:only-of-type {\n",
       "        vertical-align: middle;\n",
       "    }\n",
       "\n",
       "    .dataframe tbody tr th {\n",
       "        vertical-align: top;\n",
       "    }\n",
       "\n",
       "    .dataframe thead th {\n",
       "        text-align: right;\n",
       "    }\n",
       "</style>\n",
       "<table border=\"1\" class=\"dataframe\">\n",
       "  <thead>\n",
       "    <tr style=\"text-align: right;\">\n",
       "      <th></th>\n",
       "      <th>id</th>\n",
       "      <th>filepath</th>\n",
       "      <th>duration</th>\n",
       "      <th>class_label</th>\n",
       "    </tr>\n",
       "  </thead>\n",
       "  <tbody>\n",
       "    <tr>\n",
       "      <th>0</th>\n",
       "      <td>10210049</td>\n",
       "      <td>./assets/audio_train/10210049_father.wav</td>\n",
       "      <td>0.457959</td>\n",
       "      <td>father</td>\n",
       "    </tr>\n",
       "    <tr>\n",
       "      <th>1</th>\n",
       "      <td>10210049</td>\n",
       "      <td>./assets/audio_train/10210049_worker.wav</td>\n",
       "      <td>0.519501</td>\n",
       "      <td>worker</td>\n",
       "    </tr>\n",
       "    <tr>\n",
       "      <th>2</th>\n",
       "      <td>10210051</td>\n",
       "      <td>./assets/audio_train/10210051_water.wav</td>\n",
       "      <td>0.395828</td>\n",
       "      <td>water</td>\n",
       "    </tr>\n",
       "    <tr>\n",
       "      <th>3</th>\n",
       "      <td>10210062</td>\n",
       "      <td>./assets/audio_train/10210062_flowers.wav</td>\n",
       "      <td>0.399229</td>\n",
       "      <td>flowers</td>\n",
       "    </tr>\n",
       "    <tr>\n",
       "      <th>4</th>\n",
       "      <td>10210066</td>\n",
       "      <td>./assets/audio_train/10210066_apples.wav</td>\n",
       "      <td>0.524354</td>\n",
       "      <td>apples</td>\n",
       "    </tr>\n",
       "  </tbody>\n",
       "</table>\n",
       "</div>"
      ],
      "text/plain": [
       "         id                                   filepath  duration class_label\n",
       "0  10210049   ./assets/audio_train/10210049_father.wav  0.457959      father\n",
       "1  10210049   ./assets/audio_train/10210049_worker.wav  0.519501      worker\n",
       "2  10210051    ./assets/audio_train/10210051_water.wav  0.395828       water\n",
       "3  10210062  ./assets/audio_train/10210062_flowers.wav  0.399229     flowers\n",
       "4  10210066   ./assets/audio_train/10210066_apples.wav  0.524354      apples"
      ]
     },
     "execution_count": 3,
     "metadata": {},
     "output_type": "execute_result"
    }
   ],
   "source": [
    "train_df.head()"
   ]
  },
  {
   "cell_type": "code",
   "execution_count": 4,
   "metadata": {},
   "outputs": [
    {
     "data": {
      "text/plain": [
       "(1049, 4)"
      ]
     },
     "execution_count": 4,
     "metadata": {},
     "output_type": "execute_result"
    }
   ],
   "source": [
    "train_df.shape"
   ]
  },
  {
   "cell_type": "markdown",
   "metadata": {},
   "source": [
    "## 3. Preprocessing"
   ]
  },
  {
   "cell_type": "markdown",
   "metadata": {},
   "source": [
    "There are many ways of preprocessing audio files and the methods of preprocessing is heavily dependent on the type of classification model which will be used.\n",
    "\n",
    "The model I will be building is:\n",
    "\n",
    "1. Feedforward Neural Network ( 2 kind of preprocessing )\n",
    "2. Convolutional Neural Network\n",
    "3. Recurrent Neural Network with LSTM\n",
    "4. Ensemble Method"
   ]
  },
  {
   "cell_type": "markdown",
   "metadata": {},
   "source": [
    "### Preprocessing for Feedforward Neural Network (FNN)\n",
    "\n",
    "**Calculate the Mean and Standard Deviation of MFCC and the Delta**\n",
    "\n",
    "Getting the Mean and Standard Deviation is a way of normalising the data since they are all of different shape."
   ]
  },
  {
   "cell_type": "code",
   "execution_count": 5,
   "metadata": {},
   "outputs": [],
   "source": [
    "def get_mfccs_features(file_list, n_mfcc=40):\n",
    "    \"\"\"\n",
    "    This function will take in a list of audio file path and return a dictionary of 4 MFCC features.\n",
    "    The 4 features will be transformed from a shape of (ts, 40) to (1, 40), where \"ts\" is the number of timesteps.\n",
    "    The first feature is the mean of the MFCC across time.\n",
    "    The second feature is the standard deviation of MFCC across time.\n",
    "    The third feature is the mean of the delta of the MFCC across time.\n",
    "    The fourth feature is the standard deviation of the MFCC across time.\n",
    "    \n",
    "    The dictionary can be used to add into the dataframe later\n",
    "    \n",
    "    \"\"\"\n",
    "    \n",
    "    # set up empty list and dictionary\n",
    "    features = {}\n",
    "    \n",
    "    mean = []\n",
    "    std = []\n",
    "    delta_mean = []\n",
    "    delta_std = []\n",
    "    \n",
    "    for f in file_list:\n",
    "        audio, sr = librosa.load(f) \n",
    "        mfccs = librosa.feature.mfcc(y=audio, sr=sr, n_mfcc=n_mfcc)\n",
    "        mfccs_delta = librosa.feature.delta(mfccs)\n",
    "        \n",
    "        # mfcc mean across time\n",
    "        mfccs_mean = np.mean(mfccs.T,axis=0)\n",
    "        mean.append(mfccs_mean)\n",
    "        \n",
    "        # mfcc standard deviation across time\n",
    "        mfccs_std = np.std(mfccs.T,axis=0)\n",
    "        std.append(mfccs_std)\n",
    "        \n",
    "        # mean of mfcc delta across time\n",
    "        mfccs_delta_mean = np.mean(mfccs_delta.T,axis=0)\n",
    "        delta_mean.append(mfccs_delta_mean)\n",
    "        \n",
    "        # standard deviation of mfcc delta across time\n",
    "        mfccs_delta_std = np.std(mfccs_delta.T,axis=0)\n",
    "        delta_std.append(mfccs_delta_std)\n",
    "    \n",
    "    # add all of the list into the empty dictionary\n",
    "    features['mfccs_mean'] = mean\n",
    "    features['mfccs_std'] = std\n",
    "    features['mfccs_delta_mean'] = delta_mean\n",
    "    features['mfccs_delta_std'] = delta_std\n",
    "    \n",
    "    return features"
   ]
  },
  {
   "cell_type": "code",
   "execution_count": 6,
   "metadata": {},
   "outputs": [],
   "source": [
    "# get all the features\n",
    "\n",
    "mfccs_features = get_mfccs_features(train_df['filepath'])\n",
    "\n",
    "# add them into the dataframe\n",
    "for k, v in mfccs_features.items():\n",
    "    train_df[k] = v"
   ]
  },
  {
   "cell_type": "code",
   "execution_count": 7,
   "metadata": {},
   "outputs": [
    {
     "data": {
      "text/html": [
       "<div>\n",
       "<style scoped>\n",
       "    .dataframe tbody tr th:only-of-type {\n",
       "        vertical-align: middle;\n",
       "    }\n",
       "\n",
       "    .dataframe tbody tr th {\n",
       "        vertical-align: top;\n",
       "    }\n",
       "\n",
       "    .dataframe thead th {\n",
       "        text-align: right;\n",
       "    }\n",
       "</style>\n",
       "<table border=\"1\" class=\"dataframe\">\n",
       "  <thead>\n",
       "    <tr style=\"text-align: right;\">\n",
       "      <th></th>\n",
       "      <th>id</th>\n",
       "      <th>filepath</th>\n",
       "      <th>duration</th>\n",
       "      <th>class_label</th>\n",
       "      <th>mfccs_mean</th>\n",
       "      <th>mfccs_std</th>\n",
       "      <th>mfccs_delta_mean</th>\n",
       "      <th>mfccs_delta_std</th>\n",
       "    </tr>\n",
       "  </thead>\n",
       "  <tbody>\n",
       "    <tr>\n",
       "      <th>0</th>\n",
       "      <td>10210049</td>\n",
       "      <td>./assets/audio_train/10210049_father.wav</td>\n",
       "      <td>0.457959</td>\n",
       "      <td>father</td>\n",
       "      <td>[-196.65865, 126.91008, -32.876976, 25.416832,...</td>\n",
       "      <td>[58.43318, 37.41045, 29.724075, 16.595234, 13....</td>\n",
       "      <td>[7.6438293, 2.0495448, -2.2808201, 0.26232308,...</td>\n",
       "      <td>[12.530376, 8.677294, 7.3228106, 4.123108, 2.8...</td>\n",
       "    </tr>\n",
       "    <tr>\n",
       "      <th>1</th>\n",
       "      <td>10210049</td>\n",
       "      <td>./assets/audio_train/10210049_worker.wav</td>\n",
       "      <td>0.519501</td>\n",
       "      <td>worker</td>\n",
       "      <td>[-258.90433, 171.56952, 5.8856416, 34.963104, ...</td>\n",
       "      <td>[62.08626, 30.751865, 25.998608, 21.70042, 16....</td>\n",
       "      <td>[-4.5402517, -3.4924977, -0.37305757, -0.64102...</td>\n",
       "      <td>[10.262612, 6.768381, 4.2443323, 5.0021243, 2....</td>\n",
       "    </tr>\n",
       "    <tr>\n",
       "      <th>2</th>\n",
       "      <td>10210051</td>\n",
       "      <td>./assets/audio_train/10210051_water.wav</td>\n",
       "      <td>0.395828</td>\n",
       "      <td>water</td>\n",
       "      <td>[-235.71283, 148.99991, 7.0049567, 34.56189, -...</td>\n",
       "      <td>[87.36377, 34.059155, 39.78111, 24.895144, 33....</td>\n",
       "      <td>[3.2932093, -4.0986385, -3.06783, 1.4283211, 2...</td>\n",
       "      <td>[11.529502, 5.509337, 4.7498536, 5.5789504, 6....</td>\n",
       "    </tr>\n",
       "  </tbody>\n",
       "</table>\n",
       "</div>"
      ],
      "text/plain": [
       "         id                                  filepath  duration class_label  \\\n",
       "0  10210049  ./assets/audio_train/10210049_father.wav  0.457959      father   \n",
       "1  10210049  ./assets/audio_train/10210049_worker.wav  0.519501      worker   \n",
       "2  10210051   ./assets/audio_train/10210051_water.wav  0.395828       water   \n",
       "\n",
       "                                          mfccs_mean  \\\n",
       "0  [-196.65865, 126.91008, -32.876976, 25.416832,...   \n",
       "1  [-258.90433, 171.56952, 5.8856416, 34.963104, ...   \n",
       "2  [-235.71283, 148.99991, 7.0049567, 34.56189, -...   \n",
       "\n",
       "                                           mfccs_std  \\\n",
       "0  [58.43318, 37.41045, 29.724075, 16.595234, 13....   \n",
       "1  [62.08626, 30.751865, 25.998608, 21.70042, 16....   \n",
       "2  [87.36377, 34.059155, 39.78111, 24.895144, 33....   \n",
       "\n",
       "                                    mfccs_delta_mean  \\\n",
       "0  [7.6438293, 2.0495448, -2.2808201, 0.26232308,...   \n",
       "1  [-4.5402517, -3.4924977, -0.37305757, -0.64102...   \n",
       "2  [3.2932093, -4.0986385, -3.06783, 1.4283211, 2...   \n",
       "\n",
       "                                     mfccs_delta_std  \n",
       "0  [12.530376, 8.677294, 7.3228106, 4.123108, 2.8...  \n",
       "1  [10.262612, 6.768381, 4.2443323, 5.0021243, 2....  \n",
       "2  [11.529502, 5.509337, 4.7498536, 5.5789504, 6....  "
      ]
     },
     "execution_count": 7,
     "metadata": {},
     "output_type": "execute_result"
    }
   ],
   "source": [
    "# check if done correctly\n",
    "train_df.head(3)"
   ]
  },
  {
   "cell_type": "markdown",
   "metadata": {},
   "source": [
    "**Create a Combined Feature Column**\n",
    "\n",
    "Another feature that can be created is the combination of all the 4 features, giving us an array shape of (160, 1). This would give each training data more features to distinguish itself."
   ]
  },
  {
   "cell_type": "code",
   "execution_count": 8,
   "metadata": {},
   "outputs": [],
   "source": [
    "# create a new feature with a dimension of 160, stacking the mean and standard deviation of \n",
    "# the mfcc and its delta.\n",
    "\n",
    "combined_features = []\n",
    "for n in range(0,len(train_df)):\n",
    "    combined_features.append(np.concatenate((train_df['mfccs_mean'][n],\n",
    "                                             train_df['mfccs_std'][n], \n",
    "                                             train_df['mfccs_delta_mean'][n],\n",
    "                                             train_df['mfccs_delta_std'][n])))\n",
    "    \n",
    "train_df['combined_mfccs'] = combined_features\n",
    "# this will give us an array of (160, 1)"
   ]
  },
  {
   "cell_type": "code",
   "execution_count": 9,
   "metadata": {},
   "outputs": [
    {
     "data": {
      "text/html": [
       "<div>\n",
       "<style scoped>\n",
       "    .dataframe tbody tr th:only-of-type {\n",
       "        vertical-align: middle;\n",
       "    }\n",
       "\n",
       "    .dataframe tbody tr th {\n",
       "        vertical-align: top;\n",
       "    }\n",
       "\n",
       "    .dataframe thead th {\n",
       "        text-align: right;\n",
       "    }\n",
       "</style>\n",
       "<table border=\"1\" class=\"dataframe\">\n",
       "  <thead>\n",
       "    <tr style=\"text-align: right;\">\n",
       "      <th></th>\n",
       "      <th>id</th>\n",
       "      <th>filepath</th>\n",
       "      <th>duration</th>\n",
       "      <th>class_label</th>\n",
       "      <th>mfccs_mean</th>\n",
       "      <th>mfccs_std</th>\n",
       "      <th>mfccs_delta_mean</th>\n",
       "      <th>mfccs_delta_std</th>\n",
       "      <th>combined_mfccs</th>\n",
       "    </tr>\n",
       "  </thead>\n",
       "  <tbody>\n",
       "    <tr>\n",
       "      <th>0</th>\n",
       "      <td>10210049</td>\n",
       "      <td>./assets/audio_train/10210049_father.wav</td>\n",
       "      <td>0.457959</td>\n",
       "      <td>father</td>\n",
       "      <td>[-196.65865, 126.91008, -32.876976, 25.416832,...</td>\n",
       "      <td>[58.43318, 37.41045, 29.724075, 16.595234, 13....</td>\n",
       "      <td>[7.6438293, 2.0495448, -2.2808201, 0.26232308,...</td>\n",
       "      <td>[12.530376, 8.677294, 7.3228106, 4.123108, 2.8...</td>\n",
       "      <td>[-196.65865, 126.91008, -32.876976, 25.416832,...</td>\n",
       "    </tr>\n",
       "    <tr>\n",
       "      <th>1</th>\n",
       "      <td>10210049</td>\n",
       "      <td>./assets/audio_train/10210049_worker.wav</td>\n",
       "      <td>0.519501</td>\n",
       "      <td>worker</td>\n",
       "      <td>[-258.90433, 171.56952, 5.8856416, 34.963104, ...</td>\n",
       "      <td>[62.08626, 30.751865, 25.998608, 21.70042, 16....</td>\n",
       "      <td>[-4.5402517, -3.4924977, -0.37305757, -0.64102...</td>\n",
       "      <td>[10.262612, 6.768381, 4.2443323, 5.0021243, 2....</td>\n",
       "      <td>[-258.90433, 171.56952, 5.8856416, 34.963104, ...</td>\n",
       "    </tr>\n",
       "    <tr>\n",
       "      <th>2</th>\n",
       "      <td>10210051</td>\n",
       "      <td>./assets/audio_train/10210051_water.wav</td>\n",
       "      <td>0.395828</td>\n",
       "      <td>water</td>\n",
       "      <td>[-235.71283, 148.99991, 7.0049567, 34.56189, -...</td>\n",
       "      <td>[87.36377, 34.059155, 39.78111, 24.895144, 33....</td>\n",
       "      <td>[3.2932093, -4.0986385, -3.06783, 1.4283211, 2...</td>\n",
       "      <td>[11.529502, 5.509337, 4.7498536, 5.5789504, 6....</td>\n",
       "      <td>[-235.71283, 148.99991, 7.0049567, 34.56189, -...</td>\n",
       "    </tr>\n",
       "  </tbody>\n",
       "</table>\n",
       "</div>"
      ],
      "text/plain": [
       "         id                                  filepath  duration class_label  \\\n",
       "0  10210049  ./assets/audio_train/10210049_father.wav  0.457959      father   \n",
       "1  10210049  ./assets/audio_train/10210049_worker.wav  0.519501      worker   \n",
       "2  10210051   ./assets/audio_train/10210051_water.wav  0.395828       water   \n",
       "\n",
       "                                          mfccs_mean  \\\n",
       "0  [-196.65865, 126.91008, -32.876976, 25.416832,...   \n",
       "1  [-258.90433, 171.56952, 5.8856416, 34.963104, ...   \n",
       "2  [-235.71283, 148.99991, 7.0049567, 34.56189, -...   \n",
       "\n",
       "                                           mfccs_std  \\\n",
       "0  [58.43318, 37.41045, 29.724075, 16.595234, 13....   \n",
       "1  [62.08626, 30.751865, 25.998608, 21.70042, 16....   \n",
       "2  [87.36377, 34.059155, 39.78111, 24.895144, 33....   \n",
       "\n",
       "                                    mfccs_delta_mean  \\\n",
       "0  [7.6438293, 2.0495448, -2.2808201, 0.26232308,...   \n",
       "1  [-4.5402517, -3.4924977, -0.37305757, -0.64102...   \n",
       "2  [3.2932093, -4.0986385, -3.06783, 1.4283211, 2...   \n",
       "\n",
       "                                     mfccs_delta_std  \\\n",
       "0  [12.530376, 8.677294, 7.3228106, 4.123108, 2.8...   \n",
       "1  [10.262612, 6.768381, 4.2443323, 5.0021243, 2....   \n",
       "2  [11.529502, 5.509337, 4.7498536, 5.5789504, 6....   \n",
       "\n",
       "                                      combined_mfccs  \n",
       "0  [-196.65865, 126.91008, -32.876976, 25.416832,...  \n",
       "1  [-258.90433, 171.56952, 5.8856416, 34.963104, ...  \n",
       "2  [-235.71283, 148.99991, 7.0049567, 34.56189, -...  "
      ]
     },
     "execution_count": 9,
     "metadata": {},
     "output_type": "execute_result"
    }
   ],
   "source": [
    "# check if done correctly\n",
    "train_df.head(3)"
   ]
  },
  {
   "cell_type": "markdown",
   "metadata": {},
   "source": [
    "### Preprocessing for Recurrent Neural Network (RNN)\n",
    "\n",
    "The RNN takes in sequential data and this would mean that we do not have to compress the array like how it was done for FNN. In order to ensure they have the same shape, it will also be padded with zeroes. During the fitting, the zeroes will be masked so that the model knows the padding should be disregarded.\n",
    "\n",
    "**Extract Raw MFCC Array and Raw MFCC Delta & Delta2 Array**\n",
    "\n",
    "The function below also needs to transpose the array because for sequential data, the input shape should be (ts, n_mfcc) where `ts` represents timesteps while `n_mfcc` represents number of MFCC coefficient. For our case, `ts` will be padded to the maximum timestep present in the entire dataset while the `n_mfcc` will be 40."
   ]
  },
  {
   "cell_type": "code",
   "execution_count": 10,
   "metadata": {},
   "outputs": [],
   "source": [
    "def get_mfcc(file, n_mfcc=40):\n",
    "    \"\"\"\n",
    "    Gets the MFCC array, and transposes it.\n",
    "    \"\"\"\n",
    "    audio, sr = librosa.load(file) \n",
    "    mfccs = librosa.feature.mfcc(y=audio, sr=sr, n_mfcc=n_mfcc)\n",
    "    return mfccs.T"
   ]
  },
  {
   "cell_type": "code",
   "execution_count": 11,
   "metadata": {},
   "outputs": [],
   "source": [
    "def get_mfcc_combined(file, n_mfcc=40):\n",
    "    \"\"\"\n",
    "    extracts the mfcc, the delta and delta2 across timestep and return a transposed concatenation.\n",
    "    \"\"\"\n",
    "    \n",
    "    audio, sr = librosa.load(file) \n",
    "    mfccs = librosa.feature.mfcc(y=audio, sr=sr, n_mfcc=n_mfcc)\n",
    "    delta = librosa.feature.delta(mfccs)\n",
    "    delta2 = librosa.feature.delta(mfccs, order = 2)\n",
    "    combined = np.concatenate((mfccs, delta, delta2))\n",
    "    return combined.T"
   ]
  },
  {
   "cell_type": "code",
   "execution_count": 12,
   "metadata": {},
   "outputs": [],
   "source": [
    "# apply function to all files\n",
    "mfcc_all = train_df['filepath'].map(get_mfcc)\n",
    "\n",
    "# padding\n",
    "mfcc_all = pad_sequences(mfcc_all, padding='post')\n",
    "\n",
    "# add into the dataframe\n",
    "train_df['mfcc_pad'] = mfcc_all.tolist()"
   ]
  },
  {
   "cell_type": "code",
   "execution_count": 13,
   "metadata": {},
   "outputs": [],
   "source": [
    "# apply function to all files\n",
    "mfcc_combined = train_df['filepath'].map(get_mfcc_combined)\n",
    "\n",
    "# padding\n",
    "mfcc_combined = pad_sequences(mfcc_combined, padding='post')\n",
    "\n",
    "# add into dataframe\n",
    "train_df['mfcc_pad_combined'] = mfcc_combined.tolist()"
   ]
  },
  {
   "cell_type": "code",
   "execution_count": 14,
   "metadata": {},
   "outputs": [
    {
     "data": {
      "text/html": [
       "<div>\n",
       "<style scoped>\n",
       "    .dataframe tbody tr th:only-of-type {\n",
       "        vertical-align: middle;\n",
       "    }\n",
       "\n",
       "    .dataframe tbody tr th {\n",
       "        vertical-align: top;\n",
       "    }\n",
       "\n",
       "    .dataframe thead th {\n",
       "        text-align: right;\n",
       "    }\n",
       "</style>\n",
       "<table border=\"1\" class=\"dataframe\">\n",
       "  <thead>\n",
       "    <tr style=\"text-align: right;\">\n",
       "      <th></th>\n",
       "      <th>id</th>\n",
       "      <th>filepath</th>\n",
       "      <th>duration</th>\n",
       "      <th>class_label</th>\n",
       "      <th>mfccs_mean</th>\n",
       "      <th>mfccs_std</th>\n",
       "      <th>mfccs_delta_mean</th>\n",
       "      <th>mfccs_delta_std</th>\n",
       "      <th>combined_mfccs</th>\n",
       "      <th>mfcc_pad</th>\n",
       "      <th>mfcc_pad_combined</th>\n",
       "    </tr>\n",
       "  </thead>\n",
       "  <tbody>\n",
       "    <tr>\n",
       "      <th>0</th>\n",
       "      <td>10210049</td>\n",
       "      <td>./assets/audio_train/10210049_father.wav</td>\n",
       "      <td>0.457959</td>\n",
       "      <td>father</td>\n",
       "      <td>[-196.65865, 126.91008, -32.876976, 25.416832,...</td>\n",
       "      <td>[58.43318, 37.41045, 29.724075, 16.595234, 13....</td>\n",
       "      <td>[7.6438293, 2.0495448, -2.2808201, 0.26232308,...</td>\n",
       "      <td>[12.530376, 8.677294, 7.3228106, 4.123108, 2.8...</td>\n",
       "      <td>[-196.65865, 126.91008, -32.876976, 25.416832,...</td>\n",
       "      <td>[[-292, 70, -6, 39, -23, 24, -24, 18, -19, 0, ...</td>\n",
       "      <td>[[-292, 70, -6, 39, -23, 24, -24, 18, -19, 0, ...</td>\n",
       "    </tr>\n",
       "    <tr>\n",
       "      <th>1</th>\n",
       "      <td>10210049</td>\n",
       "      <td>./assets/audio_train/10210049_worker.wav</td>\n",
       "      <td>0.519501</td>\n",
       "      <td>worker</td>\n",
       "      <td>[-258.90433, 171.56952, 5.8856416, 34.963104, ...</td>\n",
       "      <td>[62.08626, 30.751865, 25.998608, 21.70042, 16....</td>\n",
       "      <td>[-4.5402517, -3.4924977, -0.37305757, -0.64102...</td>\n",
       "      <td>[10.262612, 6.768381, 4.2443323, 5.0021243, 2....</td>\n",
       "      <td>[-258.90433, 171.56952, 5.8856416, 34.963104, ...</td>\n",
       "      <td>[[-362, 188, 46, -1, -12, -11, 0, -10, -19, -6...</td>\n",
       "      <td>[[-362, 188, 46, -1, -12, -11, 0, -10, -19, -6...</td>\n",
       "    </tr>\n",
       "    <tr>\n",
       "      <th>2</th>\n",
       "      <td>10210051</td>\n",
       "      <td>./assets/audio_train/10210051_water.wav</td>\n",
       "      <td>0.395828</td>\n",
       "      <td>water</td>\n",
       "      <td>[-235.71283, 148.99991, 7.0049567, 34.56189, -...</td>\n",
       "      <td>[87.36377, 34.059155, 39.78111, 24.895144, 33....</td>\n",
       "      <td>[3.2932093, -4.0986385, -3.06783, 1.4283211, 2...</td>\n",
       "      <td>[11.529502, 5.509337, 4.7498536, 5.5789504, 6....</td>\n",
       "      <td>[-235.71283, 148.99991, 7.0049567, 34.56189, -...</td>\n",
       "      <td>[[-316, 165, 42, 39, 0, -1, -9, -2, -12, -20, ...</td>\n",
       "      <td>[[-316, 165, 42, 39, 0, -1, -9, -2, -12, -20, ...</td>\n",
       "    </tr>\n",
       "    <tr>\n",
       "      <th>3</th>\n",
       "      <td>10210062</td>\n",
       "      <td>./assets/audio_train/10210062_flowers.wav</td>\n",
       "      <td>0.399229</td>\n",
       "      <td>flowers</td>\n",
       "      <td>[-233.44008, 127.30211, 11.549065, 42.032394, ...</td>\n",
       "      <td>[44.99465, 60.81429, 18.286491, 29.394094, 21....</td>\n",
       "      <td>[-0.2987371, -4.79065, 2.8436575, 3.4281251, -...</td>\n",
       "      <td>[9.446445, 16.08716, 2.7725258, 6.156691, 4.67...</td>\n",
       "      <td>[-233.44008, 127.30211, 11.549065, 42.032394, ...</td>\n",
       "      <td>[[-300, 81, 2, 22, -39, 18, -24, 18, -5, 4, 11...</td>\n",
       "      <td>[[-300, 81, 2, 22, -39, 18, -24, 18, -5, 4, 11...</td>\n",
       "    </tr>\n",
       "    <tr>\n",
       "      <th>4</th>\n",
       "      <td>10210066</td>\n",
       "      <td>./assets/audio_train/10210066_apples.wav</td>\n",
       "      <td>0.524354</td>\n",
       "      <td>apples</td>\n",
       "      <td>[-242.86156, 123.218254, -12.731119, 54.86693,...</td>\n",
       "      <td>[71.841354, 71.481544, 38.154087, 27.27552, 38...</td>\n",
       "      <td>[-5.2192245, -10.501004, 5.264592, 1.5651596, ...</td>\n",
       "      <td>[14.663708, 11.573661, 4.3268127, 5.169234, 5....</td>\n",
       "      <td>[-242.86156, 123.218254, -12.731119, 54.86693,...</td>\n",
       "      <td>[[-285, 126, -45, 51, -1, -55, -29, -12, -6, -...</td>\n",
       "      <td>[[-285, 126, -45, 51, -1, -55, -29, -12, -6, -...</td>\n",
       "    </tr>\n",
       "  </tbody>\n",
       "</table>\n",
       "</div>"
      ],
      "text/plain": [
       "         id                                   filepath  duration class_label  \\\n",
       "0  10210049   ./assets/audio_train/10210049_father.wav  0.457959      father   \n",
       "1  10210049   ./assets/audio_train/10210049_worker.wav  0.519501      worker   \n",
       "2  10210051    ./assets/audio_train/10210051_water.wav  0.395828       water   \n",
       "3  10210062  ./assets/audio_train/10210062_flowers.wav  0.399229     flowers   \n",
       "4  10210066   ./assets/audio_train/10210066_apples.wav  0.524354      apples   \n",
       "\n",
       "                                          mfccs_mean  \\\n",
       "0  [-196.65865, 126.91008, -32.876976, 25.416832,...   \n",
       "1  [-258.90433, 171.56952, 5.8856416, 34.963104, ...   \n",
       "2  [-235.71283, 148.99991, 7.0049567, 34.56189, -...   \n",
       "3  [-233.44008, 127.30211, 11.549065, 42.032394, ...   \n",
       "4  [-242.86156, 123.218254, -12.731119, 54.86693,...   \n",
       "\n",
       "                                           mfccs_std  \\\n",
       "0  [58.43318, 37.41045, 29.724075, 16.595234, 13....   \n",
       "1  [62.08626, 30.751865, 25.998608, 21.70042, 16....   \n",
       "2  [87.36377, 34.059155, 39.78111, 24.895144, 33....   \n",
       "3  [44.99465, 60.81429, 18.286491, 29.394094, 21....   \n",
       "4  [71.841354, 71.481544, 38.154087, 27.27552, 38...   \n",
       "\n",
       "                                    mfccs_delta_mean  \\\n",
       "0  [7.6438293, 2.0495448, -2.2808201, 0.26232308,...   \n",
       "1  [-4.5402517, -3.4924977, -0.37305757, -0.64102...   \n",
       "2  [3.2932093, -4.0986385, -3.06783, 1.4283211, 2...   \n",
       "3  [-0.2987371, -4.79065, 2.8436575, 3.4281251, -...   \n",
       "4  [-5.2192245, -10.501004, 5.264592, 1.5651596, ...   \n",
       "\n",
       "                                     mfccs_delta_std  \\\n",
       "0  [12.530376, 8.677294, 7.3228106, 4.123108, 2.8...   \n",
       "1  [10.262612, 6.768381, 4.2443323, 5.0021243, 2....   \n",
       "2  [11.529502, 5.509337, 4.7498536, 5.5789504, 6....   \n",
       "3  [9.446445, 16.08716, 2.7725258, 6.156691, 4.67...   \n",
       "4  [14.663708, 11.573661, 4.3268127, 5.169234, 5....   \n",
       "\n",
       "                                      combined_mfccs  \\\n",
       "0  [-196.65865, 126.91008, -32.876976, 25.416832,...   \n",
       "1  [-258.90433, 171.56952, 5.8856416, 34.963104, ...   \n",
       "2  [-235.71283, 148.99991, 7.0049567, 34.56189, -...   \n",
       "3  [-233.44008, 127.30211, 11.549065, 42.032394, ...   \n",
       "4  [-242.86156, 123.218254, -12.731119, 54.86693,...   \n",
       "\n",
       "                                            mfcc_pad  \\\n",
       "0  [[-292, 70, -6, 39, -23, 24, -24, 18, -19, 0, ...   \n",
       "1  [[-362, 188, 46, -1, -12, -11, 0, -10, -19, -6...   \n",
       "2  [[-316, 165, 42, 39, 0, -1, -9, -2, -12, -20, ...   \n",
       "3  [[-300, 81, 2, 22, -39, 18, -24, 18, -5, 4, 11...   \n",
       "4  [[-285, 126, -45, 51, -1, -55, -29, -12, -6, -...   \n",
       "\n",
       "                                   mfcc_pad_combined  \n",
       "0  [[-292, 70, -6, 39, -23, 24, -24, 18, -19, 0, ...  \n",
       "1  [[-362, 188, 46, -1, -12, -11, 0, -10, -19, -6...  \n",
       "2  [[-316, 165, 42, 39, 0, -1, -9, -2, -12, -20, ...  \n",
       "3  [[-300, 81, 2, 22, -39, 18, -24, 18, -5, 4, 11...  \n",
       "4  [[-285, 126, -45, 51, -1, -55, -29, -12, -6, -...  "
      ]
     },
     "execution_count": 14,
     "metadata": {},
     "output_type": "execute_result"
    }
   ],
   "source": [
    "# check if all correctly done\n",
    "\n",
    "train_df.head()"
   ]
  },
  {
   "cell_type": "markdown",
   "metadata": {},
   "source": [
    "**Preprocessing For CNN**\n",
    "\n",
    "From the EDA, it seems possible to do a classification based on Spectrogram. This section does two forms of preprocessing. The first type transforms the audio file into plotting data for the mel-spectrogram. This plotting data will also be used for one CNN model.\n",
    "\n",
    "The second type transforms the audio file into a mel-spectrogram and then saving it as a PNG file. It will be then be subsequently used to train another CNN model."
   ]
  },
  {
   "cell_type": "code",
   "execution_count": 15,
   "metadata": {},
   "outputs": [],
   "source": [
    "def get_mel(filename):\n",
    "    \"\"\"\n",
    "    This function gives the melspectrogram array and padded to a fixed dimension.\n",
    "    \"\"\"\n",
    "    audio, sr = librosa.load(filename)\n",
    "    mel= librosa.feature.melspectrogram(audio, sr=sr, n_mels=20)\n",
    "    mel = librosa.util.fix_length(mel,45)\n",
    "    return mel"
   ]
  },
  {
   "cell_type": "code",
   "execution_count": 16,
   "metadata": {},
   "outputs": [],
   "source": [
    "# apply the mel-spectrogram function to all the files\n",
    "\n",
    "train_df['mel'] = train_df['filepath'].map(get_mel)"
   ]
  },
  {
   "cell_type": "code",
   "execution_count": 17,
   "metadata": {},
   "outputs": [
    {
     "data": {
      "text/html": [
       "<div>\n",
       "<style scoped>\n",
       "    .dataframe tbody tr th:only-of-type {\n",
       "        vertical-align: middle;\n",
       "    }\n",
       "\n",
       "    .dataframe tbody tr th {\n",
       "        vertical-align: top;\n",
       "    }\n",
       "\n",
       "    .dataframe thead th {\n",
       "        text-align: right;\n",
       "    }\n",
       "</style>\n",
       "<table border=\"1\" class=\"dataframe\">\n",
       "  <thead>\n",
       "    <tr style=\"text-align: right;\">\n",
       "      <th></th>\n",
       "      <th>id</th>\n",
       "      <th>filepath</th>\n",
       "      <th>duration</th>\n",
       "      <th>class_label</th>\n",
       "      <th>mfccs_mean</th>\n",
       "      <th>mfccs_std</th>\n",
       "      <th>mfccs_delta_mean</th>\n",
       "      <th>mfccs_delta_std</th>\n",
       "      <th>combined_mfccs</th>\n",
       "      <th>mfcc_pad</th>\n",
       "      <th>mfcc_pad_combined</th>\n",
       "      <th>mel</th>\n",
       "    </tr>\n",
       "  </thead>\n",
       "  <tbody>\n",
       "    <tr>\n",
       "      <th>0</th>\n",
       "      <td>10210049</td>\n",
       "      <td>./assets/audio_train/10210049_father.wav</td>\n",
       "      <td>0.457959</td>\n",
       "      <td>father</td>\n",
       "      <td>[-196.65865, 126.91008, -32.876976, 25.416832,...</td>\n",
       "      <td>[58.43318, 37.41045, 29.724075, 16.595234, 13....</td>\n",
       "      <td>[7.6438293, 2.0495448, -2.2808201, 0.26232308,...</td>\n",
       "      <td>[12.530376, 8.677294, 7.3228106, 4.123108, 2.8...</td>\n",
       "      <td>[-196.65865, 126.91008, -32.876976, 25.416832,...</td>\n",
       "      <td>[[-292, 70, -6, 39, -23, 24, -24, 18, -19, 0, ...</td>\n",
       "      <td>[[-292, 70, -6, 39, -23, 24, -24, 18, -19, 0, ...</td>\n",
       "      <td>[[0.09585485, 0.03155937, 0.00384897, 0.377477...</td>\n",
       "    </tr>\n",
       "    <tr>\n",
       "      <th>1</th>\n",
       "      <td>10210049</td>\n",
       "      <td>./assets/audio_train/10210049_worker.wav</td>\n",
       "      <td>0.519501</td>\n",
       "      <td>worker</td>\n",
       "      <td>[-258.90433, 171.56952, 5.8856416, 34.963104, ...</td>\n",
       "      <td>[62.08626, 30.751865, 25.998608, 21.70042, 16....</td>\n",
       "      <td>[-4.5402517, -3.4924977, -0.37305757, -0.64102...</td>\n",
       "      <td>[10.262612, 6.768381, 4.2443323, 5.0021243, 2....</td>\n",
       "      <td>[-258.90433, 171.56952, 5.8856416, 34.963104, ...</td>\n",
       "      <td>[[-362, 188, 46, -1, -12, -11, 0, -10, -19, -6...</td>\n",
       "      <td>[[-362, 188, 46, -1, -12, -11, 0, -10, -19, -6...</td>\n",
       "      <td>[[1.5918645, 21.006813, 87.20263, 143.3757, 15...</td>\n",
       "    </tr>\n",
       "    <tr>\n",
       "      <th>2</th>\n",
       "      <td>10210051</td>\n",
       "      <td>./assets/audio_train/10210051_water.wav</td>\n",
       "      <td>0.395828</td>\n",
       "      <td>water</td>\n",
       "      <td>[-235.71283, 148.99991, 7.0049567, 34.56189, -...</td>\n",
       "      <td>[87.36377, 34.059155, 39.78111, 24.895144, 33....</td>\n",
       "      <td>[3.2932093, -4.0986385, -3.06783, 1.4283211, 2...</td>\n",
       "      <td>[11.529502, 5.509337, 4.7498536, 5.5789504, 6....</td>\n",
       "      <td>[-235.71283, 148.99991, 7.0049567, 34.56189, -...</td>\n",
       "      <td>[[-316, 165, 42, 39, 0, -1, -9, -2, -12, -20, ...</td>\n",
       "      <td>[[-316, 165, 42, 39, 0, -1, -9, -2, -12, -20, ...</td>\n",
       "      <td>[[3.2332034, 8.094086, 16.798113, 23.049984, 3...</td>\n",
       "    </tr>\n",
       "  </tbody>\n",
       "</table>\n",
       "</div>"
      ],
      "text/plain": [
       "         id                                  filepath  duration class_label  \\\n",
       "0  10210049  ./assets/audio_train/10210049_father.wav  0.457959      father   \n",
       "1  10210049  ./assets/audio_train/10210049_worker.wav  0.519501      worker   \n",
       "2  10210051   ./assets/audio_train/10210051_water.wav  0.395828       water   \n",
       "\n",
       "                                          mfccs_mean  \\\n",
       "0  [-196.65865, 126.91008, -32.876976, 25.416832,...   \n",
       "1  [-258.90433, 171.56952, 5.8856416, 34.963104, ...   \n",
       "2  [-235.71283, 148.99991, 7.0049567, 34.56189, -...   \n",
       "\n",
       "                                           mfccs_std  \\\n",
       "0  [58.43318, 37.41045, 29.724075, 16.595234, 13....   \n",
       "1  [62.08626, 30.751865, 25.998608, 21.70042, 16....   \n",
       "2  [87.36377, 34.059155, 39.78111, 24.895144, 33....   \n",
       "\n",
       "                                    mfccs_delta_mean  \\\n",
       "0  [7.6438293, 2.0495448, -2.2808201, 0.26232308,...   \n",
       "1  [-4.5402517, -3.4924977, -0.37305757, -0.64102...   \n",
       "2  [3.2932093, -4.0986385, -3.06783, 1.4283211, 2...   \n",
       "\n",
       "                                     mfccs_delta_std  \\\n",
       "0  [12.530376, 8.677294, 7.3228106, 4.123108, 2.8...   \n",
       "1  [10.262612, 6.768381, 4.2443323, 5.0021243, 2....   \n",
       "2  [11.529502, 5.509337, 4.7498536, 5.5789504, 6....   \n",
       "\n",
       "                                      combined_mfccs  \\\n",
       "0  [-196.65865, 126.91008, -32.876976, 25.416832,...   \n",
       "1  [-258.90433, 171.56952, 5.8856416, 34.963104, ...   \n",
       "2  [-235.71283, 148.99991, 7.0049567, 34.56189, -...   \n",
       "\n",
       "                                            mfcc_pad  \\\n",
       "0  [[-292, 70, -6, 39, -23, 24, -24, 18, -19, 0, ...   \n",
       "1  [[-362, 188, 46, -1, -12, -11, 0, -10, -19, -6...   \n",
       "2  [[-316, 165, 42, 39, 0, -1, -9, -2, -12, -20, ...   \n",
       "\n",
       "                                   mfcc_pad_combined  \\\n",
       "0  [[-292, 70, -6, 39, -23, 24, -24, 18, -19, 0, ...   \n",
       "1  [[-362, 188, 46, -1, -12, -11, 0, -10, -19, -6...   \n",
       "2  [[-316, 165, 42, 39, 0, -1, -9, -2, -12, -20, ...   \n",
       "\n",
       "                                                 mel  \n",
       "0  [[0.09585485, 0.03155937, 0.00384897, 0.377477...  \n",
       "1  [[1.5918645, 21.006813, 87.20263, 143.3757, 15...  \n",
       "2  [[3.2332034, 8.094086, 16.798113, 23.049984, 3...  "
      ]
     },
     "execution_count": 17,
     "metadata": {},
     "output_type": "execute_result"
    }
   ],
   "source": [
    "# check if successful\n",
    "train_df.head(3)"
   ]
  },
  {
   "cell_type": "markdown",
   "metadata": {},
   "source": [
    "**Save Spectrograms as PNG**"
   ]
  },
  {
   "cell_type": "code",
   "execution_count": 18,
   "metadata": {
    "scrolled": true
   },
   "outputs": [],
   "source": [
    "# generate spectrogram for each file\n",
    "\n",
    "# for each file\n",
    "for n, f in enumerate(train_df['filepath']):\n",
    "    \n",
    "    # get unique id\n",
    "    audio_id = train_df['id'][n]\n",
    "    \n",
    "    # get label\n",
    "    label = train_df['class_label'][n]\n",
    "    \n",
    "    # load file\n",
    "    audio, sr = librosa.load(f)\n",
    "    \n",
    "    # plot spectrogram\n",
    "    plt.figure(figsize=[2,2])\n",
    "    mel_spec = librosa.feature.melspectrogram(audio, sr=sr, n_mels=20)\n",
    "    log_mel_spec = librosa.power_to_db(mel_spec)\n",
    "    librosa.display.specshow(log_mel_spec)\n",
    "    \n",
    "    # save and close, slightly padded\n",
    "    plt.savefig(f\"./assets/spec_train/{label}_{audio_id}.png\", dpi=500, bbox_inches='tight',pad_inches=0.1)\n",
    "    plt.close()\n"
   ]
  },
  {
   "cell_type": "code",
   "execution_count": 19,
   "metadata": {},
   "outputs": [],
   "source": [
    "# create training data\n",
    "\n",
    "img_size = 300\n",
    "\n",
    "# target folder\n",
    "folder = \"./assets/spec_train/\"\n",
    "\n",
    "# create empty list for spectrogram data and label\n",
    "train_data_spec = []\n",
    "train_label_spec = []\n",
    "\n",
    "# get image data and label\n",
    "for img in os.listdir(folder):\n",
    "    label, filename = img.split('_')\n",
    "    path = os.path.join(folder, img)\n",
    "    im = Image.open(path)\n",
    "    im = im.convert('RGB')\n",
    "    im = im.resize((img_size, img_size), Image.ANTIALIAS)\n",
    "    train_data_spec.append(np.array(im))\n",
    "    train_label_spec.append(label)\n",
    "\n",
    "\n",
    "# normalise the data\n",
    "train_data_spec = np.array(train_data_spec)/255"
   ]
  },
  {
   "cell_type": "code",
   "execution_count": 20,
   "metadata": {},
   "outputs": [],
   "source": [
    "# create the y label for cnn\n",
    "le_cnn = LabelEncoder()\n",
    "y_cnn = to_categorical(le_cnn.fit_transform(train_label_spec))\n",
    "y_cnn = np.array(y_cnn)"
   ]
  },
  {
   "cell_type": "markdown",
   "metadata": {},
   "source": [
    "## 4. Modelling\n",
    "\n",
    "The types of model which will be built are:\n",
    "\n",
    "1. Feedforward Neural Network (FNN)\n",
    "2. Convolutional Neural Network (CNN)\n",
    "3. Recurrent Neural Network\n",
    "    - Long-Short Term Memory (LSTM)\n",
    "    - Gated Recurrent Units (GRUC)"
   ]
  },
  {
   "cell_type": "code",
   "execution_count": 21,
   "metadata": {},
   "outputs": [],
   "source": [
    "# set random seed\n",
    "np.random.seed(42)\n",
    "\n",
    "from tensorflow import random\n",
    "random.set_seed(42)"
   ]
  },
  {
   "cell_type": "markdown",
   "metadata": {},
   "source": [
    "**Model 1: Feedforward Neural Network (baseline model)**\n",
    "\n",
    "- Features: MFCC Mean\n",
    "- Input Shape: (40,1)\n",
    "\n",
    "The most basic neural network is trained based on the MFCC mean of each coefficient across the whole time frame, turning it all into a single dimension, most suitable for a vanilla neural network.\n",
    "\n",
    "The accuracy will also be used as the baseline score."
   ]
  },
  {
   "cell_type": "code",
   "execution_count": 22,
   "metadata": {},
   "outputs": [],
   "source": [
    "X = train_df['mfccs_mean']"
   ]
  },
  {
   "cell_type": "code",
   "execution_count": 23,
   "metadata": {},
   "outputs": [],
   "source": [
    "X = np.array(X.tolist())"
   ]
  },
  {
   "cell_type": "code",
   "execution_count": 24,
   "metadata": {},
   "outputs": [],
   "source": [
    "# one-hot encoding of the classes\n",
    "le = LabelEncoder()\n",
    "y = to_categorical(le.fit_transform(train_df['class_label'].tolist()))\n",
    "y = np.array(y)"
   ]
  },
  {
   "cell_type": "code",
   "execution_count": 25,
   "metadata": {},
   "outputs": [],
   "source": [
    "X_train_1, X_test_1, y_train, y_test = train_test_split(X, y, test_size = 0.2, random_state = 42, stratify = y)"
   ]
  },
  {
   "cell_type": "code",
   "execution_count": 26,
   "metadata": {},
   "outputs": [],
   "source": [
    "model_1 = Sequential()\n",
    "\n",
    "# two dense layer\n",
    "model_1.add(Dense(64, activation='relu', input_shape=(40,)))\n",
    "model_1.add(Dense(64, activation='relu'))\n",
    "\n",
    "# output layer\n",
    "model_1.add(Dense(5, activation='softmax'))"
   ]
  },
  {
   "cell_type": "code",
   "execution_count": 27,
   "metadata": {},
   "outputs": [],
   "source": [
    "model_1.compile(loss='categorical_crossentropy', optimizer='adam', metrics = ['accuracy'])"
   ]
  },
  {
   "cell_type": "code",
   "execution_count": 28,
   "metadata": {},
   "outputs": [
    {
     "name": "stdout",
     "output_type": "stream",
     "text": [
      "Model: \"sequential_1\"\n",
      "_________________________________________________________________\n",
      "Layer (type)                 Output Shape              Param #   \n",
      "=================================================================\n",
      "dense_1 (Dense)              (None, 64)                2624      \n",
      "_________________________________________________________________\n",
      "dense_2 (Dense)              (None, 64)                4160      \n",
      "_________________________________________________________________\n",
      "dense_3 (Dense)              (None, 5)                 325       \n",
      "=================================================================\n",
      "Total params: 7,109\n",
      "Trainable params: 7,109\n",
      "Non-trainable params: 0\n",
      "_________________________________________________________________\n"
     ]
    }
   ],
   "source": [
    "model_1.summary()"
   ]
  },
  {
   "cell_type": "code",
   "execution_count": 29,
   "metadata": {
    "scrolled": true
   },
   "outputs": [
    {
     "name": "stdout",
     "output_type": "stream",
     "text": [
      "Train on 839 samples, validate on 210 samples\n",
      "Epoch 1/50\n",
      " - 0s - loss: 7.9089 - accuracy: 0.2277 - val_loss: 2.9843 - val_accuracy: 0.3095\n",
      "Epoch 2/50\n",
      " - 0s - loss: 2.3606 - accuracy: 0.3933 - val_loss: 2.0727 - val_accuracy: 0.4524\n",
      "Epoch 3/50\n",
      " - 0s - loss: 1.5620 - accuracy: 0.5387 - val_loss: 1.8350 - val_accuracy: 0.5000\n",
      "Epoch 4/50\n",
      " - 0s - loss: 1.2733 - accuracy: 0.5912 - val_loss: 1.4708 - val_accuracy: 0.5714\n",
      "Epoch 5/50\n",
      " - 0s - loss: 1.0142 - accuracy: 0.6615 - val_loss: 1.4743 - val_accuracy: 0.6000\n",
      "Epoch 6/50\n",
      " - 0s - loss: 0.9298 - accuracy: 0.6663 - val_loss: 1.4845 - val_accuracy: 0.6238\n",
      "Epoch 7/50\n",
      " - 0s - loss: 0.9060 - accuracy: 0.6818 - val_loss: 1.3359 - val_accuracy: 0.6238\n",
      "Epoch 8/50\n",
      " - 0s - loss: 0.7785 - accuracy: 0.7211 - val_loss: 1.2604 - val_accuracy: 0.6381\n",
      "Epoch 9/50\n",
      " - 0s - loss: 0.7250 - accuracy: 0.7426 - val_loss: 1.3544 - val_accuracy: 0.5905\n",
      "Epoch 10/50\n",
      " - 0s - loss: 0.7636 - accuracy: 0.7426 - val_loss: 1.2882 - val_accuracy: 0.6286\n",
      "Epoch 11/50\n",
      " - 0s - loss: 0.6767 - accuracy: 0.7485 - val_loss: 1.3331 - val_accuracy: 0.6000\n",
      "Epoch 12/50\n",
      " - 0s - loss: 0.6194 - accuracy: 0.7723 - val_loss: 1.1889 - val_accuracy: 0.6429\n",
      "Epoch 13/50\n",
      " - 0s - loss: 0.6376 - accuracy: 0.7676 - val_loss: 1.2680 - val_accuracy: 0.6524\n",
      "Epoch 14/50\n",
      " - 0s - loss: 0.6035 - accuracy: 0.7855 - val_loss: 1.2073 - val_accuracy: 0.6238\n",
      "Epoch 15/50\n",
      " - 0s - loss: 0.5382 - accuracy: 0.7902 - val_loss: 1.1860 - val_accuracy: 0.6524\n",
      "Epoch 16/50\n",
      " - 0s - loss: 0.5096 - accuracy: 0.8248 - val_loss: 1.1225 - val_accuracy: 0.6714\n",
      "Epoch 17/50\n",
      " - 0s - loss: 0.4898 - accuracy: 0.8212 - val_loss: 1.2093 - val_accuracy: 0.6429\n",
      "Epoch 18/50\n",
      " - 0s - loss: 0.4841 - accuracy: 0.8319 - val_loss: 1.0963 - val_accuracy: 0.6714\n",
      "Epoch 19/50\n",
      " - 0s - loss: 0.4741 - accuracy: 0.8391 - val_loss: 1.1560 - val_accuracy: 0.6476\n",
      "Epoch 20/50\n",
      " - 0s - loss: 0.4398 - accuracy: 0.8403 - val_loss: 1.2346 - val_accuracy: 0.6762\n",
      "Epoch 21/50\n",
      " - 0s - loss: 0.4804 - accuracy: 0.8141 - val_loss: 1.1407 - val_accuracy: 0.6476\n",
      "Epoch 22/50\n",
      " - 0s - loss: 0.4308 - accuracy: 0.8439 - val_loss: 1.1333 - val_accuracy: 0.6714\n",
      "Epoch 23/50\n",
      " - 0s - loss: 0.4356 - accuracy: 0.8439 - val_loss: 1.1445 - val_accuracy: 0.6714\n",
      "Epoch 24/50\n",
      " - 0s - loss: 0.4138 - accuracy: 0.8510 - val_loss: 1.3180 - val_accuracy: 0.6286\n",
      "Epoch 25/50\n",
      " - 0s - loss: 0.4182 - accuracy: 0.8439 - val_loss: 1.2159 - val_accuracy: 0.6524\n",
      "Epoch 26/50\n",
      " - 0s - loss: 0.4160 - accuracy: 0.8474 - val_loss: 1.2798 - val_accuracy: 0.6476\n",
      "Epoch 27/50\n",
      " - 0s - loss: 0.4096 - accuracy: 0.8570 - val_loss: 1.1412 - val_accuracy: 0.6667\n",
      "Epoch 28/50\n",
      " - 0s - loss: 0.3462 - accuracy: 0.8772 - val_loss: 1.2311 - val_accuracy: 0.6619\n",
      "Epoch 29/50\n",
      " - 0s - loss: 0.3740 - accuracy: 0.8713 - val_loss: 1.1660 - val_accuracy: 0.6714\n",
      "Epoch 30/50\n",
      " - 0s - loss: 0.5210 - accuracy: 0.8164 - val_loss: 1.3049 - val_accuracy: 0.6762\n",
      "Epoch 31/50\n",
      " - 0s - loss: 0.4790 - accuracy: 0.8379 - val_loss: 1.1558 - val_accuracy: 0.7000\n",
      "Epoch 32/50\n",
      " - 0s - loss: 0.3421 - accuracy: 0.8856 - val_loss: 1.2415 - val_accuracy: 0.6714\n",
      "Epoch 33/50\n",
      " - 0s - loss: 0.3812 - accuracy: 0.8558 - val_loss: 1.3783 - val_accuracy: 0.6238\n",
      "Epoch 34/50\n",
      " - 0s - loss: 0.3690 - accuracy: 0.8629 - val_loss: 1.1875 - val_accuracy: 0.7000\n",
      "Epoch 35/50\n",
      " - 0s - loss: 0.4152 - accuracy: 0.8534 - val_loss: 1.3085 - val_accuracy: 0.6524\n",
      "Epoch 36/50\n",
      " - 0s - loss: 0.3044 - accuracy: 0.9046 - val_loss: 1.1884 - val_accuracy: 0.6857\n",
      "Epoch 37/50\n",
      " - 0s - loss: 0.3192 - accuracy: 0.8975 - val_loss: 1.2120 - val_accuracy: 0.7000\n",
      "Epoch 38/50\n",
      " - 0s - loss: 0.3034 - accuracy: 0.8892 - val_loss: 1.2322 - val_accuracy: 0.6667\n",
      "Epoch 39/50\n",
      " - 0s - loss: 0.3091 - accuracy: 0.8951 - val_loss: 1.2308 - val_accuracy: 0.6857\n",
      "Epoch 40/50\n",
      " - 0s - loss: 0.2950 - accuracy: 0.9035 - val_loss: 1.2251 - val_accuracy: 0.6857\n",
      "Epoch 41/50\n",
      " - 0s - loss: 0.2981 - accuracy: 0.8987 - val_loss: 1.2496 - val_accuracy: 0.6857\n",
      "Epoch 42/50\n",
      " - 0s - loss: 0.3265 - accuracy: 0.8951 - val_loss: 1.2108 - val_accuracy: 0.7095\n",
      "Epoch 43/50\n",
      " - 0s - loss: 0.2660 - accuracy: 0.9154 - val_loss: 1.3703 - val_accuracy: 0.6762\n",
      "Epoch 44/50\n",
      " - 0s - loss: 0.2884 - accuracy: 0.8987 - val_loss: 1.2851 - val_accuracy: 0.6714\n",
      "Epoch 45/50\n",
      " - 0s - loss: 0.2528 - accuracy: 0.9118 - val_loss: 1.2673 - val_accuracy: 0.6810\n",
      "Epoch 46/50\n",
      " - 0s - loss: 0.2857 - accuracy: 0.8987 - val_loss: 1.3175 - val_accuracy: 0.7095\n",
      "Epoch 47/50\n",
      " - 0s - loss: 0.3035 - accuracy: 0.8868 - val_loss: 1.2644 - val_accuracy: 0.6952\n",
      "Epoch 48/50\n",
      " - 0s - loss: 0.3491 - accuracy: 0.8605 - val_loss: 1.2479 - val_accuracy: 0.7143\n",
      "Epoch 49/50\n",
      " - 0s - loss: 0.3334 - accuracy: 0.8760 - val_loss: 1.3995 - val_accuracy: 0.6619\n",
      "Epoch 50/50\n",
      " - 0s - loss: 0.2549 - accuracy: 0.9046 - val_loss: 1.3608 - val_accuracy: 0.6952\n",
      "Wall time: 3.51 s\n"
     ]
    }
   ],
   "source": [
    "%%time\n",
    "\n",
    "history = model_1.fit(X_train_1, y_train, validation_data=(X_test_1, y_test), batch_size=32, epochs = 50, verbose=2)"
   ]
  },
  {
   "cell_type": "code",
   "execution_count": 30,
   "metadata": {
    "scrolled": true
   },
   "outputs": [
    {
     "data": {
      "text/plain": [
       "<matplotlib.legend.Legend at 0x1987f414d30>"
      ]
     },
     "execution_count": 30,
     "metadata": {},
     "output_type": "execute_result"
    },
    {
     "data": {
      "image/png": "[encoded data removed]",
      "text/plain": [
       "<Figure size 432x288 with 1 Axes>"
      ]
     },
     "metadata": {
      "needs_background": "light"
     },
     "output_type": "display_data"
    }
   ],
   "source": [
    "plt.plot(history.history['loss'], label = ' Training Loss')\n",
    "plt.plot(history.history['val_loss'], label = ' Test Loss')\n",
    "plt.legend()"
   ]
  },
  {
   "cell_type": "code",
   "execution_count": 31,
   "metadata": {},
   "outputs": [
    {
     "data": {
      "text/plain": [
       "<matplotlib.legend.Legend at 0x1987f596dd8>"
      ]
     },
     "execution_count": 31,
     "metadata": {},
     "output_type": "execute_result"
    },
    {
     "data": {
      "image/png": "[encoded data removed]",
      "text/plain": [
       "<Figure size 432x288 with 1 Axes>"
      ]
     },
     "metadata": {
      "needs_background": "light"
     },
     "output_type": "display_data"
    }
   ],
   "source": [
    "plt.plot(history.history['accuracy'], label = ' Training Accuracy')\n",
    "plt.plot(history.history['val_accuracy'], label = ' Test Accuracy')\n",
    "plt.legend()"
   ]
  },
  {
   "cell_type": "code",
   "execution_count": 32,
   "metadata": {
    "scrolled": true
   },
   "outputs": [
    {
     "name": "stdout",
     "output_type": "stream",
     "text": [
      "210/210 [==============================] - 0s 48us/step\n",
      "Model 1 loss: 1.3607782318478538\n",
      "Model 1 accuracy: 0.6952381134033203\n"
     ]
    }
   ],
   "source": [
    "# print evaluation score\n",
    "\n",
    "model_1_eval = model_1.evaluate(X_test_1,y_test, verbose=1)\n",
    "model_1_metrics = model_1.metrics_names\n",
    "\n",
    "print(f\"Model 1 {model_1_metrics[0]}: {model_1_eval[0]}\")\n",
    "print(f\"Model 1 {model_1_metrics[1]}: {model_1_eval[1]}\")"
   ]
  },
  {
   "cell_type": "markdown",
   "metadata": {},
   "source": [
    "**Establish Baseline Score**\n",
    "\n",
    "The baseline score is 69.5% accuracy. Subsequent models should outperform this vanilla neural network."
   ]
  },
  {
   "cell_type": "markdown",
   "metadata": {},
   "source": [
    "**Model 2: Feedforward Neural Network**\n",
    "\n",
    "- Features: 40 MFCC x 4 indicators (mean and std, delta mean, delta std)\n",
    "- Input Shape: (160,1) "
   ]
  },
  {
   "cell_type": "code",
   "execution_count": 33,
   "metadata": {},
   "outputs": [],
   "source": [
    "X = np.array(train_df['combined_mfccs'].tolist())"
   ]
  },
  {
   "cell_type": "code",
   "execution_count": 34,
   "metadata": {},
   "outputs": [],
   "source": [
    "X_train_2, X_test_2, y_train, y_test = train_test_split(X, y, test_size = 0.2, random_state = 42, stratify = y)"
   ]
  },
  {
   "cell_type": "code",
   "execution_count": 35,
   "metadata": {},
   "outputs": [],
   "source": [
    "ss = StandardScaler()\n",
    "X_train_2 = ss.fit_transform(X_train_2)\n",
    "X_test_2 = ss.transform(X_test_2)"
   ]
  },
  {
   "cell_type": "code",
   "execution_count": 36,
   "metadata": {},
   "outputs": [],
   "source": [
    "model_2 = Sequential()\n",
    "\n",
    "# two dense layer\n",
    "model_2.add(Dense(64, activation='relu', input_shape=(160,)))\n",
    "model_2.add(Dense(64, activation='relu'))\n",
    "\n",
    "# output layer\n",
    "model_2.add(Dense(5, activation='softmax'))"
   ]
  },
  {
   "cell_type": "code",
   "execution_count": 37,
   "metadata": {},
   "outputs": [],
   "source": [
    "model_2.compile(loss='categorical_crossentropy', optimizer='adam', metrics = ['accuracy'])"
   ]
  },
  {
   "cell_type": "code",
   "execution_count": 38,
   "metadata": {
    "scrolled": true
   },
   "outputs": [
    {
     "name": "stdout",
     "output_type": "stream",
     "text": [
      "Train on 839 samples, validate on 210 samples\n",
      "Epoch 1/50\n",
      " - 0s - loss: 1.3003 - accuracy: 0.5089 - val_loss: 0.8984 - val_accuracy: 0.7714\n",
      "Epoch 2/50\n",
      " - 0s - loss: 0.6121 - accuracy: 0.8558 - val_loss: 0.4634 - val_accuracy: 0.8952\n",
      "Epoch 3/50\n",
      " - 0s - loss: 0.2852 - accuracy: 0.9511 - val_loss: 0.2670 - val_accuracy: 0.9429\n",
      "Epoch 4/50\n",
      " - 0s - loss: 0.1460 - accuracy: 0.9809 - val_loss: 0.1954 - val_accuracy: 0.9524\n",
      "Epoch 5/50\n",
      " - 0s - loss: 0.0843 - accuracy: 0.9893 - val_loss: 0.1583 - val_accuracy: 0.9524\n",
      "Epoch 6/50\n",
      " - 0s - loss: 0.0520 - accuracy: 0.9976 - val_loss: 0.1426 - val_accuracy: 0.9524\n",
      "Epoch 7/50\n",
      " - 0s - loss: 0.0345 - accuracy: 1.0000 - val_loss: 0.1322 - val_accuracy: 0.9524\n",
      "Epoch 8/50\n",
      " - 0s - loss: 0.0257 - accuracy: 1.0000 - val_loss: 0.1253 - val_accuracy: 0.9476\n",
      "Epoch 9/50\n",
      " - 0s - loss: 0.0181 - accuracy: 1.0000 - val_loss: 0.1223 - val_accuracy: 0.9524\n",
      "Epoch 10/50\n",
      " - 0s - loss: 0.0136 - accuracy: 1.0000 - val_loss: 0.1184 - val_accuracy: 0.9524\n",
      "Epoch 11/50\n",
      " - 0s - loss: 0.0108 - accuracy: 1.0000 - val_loss: 0.1163 - val_accuracy: 0.9524\n",
      "Epoch 12/50\n",
      " - 0s - loss: 0.0088 - accuracy: 1.0000 - val_loss: 0.1166 - val_accuracy: 0.9524\n",
      "Epoch 13/50\n",
      " - 0s - loss: 0.0073 - accuracy: 1.0000 - val_loss: 0.1142 - val_accuracy: 0.9476\n",
      "Epoch 14/50\n",
      " - 0s - loss: 0.0062 - accuracy: 1.0000 - val_loss: 0.1147 - val_accuracy: 0.9476\n",
      "Epoch 15/50\n",
      " - 0s - loss: 0.0053 - accuracy: 1.0000 - val_loss: 0.1136 - val_accuracy: 0.9524\n",
      "Epoch 16/50\n",
      " - 0s - loss: 0.0046 - accuracy: 1.0000 - val_loss: 0.1128 - val_accuracy: 0.9524\n",
      "Epoch 17/50\n",
      " - 0s - loss: 0.0041 - accuracy: 1.0000 - val_loss: 0.1123 - val_accuracy: 0.9476\n",
      "Epoch 18/50\n",
      " - 0s - loss: 0.0036 - accuracy: 1.0000 - val_loss: 0.1125 - val_accuracy: 0.9429\n",
      "Epoch 19/50\n",
      " - 0s - loss: 0.0032 - accuracy: 1.0000 - val_loss: 0.1125 - val_accuracy: 0.9429\n",
      "Epoch 20/50\n",
      " - 0s - loss: 0.0028 - accuracy: 1.0000 - val_loss: 0.1124 - val_accuracy: 0.9476\n",
      "Epoch 21/50\n",
      " - 0s - loss: 0.0025 - accuracy: 1.0000 - val_loss: 0.1123 - val_accuracy: 0.9429\n",
      "Epoch 22/50\n",
      " - 0s - loss: 0.0023 - accuracy: 1.0000 - val_loss: 0.1125 - val_accuracy: 0.9429\n",
      "Epoch 23/50\n",
      " - 0s - loss: 0.0021 - accuracy: 1.0000 - val_loss: 0.1123 - val_accuracy: 0.9429\n",
      "Epoch 24/50\n",
      " - 0s - loss: 0.0019 - accuracy: 1.0000 - val_loss: 0.1125 - val_accuracy: 0.9429\n",
      "Epoch 25/50\n",
      " - 0s - loss: 0.0018 - accuracy: 1.0000 - val_loss: 0.1126 - val_accuracy: 0.9429\n",
      "Epoch 26/50\n",
      " - 0s - loss: 0.0016 - accuracy: 1.0000 - val_loss: 0.1125 - val_accuracy: 0.9429\n",
      "Epoch 27/50\n",
      " - 0s - loss: 0.0015 - accuracy: 1.0000 - val_loss: 0.1134 - val_accuracy: 0.9429\n",
      "Epoch 28/50\n",
      " - 0s - loss: 0.0014 - accuracy: 1.0000 - val_loss: 0.1136 - val_accuracy: 0.9429\n",
      "Epoch 29/50\n",
      " - 0s - loss: 0.0013 - accuracy: 1.0000 - val_loss: 0.1136 - val_accuracy: 0.9429\n",
      "Epoch 30/50\n",
      " - 0s - loss: 0.0012 - accuracy: 1.0000 - val_loss: 0.1140 - val_accuracy: 0.9429\n",
      "Epoch 31/50\n",
      " - 0s - loss: 0.0011 - accuracy: 1.0000 - val_loss: 0.1139 - val_accuracy: 0.9429\n",
      "Epoch 32/50\n",
      " - 0s - loss: 0.0010 - accuracy: 1.0000 - val_loss: 0.1141 - val_accuracy: 0.9429\n",
      "Epoch 33/50\n",
      " - 0s - loss: 9.6405e-04 - accuracy: 1.0000 - val_loss: 0.1143 - val_accuracy: 0.9429\n",
      "Epoch 34/50\n",
      " - 0s - loss: 9.0657e-04 - accuracy: 1.0000 - val_loss: 0.1148 - val_accuracy: 0.9429\n",
      "Epoch 35/50\n",
      " - 0s - loss: 8.5134e-04 - accuracy: 1.0000 - val_loss: 0.1152 - val_accuracy: 0.9429\n",
      "Epoch 36/50\n",
      " - 0s - loss: 8.0102e-04 - accuracy: 1.0000 - val_loss: 0.1152 - val_accuracy: 0.9429\n",
      "Epoch 37/50\n",
      " - 0s - loss: 7.5598e-04 - accuracy: 1.0000 - val_loss: 0.1156 - val_accuracy: 0.9429\n",
      "Epoch 38/50\n",
      " - 0s - loss: 7.1518e-04 - accuracy: 1.0000 - val_loss: 0.1153 - val_accuracy: 0.9429\n",
      "Epoch 39/50\n",
      " - 0s - loss: 6.7623e-04 - accuracy: 1.0000 - val_loss: 0.1155 - val_accuracy: 0.9429\n",
      "Epoch 40/50\n",
      " - 0s - loss: 6.4261e-04 - accuracy: 1.0000 - val_loss: 0.1163 - val_accuracy: 0.9429\n",
      "Epoch 41/50\n",
      " - 0s - loss: 6.0831e-04 - accuracy: 1.0000 - val_loss: 0.1164 - val_accuracy: 0.9429\n",
      "Epoch 42/50\n",
      " - 0s - loss: 5.7839e-04 - accuracy: 1.0000 - val_loss: 0.1166 - val_accuracy: 0.9429\n",
      "Epoch 43/50\n",
      " - 0s - loss: 5.4986e-04 - accuracy: 1.0000 - val_loss: 0.1166 - val_accuracy: 0.9429\n",
      "Epoch 44/50\n",
      " - 0s - loss: 5.2454e-04 - accuracy: 1.0000 - val_loss: 0.1169 - val_accuracy: 0.9429\n",
      "Epoch 45/50\n",
      " - 0s - loss: 4.9877e-04 - accuracy: 1.0000 - val_loss: 0.1175 - val_accuracy: 0.9429\n",
      "Epoch 46/50\n",
      " - 0s - loss: 4.7628e-04 - accuracy: 1.0000 - val_loss: 0.1175 - val_accuracy: 0.9429\n",
      "Epoch 47/50\n",
      " - 0s - loss: 4.5431e-04 - accuracy: 1.0000 - val_loss: 0.1175 - val_accuracy: 0.9429\n",
      "Epoch 48/50\n",
      " - 0s - loss: 4.3405e-04 - accuracy: 1.0000 - val_loss: 0.1179 - val_accuracy: 0.9429\n",
      "Epoch 49/50\n",
      " - 0s - loss: 4.1586e-04 - accuracy: 1.0000 - val_loss: 0.1181 - val_accuracy: 0.9429\n",
      "Epoch 50/50\n",
      " - 0s - loss: 3.9720e-04 - accuracy: 1.0000 - val_loss: 0.1183 - val_accuracy: 0.9429\n",
      "Wall time: 3.35 s\n"
     ]
    }
   ],
   "source": [
    "%%time\n",
    "history = model_2.fit(X_train_2, y_train, validation_data=(X_test_2, y_test), batch_size=32, epochs = 50, verbose=2)"
   ]
  },
  {
   "cell_type": "code",
   "execution_count": 39,
   "metadata": {
    "scrolled": false
   },
   "outputs": [
    {
     "data": {
      "text/plain": [
       "<matplotlib.legend.Legend at 0x19a2b33b898>"
      ]
     },
     "execution_count": 39,
     "metadata": {},
     "output_type": "execute_result"
    },
    {
     "data": {
      "image/png": "[encoded data removed]",
      "text/plain": [
       "<Figure size 432x288 with 1 Axes>"
      ]
     },
     "metadata": {
      "needs_background": "light"
     },
     "output_type": "display_data"
    }
   ],
   "source": [
    "plt.plot(history.history['loss'], label = ' Training Loss')\n",
    "plt.plot(history.history['val_loss'], label = ' Test Loss')\n",
    "plt.legend()"
   ]
  },
  {
   "cell_type": "code",
   "execution_count": 40,
   "metadata": {},
   "outputs": [
    {
     "data": {
      "text/plain": [
       "<matplotlib.legend.Legend at 0x19a2b3acda0>"
      ]
     },
     "execution_count": 40,
     "metadata": {},
     "output_type": "execute_result"
    },
    {
     "data": {
      "image/png": "[encoded data removed]",
      "text/plain": [
       "<Figure size 432x288 with 1 Axes>"
      ]
     },
     "metadata": {
      "needs_background": "light"
     },
     "output_type": "display_data"
    }
   ],
   "source": [
    "plt.plot(history.history['accuracy'], label = ' Training Accuracy')\n",
    "plt.plot(history.history['val_accuracy'], label = ' Test Accuracy')\n",
    "plt.legend()"
   ]
  },
  {
   "cell_type": "code",
   "execution_count": 41,
   "metadata": {
    "scrolled": false
   },
   "outputs": [
    {
     "name": "stdout",
     "output_type": "stream",
     "text": [
      "210/210 [==============================] - 0s 43us/step\n",
      "Model 2 loss: 0.11832666595776876\n",
      "Model 2 accuracy: 0.9428571462631226\n"
     ]
    }
   ],
   "source": [
    "# print evaluation score\n",
    "\n",
    "model_2_eval = model_2.evaluate(X_test_2,y_test, verbose=1)\n",
    "model_2_metrics = model_2.metrics_names\n",
    "\n",
    "print(f\"Model 2 {model_2_metrics[0]}: {model_2_eval[0]}\")\n",
    "print(f\"Model 2 {model_2_metrics[1]}: {model_2_eval[1]}\")"
   ]
  },
  {
   "cell_type": "markdown",
   "metadata": {},
   "source": [
    "**Model 3: Feedforward Neural Network**\n",
    "\n",
    "- Features: timesteps x (40 MFCC x 3 features (MFCC, Delta, Delta2))\n",
    "- Input Shape: (42, 120)"
   ]
  },
  {
   "cell_type": "code",
   "execution_count": 42,
   "metadata": {},
   "outputs": [],
   "source": [
    "X = np.array(train_df['mfcc_pad_combined'].tolist())"
   ]
  },
  {
   "cell_type": "code",
   "execution_count": 43,
   "metadata": {},
   "outputs": [],
   "source": [
    "# reshape for the model\n",
    "X = X.reshape((1049, 42, 120))"
   ]
  },
  {
   "cell_type": "code",
   "execution_count": 44,
   "metadata": {},
   "outputs": [],
   "source": [
    "X_train_3, X_test_3, y_train, y_test = train_test_split(X, y, test_size = 0.2, random_state = 42, stratify = y)"
   ]
  },
  {
   "cell_type": "code",
   "execution_count": 45,
   "metadata": {},
   "outputs": [],
   "source": [
    "model_3 = Sequential()\n",
    "\n",
    "# two dense layers\n",
    "model_3.add(Dense(128, activation='relu', input_shape=(42,120,)))\n",
    "model_3.add(Dense(128, activation='relu'))\n",
    "\n",
    "# flatten for the output layer\n",
    "model_3.add(Flatten())\n",
    "\n",
    "# output layer\n",
    "model_3.add(Dense(5, activation='softmax'))"
   ]
  },
  {
   "cell_type": "code",
   "execution_count": 46,
   "metadata": {},
   "outputs": [],
   "source": [
    "model_3.compile(loss='categorical_crossentropy', optimizer='adam', metrics = ['accuracy'])"
   ]
  },
  {
   "cell_type": "code",
   "execution_count": 47,
   "metadata": {},
   "outputs": [
    {
     "name": "stdout",
     "output_type": "stream",
     "text": [
      "Model: \"sequential_3\"\n",
      "_________________________________________________________________\n",
      "Layer (type)                 Output Shape              Param #   \n",
      "=================================================================\n",
      "dense_7 (Dense)              (None, 42, 128)           15488     \n",
      "_________________________________________________________________\n",
      "dense_8 (Dense)              (None, 42, 128)           16512     \n",
      "_________________________________________________________________\n",
      "flatten_1 (Flatten)          (None, 5376)              0         \n",
      "_________________________________________________________________\n",
      "dense_9 (Dense)              (None, 5)                 26885     \n",
      "=================================================================\n",
      "Total params: 58,885\n",
      "Trainable params: 58,885\n",
      "Non-trainable params: 0\n",
      "_________________________________________________________________\n"
     ]
    }
   ],
   "source": [
    "model_3.summary()"
   ]
  },
  {
   "cell_type": "code",
   "execution_count": 48,
   "metadata": {
    "scrolled": true
   },
   "outputs": [
    {
     "name": "stdout",
     "output_type": "stream",
     "text": [
      "Train on 839 samples, validate on 210 samples\n",
      "Epoch 1/50\n",
      " - 0s - loss: 3.5624 - accuracy: 0.6746 - val_loss: 0.6937 - val_accuracy: 0.8857\n",
      "Epoch 2/50\n",
      " - 0s - loss: 0.2455 - accuracy: 0.9452 - val_loss: 0.5676 - val_accuracy: 0.9381\n",
      "Epoch 3/50\n",
      " - 0s - loss: 0.0832 - accuracy: 0.9762 - val_loss: 0.2286 - val_accuracy: 0.9571\n",
      "Epoch 4/50\n",
      " - 0s - loss: 0.0309 - accuracy: 0.9917 - val_loss: 0.2113 - val_accuracy: 0.9524\n",
      "Epoch 5/50\n",
      " - 0s - loss: 0.0098 - accuracy: 0.9988 - val_loss: 0.1979 - val_accuracy: 0.9476\n",
      "Epoch 6/50\n",
      " - 0s - loss: 0.0021 - accuracy: 0.9988 - val_loss: 0.1875 - val_accuracy: 0.9571\n",
      "Epoch 7/50\n",
      " - 0s - loss: 8.6746e-04 - accuracy: 1.0000 - val_loss: 0.1667 - val_accuracy: 0.9667\n",
      "Epoch 8/50\n",
      " - 0s - loss: 2.8045e-04 - accuracy: 1.0000 - val_loss: 0.1632 - val_accuracy: 0.9667\n",
      "Epoch 9/50\n",
      " - 0s - loss: 2.1988e-04 - accuracy: 1.0000 - val_loss: 0.1643 - val_accuracy: 0.9619\n",
      "Epoch 10/50\n",
      " - 0s - loss: 1.8997e-04 - accuracy: 1.0000 - val_loss: 0.1639 - val_accuracy: 0.9619\n",
      "Epoch 11/50\n",
      " - 0s - loss: 1.7596e-04 - accuracy: 1.0000 - val_loss: 0.1636 - val_accuracy: 0.9619\n",
      "Epoch 12/50\n",
      " - 0s - loss: 1.5750e-04 - accuracy: 1.0000 - val_loss: 0.1638 - val_accuracy: 0.9619\n",
      "Epoch 13/50\n",
      " - 0s - loss: 1.4923e-04 - accuracy: 1.0000 - val_loss: 0.1640 - val_accuracy: 0.9619\n",
      "Epoch 14/50\n",
      " - 0s - loss: 1.4021e-04 - accuracy: 1.0000 - val_loss: 0.1643 - val_accuracy: 0.9619\n",
      "Epoch 15/50\n",
      " - 0s - loss: 1.3213e-04 - accuracy: 1.0000 - val_loss: 0.1652 - val_accuracy: 0.9619\n",
      "Epoch 16/50\n",
      " - 0s - loss: 1.2265e-04 - accuracy: 1.0000 - val_loss: 0.1663 - val_accuracy: 0.9619\n",
      "Epoch 17/50\n",
      " - 0s - loss: 1.1418e-04 - accuracy: 1.0000 - val_loss: 0.1681 - val_accuracy: 0.9619\n",
      "Epoch 18/50\n",
      " - 0s - loss: 1.0782e-04 - accuracy: 1.0000 - val_loss: 0.1698 - val_accuracy: 0.9619\n",
      "Epoch 19/50\n",
      " - 0s - loss: 1.0131e-04 - accuracy: 1.0000 - val_loss: 0.1715 - val_accuracy: 0.9619\n",
      "Epoch 20/50\n",
      " - 0s - loss: 9.5300e-05 - accuracy: 1.0000 - val_loss: 0.1730 - val_accuracy: 0.9619\n",
      "Epoch 21/50\n",
      " - 0s - loss: 9.0398e-05 - accuracy: 1.0000 - val_loss: 0.1750 - val_accuracy: 0.9619\n",
      "Epoch 22/50\n",
      " - 0s - loss: 8.5818e-05 - accuracy: 1.0000 - val_loss: 0.1764 - val_accuracy: 0.9619\n",
      "Epoch 23/50\n",
      " - 0s - loss: 8.0642e-05 - accuracy: 1.0000 - val_loss: 0.1765 - val_accuracy: 0.9619\n",
      "Epoch 24/50\n",
      " - 0s - loss: 7.8511e-05 - accuracy: 1.0000 - val_loss: 0.1786 - val_accuracy: 0.9619\n",
      "Epoch 25/50\n",
      " - 0s - loss: 7.2543e-05 - accuracy: 1.0000 - val_loss: 0.1792 - val_accuracy: 0.9619\n",
      "Epoch 26/50\n",
      " - 0s - loss: 6.9294e-05 - accuracy: 1.0000 - val_loss: 0.1793 - val_accuracy: 0.9619\n",
      "Epoch 27/50\n",
      " - 0s - loss: 6.6651e-05 - accuracy: 1.0000 - val_loss: 0.1799 - val_accuracy: 0.9619\n",
      "Epoch 28/50\n",
      " - 0s - loss: 6.2588e-05 - accuracy: 1.0000 - val_loss: 0.1812 - val_accuracy: 0.9619\n",
      "Epoch 29/50\n",
      " - 0s - loss: 5.9848e-05 - accuracy: 1.0000 - val_loss: 0.1825 - val_accuracy: 0.9619\n",
      "Epoch 30/50\n",
      " - 0s - loss: 5.7154e-05 - accuracy: 1.0000 - val_loss: 0.1829 - val_accuracy: 0.9619\n",
      "Epoch 31/50\n",
      " - 0s - loss: 5.4392e-05 - accuracy: 1.0000 - val_loss: 0.1828 - val_accuracy: 0.9619\n",
      "Epoch 32/50\n",
      " - 0s - loss: 5.2254e-05 - accuracy: 1.0000 - val_loss: 0.1835 - val_accuracy: 0.9619\n",
      "Epoch 33/50\n",
      " - 0s - loss: 4.9816e-05 - accuracy: 1.0000 - val_loss: 0.1832 - val_accuracy: 0.9619\n",
      "Epoch 34/50\n",
      " - 0s - loss: 4.7611e-05 - accuracy: 1.0000 - val_loss: 0.1830 - val_accuracy: 0.9619\n",
      "Epoch 35/50\n",
      " - 0s - loss: 4.4929e-05 - accuracy: 1.0000 - val_loss: 0.1855 - val_accuracy: 0.9619\n",
      "Epoch 36/50\n",
      " - 0s - loss: 4.3230e-05 - accuracy: 1.0000 - val_loss: 0.1851 - val_accuracy: 0.9619\n",
      "Epoch 37/50\n",
      " - 0s - loss: 4.1753e-05 - accuracy: 1.0000 - val_loss: 0.1862 - val_accuracy: 0.9619\n",
      "Epoch 38/50\n",
      " - 0s - loss: 3.9993e-05 - accuracy: 1.0000 - val_loss: 0.1846 - val_accuracy: 0.9619\n",
      "Epoch 39/50\n",
      " - 0s - loss: 3.8684e-05 - accuracy: 1.0000 - val_loss: 0.1866 - val_accuracy: 0.9619\n",
      "Epoch 40/50\n",
      " - 0s - loss: 3.6860e-05 - accuracy: 1.0000 - val_loss: 0.1861 - val_accuracy: 0.9619\n",
      "Epoch 41/50\n",
      " - 0s - loss: 3.5252e-05 - accuracy: 1.0000 - val_loss: 0.1861 - val_accuracy: 0.9667\n",
      "Epoch 42/50\n",
      " - 0s - loss: 3.3676e-05 - accuracy: 1.0000 - val_loss: 0.1856 - val_accuracy: 0.9667\n",
      "Epoch 43/50\n",
      " - 0s - loss: 3.2040e-05 - accuracy: 1.0000 - val_loss: 0.1858 - val_accuracy: 0.9667\n",
      "Epoch 44/50\n",
      " - 0s - loss: 3.0221e-05 - accuracy: 1.0000 - val_loss: 0.1864 - val_accuracy: 0.9667\n",
      "Epoch 45/50\n",
      " - 0s - loss: 2.9186e-05 - accuracy: 1.0000 - val_loss: 0.1852 - val_accuracy: 0.9667\n",
      "Epoch 46/50\n",
      " - 0s - loss: 2.7376e-05 - accuracy: 1.0000 - val_loss: 0.1853 - val_accuracy: 0.9667\n",
      "Epoch 47/50\n",
      " - 0s - loss: 2.6175e-05 - accuracy: 1.0000 - val_loss: 0.1851 - val_accuracy: 0.9667\n",
      "Epoch 48/50\n",
      " - 0s - loss: 2.4703e-05 - accuracy: 1.0000 - val_loss: 0.1845 - val_accuracy: 0.9667\n",
      "Epoch 49/50\n",
      " - 0s - loss: 2.3163e-05 - accuracy: 1.0000 - val_loss: 0.1838 - val_accuracy: 0.9619\n",
      "Epoch 50/50\n",
      " - 0s - loss: 2.2142e-05 - accuracy: 1.0000 - val_loss: 0.1839 - val_accuracy: 0.9571\n",
      "Wall time: 4.48 s\n"
     ]
    }
   ],
   "source": [
    "%%time\n",
    "\n",
    "history = model_3.fit(X_train_3, y_train, validation_data=(X_test_3, y_test), batch_size=32, epochs = 50, verbose=2)"
   ]
  },
  {
   "cell_type": "code",
   "execution_count": 49,
   "metadata": {
    "scrolled": true
   },
   "outputs": [
    {
     "data": {
      "text/plain": [
       "<matplotlib.legend.Legend at 0x19a354b97b8>"
      ]
     },
     "execution_count": 49,
     "metadata": {},
     "output_type": "execute_result"
    },
    {
     "data": {
      "image/png": "[encoded data removed]",
      "text/plain": [
       "<Figure size 432x288 with 1 Axes>"
      ]
     },
     "metadata": {
      "needs_background": "light"
     },
     "output_type": "display_data"
    }
   ],
   "source": [
    "plt.plot(history.history['loss'], label = ' Training Loss')\n",
    "plt.plot(history.history['val_loss'], label = ' Test Loss')\n",
    "plt.legend()"
   ]
  },
  {
   "cell_type": "code",
   "execution_count": 50,
   "metadata": {},
   "outputs": [
    {
     "data": {
      "text/plain": [
       "<matplotlib.legend.Legend at 0x19a355351d0>"
      ]
     },
     "execution_count": 50,
     "metadata": {},
     "output_type": "execute_result"
    },
    {
     "data": {
      "image/png": "[encoded data removed]",
      "text/plain": [
       "<Figure size 432x288 with 1 Axes>"
      ]
     },
     "metadata": {
      "needs_background": "light"
     },
     "output_type": "display_data"
    }
   ],
   "source": [
    "plt.plot(history.history['accuracy'], label = ' Training Accuracy')\n",
    "plt.plot(history.history['val_accuracy'], label = ' Test Accuracy')\n",
    "plt.legend()"
   ]
  },
  {
   "cell_type": "code",
   "execution_count": 51,
   "metadata": {},
   "outputs": [
    {
     "name": "stdout",
     "output_type": "stream",
     "text": [
      "210/210 [==============================] - 0s 57us/step\n",
      "Model 3 loss: 0.18385831749155407\n",
      "Model 3 accuracy: 0.9571428298950195\n"
     ]
    }
   ],
   "source": [
    "# print evaluation score\n",
    "\n",
    "model_3_eval = model_3.evaluate(X_test_3,y_test, verbose=1)\n",
    "model_3_metrics = model_3.metrics_names\n",
    "\n",
    "print(f\"Model 3 {model_3_metrics[0]}: {model_3_eval[0]}\")\n",
    "print(f\"Model 3 {model_3_metrics[1]}: {model_3_eval[1]}\")"
   ]
  },
  {
   "cell_type": "markdown",
   "metadata": {},
   "source": [
    "**Model 4: Convolutional Neural Network (2D)**\n",
    "\n",
    "- Features: mel-spectrogram array, padded until 45 sequence\n",
    "- Input shape: (20, 45)"
   ]
  },
  {
   "cell_type": "code",
   "execution_count": 52,
   "metadata": {},
   "outputs": [],
   "source": [
    "X = np.array(train_df['mel'].tolist())"
   ]
  },
  {
   "cell_type": "code",
   "execution_count": 53,
   "metadata": {},
   "outputs": [],
   "source": [
    "X_train_4, X_test_4, y_train, y_test = train_test_split(X, y, test_size = 0.2, random_state = 42, stratify = y)"
   ]
  },
  {
   "cell_type": "code",
   "execution_count": 54,
   "metadata": {},
   "outputs": [],
   "source": [
    "# reshape for input layer as CNN takes in 3 dimensions\n",
    "\n",
    "X_train_4 = X_train_4.reshape(X_train_4.shape[0], 20, 45, 1)\n",
    "X_test_4 = X_test_4.reshape(X_test_4.shape[0], 20, 45, 1)"
   ]
  },
  {
   "cell_type": "code",
   "execution_count": 55,
   "metadata": {},
   "outputs": [],
   "source": [
    "model_4 = Sequential()\n",
    "\n",
    "# two 2D convolution layers\n",
    "model_4.add(Conv2D(filters = 6, kernel_size=3, activation = 'relu', input_shape = (20,45,1), padding = 'same'))\n",
    "model_4.add(MaxPooling2D(pool_size= (2,2), padding='same'))\n",
    "model_4.add(Conv2D(32, kernel_size=3, activation='relu'))\n",
    "model_4.add(MaxPooling2D(pool_size=(2,2), padding='same'))\n",
    "\n",
    "# flatten for dense layer\n",
    "model_4.add(Flatten())\n",
    "\n",
    "# two dense layers\n",
    "model_4.add(Dense(64, activation = 'relu'))\n",
    "model_4.add(Dense(32, activation = 'relu'))\n",
    "\n",
    "# output layer\n",
    "model_4.add(Dense(5, activation = 'softmax'))"
   ]
  },
  {
   "cell_type": "code",
   "execution_count": 56,
   "metadata": {},
   "outputs": [],
   "source": [
    "model_4.compile(loss='categorical_crossentropy',\n",
    "                  optimizer='adam',\n",
    "                  metrics=['accuracy'])"
   ]
  },
  {
   "cell_type": "code",
   "execution_count": 57,
   "metadata": {
    "scrolled": true
   },
   "outputs": [
    {
     "name": "stdout",
     "output_type": "stream",
     "text": [
      "Model: \"sequential_4\"\n",
      "_________________________________________________________________\n",
      "Layer (type)                 Output Shape              Param #   \n",
      "=================================================================\n",
      "conv2d_1 (Conv2D)            (None, 20, 45, 6)         60        \n",
      "_________________________________________________________________\n",
      "max_pooling2d_1 (MaxPooling2 (None, 10, 23, 6)         0         \n",
      "_________________________________________________________________\n",
      "conv2d_2 (Conv2D)            (None, 8, 21, 32)         1760      \n",
      "_________________________________________________________________\n",
      "max_pooling2d_2 (MaxPooling2 (None, 4, 11, 32)         0         \n",
      "_________________________________________________________________\n",
      "flatten_2 (Flatten)          (None, 1408)              0         \n",
      "_________________________________________________________________\n",
      "dense_10 (Dense)             (None, 64)                90176     \n",
      "_________________________________________________________________\n",
      "dense_11 (Dense)             (None, 32)                2080      \n",
      "_________________________________________________________________\n",
      "dense_12 (Dense)             (None, 5)                 165       \n",
      "=================================================================\n",
      "Total params: 94,241\n",
      "Trainable params: 94,241\n",
      "Non-trainable params: 0\n",
      "_________________________________________________________________\n"
     ]
    }
   ],
   "source": [
    "model_4.summary()"
   ]
  },
  {
   "cell_type": "code",
   "execution_count": 58,
   "metadata": {
    "scrolled": true
   },
   "outputs": [
    {
     "name": "stdout",
     "output_type": "stream",
     "text": [
      "Train on 839 samples, validate on 210 samples\n",
      "Epoch 1/100\n",
      " - 1s - loss: 1.9398 - accuracy: 0.4839 - val_loss: 1.1071 - val_accuracy: 0.6190\n",
      "Epoch 2/100\n",
      " - 0s - loss: 0.9374 - accuracy: 0.6770 - val_loss: 0.9453 - val_accuracy: 0.6857\n",
      "Epoch 3/100\n",
      " - 0s - loss: 0.7062 - accuracy: 0.7533 - val_loss: 0.8311 - val_accuracy: 0.7048\n",
      "Epoch 4/100\n",
      " - 0s - loss: 0.5630 - accuracy: 0.7974 - val_loss: 0.6990 - val_accuracy: 0.7619\n",
      "Epoch 5/100\n",
      " - 0s - loss: 0.4722 - accuracy: 0.8367 - val_loss: 0.8037 - val_accuracy: 0.7000\n",
      "Epoch 6/100\n",
      " - 0s - loss: 0.5020 - accuracy: 0.8319 - val_loss: 0.6646 - val_accuracy: 0.7524\n",
      "Epoch 7/100\n",
      " - 0s - loss: 0.3647 - accuracy: 0.8701 - val_loss: 0.6353 - val_accuracy: 0.7667\n",
      "Epoch 8/100\n",
      " - 0s - loss: 0.2658 - accuracy: 0.9178 - val_loss: 0.5141 - val_accuracy: 0.8381\n",
      "Epoch 9/100\n",
      " - 0s - loss: 0.2305 - accuracy: 0.9213 - val_loss: 0.5379 - val_accuracy: 0.8095\n",
      "Epoch 10/100\n",
      " - 0s - loss: 0.1841 - accuracy: 0.9547 - val_loss: 0.5464 - val_accuracy: 0.8333\n",
      "Epoch 11/100\n",
      " - 0s - loss: 0.1838 - accuracy: 0.9487 - val_loss: 0.5061 - val_accuracy: 0.8238\n",
      "Epoch 12/100\n",
      " - 0s - loss: 0.1147 - accuracy: 0.9666 - val_loss: 0.4904 - val_accuracy: 0.8286\n",
      "Epoch 13/100\n",
      " - 0s - loss: 0.1058 - accuracy: 0.9702 - val_loss: 0.4819 - val_accuracy: 0.8571\n",
      "Epoch 14/100\n",
      " - 0s - loss: 0.1004 - accuracy: 0.9714 - val_loss: 0.4775 - val_accuracy: 0.8571\n",
      "Epoch 15/100\n",
      " - 0s - loss: 0.1240 - accuracy: 0.9642 - val_loss: 0.5876 - val_accuracy: 0.8190\n",
      "Epoch 16/100\n",
      " - 0s - loss: 0.1072 - accuracy: 0.9726 - val_loss: 0.6910 - val_accuracy: 0.8095\n",
      "Epoch 17/100\n",
      " - 0s - loss: 0.1166 - accuracy: 0.9607 - val_loss: 0.6602 - val_accuracy: 0.8333\n",
      "Epoch 18/100\n",
      " - 0s - loss: 0.1218 - accuracy: 0.9607 - val_loss: 0.4512 - val_accuracy: 0.8476\n",
      "Epoch 19/100\n",
      " - 0s - loss: 0.0901 - accuracy: 0.9702 - val_loss: 0.5003 - val_accuracy: 0.8429\n",
      "Epoch 20/100\n",
      " - 0s - loss: 0.0678 - accuracy: 0.9857 - val_loss: 0.4928 - val_accuracy: 0.8524\n",
      "Epoch 21/100\n",
      " - 0s - loss: 0.0405 - accuracy: 0.9905 - val_loss: 0.4359 - val_accuracy: 0.8857\n",
      "Epoch 22/100\n",
      " - 0s - loss: 0.0269 - accuracy: 0.9952 - val_loss: 0.3853 - val_accuracy: 0.8905\n",
      "Epoch 23/100\n",
      " - 0s - loss: 0.0199 - accuracy: 0.9988 - val_loss: 0.3911 - val_accuracy: 0.8857\n",
      "Epoch 24/100\n",
      " - 0s - loss: 0.0211 - accuracy: 0.9964 - val_loss: 0.4396 - val_accuracy: 0.8857\n",
      "Epoch 25/100\n",
      " - 0s - loss: 0.0175 - accuracy: 0.9988 - val_loss: 0.4009 - val_accuracy: 0.8857\n",
      "Epoch 26/100\n",
      " - 0s - loss: 0.0140 - accuracy: 0.9988 - val_loss: 0.4011 - val_accuracy: 0.8905\n",
      "Epoch 27/100\n",
      " - 0s - loss: 0.0112 - accuracy: 1.0000 - val_loss: 0.4222 - val_accuracy: 0.8952\n",
      "Epoch 28/100\n",
      " - 0s - loss: 0.0105 - accuracy: 0.9988 - val_loss: 0.4176 - val_accuracy: 0.9000\n",
      "Epoch 29/100\n",
      " - 0s - loss: 0.0086 - accuracy: 0.9988 - val_loss: 0.4335 - val_accuracy: 0.8952\n",
      "Epoch 30/100\n",
      " - 0s - loss: 0.0072 - accuracy: 1.0000 - val_loss: 0.4347 - val_accuracy: 0.8952\n",
      "Epoch 31/100\n",
      " - 0s - loss: 0.0073 - accuracy: 1.0000 - val_loss: 0.4264 - val_accuracy: 0.9048\n",
      "Epoch 32/100\n",
      " - 0s - loss: 0.0058 - accuracy: 1.0000 - val_loss: 0.4346 - val_accuracy: 0.9048\n",
      "Epoch 33/100\n",
      " - 0s - loss: 0.0056 - accuracy: 1.0000 - val_loss: 0.4329 - val_accuracy: 0.9000\n",
      "Epoch 34/100\n",
      " - 0s - loss: 0.0049 - accuracy: 1.0000 - val_loss: 0.4482 - val_accuracy: 0.9000\n",
      "Epoch 35/100\n",
      " - 0s - loss: 0.0044 - accuracy: 1.0000 - val_loss: 0.4472 - val_accuracy: 0.9048\n",
      "Epoch 36/100\n",
      " - 0s - loss: 0.0042 - accuracy: 1.0000 - val_loss: 0.4619 - val_accuracy: 0.8952\n",
      "Epoch 37/100\n",
      " - 0s - loss: 0.0043 - accuracy: 1.0000 - val_loss: 0.4616 - val_accuracy: 0.9048\n",
      "Epoch 38/100\n",
      " - 0s - loss: 0.0036 - accuracy: 1.0000 - val_loss: 0.4647 - val_accuracy: 0.9048\n",
      "Epoch 39/100\n",
      " - 0s - loss: 0.0033 - accuracy: 1.0000 - val_loss: 0.4681 - val_accuracy: 0.9000\n",
      "Epoch 40/100\n",
      " - 0s - loss: 0.0032 - accuracy: 1.0000 - val_loss: 0.4689 - val_accuracy: 0.9048\n",
      "Epoch 41/100\n",
      " - 0s - loss: 0.0031 - accuracy: 1.0000 - val_loss: 0.4796 - val_accuracy: 0.9048\n",
      "Epoch 42/100\n",
      " - 0s - loss: 0.0029 - accuracy: 1.0000 - val_loss: 0.4855 - val_accuracy: 0.9048\n",
      "Epoch 43/100\n",
      " - 0s - loss: 0.0029 - accuracy: 1.0000 - val_loss: 0.4905 - val_accuracy: 0.9048\n",
      "Epoch 44/100\n",
      " - 0s - loss: 0.0025 - accuracy: 1.0000 - val_loss: 0.4924 - val_accuracy: 0.9048\n",
      "Epoch 45/100\n",
      " - 0s - loss: 0.0022 - accuracy: 1.0000 - val_loss: 0.4937 - val_accuracy: 0.9048\n",
      "Epoch 46/100\n",
      " - 0s - loss: 0.0024 - accuracy: 1.0000 - val_loss: 0.4923 - val_accuracy: 0.9048\n",
      "Epoch 47/100\n",
      " - 0s - loss: 0.0021 - accuracy: 1.0000 - val_loss: 0.5034 - val_accuracy: 0.9048\n",
      "Epoch 48/100\n",
      " - 0s - loss: 0.0019 - accuracy: 1.0000 - val_loss: 0.5035 - val_accuracy: 0.9048\n",
      "Epoch 49/100\n",
      " - 0s - loss: 0.0018 - accuracy: 1.0000 - val_loss: 0.5034 - val_accuracy: 0.9048\n",
      "Epoch 50/100\n",
      " - 0s - loss: 0.0017 - accuracy: 1.0000 - val_loss: 0.5100 - val_accuracy: 0.9048\n",
      "Epoch 51/100\n",
      " - 0s - loss: 0.0016 - accuracy: 1.0000 - val_loss: 0.5129 - val_accuracy: 0.9048\n",
      "Epoch 52/100\n",
      " - 0s - loss: 0.0015 - accuracy: 1.0000 - val_loss: 0.5190 - val_accuracy: 0.9048\n",
      "Epoch 53/100\n",
      " - 0s - loss: 0.0014 - accuracy: 1.0000 - val_loss: 0.5190 - val_accuracy: 0.9048\n",
      "Epoch 54/100\n",
      " - 0s - loss: 0.0013 - accuracy: 1.0000 - val_loss: 0.5231 - val_accuracy: 0.9048\n",
      "Epoch 55/100\n",
      " - 0s - loss: 0.0013 - accuracy: 1.0000 - val_loss: 0.5370 - val_accuracy: 0.9048\n",
      "Epoch 56/100\n",
      " - 0s - loss: 0.0012 - accuracy: 1.0000 - val_loss: 0.5327 - val_accuracy: 0.9048\n",
      "Epoch 57/100\n",
      " - 0s - loss: 0.0012 - accuracy: 1.0000 - val_loss: 0.5363 - val_accuracy: 0.9048\n",
      "Epoch 58/100\n",
      " - 0s - loss: 0.0011 - accuracy: 1.0000 - val_loss: 0.5349 - val_accuracy: 0.9000\n",
      "Epoch 59/100\n",
      " - 0s - loss: 0.0010 - accuracy: 1.0000 - val_loss: 0.5362 - val_accuracy: 0.9048\n",
      "Epoch 60/100\n",
      " - 0s - loss: 9.6939e-04 - accuracy: 1.0000 - val_loss: 0.5378 - val_accuracy: 0.9048\n",
      "Epoch 61/100\n",
      " - 0s - loss: 9.2229e-04 - accuracy: 1.0000 - val_loss: 0.5427 - val_accuracy: 0.9000\n",
      "Epoch 62/100\n",
      " - 0s - loss: 8.8966e-04 - accuracy: 1.0000 - val_loss: 0.5399 - val_accuracy: 0.9000\n",
      "Epoch 63/100\n",
      " - 0s - loss: 8.3040e-04 - accuracy: 1.0000 - val_loss: 0.5460 - val_accuracy: 0.9000\n",
      "Epoch 64/100\n",
      " - 0s - loss: 8.1810e-04 - accuracy: 1.0000 - val_loss: 0.5494 - val_accuracy: 0.9048\n",
      "Epoch 65/100\n",
      " - 0s - loss: 7.8458e-04 - accuracy: 1.0000 - val_loss: 0.5492 - val_accuracy: 0.9048\n",
      "Epoch 66/100\n",
      " - 0s - loss: 7.4374e-04 - accuracy: 1.0000 - val_loss: 0.5482 - val_accuracy: 0.9000\n",
      "Epoch 67/100\n",
      " - 0s - loss: 7.2232e-04 - accuracy: 1.0000 - val_loss: 0.5508 - val_accuracy: 0.9000\n",
      "Epoch 68/100\n",
      " - 0s - loss: 6.8171e-04 - accuracy: 1.0000 - val_loss: 0.5568 - val_accuracy: 0.9048\n",
      "Epoch 69/100\n",
      " - 0s - loss: 6.7558e-04 - accuracy: 1.0000 - val_loss: 0.5548 - val_accuracy: 0.9048\n",
      "Epoch 70/100\n",
      " - 0s - loss: 6.3815e-04 - accuracy: 1.0000 - val_loss: 0.5562 - val_accuracy: 0.9048\n",
      "Epoch 71/100\n",
      " - 0s - loss: 6.0242e-04 - accuracy: 1.0000 - val_loss: 0.5571 - val_accuracy: 0.9048\n",
      "Epoch 72/100\n",
      " - 0s - loss: 5.8230e-04 - accuracy: 1.0000 - val_loss: 0.5606 - val_accuracy: 0.9048\n",
      "Epoch 73/100\n",
      " - 0s - loss: 5.5607e-04 - accuracy: 1.0000 - val_loss: 0.5618 - val_accuracy: 0.9000\n",
      "Epoch 74/100\n",
      " - 0s - loss: 5.4635e-04 - accuracy: 1.0000 - val_loss: 0.5682 - val_accuracy: 0.9048\n",
      "Epoch 75/100\n",
      " - 0s - loss: 5.3488e-04 - accuracy: 1.0000 - val_loss: 0.5700 - val_accuracy: 0.9000\n",
      "Epoch 76/100\n",
      " - 0s - loss: 5.0767e-04 - accuracy: 1.0000 - val_loss: 0.5702 - val_accuracy: 0.9048\n",
      "Epoch 77/100\n",
      " - 0s - loss: 4.9219e-04 - accuracy: 1.0000 - val_loss: 0.5702 - val_accuracy: 0.9048\n",
      "Epoch 78/100\n",
      " - 0s - loss: 4.6825e-04 - accuracy: 1.0000 - val_loss: 0.5722 - val_accuracy: 0.9000\n",
      "Epoch 79/100\n",
      " - 0s - loss: 4.5426e-04 - accuracy: 1.0000 - val_loss: 0.5742 - val_accuracy: 0.9048\n",
      "Epoch 80/100\n",
      " - 0s - loss: 4.4229e-04 - accuracy: 1.0000 - val_loss: 0.5768 - val_accuracy: 0.9048\n",
      "Epoch 81/100\n",
      " - 0s - loss: 4.2915e-04 - accuracy: 1.0000 - val_loss: 0.5799 - val_accuracy: 0.9048\n",
      "Epoch 82/100\n",
      " - 0s - loss: 4.1298e-04 - accuracy: 1.0000 - val_loss: 0.5803 - val_accuracy: 0.9048\n",
      "Epoch 83/100\n",
      " - 0s - loss: 3.9820e-04 - accuracy: 1.0000 - val_loss: 0.5820 - val_accuracy: 0.9048\n",
      "Epoch 84/100\n",
      " - 0s - loss: 3.7879e-04 - accuracy: 1.0000 - val_loss: 0.5842 - val_accuracy: 0.9048\n",
      "Epoch 85/100\n",
      " - 0s - loss: 3.6540e-04 - accuracy: 1.0000 - val_loss: 0.5844 - val_accuracy: 0.9048\n"
     ]
    },
    {
     "name": "stdout",
     "output_type": "stream",
     "text": [
      "Epoch 86/100\n",
      " - 0s - loss: 3.5541e-04 - accuracy: 1.0000 - val_loss: 0.5877 - val_accuracy: 0.9048\n",
      "Epoch 87/100\n",
      " - 0s - loss: 3.4071e-04 - accuracy: 1.0000 - val_loss: 0.5925 - val_accuracy: 0.9048\n",
      "Epoch 88/100\n",
      " - 0s - loss: 3.3459e-04 - accuracy: 1.0000 - val_loss: 0.5929 - val_accuracy: 0.9048\n",
      "Epoch 89/100\n",
      " - 0s - loss: 3.2346e-04 - accuracy: 1.0000 - val_loss: 0.5911 - val_accuracy: 0.9048\n",
      "Epoch 90/100\n",
      " - 0s - loss: 3.1224e-04 - accuracy: 1.0000 - val_loss: 0.5931 - val_accuracy: 0.9048\n",
      "Epoch 91/100\n",
      " - 0s - loss: 3.1161e-04 - accuracy: 1.0000 - val_loss: 0.5940 - val_accuracy: 0.9048\n",
      "Epoch 92/100\n",
      " - 0s - loss: 2.9934e-04 - accuracy: 1.0000 - val_loss: 0.5980 - val_accuracy: 0.9048\n",
      "Epoch 93/100\n",
      " - 0s - loss: 2.8975e-04 - accuracy: 1.0000 - val_loss: 0.5968 - val_accuracy: 0.9048\n",
      "Epoch 94/100\n",
      " - 0s - loss: 2.7743e-04 - accuracy: 1.0000 - val_loss: 0.5994 - val_accuracy: 0.9048\n",
      "Epoch 95/100\n",
      " - 0s - loss: 2.8597e-04 - accuracy: 1.0000 - val_loss: 0.6030 - val_accuracy: 0.9048\n",
      "Epoch 96/100\n",
      " - 0s - loss: 2.6561e-04 - accuracy: 1.0000 - val_loss: 0.6018 - val_accuracy: 0.9048\n",
      "Epoch 97/100\n",
      " - 0s - loss: 2.5549e-04 - accuracy: 1.0000 - val_loss: 0.6042 - val_accuracy: 0.9048\n",
      "Epoch 98/100\n",
      " - 0s - loss: 2.4594e-04 - accuracy: 1.0000 - val_loss: 0.6062 - val_accuracy: 0.9048\n",
      "Epoch 99/100\n",
      " - 0s - loss: 2.4304e-04 - accuracy: 1.0000 - val_loss: 0.6030 - val_accuracy: 0.9048\n",
      "Epoch 100/100\n",
      " - 0s - loss: 2.4053e-04 - accuracy: 1.0000 - val_loss: 0.6093 - val_accuracy: 0.9048\n",
      "Wall time: 10.7 s\n"
     ]
    }
   ],
   "source": [
    "%%time\n",
    "history = model_4.fit(X_train_4,\n",
    "                        y_train,\n",
    "                        batch_size=32,\n",
    "                        validation_data=(X_test_4, y_test),\n",
    "                        epochs=100,\n",
    "                        verbose=2)"
   ]
  },
  {
   "cell_type": "code",
   "execution_count": 59,
   "metadata": {
    "scrolled": true
   },
   "outputs": [
    {
     "data": {
      "text/plain": [
       "<matplotlib.legend.Legend at 0x19840a2aa20>"
      ]
     },
     "execution_count": 59,
     "metadata": {},
     "output_type": "execute_result"
    },
    {
     "data": {
      "image/png": "[encoded data removed]",
      "text/plain": [
       "<Figure size 432x288 with 1 Axes>"
      ]
     },
     "metadata": {
      "needs_background": "light"
     },
     "output_type": "display_data"
    }
   ],
   "source": [
    "plt.plot(history.history['loss'], label = ' Training Loss')\n",
    "plt.plot(history.history['val_loss'], label = ' Test Loss')\n",
    "plt.legend()"
   ]
  },
  {
   "cell_type": "code",
   "execution_count": 60,
   "metadata": {},
   "outputs": [
    {
     "data": {
      "text/plain": [
       "<matplotlib.legend.Legend at 0x19840aa6a90>"
      ]
     },
     "execution_count": 60,
     "metadata": {},
     "output_type": "execute_result"
    },
    {
     "data": {
      "image/png": "[encoded data removed]",
      "text/plain": [
       "<Figure size 432x288 with 1 Axes>"
      ]
     },
     "metadata": {
      "needs_background": "light"
     },
     "output_type": "display_data"
    }
   ],
   "source": [
    "plt.plot(history.history['accuracy'], label = ' Training Accuracy')\n",
    "plt.plot(history.history['val_accuracy'], label = ' Test Accuracy')\n",
    "plt.legend()"
   ]
  },
  {
   "cell_type": "code",
   "execution_count": 61,
   "metadata": {},
   "outputs": [
    {
     "name": "stdout",
     "output_type": "stream",
     "text": [
      "210/210 [==============================] - 0s 62us/step\n",
      "Model 4 loss: 0.6093031661851066\n",
      "Model 4 accuracy: 0.9047619104385376\n"
     ]
    }
   ],
   "source": [
    "# print evaluation scores\n",
    "model_4_eval = model_4.evaluate(X_test_4, y_test, verbose=1)\n",
    "model_4_metrics = model_4.metrics_names\n",
    "\n",
    "\n",
    "print(f\"Model 4 {model_4_metrics[0]}: {model_4_eval[0]}\")\n",
    "print(f\"Model 4 {model_4_metrics[1]}: {model_4_eval[1]}\")"
   ]
  },
  {
   "cell_type": "markdown",
   "metadata": {},
   "source": [
    "**Model 5: Convolutional Neural Network**\n",
    "\n",
    "- Features: Mel-Spectrogram Images\n",
    "- Input Shape (300, 300, 3)"
   ]
  },
  {
   "cell_type": "code",
   "execution_count": 62,
   "metadata": {},
   "outputs": [],
   "source": [
    "X = train_data_spec"
   ]
  },
  {
   "cell_type": "code",
   "execution_count": 63,
   "metadata": {},
   "outputs": [],
   "source": [
    "X_train_5, X_test_5, y_train_cnn, y_test_cnn = train_test_split(X, y_cnn, stratify = y_cnn, test_size= 0.2, random_state = 42)"
   ]
  },
  {
   "cell_type": "code",
   "execution_count": 64,
   "metadata": {},
   "outputs": [],
   "source": [
    "model_5 = Sequential()\n",
    "\n",
    "# 3 convolution layers\n",
    "model_5.add(Conv2D(filters=32, kernel_size=(3, 3), activation='relu', input_shape=(300,300,3)))\n",
    "model_5.add(MaxPooling2D(pool_size=(2, 2)))\n",
    "\n",
    "model_5.add(Conv2D(filters=64, kernel_size=(3, 3), activation='relu'))\n",
    "model_5.add(MaxPooling2D(pool_size=(2, 2)))\n",
    "model_5.add(Dropout(0.5))\n",
    "\n",
    "model_5.add(Conv2D(filters=128, kernel_size=(3, 3), activation='relu'))\n",
    "model_5.add(MaxPooling2D(pool_size=(2, 2)))\n",
    "model_5.add(Dropout(0.5))\n",
    "\n",
    "model_5.add(Conv2D(filters=128, kernel_size=(3, 3), activation='relu'))\n",
    "model_5.add(MaxPooling2D(pool_size=(2, 2)))\n",
    "model_5.add(Dropout(0.5))\n",
    "\n",
    "# flatten for dense layer\n",
    "model_5.add(Flatten())\n",
    "\n",
    "# two dense layers\n",
    "model_5.add(Dense(512, activation='relu'))\n",
    "model_5.add(Dropout(0.5))\n",
    "\n",
    "model_5.add(Dense(128, activation='relu'))\n",
    "model_5.add(Dropout(0.5))\n",
    "\n",
    "# output layer\n",
    "model_5.add(Dense(5, activation='softmax'))"
   ]
  },
  {
   "cell_type": "code",
   "execution_count": 65,
   "metadata": {},
   "outputs": [],
   "source": [
    "model_5.compile(loss='categorical_crossentropy', optimizer='adam', metrics = ['accuracy'])"
   ]
  },
  {
   "cell_type": "code",
   "execution_count": 66,
   "metadata": {
    "scrolled": true
   },
   "outputs": [
    {
     "name": "stdout",
     "output_type": "stream",
     "text": [
      "Train on 839 samples, validate on 210 samples\n",
      "Epoch 1/100\n",
      " - 6s - loss: 1.9283 - accuracy: 0.1990 - val_loss: 1.6081 - val_accuracy: 0.2000\n",
      "Epoch 2/100\n",
      " - 4s - loss: 1.5807 - accuracy: 0.2467 - val_loss: 1.4653 - val_accuracy: 0.4524\n",
      "Epoch 3/100\n",
      " - 4s - loss: 1.2736 - accuracy: 0.4267 - val_loss: 0.9417 - val_accuracy: 0.7857\n",
      "Epoch 4/100\n",
      " - 4s - loss: 0.8206 - accuracy: 0.6532 - val_loss: 0.4958 - val_accuracy: 0.8905\n",
      "Epoch 5/100\n",
      " - 4s - loss: 0.5051 - accuracy: 0.8153 - val_loss: 0.2710 - val_accuracy: 0.9476\n",
      "Epoch 6/100\n",
      " - 4s - loss: 0.3277 - accuracy: 0.8832 - val_loss: 0.2023 - val_accuracy: 0.9429\n",
      "Epoch 7/100\n",
      " - 4s - loss: 0.2953 - accuracy: 0.9046 - val_loss: 0.1377 - val_accuracy: 0.9667\n",
      "Epoch 8/100\n",
      " - 4s - loss: 0.2450 - accuracy: 0.9225 - val_loss: 0.1521 - val_accuracy: 0.9619\n",
      "Epoch 9/100\n",
      " - 4s - loss: 0.2147 - accuracy: 0.9380 - val_loss: 0.1096 - val_accuracy: 0.9762\n",
      "Epoch 10/100\n",
      " - 4s - loss: 0.1870 - accuracy: 0.9452 - val_loss: 0.1343 - val_accuracy: 0.9667\n",
      "Epoch 11/100\n",
      " - 4s - loss: 0.1669 - accuracy: 0.9404 - val_loss: 0.1220 - val_accuracy: 0.9571\n",
      "Epoch 12/100\n",
      " - 4s - loss: 0.2267 - accuracy: 0.9213 - val_loss: 0.0994 - val_accuracy: 0.9667\n",
      "Epoch 13/100\n",
      " - 4s - loss: 0.1756 - accuracy: 0.9440 - val_loss: 0.1519 - val_accuracy: 0.9571\n",
      "Epoch 14/100\n",
      " - 4s - loss: 0.1341 - accuracy: 0.9511 - val_loss: 0.1014 - val_accuracy: 0.9714\n",
      "Epoch 15/100\n",
      " - 4s - loss: 0.1516 - accuracy: 0.9476 - val_loss: 0.0992 - val_accuracy: 0.9667\n",
      "Epoch 16/100\n",
      " - 4s - loss: 0.1414 - accuracy: 0.9523 - val_loss: 0.0961 - val_accuracy: 0.9714\n",
      "Epoch 17/100\n",
      " - 4s - loss: 0.1377 - accuracy: 0.9619 - val_loss: 0.0957 - val_accuracy: 0.9714\n",
      "Epoch 18/100\n",
      " - 4s - loss: 0.1101 - accuracy: 0.9642 - val_loss: 0.0982 - val_accuracy: 0.9714\n",
      "Epoch 19/100\n",
      " - 4s - loss: 0.0940 - accuracy: 0.9678 - val_loss: 0.0733 - val_accuracy: 0.9762\n",
      "Epoch 20/100\n",
      " - 4s - loss: 0.0789 - accuracy: 0.9726 - val_loss: 0.0965 - val_accuracy: 0.9714\n",
      "Epoch 21/100\n",
      " - 4s - loss: 0.1282 - accuracy: 0.9678 - val_loss: 0.0967 - val_accuracy: 0.9762\n",
      "Epoch 22/100\n",
      " - 4s - loss: 0.0957 - accuracy: 0.9631 - val_loss: 0.0686 - val_accuracy: 0.9762\n",
      "Epoch 23/100\n",
      " - 4s - loss: 0.0910 - accuracy: 0.9666 - val_loss: 0.0897 - val_accuracy: 0.9762\n",
      "Epoch 24/100\n",
      " - 4s - loss: 0.1151 - accuracy: 0.9654 - val_loss: 0.0904 - val_accuracy: 0.9714\n",
      "Epoch 25/100\n",
      " - 4s - loss: 0.0717 - accuracy: 0.9738 - val_loss: 0.0814 - val_accuracy: 0.9667\n",
      "Epoch 26/100\n",
      " - 4s - loss: 0.0685 - accuracy: 0.9726 - val_loss: 0.0956 - val_accuracy: 0.9619\n",
      "Epoch 27/100\n",
      " - 4s - loss: 0.0798 - accuracy: 0.9750 - val_loss: 0.0665 - val_accuracy: 0.9762\n",
      "Epoch 28/100\n",
      " - 4s - loss: 0.0711 - accuracy: 0.9785 - val_loss: 0.0794 - val_accuracy: 0.9667\n",
      "Epoch 29/100\n",
      " - 4s - loss: 0.1580 - accuracy: 0.9499 - val_loss: 0.1302 - val_accuracy: 0.9524\n",
      "Epoch 30/100\n",
      " - 4s - loss: 0.1150 - accuracy: 0.9607 - val_loss: 0.0955 - val_accuracy: 0.9714\n",
      "Epoch 31/100\n",
      " - 4s - loss: 0.1025 - accuracy: 0.9666 - val_loss: 0.1141 - val_accuracy: 0.9619\n",
      "Epoch 32/100\n",
      " - 4s - loss: 0.0928 - accuracy: 0.9654 - val_loss: 0.0709 - val_accuracy: 0.9857\n",
      "Epoch 33/100\n",
      " - 4s - loss: 0.0742 - accuracy: 0.9774 - val_loss: 0.0611 - val_accuracy: 0.9810\n",
      "Epoch 34/100\n",
      " - 4s - loss: 0.0604 - accuracy: 0.9821 - val_loss: 0.0942 - val_accuracy: 0.9619\n",
      "Epoch 35/100\n",
      " - 4s - loss: 0.0986 - accuracy: 0.9690 - val_loss: 0.0784 - val_accuracy: 0.9762\n",
      "Epoch 36/100\n",
      " - 4s - loss: 0.0705 - accuracy: 0.9726 - val_loss: 0.1087 - val_accuracy: 0.9571\n",
      "Epoch 37/100\n",
      " - 4s - loss: 0.0781 - accuracy: 0.9750 - val_loss: 0.0946 - val_accuracy: 0.9619\n",
      "Epoch 38/100\n",
      " - 4s - loss: 0.0843 - accuracy: 0.9714 - val_loss: 0.1102 - val_accuracy: 0.9619\n",
      "Epoch 39/100\n",
      " - 4s - loss: 0.0837 - accuracy: 0.9750 - val_loss: 0.1233 - val_accuracy: 0.9571\n",
      "Epoch 40/100\n",
      " - 4s - loss: 0.0781 - accuracy: 0.9750 - val_loss: 0.0754 - val_accuracy: 0.9762\n",
      "Epoch 41/100\n",
      " - 4s - loss: 0.0749 - accuracy: 0.9702 - val_loss: 0.0649 - val_accuracy: 0.9857\n",
      "Epoch 42/100\n",
      " - 4s - loss: 0.0526 - accuracy: 0.9797 - val_loss: 0.0666 - val_accuracy: 0.9857\n",
      "Epoch 43/100\n",
      " - 4s - loss: 0.0724 - accuracy: 0.9714 - val_loss: 0.0948 - val_accuracy: 0.9714\n",
      "Epoch 44/100\n",
      " - 4s - loss: 0.0836 - accuracy: 0.9762 - val_loss: 0.0680 - val_accuracy: 0.9810\n",
      "Epoch 45/100\n",
      " - 4s - loss: 0.0397 - accuracy: 0.9869 - val_loss: 0.0678 - val_accuracy: 0.9810\n",
      "Epoch 46/100\n",
      " - 4s - loss: 0.0735 - accuracy: 0.9762 - val_loss: 0.1172 - val_accuracy: 0.9619\n",
      "Epoch 47/100\n",
      " - 4s - loss: 0.0786 - accuracy: 0.9774 - val_loss: 0.0667 - val_accuracy: 0.9810\n",
      "Epoch 48/100\n",
      " - 4s - loss: 0.0701 - accuracy: 0.9750 - val_loss: 0.0642 - val_accuracy: 0.9762\n",
      "Epoch 49/100\n",
      " - 4s - loss: 0.0514 - accuracy: 0.9821 - val_loss: 0.0518 - val_accuracy: 0.9857\n",
      "Epoch 50/100\n",
      " - 4s - loss: 0.0200 - accuracy: 0.9905 - val_loss: 0.0582 - val_accuracy: 0.9905\n",
      "Epoch 51/100\n",
      " - 4s - loss: 0.0392 - accuracy: 0.9857 - val_loss: 0.0487 - val_accuracy: 0.9857\n",
      "Epoch 52/100\n",
      " - 4s - loss: 0.0854 - accuracy: 0.9785 - val_loss: 0.0652 - val_accuracy: 0.9810\n",
      "Epoch 53/100\n",
      " - 4s - loss: 0.0386 - accuracy: 0.9917 - val_loss: 0.0575 - val_accuracy: 0.9810\n",
      "Epoch 54/100\n",
      " - 4s - loss: 0.0531 - accuracy: 0.9809 - val_loss: 0.0633 - val_accuracy: 0.9762\n",
      "Epoch 55/100\n",
      " - 4s - loss: 0.0271 - accuracy: 0.9940 - val_loss: 0.0483 - val_accuracy: 0.9857\n",
      "Epoch 56/100\n",
      " - 4s - loss: 0.0372 - accuracy: 0.9833 - val_loss: 0.0488 - val_accuracy: 0.9857\n",
      "Epoch 57/100\n",
      " - 4s - loss: 0.0716 - accuracy: 0.9809 - val_loss: 0.0571 - val_accuracy: 0.9857\n",
      "Epoch 58/100\n",
      " - 4s - loss: 0.0697 - accuracy: 0.9809 - val_loss: 0.0466 - val_accuracy: 0.9857\n",
      "Epoch 59/100\n",
      " - 4s - loss: 0.0769 - accuracy: 0.9821 - val_loss: 0.0768 - val_accuracy: 0.9810\n",
      "Epoch 60/100\n",
      " - 4s - loss: 0.0456 - accuracy: 0.9857 - val_loss: 0.0498 - val_accuracy: 0.9857\n",
      "Epoch 61/100\n",
      " - 4s - loss: 0.0447 - accuracy: 0.9797 - val_loss: 0.0560 - val_accuracy: 0.9810\n",
      "Epoch 62/100\n",
      " - 4s - loss: 0.0393 - accuracy: 0.9881 - val_loss: 0.0500 - val_accuracy: 0.9905\n",
      "Epoch 63/100\n",
      " - 4s - loss: 0.0547 - accuracy: 0.9785 - val_loss: 0.0504 - val_accuracy: 0.9810\n",
      "Epoch 64/100\n",
      " - 4s - loss: 0.0741 - accuracy: 0.9833 - val_loss: 0.0587 - val_accuracy: 0.9857\n",
      "Epoch 65/100\n",
      " - 4s - loss: 0.0745 - accuracy: 0.9726 - val_loss: 0.0705 - val_accuracy: 0.9714\n",
      "Epoch 66/100\n",
      " - 4s - loss: 0.0547 - accuracy: 0.9857 - val_loss: 0.0568 - val_accuracy: 0.9810\n",
      "Epoch 67/100\n",
      " - 4s - loss: 0.0434 - accuracy: 0.9833 - val_loss: 0.0651 - val_accuracy: 0.9857\n",
      "Epoch 68/100\n",
      " - 4s - loss: 0.0338 - accuracy: 0.9881 - val_loss: 0.0625 - val_accuracy: 0.9857\n",
      "Epoch 69/100\n",
      " - 4s - loss: 0.0373 - accuracy: 0.9905 - val_loss: 0.0671 - val_accuracy: 0.9857\n",
      "Epoch 70/100\n",
      " - 4s - loss: 0.0560 - accuracy: 0.9821 - val_loss: 0.0741 - val_accuracy: 0.9857\n",
      "Epoch 71/100\n",
      " - 4s - loss: 0.0383 - accuracy: 0.9845 - val_loss: 0.0641 - val_accuracy: 0.9762\n",
      "Epoch 72/100\n",
      " - 4s - loss: 0.0336 - accuracy: 0.9869 - val_loss: 0.0623 - val_accuracy: 0.9857\n",
      "Epoch 73/100\n",
      " - 4s - loss: 0.0493 - accuracy: 0.9857 - val_loss: 0.0607 - val_accuracy: 0.9810\n",
      "Epoch 74/100\n",
      " - 4s - loss: 0.0884 - accuracy: 0.9726 - val_loss: 0.0534 - val_accuracy: 0.9810\n",
      "Epoch 75/100\n",
      " - 4s - loss: 0.0466 - accuracy: 0.9833 - val_loss: 0.0522 - val_accuracy: 0.9905\n",
      "Epoch 76/100\n",
      " - 4s - loss: 0.0460 - accuracy: 0.9821 - val_loss: 0.0534 - val_accuracy: 0.9905\n",
      "Epoch 77/100\n",
      " - 4s - loss: 0.0564 - accuracy: 0.9774 - val_loss: 0.0522 - val_accuracy: 0.9857\n",
      "Epoch 78/100\n",
      " - 4s - loss: 0.0836 - accuracy: 0.9738 - val_loss: 0.0809 - val_accuracy: 0.9714\n",
      "Epoch 79/100\n",
      " - 4s - loss: 0.0385 - accuracy: 0.9928 - val_loss: 0.0576 - val_accuracy: 0.9810\n",
      "Epoch 80/100\n",
      " - 4s - loss: 0.0571 - accuracy: 0.9809 - val_loss: 0.0557 - val_accuracy: 0.9762\n",
      "Epoch 81/100\n",
      " - 4s - loss: 0.0373 - accuracy: 0.9881 - val_loss: 0.0791 - val_accuracy: 0.9714\n",
      "Epoch 82/100\n",
      " - 4s - loss: 0.0474 - accuracy: 0.9809 - val_loss: 0.0795 - val_accuracy: 0.9762\n",
      "Epoch 83/100\n",
      " - 4s - loss: 0.0435 - accuracy: 0.9893 - val_loss: 0.0711 - val_accuracy: 0.9762\n",
      "Epoch 84/100\n",
      " - 4s - loss: 0.0686 - accuracy: 0.9797 - val_loss: 0.0782 - val_accuracy: 0.9762\n",
      "Epoch 85/100\n",
      " - 4s - loss: 0.0744 - accuracy: 0.9797 - val_loss: 0.0504 - val_accuracy: 0.9857\n",
      "Epoch 86/100\n",
      " - 4s - loss: 0.0563 - accuracy: 0.9857 - val_loss: 0.0447 - val_accuracy: 0.9952\n"
     ]
    },
    {
     "name": "stdout",
     "output_type": "stream",
     "text": [
      "Epoch 87/100\n",
      " - 4s - loss: 0.0359 - accuracy: 0.9905 - val_loss: 0.0575 - val_accuracy: 0.9810\n",
      "Epoch 88/100\n",
      " - 4s - loss: 0.0449 - accuracy: 0.9845 - val_loss: 0.0521 - val_accuracy: 0.9857\n",
      "Epoch 89/100\n",
      " - 4s - loss: 0.0355 - accuracy: 0.9893 - val_loss: 0.0626 - val_accuracy: 0.9857\n",
      "Epoch 90/100\n",
      " - 4s - loss: 0.0336 - accuracy: 0.9833 - val_loss: 0.0641 - val_accuracy: 0.9762\n",
      "Epoch 91/100\n",
      " - 4s - loss: 0.0420 - accuracy: 0.9893 - val_loss: 0.0567 - val_accuracy: 0.9810\n",
      "Epoch 92/100\n",
      " - 4s - loss: 0.0657 - accuracy: 0.9797 - val_loss: 0.0656 - val_accuracy: 0.9857\n",
      "Epoch 93/100\n",
      " - 4s - loss: 0.0216 - accuracy: 0.9940 - val_loss: 0.0588 - val_accuracy: 0.9667\n",
      "Epoch 94/100\n",
      " - 4s - loss: 0.0600 - accuracy: 0.9821 - val_loss: 0.0654 - val_accuracy: 0.9810\n",
      "Epoch 95/100\n",
      " - 4s - loss: 0.0267 - accuracy: 0.9917 - val_loss: 0.0549 - val_accuracy: 0.9762\n",
      "Epoch 96/100\n",
      " - 4s - loss: 0.0487 - accuracy: 0.9893 - val_loss: 0.0860 - val_accuracy: 0.9762\n",
      "Epoch 97/100\n",
      " - 4s - loss: 0.0659 - accuracy: 0.9833 - val_loss: 0.0451 - val_accuracy: 0.9905\n",
      "Epoch 98/100\n",
      " - 4s - loss: 0.0281 - accuracy: 0.9893 - val_loss: 0.0438 - val_accuracy: 0.9857\n",
      "Epoch 99/100\n",
      " - 4s - loss: 0.0779 - accuracy: 0.9809 - val_loss: 0.0662 - val_accuracy: 0.9762\n",
      "Epoch 100/100\n",
      " - 4s - loss: 0.0654 - accuracy: 0.9833 - val_loss: 0.0541 - val_accuracy: 0.9857\n",
      "Wall time: 6min 8s\n"
     ]
    }
   ],
   "source": [
    "%%time\n",
    "\n",
    "history = model_5.fit(X_train_5, y_train_cnn, validation_data=(X_test_5, y_test_cnn), batch_size=32, epochs = 100, verbose=2)"
   ]
  },
  {
   "cell_type": "code",
   "execution_count": 67,
   "metadata": {},
   "outputs": [
    {
     "data": {
      "text/plain": [
       "<matplotlib.legend.Legend at 0x19a6a758240>"
      ]
     },
     "execution_count": 67,
     "metadata": {},
     "output_type": "execute_result"
    },
    {
     "data": {
      "image/png": "[encoded data removed]",
      "text/plain": [
       "<Figure size 432x288 with 1 Axes>"
      ]
     },
     "metadata": {
      "needs_background": "light"
     },
     "output_type": "display_data"
    }
   ],
   "source": [
    "plt.plot(history.history['loss'], label = ' Training Loss')\n",
    "plt.plot(history.history['val_loss'], label = ' Test Loss')\n",
    "plt.legend()"
   ]
  },
  {
   "cell_type": "code",
   "execution_count": 68,
   "metadata": {},
   "outputs": [
    {
     "data": {
      "text/plain": [
       "<matplotlib.legend.Legend at 0x19875866160>"
      ]
     },
     "execution_count": 68,
     "metadata": {},
     "output_type": "execute_result"
    },
    {
     "data": {
      "image/png": "[encoded data removed]",
      "text/plain": [
       "<Figure size 432x288 with 1 Axes>"
      ]
     },
     "metadata": {
      "needs_background": "light"
     },
     "output_type": "display_data"
    }
   ],
   "source": [
    "plt.plot(history.history['accuracy'], label = ' Training Accuracy')\n",
    "plt.plot(history.history['val_accuracy'], label = ' Test Accuracy')\n",
    "plt.legend()"
   ]
  },
  {
   "cell_type": "code",
   "execution_count": 69,
   "metadata": {
    "scrolled": true
   },
   "outputs": [
    {
     "name": "stdout",
     "output_type": "stream",
     "text": [
      "210/210 [==============================] - 0s 2ms/step\n",
      "Model 5 loss: 0.054086281146321975\n",
      "Model 5 accuracy: 0.9857142567634583\n"
     ]
    }
   ],
   "source": [
    "# print evaluation scores\n",
    "\n",
    "model_5_eval = model_5.evaluate(X_test_5, y_test_cnn, verbose=1)\n",
    "model_5_metrics = model_5.metrics_names\n",
    "\n",
    "print(f\"Model 5 {model_5_metrics[0]}: {model_5_eval[0]}\")\n",
    "print(f\"Model 5 {model_5_metrics[1]}: {model_5_eval[1]}\")"
   ]
  },
  {
   "cell_type": "markdown",
   "metadata": {},
   "source": [
    "**Model 6: Recurrent Neural Network (Long-Short Term Memory LSTM)**\n",
    "\n",
    "- Features: timesteps and MFCC, padded\n",
    "- input shape: (42,40)"
   ]
  },
  {
   "cell_type": "code",
   "execution_count": 70,
   "metadata": {},
   "outputs": [],
   "source": [
    "X = np.array(train_df['mfcc_pad'].tolist())"
   ]
  },
  {
   "cell_type": "code",
   "execution_count": 71,
   "metadata": {},
   "outputs": [],
   "source": [
    "X_train_6, X_test_6, y_train, y_test = train_test_split(X, y, test_size = 0.2, random_state = 42, stratify = y)"
   ]
  },
  {
   "cell_type": "code",
   "execution_count": 72,
   "metadata": {},
   "outputs": [],
   "source": [
    "model_6 = Sequential()\n",
    "\n",
    "# add masking layer so that it would not use the zeroes\n",
    "model_6.add(Masking(mask_value=0, input_shape=(42, 40)))\n",
    "\n",
    "# two LSTM layers\n",
    "model_6.add(LSTM(64, input_shape = (42,40), return_sequences=True))\n",
    "model_6.add(Dropout(0.3))\n",
    "model_6.add(LSTM(64, return_sequences=False))\n",
    "\n",
    "# one dense layer\n",
    "model_6.add(Dense(64, activation = 'relu'))\n",
    "model_6.add(Dropout(0.3))\n",
    "\n",
    "# output layer\n",
    "model_6.add(Dense(5, activation = 'softmax'))"
   ]
  },
  {
   "cell_type": "code",
   "execution_count": 73,
   "metadata": {},
   "outputs": [],
   "source": [
    "model_6.compile(optimizer = 'Adam', loss = 'categorical_crossentropy', metrics = ['accuracy'])"
   ]
  },
  {
   "cell_type": "code",
   "execution_count": 74,
   "metadata": {},
   "outputs": [
    {
     "name": "stdout",
     "output_type": "stream",
     "text": [
      "Model: \"sequential_6\"\n",
      "_________________________________________________________________\n",
      "Layer (type)                 Output Shape              Param #   \n",
      "=================================================================\n",
      "masking_1 (Masking)          (None, 42, 40)            0         \n",
      "_________________________________________________________________\n",
      "lstm_1 (LSTM)                (None, 42, 64)            26880     \n",
      "_________________________________________________________________\n",
      "dropout_6 (Dropout)          (None, 42, 64)            0         \n",
      "_________________________________________________________________\n",
      "lstm_2 (LSTM)                (None, 64)                33024     \n",
      "_________________________________________________________________\n",
      "dense_16 (Dense)             (None, 64)                4160      \n",
      "_________________________________________________________________\n",
      "dropout_7 (Dropout)          (None, 64)                0         \n",
      "_________________________________________________________________\n",
      "dense_17 (Dense)             (None, 5)                 325       \n",
      "=================================================================\n",
      "Total params: 64,389\n",
      "Trainable params: 64,389\n",
      "Non-trainable params: 0\n",
      "_________________________________________________________________\n"
     ]
    }
   ],
   "source": [
    "model_6.summary()"
   ]
  },
  {
   "cell_type": "code",
   "execution_count": 75,
   "metadata": {},
   "outputs": [
    {
     "name": "stdout",
     "output_type": "stream",
     "text": [
      "Train on 839 samples, validate on 210 samples\n",
      "Epoch 1/100\n",
      " - 3s - loss: 1.4737 - accuracy: 0.3731 - val_loss: 1.1736 - val_accuracy: 0.6762\n",
      "Epoch 2/100\n",
      " - 2s - loss: 0.9130 - accuracy: 0.6973 - val_loss: 0.5583 - val_accuracy: 0.8381\n",
      "Epoch 3/100\n",
      " - 2s - loss: 0.4574 - accuracy: 0.8737 - val_loss: 0.2917 - val_accuracy: 0.9238\n",
      "Epoch 4/100\n",
      " - 2s - loss: 0.2260 - accuracy: 0.9249 - val_loss: 0.1956 - val_accuracy: 0.9429\n",
      "Epoch 5/100\n",
      " - 2s - loss: 0.1382 - accuracy: 0.9607 - val_loss: 0.1994 - val_accuracy: 0.9429\n",
      "Epoch 6/100\n",
      " - 2s - loss: 0.2300 - accuracy: 0.9178 - val_loss: 0.2590 - val_accuracy: 0.9048\n",
      "Epoch 7/100\n",
      " - 2s - loss: 0.1146 - accuracy: 0.9678 - val_loss: 0.2355 - val_accuracy: 0.9333\n",
      "Epoch 8/100\n",
      " - 2s - loss: 0.0685 - accuracy: 0.9821 - val_loss: 0.2395 - val_accuracy: 0.9381\n",
      "Epoch 9/100\n",
      " - 2s - loss: 0.0603 - accuracy: 0.9785 - val_loss: 0.2056 - val_accuracy: 0.9429\n",
      "Epoch 10/100\n",
      " - 2s - loss: 0.0610 - accuracy: 0.9833 - val_loss: 0.2141 - val_accuracy: 0.9476\n",
      "Epoch 11/100\n",
      " - 2s - loss: 0.0653 - accuracy: 0.9809 - val_loss: 0.1776 - val_accuracy: 0.9524\n",
      "Epoch 12/100\n",
      " - 2s - loss: 0.0466 - accuracy: 0.9869 - val_loss: 0.2066 - val_accuracy: 0.9476\n",
      "Epoch 13/100\n",
      " - 2s - loss: 0.0257 - accuracy: 0.9928 - val_loss: 0.1697 - val_accuracy: 0.9571\n",
      "Epoch 14/100\n",
      " - 2s - loss: 0.0292 - accuracy: 0.9905 - val_loss: 0.2187 - val_accuracy: 0.9571\n",
      "Epoch 15/100\n",
      " - 2s - loss: 0.0210 - accuracy: 0.9928 - val_loss: 0.1865 - val_accuracy: 0.9571\n",
      "Epoch 16/100\n",
      " - 2s - loss: 0.0142 - accuracy: 0.9964 - val_loss: 0.1891 - val_accuracy: 0.9619\n",
      "Epoch 17/100\n",
      " - 2s - loss: 0.0083 - accuracy: 0.9988 - val_loss: 0.1987 - val_accuracy: 0.9571\n",
      "Epoch 18/100\n",
      " - 2s - loss: 0.0125 - accuracy: 0.9964 - val_loss: 0.2473 - val_accuracy: 0.9476\n",
      "Epoch 19/100\n",
      " - 2s - loss: 0.0154 - accuracy: 0.9964 - val_loss: 0.2323 - val_accuracy: 0.9571\n",
      "Epoch 20/100\n",
      " - 2s - loss: 0.0083 - accuracy: 0.9976 - val_loss: 0.2599 - val_accuracy: 0.9476\n",
      "Epoch 21/100\n",
      " - 2s - loss: 0.0038 - accuracy: 1.0000 - val_loss: 0.2327 - val_accuracy: 0.9524\n",
      "Epoch 22/100\n",
      " - 2s - loss: 0.0086 - accuracy: 0.9976 - val_loss: 0.2301 - val_accuracy: 0.9571\n",
      "Epoch 23/100\n",
      " - 2s - loss: 0.0074 - accuracy: 0.9976 - val_loss: 0.1864 - val_accuracy: 0.9619\n",
      "Epoch 24/100\n",
      " - 2s - loss: 0.0292 - accuracy: 0.9928 - val_loss: 0.1827 - val_accuracy: 0.9619\n",
      "Epoch 25/100\n",
      " - 2s - loss: 0.0132 - accuracy: 0.9964 - val_loss: 0.1433 - val_accuracy: 0.9714\n",
      "Epoch 26/100\n",
      " - 2s - loss: 0.0181 - accuracy: 0.9964 - val_loss: 0.1520 - val_accuracy: 0.9714\n",
      "Epoch 27/100\n",
      " - 2s - loss: 0.0144 - accuracy: 0.9952 - val_loss: 0.1600 - val_accuracy: 0.9571\n",
      "Epoch 28/100\n",
      " - 2s - loss: 0.0243 - accuracy: 0.9952 - val_loss: 0.3863 - val_accuracy: 0.9143\n",
      "Epoch 29/100\n",
      " - 2s - loss: 0.0438 - accuracy: 0.9845 - val_loss: 0.1866 - val_accuracy: 0.9619\n",
      "Epoch 30/100\n",
      " - 2s - loss: 0.0102 - accuracy: 0.9988 - val_loss: 0.1502 - val_accuracy: 0.9619\n",
      "Epoch 31/100\n",
      " - 2s - loss: 0.0143 - accuracy: 0.9964 - val_loss: 0.1517 - val_accuracy: 0.9571\n",
      "Epoch 32/100\n",
      " - 2s - loss: 0.0262 - accuracy: 0.9952 - val_loss: 0.2225 - val_accuracy: 0.9524\n",
      "Epoch 33/100\n",
      " - 2s - loss: 0.0465 - accuracy: 0.9893 - val_loss: 0.2197 - val_accuracy: 0.9476\n",
      "Epoch 34/100\n",
      " - 2s - loss: 0.0404 - accuracy: 0.9881 - val_loss: 0.2498 - val_accuracy: 0.9429\n",
      "Epoch 35/100\n",
      " - 2s - loss: 0.0585 - accuracy: 0.9833 - val_loss: 0.1755 - val_accuracy: 0.9619\n",
      "Epoch 36/100\n",
      " - 2s - loss: 0.0845 - accuracy: 0.9785 - val_loss: 0.1424 - val_accuracy: 0.9667\n",
      "Epoch 37/100\n",
      " - 2s - loss: 0.1428 - accuracy: 0.9571 - val_loss: 0.2717 - val_accuracy: 0.9286\n",
      "Epoch 38/100\n",
      " - 2s - loss: 0.0499 - accuracy: 0.9881 - val_loss: 0.1867 - val_accuracy: 0.9524\n",
      "Epoch 39/100\n",
      " - 2s - loss: 0.0161 - accuracy: 0.9964 - val_loss: 0.1710 - val_accuracy: 0.9571\n",
      "Epoch 40/100\n",
      " - 2s - loss: 0.0086 - accuracy: 0.9988 - val_loss: 0.1496 - val_accuracy: 0.9619\n",
      "Epoch 41/100\n",
      " - 2s - loss: 0.0069 - accuracy: 0.9988 - val_loss: 0.1283 - val_accuracy: 0.9714\n",
      "Epoch 42/100\n",
      " - 2s - loss: 0.0041 - accuracy: 1.0000 - val_loss: 0.1217 - val_accuracy: 0.9762\n",
      "Epoch 43/100\n",
      " - 2s - loss: 0.0039 - accuracy: 1.0000 - val_loss: 0.1189 - val_accuracy: 0.9714\n",
      "Epoch 44/100\n",
      " - 2s - loss: 0.0030 - accuracy: 1.0000 - val_loss: 0.1312 - val_accuracy: 0.9667\n",
      "Epoch 45/100\n",
      " - 2s - loss: 0.0127 - accuracy: 0.9976 - val_loss: 0.1591 - val_accuracy: 0.9571\n",
      "Epoch 46/100\n",
      " - 2s - loss: 0.0048 - accuracy: 0.9988 - val_loss: 0.1776 - val_accuracy: 0.9524\n",
      "Epoch 47/100\n",
      " - 2s - loss: 0.0111 - accuracy: 0.9952 - val_loss: 0.1531 - val_accuracy: 0.9619\n",
      "Epoch 48/100\n",
      " - 2s - loss: 0.0034 - accuracy: 1.0000 - val_loss: 0.1701 - val_accuracy: 0.9619\n",
      "Epoch 49/100\n",
      " - 2s - loss: 0.0024 - accuracy: 1.0000 - val_loss: 0.1688 - val_accuracy: 0.9619\n",
      "Epoch 50/100\n",
      " - 2s - loss: 0.0018 - accuracy: 1.0000 - val_loss: 0.1690 - val_accuracy: 0.9619\n",
      "Epoch 51/100\n",
      " - 2s - loss: 0.0015 - accuracy: 1.0000 - val_loss: 0.1603 - val_accuracy: 0.9619\n",
      "Epoch 52/100\n",
      " - 2s - loss: 0.0014 - accuracy: 1.0000 - val_loss: 0.1580 - val_accuracy: 0.9619\n",
      "Epoch 53/100\n",
      " - 2s - loss: 0.0013 - accuracy: 1.0000 - val_loss: 0.1697 - val_accuracy: 0.9619\n",
      "Epoch 54/100\n",
      " - 2s - loss: 0.0012 - accuracy: 1.0000 - val_loss: 0.1708 - val_accuracy: 0.9619\n",
      "Epoch 55/100\n",
      " - 2s - loss: 9.9131e-04 - accuracy: 1.0000 - val_loss: 0.1652 - val_accuracy: 0.9619\n",
      "Epoch 56/100\n",
      " - 2s - loss: 9.5240e-04 - accuracy: 1.0000 - val_loss: 0.1636 - val_accuracy: 0.9667\n",
      "Epoch 57/100\n",
      " - 2s - loss: 0.0013 - accuracy: 1.0000 - val_loss: 0.2452 - val_accuracy: 0.9619\n",
      "Epoch 58/100\n",
      " - 2s - loss: 0.0110 - accuracy: 0.9976 - val_loss: 0.2001 - val_accuracy: 0.9619\n",
      "Epoch 59/100\n",
      " - 2s - loss: 0.0072 - accuracy: 0.9976 - val_loss: 0.2394 - val_accuracy: 0.9571\n",
      "Epoch 60/100\n",
      " - 2s - loss: 0.0018 - accuracy: 1.0000 - val_loss: 0.2405 - val_accuracy: 0.9524\n",
      "Epoch 61/100\n",
      " - 2s - loss: 0.0013 - accuracy: 1.0000 - val_loss: 0.2505 - val_accuracy: 0.9476\n",
      "Epoch 62/100\n",
      " - 2s - loss: 0.0025 - accuracy: 1.0000 - val_loss: 0.2370 - val_accuracy: 0.9571\n",
      "Epoch 63/100\n",
      " - 2s - loss: 7.6584e-04 - accuracy: 1.0000 - val_loss: 0.2252 - val_accuracy: 0.9571\n",
      "Epoch 64/100\n",
      " - 2s - loss: 9.4438e-04 - accuracy: 1.0000 - val_loss: 0.2890 - val_accuracy: 0.9476\n",
      "Epoch 65/100\n",
      " - 2s - loss: 0.0068 - accuracy: 0.9976 - val_loss: 0.2772 - val_accuracy: 0.9571\n",
      "Epoch 66/100\n",
      " - 2s - loss: 0.0064 - accuracy: 0.9988 - val_loss: 0.2143 - val_accuracy: 0.9619\n",
      "Epoch 67/100\n",
      " - 2s - loss: 0.0442 - accuracy: 0.9893 - val_loss: 0.2317 - val_accuracy: 0.9571\n",
      "Epoch 68/100\n",
      " - 2s - loss: 0.0273 - accuracy: 0.9917 - val_loss: 0.4039 - val_accuracy: 0.9286\n",
      "Epoch 69/100\n",
      " - 2s - loss: 0.0886 - accuracy: 0.9809 - val_loss: 0.1592 - val_accuracy: 0.9524\n",
      "Epoch 70/100\n",
      " - 2s - loss: 0.0132 - accuracy: 0.9964 - val_loss: 0.1573 - val_accuracy: 0.9619\n",
      "Epoch 71/100\n",
      " - 2s - loss: 0.0158 - accuracy: 0.9952 - val_loss: 0.1455 - val_accuracy: 0.9619\n",
      "Epoch 72/100\n",
      " - 2s - loss: 0.0128 - accuracy: 0.9940 - val_loss: 0.1340 - val_accuracy: 0.9714\n",
      "Epoch 73/100\n",
      " - 2s - loss: 0.0030 - accuracy: 1.0000 - val_loss: 0.1394 - val_accuracy: 0.9714\n",
      "Epoch 74/100\n",
      " - 2s - loss: 0.0074 - accuracy: 0.9988 - val_loss: 0.1621 - val_accuracy: 0.9619\n",
      "Epoch 75/100\n",
      " - 2s - loss: 0.0033 - accuracy: 0.9988 - val_loss: 0.1456 - val_accuracy: 0.9714\n",
      "Epoch 76/100\n",
      " - 2s - loss: 0.0018 - accuracy: 1.0000 - val_loss: 0.1637 - val_accuracy: 0.9714\n",
      "Epoch 77/100\n",
      " - 2s - loss: 0.0014 - accuracy: 1.0000 - val_loss: 0.1597 - val_accuracy: 0.9714\n",
      "Epoch 78/100\n",
      " - 2s - loss: 0.0022 - accuracy: 1.0000 - val_loss: 0.1749 - val_accuracy: 0.9667\n",
      "Epoch 79/100\n",
      " - 2s - loss: 0.0053 - accuracy: 0.9988 - val_loss: 0.1355 - val_accuracy: 0.9762\n",
      "Epoch 80/100\n",
      " - 2s - loss: 0.0073 - accuracy: 0.9988 - val_loss: 0.1765 - val_accuracy: 0.9762\n",
      "Epoch 81/100\n",
      " - 2s - loss: 0.0037 - accuracy: 0.9988 - val_loss: 0.2147 - val_accuracy: 0.9667\n",
      "Epoch 82/100\n",
      " - 2s - loss: 0.0030 - accuracy: 0.9988 - val_loss: 0.2000 - val_accuracy: 0.9714\n",
      "Epoch 83/100\n",
      " - 2s - loss: 0.0012 - accuracy: 1.0000 - val_loss: 0.2031 - val_accuracy: 0.9714\n",
      "Epoch 84/100\n",
      " - 2s - loss: 0.0017 - accuracy: 1.0000 - val_loss: 0.1798 - val_accuracy: 0.9762\n",
      "Epoch 85/100\n",
      " - 2s - loss: 6.7739e-04 - accuracy: 1.0000 - val_loss: 0.1856 - val_accuracy: 0.9762\n",
      "Epoch 86/100\n",
      " - 2s - loss: 0.0012 - accuracy: 1.0000 - val_loss: 0.1875 - val_accuracy: 0.9762\n"
     ]
    },
    {
     "name": "stdout",
     "output_type": "stream",
     "text": [
      "Epoch 87/100\n",
      " - 2s - loss: 0.0037 - accuracy: 0.9976 - val_loss: 0.1586 - val_accuracy: 0.9667\n",
      "Epoch 88/100\n",
      " - 2s - loss: 0.0011 - accuracy: 1.0000 - val_loss: 0.1746 - val_accuracy: 0.9762\n",
      "Epoch 89/100\n",
      " - 2s - loss: 6.5659e-04 - accuracy: 1.0000 - val_loss: 0.1850 - val_accuracy: 0.9762\n",
      "Epoch 90/100\n",
      " - 2s - loss: 0.0013 - accuracy: 1.0000 - val_loss: 0.1872 - val_accuracy: 0.9714\n",
      "Epoch 91/100\n",
      " - 2s - loss: 0.0010 - accuracy: 1.0000 - val_loss: 0.1969 - val_accuracy: 0.9762\n",
      "Epoch 92/100\n",
      " - 2s - loss: 5.9256e-04 - accuracy: 1.0000 - val_loss: 0.2042 - val_accuracy: 0.9714\n",
      "Epoch 93/100\n",
      " - 2s - loss: 4.6085e-04 - accuracy: 1.0000 - val_loss: 0.2068 - val_accuracy: 0.9714\n",
      "Epoch 94/100\n",
      " - 2s - loss: 2.8302e-04 - accuracy: 1.0000 - val_loss: 0.2078 - val_accuracy: 0.9714\n",
      "Epoch 95/100\n",
      " - 2s - loss: 3.2490e-04 - accuracy: 1.0000 - val_loss: 0.2099 - val_accuracy: 0.9714\n",
      "Epoch 96/100\n",
      " - 2s - loss: 5.4516e-04 - accuracy: 1.0000 - val_loss: 0.2111 - val_accuracy: 0.9762\n",
      "Epoch 97/100\n",
      " - 2s - loss: 3.9598e-04 - accuracy: 1.0000 - val_loss: 0.2116 - val_accuracy: 0.9762\n",
      "Epoch 98/100\n",
      " - 2s - loss: 2.7511e-04 - accuracy: 1.0000 - val_loss: 0.2120 - val_accuracy: 0.9762\n",
      "Epoch 99/100\n",
      " - 2s - loss: 3.8489e-04 - accuracy: 1.0000 - val_loss: 0.2132 - val_accuracy: 0.9762\n",
      "Epoch 100/100\n",
      " - 2s - loss: 0.0010 - accuracy: 1.0000 - val_loss: 0.2858 - val_accuracy: 0.9667\n",
      "Wall time: 3min 17s\n"
     ]
    }
   ],
   "source": [
    "%%time\n",
    "\n",
    "history = model_6.fit(X_train_6,\n",
    "                    y_train,\n",
    "                    batch_size=32,\n",
    "                    validation_data=(X_test_6, y_test),\n",
    "                    epochs=100,\n",
    "                    verbose=2)"
   ]
  },
  {
   "cell_type": "code",
   "execution_count": 76,
   "metadata": {},
   "outputs": [
    {
     "data": {
      "text/plain": [
       "<matplotlib.legend.Legend at 0x19b0632f7b8>"
      ]
     },
     "execution_count": 76,
     "metadata": {},
     "output_type": "execute_result"
    },
    {
     "data": {
      "image/png": "[encoded data removed]",
      "text/plain": [
       "<Figure size 432x288 with 1 Axes>"
      ]
     },
     "metadata": {
      "needs_background": "light"
     },
     "output_type": "display_data"
    }
   ],
   "source": [
    "plt.plot(history.history['loss'], label = ' Training Loss')\n",
    "plt.plot(history.history['val_loss'], label = ' Test Loss')\n",
    "plt.legend()"
   ]
  },
  {
   "cell_type": "code",
   "execution_count": 77,
   "metadata": {},
   "outputs": [
    {
     "data": {
      "text/plain": [
       "<matplotlib.legend.Legend at 0x19b06379828>"
      ]
     },
     "execution_count": 77,
     "metadata": {},
     "output_type": "execute_result"
    },
    {
     "data": {
      "image/png": "[encoded data removed]",
      "text/plain": [
       "<Figure size 432x288 with 1 Axes>"
      ]
     },
     "metadata": {
      "needs_background": "light"
     },
     "output_type": "display_data"
    }
   ],
   "source": [
    "plt.plot(history.history['accuracy'], label = ' Training Accuracy')\n",
    "plt.plot(history.history['val_accuracy'], label = ' Test Accuracy')\n",
    "plt.legend()"
   ]
  },
  {
   "cell_type": "code",
   "execution_count": 78,
   "metadata": {},
   "outputs": [
    {
     "name": "stdout",
     "output_type": "stream",
     "text": [
      "210/210 [==============================] - 0s 620us/step\n",
      "Model 6 loss: 0.28581514159062255\n",
      "Model 6 accuracy: 0.9666666388511658\n"
     ]
    }
   ],
   "source": [
    "# print evaluation scores\n",
    "\n",
    "model_6_eval = model_6.evaluate(X_test_6,y_test, verbose=1)\n",
    "model_6_metrics = model_6.metrics_names\n",
    "\n",
    "print(f\"Model 6 {model_6_metrics[0]}: {model_6_eval[0]}\")\n",
    "print(f\"Model 6 {model_6_metrics[1]}: {model_6_eval[1]}\")"
   ]
  },
  {
   "cell_type": "markdown",
   "metadata": {},
   "source": [
    "**Model 7: Recurrent Neural Network (Gated Recurrent Units GRU)**\n",
    "\n",
    "- Features: timesteps and MFCC, padded\n",
    "- input shape: (42,40)"
   ]
  },
  {
   "cell_type": "code",
   "execution_count": 79,
   "metadata": {},
   "outputs": [],
   "source": [
    "# it uses the same train test split as above\n",
    "X_train_7, X_test_7, y_train, y_test = train_test_split(X, y, test_size = 0.2, random_state = 42, stratify = y)"
   ]
  },
  {
   "cell_type": "code",
   "execution_count": 80,
   "metadata": {},
   "outputs": [],
   "source": [
    "model_7 = Sequential()\n",
    "\n",
    "# add masking layer so that it would not use the zeroes\n",
    "model_7.add(Masking(mask_value=0, input_shape=(42, 40)))\n",
    "\n",
    "# two GRU layers\n",
    "model_7.add(GRU(64, input_shape = (42,40), return_sequences=True))\n",
    "model_7.add(Dropout(0.5))\n",
    "model_7.add(GRU(32, return_sequences=False ))\n",
    "model_7.add(Dropout(0.5))\n",
    "\n",
    "# one dense layer\n",
    "model_7.add(Dense(64, activation = 'relu'))\n",
    "model_7.add(Dropout(0.5))\n",
    "\n",
    "# output layer\n",
    "model_7.add(Dense(5, activation = 'softmax'))"
   ]
  },
  {
   "cell_type": "code",
   "execution_count": 81,
   "metadata": {},
   "outputs": [],
   "source": [
    "optimizer = Adam(learning_rate=0.0005)\n",
    "\n",
    "model_7.compile(optimizer = 'Adam', loss = 'categorical_crossentropy', metrics = ['accuracy'])"
   ]
  },
  {
   "cell_type": "code",
   "execution_count": 82,
   "metadata": {
    "scrolled": true
   },
   "outputs": [
    {
     "name": "stdout",
     "output_type": "stream",
     "text": [
      "Model: \"sequential_7\"\n",
      "_________________________________________________________________\n",
      "Layer (type)                 Output Shape              Param #   \n",
      "=================================================================\n",
      "masking_2 (Masking)          (None, 42, 40)            0         \n",
      "_________________________________________________________________\n",
      "gru_1 (GRU)                  (None, 42, 64)            20160     \n",
      "_________________________________________________________________\n",
      "dropout_8 (Dropout)          (None, 42, 64)            0         \n",
      "_________________________________________________________________\n",
      "gru_2 (GRU)                  (None, 32)                9312      \n",
      "_________________________________________________________________\n",
      "dropout_9 (Dropout)          (None, 32)                0         \n",
      "_________________________________________________________________\n",
      "dense_18 (Dense)             (None, 64)                2112      \n",
      "_________________________________________________________________\n",
      "dropout_10 (Dropout)         (None, 64)                0         \n",
      "_________________________________________________________________\n",
      "dense_19 (Dense)             (None, 5)                 325       \n",
      "=================================================================\n",
      "Total params: 31,909\n",
      "Trainable params: 31,909\n",
      "Non-trainable params: 0\n",
      "_________________________________________________________________\n"
     ]
    }
   ],
   "source": [
    "model_7.summary()"
   ]
  },
  {
   "cell_type": "code",
   "execution_count": 83,
   "metadata": {
    "scrolled": true
   },
   "outputs": [
    {
     "name": "stdout",
     "output_type": "stream",
     "text": [
      "Train on 839 samples, validate on 210 samples\n",
      "Epoch 1/100\n",
      " - 3s - loss: 1.7104 - accuracy: 0.2122 - val_loss: 1.4665 - val_accuracy: 0.4429\n",
      "Epoch 2/100\n",
      " - 3s - loss: 1.5420 - accuracy: 0.3087 - val_loss: 1.3246 - val_accuracy: 0.5714\n",
      "Epoch 3/100\n",
      " - 3s - loss: 1.4175 - accuracy: 0.3754 - val_loss: 1.1222 - val_accuracy: 0.6333\n",
      "Epoch 4/100\n",
      " - 2s - loss: 1.2570 - accuracy: 0.4553 - val_loss: 0.9241 - val_accuracy: 0.6714\n",
      "Epoch 5/100\n",
      " - 3s - loss: 1.1402 - accuracy: 0.4887 - val_loss: 0.8079 - val_accuracy: 0.6810\n",
      "Epoch 6/100\n",
      " - 3s - loss: 1.0367 - accuracy: 0.5518 - val_loss: 0.7225 - val_accuracy: 0.7429\n",
      "Epoch 7/100\n",
      " - 3s - loss: 0.9363 - accuracy: 0.5721 - val_loss: 0.6819 - val_accuracy: 0.8095\n",
      "Epoch 8/100\n",
      " - 3s - loss: 0.8748 - accuracy: 0.6186 - val_loss: 0.6207 - val_accuracy: 0.7905\n",
      "Epoch 9/100\n",
      " - 3s - loss: 0.8488 - accuracy: 0.6436 - val_loss: 0.5543 - val_accuracy: 0.8238\n",
      "Epoch 10/100\n",
      " - 2s - loss: 0.7478 - accuracy: 0.6782 - val_loss: 0.4745 - val_accuracy: 0.8571\n",
      "Epoch 11/100\n",
      " - 3s - loss: 0.6497 - accuracy: 0.7271 - val_loss: 0.3774 - val_accuracy: 0.8857\n",
      "Epoch 12/100\n",
      " - 2s - loss: 0.5525 - accuracy: 0.7926 - val_loss: 0.3471 - val_accuracy: 0.8952\n",
      "Epoch 13/100\n",
      " - 3s - loss: 0.4937 - accuracy: 0.8403 - val_loss: 0.3244 - val_accuracy: 0.9095\n",
      "Epoch 14/100\n",
      " - 3s - loss: 0.4395 - accuracy: 0.8617 - val_loss: 0.2517 - val_accuracy: 0.9238\n",
      "Epoch 15/100\n",
      " - 2s - loss: 0.3620 - accuracy: 0.8856 - val_loss: 0.2941 - val_accuracy: 0.9190\n",
      "Epoch 16/100\n",
      " - 3s - loss: 0.3357 - accuracy: 0.8963 - val_loss: 0.2353 - val_accuracy: 0.9286\n",
      "Epoch 17/100\n",
      " - 3s - loss: 0.2846 - accuracy: 0.9178 - val_loss: 0.2471 - val_accuracy: 0.9333\n",
      "Epoch 18/100\n",
      " - 2s - loss: 0.2535 - accuracy: 0.9213 - val_loss: 0.3298 - val_accuracy: 0.9143\n",
      "Epoch 19/100\n",
      " - 3s - loss: 0.2186 - accuracy: 0.9380 - val_loss: 0.2243 - val_accuracy: 0.9429\n",
      "Epoch 20/100\n",
      " - 3s - loss: 0.1788 - accuracy: 0.9428 - val_loss: 0.2526 - val_accuracy: 0.9476\n",
      "Epoch 21/100\n",
      " - 3s - loss: 0.2068 - accuracy: 0.9285 - val_loss: 0.2718 - val_accuracy: 0.9381\n",
      "Epoch 22/100\n",
      " - 2s - loss: 0.2895 - accuracy: 0.9213 - val_loss: 0.2599 - val_accuracy: 0.9476\n",
      "Epoch 23/100\n",
      " - 3s - loss: 0.2161 - accuracy: 0.9321 - val_loss: 0.2952 - val_accuracy: 0.9381\n",
      "Epoch 24/100\n",
      " - 3s - loss: 0.1687 - accuracy: 0.9452 - val_loss: 0.2528 - val_accuracy: 0.9429\n",
      "Epoch 25/100\n",
      " - 3s - loss: 0.1624 - accuracy: 0.9535 - val_loss: 0.2308 - val_accuracy: 0.9429\n",
      "Epoch 26/100\n",
      " - 3s - loss: 0.1079 - accuracy: 0.9714 - val_loss: 0.2358 - val_accuracy: 0.9524\n",
      "Epoch 27/100\n",
      " - 2s - loss: 0.1421 - accuracy: 0.9583 - val_loss: 0.3319 - val_accuracy: 0.9476\n",
      "Epoch 28/100\n",
      " - 3s - loss: 0.1874 - accuracy: 0.9523 - val_loss: 0.3135 - val_accuracy: 0.9381\n",
      "Epoch 29/100\n",
      " - 3s - loss: 0.1429 - accuracy: 0.9619 - val_loss: 0.2875 - val_accuracy: 0.9286\n",
      "Epoch 30/100\n",
      " - 2s - loss: 0.1184 - accuracy: 0.9666 - val_loss: 0.3017 - val_accuracy: 0.9381\n",
      "Epoch 31/100\n",
      " - 3s - loss: 0.1242 - accuracy: 0.9619 - val_loss: 0.2908 - val_accuracy: 0.9381\n",
      "Epoch 32/100\n",
      " - 3s - loss: 0.0970 - accuracy: 0.9654 - val_loss: 0.2642 - val_accuracy: 0.9476\n",
      "Epoch 33/100\n",
      " - 2s - loss: 0.0825 - accuracy: 0.9762 - val_loss: 0.2472 - val_accuracy: 0.9571\n",
      "Epoch 34/100\n",
      " - 3s - loss: 0.0934 - accuracy: 0.9750 - val_loss: 0.2777 - val_accuracy: 0.9524\n",
      "Epoch 35/100\n",
      " - 3s - loss: 0.0872 - accuracy: 0.9785 - val_loss: 0.3253 - val_accuracy: 0.9286\n",
      "Epoch 36/100\n",
      " - 3s - loss: 0.1151 - accuracy: 0.9678 - val_loss: 0.2611 - val_accuracy: 0.9429\n",
      "Epoch 37/100\n",
      " - 3s - loss: 0.1010 - accuracy: 0.9750 - val_loss: 0.2364 - val_accuracy: 0.9524\n",
      "Epoch 38/100\n",
      " - 3s - loss: 0.0754 - accuracy: 0.9785 - val_loss: 0.3048 - val_accuracy: 0.9333\n",
      "Epoch 39/100\n",
      " - 3s - loss: 0.0788 - accuracy: 0.9762 - val_loss: 0.3001 - val_accuracy: 0.9429\n",
      "Epoch 40/100\n",
      " - 3s - loss: 0.0666 - accuracy: 0.9785 - val_loss: 0.2961 - val_accuracy: 0.9476\n",
      "Epoch 41/100\n",
      " - 2s - loss: 0.0709 - accuracy: 0.9762 - val_loss: 0.2603 - val_accuracy: 0.9619\n",
      "Epoch 42/100\n",
      " - 3s - loss: 0.0679 - accuracy: 0.9821 - val_loss: 0.2900 - val_accuracy: 0.9571\n",
      "Epoch 43/100\n",
      " - 3s - loss: 0.0526 - accuracy: 0.9821 - val_loss: 0.2920 - val_accuracy: 0.9524\n",
      "Epoch 44/100\n",
      " - 3s - loss: 0.0600 - accuracy: 0.9905 - val_loss: 0.3545 - val_accuracy: 0.9476\n",
      "Epoch 45/100\n",
      " - 3s - loss: 0.0395 - accuracy: 0.9881 - val_loss: 0.2804 - val_accuracy: 0.9524\n",
      "Epoch 46/100\n",
      " - 3s - loss: 0.0452 - accuracy: 0.9857 - val_loss: 0.3110 - val_accuracy: 0.9476\n",
      "Epoch 47/100\n",
      " - 3s - loss: 0.0650 - accuracy: 0.9809 - val_loss: 0.3727 - val_accuracy: 0.9381\n",
      "Epoch 48/100\n",
      " - 3s - loss: 0.0497 - accuracy: 0.9869 - val_loss: 0.3147 - val_accuracy: 0.9524\n",
      "Epoch 49/100\n",
      " - 3s - loss: 0.0702 - accuracy: 0.9833 - val_loss: 0.3794 - val_accuracy: 0.9429\n",
      "Epoch 50/100\n",
      " - 3s - loss: 0.0821 - accuracy: 0.9821 - val_loss: 0.2581 - val_accuracy: 0.9714\n",
      "Epoch 51/100\n",
      " - 3s - loss: 0.0664 - accuracy: 0.9857 - val_loss: 0.4584 - val_accuracy: 0.9286\n",
      "Epoch 52/100\n",
      " - 3s - loss: 0.0916 - accuracy: 0.9785 - val_loss: 0.3251 - val_accuracy: 0.9524\n",
      "Epoch 53/100\n",
      " - 3s - loss: 0.0951 - accuracy: 0.9797 - val_loss: 0.2697 - val_accuracy: 0.9619\n",
      "Epoch 54/100\n",
      " - 3s - loss: 0.0874 - accuracy: 0.9762 - val_loss: 0.3350 - val_accuracy: 0.9429\n",
      "Epoch 55/100\n",
      " - 3s - loss: 0.1017 - accuracy: 0.9690 - val_loss: 0.2529 - val_accuracy: 0.9667\n",
      "Epoch 56/100\n",
      " - 3s - loss: 0.0855 - accuracy: 0.9785 - val_loss: 0.2683 - val_accuracy: 0.9619\n",
      "Epoch 57/100\n",
      " - 3s - loss: 0.0517 - accuracy: 0.9845 - val_loss: 0.2706 - val_accuracy: 0.9476\n",
      "Epoch 58/100\n",
      " - 2s - loss: 0.0398 - accuracy: 0.9893 - val_loss: 0.2335 - val_accuracy: 0.9571\n",
      "Epoch 59/100\n",
      " - 3s - loss: 0.0363 - accuracy: 0.9928 - val_loss: 0.2881 - val_accuracy: 0.9476\n",
      "Epoch 60/100\n",
      " - 2s - loss: 0.0310 - accuracy: 0.9905 - val_loss: 0.2114 - val_accuracy: 0.9571\n",
      "Epoch 61/100\n",
      " - 3s - loss: 0.0275 - accuracy: 0.9917 - val_loss: 0.2344 - val_accuracy: 0.9476\n",
      "Epoch 62/100\n",
      " - 3s - loss: 0.0301 - accuracy: 0.9905 - val_loss: 0.1412 - val_accuracy: 0.9667\n",
      "Epoch 63/100\n",
      " - 3s - loss: 0.0391 - accuracy: 0.9893 - val_loss: 0.1832 - val_accuracy: 0.9667\n",
      "Epoch 64/100\n",
      " - 3s - loss: 0.0328 - accuracy: 0.9881 - val_loss: 0.1938 - val_accuracy: 0.9619\n",
      "Epoch 65/100\n",
      " - 3s - loss: 0.0604 - accuracy: 0.9809 - val_loss: 0.2198 - val_accuracy: 0.9714\n",
      "Epoch 66/100\n",
      " - 2s - loss: 0.0649 - accuracy: 0.9797 - val_loss: 0.1306 - val_accuracy: 0.9762\n",
      "Epoch 67/100\n",
      " - 3s - loss: 0.0724 - accuracy: 0.9774 - val_loss: 0.3267 - val_accuracy: 0.9476\n",
      "Epoch 68/100\n",
      " - 3s - loss: 0.1034 - accuracy: 0.9762 - val_loss: 0.1766 - val_accuracy: 0.9619\n",
      "Epoch 69/100\n",
      " - 3s - loss: 0.0918 - accuracy: 0.9774 - val_loss: 0.2645 - val_accuracy: 0.9619\n",
      "Epoch 70/100\n",
      " - 3s - loss: 0.1137 - accuracy: 0.9714 - val_loss: 0.2728 - val_accuracy: 0.9476\n",
      "Epoch 71/100\n",
      " - 2s - loss: 0.0705 - accuracy: 0.9833 - val_loss: 0.2993 - val_accuracy: 0.9571\n",
      "Epoch 72/100\n",
      " - 3s - loss: 0.0491 - accuracy: 0.9857 - val_loss: 0.2274 - val_accuracy: 0.9619\n",
      "Epoch 73/100\n",
      " - 2s - loss: 0.0600 - accuracy: 0.9869 - val_loss: 0.1842 - val_accuracy: 0.9762\n",
      "Epoch 74/100\n",
      " - 3s - loss: 0.0297 - accuracy: 0.9905 - val_loss: 0.2105 - val_accuracy: 0.9667\n",
      "Epoch 75/100\n",
      " - 2s - loss: 0.0563 - accuracy: 0.9845 - val_loss: 0.1897 - val_accuracy: 0.9714\n",
      "Epoch 76/100\n",
      " - 3s - loss: 0.0447 - accuracy: 0.9893 - val_loss: 0.2121 - val_accuracy: 0.9619\n",
      "Epoch 77/100\n",
      " - 3s - loss: 0.0433 - accuracy: 0.9869 - val_loss: 0.2620 - val_accuracy: 0.9571\n",
      "Epoch 78/100\n",
      " - 3s - loss: 0.0288 - accuracy: 0.9917 - val_loss: 0.1718 - val_accuracy: 0.9762\n",
      "Epoch 79/100\n",
      " - 3s - loss: 0.0273 - accuracy: 0.9917 - val_loss: 0.1775 - val_accuracy: 0.9619\n",
      "Epoch 80/100\n",
      " - 3s - loss: 0.0306 - accuracy: 0.9917 - val_loss: 0.2177 - val_accuracy: 0.9667\n",
      "Epoch 81/100\n",
      " - 3s - loss: 0.0336 - accuracy: 0.9893 - val_loss: 0.3423 - val_accuracy: 0.9476\n",
      "Epoch 82/100\n",
      " - 2s - loss: 0.0242 - accuracy: 0.9928 - val_loss: 0.2293 - val_accuracy: 0.9667\n",
      "Epoch 83/100\n",
      " - 3s - loss: 0.0273 - accuracy: 0.9928 - val_loss: 0.2722 - val_accuracy: 0.9571\n",
      "Epoch 84/100\n",
      " - 3s - loss: 0.0523 - accuracy: 0.9821 - val_loss: 0.2705 - val_accuracy: 0.9667\n",
      "Epoch 85/100\n",
      " - 3s - loss: 0.0154 - accuracy: 0.9988 - val_loss: 0.2595 - val_accuracy: 0.9571\n",
      "Epoch 86/100\n",
      " - 3s - loss: 0.0170 - accuracy: 0.9952 - val_loss: 0.2009 - val_accuracy: 0.9667\n"
     ]
    },
    {
     "name": "stdout",
     "output_type": "stream",
     "text": [
      "Epoch 87/100\n",
      " - 3s - loss: 0.0209 - accuracy: 0.9952 - val_loss: 0.1743 - val_accuracy: 0.9714\n",
      "Epoch 88/100\n",
      " - 3s - loss: 0.0213 - accuracy: 0.9952 - val_loss: 0.1822 - val_accuracy: 0.9762\n",
      "Epoch 89/100\n",
      " - 3s - loss: 0.0279 - accuracy: 0.9940 - val_loss: 0.1880 - val_accuracy: 0.9714\n",
      "Epoch 90/100\n",
      " - 3s - loss: 0.0074 - accuracy: 0.9988 - val_loss: 0.1839 - val_accuracy: 0.9762\n",
      "Epoch 91/100\n",
      " - 3s - loss: 0.0296 - accuracy: 0.9928 - val_loss: 0.2829 - val_accuracy: 0.9524\n",
      "Epoch 92/100\n",
      " - 3s - loss: 0.0338 - accuracy: 0.9893 - val_loss: 0.1594 - val_accuracy: 0.9810\n",
      "Epoch 93/100\n",
      " - 3s - loss: 0.0327 - accuracy: 0.9928 - val_loss: 0.2023 - val_accuracy: 0.9762\n",
      "Epoch 94/100\n",
      " - 3s - loss: 0.0352 - accuracy: 0.9928 - val_loss: 0.3120 - val_accuracy: 0.9714\n",
      "Epoch 95/100\n",
      " - 2s - loss: 0.0317 - accuracy: 0.9917 - val_loss: 0.1990 - val_accuracy: 0.9810\n",
      "Epoch 96/100\n",
      " - 3s - loss: 0.0196 - accuracy: 0.9940 - val_loss: 0.3090 - val_accuracy: 0.9524\n",
      "Epoch 97/100\n",
      " - 3s - loss: 0.0424 - accuracy: 0.9869 - val_loss: 0.3020 - val_accuracy: 0.9524\n",
      "Epoch 98/100\n",
      " - 3s - loss: 0.0792 - accuracy: 0.9821 - val_loss: 0.2233 - val_accuracy: 0.9619\n",
      "Epoch 99/100\n",
      " - 3s - loss: 0.0394 - accuracy: 0.9917 - val_loss: 0.1960 - val_accuracy: 0.9619\n",
      "Epoch 100/100\n",
      " - 3s - loss: 0.0338 - accuracy: 0.9917 - val_loss: 0.1333 - val_accuracy: 0.9810\n",
      "Wall time: 4min 18s\n"
     ]
    }
   ],
   "source": [
    "%%time\n",
    "\n",
    "# set random seed\n",
    "\n",
    "history = model_7.fit(X_train_7,\n",
    "                    y_train,\n",
    "                    batch_size=32,\n",
    "                    validation_data=(X_test_7, y_test),\n",
    "                    epochs=100,\n",
    "                    verbose=2)"
   ]
  },
  {
   "cell_type": "code",
   "execution_count": 84,
   "metadata": {},
   "outputs": [
    {
     "data": {
      "text/plain": [
       "<matplotlib.legend.Legend at 0x19b06371160>"
      ]
     },
     "execution_count": 84,
     "metadata": {},
     "output_type": "execute_result"
    },
    {
     "data": {
      "image/png": "[encoded data removed]",
      "text/plain": [
       "<Figure size 432x288 with 1 Axes>"
      ]
     },
     "metadata": {
      "needs_background": "light"
     },
     "output_type": "display_data"
    }
   ],
   "source": [
    "plt.plot(history.history['loss'], label = ' Training Loss')\n",
    "plt.plot(history.history['val_loss'], label = ' Test Loss')\n",
    "plt.legend()"
   ]
  },
  {
   "cell_type": "code",
   "execution_count": 85,
   "metadata": {},
   "outputs": [
    {
     "data": {
      "text/plain": [
       "<matplotlib.legend.Legend at 0x19b06371c88>"
      ]
     },
     "execution_count": 85,
     "metadata": {},
     "output_type": "execute_result"
    },
    {
     "data": {
      "image/png": "[encoded data removed]",
      "text/plain": [
       "<Figure size 432x288 with 1 Axes>"
      ]
     },
     "metadata": {
      "needs_background": "light"
     },
     "output_type": "display_data"
    }
   ],
   "source": [
    "plt.plot(history.history['accuracy'], label = ' Training Accuracy')\n",
    "plt.plot(history.history['val_accuracy'], label = ' Test Accuracy')\n",
    "plt.legend()"
   ]
  },
  {
   "cell_type": "code",
   "execution_count": 86,
   "metadata": {},
   "outputs": [
    {
     "name": "stdout",
     "output_type": "stream",
     "text": [
      "210/210 [==============================] - 0s 486us/step\n",
      "Model 7 loss: 0.1333064608508721\n",
      "Model 7 accuracy: 0.9809523820877075\n"
     ]
    }
   ],
   "source": [
    "# print evaluation scores\n",
    "\n",
    "model_7_eval = model_7.evaluate(X_test_7, y_test, verbose=1)\n",
    "model_7_metrics = model_7.metrics_names\n",
    "\n",
    "print(f\"Model 7 {model_7_metrics[0]}: {model_7_eval[0]}\")\n",
    "print(f\"Model 7 {model_7_metrics[1]}: {model_7_eval[1]}\")"
   ]
  },
  {
   "cell_type": "markdown",
   "metadata": {},
   "source": [
    "## 5. Evaluation\n",
    "\n",
    "After the models are trained, they will be evaluated and the best model will be chosen. The best performing model will be chosen based on the best accuracy score. The top 2 models will also be tested against unseen data."
   ]
  },
  {
   "cell_type": "markdown",
   "metadata": {},
   "source": [
    "### Summary Table"
   ]
  },
  {
   "cell_type": "code",
   "execution_count": 87,
   "metadata": {},
   "outputs": [],
   "source": [
    "eval_df = pd.DataFrame(columns=['Model', 'Type', 'Accuracy', 'Loss'])"
   ]
  },
  {
   "cell_type": "code",
   "execution_count": 88,
   "metadata": {
    "scrolled": true
   },
   "outputs": [
    {
     "data": {
      "text/html": [
       "<div>\n",
       "<style scoped>\n",
       "    .dataframe tbody tr th:only-of-type {\n",
       "        vertical-align: middle;\n",
       "    }\n",
       "\n",
       "    .dataframe tbody tr th {\n",
       "        vertical-align: top;\n",
       "    }\n",
       "\n",
       "    .dataframe thead th {\n",
       "        text-align: right;\n",
       "    }\n",
       "</style>\n",
       "<table border=\"1\" class=\"dataframe\">\n",
       "  <thead>\n",
       "    <tr style=\"text-align: right;\">\n",
       "      <th></th>\n",
       "      <th>Model</th>\n",
       "      <th>Type</th>\n",
       "      <th>Accuracy</th>\n",
       "      <th>Loss</th>\n",
       "    </tr>\n",
       "  </thead>\n",
       "  <tbody>\n",
       "    <tr>\n",
       "      <th>4</th>\n",
       "      <td>Model 5</td>\n",
       "      <td>CNN</td>\n",
       "      <td>0.985714</td>\n",
       "      <td>0.054086</td>\n",
       "    </tr>\n",
       "    <tr>\n",
       "      <th>6</th>\n",
       "      <td>Model 7</td>\n",
       "      <td>RNN (GRU)</td>\n",
       "      <td>0.980952</td>\n",
       "      <td>0.133306</td>\n",
       "    </tr>\n",
       "    <tr>\n",
       "      <th>5</th>\n",
       "      <td>Model 6</td>\n",
       "      <td>RNN (LSTM)</td>\n",
       "      <td>0.966667</td>\n",
       "      <td>0.285815</td>\n",
       "    </tr>\n",
       "    <tr>\n",
       "      <th>2</th>\n",
       "      <td>Model 3</td>\n",
       "      <td>FNN</td>\n",
       "      <td>0.957143</td>\n",
       "      <td>0.183858</td>\n",
       "    </tr>\n",
       "    <tr>\n",
       "      <th>1</th>\n",
       "      <td>Model 2</td>\n",
       "      <td>FNN</td>\n",
       "      <td>0.942857</td>\n",
       "      <td>0.118327</td>\n",
       "    </tr>\n",
       "    <tr>\n",
       "      <th>3</th>\n",
       "      <td>Model 4</td>\n",
       "      <td>CNN</td>\n",
       "      <td>0.904762</td>\n",
       "      <td>0.609303</td>\n",
       "    </tr>\n",
       "    <tr>\n",
       "      <th>0</th>\n",
       "      <td>Model 1 (baseline)</td>\n",
       "      <td>FNN</td>\n",
       "      <td>0.695238</td>\n",
       "      <td>1.360778</td>\n",
       "    </tr>\n",
       "  </tbody>\n",
       "</table>\n",
       "</div>"
      ],
      "text/plain": [
       "                Model        Type  Accuracy      Loss\n",
       "4             Model 5         CNN  0.985714  0.054086\n",
       "6             Model 7   RNN (GRU)  0.980952  0.133306\n",
       "5             Model 6  RNN (LSTM)  0.966667  0.285815\n",
       "2             Model 3         FNN  0.957143  0.183858\n",
       "1             Model 2         FNN  0.942857  0.118327\n",
       "3             Model 4         CNN  0.904762  0.609303\n",
       "0  Model 1 (baseline)         FNN  0.695238  1.360778"
      ]
     },
     "execution_count": 88,
     "metadata": {},
     "output_type": "execute_result"
    }
   ],
   "source": [
    "eval_df['Model'] = ['Model 1 (baseline)', 'Model 2', 'Model 3', 'Model 4', 'Model 5', 'Model 6', 'Model 7']\n",
    "eval_df['Type'] = ['FNN', 'FNN', 'FNN', 'CNN', 'CNN', 'RNN (LSTM)', 'RNN (GRU)']\n",
    "eval_df['Accuracy'] = [model_1_eval[1], model_2_eval[1], model_3_eval[1], model_4_eval[1], model_5_eval[1],\n",
    "                      model_6_eval[1], model_7_eval[1]]\n",
    "\n",
    "eval_df['Loss'] = [model_1_eval[0], model_2_eval[0], model_3_eval[0], model_4_eval[0], model_5_eval[0],\n",
    "                      model_6_eval[0], model_7_eval[0]]\n",
    "\n",
    "eval_df.sort_values(by='Accuracy', ascending = False)"
   ]
  },
  {
   "cell_type": "markdown",
   "metadata": {},
   "source": [
    "Based on the results, the top 2 performing models are the CNN model with data processed by images and the RNN model with Long-Short Term Memory (LSTM) layers. They have an accuracy of 98.57% and 96.19%.\n",
    "\n",
    "To further assess their accuracy, we can examine the classification report.\n",
    "\n",
    "Before that, the labels will be converted so that they can be compared with the predictions."
   ]
  },
  {
   "cell_type": "code",
   "execution_count": 89,
   "metadata": {},
   "outputs": [],
   "source": [
    "# create labels for test set\n",
    "labels = list(le.classes_)\n",
    "\n",
    "y_test_labels = []\n",
    "for pred in y_test:\n",
    "    for n, i in enumerate(pred):\n",
    "        if i == 1:\n",
    "            y_test_labels.append(labels[n])"
   ]
  },
  {
   "cell_type": "code",
   "execution_count": 90,
   "metadata": {},
   "outputs": [],
   "source": [
    "# create labels for test set for cnn\n",
    "labels = list(le_cnn.classes_)\n",
    "\n",
    "y_cnn_labels = []\n",
    "for pred in y_test_cnn:\n",
    "    for n, i in enumerate(pred):\n",
    "        if i == 1:\n",
    "            y_cnn_labels.append(labels[n])"
   ]
  },
  {
   "cell_type": "markdown",
   "metadata": {},
   "source": [
    "### Classification Report\n",
    "**Model 1 (also baseline)**"
   ]
  },
  {
   "cell_type": "code",
   "execution_count": 91,
   "metadata": {},
   "outputs": [
    {
     "name": "stdout",
     "output_type": "stream",
     "text": [
      "              precision    recall  f1-score   support\n",
      "\n",
      "      apples       0.54      0.74      0.63        42\n",
      "      father       0.73      0.86      0.79        42\n",
      "     flowers       0.69      0.48      0.56        42\n",
      "       water       0.79      0.74      0.77        42\n",
      "      worker       0.78      0.67      0.72        42\n",
      "\n",
      "    accuracy                           0.70       210\n",
      "   macro avg       0.71      0.70      0.69       210\n",
      "weighted avg       0.71      0.70      0.69       210\n",
      "\n"
     ]
    }
   ],
   "source": [
    "# convert predictions to its class labels\n",
    "y_pred_1 = model_1.predict_classes(X_test_1)\n",
    "y_pred_1 = list(le.inverse_transform(y_pred_1))\n",
    "\n",
    "print(classification_report(y_test_labels, y_pred_1))"
   ]
  },
  {
   "cell_type": "markdown",
   "metadata": {},
   "source": [
    "The accuracy is about 70%, which is not very good relative to the other models. This was also our baseline score. The other models will be compared against this. It is especially bad in predicting `apples` with a precision of 54%. "
   ]
  },
  {
   "cell_type": "markdown",
   "metadata": {},
   "source": [
    "**Model 2**"
   ]
  },
  {
   "cell_type": "code",
   "execution_count": 92,
   "metadata": {},
   "outputs": [
    {
     "name": "stdout",
     "output_type": "stream",
     "text": [
      "              precision    recall  f1-score   support\n",
      "\n",
      "      apples       0.95      0.98      0.96        42\n",
      "      father       0.95      0.93      0.94        42\n",
      "     flowers       0.95      0.93      0.94        42\n",
      "       water       0.90      0.90      0.90        42\n",
      "      worker       0.95      0.98      0.96        42\n",
      "\n",
      "    accuracy                           0.94       210\n",
      "   macro avg       0.94      0.94      0.94       210\n",
      "weighted avg       0.94      0.94      0.94       210\n",
      "\n"
     ]
    }
   ],
   "source": [
    "# convert predictions to its class labels\n",
    "y_pred_2 = model_2.predict_classes(X_test_2)\n",
    "y_pred_2 = list(le.inverse_transform(y_pred_2))\n",
    "\n",
    "print(classification_report(y_test_labels, y_pred_2))"
   ]
  },
  {
   "cell_type": "markdown",
   "metadata": {},
   "source": [
    "Model 2 yields quite consistent results, with an average accuracy of 94%. It is slightly worse in classifying in `water`, with a precision of 90%."
   ]
  },
  {
   "cell_type": "markdown",
   "metadata": {},
   "source": [
    "**Model 3**"
   ]
  },
  {
   "cell_type": "code",
   "execution_count": 93,
   "metadata": {},
   "outputs": [
    {
     "name": "stdout",
     "output_type": "stream",
     "text": [
      "              precision    recall  f1-score   support\n",
      "\n",
      "      apples       0.98      0.98      0.98        42\n",
      "      father       0.91      0.98      0.94        42\n",
      "     flowers       1.00      0.95      0.98        42\n",
      "       water       0.93      0.95      0.94        42\n",
      "      worker       0.97      0.93      0.95        42\n",
      "\n",
      "    accuracy                           0.96       210\n",
      "   macro avg       0.96      0.96      0.96       210\n",
      "weighted avg       0.96      0.96      0.96       210\n",
      "\n"
     ]
    }
   ],
   "source": [
    "y_pred_3 = model_3.predict_classes(X_test_3)\n",
    "y_pred_3 = list(le.inverse_transform(y_pred_3))\n",
    "\n",
    "print(classification_report(y_test_labels, y_pred_3))"
   ]
  },
  {
   "cell_type": "markdown",
   "metadata": {},
   "source": [
    "Considering its feature being more complex, this Feedforward Neural Network performs quite well, predicting 100% of `flowers` correctly. However, this model seems to have difficulty classifying `father` relative to other labels, with a 91% precision. Overall, it gives a 96% score which is higher than previous FNNs."
   ]
  },
  {
   "cell_type": "markdown",
   "metadata": {},
   "source": [
    "**Model 4**"
   ]
  },
  {
   "cell_type": "code",
   "execution_count": 94,
   "metadata": {},
   "outputs": [
    {
     "name": "stdout",
     "output_type": "stream",
     "text": [
      "              precision    recall  f1-score   support\n",
      "\n",
      "      apples       0.93      0.93      0.93        42\n",
      "      father       0.90      0.88      0.89        42\n",
      "     flowers       0.89      0.93      0.91        42\n",
      "       water       0.88      0.88      0.88        42\n",
      "      worker       0.93      0.90      0.92        42\n",
      "\n",
      "    accuracy                           0.90       210\n",
      "   macro avg       0.91      0.90      0.90       210\n",
      "weighted avg       0.91      0.90      0.90       210\n",
      "\n"
     ]
    }
   ],
   "source": [
    "y_pred_4 = model_4.predict_classes(X_test_4)\n",
    "y_pred_4 = list(le.inverse_transform(y_pred_4))\n",
    "\n",
    "print(classification_report(y_test_labels, y_pred_4))"
   ]
  },
  {
   "cell_type": "markdown",
   "metadata": {},
   "source": [
    "This CNN model performed better than the first two FNN, scoring 20 percentage points above the baseline score, giving an overall accuracy of 90%. The most accurate class is `worker` and `apple`, but it does not classify any labels exceptionally well either. It classifies `water` rather poorly, with a much lower accuracy and lower recall. Perhaps Spectrogram arrays are not meant to be fed directly into the CNN model."
   ]
  },
  {
   "cell_type": "markdown",
   "metadata": {},
   "source": [
    "**Model 5**"
   ]
  },
  {
   "cell_type": "code",
   "execution_count": 95,
   "metadata": {},
   "outputs": [
    {
     "name": "stdout",
     "output_type": "stream",
     "text": [
      "              precision    recall  f1-score   support\n",
      "\n",
      "      apples       1.00      1.00      1.00        42\n",
      "      father       0.98      0.98      0.98        42\n",
      "     flowers       1.00      0.98      0.99        42\n",
      "       water       1.00      0.98      0.99        42\n",
      "      worker       0.95      1.00      0.98        42\n",
      "\n",
      "    accuracy                           0.99       210\n",
      "   macro avg       0.99      0.99      0.99       210\n",
      "weighted avg       0.99      0.99      0.99       210\n",
      "\n"
     ]
    }
   ],
   "source": [
    "y_pred_5 = model_5.predict_classes(X_test_5)\n",
    "y_pred_5 = list(le_cnn.inverse_transform(y_pred_5))\n",
    "\n",
    "print(classification_report(y_cnn_labels, y_pred_5))"
   ]
  },
  {
   "cell_type": "markdown",
   "metadata": {},
   "source": [
    "The CNN model has the best results, predicting `apples`, `flowers` and 'water' with 100% precision. It is also able to predict `apples` perfectly. However, it seems like it could have mixed up the sounds between `father`, `water` and `worker` for 1 or 2 speakers. Nonetheless, this impressive model gave an average accuracy score of about 99%. "
   ]
  },
  {
   "cell_type": "markdown",
   "metadata": {},
   "source": [
    "**Model 6**"
   ]
  },
  {
   "cell_type": "code",
   "execution_count": 96,
   "metadata": {},
   "outputs": [
    {
     "name": "stdout",
     "output_type": "stream",
     "text": [
      "              precision    recall  f1-score   support\n",
      "\n",
      "      apples       1.00      0.95      0.98        42\n",
      "      father       0.95      1.00      0.98        42\n",
      "     flowers       1.00      1.00      1.00        42\n",
      "       water       0.95      0.93      0.94        42\n",
      "      worker       0.93      0.95      0.94        42\n",
      "\n",
      "    accuracy                           0.97       210\n",
      "   macro avg       0.97      0.97      0.97       210\n",
      "weighted avg       0.97      0.97      0.97       210\n",
      "\n"
     ]
    }
   ],
   "source": [
    "y_pred_6 = model_6.predict_classes(X_test_6)\n",
    "y_pred_6 = list(le.inverse_transform(y_pred_6))\n",
    "\n",
    "print(classification_report(y_test_labels, y_pred_6))"
   ]
  },
  {
   "cell_type": "markdown",
   "metadata": {},
   "source": [
    "In general, the Recurrent Neural Networks produce quite consistent results. This model, with LSTM layers, have an accuracy of 97% even though it is slightly weaker in classifying `water`. It is able to classify `flowers` perfectly and has high precision  score generally too. "
   ]
  },
  {
   "cell_type": "markdown",
   "metadata": {},
   "source": [
    "**Model 7**"
   ]
  },
  {
   "cell_type": "code",
   "execution_count": 97,
   "metadata": {},
   "outputs": [
    {
     "name": "stdout",
     "output_type": "stream",
     "text": [
      "              precision    recall  f1-score   support\n",
      "\n",
      "      apples       0.98      0.98      0.98        42\n",
      "      father       1.00      0.98      0.99        42\n",
      "     flowers       1.00      0.98      0.99        42\n",
      "       water       0.98      0.98      0.98        42\n",
      "      worker       0.95      1.00      0.98        42\n",
      "\n",
      "    accuracy                           0.98       210\n",
      "   macro avg       0.98      0.98      0.98       210\n",
      "weighted avg       0.98      0.98      0.98       210\n",
      "\n"
     ]
    }
   ],
   "source": [
    "y_pred_7 = model_7.predict_classes(X_test_7)\n",
    "y_pred_7 = list(le.inverse_transform(y_pred_7))\n",
    "\n",
    "print(classification_report(y_test_labels, y_pred_7))"
   ]
  },
  {
   "cell_type": "markdown",
   "metadata": {},
   "source": [
    "This RNN with GRU layers also produced high precision and recall, giving it an overall accuracy of 98%. Based on the f1-score and accuracy, it has a balanced result for each class."
   ]
  },
  {
   "cell_type": "markdown",
   "metadata": {},
   "source": [
    "**Conclusion of Model Results**\n",
    "\n",
    "The top 3 performing models are Model 5 (CNN Model), Model 7 (RNN GRU Model) and Model 6 (RNN LSTM Model), based on accuracy scores. All three model performed way above the baseline score.\n",
    "\n",
    "It is possible to classify audio files with Recurrent Neural Networks (RNN) as they are known to be good at processing sequential data. RNNs should be used to efficient process and model audio data.\n",
    "\n",
    "Interestingly, the converting the audio data into images and fitting it into a CNN seems to work very well too. The option of using images to classify audios should not be discounted easily.\n",
    "\n",
    "It is not unsurprising that the vanilla feedforward neural network would not perform very well as audio files are too complex to be represented by a one-dimensional matrix.\n",
    "\n",
    "The top 3 performing model will then be tested on unseen data to determine its ability to generalise, and a final model will be selected as the model."
   ]
  },
  {
   "cell_type": "markdown",
   "metadata": {},
   "source": [
    "### Test on Unseen Data\n",
    "\n",
    "The final round of evaluation will be based on unseen data. As it is not unusual for neural networks to overfit, one good way is to test the models on unseen data and evaluating them again. Furthermore, the ability of the model should also be determined by how well it generalises. Hence, this is an important evaluation to select the final model."
   ]
  },
  {
   "cell_type": "code",
   "execution_count": 98,
   "metadata": {},
   "outputs": [
    {
     "data": {
      "text/html": [
       "<div>\n",
       "<style scoped>\n",
       "    .dataframe tbody tr th:only-of-type {\n",
       "        vertical-align: middle;\n",
       "    }\n",
       "\n",
       "    .dataframe tbody tr th {\n",
       "        vertical-align: top;\n",
       "    }\n",
       "\n",
       "    .dataframe thead th {\n",
       "        text-align: right;\n",
       "    }\n",
       "</style>\n",
       "<table border=\"1\" class=\"dataframe\">\n",
       "  <thead>\n",
       "    <tr style=\"text-align: right;\">\n",
       "      <th></th>\n",
       "      <th>id</th>\n",
       "      <th>filepath</th>\n",
       "      <th>duration</th>\n",
       "      <th>class_label</th>\n",
       "    </tr>\n",
       "  </thead>\n",
       "  <tbody>\n",
       "    <tr>\n",
       "      <th>0</th>\n",
       "      <td>8750049</td>\n",
       "      <td>./assets/audio_test/8750049_father.wav</td>\n",
       "      <td>0.353016</td>\n",
       "      <td>father</td>\n",
       "    </tr>\n",
       "    <tr>\n",
       "      <th>1</th>\n",
       "      <td>8750049</td>\n",
       "      <td>./assets/audio_test/8750049_worker.wav</td>\n",
       "      <td>0.531655</td>\n",
       "      <td>worker</td>\n",
       "    </tr>\n",
       "    <tr>\n",
       "      <th>2</th>\n",
       "      <td>8750051</td>\n",
       "      <td>./assets/audio_test/8750051_water.wav</td>\n",
       "      <td>0.374467</td>\n",
       "      <td>water</td>\n",
       "    </tr>\n",
       "    <tr>\n",
       "      <th>3</th>\n",
       "      <td>8750062</td>\n",
       "      <td>./assets/audio_test/8750062_flowers.wav</td>\n",
       "      <td>0.533379</td>\n",
       "      <td>flowers</td>\n",
       "    </tr>\n",
       "    <tr>\n",
       "      <th>4</th>\n",
       "      <td>8750066</td>\n",
       "      <td>./assets/audio_test/8750066_apples.wav</td>\n",
       "      <td>0.503719</td>\n",
       "      <td>apples</td>\n",
       "    </tr>\n",
       "  </tbody>\n",
       "</table>\n",
       "</div>"
      ],
      "text/plain": [
       "        id                                 filepath  duration class_label\n",
       "0  8750049   ./assets/audio_test/8750049_father.wav  0.353016      father\n",
       "1  8750049   ./assets/audio_test/8750049_worker.wav  0.531655      worker\n",
       "2  8750051    ./assets/audio_test/8750051_water.wav  0.374467       water\n",
       "3  8750062  ./assets/audio_test/8750062_flowers.wav  0.533379     flowers\n",
       "4  8750066   ./assets/audio_test/8750066_apples.wav  0.503719      apples"
      ]
     },
     "execution_count": 98,
     "metadata": {},
     "output_type": "execute_result"
    }
   ],
   "source": [
    "# import test data\n",
    "test_df = pd.read_csv(\"./datasets/test.csv\")\n",
    "test_df.head()"
   ]
  },
  {
   "cell_type": "markdown",
   "metadata": {},
   "source": [
    "**Preprocess for CNN Model (Model 5)**"
   ]
  },
  {
   "cell_type": "code",
   "execution_count": 99,
   "metadata": {
    "scrolled": true
   },
   "outputs": [],
   "source": [
    "# generate spectrogram for the test set\n",
    "\n",
    "# for each file\n",
    "for n, f in enumerate(test_df['filepath']):\n",
    "    \n",
    "    # get unique id\n",
    "    audio_id = test_df['id'][n]\n",
    "    \n",
    "    # get label\n",
    "    label = test_df['class_label'][n]\n",
    "    \n",
    "    # load file\n",
    "    audio, sr = librosa.load(f)\n",
    "    \n",
    "    # plot spectrogram\n",
    "    plt.figure(figsize=[2,2])\n",
    "    mel_spec = librosa.feature.melspectrogram(audio, sr=sr, n_mels=20)\n",
    "    log_mel_spec = librosa.power_to_db(mel_spec)\n",
    "    librosa.display.specshow(log_mel_spec)\n",
    "    \n",
    "    # save and close, slightly padded\n",
    "    plt.savefig(f\"./assets/spec_test/{label}_{audio_id}.png\", dpi=500, bbox_inches='tight',pad_inches=0.1)\n",
    "    plt.close()\n"
   ]
  },
  {
   "cell_type": "code",
   "execution_count": 100,
   "metadata": {},
   "outputs": [],
   "source": [
    "# create test data\n",
    "\n",
    "img_size = 300\n",
    "\n",
    "# target folder\n",
    "folder = \"./assets/spec_test/\"\n",
    "\n",
    "# create empty list for spectrogram data and label\n",
    "test_data_spec = []\n",
    "test_label_spec = []\n",
    "\n",
    "# get image data and label\n",
    "for img in os.listdir(folder):\n",
    "    label, filename = img.split('_')\n",
    "    path = os.path.join(folder, img)\n",
    "    im = Image.open(path)\n",
    "    im = im.convert('RGB')\n",
    "    im = im.resize((img_size, img_size), Image.ANTIALIAS)\n",
    "    test_data_spec.append(np.array(im))\n",
    "    test_label_spec.append(label)\n",
    "\n",
    "\n",
    "# normalise the data\n",
    "test_data_spec = np.array(test_data_spec)/255"
   ]
  },
  {
   "cell_type": "markdown",
   "metadata": {},
   "source": [
    "**Preprocess for RNN (GRU) Model (Model 7)**"
   ]
  },
  {
   "cell_type": "code",
   "execution_count": 101,
   "metadata": {},
   "outputs": [],
   "source": [
    "# apply function to all files\n",
    "mfcc_test = test_df['filepath'].map(get_mfcc)\n",
    "\n",
    "# padding\n",
    "mfcc_test = pad_sequences(mfcc_test, padding='post', maxlen=42)\n",
    "\n",
    "# add into the dataframe\n",
    "test_df['mfcc_pad'] = mfcc_test.tolist()"
   ]
  },
  {
   "cell_type": "markdown",
   "metadata": {},
   "source": [
    "**Predictions**\n",
    "\n",
    "**CNN Model:**"
   ]
  },
  {
   "cell_type": "code",
   "execution_count": 102,
   "metadata": {},
   "outputs": [],
   "source": [
    "# set X and predict\n",
    "\n",
    "X = test_data_spec\n",
    "\n",
    "y_test_pred_1 = model_5.predict_classes(X)"
   ]
  },
  {
   "cell_type": "code",
   "execution_count": 103,
   "metadata": {},
   "outputs": [
    {
     "name": "stdout",
     "output_type": "stream",
     "text": [
      "              precision    recall  f1-score   support\n",
      "\n",
      "      apples       1.00      1.00      1.00        20\n",
      "      father       0.91      1.00      0.95        20\n",
      "     flowers       1.00      0.90      0.95        21\n",
      "       water       0.95      0.95      0.95        20\n",
      "      worker       0.95      0.95      0.95        20\n",
      "\n",
      "    accuracy                           0.96       101\n",
      "   macro avg       0.96      0.96      0.96       101\n",
      "weighted avg       0.96      0.96      0.96       101\n",
      "\n"
     ]
    }
   ],
   "source": [
    "# convert the labels from OHE to word labels\n",
    "y_test_pred_1 = list(le.inverse_transform(y_test_pred_1))\n",
    "\n",
    "print(classification_report(test_label_spec, y_test_pred_1))"
   ]
  },
  {
   "cell_type": "markdown",
   "metadata": {},
   "source": [
    "Even on Unseen Data, the CNN Model performed very well, showing its strong ability to generalise well. It manages to perfectly classify `apples` just like on the validation dataset. The model's weakness is also prevalent here as it is still unable to classify `father` and `worker` as well as the other classes. However, this could also be due to the speaker's poor pronunciation. Overall, it is still highly accurate."
   ]
  },
  {
   "cell_type": "markdown",
   "metadata": {},
   "source": [
    "**RNN Model (LSTM):**"
   ]
  },
  {
   "cell_type": "code",
   "execution_count": 104,
   "metadata": {},
   "outputs": [],
   "source": [
    "# set X and predict\n",
    "\n",
    "X = np.array(test_df['mfcc_pad'].tolist())\n",
    "\n",
    "y_test_pred_2 = model_6.predict_classes(X)"
   ]
  },
  {
   "cell_type": "code",
   "execution_count": 105,
   "metadata": {},
   "outputs": [
    {
     "name": "stdout",
     "output_type": "stream",
     "text": [
      "              precision    recall  f1-score   support\n",
      "\n",
      "      apples       0.95      1.00      0.98        20\n",
      "      father       0.80      1.00      0.89        20\n",
      "     flowers       1.00      0.90      0.95        21\n",
      "       water       0.95      0.90      0.92        20\n",
      "      worker       1.00      0.85      0.92        20\n",
      "\n",
      "    accuracy                           0.93       101\n",
      "   macro avg       0.94      0.93      0.93       101\n",
      "weighted avg       0.94      0.93      0.93       101\n",
      "\n"
     ]
    }
   ],
   "source": [
    "# convert the labels from OHE to word labels\n",
    "y_test_pred_2 = list(le.inverse_transform(y_test_pred_2))\n",
    "\n",
    "print(classification_report(test_df['class_label'], y_test_pred_2))"
   ]
  },
  {
   "cell_type": "markdown",
   "metadata": {},
   "source": [
    "Surprisingly, the RNN (LSTM) do not generalise better than the CNN Model. It is much weaker in classifying `father`, with a precision of 80%. One possible reasons is that it misclassified similar sounding words. Overall, it gives an accuracy of 93%. Although it is highly accurate, the CNN model still prevails."
   ]
  },
  {
   "cell_type": "markdown",
   "metadata": {},
   "source": [
    "**RNN Model (GRU):**"
   ]
  },
  {
   "cell_type": "code",
   "execution_count": 106,
   "metadata": {},
   "outputs": [],
   "source": [
    "# set X and predict\n",
    "X = np.array(test_df['mfcc_pad'].tolist())\n",
    "\n",
    "y_test_pred_3 = model_7.predict_classes(X)"
   ]
  },
  {
   "cell_type": "code",
   "execution_count": 107,
   "metadata": {},
   "outputs": [
    {
     "name": "stdout",
     "output_type": "stream",
     "text": [
      "              precision    recall  f1-score   support\n",
      "\n",
      "      apples       1.00      1.00      1.00        20\n",
      "      father       0.91      1.00      0.95        20\n",
      "     flowers       1.00      0.95      0.98        21\n",
      "       water       0.95      1.00      0.98        20\n",
      "      worker       1.00      0.90      0.95        20\n",
      "\n",
      "    accuracy                           0.97       101\n",
      "   macro avg       0.97      0.97      0.97       101\n",
      "weighted avg       0.97      0.97      0.97       101\n",
      "\n"
     ]
    }
   ],
   "source": [
    "# convert the labels from OHE to word labels\n",
    "\n",
    "y_test_pred_3 = list(le.inverse_transform(y_test_pred_3))\n",
    "\n",
    "print(classification_report(test_df['class_label'], y_test_pred_3))"
   ]
  },
  {
   "cell_type": "markdown",
   "metadata": {},
   "source": [
    "The RNN Model (GRU) achieved the highest accuracy among the 3 models when tested on unseen data, demonstrating its strength to generalise well. It has an overall accuracy of 97%, higher than CNN by 1 percentage point. It was able to classify `apples` perfectly as well. However, compared to the CNN model, it was able to better classify `flowers` and `water` if we look at the f1-score."
   ]
  },
  {
   "cell_type": "markdown",
   "metadata": {},
   "source": [
    "**Conclusion for Evaluation on Unseen Data**\n",
    "\n",
    "The final model chosen is the Recurrent Neural Network with GRU layers (RNN GRU), yielding the the highest weighted accuracy. The RNN (GRU) has demonstrated its ability to generalise better to unseen data. This is very far very important as speech recognition heavily depends on the input by the speaker.\n",
    "\n",
    "Although the accuracy of RNN (GRU) and CNN are very close, the RNN (GRU) is more efficient than the CNN when comparing preprocessing time and training time. The CNN requires converting the audios into images first before feeding it into the neural network. Similarly, for predictions, the same has to be done for the inputs. This would be computationally inefficient when trying to do real-time speech-to-text translation. The RNN (GRU) model has proven to be much more efficient in processing such sequential data. For example, the fitting of CNN took more than 6 mins while RNN (GRU) took only about 4 mins.\n",
    "\n",
    "Hence, the best model for this multiclassification is the RNN (GRU) based on accuracy and processing time."
   ]
  },
  {
   "cell_type": "markdown",
   "metadata": {},
   "source": [
    "## 6. Conclusions"
   ]
  },
  {
   "cell_type": "markdown",
   "metadata": {},
   "source": [
    "The objective of this project is to find out how accurately can machine learning algorithms classify Singaporean-accented English. Based on the above results, Neural Networks can classify Singaporean-accented English very accurately at above 90%.\n",
    "\n",
    "The EDA examined the raw signals, mel-spectrograms and the mel-frequency cepstral coefficients (MFCC) of audios from each of the 5 classes (apples, father, flowers, worker and water). It can be difficult to classify the speeches based on raw waves due to the complexity of audio signals. Decomposing the sound waves with MFCC makes it possible to give each soundwave an \"identity\", making it possible for classification. Additionally, patterns among each class seems evident when comparing their mel-spectrogram, making it possible for image classification.\n",
    "\n",
    "The best model for the multiclassification is the Recurrent Neural Network with GRU layers (Model 7). It has successfully classified the speeches with an average accuracy of 98% on validation dataset and generalised to unseen data with an accuracy of 97%, with the highest efficiency. Image classification with CNN uses more preprocessing and processing time, even though it also returned high accuracy.\n",
    "\n",
    "The RNN (GRU) Model definitely has the potential to be scaled up and be implemented as a business solution. It can be trained to recognise more words or commands and with larger dataset. This also means that building a more complex speech recognition model which can accurately and efficiently recognise Singaporean-accented speeches is very possible.\n",
    "\n",
    "**Recommendation for Implementation**\n",
    "\n",
    "- MFCC sequential data should be used on sequential models (such as Recurrent Neural Network) for real-time transcription or classification as it has proved to be the most efficient way to process them.\n",
    "\n",
    "- Mel-spectrogram images should be used for when accuracy is more important but computational time is not important. For example, trying to sort audio recordings or classifying speech patterns.\n",
    "\n",
    "**Limitations**\n",
    "\n",
    "- The recordings that were used in this project were recorded in a controlled environment, with a good quality microphone in a quiet room (most probably in a studio). However, we cannot expect the audio input environment to always be quiet enough to isolate the speaker's speech. For practical application, the dataset could perhaps be expanded to include speeches recorded in a noisier environment. Perhaps, another model that can cancel background noises could be built to filter noises out of the recordings first before running through the RNN.\n",
    "\n",
    "- All of the recordings are also scripted, and are not based on spontaneous conversations, hence, they are almost free from mispronunciation. The audio data was collected from people with good english proficiency as they were able to read from the script. This way, the classification models or speech recognition models could be biased towards proficient English speakers. One possibility would be for data collect of people with lower english proficiency as they may pronounce the same words slightly differently.\n",
    "\n",
    "**Suggestion for Further Research**\n",
    "\n",
    "Data Scientists interested in audio classification and speech classification of Singaporean-accented speech can explore the following to build a more inclusive and accurate model.\n",
    "\n",
    "- Explore further preprocessing techniques for MFCC. The MFCC turns out to be a great determinant in classifying the speeches. \n",
    "\n",
    "- Increase the training dataset. After doubling the training data from 400 to 800, it increased the accuracy of RNN model by a few percentage points.\n",
    "\n",
    "- Expand the training set to include less proficient English speakers\n",
    "\n",
    "- Build a model that can classify speeches in noisy environments."
   ]
  }
 ],
 "metadata": {
  "kernelspec": {
   "display_name": "Python 3",
   "language": "python",
   "name": "python3"
  },
  "language_info": {
   "codemirror_mode": {
    "name": "ipython",
    "version": 3
   },
   "file_extension": ".py",
   "mimetype": "text/x-python",
   "name": "python",
   "nbconvert_exporter": "python",
   "pygments_lexer": "ipython3",
   "version": "3.6.12"
  }
 },
 "nbformat": 4,
 "nbformat_minor": 4
}
