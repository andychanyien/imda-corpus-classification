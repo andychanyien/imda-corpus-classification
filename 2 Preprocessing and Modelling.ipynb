{
 "cells": [
  {
   "cell_type": "code",
   "execution_count": 2,
   "metadata": {
    "scrolled": true
   },
   "outputs": [],
   "source": [
    "import IPython.display as ipd\n",
    "import pandas as pd\n",
    "import numpy as np\n",
    "import librosa\n",
    "import librosa.display\n",
    "import matplotlib.pyplot as plt\n",
    "from scipy.io import wavfile as wav\n",
    "\n",
    "from sklearn import metrics\n",
    "from sklearn.preprocessing import LabelEncoder, StandardScaler\n",
    "from sklearn.model_selection import train_test_split\n",
    "\n",
    "from keras.models import Sequential\n",
    "from keras.layers import Dense, Dropout, Activation, Conv2D, MaxPooling2D, Flatten, Masking, GRU, LSTM\n",
    "from keras.preprocessing.sequence import pad_sequences\n",
    "from keras.optimizers import Adam\n",
    "from keras.utils import to_categorical\n",
    "from keras.callbacks import ModelCheckpoint \n",
    "from datetime import datetime \n"
   ]
  },
  {
   "cell_type": "code",
   "execution_count": 3,
   "metadata": {},
   "outputs": [],
   "source": [
    "features_df = pd.read_csv(\"datasets/featuresdf.csv\")"
   ]
  },
  {
   "cell_type": "code",
   "execution_count": 4,
   "metadata": {},
   "outputs": [
    {
     "data": {
      "text/html": [
       "<div>\n",
       "<style scoped>\n",
       "    .dataframe tbody tr th:only-of-type {\n",
       "        vertical-align: middle;\n",
       "    }\n",
       "\n",
       "    .dataframe tbody tr th {\n",
       "        vertical-align: top;\n",
       "    }\n",
       "\n",
       "    .dataframe thead th {\n",
       "        text-align: right;\n",
       "    }\n",
       "</style>\n",
       "<table border=\"1\" class=\"dataframe\">\n",
       "  <thead>\n",
       "    <tr style=\"text-align: right;\">\n",
       "      <th></th>\n",
       "      <th>id</th>\n",
       "      <th>filepath</th>\n",
       "      <th>duration</th>\n",
       "      <th>class_label</th>\n",
       "    </tr>\n",
       "  </thead>\n",
       "  <tbody>\n",
       "    <tr>\n",
       "      <th>0</th>\n",
       "      <td>1400066</td>\n",
       "      <td>./assets/audio_train/1400066_apples.wav</td>\n",
       "      <td>0.759320</td>\n",
       "      <td>apples</td>\n",
       "    </tr>\n",
       "    <tr>\n",
       "      <th>1</th>\n",
       "      <td>1400062</td>\n",
       "      <td>./assets/audio_train/1400062_flowers.wav</td>\n",
       "      <td>0.777324</td>\n",
       "      <td>flowers</td>\n",
       "    </tr>\n",
       "    <tr>\n",
       "      <th>2</th>\n",
       "      <td>1400049</td>\n",
       "      <td>./assets/audio_train/1400049_worker.wav</td>\n",
       "      <td>0.517324</td>\n",
       "      <td>worker</td>\n",
       "    </tr>\n",
       "    <tr>\n",
       "      <th>3</th>\n",
       "      <td>1400051</td>\n",
       "      <td>./assets/audio_train/1400051_water.wav</td>\n",
       "      <td>0.480091</td>\n",
       "      <td>water</td>\n",
       "    </tr>\n",
       "    <tr>\n",
       "      <th>4</th>\n",
       "      <td>1400049</td>\n",
       "      <td>./assets/audio_train/1400049_father.wav</td>\n",
       "      <td>0.448073</td>\n",
       "      <td>father</td>\n",
       "    </tr>\n",
       "  </tbody>\n",
       "</table>\n",
       "</div>"
      ],
      "text/plain": [
       "        id                                  filepath  duration class_label\n",
       "0  1400066   ./assets/audio_train/1400066_apples.wav  0.759320      apples\n",
       "1  1400062  ./assets/audio_train/1400062_flowers.wav  0.777324     flowers\n",
       "2  1400049   ./assets/audio_train/1400049_worker.wav  0.517324      worker\n",
       "3  1400051    ./assets/audio_train/1400051_water.wav  0.480091       water\n",
       "4  1400049   ./assets/audio_train/1400049_father.wav  0.448073      father"
      ]
     },
     "execution_count": 4,
     "metadata": {},
     "output_type": "execute_result"
    }
   ],
   "source": [
    "features_df.head()"
   ]
  },
  {
   "cell_type": "markdown",
   "metadata": {},
   "source": [
    "## 3. Preprocessing"
   ]
  },
  {
   "cell_type": "markdown",
   "metadata": {},
   "source": [
    "There are many ways of preprocessing audio files and the methods of preprocessing is heavily dependent on the type of classification model which will be used.\n",
    "\n",
    "The model I will be building is:\n",
    "\n",
    "1. Feedforward Neural Network ( 2 kind of preprocessing )\n",
    "2. Convolutional Neural Network\n",
    "3. Recurrent Neural Network with LSTM\n",
    "4. Ensemble Method"
   ]
  },
  {
   "cell_type": "markdown",
   "metadata": {},
   "source": [
    "#### Preproccessing for FNN\n",
    "\n",
    "There are a few ways to process the audio for a simple feedforward neural network. The first and most common way is to find the average of each coefficient of the MFCC across time, which will give us a shape of (40,1) dimensions. \n"
   ]
  },
  {
   "cell_type": "code",
   "execution_count": 5,
   "metadata": {},
   "outputs": [],
   "source": [
    "def get_mfccs_features(file_list, n_mfcc=40):\n",
    "    \"\"\"\n",
    "    This function will take in a list of audio file path and produce 4 times 40 dimensions numpy array (40, 1) which\n",
    "    will be ready to put into the neural network.\n",
    "    \n",
    "    How it works?\n",
    "    \n",
    "    For each audio file, it will calculate the Mel-Frequency Cestral Coefficients (MFCCs) over a set\n",
    "    number of time frames, determined by the sampling rate. The default number of coefficient is set at 40,\n",
    "    giving us a numpy array of 40 (coefs) by number of timeframes.\n",
    "    \n",
    "    In order for it to be have a shape of (, 1), the mean and standard deviation will be calculated, across \n",
    "    the entire time frame. As time is also important information which we would not want to lose, the \n",
    "    delta of the mfcc will also be calculated, and likewise, the average and the standard deviation will be\n",
    "    calculated.\n",
    "    \n",
    "    mfccs_mean = mean of (40 mfcc x time) - shape = (40,1)\n",
    "    mfccs_std = standard dev of (40 mfcc x time) - shape = (40,1)\n",
    "    delta_mean = mean of delta of 40 mfcc across time - shape = (40,1)\n",
    "    delta_std = standard dev of delta of 40 mfcc across time - shape = (40,1)\n",
    "    \n",
    "    \n",
    "    \"\"\"\n",
    "    \n",
    "    \n",
    "    features = {}\n",
    "    mean = []\n",
    "    std = []\n",
    "    delta_mean = []\n",
    "    delta_std = []\n",
    "    for f in file_list:\n",
    "        audio, sr = librosa.load(f) \n",
    "        mfccs = librosa.feature.mfcc(y=audio, sr=sr, n_mfcc=n_mfcc)\n",
    "        mfccs_delta = librosa.feature.delta(mfccs)\n",
    "        \n",
    "        mfccs_mean = np.mean(mfccs.T,axis=0)\n",
    "        mean.append(mfccs_mean)\n",
    "        \n",
    "        mfccs_std = np.std(mfccs.T,axis=0)\n",
    "        std.append(mfccs_std)\n",
    "        \n",
    "        mfccs_delta_mean = np.mean(mfccs_delta.T,axis=0)\n",
    "        delta_mean.append(mfccs_delta_mean)\n",
    "        \n",
    "        mfccs_delta_std = np.std(mfccs_delta.T,axis=0)\n",
    "        delta_std.append(mfccs_delta_std)\n",
    "    \n",
    "    features['mfccs_mean'] = mean\n",
    "    features['mfccs_std'] = std\n",
    "    features['mfccs_delta_mean'] = delta_mean\n",
    "    features['mfccs_delta_std'] = delta_std\n",
    "    \n",
    "    return features"
   ]
  },
  {
   "cell_type": "code",
   "execution_count": 6,
   "metadata": {},
   "outputs": [],
   "source": [
    "# get all the features\n",
    "\n",
    "mfccs_features = get_mfccs_features(features_df['filepath'])"
   ]
  },
  {
   "cell_type": "code",
   "execution_count": 7,
   "metadata": {},
   "outputs": [],
   "source": [
    "# add them into the dataframe\n",
    "\n",
    "for k, v in mfccs_features.items():\n",
    "    features_df[k] = v"
   ]
  },
  {
   "cell_type": "code",
   "execution_count": 8,
   "metadata": {},
   "outputs": [],
   "source": [
    "# create a new feature with a dimension of 160, stacking the mean and standard deviation of \n",
    "# the mfcc and its delta.\n",
    "\n",
    "combined_features = []\n",
    "for n in range(0,len(features_df)):\n",
    "    combined_features.append(np.concatenate((features_df['mfccs_mean'][n],\n",
    "                                             features_df['mfccs_std'][n], \n",
    "                                             features_df['mfccs_delta_mean'][n],\n",
    "                                             features_df['mfccs_delta_std'][n])))\n",
    "    \n",
    "features_df['combined_mfccs'] = combined_features\n",
    "# this will give us an array of (160, 1)"
   ]
  },
  {
   "cell_type": "code",
   "execution_count": 9,
   "metadata": {},
   "outputs": [
    {
     "data": {
      "text/html": [
       "<div>\n",
       "<style scoped>\n",
       "    .dataframe tbody tr th:only-of-type {\n",
       "        vertical-align: middle;\n",
       "    }\n",
       "\n",
       "    .dataframe tbody tr th {\n",
       "        vertical-align: top;\n",
       "    }\n",
       "\n",
       "    .dataframe thead th {\n",
       "        text-align: right;\n",
       "    }\n",
       "</style>\n",
       "<table border=\"1\" class=\"dataframe\">\n",
       "  <thead>\n",
       "    <tr style=\"text-align: right;\">\n",
       "      <th></th>\n",
       "      <th>id</th>\n",
       "      <th>filepath</th>\n",
       "      <th>duration</th>\n",
       "      <th>class_label</th>\n",
       "      <th>mfccs_mean</th>\n",
       "      <th>mfccs_std</th>\n",
       "      <th>mfccs_delta_mean</th>\n",
       "      <th>mfccs_delta_std</th>\n",
       "      <th>combined_mfccs</th>\n",
       "    </tr>\n",
       "  </thead>\n",
       "  <tbody>\n",
       "    <tr>\n",
       "      <th>0</th>\n",
       "      <td>1400066</td>\n",
       "      <td>./assets/audio_train/1400066_apples.wav</td>\n",
       "      <td>0.759320</td>\n",
       "      <td>apples</td>\n",
       "      <td>[-247.32631, 102.92839, -35.27226, 36.415066, ...</td>\n",
       "      <td>[117.973976, 74.807144, 34.97408, 15.038574, 2...</td>\n",
       "      <td>[-9.579418, -4.0737424, 3.8435361, -0.1708743,...</td>\n",
       "      <td>[22.375574, 12.759423, 6.3385267, 2.4689703, 5...</td>\n",
       "      <td>[-247.32631, 102.92839, -35.27226, 36.415066, ...</td>\n",
       "    </tr>\n",
       "    <tr>\n",
       "      <th>1</th>\n",
       "      <td>1400062</td>\n",
       "      <td>./assets/audio_train/1400062_flowers.wav</td>\n",
       "      <td>0.777324</td>\n",
       "      <td>flowers</td>\n",
       "      <td>[-235.68883, 101.68603, -35.80166, 34.12707, -...</td>\n",
       "      <td>[51.111275, 67.96506, 23.283352, 15.933792, 17...</td>\n",
       "      <td>[-2.7131724, 0.058154836, 1.035877, -0.0900879...</td>\n",
       "      <td>[10.057443, 12.488094, 5.149937, 3.5408854, 3....</td>\n",
       "      <td>[-235.68883, 101.68603, -35.80166, 34.12707, -...</td>\n",
       "    </tr>\n",
       "    <tr>\n",
       "      <th>2</th>\n",
       "      <td>1400049</td>\n",
       "      <td>./assets/audio_train/1400049_worker.wav</td>\n",
       "      <td>0.517324</td>\n",
       "      <td>worker</td>\n",
       "      <td>[-235.04802, 160.1276, -10.184573, 26.674044, ...</td>\n",
       "      <td>[80.10156, 36.065247, 28.050356, 18.52597, 23....</td>\n",
       "      <td>[-12.911271, -5.808687, -1.0771756, -2.7306657...</td>\n",
       "      <td>[20.398891, 8.515546, 4.8766475, 4.520022, 1.4...</td>\n",
       "      <td>[-235.04802, 160.1276, -10.184573, 26.674044, ...</td>\n",
       "    </tr>\n",
       "    <tr>\n",
       "      <th>3</th>\n",
       "      <td>1400051</td>\n",
       "      <td>./assets/audio_train/1400051_water.wav</td>\n",
       "      <td>0.480091</td>\n",
       "      <td>water</td>\n",
       "      <td>[-235.00658, 123.2033, -4.968553, 33.234592, -...</td>\n",
       "      <td>[106.4123, 33.90044, 38.776386, 15.919863, 31....</td>\n",
       "      <td>[11.195169, 1.0260462, -5.0391245, -1.5975816,...</td>\n",
       "      <td>[23.694193, 8.173781, 7.091112, 2.5993192, 7.5...</td>\n",
       "      <td>[-235.00658, 123.2033, -4.968553, 33.234592, -...</td>\n",
       "    </tr>\n",
       "    <tr>\n",
       "      <th>4</th>\n",
       "      <td>1400049</td>\n",
       "      <td>./assets/audio_train/1400049_father.wav</td>\n",
       "      <td>0.448073</td>\n",
       "      <td>father</td>\n",
       "      <td>[-179.97217, 108.544716, -58.19228, 31.718985,...</td>\n",
       "      <td>[45.40721, 49.07983, 29.007093, 11.68762, 15.4...</td>\n",
       "      <td>[-3.7510803, 0.43218327, 2.6482975, 0.04581043...</td>\n",
       "      <td>[8.79644, 11.696044, 3.5005567, 2.2668695, 3.6...</td>\n",
       "      <td>[-179.97217, 108.544716, -58.19228, 31.718985,...</td>\n",
       "    </tr>\n",
       "  </tbody>\n",
       "</table>\n",
       "</div>"
      ],
      "text/plain": [
       "        id                                  filepath  duration class_label  \\\n",
       "0  1400066   ./assets/audio_train/1400066_apples.wav  0.759320      apples   \n",
       "1  1400062  ./assets/audio_train/1400062_flowers.wav  0.777324     flowers   \n",
       "2  1400049   ./assets/audio_train/1400049_worker.wav  0.517324      worker   \n",
       "3  1400051    ./assets/audio_train/1400051_water.wav  0.480091       water   \n",
       "4  1400049   ./assets/audio_train/1400049_father.wav  0.448073      father   \n",
       "\n",
       "                                          mfccs_mean  \\\n",
       "0  [-247.32631, 102.92839, -35.27226, 36.415066, ...   \n",
       "1  [-235.68883, 101.68603, -35.80166, 34.12707, -...   \n",
       "2  [-235.04802, 160.1276, -10.184573, 26.674044, ...   \n",
       "3  [-235.00658, 123.2033, -4.968553, 33.234592, -...   \n",
       "4  [-179.97217, 108.544716, -58.19228, 31.718985,...   \n",
       "\n",
       "                                           mfccs_std  \\\n",
       "0  [117.973976, 74.807144, 34.97408, 15.038574, 2...   \n",
       "1  [51.111275, 67.96506, 23.283352, 15.933792, 17...   \n",
       "2  [80.10156, 36.065247, 28.050356, 18.52597, 23....   \n",
       "3  [106.4123, 33.90044, 38.776386, 15.919863, 31....   \n",
       "4  [45.40721, 49.07983, 29.007093, 11.68762, 15.4...   \n",
       "\n",
       "                                    mfccs_delta_mean  \\\n",
       "0  [-9.579418, -4.0737424, 3.8435361, -0.1708743,...   \n",
       "1  [-2.7131724, 0.058154836, 1.035877, -0.0900879...   \n",
       "2  [-12.911271, -5.808687, -1.0771756, -2.7306657...   \n",
       "3  [11.195169, 1.0260462, -5.0391245, -1.5975816,...   \n",
       "4  [-3.7510803, 0.43218327, 2.6482975, 0.04581043...   \n",
       "\n",
       "                                     mfccs_delta_std  \\\n",
       "0  [22.375574, 12.759423, 6.3385267, 2.4689703, 5...   \n",
       "1  [10.057443, 12.488094, 5.149937, 3.5408854, 3....   \n",
       "2  [20.398891, 8.515546, 4.8766475, 4.520022, 1.4...   \n",
       "3  [23.694193, 8.173781, 7.091112, 2.5993192, 7.5...   \n",
       "4  [8.79644, 11.696044, 3.5005567, 2.2668695, 3.6...   \n",
       "\n",
       "                                      combined_mfccs  \n",
       "0  [-247.32631, 102.92839, -35.27226, 36.415066, ...  \n",
       "1  [-235.68883, 101.68603, -35.80166, 34.12707, -...  \n",
       "2  [-235.04802, 160.1276, -10.184573, 26.674044, ...  \n",
       "3  [-235.00658, 123.2033, -4.968553, 33.234592, -...  \n",
       "4  [-179.97217, 108.544716, -58.19228, 31.718985,...  "
      ]
     },
     "execution_count": 9,
     "metadata": {},
     "output_type": "execute_result"
    }
   ],
   "source": [
    "# check if all correctly done\n",
    "\n",
    "features_df.head()"
   ]
  },
  {
   "cell_type": "markdown",
   "metadata": {},
   "source": [
    "**Pre-processing For CNN**"
   ]
  },
  {
   "cell_type": "code",
   "execution_count": 10,
   "metadata": {},
   "outputs": [],
   "source": [
    "def get_mel(filename):\n",
    "    \"\"\"\n",
    "    This function gives the melspectrogram and padded to a fixed dimension, which is 39. 39 frame happens to be the longest frame.\n",
    "    The spectrogram can then be used in CNN later.\n",
    "    \"\"\"\n",
    "    audio, sr = librosa.load(filename)\n",
    "    mel= librosa.feature.melspectrogram(audio, sr=sr)\n",
    "    mel = librosa.util.fix_length(mel,39)\n",
    "    return mel"
   ]
  },
  {
   "cell_type": "code",
   "execution_count": 11,
   "metadata": {},
   "outputs": [],
   "source": [
    "# apply the mel-spectrogram function to all the files\n",
    "\n",
    "features_df['mel'] = features_df['filepath'].map(get_mel)"
   ]
  },
  {
   "cell_type": "code",
   "execution_count": 12,
   "metadata": {},
   "outputs": [
    {
     "data": {
      "text/html": [
       "<div>\n",
       "<style scoped>\n",
       "    .dataframe tbody tr th:only-of-type {\n",
       "        vertical-align: middle;\n",
       "    }\n",
       "\n",
       "    .dataframe tbody tr th {\n",
       "        vertical-align: top;\n",
       "    }\n",
       "\n",
       "    .dataframe thead th {\n",
       "        text-align: right;\n",
       "    }\n",
       "</style>\n",
       "<table border=\"1\" class=\"dataframe\">\n",
       "  <thead>\n",
       "    <tr style=\"text-align: right;\">\n",
       "      <th></th>\n",
       "      <th>id</th>\n",
       "      <th>filepath</th>\n",
       "      <th>duration</th>\n",
       "      <th>class_label</th>\n",
       "      <th>mfccs_mean</th>\n",
       "      <th>mfccs_std</th>\n",
       "      <th>mfccs_delta_mean</th>\n",
       "      <th>mfccs_delta_std</th>\n",
       "      <th>combined_mfccs</th>\n",
       "      <th>mel</th>\n",
       "    </tr>\n",
       "  </thead>\n",
       "  <tbody>\n",
       "    <tr>\n",
       "      <th>0</th>\n",
       "      <td>1400066</td>\n",
       "      <td>./assets/audio_train/1400066_apples.wav</td>\n",
       "      <td>0.759320</td>\n",
       "      <td>apples</td>\n",
       "      <td>[-247.32631, 102.92839, -35.27226, 36.415066, ...</td>\n",
       "      <td>[117.973976, 74.807144, 34.97408, 15.038574, 2...</td>\n",
       "      <td>[-9.579418, -4.0737424, 3.8435361, -0.1708743,...</td>\n",
       "      <td>[22.375574, 12.759423, 6.3385267, 2.4689703, 5...</td>\n",
       "      <td>[-247.32631, 102.92839, -35.27226, 36.415066, ...</td>\n",
       "      <td>[[0.0003536803, 0.00022120043, 0.00017765928, ...</td>\n",
       "    </tr>\n",
       "    <tr>\n",
       "      <th>1</th>\n",
       "      <td>1400062</td>\n",
       "      <td>./assets/audio_train/1400062_flowers.wav</td>\n",
       "      <td>0.777324</td>\n",
       "      <td>flowers</td>\n",
       "      <td>[-235.68883, 101.68603, -35.80166, 34.12707, -...</td>\n",
       "      <td>[51.111275, 67.96506, 23.283352, 15.933792, 17...</td>\n",
       "      <td>[-2.7131724, 0.058154836, 1.035877, -0.0900879...</td>\n",
       "      <td>[10.057443, 12.488094, 5.149937, 3.5408854, 3....</td>\n",
       "      <td>[-235.68883, 101.68603, -35.80166, 34.12707, -...</td>\n",
       "      <td>[[0.0001801434, 0.00024744836, 0.00025155477, ...</td>\n",
       "    </tr>\n",
       "    <tr>\n",
       "      <th>2</th>\n",
       "      <td>1400049</td>\n",
       "      <td>./assets/audio_train/1400049_worker.wav</td>\n",
       "      <td>0.517324</td>\n",
       "      <td>worker</td>\n",
       "      <td>[-235.04802, 160.1276, -10.184573, 26.674044, ...</td>\n",
       "      <td>[80.10156, 36.065247, 28.050356, 18.52597, 23....</td>\n",
       "      <td>[-12.911271, -5.808687, -1.0771756, -2.7306657...</td>\n",
       "      <td>[20.398891, 8.515546, 4.8766475, 4.520022, 1.4...</td>\n",
       "      <td>[-235.04802, 160.1276, -10.184573, 26.674044, ...</td>\n",
       "      <td>[[0.8230274, 0.2128236, 0.0014328726, 0.000853...</td>\n",
       "    </tr>\n",
       "    <tr>\n",
       "      <th>3</th>\n",
       "      <td>1400051</td>\n",
       "      <td>./assets/audio_train/1400051_water.wav</td>\n",
       "      <td>0.480091</td>\n",
       "      <td>water</td>\n",
       "      <td>[-235.00658, 123.2033, -4.968553, 33.234592, -...</td>\n",
       "      <td>[106.4123, 33.90044, 38.776386, 15.919863, 31....</td>\n",
       "      <td>[11.195169, 1.0260462, -5.0391245, -1.5975816,...</td>\n",
       "      <td>[23.694193, 8.173781, 7.091112, 2.5993192, 7.5...</td>\n",
       "      <td>[-235.00658, 123.2033, -4.968553, 33.234592, -...</td>\n",
       "      <td>[[0.0010301938, 0.0007199413, 0.00062446395, 0...</td>\n",
       "    </tr>\n",
       "    <tr>\n",
       "      <th>4</th>\n",
       "      <td>1400049</td>\n",
       "      <td>./assets/audio_train/1400049_father.wav</td>\n",
       "      <td>0.448073</td>\n",
       "      <td>father</td>\n",
       "      <td>[-179.97217, 108.544716, -58.19228, 31.718985,...</td>\n",
       "      <td>[45.40721, 49.07983, 29.007093, 11.68762, 15.4...</td>\n",
       "      <td>[-3.7510803, 0.43218327, 2.6482975, 0.04581043...</td>\n",
       "      <td>[8.79644, 11.696044, 3.5005567, 2.2668695, 3.6...</td>\n",
       "      <td>[-179.97217, 108.544716, -58.19228, 31.718985,...</td>\n",
       "      <td>[[0.0032865647, 0.0017178097, 0.0007647522, 0....</td>\n",
       "    </tr>\n",
       "  </tbody>\n",
       "</table>\n",
       "</div>"
      ],
      "text/plain": [
       "        id                                  filepath  duration class_label  \\\n",
       "0  1400066   ./assets/audio_train/1400066_apples.wav  0.759320      apples   \n",
       "1  1400062  ./assets/audio_train/1400062_flowers.wav  0.777324     flowers   \n",
       "2  1400049   ./assets/audio_train/1400049_worker.wav  0.517324      worker   \n",
       "3  1400051    ./assets/audio_train/1400051_water.wav  0.480091       water   \n",
       "4  1400049   ./assets/audio_train/1400049_father.wav  0.448073      father   \n",
       "\n",
       "                                          mfccs_mean  \\\n",
       "0  [-247.32631, 102.92839, -35.27226, 36.415066, ...   \n",
       "1  [-235.68883, 101.68603, -35.80166, 34.12707, -...   \n",
       "2  [-235.04802, 160.1276, -10.184573, 26.674044, ...   \n",
       "3  [-235.00658, 123.2033, -4.968553, 33.234592, -...   \n",
       "4  [-179.97217, 108.544716, -58.19228, 31.718985,...   \n",
       "\n",
       "                                           mfccs_std  \\\n",
       "0  [117.973976, 74.807144, 34.97408, 15.038574, 2...   \n",
       "1  [51.111275, 67.96506, 23.283352, 15.933792, 17...   \n",
       "2  [80.10156, 36.065247, 28.050356, 18.52597, 23....   \n",
       "3  [106.4123, 33.90044, 38.776386, 15.919863, 31....   \n",
       "4  [45.40721, 49.07983, 29.007093, 11.68762, 15.4...   \n",
       "\n",
       "                                    mfccs_delta_mean  \\\n",
       "0  [-9.579418, -4.0737424, 3.8435361, -0.1708743,...   \n",
       "1  [-2.7131724, 0.058154836, 1.035877, -0.0900879...   \n",
       "2  [-12.911271, -5.808687, -1.0771756, -2.7306657...   \n",
       "3  [11.195169, 1.0260462, -5.0391245, -1.5975816,...   \n",
       "4  [-3.7510803, 0.43218327, 2.6482975, 0.04581043...   \n",
       "\n",
       "                                     mfccs_delta_std  \\\n",
       "0  [22.375574, 12.759423, 6.3385267, 2.4689703, 5...   \n",
       "1  [10.057443, 12.488094, 5.149937, 3.5408854, 3....   \n",
       "2  [20.398891, 8.515546, 4.8766475, 4.520022, 1.4...   \n",
       "3  [23.694193, 8.173781, 7.091112, 2.5993192, 7.5...   \n",
       "4  [8.79644, 11.696044, 3.5005567, 2.2668695, 3.6...   \n",
       "\n",
       "                                      combined_mfccs  \\\n",
       "0  [-247.32631, 102.92839, -35.27226, 36.415066, ...   \n",
       "1  [-235.68883, 101.68603, -35.80166, 34.12707, -...   \n",
       "2  [-235.04802, 160.1276, -10.184573, 26.674044, ...   \n",
       "3  [-235.00658, 123.2033, -4.968553, 33.234592, -...   \n",
       "4  [-179.97217, 108.544716, -58.19228, 31.718985,...   \n",
       "\n",
       "                                                 mel  \n",
       "0  [[0.0003536803, 0.00022120043, 0.00017765928, ...  \n",
       "1  [[0.0001801434, 0.00024744836, 0.00025155477, ...  \n",
       "2  [[0.8230274, 0.2128236, 0.0014328726, 0.000853...  \n",
       "3  [[0.0010301938, 0.0007199413, 0.00062446395, 0...  \n",
       "4  [[0.0032865647, 0.0017178097, 0.0007647522, 0....  "
      ]
     },
     "execution_count": 12,
     "metadata": {},
     "output_type": "execute_result"
    }
   ],
   "source": [
    "# check if successful\n",
    "\n",
    "features_df.head()"
   ]
  },
  {
   "cell_type": "markdown",
   "metadata": {},
   "source": [
    "\n",
    "## 4. Modelling"
   ]
  },
  {
   "cell_type": "markdown",
   "metadata": {},
   "source": [
    "Model 1: Vanilla Base-line model\n",
    "\n",
    "FNN with MFCCS mean\n",
    "Dimension = 40\n",
    "layers = 2"
   ]
  },
  {
   "cell_type": "code",
   "execution_count": 12,
   "metadata": {},
   "outputs": [],
   "source": [
    "X = features_df['mfccs_mean']"
   ]
  },
  {
   "cell_type": "code",
   "execution_count": 13,
   "metadata": {},
   "outputs": [],
   "source": [
    "X = np.array(X.tolist())"
   ]
  },
  {
   "cell_type": "code",
   "execution_count": 14,
   "metadata": {},
   "outputs": [],
   "source": [
    "le = LabelEncoder()\n",
    "y = to_categorical(le.fit_transform(features_df['class_label'].tolist()))\n",
    "y = np.array(y)"
   ]
  },
  {
   "cell_type": "code",
   "execution_count": 15,
   "metadata": {},
   "outputs": [],
   "source": [
    "X_train, X_test, y_train, y_test = train_test_split(X, y, test_size = 0.2, random_state = 42, stratify = y)"
   ]
  },
  {
   "cell_type": "code",
   "execution_count": 16,
   "metadata": {},
   "outputs": [
    {
     "data": {
      "text/plain": [
       "(111, 40)"
      ]
     },
     "execution_count": 16,
     "metadata": {},
     "output_type": "execute_result"
    }
   ],
   "source": [
    "X_test.shape"
   ]
  },
  {
   "cell_type": "code",
   "execution_count": 17,
   "metadata": {},
   "outputs": [],
   "source": [
    "model = Sequential()\n",
    "model.add(Dense(64, activation='relu', input_shape=(40,)))\n",
    "model.add(Dense(64, activation='relu'))\n",
    "model.add(Dense(5, activation='softmax'))"
   ]
  },
  {
   "cell_type": "code",
   "execution_count": 18,
   "metadata": {},
   "outputs": [],
   "source": [
    "model.compile(loss='categorical_crossentropy', optimizer='adam', metrics = ['accuracy'])"
   ]
  },
  {
   "cell_type": "code",
   "execution_count": 19,
   "metadata": {},
   "outputs": [
    {
     "name": "stdout",
     "output_type": "stream",
     "text": [
      "Model: \"sequential_1\"\n",
      "_________________________________________________________________\n",
      "Layer (type)                 Output Shape              Param #   \n",
      "=================================================================\n",
      "dense_1 (Dense)              (None, 64)                2624      \n",
      "_________________________________________________________________\n",
      "dense_2 (Dense)              (None, 64)                4160      \n",
      "_________________________________________________________________\n",
      "dense_3 (Dense)              (None, 5)                 325       \n",
      "=================================================================\n",
      "Total params: 7,109\n",
      "Trainable params: 7,109\n",
      "Non-trainable params: 0\n",
      "_________________________________________________________________\n"
     ]
    }
   ],
   "source": [
    "model.summary()"
   ]
  },
  {
   "cell_type": "code",
   "execution_count": 20,
   "metadata": {
    "scrolled": true
   },
   "outputs": [
    {
     "name": "stdout",
     "output_type": "stream",
     "text": [
      "Train on 442 samples, validate on 111 samples\n",
      "Epoch 1/50\n",
      " - 0s - loss: 7.5980 - accuracy: 0.2602 - val_loss: 4.0129 - val_accuracy: 0.2883\n",
      "Epoch 2/50\n",
      " - 0s - loss: 2.6617 - accuracy: 0.3801 - val_loss: 2.0647 - val_accuracy: 0.4234\n",
      "Epoch 3/50\n",
      " - 0s - loss: 1.6951 - accuracy: 0.5000 - val_loss: 1.3544 - val_accuracy: 0.5495\n",
      "Epoch 4/50\n",
      " - 0s - loss: 1.2895 - accuracy: 0.5633 - val_loss: 1.3898 - val_accuracy: 0.5495\n",
      "Epoch 5/50\n",
      " - 0s - loss: 1.1644 - accuracy: 0.6267 - val_loss: 1.2498 - val_accuracy: 0.5856\n",
      "Epoch 6/50\n",
      " - 0s - loss: 1.0718 - accuracy: 0.6312 - val_loss: 1.2593 - val_accuracy: 0.6036\n",
      "Epoch 7/50\n",
      " - 0s - loss: 0.9773 - accuracy: 0.6448 - val_loss: 1.2449 - val_accuracy: 0.5676\n",
      "Epoch 8/50\n",
      " - 0s - loss: 0.8872 - accuracy: 0.6765 - val_loss: 1.1359 - val_accuracy: 0.6306\n",
      "Epoch 9/50\n",
      " - 0s - loss: 0.8304 - accuracy: 0.6946 - val_loss: 1.3102 - val_accuracy: 0.6126\n",
      "Epoch 10/50\n",
      " - 0s - loss: 0.8441 - accuracy: 0.6991 - val_loss: 1.1075 - val_accuracy: 0.6396\n",
      "Epoch 11/50\n",
      " - 0s - loss: 0.7582 - accuracy: 0.7398 - val_loss: 1.1292 - val_accuracy: 0.6216\n",
      "Epoch 12/50\n",
      " - 0s - loss: 0.6759 - accuracy: 0.7738 - val_loss: 1.1197 - val_accuracy: 0.5676\n",
      "Epoch 13/50\n",
      " - 0s - loss: 0.6863 - accuracy: 0.7489 - val_loss: 1.0724 - val_accuracy: 0.6306\n",
      "Epoch 14/50\n",
      " - 0s - loss: 0.5966 - accuracy: 0.7738 - val_loss: 1.0115 - val_accuracy: 0.6847\n",
      "Epoch 15/50\n",
      " - 0s - loss: 0.5499 - accuracy: 0.7986 - val_loss: 1.0693 - val_accuracy: 0.6306\n",
      "Epoch 16/50\n",
      " - 0s - loss: 0.5723 - accuracy: 0.8009 - val_loss: 1.0358 - val_accuracy: 0.6486\n",
      "Epoch 17/50\n",
      " - 0s - loss: 0.5413 - accuracy: 0.7986 - val_loss: 1.0612 - val_accuracy: 0.6396\n",
      "Epoch 18/50\n",
      " - 0s - loss: 0.5093 - accuracy: 0.8009 - val_loss: 1.0950 - val_accuracy: 0.6577\n",
      "Epoch 19/50\n",
      " - 0s - loss: 0.5378 - accuracy: 0.8032 - val_loss: 1.0516 - val_accuracy: 0.6577\n",
      "Epoch 20/50\n",
      " - 0s - loss: 0.4403 - accuracy: 0.8416 - val_loss: 1.0548 - val_accuracy: 0.6667\n",
      "Epoch 21/50\n",
      " - 0s - loss: 0.4064 - accuracy: 0.8688 - val_loss: 0.9961 - val_accuracy: 0.6667\n",
      "Epoch 22/50\n",
      " - 0s - loss: 0.4253 - accuracy: 0.8484 - val_loss: 1.1604 - val_accuracy: 0.5856\n",
      "Epoch 23/50\n",
      " - 0s - loss: 0.4284 - accuracy: 0.8529 - val_loss: 1.0386 - val_accuracy: 0.6577\n",
      "Epoch 24/50\n",
      " - 0s - loss: 0.4238 - accuracy: 0.8439 - val_loss: 1.0638 - val_accuracy: 0.6577\n",
      "Epoch 25/50\n",
      " - 0s - loss: 0.3677 - accuracy: 0.8665 - val_loss: 1.0438 - val_accuracy: 0.6667\n",
      "Epoch 26/50\n",
      " - 0s - loss: 0.3698 - accuracy: 0.8756 - val_loss: 0.9757 - val_accuracy: 0.6847\n",
      "Epoch 27/50\n",
      " - 0s - loss: 0.3425 - accuracy: 0.8597 - val_loss: 1.1276 - val_accuracy: 0.6306\n",
      "Epoch 28/50\n",
      " - 0s - loss: 0.3483 - accuracy: 0.8778 - val_loss: 1.0489 - val_accuracy: 0.6667\n",
      "Epoch 29/50\n",
      " - 0s - loss: 0.3227 - accuracy: 0.8914 - val_loss: 1.1443 - val_accuracy: 0.6486\n",
      "Epoch 30/50\n",
      " - 0s - loss: 0.2944 - accuracy: 0.9027 - val_loss: 1.0772 - val_accuracy: 0.6577\n",
      "Epoch 31/50\n",
      " - 0s - loss: 0.3180 - accuracy: 0.8869 - val_loss: 1.1084 - val_accuracy: 0.6577\n",
      "Epoch 32/50\n",
      " - 0s - loss: 0.2908 - accuracy: 0.9186 - val_loss: 1.0681 - val_accuracy: 0.6847\n",
      "Epoch 33/50\n",
      " - 0s - loss: 0.2635 - accuracy: 0.9208 - val_loss: 1.0835 - val_accuracy: 0.6757\n",
      "Epoch 34/50\n",
      " - 0s - loss: 0.2637 - accuracy: 0.9208 - val_loss: 1.0612 - val_accuracy: 0.6757\n",
      "Epoch 35/50\n",
      " - 0s - loss: 0.2630 - accuracy: 0.9163 - val_loss: 1.0601 - val_accuracy: 0.6577\n",
      "Epoch 36/50\n",
      " - 0s - loss: 0.2548 - accuracy: 0.9208 - val_loss: 1.1323 - val_accuracy: 0.6577\n",
      "Epoch 37/50\n",
      " - 0s - loss: 0.2562 - accuracy: 0.9140 - val_loss: 1.2381 - val_accuracy: 0.6306\n",
      "Epoch 38/50\n",
      " - 0s - loss: 0.2836 - accuracy: 0.8914 - val_loss: 1.0926 - val_accuracy: 0.6126\n",
      "Epoch 39/50\n",
      " - 0s - loss: 0.2797 - accuracy: 0.8914 - val_loss: 1.2505 - val_accuracy: 0.6486\n",
      "Epoch 40/50\n",
      " - 0s - loss: 0.2592 - accuracy: 0.9163 - val_loss: 1.2013 - val_accuracy: 0.6847\n",
      "Epoch 41/50\n",
      " - 0s - loss: 0.2863 - accuracy: 0.9027 - val_loss: 1.2182 - val_accuracy: 0.6577\n",
      "Epoch 42/50\n",
      " - 0s - loss: 0.2650 - accuracy: 0.9072 - val_loss: 1.1378 - val_accuracy: 0.6757\n",
      "Epoch 43/50\n",
      " - 0s - loss: 0.2262 - accuracy: 0.9344 - val_loss: 1.1402 - val_accuracy: 0.6486\n",
      "Epoch 44/50\n",
      " - 0s - loss: 0.2205 - accuracy: 0.9299 - val_loss: 1.2223 - val_accuracy: 0.6577\n",
      "Epoch 45/50\n",
      " - 0s - loss: 0.2293 - accuracy: 0.9231 - val_loss: 1.2394 - val_accuracy: 0.6757\n",
      "Epoch 46/50\n",
      " - 0s - loss: 0.2171 - accuracy: 0.9321 - val_loss: 1.1938 - val_accuracy: 0.6577\n",
      "Epoch 47/50\n",
      " - 0s - loss: 0.2267 - accuracy: 0.9276 - val_loss: 1.1897 - val_accuracy: 0.6577\n",
      "Epoch 48/50\n",
      " - 0s - loss: 0.2132 - accuracy: 0.9389 - val_loss: 1.2789 - val_accuracy: 0.6667\n",
      "Epoch 49/50\n",
      " - 0s - loss: 0.2163 - accuracy: 0.9299 - val_loss: 1.2541 - val_accuracy: 0.6486\n",
      "Epoch 50/50\n",
      " - 0s - loss: 0.1762 - accuracy: 0.9412 - val_loss: 1.2562 - val_accuracy: 0.6667\n"
     ]
    }
   ],
   "source": [
    "history = model.fit(X_train, y_train, validation_data=(X_test, y_test), batch_size=32, epochs = 50, verbose=2)"
   ]
  },
  {
   "cell_type": "code",
   "execution_count": 21,
   "metadata": {
    "scrolled": true
   },
   "outputs": [
    {
     "data": {
      "text/plain": [
       "<matplotlib.legend.Legend at 0x2165b016048>"
      ]
     },
     "execution_count": 21,
     "metadata": {},
     "output_type": "execute_result"
    },
    {
     "data": {
      "image/png": "[encoded data removed]",
      "text/plain": [
       "<Figure size 432x288 with 1 Axes>"
      ]
     },
     "metadata": {
      "needs_background": "light"
     },
     "output_type": "display_data"
    }
   ],
   "source": [
    "plt.plot(history.history['loss'], label = ' Training Loss')\n",
    "plt.plot(history.history['val_loss'], label = ' Test Loss')\n",
    "plt.legend()"
   ]
  },
  {
   "cell_type": "code",
   "execution_count": 22,
   "metadata": {},
   "outputs": [
    {
     "data": {
      "text/plain": [
       "<matplotlib.legend.Legend at 0x21770607da0>"
      ]
     },
     "execution_count": 22,
     "metadata": {},
     "output_type": "execute_result"
    },
    {
     "data": {
      "image/png": "[encoded data removed]",
      "text/plain": [
       "<Figure size 432x288 with 1 Axes>"
      ]
     },
     "metadata": {
      "needs_background": "light"
     },
     "output_type": "display_data"
    }
   ],
   "source": [
    "plt.plot(history.history['accuracy'], label = ' Training Accuracy')\n",
    "plt.plot(history.history['val_accuracy'], label = ' Test Accuracy')\n",
    "plt.legend()"
   ]
  },
  {
   "cell_type": "code",
   "execution_count": 23,
   "metadata": {},
   "outputs": [
    {
     "name": "stdout",
     "output_type": "stream",
     "text": [
      "111/111 [==============================] - 0s 45us/step\n"
     ]
    }
   ],
   "source": [
    "model_eval = model.evaluate(X_test,y_test, verbose=1)\n",
    "model_metrics = model.metrics_names"
   ]
  },
  {
   "cell_type": "markdown",
   "metadata": {},
   "source": [
    "Model 2\n",
    "\n",
    "Classifier: FNN\n",
    "Features: 40 coef * 4 indicators (mean and std, delta mean delta std)\n",
    "dimension 160\n"
   ]
  },
  {
   "cell_type": "code",
   "execution_count": 13,
   "metadata": {},
   "outputs": [],
   "source": [
    "X = np.array(features_df['combined_mfccs'].tolist())\n",
    "le = LabelEncoder()\n",
    "y = to_categorical(le.fit_transform(features_df['class_label'].tolist()))\n",
    "y = np.array(y)"
   ]
  },
  {
   "cell_type": "code",
   "execution_count": 14,
   "metadata": {},
   "outputs": [],
   "source": [
    "X_train_2, X_test_2, y_train, y_test = train_test_split(X, y, test_size = 0.2, random_state = 42, stratify = y)"
   ]
  },
  {
   "cell_type": "code",
   "execution_count": 15,
   "metadata": {},
   "outputs": [],
   "source": [
    "ss = StandardScaler()\n",
    "X_train_2 = ss.fit_transform(X_train_2)\n",
    "X_test_2 = ss.transform(X_test_2)"
   ]
  },
  {
   "cell_type": "code",
   "execution_count": null,
   "metadata": {},
   "outputs": [],
   "source": []
  },
  {
   "cell_type": "code",
   "execution_count": 16,
   "metadata": {},
   "outputs": [],
   "source": [
    "model2 = Sequential()\n",
    "model2.add(Dense(64, activation='relu', input_shape=(160,)))\n",
    "model2.add(Dense(64, activation='relu'))\n",
    "model2.add(Dense(5, activation='softmax'))"
   ]
  },
  {
   "cell_type": "code",
   "execution_count": 17,
   "metadata": {},
   "outputs": [],
   "source": [
    "model2.compile(loss='categorical_crossentropy', optimizer='adam', metrics = ['accuracy'])"
   ]
  },
  {
   "cell_type": "code",
   "execution_count": 19,
   "metadata": {
    "scrolled": true
   },
   "outputs": [
    {
     "name": "stdout",
     "output_type": "stream",
     "text": [
      "Epoch 1/50\n",
      "14/14 - 0s - loss: 1.4621 - accuracy: 0.3824 - val_loss: 1.1793 - val_accuracy: 0.6216\n",
      "Epoch 2/50\n",
      "14/14 - 0s - loss: 0.9219 - accuracy: 0.7466 - val_loss: 0.8509 - val_accuracy: 0.7748\n",
      "Epoch 3/50\n",
      "14/14 - 0s - loss: 0.5975 - accuracy: 0.8710 - val_loss: 0.5694 - val_accuracy: 0.8829\n",
      "Epoch 4/50\n",
      "14/14 - 0s - loss: 0.3767 - accuracy: 0.9321 - val_loss: 0.3938 - val_accuracy: 0.9189\n",
      "Epoch 5/50\n",
      "14/14 - 0s - loss: 0.2347 - accuracy: 0.9729 - val_loss: 0.2875 - val_accuracy: 0.9459\n",
      "Epoch 6/50\n",
      "14/14 - 0s - loss: 0.1502 - accuracy: 0.9796 - val_loss: 0.2264 - val_accuracy: 0.9550\n",
      "Epoch 7/50\n",
      "14/14 - 0s - loss: 0.1002 - accuracy: 0.9932 - val_loss: 0.1935 - val_accuracy: 0.9550\n",
      "Epoch 8/50\n",
      "14/14 - 0s - loss: 0.0708 - accuracy: 0.9977 - val_loss: 0.1674 - val_accuracy: 0.9820\n",
      "Epoch 9/50\n",
      "14/14 - 0s - loss: 0.0518 - accuracy: 1.0000 - val_loss: 0.1496 - val_accuracy: 0.9640\n",
      "Epoch 10/50\n",
      "14/14 - 0s - loss: 0.0392 - accuracy: 1.0000 - val_loss: 0.1371 - val_accuracy: 0.9640\n",
      "Epoch 11/50\n",
      "14/14 - 0s - loss: 0.0308 - accuracy: 1.0000 - val_loss: 0.1270 - val_accuracy: 0.9820\n",
      "Epoch 12/50\n",
      "14/14 - 0s - loss: 0.0247 - accuracy: 1.0000 - val_loss: 0.1196 - val_accuracy: 0.9730\n",
      "Epoch 13/50\n",
      "14/14 - 0s - loss: 0.0201 - accuracy: 1.0000 - val_loss: 0.1145 - val_accuracy: 0.9730\n",
      "Epoch 14/50\n",
      "14/14 - 0s - loss: 0.0170 - accuracy: 1.0000 - val_loss: 0.1078 - val_accuracy: 0.9730\n",
      "Epoch 15/50\n",
      "14/14 - 0s - loss: 0.0142 - accuracy: 1.0000 - val_loss: 0.1044 - val_accuracy: 0.9730\n",
      "Epoch 16/50\n",
      "14/14 - 0s - loss: 0.0122 - accuracy: 1.0000 - val_loss: 0.1009 - val_accuracy: 0.9730\n",
      "Epoch 17/50\n",
      "14/14 - 0s - loss: 0.0107 - accuracy: 1.0000 - val_loss: 0.0978 - val_accuracy: 0.9730\n",
      "Epoch 18/50\n",
      "14/14 - 0s - loss: 0.0094 - accuracy: 1.0000 - val_loss: 0.0951 - val_accuracy: 0.9730\n",
      "Epoch 19/50\n",
      "14/14 - 0s - loss: 0.0083 - accuracy: 1.0000 - val_loss: 0.0921 - val_accuracy: 0.9730\n",
      "Epoch 20/50\n",
      "14/14 - 0s - loss: 0.0074 - accuracy: 1.0000 - val_loss: 0.0908 - val_accuracy: 0.9730\n",
      "Epoch 21/50\n",
      "14/14 - 0s - loss: 0.0066 - accuracy: 1.0000 - val_loss: 0.0892 - val_accuracy: 0.9730\n",
      "Epoch 22/50\n",
      "14/14 - 0s - loss: 0.0059 - accuracy: 1.0000 - val_loss: 0.0876 - val_accuracy: 0.9640\n",
      "Epoch 23/50\n",
      "14/14 - 0s - loss: 0.0054 - accuracy: 1.0000 - val_loss: 0.0859 - val_accuracy: 0.9640\n",
      "Epoch 24/50\n",
      "14/14 - 0s - loss: 0.0049 - accuracy: 1.0000 - val_loss: 0.0846 - val_accuracy: 0.9640\n",
      "Epoch 25/50\n",
      "14/14 - 0s - loss: 0.0045 - accuracy: 1.0000 - val_loss: 0.0833 - val_accuracy: 0.9640\n",
      "Epoch 26/50\n",
      "14/14 - 0s - loss: 0.0041 - accuracy: 1.0000 - val_loss: 0.0824 - val_accuracy: 0.9640\n",
      "Epoch 27/50\n",
      "14/14 - 0s - loss: 0.0038 - accuracy: 1.0000 - val_loss: 0.0817 - val_accuracy: 0.9640\n",
      "Epoch 28/50\n",
      "14/14 - 0s - loss: 0.0035 - accuracy: 1.0000 - val_loss: 0.0807 - val_accuracy: 0.9640\n",
      "Epoch 29/50\n",
      "14/14 - 0s - loss: 0.0032 - accuracy: 1.0000 - val_loss: 0.0798 - val_accuracy: 0.9640\n",
      "Epoch 30/50\n",
      "14/14 - 0s - loss: 0.0030 - accuracy: 1.0000 - val_loss: 0.0791 - val_accuracy: 0.9640\n",
      "Epoch 31/50\n",
      "14/14 - 0s - loss: 0.0028 - accuracy: 1.0000 - val_loss: 0.0787 - val_accuracy: 0.9640\n",
      "Epoch 32/50\n",
      "14/14 - 0s - loss: 0.0026 - accuracy: 1.0000 - val_loss: 0.0779 - val_accuracy: 0.9640\n",
      "Epoch 33/50\n",
      "14/14 - 0s - loss: 0.0024 - accuracy: 1.0000 - val_loss: 0.0772 - val_accuracy: 0.9640\n",
      "Epoch 34/50\n",
      "14/14 - 0s - loss: 0.0023 - accuracy: 1.0000 - val_loss: 0.0771 - val_accuracy: 0.9640\n",
      "Epoch 35/50\n",
      "14/14 - 0s - loss: 0.0022 - accuracy: 1.0000 - val_loss: 0.0765 - val_accuracy: 0.9640\n",
      "Epoch 36/50\n",
      "14/14 - 0s - loss: 0.0020 - accuracy: 1.0000 - val_loss: 0.0759 - val_accuracy: 0.9640\n",
      "Epoch 37/50\n",
      "14/14 - 0s - loss: 0.0019 - accuracy: 1.0000 - val_loss: 0.0756 - val_accuracy: 0.9640\n",
      "Epoch 38/50\n",
      "14/14 - 0s - loss: 0.0018 - accuracy: 1.0000 - val_loss: 0.0753 - val_accuracy: 0.9640\n",
      "Epoch 39/50\n",
      "14/14 - 0s - loss: 0.0017 - accuracy: 1.0000 - val_loss: 0.0748 - val_accuracy: 0.9640\n",
      "Epoch 40/50\n",
      "14/14 - 0s - loss: 0.0016 - accuracy: 1.0000 - val_loss: 0.0745 - val_accuracy: 0.9640\n",
      "Epoch 41/50\n",
      "14/14 - 0s - loss: 0.0015 - accuracy: 1.0000 - val_loss: 0.0745 - val_accuracy: 0.9550\n",
      "Epoch 42/50\n",
      "14/14 - 0s - loss: 0.0015 - accuracy: 1.0000 - val_loss: 0.0742 - val_accuracy: 0.9550\n",
      "Epoch 43/50\n",
      "14/14 - 0s - loss: 0.0014 - accuracy: 1.0000 - val_loss: 0.0738 - val_accuracy: 0.9550\n",
      "Epoch 44/50\n",
      "14/14 - 0s - loss: 0.0013 - accuracy: 1.0000 - val_loss: 0.0736 - val_accuracy: 0.9550\n",
      "Epoch 45/50\n",
      "14/14 - 0s - loss: 0.0013 - accuracy: 1.0000 - val_loss: 0.0732 - val_accuracy: 0.9550\n",
      "Epoch 46/50\n",
      "14/14 - 0s - loss: 0.0012 - accuracy: 1.0000 - val_loss: 0.0732 - val_accuracy: 0.9550\n",
      "Epoch 47/50\n",
      "14/14 - 0s - loss: 0.0012 - accuracy: 1.0000 - val_loss: 0.0731 - val_accuracy: 0.9550\n",
      "Epoch 48/50\n",
      "14/14 - 0s - loss: 0.0011 - accuracy: 1.0000 - val_loss: 0.0727 - val_accuracy: 0.9550\n",
      "Epoch 49/50\n",
      "14/14 - 0s - loss: 0.0011 - accuracy: 1.0000 - val_loss: 0.0727 - val_accuracy: 0.9550\n",
      "Epoch 50/50\n",
      "14/14 - 0s - loss: 0.0010 - accuracy: 1.0000 - val_loss: 0.0725 - val_accuracy: 0.9550\n"
     ]
    }
   ],
   "source": [
    "history = model2.fit(X_train_2, y_train, validation_data=(X_test_2, y_test), batch_size=32, epochs = 50, verbose=2)"
   ]
  },
  {
   "cell_type": "code",
   "execution_count": 20,
   "metadata": {
    "scrolled": false
   },
   "outputs": [
    {
     "data": {
      "text/plain": [
       "<matplotlib.legend.Legend at 0x1f90ef70910>"
      ]
     },
     "execution_count": 20,
     "metadata": {},
     "output_type": "execute_result"
    },
    {
     "data": {
      "image/png": "[encoded data removed]",
      "text/plain": [
       "<Figure size 432x288 with 1 Axes>"
      ]
     },
     "metadata": {
      "needs_background": "light"
     },
     "output_type": "display_data"
    }
   ],
   "source": [
    "plt.plot(history.history['loss'], label = ' Training Loss')\n",
    "plt.plot(history.history['val_loss'], label = ' Test Loss')\n",
    "plt.legend()"
   ]
  },
  {
   "cell_type": "code",
   "execution_count": 21,
   "metadata": {},
   "outputs": [
    {
     "data": {
      "text/plain": [
       "<matplotlib.legend.Legend at 0x1f9126dcbb0>"
      ]
     },
     "execution_count": 21,
     "metadata": {},
     "output_type": "execute_result"
    },
    {
     "data": {
      "image/png": "[encoded data removed]",
      "text/plain": [
       "<Figure size 432x288 with 1 Axes>"
      ]
     },
     "metadata": {
      "needs_background": "light"
     },
     "output_type": "display_data"
    }
   ],
   "source": [
    "plt.plot(history.history['accuracy'], label = ' Training Accuracy')\n",
    "plt.plot(history.history['val_accuracy'], label = ' Test Accuracy')\n",
    "plt.legend()"
   ]
  },
  {
   "cell_type": "code",
   "execution_count": 22,
   "metadata": {},
   "outputs": [
    {
     "name": "stdout",
     "output_type": "stream",
     "text": [
      "4/4 [==============================] - 0s 1ms/step - loss: 0.0725 - accuracy: 0.9550\n"
     ]
    }
   ],
   "source": [
    "model2_eval = model2.evaluate(X_test_2,y_test, verbose=1)\n",
    "model2_metrics = model2.metrics_names"
   ]
  },
  {
   "cell_type": "markdown",
   "metadata": {},
   "source": [
    "**CNN**\n",
    "\n",
    "model 3:\n",
    "\n",
    "classifier: CNN 2D\n",
    "\n",
    "Features: mel spectrogram, padded until 39 sequence (128, 39)"
   ]
  },
  {
   "cell_type": "code",
   "execution_count": 34,
   "metadata": {},
   "outputs": [],
   "source": [
    "X = np.array(features_df['mel'].tolist())"
   ]
  },
  {
   "cell_type": "code",
   "execution_count": 35,
   "metadata": {},
   "outputs": [
    {
     "data": {
      "text/plain": [
       "(553, 128, 39)"
      ]
     },
     "execution_count": 35,
     "metadata": {},
     "output_type": "execute_result"
    }
   ],
   "source": [
    "X.shape"
   ]
  },
  {
   "cell_type": "code",
   "execution_count": 36,
   "metadata": {},
   "outputs": [],
   "source": [
    "le = LabelEncoder()\n",
    "y = to_categorical(le.fit_transform(features_df['class_label'].tolist()))\n",
    "y = np.array(y)"
   ]
  },
  {
   "cell_type": "code",
   "execution_count": 37,
   "metadata": {},
   "outputs": [
    {
     "data": {
      "text/plain": [
       "(553, 128, 39)"
      ]
     },
     "execution_count": 37,
     "metadata": {},
     "output_type": "execute_result"
    }
   ],
   "source": [
    "X.shape"
   ]
  },
  {
   "cell_type": "code",
   "execution_count": 38,
   "metadata": {},
   "outputs": [],
   "source": [
    "X_train_3, X_test_3, y_train, y_test = train_test_split(X, y, test_size = 0.2, random_state = 42, stratify = y)"
   ]
  },
  {
   "cell_type": "code",
   "execution_count": 39,
   "metadata": {},
   "outputs": [
    {
     "data": {
      "text/plain": [
       "(442, 128, 39)"
      ]
     },
     "execution_count": 39,
     "metadata": {},
     "output_type": "execute_result"
    }
   ],
   "source": [
    "X_train_3.shape"
   ]
  },
  {
   "cell_type": "code",
   "execution_count": 40,
   "metadata": {},
   "outputs": [],
   "source": [
    "X_train_3 = X_train_3.reshape(X_train_3.shape[0], 128, 39, 1)\n",
    "X_test_3 = X_test_3.reshape(X_test_3.shape[0], 128, 39, 1)"
   ]
  },
  {
   "cell_type": "code",
   "execution_count": 41,
   "metadata": {},
   "outputs": [],
   "source": [
    "model3 = Sequential()\n",
    "model3.add(Conv2D(filters = 6, kernel_size=3, activation = 'relu', input_shape = (128,39,1), padding = 'same'))\n",
    "model3.add(MaxPooling2D(pool_size= (2,2), padding='same'))\n",
    "model3.add(Conv2D(32, kernel_size=3, activation='relu'))\n",
    "model3.add(MaxPooling2D(pool_size=(2,2), padding='same'))\n",
    "model3.add(Flatten())\n",
    "model3.add(Dense(64, activation = 'relu'))\n",
    "model3.add(Dense(32, activation = 'relu'))\n",
    "model3.add(Dense(5, activation = 'softmax'))"
   ]
  },
  {
   "cell_type": "code",
   "execution_count": 42,
   "metadata": {},
   "outputs": [],
   "source": [
    "model3.compile(loss='categorical_crossentropy',\n",
    "                  optimizer='adam',\n",
    "                  metrics=['accuracy'])"
   ]
  },
  {
   "cell_type": "code",
   "execution_count": 43,
   "metadata": {
    "scrolled": true
   },
   "outputs": [
    {
     "name": "stdout",
     "output_type": "stream",
     "text": [
      "Model: \"sequential_3\"\n",
      "_________________________________________________________________\n",
      "Layer (type)                 Output Shape              Param #   \n",
      "=================================================================\n",
      "conv2d_1 (Conv2D)            (None, 128, 39, 6)        60        \n",
      "_________________________________________________________________\n",
      "max_pooling2d_1 (MaxPooling2 (None, 64, 20, 6)         0         \n",
      "_________________________________________________________________\n",
      "conv2d_2 (Conv2D)            (None, 62, 18, 32)        1760      \n",
      "_________________________________________________________________\n",
      "max_pooling2d_2 (MaxPooling2 (None, 31, 9, 32)         0         \n",
      "_________________________________________________________________\n",
      "flatten_1 (Flatten)          (None, 8928)              0         \n",
      "_________________________________________________________________\n",
      "dense_7 (Dense)              (None, 64)                571456    \n",
      "_________________________________________________________________\n",
      "dense_8 (Dense)              (None, 32)                2080      \n",
      "_________________________________________________________________\n",
      "dense_9 (Dense)              (None, 5)                 165       \n",
      "=================================================================\n",
      "Total params: 575,521\n",
      "Trainable params: 575,521\n",
      "Non-trainable params: 0\n",
      "_________________________________________________________________\n"
     ]
    }
   ],
   "source": [
    "model3.summary()"
   ]
  },
  {
   "cell_type": "code",
   "execution_count": 44,
   "metadata": {
    "scrolled": true
   },
   "outputs": [
    {
     "name": "stdout",
     "output_type": "stream",
     "text": [
      "Train on 442 samples, validate on 111 samples\n",
      "Epoch 1/100\n",
      " - 1s - loss: 5.5851 - accuracy: 0.4299 - val_loss: 3.1161 - val_accuracy: 0.5405\n",
      "Epoch 2/100\n",
      " - 0s - loss: 1.5102 - accuracy: 0.6652 - val_loss: 1.2317 - val_accuracy: 0.6396\n",
      "Epoch 3/100\n",
      " - 0s - loss: 0.5517 - accuracy: 0.8122 - val_loss: 1.0088 - val_accuracy: 0.7387\n",
      "Epoch 4/100\n",
      " - 0s - loss: 0.3037 - accuracy: 0.8914 - val_loss: 0.7912 - val_accuracy: 0.7297\n",
      "Epoch 5/100\n",
      " - 0s - loss: 0.1838 - accuracy: 0.9480 - val_loss: 0.6646 - val_accuracy: 0.7297\n",
      "Epoch 6/100\n",
      " - 0s - loss: 0.1313 - accuracy: 0.9615 - val_loss: 0.7039 - val_accuracy: 0.7477\n",
      "Epoch 7/100\n",
      " - 0s - loss: 0.1045 - accuracy: 0.9774 - val_loss: 0.7994 - val_accuracy: 0.7297\n",
      "Epoch 8/100\n",
      " - 0s - loss: 0.0753 - accuracy: 0.9932 - val_loss: 0.6703 - val_accuracy: 0.7928\n",
      "Epoch 9/100\n",
      " - 0s - loss: 0.0563 - accuracy: 0.9910 - val_loss: 0.7404 - val_accuracy: 0.8018\n",
      "Epoch 10/100\n",
      " - 0s - loss: 0.0407 - accuracy: 1.0000 - val_loss: 0.6855 - val_accuracy: 0.7928\n",
      "Epoch 11/100\n",
      " - 0s - loss: 0.0310 - accuracy: 1.0000 - val_loss: 0.6866 - val_accuracy: 0.8018\n",
      "Epoch 12/100\n",
      " - 0s - loss: 0.0257 - accuracy: 1.0000 - val_loss: 0.6648 - val_accuracy: 0.8108\n",
      "Epoch 13/100\n",
      " - 0s - loss: 0.0207 - accuracy: 1.0000 - val_loss: 0.6801 - val_accuracy: 0.8108\n",
      "Epoch 14/100\n",
      " - 0s - loss: 0.0179 - accuracy: 1.0000 - val_loss: 0.6879 - val_accuracy: 0.8198\n",
      "Epoch 15/100\n",
      " - 0s - loss: 0.0159 - accuracy: 1.0000 - val_loss: 0.6816 - val_accuracy: 0.8198\n",
      "Epoch 16/100\n",
      " - 0s - loss: 0.0140 - accuracy: 1.0000 - val_loss: 0.6995 - val_accuracy: 0.8198\n",
      "Epoch 17/100\n",
      " - 0s - loss: 0.0123 - accuracy: 1.0000 - val_loss: 0.6850 - val_accuracy: 0.8198\n",
      "Epoch 18/100\n",
      " - 0s - loss: 0.0112 - accuracy: 1.0000 - val_loss: 0.7106 - val_accuracy: 0.8198\n",
      "Epoch 19/100\n",
      " - 0s - loss: 0.0099 - accuracy: 1.0000 - val_loss: 0.7169 - val_accuracy: 0.8198\n",
      "Epoch 20/100\n",
      " - 0s - loss: 0.0091 - accuracy: 1.0000 - val_loss: 0.7123 - val_accuracy: 0.8288\n",
      "Epoch 21/100\n",
      " - 0s - loss: 0.0082 - accuracy: 1.0000 - val_loss: 0.7267 - val_accuracy: 0.8288\n",
      "Epoch 22/100\n",
      " - 0s - loss: 0.0075 - accuracy: 1.0000 - val_loss: 0.7225 - val_accuracy: 0.8288\n",
      "Epoch 23/100\n",
      " - 0s - loss: 0.0068 - accuracy: 1.0000 - val_loss: 0.7349 - val_accuracy: 0.8288\n",
      "Epoch 24/100\n",
      " - 0s - loss: 0.0064 - accuracy: 1.0000 - val_loss: 0.7304 - val_accuracy: 0.8288\n",
      "Epoch 25/100\n",
      " - 0s - loss: 0.0058 - accuracy: 1.0000 - val_loss: 0.7438 - val_accuracy: 0.8288\n",
      "Epoch 26/100\n",
      " - 0s - loss: 0.0054 - accuracy: 1.0000 - val_loss: 0.7356 - val_accuracy: 0.8198\n",
      "Epoch 27/100\n",
      " - 0s - loss: 0.0049 - accuracy: 1.0000 - val_loss: 0.7562 - val_accuracy: 0.8288\n",
      "Epoch 28/100\n",
      " - 0s - loss: 0.0045 - accuracy: 1.0000 - val_loss: 0.7496 - val_accuracy: 0.8288\n",
      "Epoch 29/100\n",
      " - 0s - loss: 0.0042 - accuracy: 1.0000 - val_loss: 0.7595 - val_accuracy: 0.8288\n",
      "Epoch 30/100\n",
      " - 0s - loss: 0.0039 - accuracy: 1.0000 - val_loss: 0.7482 - val_accuracy: 0.8378\n",
      "Epoch 31/100\n",
      " - 0s - loss: 0.0036 - accuracy: 1.0000 - val_loss: 0.7531 - val_accuracy: 0.8288\n",
      "Epoch 32/100\n",
      " - 0s - loss: 0.0035 - accuracy: 1.0000 - val_loss: 0.7544 - val_accuracy: 0.8378\n",
      "Epoch 33/100\n",
      " - 0s - loss: 0.0032 - accuracy: 1.0000 - val_loss: 0.7678 - val_accuracy: 0.8378\n",
      "Epoch 34/100\n",
      " - 0s - loss: 0.0029 - accuracy: 1.0000 - val_loss: 0.7629 - val_accuracy: 0.8378\n",
      "Epoch 35/100\n",
      " - 0s - loss: 0.0028 - accuracy: 1.0000 - val_loss: 0.7589 - val_accuracy: 0.8378\n",
      "Epoch 36/100\n",
      " - 0s - loss: 0.0026 - accuracy: 1.0000 - val_loss: 0.7654 - val_accuracy: 0.8288\n",
      "Epoch 37/100\n",
      " - 0s - loss: 0.0025 - accuracy: 1.0000 - val_loss: 0.7656 - val_accuracy: 0.8378\n",
      "Epoch 38/100\n",
      " - 0s - loss: 0.0024 - accuracy: 1.0000 - val_loss: 0.7703 - val_accuracy: 0.8378\n",
      "Epoch 39/100\n",
      " - 0s - loss: 0.0022 - accuracy: 1.0000 - val_loss: 0.7655 - val_accuracy: 0.8378\n",
      "Epoch 40/100\n",
      " - 0s - loss: 0.0021 - accuracy: 1.0000 - val_loss: 0.7749 - val_accuracy: 0.8378\n",
      "Epoch 41/100\n",
      " - 0s - loss: 0.0020 - accuracy: 1.0000 - val_loss: 0.7756 - val_accuracy: 0.8378\n",
      "Epoch 42/100\n",
      " - 0s - loss: 0.0019 - accuracy: 1.0000 - val_loss: 0.7772 - val_accuracy: 0.8288\n",
      "Epoch 43/100\n",
      " - 0s - loss: 0.0018 - accuracy: 1.0000 - val_loss: 0.7855 - val_accuracy: 0.8378\n",
      "Epoch 44/100\n",
      " - 0s - loss: 0.0017 - accuracy: 1.0000 - val_loss: 0.7755 - val_accuracy: 0.8288\n",
      "Epoch 45/100\n",
      " - 0s - loss: 0.0016 - accuracy: 1.0000 - val_loss: 0.7814 - val_accuracy: 0.8378\n",
      "Epoch 46/100\n",
      " - 0s - loss: 0.0015 - accuracy: 1.0000 - val_loss: 0.7804 - val_accuracy: 0.8378\n",
      "Epoch 47/100\n",
      " - 0s - loss: 0.0015 - accuracy: 1.0000 - val_loss: 0.7794 - val_accuracy: 0.8288\n",
      "Epoch 48/100\n",
      " - 0s - loss: 0.0014 - accuracy: 1.0000 - val_loss: 0.7875 - val_accuracy: 0.8288\n",
      "Epoch 49/100\n",
      " - 0s - loss: 0.0014 - accuracy: 1.0000 - val_loss: 0.7873 - val_accuracy: 0.8288\n",
      "Epoch 50/100\n",
      " - 0s - loss: 0.0013 - accuracy: 1.0000 - val_loss: 0.7880 - val_accuracy: 0.8288\n",
      "Epoch 51/100\n",
      " - 0s - loss: 0.0012 - accuracy: 1.0000 - val_loss: 0.7916 - val_accuracy: 0.8288\n",
      "Epoch 52/100\n",
      " - 0s - loss: 0.0012 - accuracy: 1.0000 - val_loss: 0.7927 - val_accuracy: 0.8288\n",
      "Epoch 53/100\n",
      " - 0s - loss: 0.0011 - accuracy: 1.0000 - val_loss: 0.7945 - val_accuracy: 0.8198\n",
      "Epoch 54/100\n",
      " - 0s - loss: 0.0011 - accuracy: 1.0000 - val_loss: 0.7948 - val_accuracy: 0.8198\n",
      "Epoch 55/100\n",
      " - 0s - loss: 0.0011 - accuracy: 1.0000 - val_loss: 0.7955 - val_accuracy: 0.8288\n",
      "Epoch 56/100\n",
      " - 0s - loss: 0.0010 - accuracy: 1.0000 - val_loss: 0.7972 - val_accuracy: 0.8198\n",
      "Epoch 57/100\n",
      " - 0s - loss: 9.8720e-04 - accuracy: 1.0000 - val_loss: 0.7991 - val_accuracy: 0.8288\n",
      "Epoch 58/100\n",
      " - 0s - loss: 9.4530e-04 - accuracy: 1.0000 - val_loss: 0.8072 - val_accuracy: 0.8198\n",
      "Epoch 59/100\n",
      " - 0s - loss: 9.1157e-04 - accuracy: 1.0000 - val_loss: 0.8017 - val_accuracy: 0.8198\n",
      "Epoch 60/100\n",
      " - 0s - loss: 8.7902e-04 - accuracy: 1.0000 - val_loss: 0.8022 - val_accuracy: 0.8198\n",
      "Epoch 61/100\n",
      " - 0s - loss: 8.4757e-04 - accuracy: 1.0000 - val_loss: 0.8071 - val_accuracy: 0.8198\n",
      "Epoch 62/100\n",
      " - 0s - loss: 8.2340e-04 - accuracy: 1.0000 - val_loss: 0.8056 - val_accuracy: 0.8198\n",
      "Epoch 63/100\n",
      " - 0s - loss: 7.9201e-04 - accuracy: 1.0000 - val_loss: 0.8092 - val_accuracy: 0.8198\n",
      "Epoch 64/100\n",
      " - 0s - loss: 7.7502e-04 - accuracy: 1.0000 - val_loss: 0.8154 - val_accuracy: 0.8198\n",
      "Epoch 65/100\n",
      " - 0s - loss: 7.4104e-04 - accuracy: 1.0000 - val_loss: 0.8124 - val_accuracy: 0.8198\n",
      "Epoch 66/100\n",
      " - 0s - loss: 7.2201e-04 - accuracy: 1.0000 - val_loss: 0.8180 - val_accuracy: 0.8198\n",
      "Epoch 67/100\n",
      " - 0s - loss: 6.9459e-04 - accuracy: 1.0000 - val_loss: 0.8151 - val_accuracy: 0.8198\n",
      "Epoch 68/100\n",
      " - 0s - loss: 6.7694e-04 - accuracy: 1.0000 - val_loss: 0.8155 - val_accuracy: 0.8198\n",
      "Epoch 69/100\n",
      " - 0s - loss: 6.5710e-04 - accuracy: 1.0000 - val_loss: 0.8190 - val_accuracy: 0.8198\n",
      "Epoch 70/100\n",
      " - 0s - loss: 6.3892e-04 - accuracy: 1.0000 - val_loss: 0.8207 - val_accuracy: 0.8198\n",
      "Epoch 71/100\n",
      " - 0s - loss: 6.1542e-04 - accuracy: 1.0000 - val_loss: 0.8233 - val_accuracy: 0.8198\n",
      "Epoch 72/100\n",
      " - 0s - loss: 5.9671e-04 - accuracy: 1.0000 - val_loss: 0.8265 - val_accuracy: 0.8198\n",
      "Epoch 73/100\n",
      " - 0s - loss: 5.8367e-04 - accuracy: 1.0000 - val_loss: 0.8319 - val_accuracy: 0.8198\n",
      "Epoch 74/100\n",
      " - 0s - loss: 5.6476e-04 - accuracy: 1.0000 - val_loss: 0.8274 - val_accuracy: 0.8198\n",
      "Epoch 75/100\n",
      " - 0s - loss: 5.4646e-04 - accuracy: 1.0000 - val_loss: 0.8342 - val_accuracy: 0.8198\n",
      "Epoch 76/100\n",
      " - 0s - loss: 5.3474e-04 - accuracy: 1.0000 - val_loss: 0.8335 - val_accuracy: 0.8198\n",
      "Epoch 77/100\n",
      " - 0s - loss: 5.1838e-04 - accuracy: 1.0000 - val_loss: 0.8365 - val_accuracy: 0.8198\n",
      "Epoch 78/100\n",
      " - 0s - loss: 5.0117e-04 - accuracy: 1.0000 - val_loss: 0.8363 - val_accuracy: 0.8198\n",
      "Epoch 79/100\n",
      " - 0s - loss: 4.8905e-04 - accuracy: 1.0000 - val_loss: 0.8448 - val_accuracy: 0.8198\n",
      "Epoch 80/100\n",
      " - 0s - loss: 4.7439e-04 - accuracy: 1.0000 - val_loss: 0.8378 - val_accuracy: 0.8198\n",
      "Epoch 81/100\n",
      " - 0s - loss: 4.6133e-04 - accuracy: 1.0000 - val_loss: 0.8489 - val_accuracy: 0.8198\n",
      "Epoch 82/100\n",
      " - 0s - loss: 4.4804e-04 - accuracy: 1.0000 - val_loss: 0.8415 - val_accuracy: 0.8198\n",
      "Epoch 83/100\n",
      " - 0s - loss: 4.3376e-04 - accuracy: 1.0000 - val_loss: 0.8486 - val_accuracy: 0.8198\n",
      "Epoch 84/100\n",
      " - 0s - loss: 4.2307e-04 - accuracy: 1.0000 - val_loss: 0.8469 - val_accuracy: 0.8198\n",
      "Epoch 85/100\n",
      " - 0s - loss: 4.1136e-04 - accuracy: 1.0000 - val_loss: 0.8465 - val_accuracy: 0.8198\n"
     ]
    },
    {
     "name": "stdout",
     "output_type": "stream",
     "text": [
      "Epoch 86/100\n",
      " - 0s - loss: 4.0006e-04 - accuracy: 1.0000 - val_loss: 0.8516 - val_accuracy: 0.8198\n",
      "Epoch 87/100\n",
      " - 0s - loss: 3.9264e-04 - accuracy: 1.0000 - val_loss: 0.8505 - val_accuracy: 0.8198\n",
      "Epoch 88/100\n",
      " - 0s - loss: 3.8215e-04 - accuracy: 1.0000 - val_loss: 0.8558 - val_accuracy: 0.8198\n",
      "Epoch 89/100\n",
      " - 0s - loss: 3.7113e-04 - accuracy: 1.0000 - val_loss: 0.8491 - val_accuracy: 0.8198\n",
      "Epoch 90/100\n",
      " - 0s - loss: 3.6237e-04 - accuracy: 1.0000 - val_loss: 0.8573 - val_accuracy: 0.8198\n",
      "Epoch 91/100\n",
      " - 0s - loss: 3.5372e-04 - accuracy: 1.0000 - val_loss: 0.8552 - val_accuracy: 0.8198\n",
      "Epoch 92/100\n",
      " - 0s - loss: 3.4351e-04 - accuracy: 1.0000 - val_loss: 0.8597 - val_accuracy: 0.8198\n",
      "Epoch 93/100\n",
      " - 0s - loss: 3.3678e-04 - accuracy: 1.0000 - val_loss: 0.8570 - val_accuracy: 0.8198\n",
      "Epoch 94/100\n",
      " - 0s - loss: 3.2917e-04 - accuracy: 1.0000 - val_loss: 0.8575 - val_accuracy: 0.8198\n",
      "Epoch 95/100\n",
      " - 0s - loss: 3.2014e-04 - accuracy: 1.0000 - val_loss: 0.8638 - val_accuracy: 0.8198\n",
      "Epoch 96/100\n",
      " - 0s - loss: 3.1700e-04 - accuracy: 1.0000 - val_loss: 0.8561 - val_accuracy: 0.8198\n",
      "Epoch 97/100\n",
      " - 0s - loss: 3.0662e-04 - accuracy: 1.0000 - val_loss: 0.8601 - val_accuracy: 0.8198\n",
      "Epoch 98/100\n",
      " - 0s - loss: 2.9917e-04 - accuracy: 1.0000 - val_loss: 0.8611 - val_accuracy: 0.8198\n",
      "Epoch 99/100\n",
      " - 0s - loss: 2.9133e-04 - accuracy: 1.0000 - val_loss: 0.8647 - val_accuracy: 0.8198\n",
      "Epoch 100/100\n",
      " - 0s - loss: 2.8415e-04 - accuracy: 1.0000 - val_loss: 0.8697 - val_accuracy: 0.8198\n"
     ]
    }
   ],
   "source": [
    "history = model3.fit(X_train_3,\n",
    "                        y_train,\n",
    "                        batch_size=32,\n",
    "                        validation_data=(X_test_3, y_test),\n",
    "                        epochs=100,\n",
    "                        verbose=2)"
   ]
  },
  {
   "cell_type": "code",
   "execution_count": 45,
   "metadata": {
    "scrolled": true
   },
   "outputs": [
    {
     "data": {
      "text/plain": [
       "<matplotlib.legend.Legend at 0x21662e30518>"
      ]
     },
     "execution_count": 45,
     "metadata": {},
     "output_type": "execute_result"
    },
    {
     "data": {
      "image/png": "[encoded data removed]",
      "text/plain": [
       "<Figure size 432x288 with 1 Axes>"
      ]
     },
     "metadata": {
      "needs_background": "light"
     },
     "output_type": "display_data"
    }
   ],
   "source": [
    "plt.plot(history.history['loss'], label = ' Training Loss')\n",
    "plt.plot(history.history['val_loss'], label = ' Test Loss')\n",
    "plt.legend()"
   ]
  },
  {
   "cell_type": "code",
   "execution_count": 46,
   "metadata": {},
   "outputs": [
    {
     "data": {
      "text/plain": [
       "<matplotlib.legend.Legend at 0x21662ea1278>"
      ]
     },
     "execution_count": 46,
     "metadata": {},
     "output_type": "execute_result"
    },
    {
     "data": {
      "image/png": "[encoded data removed]",
      "text/plain": [
       "<Figure size 432x288 with 1 Axes>"
      ]
     },
     "metadata": {
      "needs_background": "light"
     },
     "output_type": "display_data"
    }
   ],
   "source": [
    "plt.plot(history.history['accuracy'], label = ' Training Accuracy')\n",
    "plt.plot(history.history['val_accuracy'], label = ' Test Accuracy')\n",
    "plt.legend()"
   ]
  },
  {
   "cell_type": "code",
   "execution_count": 47,
   "metadata": {},
   "outputs": [
    {
     "name": "stdout",
     "output_type": "stream",
     "text": [
      "111/111 [==============================] - 0s 90us/step\n"
     ]
    }
   ],
   "source": [
    "model3_eval = model3.evaluate(X_test_3,y_test, verbose=1)\n",
    "model3_metrics = model3.metrics_names"
   ]
  },
  {
   "cell_type": "markdown",
   "metadata": {},
   "source": [
    "**CNN**\n",
    "\n",
    "model 4:\n",
    "\n",
    "classifier: CNN with picture WIP"
   ]
  },
  {
   "cell_type": "code",
   "execution_count": 48,
   "metadata": {},
   "outputs": [],
   "source": [
    "# Not yet"
   ]
  },
  {
   "cell_type": "markdown",
   "metadata": {},
   "source": [
    "**RNN**\n",
    "\n",
    "Feeding same data as melspectrogram is possible."
   ]
  },
  {
   "cell_type": "code",
   "execution_count": 49,
   "metadata": {},
   "outputs": [],
   "source": [
    "X_train_5, X_test_5, y_train, y_test = train_test_split(X, y, test_size = 0.2, random_state = 42, stratify = y)"
   ]
  },
  {
   "cell_type": "code",
   "execution_count": 50,
   "metadata": {},
   "outputs": [],
   "source": [
    "model5 = Sequential()\n",
    "\n",
    "model5.add(LSTM(64, input_shape = (128,39), return_sequences=True))\n",
    "model5.add(LSTM(64, return_sequences=False ))\n",
    "model5.add(Dense(64, activation = 'relu'))\n",
    "model5.add(Dropout(0.3))\n",
    "\n",
    "model5.add(Dense(5, activation = 'softmax'))"
   ]
  },
  {
   "cell_type": "code",
   "execution_count": 51,
   "metadata": {},
   "outputs": [],
   "source": [
    "model5.compile(optimizer = 'Adam', loss = 'categorical_crossentropy', metrics = ['accuracy'])"
   ]
  },
  {
   "cell_type": "code",
   "execution_count": 52,
   "metadata": {},
   "outputs": [
    {
     "name": "stdout",
     "output_type": "stream",
     "text": [
      "Model: \"sequential_4\"\n",
      "_________________________________________________________________\n",
      "Layer (type)                 Output Shape              Param #   \n",
      "=================================================================\n",
      "lstm_1 (LSTM)                (None, 128, 64)           26624     \n",
      "_________________________________________________________________\n",
      "lstm_2 (LSTM)                (None, 64)                33024     \n",
      "_________________________________________________________________\n",
      "dense_10 (Dense)             (None, 64)                4160      \n",
      "_________________________________________________________________\n",
      "dropout_1 (Dropout)          (None, 64)                0         \n",
      "_________________________________________________________________\n",
      "dense_11 (Dense)             (None, 5)                 325       \n",
      "=================================================================\n",
      "Total params: 64,133\n",
      "Trainable params: 64,133\n",
      "Non-trainable params: 0\n",
      "_________________________________________________________________\n"
     ]
    }
   ],
   "source": [
    "model5.summary()"
   ]
  },
  {
   "cell_type": "code",
   "execution_count": 53,
   "metadata": {
    "scrolled": true
   },
   "outputs": [
    {
     "name": "stdout",
     "output_type": "stream",
     "text": [
      "Train on 442 samples, validate on 111 samples\n",
      "Epoch 1/100\n",
      " - 3s - loss: 1.5900 - accuracy: 0.2466 - val_loss: 1.5110 - val_accuracy: 0.2432\n",
      "Epoch 2/100\n",
      " - 2s - loss: 1.4513 - accuracy: 0.3620 - val_loss: 1.3315 - val_accuracy: 0.3333\n",
      "Epoch 3/100\n",
      " - 2s - loss: 1.3495 - accuracy: 0.3688 - val_loss: 1.2557 - val_accuracy: 0.3874\n",
      "Epoch 4/100\n",
      " - 2s - loss: 1.2847 - accuracy: 0.4005 - val_loss: 1.2234 - val_accuracy: 0.4414\n",
      "Epoch 5/100\n",
      " - 2s - loss: 1.2635 - accuracy: 0.3688 - val_loss: 1.1707 - val_accuracy: 0.4144\n",
      "Epoch 6/100\n",
      " - 2s - loss: 1.1569 - accuracy: 0.4932 - val_loss: 1.1556 - val_accuracy: 0.4144\n",
      "Epoch 7/100\n",
      " - 2s - loss: 1.0852 - accuracy: 0.5000 - val_loss: 0.9817 - val_accuracy: 0.5856\n",
      "Epoch 8/100\n",
      " - 2s - loss: 0.9596 - accuracy: 0.6290 - val_loss: 1.0045 - val_accuracy: 0.5946\n",
      "Epoch 9/100\n",
      " - 2s - loss: 1.0100 - accuracy: 0.5905 - val_loss: 0.9523 - val_accuracy: 0.5946\n",
      "Epoch 10/100\n",
      " - 2s - loss: 0.8313 - accuracy: 0.6652 - val_loss: 0.9135 - val_accuracy: 0.6036\n",
      "Epoch 11/100\n",
      " - 2s - loss: 0.7918 - accuracy: 0.6878 - val_loss: 1.0785 - val_accuracy: 0.5766\n",
      "Epoch 12/100\n",
      " - 2s - loss: 0.7952 - accuracy: 0.6652 - val_loss: 0.9036 - val_accuracy: 0.6306\n",
      "Epoch 13/100\n",
      " - 2s - loss: 0.7268 - accuracy: 0.7172 - val_loss: 0.8164 - val_accuracy: 0.6847\n",
      "Epoch 14/100\n",
      " - 2s - loss: 0.6678 - accuracy: 0.7398 - val_loss: 0.7303 - val_accuracy: 0.7207\n",
      "Epoch 15/100\n",
      " - 2s - loss: 0.6238 - accuracy: 0.7805 - val_loss: 0.7345 - val_accuracy: 0.7207\n",
      "Epoch 16/100\n",
      " - 2s - loss: 0.5509 - accuracy: 0.8281 - val_loss: 0.6118 - val_accuracy: 0.7928\n",
      "Epoch 17/100\n",
      " - 2s - loss: 0.5607 - accuracy: 0.8303 - val_loss: 0.6777 - val_accuracy: 0.7838\n",
      "Epoch 18/100\n",
      " - 2s - loss: 0.6259 - accuracy: 0.8009 - val_loss: 0.7453 - val_accuracy: 0.7477\n",
      "Epoch 19/100\n",
      " - 2s - loss: 0.5653 - accuracy: 0.8190 - val_loss: 0.7420 - val_accuracy: 0.7748\n",
      "Epoch 20/100\n",
      " - 2s - loss: 0.6305 - accuracy: 0.8077 - val_loss: 0.6475 - val_accuracy: 0.8108\n",
      "Epoch 21/100\n",
      " - 2s - loss: 0.5288 - accuracy: 0.8597 - val_loss: 0.7306 - val_accuracy: 0.7297\n",
      "Epoch 22/100\n",
      " - 2s - loss: 0.5342 - accuracy: 0.8213 - val_loss: 0.6070 - val_accuracy: 0.8018\n",
      "Epoch 23/100\n",
      " - 2s - loss: 0.4900 - accuracy: 0.8439 - val_loss: 0.4700 - val_accuracy: 0.8559\n",
      "Epoch 24/100\n",
      " - 2s - loss: 0.3722 - accuracy: 0.9027 - val_loss: 0.4626 - val_accuracy: 0.8468\n",
      "Epoch 25/100\n",
      " - 2s - loss: 0.3661 - accuracy: 0.8937 - val_loss: 0.5119 - val_accuracy: 0.8378\n",
      "Epoch 26/100\n",
      " - 2s - loss: 0.3418 - accuracy: 0.9140 - val_loss: 0.5045 - val_accuracy: 0.8288\n",
      "Epoch 27/100\n",
      " - 2s - loss: 0.3076 - accuracy: 0.9231 - val_loss: 0.4495 - val_accuracy: 0.8559\n",
      "Epoch 28/100\n",
      " - 2s - loss: 0.3561 - accuracy: 0.9005 - val_loss: 0.7031 - val_accuracy: 0.7568\n",
      "Epoch 29/100\n",
      " - 2s - loss: 0.3818 - accuracy: 0.8756 - val_loss: 0.6920 - val_accuracy: 0.8108\n",
      "Epoch 30/100\n",
      " - 2s - loss: 0.4099 - accuracy: 0.8846 - val_loss: 0.7137 - val_accuracy: 0.7838\n",
      "Epoch 31/100\n",
      " - 2s - loss: 0.4412 - accuracy: 0.8643 - val_loss: 0.5834 - val_accuracy: 0.8378\n",
      "Epoch 32/100\n",
      " - 2s - loss: 0.3883 - accuracy: 0.9027 - val_loss: 0.6404 - val_accuracy: 0.8288\n",
      "Epoch 33/100\n",
      " - 2s - loss: 0.3214 - accuracy: 0.9095 - val_loss: 0.6549 - val_accuracy: 0.8198\n",
      "Epoch 34/100\n",
      " - 2s - loss: 0.2815 - accuracy: 0.9208 - val_loss: 0.6511 - val_accuracy: 0.8378\n",
      "Epoch 35/100\n",
      " - 2s - loss: 0.2917 - accuracy: 0.9231 - val_loss: 0.7643 - val_accuracy: 0.8018\n",
      "Epoch 36/100\n",
      " - 2s - loss: 0.3109 - accuracy: 0.9072 - val_loss: 0.7356 - val_accuracy: 0.7838\n",
      "Epoch 37/100\n",
      " - 2s - loss: 0.3099 - accuracy: 0.9208 - val_loss: 0.6203 - val_accuracy: 0.8378\n",
      "Epoch 38/100\n",
      " - 2s - loss: 0.3434 - accuracy: 0.8982 - val_loss: 0.6188 - val_accuracy: 0.8198\n",
      "Epoch 39/100\n",
      " - 2s - loss: 0.3948 - accuracy: 0.8824 - val_loss: 0.7199 - val_accuracy: 0.7928\n",
      "Epoch 40/100\n",
      " - 2s - loss: 0.3654 - accuracy: 0.8937 - val_loss: 0.7795 - val_accuracy: 0.7297\n",
      "Epoch 41/100\n",
      " - 2s - loss: 0.3919 - accuracy: 0.8665 - val_loss: 0.6625 - val_accuracy: 0.8018\n",
      "Epoch 42/100\n",
      " - 2s - loss: 0.3328 - accuracy: 0.8959 - val_loss: 0.7267 - val_accuracy: 0.7928\n",
      "Epoch 43/100\n",
      " - 2s - loss: 0.3025 - accuracy: 0.9027 - val_loss: 0.5813 - val_accuracy: 0.8288\n",
      "Epoch 44/100\n",
      " - 2s - loss: 0.3790 - accuracy: 0.8824 - val_loss: 0.4834 - val_accuracy: 0.8559\n",
      "Epoch 45/100\n",
      " - 2s - loss: 0.3832 - accuracy: 0.8937 - val_loss: 0.6757 - val_accuracy: 0.7928\n",
      "Epoch 46/100\n",
      " - 2s - loss: 0.2472 - accuracy: 0.9299 - val_loss: 0.6921 - val_accuracy: 0.8018\n",
      "Epoch 47/100\n",
      " - 2s - loss: 0.3263 - accuracy: 0.8891 - val_loss: 0.9040 - val_accuracy: 0.7838\n",
      "Epoch 48/100\n",
      " - 2s - loss: 0.3958 - accuracy: 0.8914 - val_loss: 0.6045 - val_accuracy: 0.8378\n",
      "Epoch 49/100\n",
      " - 2s - loss: 0.2727 - accuracy: 0.9276 - val_loss: 0.5165 - val_accuracy: 0.8198\n",
      "Epoch 50/100\n",
      " - 2s - loss: 0.3504 - accuracy: 0.8959 - val_loss: 0.5343 - val_accuracy: 0.8288\n",
      "Epoch 51/100\n",
      " - 2s - loss: 0.3487 - accuracy: 0.8846 - val_loss: 0.5681 - val_accuracy: 0.8559\n",
      "Epoch 52/100\n",
      " - 2s - loss: 0.2619 - accuracy: 0.9208 - val_loss: 0.5340 - val_accuracy: 0.8378\n",
      "Epoch 53/100\n",
      " - 2s - loss: 0.2560 - accuracy: 0.9276 - val_loss: 0.5896 - val_accuracy: 0.8559\n",
      "Epoch 54/100\n",
      " - 2s - loss: 0.3468 - accuracy: 0.8869 - val_loss: 0.6909 - val_accuracy: 0.7658\n",
      "Epoch 55/100\n",
      " - 2s - loss: 0.3556 - accuracy: 0.8507 - val_loss: 0.6431 - val_accuracy: 0.8108\n",
      "Epoch 56/100\n",
      " - 2s - loss: 0.3292 - accuracy: 0.8891 - val_loss: 0.5942 - val_accuracy: 0.8468\n",
      "Epoch 57/100\n",
      " - 2s - loss: 0.2801 - accuracy: 0.9140 - val_loss: 0.6156 - val_accuracy: 0.8378\n",
      "Epoch 58/100\n",
      " - 2s - loss: 0.2991 - accuracy: 0.9140 - val_loss: 0.6564 - val_accuracy: 0.8378\n",
      "Epoch 59/100\n",
      " - 2s - loss: 0.2927 - accuracy: 0.9095 - val_loss: 0.6215 - val_accuracy: 0.8378\n",
      "Epoch 60/100\n",
      " - 2s - loss: 0.2842 - accuracy: 0.9140 - val_loss: 0.7143 - val_accuracy: 0.8468\n",
      "Epoch 61/100\n",
      " - 2s - loss: 0.2624 - accuracy: 0.9118 - val_loss: 0.6206 - val_accuracy: 0.8468\n",
      "Epoch 62/100\n",
      " - 2s - loss: 0.2791 - accuracy: 0.9231 - val_loss: 0.6329 - val_accuracy: 0.8468\n",
      "Epoch 63/100\n",
      " - 2s - loss: 0.2274 - accuracy: 0.9389 - val_loss: 0.7030 - val_accuracy: 0.8288\n",
      "Epoch 64/100\n",
      " - 2s - loss: 0.1913 - accuracy: 0.9457 - val_loss: 0.6748 - val_accuracy: 0.8288\n",
      "Epoch 65/100\n",
      " - 2s - loss: 0.1907 - accuracy: 0.9457 - val_loss: 0.7189 - val_accuracy: 0.8018\n",
      "Epoch 66/100\n",
      " - 2s - loss: 0.1955 - accuracy: 0.9502 - val_loss: 0.7412 - val_accuracy: 0.8108\n",
      "Epoch 67/100\n",
      " - 2s - loss: 0.1699 - accuracy: 0.9548 - val_loss: 0.7167 - val_accuracy: 0.8288\n",
      "Epoch 68/100\n",
      " - 2s - loss: 0.1483 - accuracy: 0.9593 - val_loss: 0.6691 - val_accuracy: 0.8378\n",
      "Epoch 69/100\n",
      " - 2s - loss: 0.1899 - accuracy: 0.9389 - val_loss: 0.7076 - val_accuracy: 0.8378\n",
      "Epoch 70/100\n",
      " - 2s - loss: 0.2506 - accuracy: 0.9389 - val_loss: 0.7969 - val_accuracy: 0.8378\n",
      "Epoch 71/100\n",
      " - 2s - loss: 0.1868 - accuracy: 0.9434 - val_loss: 0.5878 - val_accuracy: 0.8649\n",
      "Epoch 72/100\n",
      " - 2s - loss: 0.1554 - accuracy: 0.9548 - val_loss: 0.5956 - val_accuracy: 0.8649\n",
      "Epoch 73/100\n",
      " - 2s - loss: 0.1483 - accuracy: 0.9615 - val_loss: 0.6463 - val_accuracy: 0.8649\n",
      "Epoch 74/100\n",
      " - 2s - loss: 0.1316 - accuracy: 0.9638 - val_loss: 0.6669 - val_accuracy: 0.8378\n",
      "Epoch 75/100\n",
      " - 2s - loss: 0.1262 - accuracy: 0.9638 - val_loss: 0.6092 - val_accuracy: 0.8559\n",
      "Epoch 76/100\n",
      " - 2s - loss: 0.1364 - accuracy: 0.9615 - val_loss: 0.9770 - val_accuracy: 0.7207\n",
      "Epoch 77/100\n",
      " - 2s - loss: 0.2929 - accuracy: 0.8959 - val_loss: 0.7359 - val_accuracy: 0.7568\n",
      "Epoch 78/100\n",
      " - 2s - loss: 0.1828 - accuracy: 0.9457 - val_loss: 0.6408 - val_accuracy: 0.8108\n",
      "Epoch 79/100\n",
      " - 2s - loss: 0.1295 - accuracy: 0.9593 - val_loss: 0.7922 - val_accuracy: 0.8018\n",
      "Epoch 80/100\n",
      " - 2s - loss: 0.2173 - accuracy: 0.9367 - val_loss: 0.7064 - val_accuracy: 0.8288\n",
      "Epoch 81/100\n",
      " - 2s - loss: 0.1559 - accuracy: 0.9525 - val_loss: 0.9716 - val_accuracy: 0.7568\n",
      "Epoch 82/100\n",
      " - 2s - loss: 0.3641 - accuracy: 0.9027 - val_loss: 1.0833 - val_accuracy: 0.7387\n",
      "Epoch 83/100\n",
      " - 2s - loss: 0.4925 - accuracy: 0.8145 - val_loss: 0.8092 - val_accuracy: 0.7658\n",
      "Epoch 84/100\n",
      " - 2s - loss: 0.3539 - accuracy: 0.8914 - val_loss: 0.5297 - val_accuracy: 0.8378\n",
      "Epoch 85/100\n",
      " - 2s - loss: 0.2728 - accuracy: 0.9186 - val_loss: 0.6555 - val_accuracy: 0.8108\n",
      "Epoch 86/100\n",
      " - 2s - loss: 0.2449 - accuracy: 0.9344 - val_loss: 0.7116 - val_accuracy: 0.7838\n"
     ]
    },
    {
     "name": "stdout",
     "output_type": "stream",
     "text": [
      "Epoch 87/100\n",
      " - 2s - loss: 0.1904 - accuracy: 0.9344 - val_loss: 0.7107 - val_accuracy: 0.8288\n",
      "Epoch 88/100\n",
      " - 2s - loss: 0.2182 - accuracy: 0.9276 - val_loss: 0.6892 - val_accuracy: 0.8468\n",
      "Epoch 89/100\n",
      " - 2s - loss: 0.2595 - accuracy: 0.9299 - val_loss: 0.5939 - val_accuracy: 0.8288\n",
      "Epoch 90/100\n",
      " - 2s - loss: 0.1965 - accuracy: 0.9344 - val_loss: 0.5189 - val_accuracy: 0.8739\n",
      "Epoch 91/100\n",
      " - 2s - loss: 0.2188 - accuracy: 0.9321 - val_loss: 0.6823 - val_accuracy: 0.8108\n",
      "Epoch 92/100\n",
      " - 2s - loss: 0.1882 - accuracy: 0.9389 - val_loss: 0.6558 - val_accuracy: 0.8108\n",
      "Epoch 93/100\n",
      " - 2s - loss: 0.1604 - accuracy: 0.9525 - val_loss: 0.6853 - val_accuracy: 0.8378\n",
      "Epoch 94/100\n",
      " - 2s - loss: 0.1427 - accuracy: 0.9548 - val_loss: 0.7912 - val_accuracy: 0.8018\n",
      "Epoch 95/100\n",
      " - 2s - loss: 0.1381 - accuracy: 0.9570 - val_loss: 0.7744 - val_accuracy: 0.8288\n",
      "Epoch 96/100\n",
      " - 2s - loss: 0.1267 - accuracy: 0.9570 - val_loss: 0.8295 - val_accuracy: 0.8108\n",
      "Epoch 97/100\n",
      " - 2s - loss: 0.1225 - accuracy: 0.9615 - val_loss: 0.8241 - val_accuracy: 0.8198\n",
      "Epoch 98/100\n",
      " - 2s - loss: 0.1252 - accuracy: 0.9593 - val_loss: 0.8040 - val_accuracy: 0.8378\n",
      "Epoch 99/100\n",
      " - 2s - loss: 0.1085 - accuracy: 0.9638 - val_loss: 0.7906 - val_accuracy: 0.8288\n",
      "Epoch 100/100\n",
      " - 2s - loss: 0.1010 - accuracy: 0.9661 - val_loss: 0.8040 - val_accuracy: 0.8468\n"
     ]
    }
   ],
   "source": [
    "history = model5.fit(X_train_5,\n",
    "                        y_train,\n",
    "                        batch_size=32,\n",
    "                        validation_data=(X_test_5, y_test),\n",
    "                        epochs=100,\n",
    "                        verbose=2)"
   ]
  },
  {
   "cell_type": "code",
   "execution_count": 54,
   "metadata": {},
   "outputs": [
    {
     "data": {
      "text/plain": [
       "<matplotlib.legend.Legend at 0x217c145e400>"
      ]
     },
     "execution_count": 54,
     "metadata": {},
     "output_type": "execute_result"
    },
    {
     "data": {
      "image/png": "[encoded data removed]",
      "text/plain": [
       "<Figure size 432x288 with 1 Axes>"
      ]
     },
     "metadata": {
      "needs_background": "light"
     },
     "output_type": "display_data"
    }
   ],
   "source": [
    "plt.plot(history.history['loss'], label = ' Training Loss')\n",
    "plt.plot(history.history['val_loss'], label = ' Test Loss')\n",
    "plt.legend()"
   ]
  },
  {
   "cell_type": "code",
   "execution_count": 55,
   "metadata": {},
   "outputs": [
    {
     "data": {
      "text/plain": [
       "<matplotlib.legend.Legend at 0x217c14cde10>"
      ]
     },
     "execution_count": 55,
     "metadata": {},
     "output_type": "execute_result"
    },
    {
     "data": {
      "image/png": "[encoded data removed]",
      "text/plain": [
       "<Figure size 432x288 with 1 Axes>"
      ]
     },
     "metadata": {
      "needs_background": "light"
     },
     "output_type": "display_data"
    }
   ],
   "source": [
    "plt.plot(history.history['accuracy'], label = ' Training Accuracy')\n",
    "plt.plot(history.history['val_accuracy'], label = ' Test Accuracy')\n",
    "plt.legend()"
   ]
  },
  {
   "cell_type": "code",
   "execution_count": 56,
   "metadata": {},
   "outputs": [
    {
     "name": "stdout",
     "output_type": "stream",
     "text": [
      "111/111 [==============================] - 0s 1ms/step\n"
     ]
    }
   ],
   "source": [
    "model5_eval = model5.evaluate(X_test_5,y_test, verbose=1)\n",
    "model5_metrics = model5.metrics_names"
   ]
  },
  {
   "cell_type": "markdown",
   "metadata": {},
   "source": [
    "**Model 6**\n",
    "mfcc with padding"
   ]
  },
  {
   "cell_type": "code",
   "execution_count": 23,
   "metadata": {},
   "outputs": [],
   "source": [
    "def get_mfcc(file, n_mfcc=40):\n",
    "    audio, sr = librosa.load(file) \n",
    "    mfccs = librosa.feature.mfcc(y=audio, sr=sr, n_mfcc=n_mfcc)\n",
    "    return mfccs.T"
   ]
  },
  {
   "cell_type": "code",
   "execution_count": 24,
   "metadata": {},
   "outputs": [],
   "source": [
    "mfcc = features_df['filepath'].map(get_mfcc)"
   ]
  },
  {
   "cell_type": "code",
   "execution_count": 25,
   "metadata": {},
   "outputs": [],
   "source": [
    "X = pad_sequences(mfcc, padding='post')"
   ]
  },
  {
   "cell_type": "code",
   "execution_count": 26,
   "metadata": {},
   "outputs": [
    {
     "data": {
      "text/plain": [
       "(553, 39, 40)"
      ]
     },
     "execution_count": 26,
     "metadata": {},
     "output_type": "execute_result"
    }
   ],
   "source": [
    "X.shape"
   ]
  },
  {
   "cell_type": "code",
   "execution_count": 61,
   "metadata": {},
   "outputs": [],
   "source": [
    "X_train_6, X_test_6, y_train, y_test = train_test_split(X, y, test_size = 0.2, random_state = 42, stratify = y)"
   ]
  },
  {
   "cell_type": "code",
   "execution_count": 62,
   "metadata": {},
   "outputs": [],
   "source": [
    "model6 = Sequential()\n",
    "\n",
    "model6.add(Masking(mask_value=0, input_shape=(39, 40)))\n",
    "model6.add(LSTM(64, input_shape = (39,40), return_sequences=True))\n",
    "model6.add(LSTM(64, return_sequences=False ))\n",
    "model6.add(Dense(64, activation = 'relu'))\n",
    "model6.add(Dropout(0.3))\n",
    "\n",
    "model6.add(Dense(5, activation = 'softmax'))"
   ]
  },
  {
   "cell_type": "code",
   "execution_count": 63,
   "metadata": {},
   "outputs": [],
   "source": [
    "model6.compile(optimizer = 'Adam', loss = 'categorical_crossentropy', metrics = ['accuracy'])"
   ]
  },
  {
   "cell_type": "code",
   "execution_count": 64,
   "metadata": {},
   "outputs": [
    {
     "name": "stdout",
     "output_type": "stream",
     "text": [
      "Model: \"sequential_5\"\n",
      "_________________________________________________________________\n",
      "Layer (type)                 Output Shape              Param #   \n",
      "=================================================================\n",
      "masking_1 (Masking)          (None, 39, 40)            0         \n",
      "_________________________________________________________________\n",
      "lstm_3 (LSTM)                (None, 39, 64)            26880     \n",
      "_________________________________________________________________\n",
      "lstm_4 (LSTM)                (None, 64)                33024     \n",
      "_________________________________________________________________\n",
      "dense_12 (Dense)             (None, 64)                4160      \n",
      "_________________________________________________________________\n",
      "dropout_2 (Dropout)          (None, 64)                0         \n",
      "_________________________________________________________________\n",
      "dense_13 (Dense)             (None, 5)                 325       \n",
      "=================================================================\n",
      "Total params: 64,389\n",
      "Trainable params: 64,389\n",
      "Non-trainable params: 0\n",
      "_________________________________________________________________\n"
     ]
    }
   ],
   "source": [
    "model6.summary()"
   ]
  },
  {
   "cell_type": "code",
   "execution_count": 65,
   "metadata": {},
   "outputs": [
    {
     "name": "stdout",
     "output_type": "stream",
     "text": [
      "Train on 442 samples, validate on 111 samples\n",
      "Epoch 1/100\n",
      " - 2s - loss: 1.5683 - accuracy: 0.2534 - val_loss: 1.4895 - val_accuracy: 0.4955\n",
      "Epoch 2/100\n",
      " - 1s - loss: 1.3896 - accuracy: 0.4615 - val_loss: 1.2068 - val_accuracy: 0.6396\n",
      "Epoch 3/100\n",
      " - 1s - loss: 1.0291 - accuracy: 0.6244 - val_loss: 0.8503 - val_accuracy: 0.7027\n",
      "Epoch 4/100\n",
      " - 1s - loss: 0.7518 - accuracy: 0.6810 - val_loss: 0.7017 - val_accuracy: 0.7207\n",
      "Epoch 5/100\n",
      " - 1s - loss: 0.4848 - accuracy: 0.8167 - val_loss: 0.4442 - val_accuracy: 0.8108\n",
      "Epoch 6/100\n",
      " - 1s - loss: 0.3150 - accuracy: 0.9072 - val_loss: 0.4069 - val_accuracy: 0.8649\n",
      "Epoch 7/100\n",
      " - 1s - loss: 0.2221 - accuracy: 0.9367 - val_loss: 0.3381 - val_accuracy: 0.9009\n",
      "Epoch 8/100\n",
      " - 1s - loss: 0.1386 - accuracy: 0.9570 - val_loss: 0.2847 - val_accuracy: 0.9009\n",
      "Epoch 9/100\n",
      " - 1s - loss: 0.0667 - accuracy: 0.9842 - val_loss: 0.2613 - val_accuracy: 0.9189\n",
      "Epoch 10/100\n",
      " - 1s - loss: 0.0393 - accuracy: 0.9932 - val_loss: 0.2542 - val_accuracy: 0.9279\n",
      "Epoch 11/100\n",
      " - 1s - loss: 0.0259 - accuracy: 1.0000 - val_loss: 0.2540 - val_accuracy: 0.9189\n",
      "Epoch 12/100\n",
      " - 1s - loss: 0.0186 - accuracy: 0.9977 - val_loss: 0.2650 - val_accuracy: 0.9189\n",
      "Epoch 13/100\n",
      " - 1s - loss: 0.0189 - accuracy: 1.0000 - val_loss: 0.2660 - val_accuracy: 0.9189\n",
      "Epoch 14/100\n",
      " - 1s - loss: 0.0167 - accuracy: 0.9932 - val_loss: 0.2832 - val_accuracy: 0.9099\n",
      "Epoch 15/100\n",
      " - 1s - loss: 0.0340 - accuracy: 0.9887 - val_loss: 0.2746 - val_accuracy: 0.9189\n",
      "Epoch 16/100\n",
      " - 1s - loss: 0.0461 - accuracy: 0.9864 - val_loss: 0.3126 - val_accuracy: 0.9189\n",
      "Epoch 17/100\n",
      " - 1s - loss: 0.0184 - accuracy: 0.9977 - val_loss: 0.3911 - val_accuracy: 0.9099\n",
      "Epoch 18/100\n",
      " - 1s - loss: 0.0270 - accuracy: 0.9932 - val_loss: 0.2327 - val_accuracy: 0.9279\n",
      "Epoch 19/100\n",
      " - 1s - loss: 0.0085 - accuracy: 1.0000 - val_loss: 0.2272 - val_accuracy: 0.9279\n",
      "Epoch 20/100\n",
      " - 1s - loss: 0.0050 - accuracy: 1.0000 - val_loss: 0.2489 - val_accuracy: 0.9189\n",
      "Epoch 21/100\n",
      " - 1s - loss: 0.0050 - accuracy: 1.0000 - val_loss: 0.2708 - val_accuracy: 0.9279\n",
      "Epoch 22/100\n",
      " - 1s - loss: 0.0037 - accuracy: 1.0000 - val_loss: 0.2749 - val_accuracy: 0.9279\n",
      "Epoch 23/100\n",
      " - 1s - loss: 0.0030 - accuracy: 1.0000 - val_loss: 0.2620 - val_accuracy: 0.9189\n",
      "Epoch 24/100\n",
      " - 1s - loss: 0.0032 - accuracy: 1.0000 - val_loss: 0.2630 - val_accuracy: 0.9099\n",
      "Epoch 25/100\n",
      " - 1s - loss: 0.0024 - accuracy: 1.0000 - val_loss: 0.2690 - val_accuracy: 0.9099\n",
      "Epoch 26/100\n",
      " - 1s - loss: 0.0026 - accuracy: 1.0000 - val_loss: 0.2770 - val_accuracy: 0.9009\n",
      "Epoch 27/100\n",
      " - 1s - loss: 0.0031 - accuracy: 1.0000 - val_loss: 0.2836 - val_accuracy: 0.9189\n",
      "Epoch 28/100\n",
      " - 1s - loss: 0.0020 - accuracy: 1.0000 - val_loss: 0.2870 - val_accuracy: 0.9189\n",
      "Epoch 29/100\n",
      " - 1s - loss: 0.0018 - accuracy: 1.0000 - val_loss: 0.2929 - val_accuracy: 0.9189\n",
      "Epoch 30/100\n",
      " - 1s - loss: 0.0017 - accuracy: 1.0000 - val_loss: 0.2951 - val_accuracy: 0.9099\n",
      "Epoch 31/100\n",
      " - 1s - loss: 0.0022 - accuracy: 1.0000 - val_loss: 0.2871 - val_accuracy: 0.9189\n",
      "Epoch 32/100\n",
      " - 1s - loss: 0.0011 - accuracy: 1.0000 - val_loss: 0.2951 - val_accuracy: 0.9279\n",
      "Epoch 33/100\n",
      " - 1s - loss: 0.0014 - accuracy: 1.0000 - val_loss: 0.2983 - val_accuracy: 0.9279\n",
      "Epoch 34/100\n",
      " - 1s - loss: 0.0015 - accuracy: 1.0000 - val_loss: 0.3004 - val_accuracy: 0.9279\n",
      "Epoch 35/100\n",
      " - 1s - loss: 0.0010 - accuracy: 1.0000 - val_loss: 0.3033 - val_accuracy: 0.9279\n",
      "Epoch 36/100\n",
      " - 1s - loss: 8.4521e-04 - accuracy: 1.0000 - val_loss: 0.3010 - val_accuracy: 0.9279\n",
      "Epoch 37/100\n",
      " - 1s - loss: 0.0011 - accuracy: 1.0000 - val_loss: 0.3007 - val_accuracy: 0.9279\n",
      "Epoch 38/100\n",
      " - 1s - loss: 0.0015 - accuracy: 1.0000 - val_loss: 0.3020 - val_accuracy: 0.9189\n",
      "Epoch 39/100\n",
      " - 1s - loss: 0.0013 - accuracy: 1.0000 - val_loss: 0.3035 - val_accuracy: 0.9189\n",
      "Epoch 40/100\n",
      " - 1s - loss: 0.0013 - accuracy: 1.0000 - val_loss: 0.3166 - val_accuracy: 0.9189\n",
      "Epoch 41/100\n",
      " - 1s - loss: 6.8664e-04 - accuracy: 1.0000 - val_loss: 0.3219 - val_accuracy: 0.9189\n",
      "Epoch 42/100\n",
      " - 1s - loss: 9.6222e-04 - accuracy: 1.0000 - val_loss: 0.3261 - val_accuracy: 0.9099\n",
      "Epoch 43/100\n",
      " - 1s - loss: 5.1381e-04 - accuracy: 1.0000 - val_loss: 0.3304 - val_accuracy: 0.9099\n",
      "Epoch 44/100\n",
      " - 1s - loss: 7.7849e-04 - accuracy: 1.0000 - val_loss: 0.3341 - val_accuracy: 0.9099\n",
      "Epoch 45/100\n",
      " - 1s - loss: 6.9666e-04 - accuracy: 1.0000 - val_loss: 0.3415 - val_accuracy: 0.9099\n",
      "Epoch 46/100\n",
      " - 1s - loss: 7.0205e-04 - accuracy: 1.0000 - val_loss: 0.3469 - val_accuracy: 0.9099\n",
      "Epoch 47/100\n",
      " - 1s - loss: 0.0014 - accuracy: 1.0000 - val_loss: 0.3469 - val_accuracy: 0.9099\n",
      "Epoch 48/100\n",
      " - 1s - loss: 7.6181e-04 - accuracy: 1.0000 - val_loss: 0.3481 - val_accuracy: 0.9099\n",
      "Epoch 49/100\n",
      " - 1s - loss: 7.6643e-04 - accuracy: 1.0000 - val_loss: 0.3471 - val_accuracy: 0.9099\n",
      "Epoch 50/100\n",
      " - 1s - loss: 9.3210e-04 - accuracy: 1.0000 - val_loss: 0.3432 - val_accuracy: 0.9099\n",
      "Epoch 51/100\n",
      " - 1s - loss: 7.4470e-04 - accuracy: 1.0000 - val_loss: 0.3436 - val_accuracy: 0.9009\n",
      "Epoch 52/100\n",
      " - 1s - loss: 5.2230e-04 - accuracy: 1.0000 - val_loss: 0.3477 - val_accuracy: 0.9009\n",
      "Epoch 53/100\n",
      " - 1s - loss: 5.4074e-04 - accuracy: 1.0000 - val_loss: 0.3523 - val_accuracy: 0.9009\n",
      "Epoch 54/100\n",
      " - 1s - loss: 5.4006e-04 - accuracy: 1.0000 - val_loss: 0.3572 - val_accuracy: 0.9099\n",
      "Epoch 55/100\n",
      " - 1s - loss: 3.8776e-04 - accuracy: 1.0000 - val_loss: 0.3611 - val_accuracy: 0.9099\n",
      "Epoch 56/100\n",
      " - 1s - loss: 7.5892e-04 - accuracy: 1.0000 - val_loss: 0.3642 - val_accuracy: 0.9099\n",
      "Epoch 57/100\n",
      " - 1s - loss: 4.4664e-04 - accuracy: 1.0000 - val_loss: 0.3737 - val_accuracy: 0.9099\n",
      "Epoch 58/100\n",
      " - 1s - loss: 4.8814e-04 - accuracy: 1.0000 - val_loss: 0.3770 - val_accuracy: 0.9099\n",
      "Epoch 59/100\n",
      " - 1s - loss: 3.7271e-04 - accuracy: 1.0000 - val_loss: 0.3781 - val_accuracy: 0.9099\n",
      "Epoch 60/100\n",
      " - 1s - loss: 3.8239e-04 - accuracy: 1.0000 - val_loss: 0.3804 - val_accuracy: 0.9099\n",
      "Epoch 61/100\n",
      " - 1s - loss: 3.7583e-04 - accuracy: 1.0000 - val_loss: 0.3833 - val_accuracy: 0.9099\n",
      "Epoch 62/100\n",
      " - 1s - loss: 3.5284e-04 - accuracy: 1.0000 - val_loss: 0.3806 - val_accuracy: 0.9099\n",
      "Epoch 63/100\n",
      " - 1s - loss: 4.8729e-04 - accuracy: 1.0000 - val_loss: 0.3808 - val_accuracy: 0.9099\n",
      "Epoch 64/100\n",
      " - 1s - loss: 3.9864e-04 - accuracy: 1.0000 - val_loss: 0.3835 - val_accuracy: 0.9099\n",
      "Epoch 65/100\n",
      " - 1s - loss: 3.3305e-04 - accuracy: 1.0000 - val_loss: 0.3848 - val_accuracy: 0.9099\n",
      "Epoch 66/100\n",
      " - 1s - loss: 4.5074e-04 - accuracy: 1.0000 - val_loss: 0.3857 - val_accuracy: 0.9099\n",
      "Epoch 67/100\n",
      " - 1s - loss: 5.1179e-04 - accuracy: 1.0000 - val_loss: 0.3877 - val_accuracy: 0.9099\n",
      "Epoch 68/100\n",
      " - 1s - loss: 5.3517e-04 - accuracy: 1.0000 - val_loss: 0.3868 - val_accuracy: 0.9009\n",
      "Epoch 69/100\n",
      " - 1s - loss: 3.8110e-04 - accuracy: 1.0000 - val_loss: 0.3865 - val_accuracy: 0.9009\n",
      "Epoch 70/100\n",
      " - 1s - loss: 3.2778e-04 - accuracy: 1.0000 - val_loss: 0.3852 - val_accuracy: 0.9009\n",
      "Epoch 71/100\n",
      " - 1s - loss: 2.9922e-04 - accuracy: 1.0000 - val_loss: 0.3880 - val_accuracy: 0.9099\n",
      "Epoch 72/100\n",
      " - 1s - loss: 3.6557e-04 - accuracy: 1.0000 - val_loss: 0.3885 - val_accuracy: 0.9099\n",
      "Epoch 73/100\n",
      " - 1s - loss: 4.4394e-04 - accuracy: 1.0000 - val_loss: 0.3901 - val_accuracy: 0.9009\n",
      "Epoch 74/100\n",
      " - 1s - loss: 6.3206e-04 - accuracy: 1.0000 - val_loss: 0.3934 - val_accuracy: 0.9009\n",
      "Epoch 75/100\n",
      " - 1s - loss: 6.6196e-04 - accuracy: 1.0000 - val_loss: 0.3940 - val_accuracy: 0.9009\n",
      "Epoch 76/100\n",
      " - 1s - loss: 3.1796e-04 - accuracy: 1.0000 - val_loss: 0.3993 - val_accuracy: 0.9009\n",
      "Epoch 77/100\n",
      " - 1s - loss: 4.0260e-04 - accuracy: 1.0000 - val_loss: 0.4052 - val_accuracy: 0.9009\n",
      "Epoch 78/100\n",
      " - 1s - loss: 3.0306e-04 - accuracy: 1.0000 - val_loss: 0.4089 - val_accuracy: 0.9009\n",
      "Epoch 79/100\n",
      " - 1s - loss: 1.9350e-04 - accuracy: 1.0000 - val_loss: 0.4104 - val_accuracy: 0.9009\n",
      "Epoch 80/100\n",
      " - 1s - loss: 2.4817e-04 - accuracy: 1.0000 - val_loss: 0.4115 - val_accuracy: 0.9099\n",
      "Epoch 81/100\n",
      " - 1s - loss: 4.9517e-04 - accuracy: 1.0000 - val_loss: 0.4111 - val_accuracy: 0.9009\n",
      "Epoch 82/100\n",
      " - 1s - loss: 8.2753e-04 - accuracy: 1.0000 - val_loss: 0.4087 - val_accuracy: 0.9009\n",
      "Epoch 83/100\n",
      " - 1s - loss: 4.1009e-04 - accuracy: 1.0000 - val_loss: 0.4114 - val_accuracy: 0.9099\n",
      "Epoch 84/100\n",
      " - 1s - loss: 4.1507e-04 - accuracy: 1.0000 - val_loss: 0.4151 - val_accuracy: 0.9099\n"
     ]
    },
    {
     "name": "stdout",
     "output_type": "stream",
     "text": [
      "Epoch 85/100\n",
      " - 1s - loss: 4.1521e-04 - accuracy: 1.0000 - val_loss: 0.4186 - val_accuracy: 0.9099\n",
      "Epoch 86/100\n",
      " - 1s - loss: 3.5306e-04 - accuracy: 1.0000 - val_loss: 0.4268 - val_accuracy: 0.9099\n",
      "Epoch 87/100\n",
      " - 1s - loss: 2.8506e-04 - accuracy: 1.0000 - val_loss: 0.4309 - val_accuracy: 0.9189\n",
      "Epoch 88/100\n",
      " - 1s - loss: 2.0388e-04 - accuracy: 1.0000 - val_loss: 0.4318 - val_accuracy: 0.9189\n",
      "Epoch 89/100\n",
      " - 1s - loss: 3.6057e-04 - accuracy: 1.0000 - val_loss: 0.4352 - val_accuracy: 0.9189\n",
      "Epoch 90/100\n",
      " - 1s - loss: 2.4761e-04 - accuracy: 1.0000 - val_loss: 0.4442 - val_accuracy: 0.9189\n",
      "Epoch 91/100\n",
      " - 1s - loss: 4.0486e-04 - accuracy: 1.0000 - val_loss: 0.4510 - val_accuracy: 0.9189\n",
      "Epoch 92/100\n",
      " - 1s - loss: 3.1697e-04 - accuracy: 1.0000 - val_loss: 0.4497 - val_accuracy: 0.9189\n",
      "Epoch 93/100\n",
      " - 1s - loss: 2.1042e-04 - accuracy: 1.0000 - val_loss: 0.4520 - val_accuracy: 0.9189\n",
      "Epoch 94/100\n",
      " - 1s - loss: 2.2384e-04 - accuracy: 1.0000 - val_loss: 0.4521 - val_accuracy: 0.9189\n",
      "Epoch 95/100\n",
      " - 1s - loss: 1.2012e-04 - accuracy: 1.0000 - val_loss: 0.4543 - val_accuracy: 0.9189\n",
      "Epoch 96/100\n",
      " - 1s - loss: 2.1537e-04 - accuracy: 1.0000 - val_loss: 0.4554 - val_accuracy: 0.9189\n",
      "Epoch 97/100\n",
      " - 1s - loss: 3.5671e-04 - accuracy: 1.0000 - val_loss: 0.4546 - val_accuracy: 0.9189\n",
      "Epoch 98/100\n",
      " - 1s - loss: 3.1807e-04 - accuracy: 1.0000 - val_loss: 0.4574 - val_accuracy: 0.9189\n",
      "Epoch 99/100\n",
      " - 1s - loss: 2.2139e-04 - accuracy: 1.0000 - val_loss: 0.4527 - val_accuracy: 0.9189\n",
      "Epoch 100/100\n",
      " - 1s - loss: 1.8606e-04 - accuracy: 1.0000 - val_loss: 0.4492 - val_accuracy: 0.9099\n"
     ]
    }
   ],
   "source": [
    "history = model6.fit(X_train_6,\n",
    "                    y_train,\n",
    "                    batch_size=32,\n",
    "                    validation_data=(X_test_6, y_test),\n",
    "                    epochs=100,\n",
    "                    verbose=2)"
   ]
  },
  {
   "cell_type": "code",
   "execution_count": 66,
   "metadata": {},
   "outputs": [
    {
     "data": {
      "text/plain": [
       "<matplotlib.legend.Legend at 0x217c153a7b8>"
      ]
     },
     "execution_count": 66,
     "metadata": {},
     "output_type": "execute_result"
    },
    {
     "data": {
      "image/png": "[encoded data removed]",
      "text/plain": [
       "<Figure size 432x288 with 1 Axes>"
      ]
     },
     "metadata": {
      "needs_background": "light"
     },
     "output_type": "display_data"
    }
   ],
   "source": [
    "plt.plot(history.history['loss'], label = ' Training Loss')\n",
    "plt.plot(history.history['val_loss'], label = ' Test Loss')\n",
    "plt.legend()"
   ]
  },
  {
   "cell_type": "code",
   "execution_count": 67,
   "metadata": {},
   "outputs": [
    {
     "data": {
      "text/plain": [
       "<matplotlib.legend.Legend at 0x217cdeb8828>"
      ]
     },
     "execution_count": 67,
     "metadata": {},
     "output_type": "execute_result"
    },
    {
     "data": {
      "image/png": "[encoded data removed]",
      "text/plain": [
       "<Figure size 432x288 with 1 Axes>"
      ]
     },
     "metadata": {
      "needs_background": "light"
     },
     "output_type": "display_data"
    }
   ],
   "source": [
    "plt.plot(history.history['accuracy'], label = ' Training Accuracy')\n",
    "plt.plot(history.history['val_accuracy'], label = ' Test Accuracy')\n",
    "plt.legend()"
   ]
  },
  {
   "cell_type": "code",
   "execution_count": 68,
   "metadata": {},
   "outputs": [
    {
     "name": "stdout",
     "output_type": "stream",
     "text": [
      "111/111 [==============================] - 0s 604us/step\n"
     ]
    }
   ],
   "source": [
    "model6_eval = model6.evaluate(X_test_6,y_test, verbose=1)\n",
    "model6_metrics = model6.metrics_names"
   ]
  },
  {
   "cell_type": "markdown",
   "metadata": {},
   "source": [
    "Model 7 \n",
    "RNN with GRU"
   ]
  },
  {
   "cell_type": "code",
   "execution_count": 27,
   "metadata": {},
   "outputs": [],
   "source": [
    "X_train_7, X_test_7, y_train, y_test = train_test_split(X, y, test_size = 0.2, random_state = 42, stratify = y)"
   ]
  },
  {
   "cell_type": "code",
   "execution_count": 28,
   "metadata": {},
   "outputs": [],
   "source": [
    "model7 = Sequential()\n",
    "\n",
    "model7.add(Masking(mask_value=0, input_shape=(39, 40)))\n",
    "model7.add(GRU(64, input_shape = (39,40), return_sequences=True))\n",
    "model7.add(GRU(64, return_sequences=False ))\n",
    "model7.add(Dense(64, activation = 'relu'))\n",
    "model7.add(Dropout(0.3))\n",
    "\n",
    "model7.add(Dense(5, activation = 'softmax'))"
   ]
  },
  {
   "cell_type": "code",
   "execution_count": 29,
   "metadata": {},
   "outputs": [],
   "source": [
    "model7.compile(optimizer = 'Adam', loss = 'categorical_crossentropy', metrics = ['accuracy'])"
   ]
  },
  {
   "cell_type": "code",
   "execution_count": 30,
   "metadata": {
    "scrolled": true
   },
   "outputs": [
    {
     "name": "stdout",
     "output_type": "stream",
     "text": [
      "Model: \"sequential_1\"\n",
      "_________________________________________________________________\n",
      "Layer (type)                 Output Shape              Param #   \n",
      "=================================================================\n",
      "masking (Masking)            (None, 39, 40)            0         \n",
      "_________________________________________________________________\n",
      "gru (GRU)                    (None, 39, 64)            20352     \n",
      "_________________________________________________________________\n",
      "gru_1 (GRU)                  (None, 64)                24960     \n",
      "_________________________________________________________________\n",
      "dense_3 (Dense)              (None, 64)                4160      \n",
      "_________________________________________________________________\n",
      "dropout (Dropout)            (None, 64)                0         \n",
      "_________________________________________________________________\n",
      "dense_4 (Dense)              (None, 5)                 325       \n",
      "=================================================================\n",
      "Total params: 49,797\n",
      "Trainable params: 49,797\n",
      "Non-trainable params: 0\n",
      "_________________________________________________________________\n"
     ]
    }
   ],
   "source": [
    "model7.summary()"
   ]
  },
  {
   "cell_type": "code",
   "execution_count": 31,
   "metadata": {},
   "outputs": [
    {
     "name": "stdout",
     "output_type": "stream",
     "text": [
      "Epoch 1/100\n",
      "14/14 - 5s - loss: 1.5476 - accuracy: 0.3235 - val_loss: 1.4030 - val_accuracy: 0.5135\n",
      "Epoch 2/100\n",
      "14/14 - 1s - loss: 1.2878 - accuracy: 0.5588 - val_loss: 1.1716 - val_accuracy: 0.5856\n",
      "Epoch 3/100\n",
      "14/14 - 1s - loss: 1.0631 - accuracy: 0.5701 - val_loss: 0.9537 - val_accuracy: 0.7027\n",
      "Epoch 4/100\n",
      "14/14 - 1s - loss: 0.8373 - accuracy: 0.7217 - val_loss: 0.7797 - val_accuracy: 0.7207\n",
      "Epoch 5/100\n",
      "14/14 - 1s - loss: 0.6398 - accuracy: 0.7919 - val_loss: 0.6271 - val_accuracy: 0.8018\n",
      "Epoch 6/100\n",
      "14/14 - 1s - loss: 0.4691 - accuracy: 0.8801 - val_loss: 0.5364 - val_accuracy: 0.7568\n",
      "Epoch 7/100\n",
      "14/14 - 1s - loss: 0.3304 - accuracy: 0.9140 - val_loss: 0.3807 - val_accuracy: 0.8468\n",
      "Epoch 8/100\n",
      "14/14 - 1s - loss: 0.1931 - accuracy: 0.9615 - val_loss: 0.3047 - val_accuracy: 0.8829\n",
      "Epoch 9/100\n",
      "14/14 - 1s - loss: 0.1329 - accuracy: 0.9638 - val_loss: 0.3371 - val_accuracy: 0.8739\n",
      "Epoch 10/100\n",
      "14/14 - 1s - loss: 0.0904 - accuracy: 0.9796 - val_loss: 0.2666 - val_accuracy: 0.9279\n",
      "Epoch 11/100\n",
      "14/14 - 1s - loss: 0.0526 - accuracy: 0.9932 - val_loss: 0.3311 - val_accuracy: 0.8829\n",
      "Epoch 12/100\n",
      "14/14 - 1s - loss: 0.0446 - accuracy: 0.9955 - val_loss: 0.2600 - val_accuracy: 0.9099\n",
      "Epoch 13/100\n",
      "14/14 - 1s - loss: 0.0356 - accuracy: 0.9932 - val_loss: 0.3353 - val_accuracy: 0.9099\n",
      "Epoch 14/100\n",
      "14/14 - 1s - loss: 0.0379 - accuracy: 0.9932 - val_loss: 0.3421 - val_accuracy: 0.9099\n",
      "Epoch 15/100\n",
      "14/14 - 1s - loss: 0.0156 - accuracy: 0.9977 - val_loss: 0.3636 - val_accuracy: 0.9099\n",
      "Epoch 16/100\n",
      "14/14 - 1s - loss: 0.0108 - accuracy: 1.0000 - val_loss: 0.3578 - val_accuracy: 0.8829\n",
      "Epoch 17/100\n",
      "14/14 - 1s - loss: 0.0113 - accuracy: 1.0000 - val_loss: 0.4076 - val_accuracy: 0.9009\n",
      "Epoch 18/100\n",
      "14/14 - 1s - loss: 0.0110 - accuracy: 1.0000 - val_loss: 0.3759 - val_accuracy: 0.9099\n",
      "Epoch 19/100\n",
      "14/14 - 1s - loss: 0.0057 - accuracy: 1.0000 - val_loss: 0.3915 - val_accuracy: 0.9009\n",
      "Epoch 20/100\n",
      "14/14 - 1s - loss: 0.0069 - accuracy: 1.0000 - val_loss: 0.3791 - val_accuracy: 0.9009\n",
      "Epoch 21/100\n",
      "14/14 - 1s - loss: 0.0049 - accuracy: 1.0000 - val_loss: 0.3912 - val_accuracy: 0.9009\n",
      "Epoch 22/100\n",
      "14/14 - 1s - loss: 0.0056 - accuracy: 1.0000 - val_loss: 0.4201 - val_accuracy: 0.9009\n",
      "Epoch 23/100\n",
      "14/14 - 1s - loss: 0.0039 - accuracy: 1.0000 - val_loss: 0.4254 - val_accuracy: 0.9009\n",
      "Epoch 24/100\n",
      "14/14 - 1s - loss: 0.0036 - accuracy: 1.0000 - val_loss: 0.4208 - val_accuracy: 0.9009\n",
      "Epoch 25/100\n",
      "14/14 - 1s - loss: 0.0037 - accuracy: 1.0000 - val_loss: 0.4228 - val_accuracy: 0.9009\n",
      "Epoch 26/100\n",
      "14/14 - 1s - loss: 0.0043 - accuracy: 1.0000 - val_loss: 0.4519 - val_accuracy: 0.9099\n",
      "Epoch 27/100\n",
      "14/14 - 1s - loss: 0.0023 - accuracy: 1.0000 - val_loss: 0.4662 - val_accuracy: 0.9099\n",
      "Epoch 28/100\n",
      "14/14 - 1s - loss: 0.0024 - accuracy: 1.0000 - val_loss: 0.4755 - val_accuracy: 0.9009\n",
      "Epoch 29/100\n",
      "14/14 - 1s - loss: 0.0025 - accuracy: 1.0000 - val_loss: 0.4854 - val_accuracy: 0.9009\n",
      "Epoch 30/100\n",
      "14/14 - 1s - loss: 0.0031 - accuracy: 1.0000 - val_loss: 0.4806 - val_accuracy: 0.8919\n",
      "Epoch 31/100\n",
      "14/14 - 1s - loss: 0.0026 - accuracy: 1.0000 - val_loss: 0.5141 - val_accuracy: 0.8919\n",
      "Epoch 32/100\n",
      "14/14 - 1s - loss: 0.0017 - accuracy: 1.0000 - val_loss: 0.5495 - val_accuracy: 0.9009\n",
      "Epoch 33/100\n",
      "14/14 - 1s - loss: 0.0018 - accuracy: 1.0000 - val_loss: 0.5472 - val_accuracy: 0.8919\n",
      "Epoch 34/100\n",
      "14/14 - 1s - loss: 0.0033 - accuracy: 1.0000 - val_loss: 0.5473 - val_accuracy: 0.9009\n",
      "Epoch 35/100\n",
      "14/14 - 1s - loss: 0.0015 - accuracy: 1.0000 - val_loss: 0.5557 - val_accuracy: 0.9099\n",
      "Epoch 36/100\n",
      "14/14 - 1s - loss: 0.0023 - accuracy: 1.0000 - val_loss: 0.5284 - val_accuracy: 0.9009\n",
      "Epoch 37/100\n",
      "14/14 - 1s - loss: 0.0019 - accuracy: 1.0000 - val_loss: 0.5294 - val_accuracy: 0.8919\n",
      "Epoch 38/100\n",
      "14/14 - 1s - loss: 0.0012 - accuracy: 1.0000 - val_loss: 0.5403 - val_accuracy: 0.8919\n",
      "Epoch 39/100\n",
      "14/14 - 1s - loss: 0.0026 - accuracy: 1.0000 - val_loss: 0.5577 - val_accuracy: 0.9099\n",
      "Epoch 40/100\n",
      "14/14 - 1s - loss: 6.8932e-04 - accuracy: 1.0000 - val_loss: 0.5723 - val_accuracy: 0.9099\n",
      "Epoch 41/100\n",
      "14/14 - 1s - loss: 0.0010 - accuracy: 1.0000 - val_loss: 0.5795 - val_accuracy: 0.9099\n",
      "Epoch 42/100\n",
      "14/14 - 1s - loss: 0.0020 - accuracy: 1.0000 - val_loss: 0.5892 - val_accuracy: 0.9099\n",
      "Epoch 43/100\n",
      "14/14 - 1s - loss: 0.0011 - accuracy: 1.0000 - val_loss: 0.6007 - val_accuracy: 0.9009\n",
      "Epoch 44/100\n",
      "14/14 - 1s - loss: 0.0024 - accuracy: 1.0000 - val_loss: 0.6277 - val_accuracy: 0.9099\n",
      "Epoch 45/100\n",
      "14/14 - 1s - loss: 0.0013 - accuracy: 1.0000 - val_loss: 0.6676 - val_accuracy: 0.9099\n",
      "Epoch 46/100\n",
      "14/14 - 1s - loss: 6.1223e-04 - accuracy: 1.0000 - val_loss: 0.6616 - val_accuracy: 0.9099\n",
      "Epoch 47/100\n",
      "14/14 - 1s - loss: 7.7874e-04 - accuracy: 1.0000 - val_loss: 0.6526 - val_accuracy: 0.9009\n",
      "Epoch 48/100\n",
      "14/14 - 1s - loss: 5.5905e-04 - accuracy: 1.0000 - val_loss: 0.6573 - val_accuracy: 0.9009\n",
      "Epoch 49/100\n",
      "14/14 - 1s - loss: 0.0014 - accuracy: 1.0000 - val_loss: 0.6467 - val_accuracy: 0.9009\n",
      "Epoch 50/100\n",
      "14/14 - 1s - loss: 5.2152e-04 - accuracy: 1.0000 - val_loss: 0.6292 - val_accuracy: 0.9009\n",
      "Epoch 51/100\n",
      "14/14 - 1s - loss: 0.0011 - accuracy: 1.0000 - val_loss: 0.6179 - val_accuracy: 0.9099\n",
      "Epoch 52/100\n",
      "14/14 - 1s - loss: 8.2678e-04 - accuracy: 1.0000 - val_loss: 0.6077 - val_accuracy: 0.9009\n",
      "Epoch 53/100\n",
      "14/14 - 1s - loss: 0.0011 - accuracy: 1.0000 - val_loss: 0.6072 - val_accuracy: 0.9099\n",
      "Epoch 54/100\n",
      "14/14 - 1s - loss: 6.8318e-04 - accuracy: 1.0000 - val_loss: 0.6197 - val_accuracy: 0.9099\n",
      "Epoch 55/100\n",
      "14/14 - 0s - loss: 5.8488e-04 - accuracy: 1.0000 - val_loss: 0.6209 - val_accuracy: 0.9099\n",
      "Epoch 56/100\n",
      "14/14 - 1s - loss: 7.0342e-04 - accuracy: 1.0000 - val_loss: 0.6253 - val_accuracy: 0.9099\n",
      "Epoch 57/100\n",
      "14/14 - 1s - loss: 0.0010 - accuracy: 1.0000 - val_loss: 0.6334 - val_accuracy: 0.9009\n",
      "Epoch 58/100\n",
      "14/14 - 1s - loss: 6.0211e-04 - accuracy: 1.0000 - val_loss: 0.6402 - val_accuracy: 0.8919\n",
      "Epoch 59/100\n",
      "14/14 - 1s - loss: 8.2071e-04 - accuracy: 1.0000 - val_loss: 0.6446 - val_accuracy: 0.8919\n",
      "Epoch 60/100\n",
      "14/14 - 1s - loss: 5.2553e-04 - accuracy: 1.0000 - val_loss: 0.6435 - val_accuracy: 0.9009\n",
      "Epoch 61/100\n",
      "14/14 - 1s - loss: 3.3153e-04 - accuracy: 1.0000 - val_loss: 0.6447 - val_accuracy: 0.9009\n",
      "Epoch 62/100\n",
      "14/14 - 1s - loss: 4.5770e-04 - accuracy: 1.0000 - val_loss: 0.6456 - val_accuracy: 0.9009\n",
      "Epoch 63/100\n",
      "14/14 - 1s - loss: 4.2054e-04 - accuracy: 1.0000 - val_loss: 0.6489 - val_accuracy: 0.9009\n",
      "Epoch 64/100\n",
      "14/14 - 0s - loss: 4.1424e-04 - accuracy: 1.0000 - val_loss: 0.6499 - val_accuracy: 0.9009\n",
      "Epoch 65/100\n",
      "14/14 - 1s - loss: 5.7647e-04 - accuracy: 1.0000 - val_loss: 0.6534 - val_accuracy: 0.8919\n",
      "Epoch 66/100\n",
      "14/14 - 1s - loss: 9.7561e-04 - accuracy: 1.0000 - val_loss: 0.6404 - val_accuracy: 0.8919\n",
      "Epoch 67/100\n",
      "14/14 - 1s - loss: 3.7340e-04 - accuracy: 1.0000 - val_loss: 0.6393 - val_accuracy: 0.8919\n",
      "Epoch 68/100\n",
      "14/14 - 1s - loss: 5.1309e-04 - accuracy: 1.0000 - val_loss: 0.6455 - val_accuracy: 0.8919\n",
      "Epoch 69/100\n",
      "14/14 - 1s - loss: 6.7464e-04 - accuracy: 1.0000 - val_loss: 0.6515 - val_accuracy: 0.8919\n",
      "Epoch 70/100\n",
      "14/14 - 1s - loss: 5.6178e-04 - accuracy: 1.0000 - val_loss: 0.6525 - val_accuracy: 0.9009\n",
      "Epoch 71/100\n",
      "14/14 - 1s - loss: 3.5173e-04 - accuracy: 1.0000 - val_loss: 0.6519 - val_accuracy: 0.9009\n",
      "Epoch 72/100\n",
      "14/14 - 1s - loss: 0.0011 - accuracy: 1.0000 - val_loss: 0.6569 - val_accuracy: 0.9009\n",
      "Epoch 73/100\n",
      "14/14 - 1s - loss: 3.6800e-04 - accuracy: 1.0000 - val_loss: 0.6669 - val_accuracy: 0.9009\n",
      "Epoch 74/100\n",
      "14/14 - 1s - loss: 2.3543e-04 - accuracy: 1.0000 - val_loss: 0.6717 - val_accuracy: 0.9009\n",
      "Epoch 75/100\n",
      "14/14 - 1s - loss: 6.1109e-04 - accuracy: 1.0000 - val_loss: 0.6767 - val_accuracy: 0.9009\n",
      "Epoch 76/100\n",
      "14/14 - 1s - loss: 3.6332e-04 - accuracy: 1.0000 - val_loss: 0.6850 - val_accuracy: 0.9009\n",
      "Epoch 77/100\n",
      "14/14 - 1s - loss: 6.5875e-04 - accuracy: 1.0000 - val_loss: 0.7076 - val_accuracy: 0.8919\n",
      "Epoch 78/100\n",
      "14/14 - 1s - loss: 3.0284e-04 - accuracy: 1.0000 - val_loss: 0.7154 - val_accuracy: 0.9009\n",
      "Epoch 79/100\n",
      "14/14 - 1s - loss: 2.1794e-04 - accuracy: 1.0000 - val_loss: 0.7115 - val_accuracy: 0.9009\n",
      "Epoch 80/100\n",
      "14/14 - 1s - loss: 1.8029e-04 - accuracy: 1.0000 - val_loss: 0.7143 - val_accuracy: 0.9009\n",
      "Epoch 81/100\n",
      "14/14 - 1s - loss: 2.3822e-04 - accuracy: 1.0000 - val_loss: 0.7210 - val_accuracy: 0.9009\n"
     ]
    },
    {
     "name": "stdout",
     "output_type": "stream",
     "text": [
      "Epoch 82/100\n",
      "14/14 - 1s - loss: 2.2017e-04 - accuracy: 1.0000 - val_loss: 0.7268 - val_accuracy: 0.9009\n",
      "Epoch 83/100\n",
      "14/14 - 1s - loss: 2.2714e-04 - accuracy: 1.0000 - val_loss: 0.7314 - val_accuracy: 0.9009\n",
      "Epoch 84/100\n",
      "14/14 - 1s - loss: 2.7704e-04 - accuracy: 1.0000 - val_loss: 0.7328 - val_accuracy: 0.9009\n",
      "Epoch 85/100\n",
      "14/14 - 1s - loss: 7.1736e-04 - accuracy: 1.0000 - val_loss: 0.7479 - val_accuracy: 0.8919\n",
      "Epoch 86/100\n",
      "14/14 - 1s - loss: 2.1088e-04 - accuracy: 1.0000 - val_loss: 0.7832 - val_accuracy: 0.9009\n",
      "Epoch 87/100\n",
      "14/14 - 1s - loss: 3.9535e-04 - accuracy: 1.0000 - val_loss: 0.7266 - val_accuracy: 0.8919\n",
      "Epoch 88/100\n",
      "14/14 - 1s - loss: 2.9169e-04 - accuracy: 1.0000 - val_loss: 0.7181 - val_accuracy: 0.9009\n",
      "Epoch 89/100\n",
      "14/14 - 1s - loss: 3.6301e-04 - accuracy: 1.0000 - val_loss: 0.7303 - val_accuracy: 0.9009\n",
      "Epoch 90/100\n",
      "14/14 - 1s - loss: 3.9659e-04 - accuracy: 1.0000 - val_loss: 0.7547 - val_accuracy: 0.9009\n",
      "Epoch 91/100\n",
      "14/14 - 1s - loss: 2.7298e-04 - accuracy: 1.0000 - val_loss: 0.7652 - val_accuracy: 0.8919\n",
      "Epoch 92/100\n",
      "14/14 - 1s - loss: 2.1761e-04 - accuracy: 1.0000 - val_loss: 0.7649 - val_accuracy: 0.8919\n",
      "Epoch 93/100\n",
      "14/14 - 1s - loss: 1.7267e-04 - accuracy: 1.0000 - val_loss: 0.7703 - val_accuracy: 0.8919\n",
      "Epoch 94/100\n",
      "14/14 - 1s - loss: 2.7576e-04 - accuracy: 1.0000 - val_loss: 0.7728 - val_accuracy: 0.8919\n",
      "Epoch 95/100\n",
      "14/14 - 1s - loss: 1.4906e-04 - accuracy: 1.0000 - val_loss: 0.7731 - val_accuracy: 0.8919\n",
      "Epoch 96/100\n",
      "14/14 - 0s - loss: 4.6979e-04 - accuracy: 1.0000 - val_loss: 0.7685 - val_accuracy: 0.9009\n",
      "Epoch 97/100\n",
      "14/14 - 0s - loss: 3.6523e-04 - accuracy: 1.0000 - val_loss: 0.7853 - val_accuracy: 0.8919\n",
      "Epoch 98/100\n",
      "14/14 - 1s - loss: 2.6459e-04 - accuracy: 1.0000 - val_loss: 0.8211 - val_accuracy: 0.8919\n",
      "Epoch 99/100\n",
      "14/14 - 1s - loss: 2.6088e-04 - accuracy: 1.0000 - val_loss: 0.8212 - val_accuracy: 0.8919\n",
      "Epoch 100/100\n",
      "14/14 - 1s - loss: 3.6155e-04 - accuracy: 1.0000 - val_loss: 0.8182 - val_accuracy: 0.8919\n"
     ]
    }
   ],
   "source": [
    "history = model7.fit(X_train_7,\n",
    "                    y_train,\n",
    "                    batch_size=32,\n",
    "                    validation_data=(X_test_7, y_test),\n",
    "                    epochs=100,\n",
    "                    verbose=2)"
   ]
  },
  {
   "cell_type": "code",
   "execution_count": 32,
   "metadata": {},
   "outputs": [
    {
     "data": {
      "text/plain": [
       "<matplotlib.legend.Legend at 0x1f928fa40d0>"
      ]
     },
     "execution_count": 32,
     "metadata": {},
     "output_type": "execute_result"
    },
    {
     "data": {
      "image/png": "[encoded data removed]",
      "text/plain": [
       "<Figure size 432x288 with 1 Axes>"
      ]
     },
     "metadata": {
      "needs_background": "light"
     },
     "output_type": "display_data"
    }
   ],
   "source": [
    "plt.plot(history.history['loss'], label = ' Training Loss')\n",
    "plt.plot(history.history['val_loss'], label = ' Test Loss')\n",
    "plt.legend()"
   ]
  },
  {
   "cell_type": "code",
   "execution_count": 33,
   "metadata": {},
   "outputs": [
    {
     "data": {
      "text/plain": [
       "<matplotlib.legend.Legend at 0x1f929207100>"
      ]
     },
     "execution_count": 33,
     "metadata": {},
     "output_type": "execute_result"
    },
    {
     "data": {
      "image/png": "[encoded data removed]",
      "text/plain": [
       "<Figure size 432x288 with 1 Axes>"
      ]
     },
     "metadata": {
      "needs_background": "light"
     },
     "output_type": "display_data"
    }
   ],
   "source": [
    "plt.plot(history.history['accuracy'], label = ' Training Accuracy')\n",
    "plt.plot(history.history['val_accuracy'], label = ' Test Accuracy')\n",
    "plt.legend()"
   ]
  },
  {
   "cell_type": "code",
   "execution_count": 34,
   "metadata": {},
   "outputs": [
    {
     "name": "stdout",
     "output_type": "stream",
     "text": [
      "4/4 [==============================] - 0s 10ms/step - loss: 0.8182 - accuracy: 0.8919\n"
     ]
    }
   ],
   "source": [
    "model7_eval = model7.evaluate(X_test_7, y_test, verbose=1)\n",
    "model7_metrics = model7.metrics_names"
   ]
  },
  {
   "cell_type": "markdown",
   "metadata": {},
   "source": [
    "## Evaluation\n"
   ]
  },
  {
   "cell_type": "code",
   "execution_count": 56,
   "metadata": {},
   "outputs": [],
   "source": [
    "from sklearn.metrics import classification_report, confusion_matrix"
   ]
  },
  {
   "cell_type": "code",
   "execution_count": 78,
   "metadata": {},
   "outputs": [
    {
     "name": "stdout",
     "output_type": "stream",
     "text": [
      "Model 1 loss: 1.2562414482907132\n",
      "Model 1 accuracy: 0.6666666865348816\n",
      "\n",
      "Model 2 loss: 0.11317312287854718\n",
      "Model 2 accuracy: 0.9729729890823364\n",
      "\n",
      "Model 3 loss: 0.8697421808500547\n",
      "Model 3 accuracy: 0.8198198080062866\n",
      "\n",
      "Model 5 loss: 0.803975443582277\n",
      "Model 5 accuracy: 0.8468468189239502\n",
      "\n",
      "Model 6 loss: 0.4491835198960863\n",
      "Model 6 accuracy: 0.9099099040031433\n",
      "\n",
      "Model 7 loss: 0.5485324527321568\n",
      "Model 7 accuracy: 0.9099099040031433\n",
      "\n"
     ]
    }
   ],
   "source": [
    "print(f\"Model 1 {model_metrics[0]}: {model_eval[0]}\")\n",
    "print(f\"Model 1 {model_metrics[1]}: {model_eval[1]}\\n\")\n",
    "\n",
    "print(f\"Model 2 {model2_metrics[0]}: {model2_eval[0]}\")\n",
    "print(f\"Model 2 {model2_metrics[1]}: {model2_eval[1]}\\n\")\n",
    "\n",
    "print(f\"Model 3 {model3_metrics[0]}: {model3_eval[0]}\")\n",
    "print(f\"Model 3 {model3_metrics[1]}: {model3_eval[1]}\\n\")\n",
    "\n",
    "print(f\"Model 5 {model5_metrics[0]}: {model5_eval[0]}\")\n",
    "print(f\"Model 5 {model5_metrics[1]}: {model5_eval[1]}\\n\")\n",
    "\n",
    "print(f\"Model 6 {model6_metrics[0]}: {model6_eval[0]}\")\n",
    "print(f\"Model 6 {model6_metrics[1]}: {model6_eval[1]}\\n\")\n",
    "\n",
    "print(f\"Model 7 {model7_metrics[0]}: {model7_eval[0]}\")\n",
    "print(f\"Model 7 {model7_metrics[1]}: {model7_eval[1]}\\n\")\n"
   ]
  },
  {
   "cell_type": "markdown",
   "metadata": {},
   "source": [
    "Get Predictions for Each Model"
   ]
  },
  {
   "cell_type": "code",
   "execution_count": 81,
   "metadata": {},
   "outputs": [
    {
     "data": {
      "text/plain": [
       "['apples',\n",
       " 'father',\n",
       " 'flowers',\n",
       " 'father',\n",
       " 'flowers',\n",
       " 'flowers',\n",
       " 'water',\n",
       " 'worker',\n",
       " 'apples',\n",
       " 'worker',\n",
       " 'flowers',\n",
       " 'water',\n",
       " 'water',\n",
       " 'flowers',\n",
       " 'father',\n",
       " 'apples',\n",
       " 'father',\n",
       " 'apples',\n",
       " 'father',\n",
       " 'flowers',\n",
       " 'flowers',\n",
       " 'water',\n",
       " 'water',\n",
       " 'apples',\n",
       " 'flowers',\n",
       " 'water',\n",
       " 'worker',\n",
       " 'apples',\n",
       " 'father',\n",
       " 'flowers',\n",
       " 'worker',\n",
       " 'apples',\n",
       " 'apples',\n",
       " 'apples',\n",
       " 'flowers',\n",
       " 'apples',\n",
       " 'flowers',\n",
       " 'apples',\n",
       " 'flowers',\n",
       " 'water',\n",
       " 'father',\n",
       " 'apples',\n",
       " 'apples',\n",
       " 'father',\n",
       " 'water',\n",
       " 'flowers',\n",
       " 'father',\n",
       " 'water',\n",
       " 'worker',\n",
       " 'father',\n",
       " 'worker',\n",
       " 'flowers',\n",
       " 'water',\n",
       " 'water',\n",
       " 'water',\n",
       " 'worker',\n",
       " 'water',\n",
       " 'flowers',\n",
       " 'worker',\n",
       " 'apples',\n",
       " 'water',\n",
       " 'worker',\n",
       " 'father',\n",
       " 'water',\n",
       " 'father',\n",
       " 'worker',\n",
       " 'apples',\n",
       " 'father',\n",
       " 'father',\n",
       " 'worker',\n",
       " 'flowers',\n",
       " 'apples',\n",
       " 'worker',\n",
       " 'apples',\n",
       " 'water',\n",
       " 'father',\n",
       " 'father',\n",
       " 'father',\n",
       " 'apples',\n",
       " 'flowers',\n",
       " 'flowers',\n",
       " 'father',\n",
       " 'flowers',\n",
       " 'water',\n",
       " 'water',\n",
       " 'water',\n",
       " 'worker',\n",
       " 'father',\n",
       " 'worker',\n",
       " 'worker',\n",
       " 'father',\n",
       " 'flowers',\n",
       " 'flowers',\n",
       " 'father',\n",
       " 'apples',\n",
       " 'water',\n",
       " 'worker',\n",
       " 'worker',\n",
       " 'water',\n",
       " 'apples',\n",
       " 'worker',\n",
       " 'worker',\n",
       " 'worker',\n",
       " 'flowers',\n",
       " 'worker',\n",
       " 'water',\n",
       " 'worker',\n",
       " 'apples',\n",
       " 'father',\n",
       " 'apples',\n",
       " 'worker']"
      ]
     },
     "execution_count": 81,
     "metadata": {},
     "output_type": "execute_result"
    }
   ],
   "source": [
    "labels = list(le.classes_)\n",
    "\n",
    "y_test_labels = []\n",
    "for pred in y_test:\n",
    "    for n, i in enumerate(pred):\n",
    "        if i == 1:\n",
    "            y_test_labels.append(labels[n])\n",
    "            \n",
    "y_test_labels"
   ]
  },
  {
   "cell_type": "code",
   "execution_count": 82,
   "metadata": {},
   "outputs": [
    {
     "name": "stdout",
     "output_type": "stream",
     "text": [
      "              precision    recall  f1-score   support\n",
      "\n",
      "      apples       0.65      0.68      0.67        22\n",
      "      father       0.78      0.64      0.70        22\n",
      "     flowers       0.46      0.59      0.52        22\n",
      "       water       0.70      0.73      0.71        22\n",
      "      worker       0.84      0.70      0.76        23\n",
      "\n",
      "    accuracy                           0.67       111\n",
      "   macro avg       0.69      0.67      0.67       111\n",
      "weighted avg       0.69      0.67      0.67       111\n",
      "\n"
     ]
    }
   ],
   "source": [
    "y_pred = model.predict_classes(X_test)\n",
    "y_pred = list(le.inverse_transform(y_pred))\n",
    "\n",
    "print(classification_report(y_test_labels, y_pred))"
   ]
  },
  {
   "cell_type": "code",
   "execution_count": 83,
   "metadata": {},
   "outputs": [
    {
     "name": "stdout",
     "output_type": "stream",
     "text": [
      "              precision    recall  f1-score   support\n",
      "\n",
      "      apples       0.96      1.00      0.98        22\n",
      "      father       0.96      1.00      0.98        22\n",
      "     flowers       1.00      0.95      0.98        22\n",
      "       water       1.00      0.91      0.95        22\n",
      "      worker       0.96      1.00      0.98        23\n",
      "\n",
      "    accuracy                           0.97       111\n",
      "   macro avg       0.97      0.97      0.97       111\n",
      "weighted avg       0.97      0.97      0.97       111\n",
      "\n"
     ]
    }
   ],
   "source": [
    "y_pred2 = model2.predict_classes(X_test_2)\n",
    "y_pred2 = list(le.inverse_transform(y_pred2))\n",
    "\n",
    "print(classification_report(y_test_labels, y_pred2))"
   ]
  },
  {
   "cell_type": "code",
   "execution_count": 84,
   "metadata": {},
   "outputs": [
    {
     "name": "stdout",
     "output_type": "stream",
     "text": [
      "              precision    recall  f1-score   support\n",
      "\n",
      "      apples       0.79      0.86      0.83        22\n",
      "      father       0.75      0.82      0.78        22\n",
      "     flowers       0.85      0.77      0.81        22\n",
      "       water       0.93      0.64      0.76        22\n",
      "      worker       0.82      1.00      0.90        23\n",
      "\n",
      "    accuracy                           0.82       111\n",
      "   macro avg       0.83      0.82      0.82       111\n",
      "weighted avg       0.83      0.82      0.82       111\n",
      "\n"
     ]
    }
   ],
   "source": [
    "y_pred3 = model3.predict_classes(X_test_3)\n",
    "y_pred3 = list(le.inverse_transform(y_pred3))\n",
    "\n",
    "print(classification_report(y_test_labels, y_pred3))"
   ]
  },
  {
   "cell_type": "code",
   "execution_count": 85,
   "metadata": {},
   "outputs": [
    {
     "name": "stdout",
     "output_type": "stream",
     "text": [
      "              precision    recall  f1-score   support\n",
      "\n",
      "      apples       0.95      0.82      0.88        22\n",
      "      father       0.80      0.73      0.76        22\n",
      "     flowers       0.78      0.82      0.80        22\n",
      "       water       0.80      0.91      0.85        22\n",
      "      worker       0.92      0.96      0.94        23\n",
      "\n",
      "    accuracy                           0.85       111\n",
      "   macro avg       0.85      0.85      0.85       111\n",
      "weighted avg       0.85      0.85      0.85       111\n",
      "\n"
     ]
    }
   ],
   "source": [
    "y_pred5 = model5.predict_classes(X_test_5)\n",
    "y_pred5 = list(le.inverse_transform(y_pred5))\n",
    "\n",
    "print(classification_report(y_test_labels, y_pred5))"
   ]
  },
  {
   "cell_type": "code",
   "execution_count": 86,
   "metadata": {},
   "outputs": [
    {
     "name": "stdout",
     "output_type": "stream",
     "text": [
      "              precision    recall  f1-score   support\n",
      "\n",
      "      apples       0.95      0.91      0.93        22\n",
      "      father       0.91      0.91      0.91        22\n",
      "     flowers       0.90      0.82      0.86        22\n",
      "       water       0.84      0.95      0.89        22\n",
      "      worker       0.96      0.96      0.96        23\n",
      "\n",
      "    accuracy                           0.91       111\n",
      "   macro avg       0.91      0.91      0.91       111\n",
      "weighted avg       0.91      0.91      0.91       111\n",
      "\n"
     ]
    }
   ],
   "source": [
    "y_pred6 = model6.predict_classes(X_test_6)\n",
    "y_pred6 = list(le.inverse_transform(y_pred6))\n",
    "\n",
    "print(classification_report(y_test_labels, y_pred6))"
   ]
  },
  {
   "cell_type": "code",
   "execution_count": 87,
   "metadata": {},
   "outputs": [
    {
     "name": "stdout",
     "output_type": "stream",
     "text": [
      "              precision    recall  f1-score   support\n",
      "\n",
      "      apples       0.88      0.95      0.91        22\n",
      "      father       0.88      0.95      0.91        22\n",
      "     flowers       0.90      0.86      0.88        22\n",
      "       water       0.95      0.91      0.93        22\n",
      "      worker       0.95      0.87      0.91        23\n",
      "\n",
      "    accuracy                           0.91       111\n",
      "   macro avg       0.91      0.91      0.91       111\n",
      "weighted avg       0.91      0.91      0.91       111\n",
      "\n"
     ]
    }
   ],
   "source": [
    "y_pred7 = model7.predict_classes(X_test_7)\n",
    "y_pred7 = list(le.inverse_transform(y_pred7))\n",
    "\n",
    "print(classification_report(y_test_labels, y_pred7))"
   ]
  },
  {
   "cell_type": "markdown",
   "metadata": {},
   "source": [
    "The top 2 performing models are Model 2 and Model 7, based on the accuracy and the f1 score."
   ]
  },
  {
   "cell_type": "markdown",
   "metadata": {},
   "source": [
    "**Unseen Data**"
   ]
  },
  {
   "cell_type": "code",
   "execution_count": 35,
   "metadata": {},
   "outputs": [
    {
     "data": {
      "text/html": [
       "<div>\n",
       "<style scoped>\n",
       "    .dataframe tbody tr th:only-of-type {\n",
       "        vertical-align: middle;\n",
       "    }\n",
       "\n",
       "    .dataframe tbody tr th {\n",
       "        vertical-align: top;\n",
       "    }\n",
       "\n",
       "    .dataframe thead th {\n",
       "        text-align: right;\n",
       "    }\n",
       "</style>\n",
       "<table border=\"1\" class=\"dataframe\">\n",
       "  <thead>\n",
       "    <tr style=\"text-align: right;\">\n",
       "      <th></th>\n",
       "      <th>id</th>\n",
       "      <th>filepath</th>\n",
       "      <th>duration</th>\n",
       "      <th>class_label</th>\n",
       "    </tr>\n",
       "  </thead>\n",
       "  <tbody>\n",
       "    <tr>\n",
       "      <th>0</th>\n",
       "      <td>30034</td>\n",
       "      <td>./assets/audio_test/30034_apples.wav</td>\n",
       "      <td>0.416780</td>\n",
       "      <td>apples</td>\n",
       "    </tr>\n",
       "    <tr>\n",
       "      <th>1</th>\n",
       "      <td>30008</td>\n",
       "      <td>./assets/audio_test/30008_flowers.wav</td>\n",
       "      <td>0.530839</td>\n",
       "      <td>flowers</td>\n",
       "    </tr>\n",
       "    <tr>\n",
       "      <th>2</th>\n",
       "      <td>30009</td>\n",
       "      <td>./assets/audio_test/30009_worker.wav</td>\n",
       "      <td>0.496417</td>\n",
       "      <td>worker</td>\n",
       "    </tr>\n",
       "    <tr>\n",
       "      <th>3</th>\n",
       "      <td>30095</td>\n",
       "      <td>./assets/audio_test/30095_water.wav</td>\n",
       "      <td>0.250340</td>\n",
       "      <td>water</td>\n",
       "    </tr>\n",
       "    <tr>\n",
       "      <th>4</th>\n",
       "      <td>30009</td>\n",
       "      <td>./assets/audio_test/30009_father.wav</td>\n",
       "      <td>0.369569</td>\n",
       "      <td>father</td>\n",
       "    </tr>\n",
       "  </tbody>\n",
       "</table>\n",
       "</div>"
      ],
      "text/plain": [
       "      id                               filepath  duration class_label\n",
       "0  30034   ./assets/audio_test/30034_apples.wav  0.416780      apples\n",
       "1  30008  ./assets/audio_test/30008_flowers.wav  0.530839     flowers\n",
       "2  30009   ./assets/audio_test/30009_worker.wav  0.496417      worker\n",
       "3  30095    ./assets/audio_test/30095_water.wav  0.250340       water\n",
       "4  30009   ./assets/audio_test/30009_father.wav  0.369569      father"
      ]
     },
     "execution_count": 35,
     "metadata": {},
     "output_type": "execute_result"
    }
   ],
   "source": [
    "# import test data\n",
    "test_df = pd.read_csv(\"./datasets/testdf.csv\")\n",
    "test_df.head()"
   ]
  },
  {
   "cell_type": "code",
   "execution_count": 60,
   "metadata": {},
   "outputs": [],
   "source": [
    "# preprocess the same as previously\n",
    "test_mfccs_features = get_mfccs_features(test_df['filepath'])\n"
   ]
  },
  {
   "cell_type": "code",
   "execution_count": 61,
   "metadata": {},
   "outputs": [],
   "source": [
    "# add them into the dataframe\n",
    "\n",
    "for k, v in test_mfccs_features.items():\n",
    "    test_df[k] = v"
   ]
  },
  {
   "cell_type": "code",
   "execution_count": 62,
   "metadata": {},
   "outputs": [],
   "source": [
    "# create a new feature with a dimension of 160, stacking the mean and standard deviation of \n",
    "# the mfcc and its delta.\n",
    "\n",
    "combined_features = []\n",
    "for n in range(0,len(test_df)):\n",
    "    combined_features.append(np.concatenate((test_df['mfccs_mean'][n],\n",
    "                                             test_df['mfccs_std'][n], \n",
    "                                             test_df['mfccs_delta_mean'][n],\n",
    "                                             test_df['mfccs_delta_std'][n])))\n",
    "    \n",
    "test_df['combined_mfccs'] = combined_features\n",
    "# this will give us an array of (160, 1)"
   ]
  },
  {
   "cell_type": "code",
   "execution_count": 63,
   "metadata": {},
   "outputs": [
    {
     "data": {
      "text/html": [
       "<div>\n",
       "<style scoped>\n",
       "    .dataframe tbody tr th:only-of-type {\n",
       "        vertical-align: middle;\n",
       "    }\n",
       "\n",
       "    .dataframe tbody tr th {\n",
       "        vertical-align: top;\n",
       "    }\n",
       "\n",
       "    .dataframe thead th {\n",
       "        text-align: right;\n",
       "    }\n",
       "</style>\n",
       "<table border=\"1\" class=\"dataframe\">\n",
       "  <thead>\n",
       "    <tr style=\"text-align: right;\">\n",
       "      <th></th>\n",
       "      <th>id</th>\n",
       "      <th>filepath</th>\n",
       "      <th>duration</th>\n",
       "      <th>class_label</th>\n",
       "      <th>mfccs_mean</th>\n",
       "      <th>mfccs_std</th>\n",
       "      <th>mfccs_delta_mean</th>\n",
       "      <th>mfccs_delta_std</th>\n",
       "      <th>combined_mfccs</th>\n",
       "    </tr>\n",
       "  </thead>\n",
       "  <tbody>\n",
       "    <tr>\n",
       "      <th>0</th>\n",
       "      <td>30034</td>\n",
       "      <td>./assets/audio_test/30034_apples.wav</td>\n",
       "      <td>0.416780</td>\n",
       "      <td>apples</td>\n",
       "      <td>[-198.50255, 131.26993, -25.532259, 52.081627,...</td>\n",
       "      <td>[80.31956, 54.221424, 18.007969, 16.541662, 22...</td>\n",
       "      <td>[-10.8114605, -10.25785, 1.6027119, -0.9453479...</td>\n",
       "      <td>[16.318327, 9.497107, 3.1491222, 5.0818477, 3....</td>\n",
       "      <td>[-198.50255, 131.26993, -25.532259, 52.081627,...</td>\n",
       "    </tr>\n",
       "    <tr>\n",
       "      <th>1</th>\n",
       "      <td>30008</td>\n",
       "      <td>./assets/audio_test/30008_flowers.wav</td>\n",
       "      <td>0.530839</td>\n",
       "      <td>flowers</td>\n",
       "      <td>[-236.50839, 126.737175, -31.233444, 43.39643,...</td>\n",
       "      <td>[45.6092, 68.03514, 17.97645, 23.997889, 15.24...</td>\n",
       "      <td>[2.9926207, -3.0669036, -0.34088498, 0.8820659...</td>\n",
       "      <td>[12.488578, 17.499315, 2.8168445, 6.1881804, 3...</td>\n",
       "      <td>[-236.50839, 126.737175, -31.233444, 43.39643,...</td>\n",
       "    </tr>\n",
       "    <tr>\n",
       "      <th>2</th>\n",
       "      <td>30009</td>\n",
       "      <td>./assets/audio_test/30009_worker.wav</td>\n",
       "      <td>0.496417</td>\n",
       "      <td>worker</td>\n",
       "      <td>[-232.32349, 164.00572, -5.2090764, 20.472998,...</td>\n",
       "      <td>[84.08268, 31.5341, 26.128588, 17.994024, 19.4...</td>\n",
       "      <td>[-7.6272078, -5.043338, -1.5057583, -2.495122,...</td>\n",
       "      <td>[19.266191, 7.8296046, 5.9707665, 4.55391, 2.3...</td>\n",
       "      <td>[-232.32349, 164.00572, -5.2090764, 20.472998,...</td>\n",
       "    </tr>\n",
       "    <tr>\n",
       "      <th>3</th>\n",
       "      <td>30095</td>\n",
       "      <td>./assets/audio_test/30095_water.wav</td>\n",
       "      <td>0.250340</td>\n",
       "      <td>water</td>\n",
       "      <td>[-226.49066, 164.1956, -2.9555368, 37.79291, -...</td>\n",
       "      <td>[91.47749, 32.853287, 32.325573, 17.542824, 17...</td>\n",
       "      <td>[15.646426, -7.8981886, -6.892499, 5.9317565, ...</td>\n",
       "      <td>[0.71244466, 2.5768838, 1.6155096, 0.36419478,...</td>\n",
       "      <td>[-226.49066, 164.1956, -2.9555368, 37.79291, -...</td>\n",
       "    </tr>\n",
       "    <tr>\n",
       "      <th>4</th>\n",
       "      <td>30009</td>\n",
       "      <td>./assets/audio_test/30009_father.wav</td>\n",
       "      <td>0.369569</td>\n",
       "      <td>father</td>\n",
       "      <td>[-202.17143, 156.89734, -48.638046, 33.756462,...</td>\n",
       "      <td>[54.025196, 44.427963, 17.945734, 12.036269, 1...</td>\n",
       "      <td>[4.1709566, 7.26626, -0.1926024, -0.7872772, 2...</td>\n",
       "      <td>[16.879608, 8.494881, 5.466756, 2.7808282, 3.6...</td>\n",
       "      <td>[-202.17143, 156.89734, -48.638046, 33.756462,...</td>\n",
       "    </tr>\n",
       "    <tr>\n",
       "      <th>5</th>\n",
       "      <td>60066</td>\n",
       "      <td>./assets/audio_test/60066_apples.wav</td>\n",
       "      <td>2.881043</td>\n",
       "      <td>apples</td>\n",
       "      <td>[-373.69272, 113.312355, -34.333557, 29.849167...</td>\n",
       "      <td>[144.46051, 53.9207, 42.039967, 26.369184, 26....</td>\n",
       "      <td>[0.7257655, 0.31434554, -0.025032733, 0.075665...</td>\n",
       "      <td>[20.325785, 6.5486608, 7.388167, 5.365542, 5.4...</td>\n",
       "      <td>[-373.69272, 113.312355, -34.333557, 29.849167...</td>\n",
       "    </tr>\n",
       "    <tr>\n",
       "      <th>6</th>\n",
       "      <td>60062</td>\n",
       "      <td>./assets/audio_test/60062_flowers.wav</td>\n",
       "      <td>0.477778</td>\n",
       "      <td>flowers</td>\n",
       "      <td>[-211.78532, 128.9489, -52.388325, 37.95728, -...</td>\n",
       "      <td>[53.18248, 53.56442, 22.164488, 25.994394, 14....</td>\n",
       "      <td>[-0.16116378, -3.61797, -0.29590768, 2.3910146...</td>\n",
       "      <td>[13.673466, 12.8961735, 5.3578243, 5.623616, 3...</td>\n",
       "      <td>[-211.78532, 128.9489, -52.388325, 37.95728, -...</td>\n",
       "    </tr>\n",
       "    <tr>\n",
       "      <th>7</th>\n",
       "      <td>60049</td>\n",
       "      <td>./assets/audio_test/60049_worker.wav</td>\n",
       "      <td>0.346576</td>\n",
       "      <td>worker</td>\n",
       "      <td>[-214.61972, 170.96431, -14.436518, 33.140736,...</td>\n",
       "      <td>[75.06599, 24.77091, 40.655807, 20.495346, 18....</td>\n",
       "      <td>[4.132118, 0.78200185, -2.1928177, -1.1271892,...</td>\n",
       "      <td>[14.484798, 4.139307, 11.658692, 2.8645506, 2....</td>\n",
       "      <td>[-214.61972, 170.96431, -14.436518, 33.140736,...</td>\n",
       "    </tr>\n",
       "    <tr>\n",
       "      <th>8</th>\n",
       "      <td>60051</td>\n",
       "      <td>./assets/audio_test/60051_water.wav</td>\n",
       "      <td>0.500136</td>\n",
       "      <td>water</td>\n",
       "      <td>[-234.83765, 145.21213, -16.12923, 32.834755, ...</td>\n",
       "      <td>[105.41433, 27.252125, 43.530193, 16.71434, 25...</td>\n",
       "      <td>[3.343184, -0.9838396, -2.5826368, -0.6370913,...</td>\n",
       "      <td>[18.136984, 4.3474774, 7.250479, 4.3870416, 5....</td>\n",
       "      <td>[-234.83765, 145.21213, -16.12923, 32.834755, ...</td>\n",
       "    </tr>\n",
       "    <tr>\n",
       "      <th>9</th>\n",
       "      <td>60049</td>\n",
       "      <td>./assets/audio_test/60049_father.wav</td>\n",
       "      <td>0.371837</td>\n",
       "      <td>father</td>\n",
       "      <td>[-170.79102, 151.00348, -71.76117, 21.137316, ...</td>\n",
       "      <td>[42.694633, 47.012444, 33.231354, 26.419619, 1...</td>\n",
       "      <td>[5.2645693, 2.6756222, -0.88654345, -0.8679753...</td>\n",
       "      <td>[9.66988, 12.436902, 8.395563, 7.730953, 1.315...</td>\n",
       "      <td>[-170.79102, 151.00348, -71.76117, 21.137316, ...</td>\n",
       "    </tr>\n",
       "    <tr>\n",
       "      <th>10</th>\n",
       "      <td>70066</td>\n",
       "      <td>./assets/audio_test/70066_apples.wav</td>\n",
       "      <td>0.536780</td>\n",
       "      <td>apples</td>\n",
       "      <td>[-270.70813, 137.34645, -33.411938, 39.212135,...</td>\n",
       "      <td>[78.66671, 70.03694, 39.79935, 26.31054, 30.85...</td>\n",
       "      <td>[-6.49855, -10.222041, 2.020901, 3.3015902, -1...</td>\n",
       "      <td>[10.1622505, 12.104039, 7.8647175, 2.6148643, ...</td>\n",
       "      <td>[-270.70813, 137.34645, -33.411938, 39.212135,...</td>\n",
       "    </tr>\n",
       "    <tr>\n",
       "      <th>11</th>\n",
       "      <td>70062</td>\n",
       "      <td>./assets/audio_test/70062_flowers.wav</td>\n",
       "      <td>0.625034</td>\n",
       "      <td>flowers</td>\n",
       "      <td>[-247.43605, 133.04637, -42.30406, 25.093954, ...</td>\n",
       "      <td>[63.94347, 60.464794, 26.985964, 34.757603, 21...</td>\n",
       "      <td>[0.15738861, -0.59228987, 2.0562449, 2.1340199...</td>\n",
       "      <td>[18.12409, 14.84911, 5.322477, 7.0740995, 5.36...</td>\n",
       "      <td>[-247.43605, 133.04637, -42.30406, 25.093954, ...</td>\n",
       "    </tr>\n",
       "    <tr>\n",
       "      <th>12</th>\n",
       "      <td>70049</td>\n",
       "      <td>./assets/audio_test/70049_worker.wav</td>\n",
       "      <td>0.494195</td>\n",
       "      <td>worker</td>\n",
       "      <td>[-252.91954, 208.53593, -33.67015, 15.095603, ...</td>\n",
       "      <td>[71.34961, 34.46912, 36.560993, 16.132599, 14....</td>\n",
       "      <td>[-3.8626466, -3.487233, -2.920732, -1.2753755,...</td>\n",
       "      <td>[15.221008, 9.326093, 4.736726, 1.4779779, 1.6...</td>\n",
       "      <td>[-252.91954, 208.53593, -33.67015, 15.095603, ...</td>\n",
       "    </tr>\n",
       "    <tr>\n",
       "      <th>13</th>\n",
       "      <td>70051</td>\n",
       "      <td>./assets/audio_test/70051_water.wav</td>\n",
       "      <td>0.378730</td>\n",
       "      <td>water</td>\n",
       "      <td>[-243.25531, 174.95642, -32.29458, 40.874092, ...</td>\n",
       "      <td>[93.51598, 35.09749, 47.906532, 17.786303, 22....</td>\n",
       "      <td>[15.072526, -2.8436973, -6.9357033, 2.1312633,...</td>\n",
       "      <td>[13.586995, 5.8227086, 7.5946417, 2.7808626, 4...</td>\n",
       "      <td>[-243.25531, 174.95642, -32.29458, 40.874092, ...</td>\n",
       "    </tr>\n",
       "    <tr>\n",
       "      <th>14</th>\n",
       "      <td>70049</td>\n",
       "      <td>./assets/audio_test/70049_father.wav</td>\n",
       "      <td>0.503220</td>\n",
       "      <td>father</td>\n",
       "      <td>[-237.68312, 156.30824, -63.967422, 8.931896, ...</td>\n",
       "      <td>[70.55148, 51.0154, 34.318302, 11.616701, 16.0...</td>\n",
       "      <td>[9.530956, 6.863379, -2.497628, -1.1339239, -2...</td>\n",
       "      <td>[17.744947, 11.50547, 8.61235, 2.864193, 4.061...</td>\n",
       "      <td>[-237.68312, 156.30824, -63.967422, 8.931896, ...</td>\n",
       "    </tr>\n",
       "    <tr>\n",
       "      <th>15</th>\n",
       "      <td>80066</td>\n",
       "      <td>./assets/audio_test/80066_apples.wav</td>\n",
       "      <td>0.525442</td>\n",
       "      <td>apples</td>\n",
       "      <td>[-274.2532, 142.64854, -25.343046, 32.273438, ...</td>\n",
       "      <td>[123.31626, 74.94001, 34.4859, 18.942726, 26.5...</td>\n",
       "      <td>[-4.9808717, -9.861757, 1.9119687, 2.035115, -...</td>\n",
       "      <td>[28.049507, 16.48778, 9.190033, 3.892851, 4.43...</td>\n",
       "      <td>[-274.2532, 142.64854, -25.343046, 32.273438, ...</td>\n",
       "    </tr>\n",
       "    <tr>\n",
       "      <th>16</th>\n",
       "      <td>80062</td>\n",
       "      <td>./assets/audio_test/80062_flowers.wav</td>\n",
       "      <td>0.607075</td>\n",
       "      <td>flowers</td>\n",
       "      <td>[-233.88576, 144.19817, -49.524216, 38.80048, ...</td>\n",
       "      <td>[50.023182, 66.87914, 23.493826, 17.226433, 16...</td>\n",
       "      <td>[-0.6617856, -1.0334508, 1.249549, 0.3032699, ...</td>\n",
       "      <td>[15.29072, 16.76452, 5.5553412, 3.9682853, 3.5...</td>\n",
       "      <td>[-233.88576, 144.19817, -49.524216, 38.80048, ...</td>\n",
       "    </tr>\n",
       "    <tr>\n",
       "      <th>17</th>\n",
       "      <td>80049</td>\n",
       "      <td>./assets/audio_test/80049_worker.wav</td>\n",
       "      <td>0.492834</td>\n",
       "      <td>worker</td>\n",
       "      <td>[-262.6091, 192.52148, -4.589961, 20.203566, -...</td>\n",
       "      <td>[89.27534, 33.368393, 33.891705, 17.769985, 14...</td>\n",
       "      <td>[-7.1669326, -3.4401617, -0.20780052, -2.09028...</td>\n",
       "      <td>[21.831648, 9.435863, 7.8399596, 3.7670689, 1....</td>\n",
       "      <td>[-262.6091, 192.52148, -4.589961, 20.203566, -...</td>\n",
       "    </tr>\n",
       "    <tr>\n",
       "      <th>18</th>\n",
       "      <td>80197</td>\n",
       "      <td>./assets/audio_test/80197_water.wav</td>\n",
       "      <td>0.632698</td>\n",
       "      <td>water</td>\n",
       "      <td>[-236.70256, 181.20598, -8.573147, 35.498096, ...</td>\n",
       "      <td>[84.290565, 43.632256, 31.629711, 14.500397, 2...</td>\n",
       "      <td>[1.7273463, 0.09301533, 0.14271061, -0.9626093...</td>\n",
       "      <td>[21.131123, 11.430837, 6.791177, 2.8579204, 5....</td>\n",
       "      <td>[-236.70256, 181.20598, -8.573147, 35.498096, ...</td>\n",
       "    </tr>\n",
       "    <tr>\n",
       "      <th>19</th>\n",
       "      <td>80049</td>\n",
       "      <td>./assets/audio_test/80049_father.wav</td>\n",
       "      <td>0.442721</td>\n",
       "      <td>father</td>\n",
       "      <td>[-208.54013, 150.12013, -67.49839, 22.987942, ...</td>\n",
       "      <td>[75.83647, 57.037014, 33.41365, 17.923185, 17....</td>\n",
       "      <td>[5.8503656, 7.443824, -1.4541978, -3.0452762, ...</td>\n",
       "      <td>[20.250101, 11.560561, 8.227364, 2.9785109, 4....</td>\n",
       "      <td>[-208.54013, 150.12013, -67.49839, 22.987942, ...</td>\n",
       "    </tr>\n",
       "    <tr>\n",
       "      <th>20</th>\n",
       "      <td>590066</td>\n",
       "      <td>./assets/audio_test/590066_apples.wav</td>\n",
       "      <td>0.429841</td>\n",
       "      <td>apples</td>\n",
       "      <td>[-249.82527, 150.69121, -4.5179243, 22.975122,...</td>\n",
       "      <td>[80.68431, 60.25556, 33.881367, 23.847326, 25....</td>\n",
       "      <td>[-10.976995, -11.128558, 4.2843513, 3.4530723,...</td>\n",
       "      <td>[12.422155, 9.694768, 5.895689, 2.6720607, 5.8...</td>\n",
       "      <td>[-249.82527, 150.69121, -4.5179243, 22.975122,...</td>\n",
       "    </tr>\n",
       "    <tr>\n",
       "      <th>21</th>\n",
       "      <td>590062</td>\n",
       "      <td>./assets/audio_test/590062_flowers.wav</td>\n",
       "      <td>0.527029</td>\n",
       "      <td>flowers</td>\n",
       "      <td>[-241.34697, 149.56001, -23.586311, 28.971302,...</td>\n",
       "      <td>[68.73528, 65.5657, 36.980186, 19.72753, 15.17...</td>\n",
       "      <td>[-0.052809175, -0.20303926, 2.9142914, 2.24452...</td>\n",
       "      <td>[19.144398, 18.07668, 7.293807, 3.3057806, 3.6...</td>\n",
       "      <td>[-241.34697, 149.56001, -23.586311, 28.971302,...</td>\n",
       "    </tr>\n",
       "    <tr>\n",
       "      <th>22</th>\n",
       "      <td>590049</td>\n",
       "      <td>./assets/audio_test/590049_worker.wav</td>\n",
       "      <td>0.452834</td>\n",
       "      <td>worker</td>\n",
       "      <td>[-241.88962, 202.43394, -8.052745, 12.767753, ...</td>\n",
       "      <td>[96.3708, 39.5414, 33.11091, 21.030134, 6.0113...</td>\n",
       "      <td>[-13.200979, -5.1408806, 2.6178708, -1.8457854...</td>\n",
       "      <td>[27.66939, 10.2370205, 8.7355585, 5.1993265, 1...</td>\n",
       "      <td>[-241.88962, 202.43394, -8.052745, 12.767753, ...</td>\n",
       "    </tr>\n",
       "    <tr>\n",
       "      <th>23</th>\n",
       "      <td>590051</td>\n",
       "      <td>./assets/audio_test/590051_water.wav</td>\n",
       "      <td>0.371066</td>\n",
       "      <td>water</td>\n",
       "      <td>[-245.58206, 185.0741, 23.970592, 36.96438, -3...</td>\n",
       "      <td>[91.55658, 23.429554, 45.064953, 12.100362, 29...</td>\n",
       "      <td>[18.617853, -2.6762013, -8.806503, 0.9096188, ...</td>\n",
       "      <td>[8.529433, 4.3110237, 3.682726, 3.6487968, 10....</td>\n",
       "      <td>[-245.58206, 185.0741, 23.970592, 36.96438, -3...</td>\n",
       "    </tr>\n",
       "    <tr>\n",
       "      <th>24</th>\n",
       "      <td>590049</td>\n",
       "      <td>./assets/audio_test/590049_father.wav</td>\n",
       "      <td>0.384943</td>\n",
       "      <td>father</td>\n",
       "      <td>[-194.9433, 160.5923, -50.56368, 21.565584, -4...</td>\n",
       "      <td>[54.72784, 56.192303, 30.95062, 13.048234, 16....</td>\n",
       "      <td>[3.7823572, 8.201054, 0.9065225, -0.724483, 1....</td>\n",
       "      <td>[15.974641, 12.088012, 8.466302, 3.1131086, 4....</td>\n",
       "      <td>[-194.9433, 160.5923, -50.56368, 21.565584, -4...</td>\n",
       "    </tr>\n",
       "    <tr>\n",
       "      <th>25</th>\n",
       "      <td>1160066</td>\n",
       "      <td>./assets/audio_test/1160066_apples.wav</td>\n",
       "      <td>0.389070</td>\n",
       "      <td>apples</td>\n",
       "      <td>[-186.46814, 168.7322, 10.924559, 51.274094, -...</td>\n",
       "      <td>[49.09102, 42.59676, 25.561989, 12.37675, 22.0...</td>\n",
       "      <td>[-5.3613977, -7.7466683, 2.6787853, 1.6352597,...</td>\n",
       "      <td>[11.523651, 6.596133, 3.704036, 2.8222823, 1.6...</td>\n",
       "      <td>[-186.46814, 168.7322, 10.924559, 51.274094, -...</td>\n",
       "    </tr>\n",
       "    <tr>\n",
       "      <th>26</th>\n",
       "      <td>1160062</td>\n",
       "      <td>./assets/audio_test/1160062_flowers.wav</td>\n",
       "      <td>0.322132</td>\n",
       "      <td>flowers</td>\n",
       "      <td>[-184.96077, 191.88403, 11.973719, 32.072903, ...</td>\n",
       "      <td>[28.821062, 33.81672, 29.600157, 7.67289, 7.65...</td>\n",
       "      <td>[-2.966074, 4.652688, 6.9231462, -1.1698526, -...</td>\n",
       "      <td>[8.313729, 6.101734, 3.3089273, 1.1689386, 1.6...</td>\n",
       "      <td>[-184.96077, 191.88403, 11.973719, 32.072903, ...</td>\n",
       "    </tr>\n",
       "    <tr>\n",
       "      <th>27</th>\n",
       "      <td>1160049</td>\n",
       "      <td>./assets/audio_test/1160049_worker.wav</td>\n",
       "      <td>0.463628</td>\n",
       "      <td>worker</td>\n",
       "      <td>[-198.73225, 186.10059, 13.468191, 30.794388, ...</td>\n",
       "      <td>[44.397354, 29.238728, 23.88673, 12.489836, 14...</td>\n",
       "      <td>[-5.941758, -5.289668, -2.551287, 1.6471859, 0...</td>\n",
       "      <td>[10.2956505, 6.4443746, 5.9230194, 0.7512102, ...</td>\n",
       "      <td>[-198.73225, 186.10059, 13.468191, 30.794388, ...</td>\n",
       "    </tr>\n",
       "    <tr>\n",
       "      <th>28</th>\n",
       "      <td>1160051</td>\n",
       "      <td>./assets/audio_test/1160051_water.wav</td>\n",
       "      <td>0.289569</td>\n",
       "      <td>water</td>\n",
       "      <td>[-200.03639, 179.5188, 22.865658, 45.667984, -...</td>\n",
       "      <td>[51.415634, 38.796616, 17.08803, 20.067299, 24...</td>\n",
       "      <td>[1.3016665, -10.159785, -3.2079523, 5.163171, ...</td>\n",
       "      <td>[4.149835, 4.429368, 1.2445787, 0.94656277, 3....</td>\n",
       "      <td>[-200.03639, 179.5188, 22.865658, 45.667984, -...</td>\n",
       "    </tr>\n",
       "    <tr>\n",
       "      <th>29</th>\n",
       "      <td>1160049</td>\n",
       "      <td>./assets/audio_test/1160049_father.wav</td>\n",
       "      <td>0.359773</td>\n",
       "      <td>father</td>\n",
       "      <td>[-182.89557, 176.56615, -14.695808, 30.747196,...</td>\n",
       "      <td>[48.62768, 47.51099, 11.472315, 16.927391, 20....</td>\n",
       "      <td>[4.2076073, 4.633318, -0.29367706, 0.048516363...</td>\n",
       "      <td>[13.07368, 12.481588, 2.669378, 5.0809546, 3.7...</td>\n",
       "      <td>[-182.89557, 176.56615, -14.695808, 30.747196,...</td>\n",
       "    </tr>\n",
       "    <tr>\n",
       "      <th>30</th>\n",
       "      <td>1440066</td>\n",
       "      <td>./assets/audio_test/1440066_apples.wav</td>\n",
       "      <td>0.549478</td>\n",
       "      <td>apples</td>\n",
       "      <td>[-213.84456, 99.920265, -17.943068, 39.245327,...</td>\n",
       "      <td>[100.15615, 52.666164, 28.903492, 11.252549, 2...</td>\n",
       "      <td>[-6.4471583, -8.33799, 1.363561, 0.5783877, 0....</td>\n",
       "      <td>[21.867878, 9.97716, 5.8312473, 2.4459343, 6.5...</td>\n",
       "      <td>[-213.84456, 99.920265, -17.943068, 39.245327,...</td>\n",
       "    </tr>\n",
       "    <tr>\n",
       "      <th>31</th>\n",
       "      <td>1440062</td>\n",
       "      <td>./assets/audio_test/1440062_flowers.wav</td>\n",
       "      <td>0.570703</td>\n",
       "      <td>flowers</td>\n",
       "      <td>[-218.62927, 91.750534, -12.873874, 26.812082,...</td>\n",
       "      <td>[37.17047, 53.059254, 23.806395, 16.202988, 20...</td>\n",
       "      <td>[3.2432697, 0.64681756, 0.48775947, 0.74441725...</td>\n",
       "      <td>[10.086689, 14.108672, 4.8226976, 4.0197105, 4...</td>\n",
       "      <td>[-218.62927, 91.750534, -12.873874, 26.812082,...</td>\n",
       "    </tr>\n",
       "    <tr>\n",
       "      <th>32</th>\n",
       "      <td>1440049</td>\n",
       "      <td>./assets/audio_test/1440049_worker.wav</td>\n",
       "      <td>0.486440</td>\n",
       "      <td>worker</td>\n",
       "      <td>[-248.30664, 143.59244, 18.716654, 22.22582, -...</td>\n",
       "      <td>[67.817696, 23.894302, 20.912199, 22.409029, 2...</td>\n",
       "      <td>[-7.342349, -3.7872453, -2.5762649, -2.8712246...</td>\n",
       "      <td>[15.590283, 4.966628, 2.804548, 5.20421, 4.186...</td>\n",
       "      <td>[-248.30664, 143.59244, 18.716654, 22.22582, -...</td>\n",
       "    </tr>\n",
       "    <tr>\n",
       "      <th>33</th>\n",
       "      <td>1440051</td>\n",
       "      <td>./assets/audio_test/1440051_water.wav</td>\n",
       "      <td>0.430884</td>\n",
       "      <td>water</td>\n",
       "      <td>[-236.1278, 113.4458, -5.0838695, 24.135962, -...</td>\n",
       "      <td>[89.37983, 26.090307, 24.814835, 17.47662, 28....</td>\n",
       "      <td>[4.5385766, -2.0479133, 0.26754245, 2.1914124,...</td>\n",
       "      <td>[15.586725, 5.538866, 4.7305045, 2.3817327, 4....</td>\n",
       "      <td>[-236.1278, 113.4458, -5.0838695, 24.135962, -...</td>\n",
       "    </tr>\n",
       "    <tr>\n",
       "      <th>34</th>\n",
       "      <td>1440049</td>\n",
       "      <td>./assets/audio_test/1440049_father.wav</td>\n",
       "      <td>0.402449</td>\n",
       "      <td>father</td>\n",
       "      <td>[-179.41437, 105.92265, -37.3483, 29.548845, -...</td>\n",
       "      <td>[49.56209, 47.816505, 18.583282, 19.67895, 21....</td>\n",
       "      <td>[6.7746186, 5.493113, -0.5144391, -0.24298051,...</td>\n",
       "      <td>[11.327045, 10.578773, 2.230133, 5.509437, 5.9...</td>\n",
       "      <td>[-179.41437, 105.92265, -37.3483, 29.548845, -...</td>\n",
       "    </tr>\n",
       "    <tr>\n",
       "      <th>35</th>\n",
       "      <td>1470066</td>\n",
       "      <td>./assets/audio_test/1470066_apples.wav</td>\n",
       "      <td>0.471837</td>\n",
       "      <td>apples</td>\n",
       "      <td>[-241.86902, 128.76266, -14.3355055, 35.292564...</td>\n",
       "      <td>[69.26731, 61.50668, 26.600039, 26.807652, 14....</td>\n",
       "      <td>[-4.0082717, -7.613294, 1.9239308, 3.3909552, ...</td>\n",
       "      <td>[10.086707, 12.786283, 6.708745, 3.8847828, 2....</td>\n",
       "      <td>[-241.86902, 128.76266, -14.3355055, 35.292564...</td>\n",
       "    </tr>\n",
       "    <tr>\n",
       "      <th>36</th>\n",
       "      <td>1470062</td>\n",
       "      <td>./assets/audio_test/1470062_flowers.wav</td>\n",
       "      <td>0.487664</td>\n",
       "      <td>flowers</td>\n",
       "      <td>[-234.65567, 136.68259, 10.915897, 27.213783, ...</td>\n",
       "      <td>[36.333324, 56.809834, 20.343296, 27.285295, 2...</td>\n",
       "      <td>[-0.8419089, -1.6096898, 0.7522631, 1.3960923,...</td>\n",
       "      <td>[8.046907, 15.472991, 2.9758377, 5.8726945, 4....</td>\n",
       "      <td>[-234.65567, 136.68259, 10.915897, 27.213783, ...</td>\n",
       "    </tr>\n",
       "    <tr>\n",
       "      <th>37</th>\n",
       "      <td>1470049</td>\n",
       "      <td>./assets/audio_test/1470049_worker.wav</td>\n",
       "      <td>0.393651</td>\n",
       "      <td>worker</td>\n",
       "      <td>[-252.8319, 205.11546, -14.255621, 16.387558, ...</td>\n",
       "      <td>[53.43699, 22.337084, 27.443258, 21.783974, 17...</td>\n",
       "      <td>[-5.3718805, -1.9601492, -3.5725775, -2.842615...</td>\n",
       "      <td>[10.942363, 5.3371854, 5.387464, 4.573928, 1.0...</td>\n",
       "      <td>[-252.8319, 205.11546, -14.255621, 16.387558, ...</td>\n",
       "    </tr>\n",
       "    <tr>\n",
       "      <th>38</th>\n",
       "      <td>1470051</td>\n",
       "      <td>./assets/audio_test/1470051_water.wav</td>\n",
       "      <td>0.367075</td>\n",
       "      <td>water</td>\n",
       "      <td>[-198.23422, 160.3518, -5.5460577, 41.01431, -...</td>\n",
       "      <td>[73.77276, 35.210365, 32.852875, 10.7362795, 2...</td>\n",
       "      <td>[12.357442, -3.3710713, -5.869267, 1.643652, 1...</td>\n",
       "      <td>[4.066575, 9.210492, 2.0352986, 0.54953665, 4....</td>\n",
       "      <td>[-198.23422, 160.3518, -5.5460577, 41.01431, -...</td>\n",
       "    </tr>\n",
       "    <tr>\n",
       "      <th>39</th>\n",
       "      <td>1470049</td>\n",
       "      <td>./assets/audio_test/1470049_father.wav</td>\n",
       "      <td>0.435102</td>\n",
       "      <td>father</td>\n",
       "      <td>[-183.40767, 148.97517, -40.036007, 18.061676,...</td>\n",
       "      <td>[35.68917, 63.03172, 19.736828, 30.097681, 18....</td>\n",
       "      <td>[3.8938186, 9.17978, 0.49529046, -4.298687, 0....</td>\n",
       "      <td>[7.2213097, 11.876184, 3.158719, 6.4370513, 5....</td>\n",
       "      <td>[-183.40767, 148.97517, -40.036007, 18.061676,...</td>\n",
       "    </tr>\n",
       "    <tr>\n",
       "      <th>40</th>\n",
       "      <td>1480066</td>\n",
       "      <td>./assets/audio_test/1480066_apples.wav</td>\n",
       "      <td>0.514603</td>\n",
       "      <td>apples</td>\n",
       "      <td>[-240.06206, 131.01562, -32.443874, 25.212877,...</td>\n",
       "      <td>[89.414536, 70.96394, 49.48958, 18.865183, 28....</td>\n",
       "      <td>[-12.649858, -10.548585, 7.1629744, 2.3087108,...</td>\n",
       "      <td>[15.451813, 11.356657, 5.3261, 1.6412044, 6.36...</td>\n",
       "      <td>[-240.06206, 131.01562, -32.443874, 25.212877,...</td>\n",
       "    </tr>\n",
       "    <tr>\n",
       "      <th>41</th>\n",
       "      <td>1480062</td>\n",
       "      <td>./assets/audio_test/1480062_flowers.wav</td>\n",
       "      <td>0.848571</td>\n",
       "      <td>flowers</td>\n",
       "      <td>[-211.55312, 115.728195, -30.25764, 22.336082,...</td>\n",
       "      <td>[56.413364, 63.931744, 29.092728, 19.8385, 14....</td>\n",
       "      <td>[-0.36637127, 2.378632, -0.33741945, -1.206293...</td>\n",
       "      <td>[12.494187, 13.365732, 6.8650484, 4.6283584, 3...</td>\n",
       "      <td>[-211.55312, 115.728195, -30.25764, 22.336082,...</td>\n",
       "    </tr>\n",
       "    <tr>\n",
       "      <th>42</th>\n",
       "      <td>1480049</td>\n",
       "      <td>./assets/audio_test/1480049_worker.wav</td>\n",
       "      <td>0.531293</td>\n",
       "      <td>worker</td>\n",
       "      <td>[-251.45998, 152.46722, -9.326258, 12.063827, ...</td>\n",
       "      <td>[41.698353, 38.9475, 24.538567, 22.749556, 13....</td>\n",
       "      <td>[-4.481541, -5.9702454, -1.2355151, 1.5516149,...</td>\n",
       "      <td>[8.484979, 8.39853, 3.4447145, 2.8416357, 1.89...</td>\n",
       "      <td>[-251.45998, 152.46722, -9.326258, 12.063827, ...</td>\n",
       "    </tr>\n",
       "    <tr>\n",
       "      <th>43</th>\n",
       "      <td>1480051</td>\n",
       "      <td>./assets/audio_test/1480051_water.wav</td>\n",
       "      <td>0.445442</td>\n",
       "      <td>water</td>\n",
       "      <td>[-258.9173, 116.52571, -12.634517, 13.106867, ...</td>\n",
       "      <td>[91.91834, 49.617016, 31.524961, 20.598747, 30...</td>\n",
       "      <td>[7.339171, 1.5007011, -2.368238, 0.30359608, -...</td>\n",
       "      <td>[24.10699, 12.569649, 8.137742, 4.926312, 7.96...</td>\n",
       "      <td>[-258.9173, 116.52571, -12.634517, 13.106867, ...</td>\n",
       "    </tr>\n",
       "    <tr>\n",
       "      <th>44</th>\n",
       "      <td>1480049</td>\n",
       "      <td>./assets/audio_test/1480049_father.wav</td>\n",
       "      <td>0.546440</td>\n",
       "      <td>father</td>\n",
       "      <td>[-197.8661, 148.56873, -49.5189, 28.205664, -2...</td>\n",
       "      <td>[55.354294, 50.538795, 32.286823, 28.553553, 2...</td>\n",
       "      <td>[0.074740805, 4.5886626, -0.2622085, -1.821999...</td>\n",
       "      <td>[13.992031, 12.807797, 8.002672, 8.237786, 2.9...</td>\n",
       "      <td>[-197.8661, 148.56873, -49.5189, 28.205664, -2...</td>\n",
       "    </tr>\n",
       "  </tbody>\n",
       "</table>\n",
       "</div>"
      ],
      "text/plain": [
       "         id                                 filepath  duration class_label  \\\n",
       "0     30034     ./assets/audio_test/30034_apples.wav  0.416780      apples   \n",
       "1     30008    ./assets/audio_test/30008_flowers.wav  0.530839     flowers   \n",
       "2     30009     ./assets/audio_test/30009_worker.wav  0.496417      worker   \n",
       "3     30095      ./assets/audio_test/30095_water.wav  0.250340       water   \n",
       "4     30009     ./assets/audio_test/30009_father.wav  0.369569      father   \n",
       "5     60066     ./assets/audio_test/60066_apples.wav  2.881043      apples   \n",
       "6     60062    ./assets/audio_test/60062_flowers.wav  0.477778     flowers   \n",
       "7     60049     ./assets/audio_test/60049_worker.wav  0.346576      worker   \n",
       "8     60051      ./assets/audio_test/60051_water.wav  0.500136       water   \n",
       "9     60049     ./assets/audio_test/60049_father.wav  0.371837      father   \n",
       "10    70066     ./assets/audio_test/70066_apples.wav  0.536780      apples   \n",
       "11    70062    ./assets/audio_test/70062_flowers.wav  0.625034     flowers   \n",
       "12    70049     ./assets/audio_test/70049_worker.wav  0.494195      worker   \n",
       "13    70051      ./assets/audio_test/70051_water.wav  0.378730       water   \n",
       "14    70049     ./assets/audio_test/70049_father.wav  0.503220      father   \n",
       "15    80066     ./assets/audio_test/80066_apples.wav  0.525442      apples   \n",
       "16    80062    ./assets/audio_test/80062_flowers.wav  0.607075     flowers   \n",
       "17    80049     ./assets/audio_test/80049_worker.wav  0.492834      worker   \n",
       "18    80197      ./assets/audio_test/80197_water.wav  0.632698       water   \n",
       "19    80049     ./assets/audio_test/80049_father.wav  0.442721      father   \n",
       "20   590066    ./assets/audio_test/590066_apples.wav  0.429841      apples   \n",
       "21   590062   ./assets/audio_test/590062_flowers.wav  0.527029     flowers   \n",
       "22   590049    ./assets/audio_test/590049_worker.wav  0.452834      worker   \n",
       "23   590051     ./assets/audio_test/590051_water.wav  0.371066       water   \n",
       "24   590049    ./assets/audio_test/590049_father.wav  0.384943      father   \n",
       "25  1160066   ./assets/audio_test/1160066_apples.wav  0.389070      apples   \n",
       "26  1160062  ./assets/audio_test/1160062_flowers.wav  0.322132     flowers   \n",
       "27  1160049   ./assets/audio_test/1160049_worker.wav  0.463628      worker   \n",
       "28  1160051    ./assets/audio_test/1160051_water.wav  0.289569       water   \n",
       "29  1160049   ./assets/audio_test/1160049_father.wav  0.359773      father   \n",
       "30  1440066   ./assets/audio_test/1440066_apples.wav  0.549478      apples   \n",
       "31  1440062  ./assets/audio_test/1440062_flowers.wav  0.570703     flowers   \n",
       "32  1440049   ./assets/audio_test/1440049_worker.wav  0.486440      worker   \n",
       "33  1440051    ./assets/audio_test/1440051_water.wav  0.430884       water   \n",
       "34  1440049   ./assets/audio_test/1440049_father.wav  0.402449      father   \n",
       "35  1470066   ./assets/audio_test/1470066_apples.wav  0.471837      apples   \n",
       "36  1470062  ./assets/audio_test/1470062_flowers.wav  0.487664     flowers   \n",
       "37  1470049   ./assets/audio_test/1470049_worker.wav  0.393651      worker   \n",
       "38  1470051    ./assets/audio_test/1470051_water.wav  0.367075       water   \n",
       "39  1470049   ./assets/audio_test/1470049_father.wav  0.435102      father   \n",
       "40  1480066   ./assets/audio_test/1480066_apples.wav  0.514603      apples   \n",
       "41  1480062  ./assets/audio_test/1480062_flowers.wav  0.848571     flowers   \n",
       "42  1480049   ./assets/audio_test/1480049_worker.wav  0.531293      worker   \n",
       "43  1480051    ./assets/audio_test/1480051_water.wav  0.445442       water   \n",
       "44  1480049   ./assets/audio_test/1480049_father.wav  0.546440      father   \n",
       "\n",
       "                                           mfccs_mean  \\\n",
       "0   [-198.50255, 131.26993, -25.532259, 52.081627,...   \n",
       "1   [-236.50839, 126.737175, -31.233444, 43.39643,...   \n",
       "2   [-232.32349, 164.00572, -5.2090764, 20.472998,...   \n",
       "3   [-226.49066, 164.1956, -2.9555368, 37.79291, -...   \n",
       "4   [-202.17143, 156.89734, -48.638046, 33.756462,...   \n",
       "5   [-373.69272, 113.312355, -34.333557, 29.849167...   \n",
       "6   [-211.78532, 128.9489, -52.388325, 37.95728, -...   \n",
       "7   [-214.61972, 170.96431, -14.436518, 33.140736,...   \n",
       "8   [-234.83765, 145.21213, -16.12923, 32.834755, ...   \n",
       "9   [-170.79102, 151.00348, -71.76117, 21.137316, ...   \n",
       "10  [-270.70813, 137.34645, -33.411938, 39.212135,...   \n",
       "11  [-247.43605, 133.04637, -42.30406, 25.093954, ...   \n",
       "12  [-252.91954, 208.53593, -33.67015, 15.095603, ...   \n",
       "13  [-243.25531, 174.95642, -32.29458, 40.874092, ...   \n",
       "14  [-237.68312, 156.30824, -63.967422, 8.931896, ...   \n",
       "15  [-274.2532, 142.64854, -25.343046, 32.273438, ...   \n",
       "16  [-233.88576, 144.19817, -49.524216, 38.80048, ...   \n",
       "17  [-262.6091, 192.52148, -4.589961, 20.203566, -...   \n",
       "18  [-236.70256, 181.20598, -8.573147, 35.498096, ...   \n",
       "19  [-208.54013, 150.12013, -67.49839, 22.987942, ...   \n",
       "20  [-249.82527, 150.69121, -4.5179243, 22.975122,...   \n",
       "21  [-241.34697, 149.56001, -23.586311, 28.971302,...   \n",
       "22  [-241.88962, 202.43394, -8.052745, 12.767753, ...   \n",
       "23  [-245.58206, 185.0741, 23.970592, 36.96438, -3...   \n",
       "24  [-194.9433, 160.5923, -50.56368, 21.565584, -4...   \n",
       "25  [-186.46814, 168.7322, 10.924559, 51.274094, -...   \n",
       "26  [-184.96077, 191.88403, 11.973719, 32.072903, ...   \n",
       "27  [-198.73225, 186.10059, 13.468191, 30.794388, ...   \n",
       "28  [-200.03639, 179.5188, 22.865658, 45.667984, -...   \n",
       "29  [-182.89557, 176.56615, -14.695808, 30.747196,...   \n",
       "30  [-213.84456, 99.920265, -17.943068, 39.245327,...   \n",
       "31  [-218.62927, 91.750534, -12.873874, 26.812082,...   \n",
       "32  [-248.30664, 143.59244, 18.716654, 22.22582, -...   \n",
       "33  [-236.1278, 113.4458, -5.0838695, 24.135962, -...   \n",
       "34  [-179.41437, 105.92265, -37.3483, 29.548845, -...   \n",
       "35  [-241.86902, 128.76266, -14.3355055, 35.292564...   \n",
       "36  [-234.65567, 136.68259, 10.915897, 27.213783, ...   \n",
       "37  [-252.8319, 205.11546, -14.255621, 16.387558, ...   \n",
       "38  [-198.23422, 160.3518, -5.5460577, 41.01431, -...   \n",
       "39  [-183.40767, 148.97517, -40.036007, 18.061676,...   \n",
       "40  [-240.06206, 131.01562, -32.443874, 25.212877,...   \n",
       "41  [-211.55312, 115.728195, -30.25764, 22.336082,...   \n",
       "42  [-251.45998, 152.46722, -9.326258, 12.063827, ...   \n",
       "43  [-258.9173, 116.52571, -12.634517, 13.106867, ...   \n",
       "44  [-197.8661, 148.56873, -49.5189, 28.205664, -2...   \n",
       "\n",
       "                                            mfccs_std  \\\n",
       "0   [80.31956, 54.221424, 18.007969, 16.541662, 22...   \n",
       "1   [45.6092, 68.03514, 17.97645, 23.997889, 15.24...   \n",
       "2   [84.08268, 31.5341, 26.128588, 17.994024, 19.4...   \n",
       "3   [91.47749, 32.853287, 32.325573, 17.542824, 17...   \n",
       "4   [54.025196, 44.427963, 17.945734, 12.036269, 1...   \n",
       "5   [144.46051, 53.9207, 42.039967, 26.369184, 26....   \n",
       "6   [53.18248, 53.56442, 22.164488, 25.994394, 14....   \n",
       "7   [75.06599, 24.77091, 40.655807, 20.495346, 18....   \n",
       "8   [105.41433, 27.252125, 43.530193, 16.71434, 25...   \n",
       "9   [42.694633, 47.012444, 33.231354, 26.419619, 1...   \n",
       "10  [78.66671, 70.03694, 39.79935, 26.31054, 30.85...   \n",
       "11  [63.94347, 60.464794, 26.985964, 34.757603, 21...   \n",
       "12  [71.34961, 34.46912, 36.560993, 16.132599, 14....   \n",
       "13  [93.51598, 35.09749, 47.906532, 17.786303, 22....   \n",
       "14  [70.55148, 51.0154, 34.318302, 11.616701, 16.0...   \n",
       "15  [123.31626, 74.94001, 34.4859, 18.942726, 26.5...   \n",
       "16  [50.023182, 66.87914, 23.493826, 17.226433, 16...   \n",
       "17  [89.27534, 33.368393, 33.891705, 17.769985, 14...   \n",
       "18  [84.290565, 43.632256, 31.629711, 14.500397, 2...   \n",
       "19  [75.83647, 57.037014, 33.41365, 17.923185, 17....   \n",
       "20  [80.68431, 60.25556, 33.881367, 23.847326, 25....   \n",
       "21  [68.73528, 65.5657, 36.980186, 19.72753, 15.17...   \n",
       "22  [96.3708, 39.5414, 33.11091, 21.030134, 6.0113...   \n",
       "23  [91.55658, 23.429554, 45.064953, 12.100362, 29...   \n",
       "24  [54.72784, 56.192303, 30.95062, 13.048234, 16....   \n",
       "25  [49.09102, 42.59676, 25.561989, 12.37675, 22.0...   \n",
       "26  [28.821062, 33.81672, 29.600157, 7.67289, 7.65...   \n",
       "27  [44.397354, 29.238728, 23.88673, 12.489836, 14...   \n",
       "28  [51.415634, 38.796616, 17.08803, 20.067299, 24...   \n",
       "29  [48.62768, 47.51099, 11.472315, 16.927391, 20....   \n",
       "30  [100.15615, 52.666164, 28.903492, 11.252549, 2...   \n",
       "31  [37.17047, 53.059254, 23.806395, 16.202988, 20...   \n",
       "32  [67.817696, 23.894302, 20.912199, 22.409029, 2...   \n",
       "33  [89.37983, 26.090307, 24.814835, 17.47662, 28....   \n",
       "34  [49.56209, 47.816505, 18.583282, 19.67895, 21....   \n",
       "35  [69.26731, 61.50668, 26.600039, 26.807652, 14....   \n",
       "36  [36.333324, 56.809834, 20.343296, 27.285295, 2...   \n",
       "37  [53.43699, 22.337084, 27.443258, 21.783974, 17...   \n",
       "38  [73.77276, 35.210365, 32.852875, 10.7362795, 2...   \n",
       "39  [35.68917, 63.03172, 19.736828, 30.097681, 18....   \n",
       "40  [89.414536, 70.96394, 49.48958, 18.865183, 28....   \n",
       "41  [56.413364, 63.931744, 29.092728, 19.8385, 14....   \n",
       "42  [41.698353, 38.9475, 24.538567, 22.749556, 13....   \n",
       "43  [91.91834, 49.617016, 31.524961, 20.598747, 30...   \n",
       "44  [55.354294, 50.538795, 32.286823, 28.553553, 2...   \n",
       "\n",
       "                                     mfccs_delta_mean  \\\n",
       "0   [-10.8114605, -10.25785, 1.6027119, -0.9453479...   \n",
       "1   [2.9926207, -3.0669036, -0.34088498, 0.8820659...   \n",
       "2   [-7.6272078, -5.043338, -1.5057583, -2.495122,...   \n",
       "3   [15.646426, -7.8981886, -6.892499, 5.9317565, ...   \n",
       "4   [4.1709566, 7.26626, -0.1926024, -0.7872772, 2...   \n",
       "5   [0.7257655, 0.31434554, -0.025032733, 0.075665...   \n",
       "6   [-0.16116378, -3.61797, -0.29590768, 2.3910146...   \n",
       "7   [4.132118, 0.78200185, -2.1928177, -1.1271892,...   \n",
       "8   [3.343184, -0.9838396, -2.5826368, -0.6370913,...   \n",
       "9   [5.2645693, 2.6756222, -0.88654345, -0.8679753...   \n",
       "10  [-6.49855, -10.222041, 2.020901, 3.3015902, -1...   \n",
       "11  [0.15738861, -0.59228987, 2.0562449, 2.1340199...   \n",
       "12  [-3.8626466, -3.487233, -2.920732, -1.2753755,...   \n",
       "13  [15.072526, -2.8436973, -6.9357033, 2.1312633,...   \n",
       "14  [9.530956, 6.863379, -2.497628, -1.1339239, -2...   \n",
       "15  [-4.9808717, -9.861757, 1.9119687, 2.035115, -...   \n",
       "16  [-0.6617856, -1.0334508, 1.249549, 0.3032699, ...   \n",
       "17  [-7.1669326, -3.4401617, -0.20780052, -2.09028...   \n",
       "18  [1.7273463, 0.09301533, 0.14271061, -0.9626093...   \n",
       "19  [5.8503656, 7.443824, -1.4541978, -3.0452762, ...   \n",
       "20  [-10.976995, -11.128558, 4.2843513, 3.4530723,...   \n",
       "21  [-0.052809175, -0.20303926, 2.9142914, 2.24452...   \n",
       "22  [-13.200979, -5.1408806, 2.6178708, -1.8457854...   \n",
       "23  [18.617853, -2.6762013, -8.806503, 0.9096188, ...   \n",
       "24  [3.7823572, 8.201054, 0.9065225, -0.724483, 1....   \n",
       "25  [-5.3613977, -7.7466683, 2.6787853, 1.6352597,...   \n",
       "26  [-2.966074, 4.652688, 6.9231462, -1.1698526, -...   \n",
       "27  [-5.941758, -5.289668, -2.551287, 1.6471859, 0...   \n",
       "28  [1.3016665, -10.159785, -3.2079523, 5.163171, ...   \n",
       "29  [4.2076073, 4.633318, -0.29367706, 0.048516363...   \n",
       "30  [-6.4471583, -8.33799, 1.363561, 0.5783877, 0....   \n",
       "31  [3.2432697, 0.64681756, 0.48775947, 0.74441725...   \n",
       "32  [-7.342349, -3.7872453, -2.5762649, -2.8712246...   \n",
       "33  [4.5385766, -2.0479133, 0.26754245, 2.1914124,...   \n",
       "34  [6.7746186, 5.493113, -0.5144391, -0.24298051,...   \n",
       "35  [-4.0082717, -7.613294, 1.9239308, 3.3909552, ...   \n",
       "36  [-0.8419089, -1.6096898, 0.7522631, 1.3960923,...   \n",
       "37  [-5.3718805, -1.9601492, -3.5725775, -2.842615...   \n",
       "38  [12.357442, -3.3710713, -5.869267, 1.643652, 1...   \n",
       "39  [3.8938186, 9.17978, 0.49529046, -4.298687, 0....   \n",
       "40  [-12.649858, -10.548585, 7.1629744, 2.3087108,...   \n",
       "41  [-0.36637127, 2.378632, -0.33741945, -1.206293...   \n",
       "42  [-4.481541, -5.9702454, -1.2355151, 1.5516149,...   \n",
       "43  [7.339171, 1.5007011, -2.368238, 0.30359608, -...   \n",
       "44  [0.074740805, 4.5886626, -0.2622085, -1.821999...   \n",
       "\n",
       "                                      mfccs_delta_std  \\\n",
       "0   [16.318327, 9.497107, 3.1491222, 5.0818477, 3....   \n",
       "1   [12.488578, 17.499315, 2.8168445, 6.1881804, 3...   \n",
       "2   [19.266191, 7.8296046, 5.9707665, 4.55391, 2.3...   \n",
       "3   [0.71244466, 2.5768838, 1.6155096, 0.36419478,...   \n",
       "4   [16.879608, 8.494881, 5.466756, 2.7808282, 3.6...   \n",
       "5   [20.325785, 6.5486608, 7.388167, 5.365542, 5.4...   \n",
       "6   [13.673466, 12.8961735, 5.3578243, 5.623616, 3...   \n",
       "7   [14.484798, 4.139307, 11.658692, 2.8645506, 2....   \n",
       "8   [18.136984, 4.3474774, 7.250479, 4.3870416, 5....   \n",
       "9   [9.66988, 12.436902, 8.395563, 7.730953, 1.315...   \n",
       "10  [10.1622505, 12.104039, 7.8647175, 2.6148643, ...   \n",
       "11  [18.12409, 14.84911, 5.322477, 7.0740995, 5.36...   \n",
       "12  [15.221008, 9.326093, 4.736726, 1.4779779, 1.6...   \n",
       "13  [13.586995, 5.8227086, 7.5946417, 2.7808626, 4...   \n",
       "14  [17.744947, 11.50547, 8.61235, 2.864193, 4.061...   \n",
       "15  [28.049507, 16.48778, 9.190033, 3.892851, 4.43...   \n",
       "16  [15.29072, 16.76452, 5.5553412, 3.9682853, 3.5...   \n",
       "17  [21.831648, 9.435863, 7.8399596, 3.7670689, 1....   \n",
       "18  [21.131123, 11.430837, 6.791177, 2.8579204, 5....   \n",
       "19  [20.250101, 11.560561, 8.227364, 2.9785109, 4....   \n",
       "20  [12.422155, 9.694768, 5.895689, 2.6720607, 5.8...   \n",
       "21  [19.144398, 18.07668, 7.293807, 3.3057806, 3.6...   \n",
       "22  [27.66939, 10.2370205, 8.7355585, 5.1993265, 1...   \n",
       "23  [8.529433, 4.3110237, 3.682726, 3.6487968, 10....   \n",
       "24  [15.974641, 12.088012, 8.466302, 3.1131086, 4....   \n",
       "25  [11.523651, 6.596133, 3.704036, 2.8222823, 1.6...   \n",
       "26  [8.313729, 6.101734, 3.3089273, 1.1689386, 1.6...   \n",
       "27  [10.2956505, 6.4443746, 5.9230194, 0.7512102, ...   \n",
       "28  [4.149835, 4.429368, 1.2445787, 0.94656277, 3....   \n",
       "29  [13.07368, 12.481588, 2.669378, 5.0809546, 3.7...   \n",
       "30  [21.867878, 9.97716, 5.8312473, 2.4459343, 6.5...   \n",
       "31  [10.086689, 14.108672, 4.8226976, 4.0197105, 4...   \n",
       "32  [15.590283, 4.966628, 2.804548, 5.20421, 4.186...   \n",
       "33  [15.586725, 5.538866, 4.7305045, 2.3817327, 4....   \n",
       "34  [11.327045, 10.578773, 2.230133, 5.509437, 5.9...   \n",
       "35  [10.086707, 12.786283, 6.708745, 3.8847828, 2....   \n",
       "36  [8.046907, 15.472991, 2.9758377, 5.8726945, 4....   \n",
       "37  [10.942363, 5.3371854, 5.387464, 4.573928, 1.0...   \n",
       "38  [4.066575, 9.210492, 2.0352986, 0.54953665, 4....   \n",
       "39  [7.2213097, 11.876184, 3.158719, 6.4370513, 5....   \n",
       "40  [15.451813, 11.356657, 5.3261, 1.6412044, 6.36...   \n",
       "41  [12.494187, 13.365732, 6.8650484, 4.6283584, 3...   \n",
       "42  [8.484979, 8.39853, 3.4447145, 2.8416357, 1.89...   \n",
       "43  [24.10699, 12.569649, 8.137742, 4.926312, 7.96...   \n",
       "44  [13.992031, 12.807797, 8.002672, 8.237786, 2.9...   \n",
       "\n",
       "                                       combined_mfccs  \n",
       "0   [-198.50255, 131.26993, -25.532259, 52.081627,...  \n",
       "1   [-236.50839, 126.737175, -31.233444, 43.39643,...  \n",
       "2   [-232.32349, 164.00572, -5.2090764, 20.472998,...  \n",
       "3   [-226.49066, 164.1956, -2.9555368, 37.79291, -...  \n",
       "4   [-202.17143, 156.89734, -48.638046, 33.756462,...  \n",
       "5   [-373.69272, 113.312355, -34.333557, 29.849167...  \n",
       "6   [-211.78532, 128.9489, -52.388325, 37.95728, -...  \n",
       "7   [-214.61972, 170.96431, -14.436518, 33.140736,...  \n",
       "8   [-234.83765, 145.21213, -16.12923, 32.834755, ...  \n",
       "9   [-170.79102, 151.00348, -71.76117, 21.137316, ...  \n",
       "10  [-270.70813, 137.34645, -33.411938, 39.212135,...  \n",
       "11  [-247.43605, 133.04637, -42.30406, 25.093954, ...  \n",
       "12  [-252.91954, 208.53593, -33.67015, 15.095603, ...  \n",
       "13  [-243.25531, 174.95642, -32.29458, 40.874092, ...  \n",
       "14  [-237.68312, 156.30824, -63.967422, 8.931896, ...  \n",
       "15  [-274.2532, 142.64854, -25.343046, 32.273438, ...  \n",
       "16  [-233.88576, 144.19817, -49.524216, 38.80048, ...  \n",
       "17  [-262.6091, 192.52148, -4.589961, 20.203566, -...  \n",
       "18  [-236.70256, 181.20598, -8.573147, 35.498096, ...  \n",
       "19  [-208.54013, 150.12013, -67.49839, 22.987942, ...  \n",
       "20  [-249.82527, 150.69121, -4.5179243, 22.975122,...  \n",
       "21  [-241.34697, 149.56001, -23.586311, 28.971302,...  \n",
       "22  [-241.88962, 202.43394, -8.052745, 12.767753, ...  \n",
       "23  [-245.58206, 185.0741, 23.970592, 36.96438, -3...  \n",
       "24  [-194.9433, 160.5923, -50.56368, 21.565584, -4...  \n",
       "25  [-186.46814, 168.7322, 10.924559, 51.274094, -...  \n",
       "26  [-184.96077, 191.88403, 11.973719, 32.072903, ...  \n",
       "27  [-198.73225, 186.10059, 13.468191, 30.794388, ...  \n",
       "28  [-200.03639, 179.5188, 22.865658, 45.667984, -...  \n",
       "29  [-182.89557, 176.56615, -14.695808, 30.747196,...  \n",
       "30  [-213.84456, 99.920265, -17.943068, 39.245327,...  \n",
       "31  [-218.62927, 91.750534, -12.873874, 26.812082,...  \n",
       "32  [-248.30664, 143.59244, 18.716654, 22.22582, -...  \n",
       "33  [-236.1278, 113.4458, -5.0838695, 24.135962, -...  \n",
       "34  [-179.41437, 105.92265, -37.3483, 29.548845, -...  \n",
       "35  [-241.86902, 128.76266, -14.3355055, 35.292564...  \n",
       "36  [-234.65567, 136.68259, 10.915897, 27.213783, ...  \n",
       "37  [-252.8319, 205.11546, -14.255621, 16.387558, ...  \n",
       "38  [-198.23422, 160.3518, -5.5460577, 41.01431, -...  \n",
       "39  [-183.40767, 148.97517, -40.036007, 18.061676,...  \n",
       "40  [-240.06206, 131.01562, -32.443874, 25.212877,...  \n",
       "41  [-211.55312, 115.728195, -30.25764, 22.336082,...  \n",
       "42  [-251.45998, 152.46722, -9.326258, 12.063827, ...  \n",
       "43  [-258.9173, 116.52571, -12.634517, 13.106867, ...  \n",
       "44  [-197.8661, 148.56873, -49.5189, 28.205664, -2...  "
      ]
     },
     "execution_count": 63,
     "metadata": {},
     "output_type": "execute_result"
    }
   ],
   "source": [
    "test_df"
   ]
  },
  {
   "cell_type": "code",
   "execution_count": 64,
   "metadata": {},
   "outputs": [],
   "source": [
    "X = np.array(test_df['combined_mfccs'].tolist())"
   ]
  },
  {
   "cell_type": "code",
   "execution_count": 65,
   "metadata": {},
   "outputs": [
    {
     "data": {
      "text/plain": [
       "array([3, 3, 3, 3, 3, 3, 3, 3, 3, 3, 3, 3, 3, 3, 3, 3, 3, 3, 3, 3, 3, 3,\n",
       "       3, 3, 3, 3, 3, 3, 3, 3, 3, 3, 3, 3, 3, 3, 3, 3, 3, 3, 3, 3, 3, 3,\n",
       "       3], dtype=int64)"
      ]
     },
     "execution_count": 65,
     "metadata": {},
     "output_type": "execute_result"
    }
   ],
   "source": [
    "model2.predict_classes(X)"
   ]
  },
  {
   "cell_type": "code",
   "execution_count": null,
   "metadata": {},
   "outputs": [],
   "source": []
  },
  {
   "cell_type": "code",
   "execution_count": 49,
   "metadata": {},
   "outputs": [],
   "source": [
    "def get_mfcc(file, n_mfcc=40):\n",
    "    audio, sr = librosa.load(file) \n",
    "    mfccs = librosa.feature.mfcc(y=audio, sr=sr, n_mfcc=n_mfcc)\n",
    "    return mfccs.T"
   ]
  },
  {
   "cell_type": "code",
   "execution_count": 100,
   "metadata": {},
   "outputs": [],
   "source": [
    "mfcc_test = test_df['filepath'].map(get_mfcc)"
   ]
  },
  {
   "cell_type": "code",
   "execution_count": 101,
   "metadata": {},
   "outputs": [],
   "source": [
    "X = pad_sequences(mfcc_test, padding='post')"
   ]
  },
  {
   "cell_type": "code",
   "execution_count": 102,
   "metadata": {},
   "outputs": [
    {
     "data": {
      "text/plain": [
       "(45, 125, 40)"
      ]
     },
     "execution_count": 102,
     "metadata": {},
     "output_type": "execute_result"
    }
   ],
   "source": [
    "X.shape"
   ]
  },
  {
   "cell_type": "code",
   "execution_count": 53,
   "metadata": {
    "scrolled": true
   },
   "outputs": [],
   "source": [
    "y_test_pred = model7.predict_classes(X)"
   ]
  },
  {
   "cell_type": "code",
   "execution_count": 54,
   "metadata": {},
   "outputs": [],
   "source": [
    "y_test_pred = list(le.inverse_transform(y_test_pred))"
   ]
  },
  {
   "cell_type": "code",
   "execution_count": 58,
   "metadata": {},
   "outputs": [
    {
     "name": "stdout",
     "output_type": "stream",
     "text": [
      "              precision    recall  f1-score   support\n",
      "\n",
      "      apples       1.00      0.78      0.88         9\n",
      "      father       0.90      1.00      0.95         9\n",
      "     flowers       0.80      0.89      0.84         9\n",
      "       water       0.82      1.00      0.90         9\n",
      "      worker       1.00      0.78      0.88         9\n",
      "\n",
      "    accuracy                           0.89        45\n",
      "   macro avg       0.90      0.89      0.89        45\n",
      "weighted avg       0.90      0.89      0.89        45\n",
      "\n"
     ]
    }
   ],
   "source": [
    "print(classification_report(test_df['class_label'], y_test_pred))"
   ]
  }
 ],
 "metadata": {
  "kernelspec": {
   "display_name": "Python 3",
   "language": "python",
   "name": "python3"
  },
  "language_info": {
   "codemirror_mode": {
    "name": "ipython",
    "version": 3
   },
   "file_extension": ".py",
   "mimetype": "text/x-python",
   "name": "python",
   "nbconvert_exporter": "python",
   "pygments_lexer": "ipython3",
   "version": "3.8.3"
  }
 },
 "nbformat": 4,
 "nbformat_minor": 4
}
