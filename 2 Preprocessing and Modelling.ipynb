{
 "cells": [
  {
   "cell_type": "code",
   "execution_count": 6,
   "metadata": {
    "scrolled": true
   },
   "outputs": [],
   "source": [
    "import IPython.display as ipd\n",
    "import pandas as pd\n",
    "import numpy as np\n",
    "import librosa\n",
    "import librosa.display\n",
    "import matplotlib.pyplot as plt\n",
    "from scipy.io import wavfile as wav\n",
    "\n",
    "from sklearn import metrics\n",
    "from sklearn.preprocessing import LabelEncoder\n",
    "from sklearn.model_selection import train_test_split\n",
    "\n",
    "from keras.models import Sequential\n",
    "from keras.layers import Dense, Dropout, Activation, Conv2D, MaxPooling2D, Flatten\n",
    "from keras.optimizers import Adam\n",
    "from keras.utils import to_categorical\n",
    "from keras.callbacks import ModelCheckpoint \n",
    "from datetime import datetime \n",
    "\n"
   ]
  },
  {
   "cell_type": "code",
   "execution_count": 7,
   "metadata": {},
   "outputs": [],
   "source": [
    "features_df = pd.read_csv(\"datasets/featuresdf.csv\")"
   ]
  },
  {
   "cell_type": "code",
   "execution_count": 8,
   "metadata": {},
   "outputs": [
    {
     "data": {
      "text/html": [
       "<div>\n",
       "<style scoped>\n",
       "    .dataframe tbody tr th:only-of-type {\n",
       "        vertical-align: middle;\n",
       "    }\n",
       "\n",
       "    .dataframe tbody tr th {\n",
       "        vertical-align: top;\n",
       "    }\n",
       "\n",
       "    .dataframe thead th {\n",
       "        text-align: right;\n",
       "    }\n",
       "</style>\n",
       "<table border=\"1\" class=\"dataframe\">\n",
       "  <thead>\n",
       "    <tr style=\"text-align: right;\">\n",
       "      <th></th>\n",
       "      <th>id</th>\n",
       "      <th>filepath</th>\n",
       "      <th>duration</th>\n",
       "      <th>class_label</th>\n",
       "    </tr>\n",
       "  </thead>\n",
       "  <tbody>\n",
       "    <tr>\n",
       "      <th>0</th>\n",
       "      <td>1400066</td>\n",
       "      <td>./assets/audio_train/1400066_apples.wav</td>\n",
       "      <td>0.759320</td>\n",
       "      <td>apples</td>\n",
       "    </tr>\n",
       "    <tr>\n",
       "      <th>1</th>\n",
       "      <td>1400062</td>\n",
       "      <td>./assets/audio_train/1400062_flowers.wav</td>\n",
       "      <td>0.777324</td>\n",
       "      <td>flowers</td>\n",
       "    </tr>\n",
       "    <tr>\n",
       "      <th>2</th>\n",
       "      <td>1400049</td>\n",
       "      <td>./assets/audio_train/1400049_worker.wav</td>\n",
       "      <td>0.571156</td>\n",
       "      <td>worker</td>\n",
       "    </tr>\n",
       "    <tr>\n",
       "      <th>3</th>\n",
       "      <td>1400051</td>\n",
       "      <td>./assets/audio_train/1400051_water.wav</td>\n",
       "      <td>0.480091</td>\n",
       "      <td>water</td>\n",
       "    </tr>\n",
       "    <tr>\n",
       "      <th>4</th>\n",
       "      <td>1400049</td>\n",
       "      <td>./assets/audio_train/1400049_father.wav</td>\n",
       "      <td>0.448073</td>\n",
       "      <td>father</td>\n",
       "    </tr>\n",
       "  </tbody>\n",
       "</table>\n",
       "</div>"
      ],
      "text/plain": [
       "        id                                  filepath  duration class_label\n",
       "0  1400066   ./assets/audio_train/1400066_apples.wav  0.759320      apples\n",
       "1  1400062  ./assets/audio_train/1400062_flowers.wav  0.777324     flowers\n",
       "2  1400049   ./assets/audio_train/1400049_worker.wav  0.571156      worker\n",
       "3  1400051    ./assets/audio_train/1400051_water.wav  0.480091       water\n",
       "4  1400049   ./assets/audio_train/1400049_father.wav  0.448073      father"
      ]
     },
     "execution_count": 8,
     "metadata": {},
     "output_type": "execute_result"
    }
   ],
   "source": [
    "features_df.head()"
   ]
  },
  {
   "cell_type": "code",
   "execution_count": 9,
   "metadata": {},
   "outputs": [],
   "source": [
    "filepath = f'./assets/audio_train/1400049_father.wav'\n",
    "audio, sr = librosa.load(filepath)\n",
    "mfccs = librosa.feature.mfcc(y = audio, sr=sr, n_mfcc=40)"
   ]
  },
  {
   "cell_type": "code",
   "execution_count": 10,
   "metadata": {
    "scrolled": false
   },
   "outputs": [
    {
     "data": {
      "text/plain": [
       "<matplotlib.collections.QuadMesh at 0x7f642416f550>"
      ]
     },
     "execution_count": 10,
     "metadata": {},
     "output_type": "execute_result"
    },
    {
     "data": {
      "image/png": "[encoded data removed]",
      "text/plain": [
       "<Figure size 576x576 with 1 Axes>"
      ]
     },
     "metadata": {
      "needs_background": "light"
     },
     "output_type": "display_data"
    }
   ],
   "source": [
    "plt.figure(figsize=(8,8))\n",
    "librosa.display.specshow(mfccs, sr=sr, x_axis = 'time')"
   ]
  },
  {
   "cell_type": "code",
   "execution_count": 11,
   "metadata": {},
   "outputs": [
    {
     "data": {
      "text/plain": [
       "(40, 20)"
      ]
     },
     "execution_count": 11,
     "metadata": {},
     "output_type": "execute_result"
    }
   ],
   "source": [
    "mfccs.shape"
   ]
  },
  {
   "cell_type": "code",
   "execution_count": 12,
   "metadata": {},
   "outputs": [
    {
     "data": {
      "text/plain": [
       "array([[-1.96346878e+02, -1.79968414e+02, -1.73948914e+02,\n",
       "        -1.40422562e+02, -1.30837280e+02, -1.27352371e+02,\n",
       "        -1.30908127e+02, -1.21989059e+02, -1.16357872e+02,\n",
       "        -1.56346008e+02, -2.33684799e+02, -2.01312592e+02,\n",
       "        -1.54644608e+02, -1.60986404e+02, -1.86442413e+02,\n",
       "        -2.01413818e+02, -2.20349533e+02, -2.41758011e+02,\n",
       "        -2.62189514e+02, -2.62184204e+02],\n",
       "       [ 1.77322083e+01,  2.43227654e+01,  3.50402985e+01,\n",
       "         1.25764130e+02,  1.88848480e+02,  1.77813965e+02,\n",
       "         1.53549866e+02,  1.35759369e+02,  1.32387604e+02,\n",
       "         1.36715790e+02,  1.34408569e+02,  1.23432152e+02,\n",
       "         1.43213623e+02,  1.33257278e+02,  1.11394722e+02,\n",
       "         1.21203140e+02,  1.09763245e+02,  7.17845459e+01,\n",
       "         5.06944618e+01,  4.38083000e+01],\n",
       "       [-1.01654694e+02, -1.13328751e+02, -1.11931900e+02,\n",
       "        -6.33613739e+01, -5.28529968e+01, -6.58507996e+01,\n",
       "        -7.88319702e+01, -8.26968231e+01, -6.97221756e+01,\n",
       "        -4.02028198e+01, -9.99385452e+00, -2.07248764e+01,\n",
       "        -3.28071213e+01, -4.54788895e+01, -6.39615631e+01,\n",
       "        -6.07765503e+01, -4.81400185e+01, -4.98952560e+01,\n",
       "        -4.27755051e+01, -8.85767365e+00],\n",
       "       [ 3.87398262e+01,  4.58403854e+01,  3.82262878e+01,\n",
       "         2.02896099e+01,  2.98413610e+00,  1.15918655e+01,\n",
       "         1.45092154e+01,  2.37146301e+01,  3.32530823e+01,\n",
       "         3.94307022e+01,  2.86508808e+01,  3.38898773e+01,\n",
       "         3.96785889e+01,  4.92519684e+01,  4.32824402e+01,\n",
       "         3.91668358e+01,  3.46583900e+01,  3.54261818e+01,\n",
       "         3.63592033e+01,  2.54356861e+01],\n",
       "       [-2.25047646e+01, -3.15380516e+01, -4.02831345e+01,\n",
       "        -5.57549896e+01, -6.72180939e+01, -6.90178986e+01,\n",
       "        -6.69942780e+01, -6.51266937e+01, -6.35304451e+01,\n",
       "        -4.81871376e+01, -2.94873238e+01, -3.35700684e+01,\n",
       "        -4.39612885e+01, -4.28146858e+01, -3.97721558e+01,\n",
       "        -3.23618546e+01, -3.06994019e+01, -3.02850304e+01,\n",
       "        -3.09151554e+01, -2.29873562e+01],\n",
       "       [ 4.66273727e+01,  4.32767639e+01,  3.44349632e+01,\n",
       "         2.44319496e+01,  3.79978895e+00,  5.92168713e+00,\n",
       "         1.51693106e+01,  2.08260479e+01,  2.71278858e+01,\n",
       "         3.31658707e+01,  3.74507217e+01,  4.12450638e+01,\n",
       "         3.89598885e+01,  3.24274979e+01,  2.58511429e+01,\n",
       "         2.35024681e+01,  3.27663574e+01,  4.78446159e+01,\n",
       "         4.18270874e+01,  1.47586956e+01],\n",
       "       [-3.01329556e+01, -3.86926651e+01, -4.68135529e+01,\n",
       "        -3.68245392e+01, -1.49395933e+01, -8.79640961e+00,\n",
       "        -3.64812660e+00, -6.31536579e+00, -1.56547718e+01,\n",
       "        -1.93746166e+01, -2.56628895e+01, -4.27601624e+01,\n",
       "        -3.15614185e+01, -1.21384201e+01, -5.25286484e+00,\n",
       "        -5.40139723e+00, -1.40587234e+01, -2.05948544e+01,\n",
       "        -2.35605965e+01, -1.90368805e+01],\n",
       "       [ 9.16758347e+00,  8.15962505e+00,  9.28259373e-01,\n",
       "         7.02591610e+00, -1.67468333e+00, -4.54353285e+00,\n",
       "        -2.05082154e+00, -2.00209045e+00, -1.13819752e+01,\n",
       "        -2.03391285e+01, -1.49040518e+01, -1.89584274e+01,\n",
       "        -3.43236542e+01, -3.91495132e+01, -3.10862560e+01,\n",
       "        -2.71405945e+01, -1.05126858e+01,  5.74782133e-01,\n",
       "        -2.93611079e-01, -4.52736855e+00],\n",
       "       [-2.73550053e+01, -3.13498611e+01, -3.35807037e+01,\n",
       "        -2.58513260e+01, -2.34229088e+01, -2.16231232e+01,\n",
       "        -2.79981117e+01, -3.58242226e+01, -4.52641945e+01,\n",
       "        -4.86502037e+01, -3.41306038e+01, -3.64448090e+01,\n",
       "        -4.63010254e+01, -5.02115707e+01, -4.75061035e+01,\n",
       "        -4.18075829e+01, -3.40442810e+01, -2.88150311e+01,\n",
       "        -3.29409332e+01, -2.29504547e+01],\n",
       "       [-2.29512721e-01, -6.28115892e+00, -5.46555233e+00,\n",
       "        -1.14723997e+01, -2.36925125e+01, -2.72006969e+01,\n",
       "        -2.34118538e+01, -1.60902481e+01, -1.94940491e+01,\n",
       "        -2.50108948e+01, -2.66660004e+01, -2.10820351e+01,\n",
       "        -2.16854420e+01, -1.79851799e+01, -1.22918758e+01,\n",
       "        -1.61919441e+01, -1.71228123e+01, -1.32935314e+01,\n",
       "        -1.28887672e+01, -1.30457706e+01],\n",
       "       [ 3.89378595e+00, -2.92638206e+00, -2.50460291e+00,\n",
       "        -1.26832876e+01, -1.89564018e+01, -1.16235075e+01,\n",
       "        -6.80852079e+00, -3.74942088e+00, -8.14457226e+00,\n",
       "        -1.11393900e+01, -1.40320988e+01, -1.70497246e+01,\n",
       "        -2.25571690e+01, -2.59560394e+01, -1.79626350e+01,\n",
       "        -1.37200174e+01, -9.67395401e+00, -4.25251913e+00,\n",
       "        -5.87590837e+00, -9.90177536e+00],\n",
       "       [-6.38636160e+00, -4.97848129e+00, -7.63995028e+00,\n",
       "        -1.97441101e+01, -7.91690063e+00, -7.69477510e+00,\n",
       "        -9.80539799e+00, -1.03086796e+01, -1.41316853e+01,\n",
       "        -1.66324577e+01, -1.34418449e+01, -2.40523605e+01,\n",
       "        -2.63507614e+01, -2.07551308e+01, -1.41261787e+01,\n",
       "        -1.88922043e+01, -2.33000145e+01, -1.49336834e+01,\n",
       "        -1.19385061e+01, -8.66159248e+00],\n",
       "       [-5.29760122e-02,  7.58251476e+00,  6.27238131e+00,\n",
       "        -5.23961163e+00, -6.71995354e+00, -6.71492577e+00,\n",
       "        -6.28043842e+00, -1.34707499e+01, -2.31108971e+01,\n",
       "        -3.25927010e+01, -2.21254864e+01, -2.03842144e+01,\n",
       "        -2.62225361e+01, -2.85104790e+01, -2.57035980e+01,\n",
       "        -2.43460922e+01, -1.63015060e+01, -5.05138540e+00,\n",
       "        -3.75324631e+00, -5.92416096e+00],\n",
       "       [-7.19624805e+00, -1.19112530e+01, -1.50249577e+01,\n",
       "        -1.86503639e+01, -2.57588177e+01, -2.41916809e+01,\n",
       "        -2.65525284e+01, -2.44839382e+01, -1.96246758e+01,\n",
       "        -1.82245846e+01, -1.95461006e+01, -1.85105534e+01,\n",
       "        -1.84243507e+01, -1.27556019e+01, -1.27857962e+01,\n",
       "        -9.02583790e+00, -1.17204895e+01, -1.61681404e+01,\n",
       "        -1.18074217e+01, -2.27112365e+00],\n",
       "       [ 2.11730042e+01,  1.98284416e+01,  1.60006065e+01,\n",
       "         7.93795013e+00,  4.49588680e+00,  1.87380683e+00,\n",
       "        -1.96999311e-02,  9.82447052e+00,  1.46300688e+01,\n",
       "         1.55858297e+01,  7.12810421e+00,  8.60640717e+00,\n",
       "         1.82667999e+01,  2.20093136e+01,  2.00083847e+01,\n",
       "         1.27458191e+01,  5.11574602e+00,  2.91107798e+00,\n",
       "         6.22757435e+00,  6.44494343e+00],\n",
       "       [-9.58056259e+00, -1.49825563e+01, -2.05787144e+01,\n",
       "        -3.20245934e+01, -2.69546547e+01, -2.24461708e+01,\n",
       "        -2.16676903e+01, -2.57499733e+01, -3.16907997e+01,\n",
       "        -3.18725624e+01, -2.59460754e+01, -2.56608925e+01,\n",
       "        -2.50088577e+01, -2.57699718e+01, -2.70235977e+01,\n",
       "        -2.71753922e+01, -2.63126297e+01, -2.61117516e+01,\n",
       "        -2.09106579e+01, -1.78718796e+01],\n",
       "       [ 8.54685307e+00,  9.52222252e+00,  6.71457958e+00,\n",
       "        -6.34518862e+00, -1.88036003e+01, -2.36958447e+01,\n",
       "        -2.32595253e+01, -1.51712742e+01, -1.11694660e+01,\n",
       "        -7.11982346e+00, -2.91829944e+00, -6.89724636e+00,\n",
       "        -1.08621702e+01, -8.82843494e+00, -5.34982157e+00,\n",
       "        -7.16828537e+00, -8.49761486e+00, -3.05791521e+00,\n",
       "         3.39279938e+00, -3.58610690e-01],\n",
       "       [ 3.64284372e+00,  1.11469388e+00,  4.74357891e+00,\n",
       "        -2.05470490e+00, -1.64172614e+00,  3.90802169e+00,\n",
       "         3.00009251e+00,  5.01087308e-01, -2.60981774e+00,\n",
       "        -2.85729408e+00, -3.38042259e+00, -7.21901369e+00,\n",
       "        -1.47064865e-01, -3.69267321e+00, -7.46059990e+00,\n",
       "        -1.16662426e+01, -5.78459930e+00, -4.04870701e+00,\n",
       "         5.17341137e+00,  7.34568214e+00],\n",
       "       [ 1.17163825e+00, -1.46217322e+00,  1.08345199e+00,\n",
       "        -7.13899612e+00, -4.71900415e+00, -5.77580452e+00,\n",
       "        -6.26100397e+00, -8.62231255e+00, -1.11866283e+01,\n",
       "        -1.40373631e+01, -1.73041897e+01, -1.35301895e+01,\n",
       "        -1.15831375e+01, -5.89044905e+00, -6.26527786e+00,\n",
       "        -1.11193180e+01, -1.11892614e+01, -1.78480110e+01,\n",
       "        -6.49209166e+00,  7.56846857e+00],\n",
       "       [-1.13137236e+01, -1.61345062e+01, -1.42669010e+01,\n",
       "        -2.17737560e+01, -2.17213573e+01, -2.55923862e+01,\n",
       "        -2.89769363e+01, -3.06400738e+01, -3.49997711e+01,\n",
       "        -3.28797226e+01, -2.27956810e+01, -2.46167526e+01,\n",
       "        -2.93954735e+01, -2.84323730e+01, -1.78930779e+01,\n",
       "        -1.44530334e+01, -1.92986488e+01, -2.71648369e+01,\n",
       "        -1.42062607e+01,  1.87653041e+00],\n",
       "       [ 3.78953981e+00,  4.94870853e+00,  5.70436573e+00,\n",
       "        -5.62527847e+00, -1.18507032e+01, -7.43922758e+00,\n",
       "        -2.84354544e+00, -1.37495077e+00,  5.73952258e-01,\n",
       "         3.32990503e+00, -1.08455968e+00,  4.61836368e-01,\n",
       "         4.34407711e+00,  1.61776996e+00,  4.22053337e-02,\n",
       "         1.75947523e+00,  4.84549761e-01, -4.94404888e+00,\n",
       "         8.37653160e+00,  1.73119640e+01],\n",
       "       [ 1.16060972e+01,  8.91989803e+00,  7.66379547e+00,\n",
       "         2.67946720e-03, -5.32765627e+00, -6.94638586e+00,\n",
       "        -4.37910032e+00, -4.90103054e+00, -9.82637215e+00,\n",
       "        -1.55990000e+01, -1.71220665e+01, -1.45620708e+01,\n",
       "        -1.58235798e+01, -1.67949753e+01, -1.82795448e+01,\n",
       "        -1.47931576e+01, -1.34331188e+01, -1.04511833e+01,\n",
       "         1.22421706e+00,  1.75105438e+01],\n",
       "       [ 4.33271074e+00, -2.77281857e+00, -9.35186386e+00,\n",
       "        -1.52063656e+01, -1.06348391e+01, -7.87860584e+00,\n",
       "        -9.54571342e+00, -1.32828007e+01, -1.72715492e+01,\n",
       "        -2.04373703e+01, -1.84725990e+01, -1.84185028e+01,\n",
       "        -1.92016220e+01, -2.46748848e+01, -2.95608788e+01,\n",
       "        -3.04719810e+01, -2.86153717e+01, -2.20482330e+01,\n",
       "        -9.34208679e+00,  9.16100025e+00],\n",
       "       [ 4.85439873e+00,  8.37013626e+00,  7.26551056e+00,\n",
       "         1.01734507e+00, -1.08990622e+00, -3.87800741e+00,\n",
       "        -3.78719151e-01,  6.18360329e+00,  1.06775560e+01,\n",
       "         8.92746639e+00,  1.35131145e+00,  2.75748873e+00,\n",
       "         9.90990829e+00,  1.17432585e+01,  7.03731728e+00,\n",
       "         2.48669147e+00, -3.95587921e+00, -4.99546051e+00,\n",
       "         7.36439514e+00,  1.34065247e+01],\n",
       "       [-1.47318211e+01, -1.07970333e+01, -7.68140650e+00,\n",
       "        -1.26277599e+01, -1.65532055e+01, -1.84316864e+01,\n",
       "        -2.03848038e+01, -2.03236771e+01, -2.18124332e+01,\n",
       "        -2.89411697e+01, -2.17435570e+01, -2.02590942e+01,\n",
       "        -2.18280449e+01, -2.05552807e+01, -2.17854977e+01,\n",
       "        -2.39976959e+01, -2.23445492e+01, -1.90917416e+01,\n",
       "        -8.24537086e+00, -8.92423058e+00],\n",
       "       [ 1.72688925e+00,  7.37543917e+00,  1.08369370e+01,\n",
       "        -1.08181953e-01, -3.55418539e+00, -5.76701522e-01,\n",
       "         1.51699162e+00, -2.41317868e-01,  2.42101955e+00,\n",
       "         5.84830904e+00,  4.63032436e+00,  4.11575437e-01,\n",
       "         1.92218065e-01,  3.87640595e-01, -6.10861921e+00,\n",
       "        -9.98842049e+00, -8.63560867e+00, -2.34439254e-01,\n",
       "         4.04835129e+00,  2.74092817e+00],\n",
       "       [-2.26203084e+00, -6.47311115e+00, -3.78596306e+00,\n",
       "        -1.45861187e+01, -1.84636574e+01, -1.68169804e+01,\n",
       "        -1.28269176e+01, -1.81230278e+01, -2.00246086e+01,\n",
       "        -1.42862396e+01, -1.04871941e+01, -1.65845509e+01,\n",
       "        -1.63372574e+01, -1.66327400e+01, -1.44640713e+01,\n",
       "        -1.09995804e+01, -1.09914932e+01, -1.03158360e+01,\n",
       "        -8.76638985e+00, -1.80091286e+00],\n",
       "       [ 1.56100559e+00, -5.62876463e-01, -1.41107571e+00,\n",
       "        -1.13349476e+01, -1.29060154e+01, -1.56316452e+01,\n",
       "        -1.65195961e+01, -1.31314964e+01, -1.04922190e+01,\n",
       "        -9.25068474e+00, -1.11853552e+01, -9.11283398e+00,\n",
       "        -1.20743389e+01, -1.41875143e+01, -1.33869591e+01,\n",
       "        -1.19394073e+01, -8.67904377e+00, -6.91169596e+00,\n",
       "        -6.00130749e+00, -5.46558142e+00],\n",
       "       [-4.93291998e+00, -2.65394878e+00,  2.22227439e-01,\n",
       "        -4.05071163e+00, -5.94530582e+00, -7.03572941e+00,\n",
       "        -7.41137791e+00, -8.33084106e+00, -2.21757722e+00,\n",
       "         1.85797215e+00, -7.69110680e+00, -5.51092565e-01,\n",
       "         2.95610905e+00,  3.12033939e+00, -1.12225759e+00,\n",
       "        -4.80825138e+00, -9.55388832e+00, -4.57409573e+00,\n",
       "        -1.66897535e+00, -5.12386131e+00],\n",
       "       [-8.42332363e-01,  3.41889381e+00,  3.02587748e+00,\n",
       "        -3.51279020e+00, -7.49832439e+00, -7.74585724e+00,\n",
       "        -1.09582920e+01, -1.50830097e+01, -1.15860062e+01,\n",
       "        -1.18628292e+01, -1.11036606e+01,  1.57077205e+00,\n",
       "        -2.18083858e-01, -8.72433281e+00, -1.28658152e+01,\n",
       "        -5.46540451e+00, -1.69246912e-01,  1.62998545e+00,\n",
       "        -2.25348377e+00, -7.62179995e+00],\n",
       "       [-6.45560122e+00, -2.63885260e+00, -5.41385078e+00,\n",
       "        -1.06778755e+01, -6.09016466e+00, -8.10163116e+00,\n",
       "        -6.90276051e+00, -5.17116117e+00,  4.79869246e-02,\n",
       "         4.13219547e+00,  1.67543089e+00, -9.08794403e-01,\n",
       "        -4.66300106e+00, -1.10929127e+01, -9.88878822e+00,\n",
       "         9.54650998e-01,  7.23293495e+00,  6.41648960e+00,\n",
       "        -1.28378820e+00, -3.26939821e-01],\n",
       "       [-1.10735674e+01, -5.12196732e+00, -3.48464251e+00,\n",
       "        -7.79592228e+00, -1.79323997e+01, -1.39350510e+01,\n",
       "        -8.18399429e+00, -9.11724663e+00, -5.65617847e+00,\n",
       "        -1.87529421e+00, -8.81930470e-01,  2.04828763e+00,\n",
       "        -6.99683487e-01, -1.60580349e+00,  5.53823233e+00,\n",
       "         1.06667250e-01, -1.95529485e+00,  2.07824659e+00,\n",
       "        -3.58924174e+00, -6.58482742e+00],\n",
       "       [-4.67547417e+00,  3.90050220e+00,  7.84828806e+00,\n",
       "         1.95864558e+00,  2.91134208e-01, -4.32279587e+00,\n",
       "        -4.85612202e+00, -3.63011575e+00, -4.56243658e+00,\n",
       "        -6.75482655e+00, -2.34540701e+00,  8.73556519e+00,\n",
       "         4.79035950e+00,  8.55029488e+00,  2.17427654e+01,\n",
       "         1.48839922e+01,  9.50321960e+00,  9.34209251e+00,\n",
       "         4.50280368e-01, -4.85223866e+00],\n",
       "       [-3.41820574e+00, -7.00990009e+00, -6.06575203e+00,\n",
       "        -9.57423782e+00, -4.51690102e+00, -7.05561066e+00,\n",
       "        -8.61750889e+00, -1.17396631e+01, -1.06182175e+01,\n",
       "        -1.12463150e+01, -4.01076078e+00,  2.81281114e-01,\n",
       "         5.66604328e+00,  1.84508610e+01,  3.50980568e+01,\n",
       "         2.51844711e+01,  1.20261364e+01,  2.64425850e+00,\n",
       "        -3.87277985e+00, -1.13093939e+01],\n",
       "       [ 2.19217420e-01, -3.99467754e+00, -5.37749469e-01,\n",
       "        -3.66521978e+00, -1.01597853e+01, -7.03770924e+00,\n",
       "        -8.24698830e+00, -8.88425827e+00, -1.24234810e+01,\n",
       "        -1.95793610e+01, -8.73353577e+00,  1.16523399e+01,\n",
       "         2.30302620e+01,  3.06222458e+01,  4.11717682e+01,\n",
       "         3.33200989e+01,  1.94571915e+01,  6.00245619e+00,\n",
       "        -1.89597011e-02, -4.88949585e+00],\n",
       "       [-8.65672398e+00, -8.37995338e+00, -1.45476270e+00,\n",
       "        -5.04257679e-02, -2.57175207e+00, -8.01688290e+00,\n",
       "        -1.14079742e+01, -9.72469616e+00, -1.20543747e+01,\n",
       "        -1.95093002e+01, -1.74630833e+01,  8.07215929e-01,\n",
       "         9.88359547e+00,  1.80006447e+01,  2.59525337e+01,\n",
       "         2.33681793e+01,  1.78175430e+01,  5.90894890e+00,\n",
       "        -3.27878523e+00,  1.39265108e+00],\n",
       "       [ 3.41636658e+00,  3.76945901e+00,  7.10914898e+00,\n",
       "         1.22557001e+01,  4.27858829e+00, -9.96623933e-01,\n",
       "        -5.62755108e+00,  6.00539923e-01,  1.01998844e+01,\n",
       "         1.14512281e+01,  9.53804207e+00,  1.00902748e+01,\n",
       "         1.37340622e+01,  1.93041058e+01,  2.15052528e+01,\n",
       "         2.41213646e+01,  2.39475594e+01,  1.43818779e+01,\n",
       "         3.67414045e+00,  8.70782614e-01],\n",
       "       [ 7.52245545e-01,  1.11954796e+00,  1.37433982e+00,\n",
       "         6.81539392e+00,  1.30193782e+00, -3.99588346e+00,\n",
       "        -4.91948223e+00,  9.42759705e+00,  1.89139690e+01,\n",
       "         2.06252480e+01,  1.39667740e+01,  5.01121235e+00,\n",
       "         7.01501250e-01, -1.11571026e+00,  4.38352942e-01,\n",
       "         3.89988136e+00,  1.01588364e+01,  8.78347588e+00,\n",
       "         4.37749386e+00,  6.71015072e+00],\n",
       "       [ 8.39583874e-02,  3.59720850e+00,  3.22606564e+00,\n",
       "         6.79793596e+00,  2.68413401e+00,  5.80389977e-01,\n",
       "         8.70772362e+00,  2.85481567e+01,  3.61792450e+01,\n",
       "         3.61191635e+01,  1.75960674e+01, -6.32959843e+00,\n",
       "        -1.32973671e+01, -1.73771248e+01, -1.07916679e+01,\n",
       "        -9.86417103e+00, -1.51094985e+00,  4.67193270e+00,\n",
       "         2.30340433e+00,  1.05290246e+00],\n",
       "       [-1.07259130e+00,  4.32546234e+00,  2.86397362e+00,\n",
       "         5.87630749e+00,  7.40903568e+00,  1.03037186e+01,\n",
       "         2.69412766e+01,  4.04633484e+01,  3.69946022e+01,\n",
       "         3.45860443e+01,  2.33222466e+01,  2.76985884e-01,\n",
       "        -2.39853477e+00, -6.08712292e+00, -2.93348813e+00,\n",
       "         1.11517251e+00,  7.20997453e-02,  1.91064990e+00,\n",
       "         1.45570469e+00, -1.84652805e-02]], dtype=float32)"
      ]
     },
     "execution_count": 12,
     "metadata": {},
     "output_type": "execute_result"
    }
   ],
   "source": [
    "mfccs"
   ]
  },
  {
   "cell_type": "code",
   "execution_count": 13,
   "metadata": {},
   "outputs": [
    {
     "data": {
      "text/plain": [
       "<matplotlib.collections.QuadMesh at 0x7f64224d1370>"
      ]
     },
     "execution_count": 13,
     "metadata": {},
     "output_type": "execute_result"
    },
    {
     "data": {
      "image/png": "[encoded data removed]",
      "text/plain": [
       "<Figure size 576x576 with 1 Axes>"
      ]
     },
     "metadata": {
      "needs_background": "light"
     },
     "output_type": "display_data"
    }
   ],
   "source": [
    "filepath = f'./assets/audio_train/1400062_flowers.wav'\n",
    "audio, sr = librosa.load(filepath)\n",
    "mfccs = librosa.feature.mfcc(y = audio, sr=sr, n_mfcc=40)\n",
    "plt.figure(figsize=(8,8))\n",
    "librosa.display.specshow(mfccs, sr=sr, x_axis = 'time')"
   ]
  },
  {
   "cell_type": "code",
   "execution_count": 9,
   "metadata": {},
   "outputs": [
    {
     "data": {
      "text/plain": [
       "(40, 34)"
      ]
     },
     "execution_count": 9,
     "metadata": {},
     "output_type": "execute_result"
    }
   ],
   "source": [
    "mfccs.shape"
   ]
  },
  {
   "cell_type": "markdown",
   "metadata": {},
   "source": [
    "## 3. Preprocessing"
   ]
  },
  {
   "cell_type": "markdown",
   "metadata": {},
   "source": [
    "There are many ways of preprocessing audio files and the methods of preprocessing is heavily dependent on the type of classification model which will be used.\n",
    "\n",
    "The model I will be building is:\n",
    "\n",
    "1. Feedforward Neural Network\n",
    "2. Convolutional Neural Network\n",
    "3. Ensemble Method"
   ]
  },
  {
   "cell_type": "markdown",
   "metadata": {},
   "source": [
    "#### Preproccessing for FNN\n",
    "\n",
    "There are a few ways to process the audio for a simple feedforward neural network. The first and most common way is to find the average of each coefficient of the MFCC across time, which will give us a shape of (40,1) dimensions. \n"
   ]
  },
  {
   "cell_type": "code",
   "execution_count": 14,
   "metadata": {},
   "outputs": [],
   "source": [
    "def get_mfccs_features(file_list):\n",
    "    features = {}\n",
    "    mean = []\n",
    "    std = []\n",
    "    delta_mean = []\n",
    "    delta_std = []\n",
    "    for f in file_list:\n",
    "        audio, sr = librosa.load(f) \n",
    "        mfccs = librosa.feature.mfcc(y=audio, sr=sr, n_mfcc=40)\n",
    "        mfccs_delta = librosa.feature.delta(mfccs)\n",
    "        \n",
    "        mfccs_mean = np.mean(mfccs.T,axis=0)\n",
    "        mean.append(mfccs_mean)\n",
    "        \n",
    "        mfccs_std = np.std(mfccs.T,axis=0)\n",
    "        std.append(mfccs_std)\n",
    "        \n",
    "        mfccs_delta_mean = np.mean(mfccs_delta.T,axis=0)\n",
    "        delta_mean.append(mfccs_delta_mean)\n",
    "        \n",
    "        mfccs_delta_std = np.std(mfccs_delta.T,axis=0)\n",
    "        delta_std.append(mfccs_delta_std)\n",
    "    \n",
    "    features['mfccs_mean'] = mean\n",
    "    features['mfccs_std'] = std\n",
    "    features['mfccs_delta_mean'] = delta_mean\n",
    "    features['mfccs_delta_std'] = delta_std\n",
    "    \n",
    "    return features"
   ]
  },
  {
   "cell_type": "code",
   "execution_count": 15,
   "metadata": {},
   "outputs": [],
   "source": [
    "# get all the features\n",
    "\n",
    "mfccs_features = get_mfccs_features(features_df['filepath'])"
   ]
  },
  {
   "cell_type": "code",
   "execution_count": 16,
   "metadata": {},
   "outputs": [],
   "source": [
    "# add them into the dataframe\n",
    "\n",
    "for k, v in mfccs_features.items():\n",
    "    features_df[k] = v"
   ]
  },
  {
   "cell_type": "code",
   "execution_count": 17,
   "metadata": {},
   "outputs": [],
   "source": [
    "combined_features = []\n",
    "for n in range(0,len(features_df)):\n",
    "    combined_features.append(np.concatenate((features_df['mfccs_mean'][n],features_df['mfccs_std'][n], features_df['mfccs_delta_mean'][n],features_df['mfccs_delta_std'][n])))\n",
    "features_df['combined_mfccs'] = combined_features"
   ]
  },
  {
   "cell_type": "code",
   "execution_count": 18,
   "metadata": {},
   "outputs": [],
   "source": [
    "X_1 = features_df['mfccs_mean']"
   ]
  },
  {
   "cell_type": "code",
   "execution_count": 19,
   "metadata": {},
   "outputs": [],
   "source": [
    "X_1 = np.array(X_1.tolist())"
   ]
  },
  {
   "cell_type": "code",
   "execution_count": 21,
   "metadata": {},
   "outputs": [],
   "source": [
    "le = LabelEncoder()\n",
    "y = to_categorical(le.fit_transform(features_df['class_label'].tolist()))\n",
    "y = np.array(y)"
   ]
  },
  {
   "cell_type": "code",
   "execution_count": 22,
   "metadata": {},
   "outputs": [],
   "source": [
    "X_train_1, X_test_1, y_train, y_test = train_test_split(X_1, y, test_size = 0.2, random_state = 42, stratify = y)"
   ]
  },
  {
   "cell_type": "markdown",
   "metadata": {},
   "source": [
    "**Pre-processing For CNN**"
   ]
  },
  {
   "cell_type": "code",
   "execution_count": 23,
   "metadata": {},
   "outputs": [],
   "source": [
    "def get_mel(filename):\n",
    "    audio, sr = librosa.load(filename)\n",
    "    mel= librosa.feature.melspectrogram(audio, sr=sr)\n",
    "    mel = librosa.util.fix_length(mel,39)\n",
    "    return mel.T"
   ]
  },
  {
   "cell_type": "code",
   "execution_count": 24,
   "metadata": {},
   "outputs": [],
   "source": [
    "features_df['mel'] = features_df['filepath'].map(get_mel)"
   ]
  },
  {
   "cell_type": "code",
   "execution_count": 25,
   "metadata": {},
   "outputs": [],
   "source": [
    "X_cnn = np.array(features_df['mel'].tolist())"
   ]
  },
  {
   "cell_type": "code",
   "execution_count": 26,
   "metadata": {},
   "outputs": [
    {
     "data": {
      "text/plain": [
       "(553, 39, 128)"
      ]
     },
     "execution_count": 26,
     "metadata": {},
     "output_type": "execute_result"
    }
   ],
   "source": [
    "X_cnn.shape"
   ]
  },
  {
   "cell_type": "code",
   "execution_count": 27,
   "metadata": {},
   "outputs": [],
   "source": [
    "le = LabelEncoder()\n",
    "y = to_categorical(le.fit_transform(features_df['class_label'].tolist()))\n",
    "y = np.array(y)"
   ]
  },
  {
   "cell_type": "code",
   "execution_count": 28,
   "metadata": {},
   "outputs": [
    {
     "data": {
      "text/plain": [
       "(553, 5)"
      ]
     },
     "execution_count": 28,
     "metadata": {},
     "output_type": "execute_result"
    }
   ],
   "source": [
    "y.shape"
   ]
  },
  {
   "cell_type": "code",
   "execution_count": 29,
   "metadata": {},
   "outputs": [],
   "source": [
    "X_train_cnn, X_test_cnn, y_train_cnn, y_test_cnn = train_test_split(X_cnn, y, test_size = 0.2, random_state = 42, stratify = y)"
   ]
  },
  {
   "cell_type": "code",
   "execution_count": 30,
   "metadata": {},
   "outputs": [],
   "source": [
    "X_train_cnn = X_train_cnn.reshape(X_train_cnn.shape[0], 39, 128, 1)\n",
    "X_test_cnn = X_test_cnn.reshape(X_test_cnn.shape[0], 39, 128, 1)"
   ]
  },
  {
   "cell_type": "markdown",
   "metadata": {},
   "source": [
    "\n",
    "## 4. Modelling"
   ]
  },
  {
   "cell_type": "markdown",
   "metadata": {},
   "source": [
    "Model 1: Vanilla Base-line model\n",
    "\n",
    "FNN with MFCCS mean\n",
    "Dimension = 40\n",
    "layers = 2"
   ]
  },
  {
   "cell_type": "code",
   "execution_count": 33,
   "metadata": {},
   "outputs": [],
   "source": [
    "model = Sequential()\n",
    "model.add(Dense(64, activation='relu', input_shape=(40,)))\n",
    "model.add(Dense(64, activation='relu'))\n",
    "model.add(Dense(5, activation='softmax'))"
   ]
  },
  {
   "cell_type": "code",
   "execution_count": 34,
   "metadata": {},
   "outputs": [],
   "source": [
    "model.compile(loss='categorical_crossentropy', optimizer='adam', metrics = ['accuracy'])"
   ]
  },
  {
   "cell_type": "code",
   "execution_count": 35,
   "metadata": {},
   "outputs": [
    {
     "name": "stdout",
     "output_type": "stream",
     "text": [
      "Model: \"sequential\"\n",
      "_________________________________________________________________\n",
      "Layer (type)                 Output Shape              Param #   \n",
      "=================================================================\n",
      "dense (Dense)                (None, 64)                2624      \n",
      "_________________________________________________________________\n",
      "dense_1 (Dense)              (None, 64)                4160      \n",
      "_________________________________________________________________\n",
      "dense_2 (Dense)              (None, 5)                 325       \n",
      "=================================================================\n",
      "Total params: 7,109\n",
      "Trainable params: 7,109\n",
      "Non-trainable params: 0\n",
      "_________________________________________________________________\n"
     ]
    }
   ],
   "source": [
    "model.summary()"
   ]
  },
  {
   "cell_type": "code",
   "execution_count": 36,
   "metadata": {},
   "outputs": [
    {
     "name": "stdout",
     "output_type": "stream",
     "text": [
      "Epoch 1/50\n",
      "14/14 - 0s - loss: 10.6207 - accuracy: 0.2738 - val_loss: 6.0312 - val_accuracy: 0.3153\n",
      "Epoch 2/50\n",
      "14/14 - 0s - loss: 3.7275 - accuracy: 0.3575 - val_loss: 2.8992 - val_accuracy: 0.3964\n",
      "Epoch 3/50\n",
      "14/14 - 0s - loss: 2.4552 - accuracy: 0.4570 - val_loss: 2.2794 - val_accuracy: 0.4234\n",
      "Epoch 4/50\n",
      "14/14 - 0s - loss: 1.8391 - accuracy: 0.5045 - val_loss: 2.1098 - val_accuracy: 0.4144\n",
      "Epoch 5/50\n",
      "14/14 - 0s - loss: 1.6193 - accuracy: 0.5701 - val_loss: 1.7510 - val_accuracy: 0.4595\n",
      "Epoch 6/50\n",
      "14/14 - 0s - loss: 1.3186 - accuracy: 0.5792 - val_loss: 1.5622 - val_accuracy: 0.5586\n",
      "Epoch 7/50\n",
      "14/14 - 0s - loss: 1.1744 - accuracy: 0.6086 - val_loss: 1.4248 - val_accuracy: 0.6126\n",
      "Epoch 8/50\n",
      "14/14 - 0s - loss: 1.1039 - accuracy: 0.6267 - val_loss: 1.5189 - val_accuracy: 0.5766\n",
      "Epoch 9/50\n",
      "14/14 - 0s - loss: 1.0365 - accuracy: 0.6380 - val_loss: 1.4239 - val_accuracy: 0.5856\n",
      "Epoch 10/50\n",
      "14/14 - 0s - loss: 0.9435 - accuracy: 0.6900 - val_loss: 1.3711 - val_accuracy: 0.6036\n",
      "Epoch 11/50\n",
      "14/14 - 0s - loss: 0.8414 - accuracy: 0.6991 - val_loss: 1.3141 - val_accuracy: 0.6216\n",
      "Epoch 12/50\n",
      "14/14 - 0s - loss: 0.8342 - accuracy: 0.7217 - val_loss: 1.3224 - val_accuracy: 0.6126\n",
      "Epoch 13/50\n",
      "14/14 - 0s - loss: 0.7739 - accuracy: 0.7353 - val_loss: 1.3131 - val_accuracy: 0.6306\n",
      "Epoch 14/50\n",
      "14/14 - 0s - loss: 0.7508 - accuracy: 0.7466 - val_loss: 1.2333 - val_accuracy: 0.6306\n",
      "Epoch 15/50\n",
      "14/14 - 0s - loss: 0.7249 - accuracy: 0.7376 - val_loss: 1.3544 - val_accuracy: 0.6306\n",
      "Epoch 16/50\n",
      "14/14 - 0s - loss: 0.6546 - accuracy: 0.7715 - val_loss: 1.2874 - val_accuracy: 0.6126\n",
      "Epoch 17/50\n",
      "14/14 - 0s - loss: 0.6654 - accuracy: 0.7579 - val_loss: 1.2973 - val_accuracy: 0.6396\n",
      "Epoch 18/50\n",
      "14/14 - 0s - loss: 0.6558 - accuracy: 0.7624 - val_loss: 1.3361 - val_accuracy: 0.6306\n",
      "Epoch 19/50\n",
      "14/14 - 0s - loss: 0.6530 - accuracy: 0.7919 - val_loss: 1.2059 - val_accuracy: 0.6126\n",
      "Epoch 20/50\n",
      "14/14 - 0s - loss: 0.6054 - accuracy: 0.7692 - val_loss: 1.2780 - val_accuracy: 0.6216\n",
      "Epoch 21/50\n",
      "14/14 - 0s - loss: 0.6041 - accuracy: 0.8032 - val_loss: 1.4309 - val_accuracy: 0.5766\n",
      "Epoch 22/50\n",
      "14/14 - 0s - loss: 0.5827 - accuracy: 0.8100 - val_loss: 1.3158 - val_accuracy: 0.6306\n",
      "Epoch 23/50\n",
      "14/14 - 0s - loss: 0.5685 - accuracy: 0.8100 - val_loss: 1.2901 - val_accuracy: 0.6667\n",
      "Epoch 24/50\n",
      "14/14 - 0s - loss: 0.4865 - accuracy: 0.8258 - val_loss: 1.2617 - val_accuracy: 0.6667\n",
      "Epoch 25/50\n",
      "14/14 - 0s - loss: 0.5184 - accuracy: 0.8394 - val_loss: 1.2847 - val_accuracy: 0.6216\n",
      "Epoch 26/50\n",
      "14/14 - 0s - loss: 0.4977 - accuracy: 0.8077 - val_loss: 1.3082 - val_accuracy: 0.6667\n",
      "Epoch 27/50\n",
      "14/14 - 0s - loss: 0.4834 - accuracy: 0.8326 - val_loss: 1.3233 - val_accuracy: 0.6306\n",
      "Epoch 28/50\n",
      "14/14 - 0s - loss: 0.5048 - accuracy: 0.8235 - val_loss: 1.2992 - val_accuracy: 0.6757\n",
      "Epoch 29/50\n",
      "14/14 - 0s - loss: 0.4438 - accuracy: 0.8575 - val_loss: 1.2372 - val_accuracy: 0.6667\n",
      "Epoch 30/50\n",
      "14/14 - 0s - loss: 0.5020 - accuracy: 0.8054 - val_loss: 1.2025 - val_accuracy: 0.6667\n",
      "Epoch 31/50\n",
      "14/14 - 0s - loss: 0.5170 - accuracy: 0.8009 - val_loss: 1.3174 - val_accuracy: 0.6577\n",
      "Epoch 32/50\n",
      "14/14 - 0s - loss: 0.4373 - accuracy: 0.8416 - val_loss: 1.2814 - val_accuracy: 0.6577\n",
      "Epoch 33/50\n",
      "14/14 - 0s - loss: 0.4039 - accuracy: 0.8665 - val_loss: 1.3435 - val_accuracy: 0.6847\n",
      "Epoch 34/50\n",
      "14/14 - 0s - loss: 0.3908 - accuracy: 0.8710 - val_loss: 1.2727 - val_accuracy: 0.6847\n",
      "Epoch 35/50\n",
      "14/14 - 0s - loss: 0.3587 - accuracy: 0.8778 - val_loss: 1.2631 - val_accuracy: 0.6757\n",
      "Epoch 36/50\n",
      "14/14 - 0s - loss: 0.3984 - accuracy: 0.8620 - val_loss: 1.3316 - val_accuracy: 0.5946\n",
      "Epoch 37/50\n",
      "14/14 - 0s - loss: 0.4451 - accuracy: 0.8394 - val_loss: 1.2607 - val_accuracy: 0.6757\n",
      "Epoch 38/50\n",
      "14/14 - 0s - loss: 0.3965 - accuracy: 0.8710 - val_loss: 1.3591 - val_accuracy: 0.6306\n",
      "Epoch 39/50\n",
      "14/14 - 0s - loss: 0.3924 - accuracy: 0.8507 - val_loss: 1.2275 - val_accuracy: 0.7027\n",
      "Epoch 40/50\n",
      "14/14 - 0s - loss: 0.3950 - accuracy: 0.8507 - val_loss: 1.2558 - val_accuracy: 0.6937\n",
      "Epoch 41/50\n",
      "14/14 - 0s - loss: 0.3806 - accuracy: 0.8597 - val_loss: 1.4466 - val_accuracy: 0.6486\n",
      "Epoch 42/50\n",
      "14/14 - 0s - loss: 0.4606 - accuracy: 0.8258 - val_loss: 1.3363 - val_accuracy: 0.6396\n",
      "Epoch 43/50\n",
      "14/14 - 0s - loss: 0.5377 - accuracy: 0.7896 - val_loss: 1.3335 - val_accuracy: 0.6667\n",
      "Epoch 44/50\n",
      "14/14 - 0s - loss: 0.4126 - accuracy: 0.8462 - val_loss: 1.6509 - val_accuracy: 0.6216\n",
      "Epoch 45/50\n",
      "14/14 - 0s - loss: 0.3538 - accuracy: 0.8733 - val_loss: 1.2745 - val_accuracy: 0.6757\n",
      "Epoch 46/50\n",
      "14/14 - 0s - loss: 0.3075 - accuracy: 0.8914 - val_loss: 1.3958 - val_accuracy: 0.6667\n",
      "Epoch 47/50\n",
      "14/14 - 0s - loss: 0.2845 - accuracy: 0.9140 - val_loss: 1.3400 - val_accuracy: 0.6937\n",
      "Epoch 48/50\n",
      "14/14 - 0s - loss: 0.2750 - accuracy: 0.9005 - val_loss: 1.4086 - val_accuracy: 0.6396\n",
      "Epoch 49/50\n",
      "14/14 - 0s - loss: 0.2510 - accuracy: 0.9344 - val_loss: 1.3242 - val_accuracy: 0.6577\n",
      "Epoch 50/50\n",
      "14/14 - 0s - loss: 0.2434 - accuracy: 0.9367 - val_loss: 1.3989 - val_accuracy: 0.6577\n"
     ]
    }
   ],
   "source": [
    "history = model.fit(X_train_1, y_train, validation_data=(X_test_1, y_test), batch_size=32, epochs = 50, verbose=2)"
   ]
  },
  {
   "cell_type": "code",
   "execution_count": 37,
   "metadata": {
    "scrolled": true
   },
   "outputs": [
    {
     "data": {
      "text/plain": [
       "<matplotlib.legend.Legend at 0x7f64107bfa60>"
      ]
     },
     "execution_count": 37,
     "metadata": {},
     "output_type": "execute_result"
    },
    {
     "data": {
      "image/png": "[encoded data removed]",
      "text/plain": [
       "<Figure size 432x288 with 1 Axes>"
      ]
     },
     "metadata": {
      "needs_background": "light"
     },
     "output_type": "display_data"
    }
   ],
   "source": [
    "plt.plot(history.history['loss'], label = ' Training Loss')\n",
    "plt.plot(history.history['val_loss'], label = ' Test Loss')\n",
    "plt.legend()"
   ]
  },
  {
   "cell_type": "code",
   "execution_count": 38,
   "metadata": {},
   "outputs": [
    {
     "data": {
      "text/plain": [
       "<matplotlib.legend.Legend at 0x7f64107f8700>"
      ]
     },
     "execution_count": 38,
     "metadata": {},
     "output_type": "execute_result"
    },
    {
     "data": {
      "image/png": "[encoded data removed]",
      "text/plain": [
       "<Figure size 432x288 with 1 Axes>"
      ]
     },
     "metadata": {
      "needs_background": "light"
     },
     "output_type": "display_data"
    }
   ],
   "source": [
    "plt.plot(history.history['accuracy'], label = ' Training Accuracy')\n",
    "plt.plot(history.history['val_accuracy'], label = ' Test Accuracy')\n",
    "plt.legend()"
   ]
  },
  {
   "cell_type": "markdown",
   "metadata": {},
   "source": [
    "Model 2\n",
    "\n",
    "Classifier: FNN\n",
    "Features: 40 coef * 4 indicators (mean and std, delta mean delta std)\n",
    "dimension 160\n"
   ]
  },
  {
   "cell_type": "code",
   "execution_count": 39,
   "metadata": {},
   "outputs": [],
   "source": [
    "X = np.array(features_df['combined_mfccs'].tolist())\n",
    "le = LabelEncoder()\n",
    "y = to_categorical(le.fit_transform(features_df['class_label'].tolist()))\n",
    "y = np.array(y)"
   ]
  },
  {
   "cell_type": "code",
   "execution_count": 40,
   "metadata": {},
   "outputs": [],
   "source": [
    "X_train, X_test, y_train, y_test = train_test_split(X, y, test_size = 0.2, random_state = 42, stratify = y)"
   ]
  },
  {
   "cell_type": "code",
   "execution_count": 41,
   "metadata": {},
   "outputs": [],
   "source": [
    "model2 = Sequential()\n",
    "model2.add(Dense(64, activation='relu', input_shape=(160,)))\n",
    "model2.add(Dense(64, activation='relu'))\n",
    "model2.add(Dense(5, activation='softmax'))"
   ]
  },
  {
   "cell_type": "code",
   "execution_count": 42,
   "metadata": {},
   "outputs": [],
   "source": [
    "model2.compile(loss='categorical_crossentropy', optimizer='adam', metrics = ['accuracy'])"
   ]
  },
  {
   "cell_type": "code",
   "execution_count": 43,
   "metadata": {},
   "outputs": [
    {
     "data": {
      "text/plain": [
       "(442, 160)"
      ]
     },
     "execution_count": 43,
     "metadata": {},
     "output_type": "execute_result"
    }
   ],
   "source": [
    "X_train.shape"
   ]
  },
  {
   "cell_type": "code",
   "execution_count": 44,
   "metadata": {},
   "outputs": [
    {
     "name": "stdout",
     "output_type": "stream",
     "text": [
      "Epoch 1/50\n",
      "14/14 - 0s - loss: 9.5720 - accuracy: 0.3484 - val_loss: 2.8896 - val_accuracy: 0.3514\n",
      "Epoch 2/50\n",
      "14/14 - 0s - loss: 2.2043 - accuracy: 0.4593 - val_loss: 1.3846 - val_accuracy: 0.5676\n",
      "Epoch 3/50\n",
      "14/14 - 0s - loss: 1.1435 - accuracy: 0.6629 - val_loss: 0.9538 - val_accuracy: 0.7387\n",
      "Epoch 4/50\n",
      "14/14 - 0s - loss: 0.7781 - accuracy: 0.7376 - val_loss: 0.8298 - val_accuracy: 0.7658\n",
      "Epoch 5/50\n",
      "14/14 - 0s - loss: 0.5910 - accuracy: 0.7851 - val_loss: 0.7422 - val_accuracy: 0.7387\n",
      "Epoch 6/50\n",
      "14/14 - 0s - loss: 0.4846 - accuracy: 0.8167 - val_loss: 0.6939 - val_accuracy: 0.7748\n",
      "Epoch 7/50\n",
      "14/14 - 0s - loss: 0.3961 - accuracy: 0.8462 - val_loss: 0.6637 - val_accuracy: 0.7748\n",
      "Epoch 8/50\n",
      "14/14 - 0s - loss: 0.3523 - accuracy: 0.8756 - val_loss: 0.6004 - val_accuracy: 0.8018\n",
      "Epoch 9/50\n",
      "14/14 - 0s - loss: 0.2892 - accuracy: 0.8891 - val_loss: 0.5923 - val_accuracy: 0.8378\n",
      "Epoch 10/50\n",
      "14/14 - 0s - loss: 0.2411 - accuracy: 0.9276 - val_loss: 0.5440 - val_accuracy: 0.8108\n",
      "Epoch 11/50\n",
      "14/14 - 0s - loss: 0.2036 - accuracy: 0.9457 - val_loss: 0.5417 - val_accuracy: 0.8378\n",
      "Epoch 12/50\n",
      "14/14 - 0s - loss: 0.1821 - accuracy: 0.9344 - val_loss: 0.5541 - val_accuracy: 0.8378\n",
      "Epoch 13/50\n",
      "14/14 - 0s - loss: 0.1765 - accuracy: 0.9389 - val_loss: 0.5754 - val_accuracy: 0.8468\n",
      "Epoch 14/50\n",
      "14/14 - 0s - loss: 0.1487 - accuracy: 0.9548 - val_loss: 0.5058 - val_accuracy: 0.8468\n",
      "Epoch 15/50\n",
      "14/14 - 0s - loss: 0.1321 - accuracy: 0.9615 - val_loss: 0.5110 - val_accuracy: 0.8378\n",
      "Epoch 16/50\n",
      "14/14 - 0s - loss: 0.1126 - accuracy: 0.9706 - val_loss: 0.4995 - val_accuracy: 0.8559\n",
      "Epoch 17/50\n",
      "14/14 - 0s - loss: 0.1002 - accuracy: 0.9751 - val_loss: 0.4654 - val_accuracy: 0.8468\n",
      "Epoch 18/50\n",
      "14/14 - 0s - loss: 0.0908 - accuracy: 0.9774 - val_loss: 0.4596 - val_accuracy: 0.8559\n",
      "Epoch 19/50\n",
      "14/14 - 0s - loss: 0.0682 - accuracy: 0.9887 - val_loss: 0.4536 - val_accuracy: 0.8649\n",
      "Epoch 20/50\n",
      "14/14 - 0s - loss: 0.0624 - accuracy: 0.9910 - val_loss: 0.4317 - val_accuracy: 0.8559\n",
      "Epoch 21/50\n",
      "14/14 - 0s - loss: 0.0543 - accuracy: 0.9977 - val_loss: 0.4449 - val_accuracy: 0.8559\n",
      "Epoch 22/50\n",
      "14/14 - 0s - loss: 0.0545 - accuracy: 0.9910 - val_loss: 0.4233 - val_accuracy: 0.8739\n",
      "Epoch 23/50\n",
      "14/14 - 0s - loss: 0.0461 - accuracy: 1.0000 - val_loss: 0.4272 - val_accuracy: 0.8649\n",
      "Epoch 24/50\n",
      "14/14 - 0s - loss: 0.0402 - accuracy: 1.0000 - val_loss: 0.4119 - val_accuracy: 0.8829\n",
      "Epoch 25/50\n",
      "14/14 - 0s - loss: 0.0377 - accuracy: 1.0000 - val_loss: 0.4131 - val_accuracy: 0.8649\n",
      "Epoch 26/50\n",
      "14/14 - 0s - loss: 0.0354 - accuracy: 0.9977 - val_loss: 0.3984 - val_accuracy: 0.8829\n",
      "Epoch 27/50\n",
      "14/14 - 0s - loss: 0.0389 - accuracy: 0.9932 - val_loss: 0.4126 - val_accuracy: 0.8649\n",
      "Epoch 28/50\n",
      "14/14 - 0s - loss: 0.0290 - accuracy: 1.0000 - val_loss: 0.4027 - val_accuracy: 0.8829\n",
      "Epoch 29/50\n",
      "14/14 - 0s - loss: 0.0272 - accuracy: 1.0000 - val_loss: 0.4136 - val_accuracy: 0.8739\n",
      "Epoch 30/50\n",
      "14/14 - 0s - loss: 0.0260 - accuracy: 1.0000 - val_loss: 0.3940 - val_accuracy: 0.8919\n",
      "Epoch 31/50\n",
      "14/14 - 0s - loss: 0.0235 - accuracy: 1.0000 - val_loss: 0.3910 - val_accuracy: 0.8829\n",
      "Epoch 32/50\n",
      "14/14 - 0s - loss: 0.0229 - accuracy: 1.0000 - val_loss: 0.3762 - val_accuracy: 0.9009\n",
      "Epoch 33/50\n",
      "14/14 - 0s - loss: 0.0228 - accuracy: 1.0000 - val_loss: 0.4022 - val_accuracy: 0.8739\n",
      "Epoch 34/50\n",
      "14/14 - 0s - loss: 0.0203 - accuracy: 1.0000 - val_loss: 0.3964 - val_accuracy: 0.8829\n",
      "Epoch 35/50\n",
      "14/14 - 0s - loss: 0.0196 - accuracy: 1.0000 - val_loss: 0.3832 - val_accuracy: 0.8919\n",
      "Epoch 36/50\n",
      "14/14 - 0s - loss: 0.0175 - accuracy: 1.0000 - val_loss: 0.3738 - val_accuracy: 0.9099\n",
      "Epoch 37/50\n",
      "14/14 - 0s - loss: 0.0157 - accuracy: 1.0000 - val_loss: 0.3797 - val_accuracy: 0.9009\n",
      "Epoch 38/50\n",
      "14/14 - 0s - loss: 0.0149 - accuracy: 1.0000 - val_loss: 0.3801 - val_accuracy: 0.9009\n",
      "Epoch 39/50\n",
      "14/14 - 0s - loss: 0.0145 - accuracy: 1.0000 - val_loss: 0.3597 - val_accuracy: 0.9099\n",
      "Epoch 40/50\n",
      "14/14 - 0s - loss: 0.0139 - accuracy: 1.0000 - val_loss: 0.3843 - val_accuracy: 0.9009\n",
      "Epoch 41/50\n",
      "14/14 - 0s - loss: 0.0131 - accuracy: 1.0000 - val_loss: 0.3682 - val_accuracy: 0.9189\n",
      "Epoch 42/50\n",
      "14/14 - 0s - loss: 0.0121 - accuracy: 1.0000 - val_loss: 0.3641 - val_accuracy: 0.9189\n",
      "Epoch 43/50\n",
      "14/14 - 0s - loss: 0.0119 - accuracy: 1.0000 - val_loss: 0.3704 - val_accuracy: 0.9189\n",
      "Epoch 44/50\n",
      "14/14 - 0s - loss: 0.0112 - accuracy: 1.0000 - val_loss: 0.3751 - val_accuracy: 0.9099\n",
      "Epoch 45/50\n",
      "14/14 - 0s - loss: 0.0107 - accuracy: 1.0000 - val_loss: 0.3641 - val_accuracy: 0.9279\n",
      "Epoch 46/50\n",
      "14/14 - 0s - loss: 0.0099 - accuracy: 1.0000 - val_loss: 0.3618 - val_accuracy: 0.9189\n",
      "Epoch 47/50\n",
      "14/14 - 0s - loss: 0.0094 - accuracy: 1.0000 - val_loss: 0.3623 - val_accuracy: 0.9189\n",
      "Epoch 48/50\n",
      "14/14 - 0s - loss: 0.0094 - accuracy: 1.0000 - val_loss: 0.3606 - val_accuracy: 0.9189\n",
      "Epoch 49/50\n",
      "14/14 - 0s - loss: 0.0085 - accuracy: 1.0000 - val_loss: 0.3588 - val_accuracy: 0.9189\n",
      "Epoch 50/50\n",
      "14/14 - 0s - loss: 0.0081 - accuracy: 1.0000 - val_loss: 0.3657 - val_accuracy: 0.9279\n"
     ]
    }
   ],
   "source": [
    "history = model2.fit(X_train, y_train, validation_data=(X_test, y_test), batch_size=32, epochs = 50, verbose=2)"
   ]
  },
  {
   "cell_type": "code",
   "execution_count": 45,
   "metadata": {
    "scrolled": false
   },
   "outputs": [
    {
     "data": {
      "text/plain": [
       "<matplotlib.legend.Legend at 0x7f64105cd3d0>"
      ]
     },
     "execution_count": 45,
     "metadata": {},
     "output_type": "execute_result"
    },
    {
     "data": {
      "image/png": "[encoded data removed]",
      "text/plain": [
       "<Figure size 432x288 with 1 Axes>"
      ]
     },
     "metadata": {
      "needs_background": "light"
     },
     "output_type": "display_data"
    }
   ],
   "source": [
    "plt.plot(history.history['loss'], label = ' Training Loss')\n",
    "plt.plot(history.history['val_loss'], label = ' Test Loss')\n",
    "plt.legend()"
   ]
  },
  {
   "cell_type": "code",
   "execution_count": 46,
   "metadata": {},
   "outputs": [
    {
     "data": {
      "text/plain": [
       "<matplotlib.legend.Legend at 0x7f6410766c70>"
      ]
     },
     "execution_count": 46,
     "metadata": {},
     "output_type": "execute_result"
    },
    {
     "data": {
      "image/png": "[encoded data removed]",
      "text/plain": [
       "<Figure size 432x288 with 1 Axes>"
      ]
     },
     "metadata": {
      "needs_background": "light"
     },
     "output_type": "display_data"
    }
   ],
   "source": [
    "plt.plot(history.history['accuracy'], label = ' Training Accuracy')\n",
    "plt.plot(history.history['val_accuracy'], label = ' Test Accuracy')\n",
    "plt.legend()"
   ]
  },
  {
   "cell_type": "markdown",
   "metadata": {},
   "source": [
    "**CNN**"
   ]
  },
  {
   "cell_type": "code",
   "execution_count": 47,
   "metadata": {},
   "outputs": [],
   "source": [
    "model3 = Sequential()\n",
    "model3.add(Conv2D(filters = 6, kernel_size=3, activation = 'relu', input_shape = (39,128,1), padding = 'same'))\n",
    "model3.add(MaxPooling2D(pool_size= (2,2), padding='same'))\n",
    "model3.add(Conv2D(32, kernel_size=3, activation='relu'))\n",
    "model3.add(MaxPooling2D(pool_size=(2,2), padding='same'))\n",
    "model3.add(Flatten())\n",
    "model3.add(Dense(64, activation = 'relu'))\n",
    "model3.add(Dense(32, activation = 'relu'))\n",
    "model3.add(Dense(5, activation = 'softmax'))"
   ]
  },
  {
   "cell_type": "code",
   "execution_count": 48,
   "metadata": {},
   "outputs": [],
   "source": [
    "model3.compile(loss='categorical_crossentropy',\n",
    "                  optimizer='adam',\n",
    "                  metrics=['accuracy'])"
   ]
  },
  {
   "cell_type": "code",
   "execution_count": 49,
   "metadata": {
    "scrolled": true
   },
   "outputs": [
    {
     "name": "stdout",
     "output_type": "stream",
     "text": [
      "Model: \"sequential_2\"\n",
      "_________________________________________________________________\n",
      "Layer (type)                 Output Shape              Param #   \n",
      "=================================================================\n",
      "conv2d (Conv2D)              (None, 39, 128, 6)        60        \n",
      "_________________________________________________________________\n",
      "max_pooling2d (MaxPooling2D) (None, 20, 64, 6)         0         \n",
      "_________________________________________________________________\n",
      "conv2d_1 (Conv2D)            (None, 18, 62, 32)        1760      \n",
      "_________________________________________________________________\n",
      "max_pooling2d_1 (MaxPooling2 (None, 9, 31, 32)         0         \n",
      "_________________________________________________________________\n",
      "flatten (Flatten)            (None, 8928)              0         \n",
      "_________________________________________________________________\n",
      "dense_6 (Dense)              (None, 64)                571456    \n",
      "_________________________________________________________________\n",
      "dense_7 (Dense)              (None, 32)                2080      \n",
      "_________________________________________________________________\n",
      "dense_8 (Dense)              (None, 5)                 165       \n",
      "=================================================================\n",
      "Total params: 575,521\n",
      "Trainable params: 575,521\n",
      "Non-trainable params: 0\n",
      "_________________________________________________________________\n"
     ]
    }
   ],
   "source": [
    "model3.summary()"
   ]
  },
  {
   "cell_type": "code",
   "execution_count": 50,
   "metadata": {},
   "outputs": [
    {
     "name": "stdout",
     "output_type": "stream",
     "text": [
      "Epoch 1/100\n",
      "14/14 - 1s - loss: 8.4346 - accuracy: 0.3348 - val_loss: 1.8179 - val_accuracy: 0.5405\n",
      "Epoch 2/100\n",
      "14/14 - 1s - loss: 1.1835 - accuracy: 0.6787 - val_loss: 1.5925 - val_accuracy: 0.5946\n",
      "Epoch 3/100\n",
      "14/14 - 1s - loss: 0.6146 - accuracy: 0.7896 - val_loss: 0.8719 - val_accuracy: 0.7117\n",
      "Epoch 4/100\n",
      "14/14 - 1s - loss: 0.3554 - accuracy: 0.8869 - val_loss: 0.8729 - val_accuracy: 0.7027\n",
      "Epoch 5/100\n",
      "14/14 - 1s - loss: 0.2259 - accuracy: 0.9208 - val_loss: 0.7629 - val_accuracy: 0.7117\n",
      "Epoch 6/100\n",
      "14/14 - 1s - loss: 0.1760 - accuracy: 0.9434 - val_loss: 0.7228 - val_accuracy: 0.7658\n",
      "Epoch 7/100\n",
      "14/14 - 1s - loss: 0.1141 - accuracy: 0.9796 - val_loss: 0.7949 - val_accuracy: 0.7928\n",
      "Epoch 8/100\n",
      "14/14 - 1s - loss: 0.0822 - accuracy: 0.9864 - val_loss: 0.6874 - val_accuracy: 0.7838\n",
      "Epoch 9/100\n",
      "14/14 - 1s - loss: 0.0552 - accuracy: 0.9955 - val_loss: 0.6855 - val_accuracy: 0.7748\n",
      "Epoch 10/100\n",
      "14/14 - 1s - loss: 0.0416 - accuracy: 1.0000 - val_loss: 0.7303 - val_accuracy: 0.7658\n",
      "Epoch 11/100\n",
      "14/14 - 1s - loss: 0.0338 - accuracy: 1.0000 - val_loss: 0.7250 - val_accuracy: 0.8018\n",
      "Epoch 12/100\n",
      "14/14 - 1s - loss: 0.0273 - accuracy: 1.0000 - val_loss: 0.7441 - val_accuracy: 0.8018\n",
      "Epoch 13/100\n",
      "14/14 - 1s - loss: 0.0232 - accuracy: 1.0000 - val_loss: 0.7509 - val_accuracy: 0.8108\n",
      "Epoch 14/100\n",
      "14/14 - 1s - loss: 0.0195 - accuracy: 1.0000 - val_loss: 0.7477 - val_accuracy: 0.8198\n",
      "Epoch 15/100\n",
      "14/14 - 1s - loss: 0.0161 - accuracy: 1.0000 - val_loss: 0.7719 - val_accuracy: 0.8288\n",
      "Epoch 16/100\n",
      "14/14 - 1s - loss: 0.0137 - accuracy: 1.0000 - val_loss: 0.7919 - val_accuracy: 0.8378\n",
      "Epoch 17/100\n",
      "14/14 - 1s - loss: 0.0121 - accuracy: 1.0000 - val_loss: 0.8105 - val_accuracy: 0.8288\n",
      "Epoch 18/100\n",
      "14/14 - 1s - loss: 0.0104 - accuracy: 1.0000 - val_loss: 0.8111 - val_accuracy: 0.8288\n",
      "Epoch 19/100\n",
      "14/14 - 1s - loss: 0.0092 - accuracy: 1.0000 - val_loss: 0.8283 - val_accuracy: 0.8288\n",
      "Epoch 20/100\n",
      "14/14 - 1s - loss: 0.0083 - accuracy: 1.0000 - val_loss: 0.8270 - val_accuracy: 0.8288\n",
      "Epoch 21/100\n",
      "14/14 - 1s - loss: 0.0072 - accuracy: 1.0000 - val_loss: 0.8231 - val_accuracy: 0.8468\n",
      "Epoch 22/100\n",
      "14/14 - 1s - loss: 0.0066 - accuracy: 1.0000 - val_loss: 0.8351 - val_accuracy: 0.8378\n",
      "Epoch 23/100\n",
      "14/14 - 1s - loss: 0.0059 - accuracy: 1.0000 - val_loss: 0.8458 - val_accuracy: 0.8378\n",
      "Epoch 24/100\n",
      "14/14 - 1s - loss: 0.0054 - accuracy: 1.0000 - val_loss: 0.8424 - val_accuracy: 0.8378\n",
      "Epoch 25/100\n",
      "14/14 - 1s - loss: 0.0049 - accuracy: 1.0000 - val_loss: 0.8529 - val_accuracy: 0.8378\n",
      "Epoch 26/100\n",
      "14/14 - 1s - loss: 0.0046 - accuracy: 1.0000 - val_loss: 0.8584 - val_accuracy: 0.8288\n",
      "Epoch 27/100\n",
      "14/14 - 1s - loss: 0.0042 - accuracy: 1.0000 - val_loss: 0.8579 - val_accuracy: 0.8378\n",
      "Epoch 28/100\n",
      "14/14 - 1s - loss: 0.0038 - accuracy: 1.0000 - val_loss: 0.8620 - val_accuracy: 0.8378\n",
      "Epoch 29/100\n",
      "14/14 - 1s - loss: 0.0035 - accuracy: 1.0000 - val_loss: 0.8655 - val_accuracy: 0.8468\n",
      "Epoch 30/100\n",
      "14/14 - 1s - loss: 0.0033 - accuracy: 1.0000 - val_loss: 0.8696 - val_accuracy: 0.8378\n",
      "Epoch 31/100\n",
      "14/14 - 1s - loss: 0.0031 - accuracy: 1.0000 - val_loss: 0.8677 - val_accuracy: 0.8468\n",
      "Epoch 32/100\n",
      "14/14 - 1s - loss: 0.0029 - accuracy: 1.0000 - val_loss: 0.8654 - val_accuracy: 0.8378\n",
      "Epoch 33/100\n",
      "14/14 - 1s - loss: 0.0027 - accuracy: 1.0000 - val_loss: 0.8832 - val_accuracy: 0.8468\n",
      "Epoch 34/100\n",
      "14/14 - 1s - loss: 0.0026 - accuracy: 1.0000 - val_loss: 0.8832 - val_accuracy: 0.8468\n",
      "Epoch 35/100\n",
      "14/14 - 1s - loss: 0.0023 - accuracy: 1.0000 - val_loss: 0.8983 - val_accuracy: 0.8468\n",
      "Epoch 36/100\n",
      "14/14 - 1s - loss: 0.0022 - accuracy: 1.0000 - val_loss: 0.8935 - val_accuracy: 0.8468\n",
      "Epoch 37/100\n",
      "14/14 - 1s - loss: 0.0021 - accuracy: 1.0000 - val_loss: 0.8967 - val_accuracy: 0.8378\n",
      "Epoch 38/100\n",
      "14/14 - 1s - loss: 0.0020 - accuracy: 1.0000 - val_loss: 0.9023 - val_accuracy: 0.8559\n",
      "Epoch 39/100\n",
      "14/14 - 1s - loss: 0.0018 - accuracy: 1.0000 - val_loss: 0.8983 - val_accuracy: 0.8468\n",
      "Epoch 40/100\n",
      "14/14 - 1s - loss: 0.0017 - accuracy: 1.0000 - val_loss: 0.9078 - val_accuracy: 0.8468\n",
      "Epoch 41/100\n",
      "14/14 - 1s - loss: 0.0016 - accuracy: 1.0000 - val_loss: 0.9174 - val_accuracy: 0.8468\n",
      "Epoch 42/100\n",
      "14/14 - 1s - loss: 0.0016 - accuracy: 1.0000 - val_loss: 0.9170 - val_accuracy: 0.8468\n",
      "Epoch 43/100\n",
      "14/14 - 1s - loss: 0.0015 - accuracy: 1.0000 - val_loss: 0.9184 - val_accuracy: 0.8468\n",
      "Epoch 44/100\n",
      "14/14 - 1s - loss: 0.0014 - accuracy: 1.0000 - val_loss: 0.9241 - val_accuracy: 0.8468\n",
      "Epoch 45/100\n",
      "14/14 - 1s - loss: 0.0013 - accuracy: 1.0000 - val_loss: 0.9257 - val_accuracy: 0.8468\n",
      "Epoch 46/100\n",
      "14/14 - 1s - loss: 0.0013 - accuracy: 1.0000 - val_loss: 0.9316 - val_accuracy: 0.8468\n",
      "Epoch 47/100\n",
      "14/14 - 1s - loss: 0.0012 - accuracy: 1.0000 - val_loss: 0.9322 - val_accuracy: 0.8468\n",
      "Epoch 48/100\n",
      "14/14 - 1s - loss: 0.0012 - accuracy: 1.0000 - val_loss: 0.9304 - val_accuracy: 0.8468\n",
      "Epoch 49/100\n",
      "14/14 - 1s - loss: 0.0011 - accuracy: 1.0000 - val_loss: 0.9275 - val_accuracy: 0.8468\n",
      "Epoch 50/100\n",
      "14/14 - 1s - loss: 0.0011 - accuracy: 1.0000 - val_loss: 0.9341 - val_accuracy: 0.8468\n",
      "Epoch 51/100\n",
      "14/14 - 1s - loss: 0.0010 - accuracy: 1.0000 - val_loss: 0.9319 - val_accuracy: 0.8468\n",
      "Epoch 52/100\n",
      "14/14 - 1s - loss: 9.7475e-04 - accuracy: 1.0000 - val_loss: 0.9352 - val_accuracy: 0.8468\n",
      "Epoch 53/100\n",
      "14/14 - 1s - loss: 9.3274e-04 - accuracy: 1.0000 - val_loss: 0.9350 - val_accuracy: 0.8468\n",
      "Epoch 54/100\n",
      "14/14 - 1s - loss: 8.8773e-04 - accuracy: 1.0000 - val_loss: 0.9306 - val_accuracy: 0.8468\n",
      "Epoch 55/100\n",
      "14/14 - 1s - loss: 8.6758e-04 - accuracy: 1.0000 - val_loss: 0.9382 - val_accuracy: 0.8468\n",
      "Epoch 56/100\n",
      "14/14 - 1s - loss: 8.2286e-04 - accuracy: 1.0000 - val_loss: 0.9434 - val_accuracy: 0.8468\n",
      "Epoch 57/100\n",
      "14/14 - 1s - loss: 8.0385e-04 - accuracy: 1.0000 - val_loss: 0.9412 - val_accuracy: 0.8468\n",
      "Epoch 58/100\n",
      "14/14 - 1s - loss: 7.6359e-04 - accuracy: 1.0000 - val_loss: 0.9438 - val_accuracy: 0.8559\n",
      "Epoch 59/100\n",
      "14/14 - 1s - loss: 7.3680e-04 - accuracy: 1.0000 - val_loss: 0.9421 - val_accuracy: 0.8468\n",
      "Epoch 60/100\n",
      "14/14 - 1s - loss: 7.1286e-04 - accuracy: 1.0000 - val_loss: 0.9455 - val_accuracy: 0.8468\n",
      "Epoch 61/100\n",
      "14/14 - 1s - loss: 6.8791e-04 - accuracy: 1.0000 - val_loss: 0.9469 - val_accuracy: 0.8559\n",
      "Epoch 62/100\n",
      "14/14 - 1s - loss: 6.7183e-04 - accuracy: 1.0000 - val_loss: 0.9490 - val_accuracy: 0.8559\n",
      "Epoch 63/100\n",
      "14/14 - 1s - loss: 6.4928e-04 - accuracy: 1.0000 - val_loss: 0.9452 - val_accuracy: 0.8739\n",
      "Epoch 64/100\n",
      "14/14 - 1s - loss: 6.1884e-04 - accuracy: 1.0000 - val_loss: 0.9520 - val_accuracy: 0.8559\n",
      "Epoch 65/100\n",
      "14/14 - 1s - loss: 6.0170e-04 - accuracy: 1.0000 - val_loss: 0.9516 - val_accuracy: 0.8559\n",
      "Epoch 66/100\n",
      "14/14 - 1s - loss: 5.8095e-04 - accuracy: 1.0000 - val_loss: 0.9499 - val_accuracy: 0.8559\n",
      "Epoch 67/100\n",
      "14/14 - 1s - loss: 5.6207e-04 - accuracy: 1.0000 - val_loss: 0.9540 - val_accuracy: 0.8739\n",
      "Epoch 68/100\n",
      "14/14 - 1s - loss: 5.4686e-04 - accuracy: 1.0000 - val_loss: 0.9543 - val_accuracy: 0.8649\n",
      "Epoch 69/100\n",
      "14/14 - 1s - loss: 5.2870e-04 - accuracy: 1.0000 - val_loss: 0.9547 - val_accuracy: 0.8739\n",
      "Epoch 70/100\n",
      "14/14 - 1s - loss: 5.0941e-04 - accuracy: 1.0000 - val_loss: 0.9580 - val_accuracy: 0.8739\n",
      "Epoch 71/100\n",
      "14/14 - 1s - loss: 4.9549e-04 - accuracy: 1.0000 - val_loss: 0.9607 - val_accuracy: 0.8739\n",
      "Epoch 72/100\n",
      "14/14 - 1s - loss: 4.7626e-04 - accuracy: 1.0000 - val_loss: 0.9633 - val_accuracy: 0.8739\n",
      "Epoch 73/100\n",
      "14/14 - 1s - loss: 4.6374e-04 - accuracy: 1.0000 - val_loss: 0.9679 - val_accuracy: 0.8739\n",
      "Epoch 74/100\n",
      "14/14 - 1s - loss: 4.4982e-04 - accuracy: 1.0000 - val_loss: 0.9707 - val_accuracy: 0.8739\n",
      "Epoch 75/100\n",
      "14/14 - 1s - loss: 4.3426e-04 - accuracy: 1.0000 - val_loss: 0.9731 - val_accuracy: 0.8559\n",
      "Epoch 76/100\n",
      "14/14 - 1s - loss: 4.2279e-04 - accuracy: 1.0000 - val_loss: 0.9761 - val_accuracy: 0.8559\n",
      "Epoch 77/100\n",
      "14/14 - 1s - loss: 4.1128e-04 - accuracy: 1.0000 - val_loss: 0.9792 - val_accuracy: 0.8649\n",
      "Epoch 78/100\n",
      "14/14 - 1s - loss: 3.9818e-04 - accuracy: 1.0000 - val_loss: 0.9802 - val_accuracy: 0.8649\n",
      "Epoch 79/100\n",
      "14/14 - 1s - loss: 3.8833e-04 - accuracy: 1.0000 - val_loss: 0.9875 - val_accuracy: 0.8559\n",
      "Epoch 80/100\n",
      "14/14 - 1s - loss: 3.7570e-04 - accuracy: 1.0000 - val_loss: 0.9922 - val_accuracy: 0.8559\n",
      "Epoch 81/100\n",
      "14/14 - 1s - loss: 3.6619e-04 - accuracy: 1.0000 - val_loss: 0.9897 - val_accuracy: 0.8649\n"
     ]
    },
    {
     "name": "stdout",
     "output_type": "stream",
     "text": [
      "Epoch 82/100\n",
      "14/14 - 1s - loss: 3.5663e-04 - accuracy: 1.0000 - val_loss: 0.9952 - val_accuracy: 0.8559\n",
      "Epoch 83/100\n",
      "14/14 - 1s - loss: 3.4634e-04 - accuracy: 1.0000 - val_loss: 0.9987 - val_accuracy: 0.8559\n",
      "Epoch 84/100\n",
      "14/14 - 1s - loss: 3.3524e-04 - accuracy: 1.0000 - val_loss: 1.0061 - val_accuracy: 0.8559\n",
      "Epoch 85/100\n",
      "14/14 - 1s - loss: 3.2613e-04 - accuracy: 1.0000 - val_loss: 1.0107 - val_accuracy: 0.8559\n",
      "Epoch 86/100\n",
      "14/14 - 1s - loss: 3.1851e-04 - accuracy: 1.0000 - val_loss: 1.0115 - val_accuracy: 0.8649\n",
      "Epoch 87/100\n",
      "14/14 - 1s - loss: 3.0785e-04 - accuracy: 1.0000 - val_loss: 1.0163 - val_accuracy: 0.8559\n",
      "Epoch 88/100\n",
      "14/14 - 1s - loss: 2.9924e-04 - accuracy: 1.0000 - val_loss: 1.0186 - val_accuracy: 0.8559\n",
      "Epoch 89/100\n",
      "14/14 - 1s - loss: 2.9298e-04 - accuracy: 1.0000 - val_loss: 1.0226 - val_accuracy: 0.8649\n",
      "Epoch 90/100\n",
      "14/14 - 1s - loss: 2.8460e-04 - accuracy: 1.0000 - val_loss: 1.0238 - val_accuracy: 0.8559\n",
      "Epoch 91/100\n",
      "14/14 - 1s - loss: 2.7639e-04 - accuracy: 1.0000 - val_loss: 1.0281 - val_accuracy: 0.8559\n",
      "Epoch 92/100\n",
      "14/14 - 1s - loss: 2.6906e-04 - accuracy: 1.0000 - val_loss: 1.0324 - val_accuracy: 0.8559\n",
      "Epoch 93/100\n",
      "14/14 - 1s - loss: 2.6228e-04 - accuracy: 1.0000 - val_loss: 1.0317 - val_accuracy: 0.8649\n",
      "Epoch 94/100\n",
      "14/14 - 1s - loss: 2.5636e-04 - accuracy: 1.0000 - val_loss: 1.0331 - val_accuracy: 0.8649\n",
      "Epoch 95/100\n",
      "14/14 - 1s - loss: 2.5025e-04 - accuracy: 1.0000 - val_loss: 1.0413 - val_accuracy: 0.8649\n",
      "Epoch 96/100\n",
      "14/14 - 1s - loss: 2.4410e-04 - accuracy: 1.0000 - val_loss: 1.0409 - val_accuracy: 0.8559\n",
      "Epoch 97/100\n",
      "14/14 - 1s - loss: 2.3739e-04 - accuracy: 1.0000 - val_loss: 1.0430 - val_accuracy: 0.8559\n",
      "Epoch 98/100\n",
      "14/14 - 1s - loss: 2.3207e-04 - accuracy: 1.0000 - val_loss: 1.0494 - val_accuracy: 0.8649\n",
      "Epoch 99/100\n",
      "14/14 - 1s - loss: 2.2623e-04 - accuracy: 1.0000 - val_loss: 1.0507 - val_accuracy: 0.8649\n",
      "Epoch 100/100\n",
      "14/14 - 1s - loss: 2.2138e-04 - accuracy: 1.0000 - val_loss: 1.0551 - val_accuracy: 0.8739\n"
     ]
    }
   ],
   "source": [
    "history = model3.fit(X_train_cnn,\n",
    "                        y_train_cnn,\n",
    "                        batch_size=32,\n",
    "                        validation_data=(X_test_cnn, y_test_cnn),\n",
    "                        epochs=100,\n",
    "                        verbose=2)"
   ]
  },
  {
   "cell_type": "code",
   "execution_count": 51,
   "metadata": {
    "scrolled": true
   },
   "outputs": [
    {
     "data": {
      "text/plain": [
       "<matplotlib.legend.Legend at 0x7f64103989a0>"
      ]
     },
     "execution_count": 51,
     "metadata": {},
     "output_type": "execute_result"
    },
    {
     "data": {
      "image/png": "[encoded data removed]",
      "text/plain": [
       "<Figure size 432x288 with 1 Axes>"
      ]
     },
     "metadata": {
      "needs_background": "light"
     },
     "output_type": "display_data"
    }
   ],
   "source": [
    "plt.plot(history.history['loss'], label = ' Training Loss')\n",
    "plt.plot(history.history['val_loss'], label = ' Test Loss')\n",
    "plt.legend()"
   ]
  },
  {
   "cell_type": "code",
   "execution_count": 52,
   "metadata": {},
   "outputs": [
    {
     "data": {
      "text/plain": [
       "<matplotlib.legend.Legend at 0x7f641034efa0>"
      ]
     },
     "execution_count": 52,
     "metadata": {},
     "output_type": "execute_result"
    },
    {
     "data": {
      "image/png": "[encoded data removed]",
      "text/plain": [
       "<Figure size 432x288 with 1 Axes>"
      ]
     },
     "metadata": {
      "needs_background": "light"
     },
     "output_type": "display_data"
    }
   ],
   "source": [
    "plt.plot(history.history['accuracy'], label = ' Training Accuracy')\n",
    "plt.plot(history.history['val_accuracy'], label = ' Test Accuracy')\n",
    "plt.legend()"
   ]
  },
  {
   "cell_type": "code",
   "execution_count": null,
   "metadata": {},
   "outputs": [],
   "source": []
  }
 ],
 "metadata": {
  "kernelspec": {
   "display_name": "Python 3",
   "language": "python",
   "name": "python3"
  },
  "language_info": {
   "codemirror_mode": {
    "name": "ipython",
    "version": 3
   },
   "file_extension": ".py",
   "mimetype": "text/x-python",
   "name": "python",
   "nbconvert_exporter": "python",
   "pygments_lexer": "ipython3",
   "version": "3.8.3"
  }
 },
 "nbformat": 4,
 "nbformat_minor": 4
}
