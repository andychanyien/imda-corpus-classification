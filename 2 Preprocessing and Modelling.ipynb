{
 "cells": [
  {
   "cell_type": "code",
   "execution_count": 1,
   "metadata": {
    "scrolled": true
   },
   "outputs": [
    {
     "name": "stderr",
     "output_type": "stream",
     "text": [
      "Using TensorFlow backend.\n"
     ]
    }
   ],
   "source": [
    "import IPython.display as ipd\n",
    "import pandas as pd\n",
    "import numpy as np\n",
    "import librosa\n",
    "import librosa.display\n",
    "import matplotlib.pyplot as plt\n",
    "from scipy.io import wavfile as wav\n",
    "\n",
    "from sklearn import metrics\n",
    "from sklearn.preprocessing import LabelEncoder, StandardScaler\n",
    "from sklearn.model_selection import train_test_split\n",
    "\n",
    "from keras.models import Sequential\n",
    "from keras.layers import Dense, Dropout, Activation, Conv2D, MaxPooling2D, Flatten, Masking, GRU, LSTM\n",
    "from keras.preprocessing.sequence import pad_sequences\n",
    "from keras.optimizers import Adam\n",
    "from keras.utils import to_categorical\n",
    "from keras.callbacks import ModelCheckpoint \n",
    "from datetime import datetime \n"
   ]
  },
  {
   "cell_type": "code",
   "execution_count": 2,
   "metadata": {},
   "outputs": [],
   "source": [
    "features_df = pd.read_csv(\"datasets/featuresdf.csv\")"
   ]
  },
  {
   "cell_type": "code",
   "execution_count": 3,
   "metadata": {},
   "outputs": [
    {
     "data": {
      "text/html": [
       "<div>\n",
       "<style scoped>\n",
       "    .dataframe tbody tr th:only-of-type {\n",
       "        vertical-align: middle;\n",
       "    }\n",
       "\n",
       "    .dataframe tbody tr th {\n",
       "        vertical-align: top;\n",
       "    }\n",
       "\n",
       "    .dataframe thead th {\n",
       "        text-align: right;\n",
       "    }\n",
       "</style>\n",
       "<table border=\"1\" class=\"dataframe\">\n",
       "  <thead>\n",
       "    <tr style=\"text-align: right;\">\n",
       "      <th></th>\n",
       "      <th>id</th>\n",
       "      <th>filepath</th>\n",
       "      <th>duration</th>\n",
       "      <th>class_label</th>\n",
       "    </tr>\n",
       "  </thead>\n",
       "  <tbody>\n",
       "    <tr>\n",
       "      <th>0</th>\n",
       "      <td>1400066</td>\n",
       "      <td>./assets/audio_train/1400066_apples.wav</td>\n",
       "      <td>0.759320</td>\n",
       "      <td>apples</td>\n",
       "    </tr>\n",
       "    <tr>\n",
       "      <th>1</th>\n",
       "      <td>1400062</td>\n",
       "      <td>./assets/audio_train/1400062_flowers.wav</td>\n",
       "      <td>0.777324</td>\n",
       "      <td>flowers</td>\n",
       "    </tr>\n",
       "    <tr>\n",
       "      <th>2</th>\n",
       "      <td>1400049</td>\n",
       "      <td>./assets/audio_train/1400049_worker.wav</td>\n",
       "      <td>0.571156</td>\n",
       "      <td>worker</td>\n",
       "    </tr>\n",
       "    <tr>\n",
       "      <th>3</th>\n",
       "      <td>1400051</td>\n",
       "      <td>./assets/audio_train/1400051_water.wav</td>\n",
       "      <td>0.480091</td>\n",
       "      <td>water</td>\n",
       "    </tr>\n",
       "    <tr>\n",
       "      <th>4</th>\n",
       "      <td>1400049</td>\n",
       "      <td>./assets/audio_train/1400049_father.wav</td>\n",
       "      <td>0.448073</td>\n",
       "      <td>father</td>\n",
       "    </tr>\n",
       "  </tbody>\n",
       "</table>\n",
       "</div>"
      ],
      "text/plain": [
       "        id                                  filepath  duration class_label\n",
       "0  1400066   ./assets/audio_train/1400066_apples.wav  0.759320      apples\n",
       "1  1400062  ./assets/audio_train/1400062_flowers.wav  0.777324     flowers\n",
       "2  1400049   ./assets/audio_train/1400049_worker.wav  0.571156      worker\n",
       "3  1400051    ./assets/audio_train/1400051_water.wav  0.480091       water\n",
       "4  1400049   ./assets/audio_train/1400049_father.wav  0.448073      father"
      ]
     },
     "execution_count": 3,
     "metadata": {},
     "output_type": "execute_result"
    }
   ],
   "source": [
    "features_df.head()"
   ]
  },
  {
   "cell_type": "markdown",
   "metadata": {},
   "source": [
    "## 3. Preprocessing"
   ]
  },
  {
   "cell_type": "markdown",
   "metadata": {},
   "source": [
    "There are many ways of preprocessing audio files and the methods of preprocessing is heavily dependent on the type of classification model which will be used.\n",
    "\n",
    "The model I will be building is:\n",
    "\n",
    "1. Feedforward Neural Network ( 2 kind of preprocessing )\n",
    "2. Convolutional Neural Network\n",
    "3. Recurrent Neural Network with LSTM\n",
    "4. Ensemble Method"
   ]
  },
  {
   "cell_type": "markdown",
   "metadata": {},
   "source": [
    "#### Preproccessing for FNN\n",
    "\n",
    "There are a few ways to process the audio for a simple feedforward neural network. The first and most common way is to find the average of each coefficient of the MFCC across time, which will give us a shape of (40,1) dimensions. \n"
   ]
  },
  {
   "cell_type": "code",
   "execution_count": 4,
   "metadata": {},
   "outputs": [],
   "source": [
    "def get_mfccs_features(file_list, n_mfcc=40):\n",
    "    \"\"\"\n",
    "    This function will take in a list of audio file path and produce 4 times 40 dimensions numpy array (40, 1) which\n",
    "    will be ready to put into the neural network.\n",
    "    \n",
    "    How it works?\n",
    "    \n",
    "    For each audio file, it will calculate the Mel-Frequency Cestral Coefficients (MFCCs) over a set\n",
    "    number of time frames, determined by the sampling rate. The default number of coefficient is set at 40,\n",
    "    giving us a numpy array of 40 (coefs) by number of timeframes.\n",
    "    \n",
    "    In order for it to be have a shape of (, 1), the mean and standard deviation will be calculated, across \n",
    "    the entire time frame. As time is also important information which we would not want to lose, the \n",
    "    delta of the mfcc will also be calculated, and likewise, the average and the standard deviation will be\n",
    "    calculated.\n",
    "    \n",
    "    mfccs_mean = mean of (40 mfcc x time) - shape = (40,1)\n",
    "    mfccs_std = standard dev of (40 mfcc x time) - shape = (40,1)\n",
    "    delta_mean = mean of delta of 40 mfcc across time - shape = (40,1)\n",
    "    delta_std = standard dev of delta of 40 mfcc across time - shape = (40,1)\n",
    "    \n",
    "    \n",
    "    \"\"\"\n",
    "    \n",
    "    \n",
    "    features = {}\n",
    "    mean = []\n",
    "    std = []\n",
    "    delta_mean = []\n",
    "    delta_std = []\n",
    "    for f in file_list:\n",
    "        audio, sr = librosa.load(f) \n",
    "        mfccs = librosa.feature.mfcc(y=audio, sr=sr, n_mfcc=n_mfcc)\n",
    "        mfccs_delta = librosa.feature.delta(mfccs)\n",
    "        \n",
    "        mfccs_mean = np.mean(mfccs.T,axis=0)\n",
    "        mean.append(mfccs_mean)\n",
    "        \n",
    "        mfccs_std = np.std(mfccs.T,axis=0)\n",
    "        std.append(mfccs_std)\n",
    "        \n",
    "        mfccs_delta_mean = np.mean(mfccs_delta.T,axis=0)\n",
    "        delta_mean.append(mfccs_delta_mean)\n",
    "        \n",
    "        mfccs_delta_std = np.std(mfccs_delta.T,axis=0)\n",
    "        delta_std.append(mfccs_delta_std)\n",
    "    \n",
    "    features['mfccs_mean'] = mean\n",
    "    features['mfccs_std'] = std\n",
    "    features['mfccs_delta_mean'] = delta_mean\n",
    "    features['mfccs_delta_std'] = delta_std\n",
    "    \n",
    "    return features"
   ]
  },
  {
   "cell_type": "code",
   "execution_count": 5,
   "metadata": {},
   "outputs": [],
   "source": [
    "# get all the features\n",
    "\n",
    "mfccs_features = get_mfccs_features(features_df['filepath'])"
   ]
  },
  {
   "cell_type": "code",
   "execution_count": 6,
   "metadata": {},
   "outputs": [],
   "source": [
    "# add them into the dataframe\n",
    "\n",
    "for k, v in mfccs_features.items():\n",
    "    features_df[k] = v"
   ]
  },
  {
   "cell_type": "code",
   "execution_count": 7,
   "metadata": {},
   "outputs": [],
   "source": [
    "# create a new feature with a dimension of 160, stacking the mean and standard deviation of \n",
    "# the mfcc and its delta.\n",
    "\n",
    "combined_features = []\n",
    "for n in range(0,len(features_df)):\n",
    "    combined_features.append(np.concatenate((features_df['mfccs_mean'][n],\n",
    "                                             features_df['mfccs_std'][n], \n",
    "                                             features_df['mfccs_delta_mean'][n],\n",
    "                                             features_df['mfccs_delta_std'][n])))\n",
    "    \n",
    "features_df['combined_mfccs'] = combined_features\n",
    "# this will give us an array of (160, 1)"
   ]
  },
  {
   "cell_type": "code",
   "execution_count": 8,
   "metadata": {},
   "outputs": [
    {
     "data": {
      "text/html": [
       "<div>\n",
       "<style scoped>\n",
       "    .dataframe tbody tr th:only-of-type {\n",
       "        vertical-align: middle;\n",
       "    }\n",
       "\n",
       "    .dataframe tbody tr th {\n",
       "        vertical-align: top;\n",
       "    }\n",
       "\n",
       "    .dataframe thead th {\n",
       "        text-align: right;\n",
       "    }\n",
       "</style>\n",
       "<table border=\"1\" class=\"dataframe\">\n",
       "  <thead>\n",
       "    <tr style=\"text-align: right;\">\n",
       "      <th></th>\n",
       "      <th>id</th>\n",
       "      <th>filepath</th>\n",
       "      <th>duration</th>\n",
       "      <th>class_label</th>\n",
       "      <th>mfccs_mean</th>\n",
       "      <th>mfccs_std</th>\n",
       "      <th>mfccs_delta_mean</th>\n",
       "      <th>mfccs_delta_std</th>\n",
       "      <th>combined_mfccs</th>\n",
       "    </tr>\n",
       "  </thead>\n",
       "  <tbody>\n",
       "    <tr>\n",
       "      <th>0</th>\n",
       "      <td>1400066</td>\n",
       "      <td>./assets/audio_train/1400066_apples.wav</td>\n",
       "      <td>0.759320</td>\n",
       "      <td>apples</td>\n",
       "      <td>[-247.32631, 102.92839, -35.27226, 36.415066, ...</td>\n",
       "      <td>[117.973976, 74.807144, 34.97408, 15.038574, 2...</td>\n",
       "      <td>[-9.579418, -4.0737424, 3.8435361, -0.17087425...</td>\n",
       "      <td>[22.375574, 12.759423, 6.3385267, 2.4689703, 5...</td>\n",
       "      <td>[-247.32631, 102.92839, -35.27226, 36.415066, ...</td>\n",
       "    </tr>\n",
       "    <tr>\n",
       "      <th>1</th>\n",
       "      <td>1400062</td>\n",
       "      <td>./assets/audio_train/1400062_flowers.wav</td>\n",
       "      <td>0.777324</td>\n",
       "      <td>flowers</td>\n",
       "      <td>[-235.68883, 101.68603, -35.80166, 34.12707, -...</td>\n",
       "      <td>[51.111267, 67.96506, 23.283352, 15.933792, 17...</td>\n",
       "      <td>[-2.7131724, 0.058154836, 1.0358769, -0.090087...</td>\n",
       "      <td>[10.057443, 12.488094, 5.149937, 3.5408852, 3....</td>\n",
       "      <td>[-235.68883, 101.68603, -35.80166, 34.12707, -...</td>\n",
       "    </tr>\n",
       "    <tr>\n",
       "      <th>2</th>\n",
       "      <td>1400049</td>\n",
       "      <td>./assets/audio_train/1400049_worker.wav</td>\n",
       "      <td>0.571156</td>\n",
       "      <td>worker</td>\n",
       "      <td>[-235.04802, 160.1276, -10.184575, 26.674046, ...</td>\n",
       "      <td>[80.10156, 36.065247, 28.05036, 18.525972, 23....</td>\n",
       "      <td>[-12.911271, -5.808687, -1.0771756, -2.730666,...</td>\n",
       "      <td>[20.398891, 8.515546, 4.8766484, 4.520022, 1.4...</td>\n",
       "      <td>[-235.04802, 160.1276, -10.184575, 26.674046, ...</td>\n",
       "    </tr>\n",
       "    <tr>\n",
       "      <th>3</th>\n",
       "      <td>1400051</td>\n",
       "      <td>./assets/audio_train/1400051_water.wav</td>\n",
       "      <td>0.480091</td>\n",
       "      <td>water</td>\n",
       "      <td>[-235.00658, 123.2033, -4.968553, 33.234592, -...</td>\n",
       "      <td>[106.41231, 33.90044, 38.776386, 15.919863, 31...</td>\n",
       "      <td>[11.195169, 1.0260458, -5.0391235, -1.5975816,...</td>\n",
       "      <td>[23.694197, 8.173781, 7.091111, 2.5993192, 7.5...</td>\n",
       "      <td>[-235.00658, 123.2033, -4.968553, 33.234592, -...</td>\n",
       "    </tr>\n",
       "    <tr>\n",
       "      <th>4</th>\n",
       "      <td>1400049</td>\n",
       "      <td>./assets/audio_train/1400049_father.wav</td>\n",
       "      <td>0.448073</td>\n",
       "      <td>father</td>\n",
       "      <td>[-179.97217, 108.54472, -58.192284, 31.71899, ...</td>\n",
       "      <td>[45.407215, 49.07983, 29.007093, 11.687621, 15...</td>\n",
       "      <td>[-3.751081, 0.43218273, 2.648297, 0.04581053, ...</td>\n",
       "      <td>[8.796441, 11.696044, 3.500557, 2.2668695, 3.6...</td>\n",
       "      <td>[-179.97217, 108.54472, -58.192284, 31.71899, ...</td>\n",
       "    </tr>\n",
       "  </tbody>\n",
       "</table>\n",
       "</div>"
      ],
      "text/plain": [
       "        id                                  filepath  duration class_label  \\\n",
       "0  1400066   ./assets/audio_train/1400066_apples.wav  0.759320      apples   \n",
       "1  1400062  ./assets/audio_train/1400062_flowers.wav  0.777324     flowers   \n",
       "2  1400049   ./assets/audio_train/1400049_worker.wav  0.571156      worker   \n",
       "3  1400051    ./assets/audio_train/1400051_water.wav  0.480091       water   \n",
       "4  1400049   ./assets/audio_train/1400049_father.wav  0.448073      father   \n",
       "\n",
       "                                          mfccs_mean  \\\n",
       "0  [-247.32631, 102.92839, -35.27226, 36.415066, ...   \n",
       "1  [-235.68883, 101.68603, -35.80166, 34.12707, -...   \n",
       "2  [-235.04802, 160.1276, -10.184575, 26.674046, ...   \n",
       "3  [-235.00658, 123.2033, -4.968553, 33.234592, -...   \n",
       "4  [-179.97217, 108.54472, -58.192284, 31.71899, ...   \n",
       "\n",
       "                                           mfccs_std  \\\n",
       "0  [117.973976, 74.807144, 34.97408, 15.038574, 2...   \n",
       "1  [51.111267, 67.96506, 23.283352, 15.933792, 17...   \n",
       "2  [80.10156, 36.065247, 28.05036, 18.525972, 23....   \n",
       "3  [106.41231, 33.90044, 38.776386, 15.919863, 31...   \n",
       "4  [45.407215, 49.07983, 29.007093, 11.687621, 15...   \n",
       "\n",
       "                                    mfccs_delta_mean  \\\n",
       "0  [-9.579418, -4.0737424, 3.8435361, -0.17087425...   \n",
       "1  [-2.7131724, 0.058154836, 1.0358769, -0.090087...   \n",
       "2  [-12.911271, -5.808687, -1.0771756, -2.730666,...   \n",
       "3  [11.195169, 1.0260458, -5.0391235, -1.5975816,...   \n",
       "4  [-3.751081, 0.43218273, 2.648297, 0.04581053, ...   \n",
       "\n",
       "                                     mfccs_delta_std  \\\n",
       "0  [22.375574, 12.759423, 6.3385267, 2.4689703, 5...   \n",
       "1  [10.057443, 12.488094, 5.149937, 3.5408852, 3....   \n",
       "2  [20.398891, 8.515546, 4.8766484, 4.520022, 1.4...   \n",
       "3  [23.694197, 8.173781, 7.091111, 2.5993192, 7.5...   \n",
       "4  [8.796441, 11.696044, 3.500557, 2.2668695, 3.6...   \n",
       "\n",
       "                                      combined_mfccs  \n",
       "0  [-247.32631, 102.92839, -35.27226, 36.415066, ...  \n",
       "1  [-235.68883, 101.68603, -35.80166, 34.12707, -...  \n",
       "2  [-235.04802, 160.1276, -10.184575, 26.674046, ...  \n",
       "3  [-235.00658, 123.2033, -4.968553, 33.234592, -...  \n",
       "4  [-179.97217, 108.54472, -58.192284, 31.71899, ...  "
      ]
     },
     "execution_count": 8,
     "metadata": {},
     "output_type": "execute_result"
    }
   ],
   "source": [
    "# check if all correctly done\n",
    "\n",
    "features_df.head()"
   ]
  },
  {
   "cell_type": "markdown",
   "metadata": {},
   "source": [
    "**Pre-processing For CNN**"
   ]
  },
  {
   "cell_type": "code",
   "execution_count": 9,
   "metadata": {},
   "outputs": [],
   "source": [
    "def get_mel(filename):\n",
    "    \"\"\"\n",
    "    This function gives the melspectrogram and padded to a fixed dimension, which is 39. 39 frame happens to be the longest frame.\n",
    "    The spectrogram can then be used in CNN later.\n",
    "    \"\"\"\n",
    "    audio, sr = librosa.load(filename)\n",
    "    mel= librosa.feature.melspectrogram(audio, sr=sr)\n",
    "    mel = librosa.util.fix_length(mel,39)\n",
    "    return mel"
   ]
  },
  {
   "cell_type": "code",
   "execution_count": 10,
   "metadata": {},
   "outputs": [],
   "source": [
    "# apply the mel-spectrogram function to all the files\n",
    "\n",
    "features_df['mel'] = features_df['filepath'].map(get_mel)"
   ]
  },
  {
   "cell_type": "code",
   "execution_count": 11,
   "metadata": {},
   "outputs": [
    {
     "data": {
      "text/html": [
       "<div>\n",
       "<style scoped>\n",
       "    .dataframe tbody tr th:only-of-type {\n",
       "        vertical-align: middle;\n",
       "    }\n",
       "\n",
       "    .dataframe tbody tr th {\n",
       "        vertical-align: top;\n",
       "    }\n",
       "\n",
       "    .dataframe thead th {\n",
       "        text-align: right;\n",
       "    }\n",
       "</style>\n",
       "<table border=\"1\" class=\"dataframe\">\n",
       "  <thead>\n",
       "    <tr style=\"text-align: right;\">\n",
       "      <th></th>\n",
       "      <th>id</th>\n",
       "      <th>filepath</th>\n",
       "      <th>duration</th>\n",
       "      <th>class_label</th>\n",
       "      <th>mfccs_mean</th>\n",
       "      <th>mfccs_std</th>\n",
       "      <th>mfccs_delta_mean</th>\n",
       "      <th>mfccs_delta_std</th>\n",
       "      <th>combined_mfccs</th>\n",
       "      <th>mel</th>\n",
       "    </tr>\n",
       "  </thead>\n",
       "  <tbody>\n",
       "    <tr>\n",
       "      <th>0</th>\n",
       "      <td>1400066</td>\n",
       "      <td>./assets/audio_train/1400066_apples.wav</td>\n",
       "      <td>0.759320</td>\n",
       "      <td>apples</td>\n",
       "      <td>[-247.32631, 102.92839, -35.27226, 36.415066, ...</td>\n",
       "      <td>[117.973976, 74.807144, 34.97408, 15.038574, 2...</td>\n",
       "      <td>[-9.579418, -4.0737424, 3.8435361, -0.17087425...</td>\n",
       "      <td>[22.375574, 12.759423, 6.3385267, 2.4689703, 5...</td>\n",
       "      <td>[-247.32631, 102.92839, -35.27226, 36.415066, ...</td>\n",
       "      <td>[[0.0003536803, 0.00022120043, 0.00017765928, ...</td>\n",
       "    </tr>\n",
       "    <tr>\n",
       "      <th>1</th>\n",
       "      <td>1400062</td>\n",
       "      <td>./assets/audio_train/1400062_flowers.wav</td>\n",
       "      <td>0.777324</td>\n",
       "      <td>flowers</td>\n",
       "      <td>[-235.68883, 101.68603, -35.80166, 34.12707, -...</td>\n",
       "      <td>[51.111267, 67.96506, 23.283352, 15.933792, 17...</td>\n",
       "      <td>[-2.7131724, 0.058154836, 1.0358769, -0.090087...</td>\n",
       "      <td>[10.057443, 12.488094, 5.149937, 3.5408852, 3....</td>\n",
       "      <td>[-235.68883, 101.68603, -35.80166, 34.12707, -...</td>\n",
       "      <td>[[0.0001801434, 0.00024744836, 0.00025155477, ...</td>\n",
       "    </tr>\n",
       "    <tr>\n",
       "      <th>2</th>\n",
       "      <td>1400049</td>\n",
       "      <td>./assets/audio_train/1400049_worker.wav</td>\n",
       "      <td>0.571156</td>\n",
       "      <td>worker</td>\n",
       "      <td>[-235.04802, 160.1276, -10.184575, 26.674046, ...</td>\n",
       "      <td>[80.10156, 36.065247, 28.05036, 18.525972, 23....</td>\n",
       "      <td>[-12.911271, -5.808687, -1.0771756, -2.730666,...</td>\n",
       "      <td>[20.398891, 8.515546, 4.8766484, 4.520022, 1.4...</td>\n",
       "      <td>[-235.04802, 160.1276, -10.184575, 26.674046, ...</td>\n",
       "      <td>[[0.8230274, 0.2128236, 0.0014328726, 0.000853...</td>\n",
       "    </tr>\n",
       "    <tr>\n",
       "      <th>3</th>\n",
       "      <td>1400051</td>\n",
       "      <td>./assets/audio_train/1400051_water.wav</td>\n",
       "      <td>0.480091</td>\n",
       "      <td>water</td>\n",
       "      <td>[-235.00658, 123.2033, -4.968553, 33.234592, -...</td>\n",
       "      <td>[106.41231, 33.90044, 38.776386, 15.919863, 31...</td>\n",
       "      <td>[11.195169, 1.0260458, -5.0391235, -1.5975816,...</td>\n",
       "      <td>[23.694197, 8.173781, 7.091111, 2.5993192, 7.5...</td>\n",
       "      <td>[-235.00658, 123.2033, -4.968553, 33.234592, -...</td>\n",
       "      <td>[[0.0010301938, 0.0007199413, 0.00062446395, 0...</td>\n",
       "    </tr>\n",
       "    <tr>\n",
       "      <th>4</th>\n",
       "      <td>1400049</td>\n",
       "      <td>./assets/audio_train/1400049_father.wav</td>\n",
       "      <td>0.448073</td>\n",
       "      <td>father</td>\n",
       "      <td>[-179.97217, 108.54472, -58.192284, 31.71899, ...</td>\n",
       "      <td>[45.407215, 49.07983, 29.007093, 11.687621, 15...</td>\n",
       "      <td>[-3.751081, 0.43218273, 2.648297, 0.04581053, ...</td>\n",
       "      <td>[8.796441, 11.696044, 3.500557, 2.2668695, 3.6...</td>\n",
       "      <td>[-179.97217, 108.54472, -58.192284, 31.71899, ...</td>\n",
       "      <td>[[0.0032865647, 0.0017178097, 0.0007647522, 0....</td>\n",
       "    </tr>\n",
       "  </tbody>\n",
       "</table>\n",
       "</div>"
      ],
      "text/plain": [
       "        id                                  filepath  duration class_label  \\\n",
       "0  1400066   ./assets/audio_train/1400066_apples.wav  0.759320      apples   \n",
       "1  1400062  ./assets/audio_train/1400062_flowers.wav  0.777324     flowers   \n",
       "2  1400049   ./assets/audio_train/1400049_worker.wav  0.571156      worker   \n",
       "3  1400051    ./assets/audio_train/1400051_water.wav  0.480091       water   \n",
       "4  1400049   ./assets/audio_train/1400049_father.wav  0.448073      father   \n",
       "\n",
       "                                          mfccs_mean  \\\n",
       "0  [-247.32631, 102.92839, -35.27226, 36.415066, ...   \n",
       "1  [-235.68883, 101.68603, -35.80166, 34.12707, -...   \n",
       "2  [-235.04802, 160.1276, -10.184575, 26.674046, ...   \n",
       "3  [-235.00658, 123.2033, -4.968553, 33.234592, -...   \n",
       "4  [-179.97217, 108.54472, -58.192284, 31.71899, ...   \n",
       "\n",
       "                                           mfccs_std  \\\n",
       "0  [117.973976, 74.807144, 34.97408, 15.038574, 2...   \n",
       "1  [51.111267, 67.96506, 23.283352, 15.933792, 17...   \n",
       "2  [80.10156, 36.065247, 28.05036, 18.525972, 23....   \n",
       "3  [106.41231, 33.90044, 38.776386, 15.919863, 31...   \n",
       "4  [45.407215, 49.07983, 29.007093, 11.687621, 15...   \n",
       "\n",
       "                                    mfccs_delta_mean  \\\n",
       "0  [-9.579418, -4.0737424, 3.8435361, -0.17087425...   \n",
       "1  [-2.7131724, 0.058154836, 1.0358769, -0.090087...   \n",
       "2  [-12.911271, -5.808687, -1.0771756, -2.730666,...   \n",
       "3  [11.195169, 1.0260458, -5.0391235, -1.5975816,...   \n",
       "4  [-3.751081, 0.43218273, 2.648297, 0.04581053, ...   \n",
       "\n",
       "                                     mfccs_delta_std  \\\n",
       "0  [22.375574, 12.759423, 6.3385267, 2.4689703, 5...   \n",
       "1  [10.057443, 12.488094, 5.149937, 3.5408852, 3....   \n",
       "2  [20.398891, 8.515546, 4.8766484, 4.520022, 1.4...   \n",
       "3  [23.694197, 8.173781, 7.091111, 2.5993192, 7.5...   \n",
       "4  [8.796441, 11.696044, 3.500557, 2.2668695, 3.6...   \n",
       "\n",
       "                                      combined_mfccs  \\\n",
       "0  [-247.32631, 102.92839, -35.27226, 36.415066, ...   \n",
       "1  [-235.68883, 101.68603, -35.80166, 34.12707, -...   \n",
       "2  [-235.04802, 160.1276, -10.184575, 26.674046, ...   \n",
       "3  [-235.00658, 123.2033, -4.968553, 33.234592, -...   \n",
       "4  [-179.97217, 108.54472, -58.192284, 31.71899, ...   \n",
       "\n",
       "                                                 mel  \n",
       "0  [[0.0003536803, 0.00022120043, 0.00017765928, ...  \n",
       "1  [[0.0001801434, 0.00024744836, 0.00025155477, ...  \n",
       "2  [[0.8230274, 0.2128236, 0.0014328726, 0.000853...  \n",
       "3  [[0.0010301938, 0.0007199413, 0.00062446395, 0...  \n",
       "4  [[0.0032865647, 0.0017178097, 0.0007647522, 0....  "
      ]
     },
     "execution_count": 11,
     "metadata": {},
     "output_type": "execute_result"
    }
   ],
   "source": [
    "# check if successful\n",
    "\n",
    "features_df.head()"
   ]
  },
  {
   "cell_type": "markdown",
   "metadata": {},
   "source": [
    "\n",
    "## 4. Modelling"
   ]
  },
  {
   "cell_type": "markdown",
   "metadata": {},
   "source": [
    "Model 1: Vanilla Base-line model\n",
    "\n",
    "FNN with MFCCS mean\n",
    "Dimension = 40\n",
    "layers = 2"
   ]
  },
  {
   "cell_type": "code",
   "execution_count": 12,
   "metadata": {},
   "outputs": [],
   "source": [
    "X = features_df['mfccs_mean']"
   ]
  },
  {
   "cell_type": "code",
   "execution_count": 13,
   "metadata": {},
   "outputs": [],
   "source": [
    "X = np.array(X.tolist())"
   ]
  },
  {
   "cell_type": "code",
   "execution_count": 14,
   "metadata": {},
   "outputs": [],
   "source": [
    "le = LabelEncoder()\n",
    "y = to_categorical(le.fit_transform(features_df['class_label'].tolist()))\n",
    "y = np.array(y)"
   ]
  },
  {
   "cell_type": "code",
   "execution_count": 15,
   "metadata": {},
   "outputs": [],
   "source": [
    "X_train, X_test, y_train, y_test = train_test_split(X, y, test_size = 0.2, random_state = 42, stratify = y)"
   ]
  },
  {
   "cell_type": "code",
   "execution_count": 16,
   "metadata": {},
   "outputs": [
    {
     "data": {
      "text/plain": [
       "(111, 40)"
      ]
     },
     "execution_count": 16,
     "metadata": {},
     "output_type": "execute_result"
    }
   ],
   "source": [
    "X_test.shape"
   ]
  },
  {
   "cell_type": "code",
   "execution_count": 17,
   "metadata": {},
   "outputs": [],
   "source": [
    "model = Sequential()\n",
    "model.add(Dense(64, activation='relu', input_shape=(40,)))\n",
    "model.add(Dense(64, activation='relu'))\n",
    "model.add(Dense(5, activation='softmax'))"
   ]
  },
  {
   "cell_type": "code",
   "execution_count": 18,
   "metadata": {},
   "outputs": [],
   "source": [
    "model.compile(loss='categorical_crossentropy', optimizer='adam', metrics = ['accuracy'])"
   ]
  },
  {
   "cell_type": "code",
   "execution_count": 19,
   "metadata": {},
   "outputs": [
    {
     "name": "stdout",
     "output_type": "stream",
     "text": [
      "Model: \"sequential_1\"\n",
      "_________________________________________________________________\n",
      "Layer (type)                 Output Shape              Param #   \n",
      "=================================================================\n",
      "dense_1 (Dense)              (None, 64)                2624      \n",
      "_________________________________________________________________\n",
      "dense_2 (Dense)              (None, 64)                4160      \n",
      "_________________________________________________________________\n",
      "dense_3 (Dense)              (None, 5)                 325       \n",
      "=================================================================\n",
      "Total params: 7,109\n",
      "Trainable params: 7,109\n",
      "Non-trainable params: 0\n",
      "_________________________________________________________________\n"
     ]
    }
   ],
   "source": [
    "model.summary()"
   ]
  },
  {
   "cell_type": "code",
   "execution_count": 20,
   "metadata": {
    "scrolled": true
   },
   "outputs": [
    {
     "name": "stdout",
     "output_type": "stream",
     "text": [
      "Train on 442 samples, validate on 111 samples\n",
      "Epoch 1/50\n",
      " - 0s - loss: 7.5980 - accuracy: 0.2602 - val_loss: 4.0129 - val_accuracy: 0.2883\n",
      "Epoch 2/50\n",
      " - 0s - loss: 2.6617 - accuracy: 0.3801 - val_loss: 2.0647 - val_accuracy: 0.4234\n",
      "Epoch 3/50\n",
      " - 0s - loss: 1.6951 - accuracy: 0.5000 - val_loss: 1.3544 - val_accuracy: 0.5495\n",
      "Epoch 4/50\n",
      " - 0s - loss: 1.2895 - accuracy: 0.5633 - val_loss: 1.3898 - val_accuracy: 0.5495\n",
      "Epoch 5/50\n",
      " - 0s - loss: 1.1644 - accuracy: 0.6267 - val_loss: 1.2498 - val_accuracy: 0.5856\n",
      "Epoch 6/50\n",
      " - 0s - loss: 1.0718 - accuracy: 0.6312 - val_loss: 1.2593 - val_accuracy: 0.6036\n",
      "Epoch 7/50\n",
      " - 0s - loss: 0.9773 - accuracy: 0.6448 - val_loss: 1.2449 - val_accuracy: 0.5676\n",
      "Epoch 8/50\n",
      " - 0s - loss: 0.8872 - accuracy: 0.6765 - val_loss: 1.1359 - val_accuracy: 0.6306\n",
      "Epoch 9/50\n",
      " - 0s - loss: 0.8304 - accuracy: 0.6946 - val_loss: 1.3102 - val_accuracy: 0.6126\n",
      "Epoch 10/50\n",
      " - 0s - loss: 0.8441 - accuracy: 0.6991 - val_loss: 1.1075 - val_accuracy: 0.6396\n",
      "Epoch 11/50\n",
      " - 0s - loss: 0.7582 - accuracy: 0.7398 - val_loss: 1.1292 - val_accuracy: 0.6216\n",
      "Epoch 12/50\n",
      " - 0s - loss: 0.6759 - accuracy: 0.7738 - val_loss: 1.1197 - val_accuracy: 0.5676\n",
      "Epoch 13/50\n",
      " - 0s - loss: 0.6863 - accuracy: 0.7489 - val_loss: 1.0724 - val_accuracy: 0.6306\n",
      "Epoch 14/50\n",
      " - 0s - loss: 0.5966 - accuracy: 0.7738 - val_loss: 1.0115 - val_accuracy: 0.6847\n",
      "Epoch 15/50\n",
      " - 0s - loss: 0.5499 - accuracy: 0.7986 - val_loss: 1.0693 - val_accuracy: 0.6306\n",
      "Epoch 16/50\n",
      " - 0s - loss: 0.5723 - accuracy: 0.8009 - val_loss: 1.0358 - val_accuracy: 0.6486\n",
      "Epoch 17/50\n",
      " - 0s - loss: 0.5413 - accuracy: 0.7986 - val_loss: 1.0612 - val_accuracy: 0.6396\n",
      "Epoch 18/50\n",
      " - 0s - loss: 0.5093 - accuracy: 0.8009 - val_loss: 1.0950 - val_accuracy: 0.6577\n",
      "Epoch 19/50\n",
      " - 0s - loss: 0.5378 - accuracy: 0.8032 - val_loss: 1.0516 - val_accuracy: 0.6577\n",
      "Epoch 20/50\n",
      " - 0s - loss: 0.4403 - accuracy: 0.8416 - val_loss: 1.0548 - val_accuracy: 0.6667\n",
      "Epoch 21/50\n",
      " - 0s - loss: 0.4064 - accuracy: 0.8688 - val_loss: 0.9961 - val_accuracy: 0.6667\n",
      "Epoch 22/50\n",
      " - 0s - loss: 0.4253 - accuracy: 0.8484 - val_loss: 1.1604 - val_accuracy: 0.5856\n",
      "Epoch 23/50\n",
      " - 0s - loss: 0.4284 - accuracy: 0.8529 - val_loss: 1.0386 - val_accuracy: 0.6577\n",
      "Epoch 24/50\n",
      " - 0s - loss: 0.4238 - accuracy: 0.8439 - val_loss: 1.0638 - val_accuracy: 0.6577\n",
      "Epoch 25/50\n",
      " - 0s - loss: 0.3677 - accuracy: 0.8665 - val_loss: 1.0438 - val_accuracy: 0.6667\n",
      "Epoch 26/50\n",
      " - 0s - loss: 0.3698 - accuracy: 0.8756 - val_loss: 0.9757 - val_accuracy: 0.6847\n",
      "Epoch 27/50\n",
      " - 0s - loss: 0.3425 - accuracy: 0.8597 - val_loss: 1.1276 - val_accuracy: 0.6306\n",
      "Epoch 28/50\n",
      " - 0s - loss: 0.3483 - accuracy: 0.8778 - val_loss: 1.0489 - val_accuracy: 0.6667\n",
      "Epoch 29/50\n",
      " - 0s - loss: 0.3227 - accuracy: 0.8914 - val_loss: 1.1443 - val_accuracy: 0.6486\n",
      "Epoch 30/50\n",
      " - 0s - loss: 0.2944 - accuracy: 0.9027 - val_loss: 1.0772 - val_accuracy: 0.6577\n",
      "Epoch 31/50\n",
      " - 0s - loss: 0.3180 - accuracy: 0.8869 - val_loss: 1.1084 - val_accuracy: 0.6577\n",
      "Epoch 32/50\n",
      " - 0s - loss: 0.2908 - accuracy: 0.9186 - val_loss: 1.0681 - val_accuracy: 0.6847\n",
      "Epoch 33/50\n",
      " - 0s - loss: 0.2635 - accuracy: 0.9208 - val_loss: 1.0835 - val_accuracy: 0.6757\n",
      "Epoch 34/50\n",
      " - 0s - loss: 0.2637 - accuracy: 0.9208 - val_loss: 1.0612 - val_accuracy: 0.6757\n",
      "Epoch 35/50\n",
      " - 0s - loss: 0.2630 - accuracy: 0.9163 - val_loss: 1.0601 - val_accuracy: 0.6577\n",
      "Epoch 36/50\n",
      " - 0s - loss: 0.2548 - accuracy: 0.9208 - val_loss: 1.1323 - val_accuracy: 0.6577\n",
      "Epoch 37/50\n",
      " - 0s - loss: 0.2562 - accuracy: 0.9140 - val_loss: 1.2381 - val_accuracy: 0.6306\n",
      "Epoch 38/50\n",
      " - 0s - loss: 0.2836 - accuracy: 0.8914 - val_loss: 1.0926 - val_accuracy: 0.6126\n",
      "Epoch 39/50\n",
      " - 0s - loss: 0.2797 - accuracy: 0.8914 - val_loss: 1.2505 - val_accuracy: 0.6486\n",
      "Epoch 40/50\n",
      " - 0s - loss: 0.2592 - accuracy: 0.9163 - val_loss: 1.2013 - val_accuracy: 0.6847\n",
      "Epoch 41/50\n",
      " - 0s - loss: 0.2863 - accuracy: 0.9027 - val_loss: 1.2182 - val_accuracy: 0.6577\n",
      "Epoch 42/50\n",
      " - 0s - loss: 0.2650 - accuracy: 0.9072 - val_loss: 1.1378 - val_accuracy: 0.6757\n",
      "Epoch 43/50\n",
      " - 0s - loss: 0.2262 - accuracy: 0.9344 - val_loss: 1.1402 - val_accuracy: 0.6486\n",
      "Epoch 44/50\n",
      " - 0s - loss: 0.2205 - accuracy: 0.9299 - val_loss: 1.2223 - val_accuracy: 0.6577\n",
      "Epoch 45/50\n",
      " - 0s - loss: 0.2293 - accuracy: 0.9231 - val_loss: 1.2394 - val_accuracy: 0.6757\n",
      "Epoch 46/50\n",
      " - 0s - loss: 0.2171 - accuracy: 0.9321 - val_loss: 1.1938 - val_accuracy: 0.6577\n",
      "Epoch 47/50\n",
      " - 0s - loss: 0.2267 - accuracy: 0.9276 - val_loss: 1.1897 - val_accuracy: 0.6577\n",
      "Epoch 48/50\n",
      " - 0s - loss: 0.2132 - accuracy: 0.9389 - val_loss: 1.2789 - val_accuracy: 0.6667\n",
      "Epoch 49/50\n",
      " - 0s - loss: 0.2163 - accuracy: 0.9299 - val_loss: 1.2541 - val_accuracy: 0.6486\n",
      "Epoch 50/50\n",
      " - 0s - loss: 0.1762 - accuracy: 0.9412 - val_loss: 1.2562 - val_accuracy: 0.6667\n"
     ]
    }
   ],
   "source": [
    "history = model.fit(X_train, y_train, validation_data=(X_test, y_test), batch_size=32, epochs = 50, verbose=2)"
   ]
  },
  {
   "cell_type": "code",
   "execution_count": 21,
   "metadata": {
    "scrolled": true
   },
   "outputs": [
    {
     "data": {
      "text/plain": [
       "<matplotlib.legend.Legend at 0x2165b016048>"
      ]
     },
     "execution_count": 21,
     "metadata": {},
     "output_type": "execute_result"
    },
    {
     "data": {
      "image/png": "[encoded data removed]",
      "text/plain": [
       "<Figure size 432x288 with 1 Axes>"
      ]
     },
     "metadata": {
      "needs_background": "light"
     },
     "output_type": "display_data"
    }
   ],
   "source": [
    "plt.plot(history.history['loss'], label = ' Training Loss')\n",
    "plt.plot(history.history['val_loss'], label = ' Test Loss')\n",
    "plt.legend()"
   ]
  },
  {
   "cell_type": "code",
   "execution_count": 22,
   "metadata": {},
   "outputs": [
    {
     "data": {
      "text/plain": [
       "<matplotlib.legend.Legend at 0x21770607da0>"
      ]
     },
     "execution_count": 22,
     "metadata": {},
     "output_type": "execute_result"
    },
    {
     "data": {
      "image/png": "[encoded data removed]",
      "text/plain": [
       "<Figure size 432x288 with 1 Axes>"
      ]
     },
     "metadata": {
      "needs_background": "light"
     },
     "output_type": "display_data"
    }
   ],
   "source": [
    "plt.plot(history.history['accuracy'], label = ' Training Accuracy')\n",
    "plt.plot(history.history['val_accuracy'], label = ' Test Accuracy')\n",
    "plt.legend()"
   ]
  },
  {
   "cell_type": "code",
   "execution_count": 23,
   "metadata": {},
   "outputs": [
    {
     "name": "stdout",
     "output_type": "stream",
     "text": [
      "111/111 [==============================] - 0s 45us/step\n"
     ]
    }
   ],
   "source": [
    "model_eval = model.evaluate(X_test,y_test, verbose=1)\n",
    "model_metrics = model.metrics_names"
   ]
  },
  {
   "cell_type": "markdown",
   "metadata": {},
   "source": [
    "Model 2\n",
    "\n",
    "Classifier: FNN\n",
    "Features: 40 coef * 4 indicators (mean and std, delta mean delta std)\n",
    "dimension 160\n"
   ]
  },
  {
   "cell_type": "code",
   "execution_count": 24,
   "metadata": {},
   "outputs": [],
   "source": [
    "X = np.array(features_df['combined_mfccs'].tolist())\n",
    "le = LabelEncoder()\n",
    "y = to_categorical(le.fit_transform(features_df['class_label'].tolist()))\n",
    "y = np.array(y)"
   ]
  },
  {
   "cell_type": "code",
   "execution_count": 25,
   "metadata": {},
   "outputs": [],
   "source": [
    "X_train_2, X_test_2, y_train, y_test = train_test_split(X, y, test_size = 0.2, random_state = 42, stratify = y)"
   ]
  },
  {
   "cell_type": "code",
   "execution_count": 26,
   "metadata": {},
   "outputs": [],
   "source": [
    "ss = StandardScaler()\n",
    "X_train_2 = ss.fit_transform(X_train_2)\n",
    "X_test_2 = ss.transform(X_test_2)"
   ]
  },
  {
   "cell_type": "code",
   "execution_count": null,
   "metadata": {},
   "outputs": [],
   "source": []
  },
  {
   "cell_type": "code",
   "execution_count": 27,
   "metadata": {},
   "outputs": [],
   "source": [
    "model2 = Sequential()\n",
    "model2.add(Dense(64, activation='relu', input_shape=(160,)))\n",
    "model2.add(Dense(64, activation='relu'))\n",
    "model2.add(Dense(5, activation='softmax'))"
   ]
  },
  {
   "cell_type": "code",
   "execution_count": 28,
   "metadata": {},
   "outputs": [],
   "source": [
    "model2.compile(loss='categorical_crossentropy', optimizer='adam', metrics = ['accuracy'])"
   ]
  },
  {
   "cell_type": "code",
   "execution_count": 29,
   "metadata": {},
   "outputs": [
    {
     "data": {
      "text/plain": [
       "(442, 40)"
      ]
     },
     "execution_count": 29,
     "metadata": {},
     "output_type": "execute_result"
    }
   ],
   "source": [
    "X_train.shape"
   ]
  },
  {
   "cell_type": "code",
   "execution_count": 30,
   "metadata": {
    "scrolled": true
   },
   "outputs": [
    {
     "name": "stdout",
     "output_type": "stream",
     "text": [
      "Train on 442 samples, validate on 111 samples\n",
      "Epoch 1/50\n",
      " - 0s - loss: 1.6522 - accuracy: 0.3213 - val_loss: 1.2840 - val_accuracy: 0.5315\n",
      "Epoch 2/50\n",
      " - 0s - loss: 1.0957 - accuracy: 0.6516 - val_loss: 0.9390 - val_accuracy: 0.7568\n",
      "Epoch 3/50\n",
      " - 0s - loss: 0.7526 - accuracy: 0.8394 - val_loss: 0.6741 - val_accuracy: 0.8108\n",
      "Epoch 4/50\n",
      " - 0s - loss: 0.4954 - accuracy: 0.9118 - val_loss: 0.4653 - val_accuracy: 0.8739\n",
      "Epoch 5/50\n",
      " - 0s - loss: 0.3107 - accuracy: 0.9615 - val_loss: 0.3314 - val_accuracy: 0.9279\n",
      "Epoch 6/50\n",
      " - 0s - loss: 0.2001 - accuracy: 0.9729 - val_loss: 0.2487 - val_accuracy: 0.9640\n",
      "Epoch 7/50\n",
      " - 0s - loss: 0.1298 - accuracy: 0.9864 - val_loss: 0.2075 - val_accuracy: 0.9640\n",
      "Epoch 8/50\n",
      " - 0s - loss: 0.0911 - accuracy: 0.9932 - val_loss: 0.1838 - val_accuracy: 0.9640\n",
      "Epoch 9/50\n",
      " - 0s - loss: 0.0639 - accuracy: 0.9977 - val_loss: 0.1649 - val_accuracy: 0.9730\n",
      "Epoch 10/50\n",
      " - 0s - loss: 0.0480 - accuracy: 0.9977 - val_loss: 0.1512 - val_accuracy: 0.9730\n",
      "Epoch 11/50\n",
      " - 0s - loss: 0.0363 - accuracy: 1.0000 - val_loss: 0.1428 - val_accuracy: 0.9730\n",
      "Epoch 12/50\n",
      " - 0s - loss: 0.0287 - accuracy: 1.0000 - val_loss: 0.1383 - val_accuracy: 0.9730\n",
      "Epoch 13/50\n",
      " - 0s - loss: 0.0228 - accuracy: 1.0000 - val_loss: 0.1316 - val_accuracy: 0.9730\n",
      "Epoch 14/50\n",
      " - 0s - loss: 0.0189 - accuracy: 1.0000 - val_loss: 0.1277 - val_accuracy: 0.9730\n",
      "Epoch 15/50\n",
      " - 0s - loss: 0.0157 - accuracy: 1.0000 - val_loss: 0.1244 - val_accuracy: 0.9730\n",
      "Epoch 16/50\n",
      " - 0s - loss: 0.0133 - accuracy: 1.0000 - val_loss: 0.1215 - val_accuracy: 0.9730\n",
      "Epoch 17/50\n",
      " - 0s - loss: 0.0114 - accuracy: 1.0000 - val_loss: 0.1195 - val_accuracy: 0.9730\n",
      "Epoch 18/50\n",
      " - 0s - loss: 0.0099 - accuracy: 1.0000 - val_loss: 0.1182 - val_accuracy: 0.9730\n",
      "Epoch 19/50\n",
      " - 0s - loss: 0.0086 - accuracy: 1.0000 - val_loss: 0.1169 - val_accuracy: 0.9730\n",
      "Epoch 20/50\n",
      " - 0s - loss: 0.0077 - accuracy: 1.0000 - val_loss: 0.1155 - val_accuracy: 0.9730\n",
      "Epoch 21/50\n",
      " - 0s - loss: 0.0068 - accuracy: 1.0000 - val_loss: 0.1141 - val_accuracy: 0.9730\n",
      "Epoch 22/50\n",
      " - 0s - loss: 0.0061 - accuracy: 1.0000 - val_loss: 0.1136 - val_accuracy: 0.9730\n",
      "Epoch 23/50\n",
      " - 0s - loss: 0.0055 - accuracy: 1.0000 - val_loss: 0.1134 - val_accuracy: 0.9730\n",
      "Epoch 24/50\n",
      " - 0s - loss: 0.0050 - accuracy: 1.0000 - val_loss: 0.1130 - val_accuracy: 0.9730\n",
      "Epoch 25/50\n",
      " - 0s - loss: 0.0046 - accuracy: 1.0000 - val_loss: 0.1126 - val_accuracy: 0.9730\n",
      "Epoch 26/50\n",
      " - 0s - loss: 0.0041 - accuracy: 1.0000 - val_loss: 0.1122 - val_accuracy: 0.9730\n",
      "Epoch 27/50\n",
      " - 0s - loss: 0.0038 - accuracy: 1.0000 - val_loss: 0.1119 - val_accuracy: 0.9730\n",
      "Epoch 28/50\n",
      " - 0s - loss: 0.0035 - accuracy: 1.0000 - val_loss: 0.1121 - val_accuracy: 0.9730\n",
      "Epoch 29/50\n",
      " - 0s - loss: 0.0033 - accuracy: 1.0000 - val_loss: 0.1121 - val_accuracy: 0.9730\n",
      "Epoch 30/50\n",
      " - 0s - loss: 0.0030 - accuracy: 1.0000 - val_loss: 0.1118 - val_accuracy: 0.9730\n",
      "Epoch 31/50\n",
      " - 0s - loss: 0.0028 - accuracy: 1.0000 - val_loss: 0.1119 - val_accuracy: 0.9730\n",
      "Epoch 32/50\n",
      " - 0s - loss: 0.0026 - accuracy: 1.0000 - val_loss: 0.1117 - val_accuracy: 0.9730\n",
      "Epoch 33/50\n",
      " - 0s - loss: 0.0025 - accuracy: 1.0000 - val_loss: 0.1117 - val_accuracy: 0.9730\n",
      "Epoch 34/50\n",
      " - 0s - loss: 0.0023 - accuracy: 1.0000 - val_loss: 0.1114 - val_accuracy: 0.9730\n",
      "Epoch 35/50\n",
      " - 0s - loss: 0.0022 - accuracy: 1.0000 - val_loss: 0.1119 - val_accuracy: 0.9730\n",
      "Epoch 36/50\n",
      " - 0s - loss: 0.0020 - accuracy: 1.0000 - val_loss: 0.1118 - val_accuracy: 0.9730\n",
      "Epoch 37/50\n",
      " - 0s - loss: 0.0019 - accuracy: 1.0000 - val_loss: 0.1119 - val_accuracy: 0.9730\n",
      "Epoch 38/50\n",
      " - 0s - loss: 0.0018 - accuracy: 1.0000 - val_loss: 0.1118 - val_accuracy: 0.9730\n",
      "Epoch 39/50\n",
      " - 0s - loss: 0.0017 - accuracy: 1.0000 - val_loss: 0.1120 - val_accuracy: 0.9730\n",
      "Epoch 40/50\n",
      " - 0s - loss: 0.0016 - accuracy: 1.0000 - val_loss: 0.1121 - val_accuracy: 0.9730\n",
      "Epoch 41/50\n",
      " - 0s - loss: 0.0015 - accuracy: 1.0000 - val_loss: 0.1121 - val_accuracy: 0.9730\n",
      "Epoch 42/50\n",
      " - 0s - loss: 0.0015 - accuracy: 1.0000 - val_loss: 0.1124 - val_accuracy: 0.9730\n",
      "Epoch 43/50\n",
      " - 0s - loss: 0.0014 - accuracy: 1.0000 - val_loss: 0.1123 - val_accuracy: 0.9730\n",
      "Epoch 44/50\n",
      " - 0s - loss: 0.0013 - accuracy: 1.0000 - val_loss: 0.1125 - val_accuracy: 0.9730\n",
      "Epoch 45/50\n",
      " - 0s - loss: 0.0013 - accuracy: 1.0000 - val_loss: 0.1125 - val_accuracy: 0.9730\n",
      "Epoch 46/50\n",
      " - 0s - loss: 0.0012 - accuracy: 1.0000 - val_loss: 0.1126 - val_accuracy: 0.9730\n",
      "Epoch 47/50\n",
      " - 0s - loss: 0.0012 - accuracy: 1.0000 - val_loss: 0.1127 - val_accuracy: 0.9730\n",
      "Epoch 48/50\n",
      " - 0s - loss: 0.0011 - accuracy: 1.0000 - val_loss: 0.1129 - val_accuracy: 0.9730\n",
      "Epoch 49/50\n",
      " - 0s - loss: 0.0011 - accuracy: 1.0000 - val_loss: 0.1130 - val_accuracy: 0.9730\n",
      "Epoch 50/50\n",
      " - 0s - loss: 0.0010 - accuracy: 1.0000 - val_loss: 0.1132 - val_accuracy: 0.9730\n"
     ]
    }
   ],
   "source": [
    "history = model2.fit(X_train_2, y_train, validation_data=(X_test_2, y_test), batch_size=32, epochs = 50, verbose=2)"
   ]
  },
  {
   "cell_type": "code",
   "execution_count": 31,
   "metadata": {
    "scrolled": false
   },
   "outputs": [
    {
     "data": {
      "text/plain": [
       "<matplotlib.legend.Legend at 0x2177bc8aa90>"
      ]
     },
     "execution_count": 31,
     "metadata": {},
     "output_type": "execute_result"
    },
    {
     "data": {
      "image/png": "[encoded data removed]",
      "text/plain": [
       "<Figure size 432x288 with 1 Axes>"
      ]
     },
     "metadata": {
      "needs_background": "light"
     },
     "output_type": "display_data"
    }
   ],
   "source": [
    "plt.plot(history.history['loss'], label = ' Training Loss')\n",
    "plt.plot(history.history['val_loss'], label = ' Test Loss')\n",
    "plt.legend()"
   ]
  },
  {
   "cell_type": "code",
   "execution_count": 32,
   "metadata": {},
   "outputs": [
    {
     "data": {
      "text/plain": [
       "<matplotlib.legend.Legend at 0x21652d6eac8>"
      ]
     },
     "execution_count": 32,
     "metadata": {},
     "output_type": "execute_result"
    },
    {
     "data": {
      "image/png": "[encoded data removed]",
      "text/plain": [
       "<Figure size 432x288 with 1 Axes>"
      ]
     },
     "metadata": {
      "needs_background": "light"
     },
     "output_type": "display_data"
    }
   ],
   "source": [
    "plt.plot(history.history['accuracy'], label = ' Training Accuracy')\n",
    "plt.plot(history.history['val_accuracy'], label = ' Test Accuracy')\n",
    "plt.legend()"
   ]
  },
  {
   "cell_type": "code",
   "execution_count": 33,
   "metadata": {},
   "outputs": [
    {
     "name": "stdout",
     "output_type": "stream",
     "text": [
      "111/111 [==============================] - 0s 54us/step\n"
     ]
    }
   ],
   "source": [
    "model2_eval = model2.evaluate(X_test_2,y_test, verbose=1)\n",
    "model2_metrics = model2.metrics_names"
   ]
  },
  {
   "cell_type": "markdown",
   "metadata": {},
   "source": [
    "**CNN**\n",
    "\n",
    "model 3:\n",
    "\n",
    "classifier: CNN 2D\n",
    "\n",
    "Features: mel spectrogram, padded until 39 sequence (128, 39)"
   ]
  },
  {
   "cell_type": "code",
   "execution_count": 34,
   "metadata": {},
   "outputs": [],
   "source": [
    "X = np.array(features_df['mel'].tolist())"
   ]
  },
  {
   "cell_type": "code",
   "execution_count": 35,
   "metadata": {},
   "outputs": [
    {
     "data": {
      "text/plain": [
       "(553, 128, 39)"
      ]
     },
     "execution_count": 35,
     "metadata": {},
     "output_type": "execute_result"
    }
   ],
   "source": [
    "X.shape"
   ]
  },
  {
   "cell_type": "code",
   "execution_count": 36,
   "metadata": {},
   "outputs": [],
   "source": [
    "le = LabelEncoder()\n",
    "y = to_categorical(le.fit_transform(features_df['class_label'].tolist()))\n",
    "y = np.array(y)"
   ]
  },
  {
   "cell_type": "code",
   "execution_count": 37,
   "metadata": {},
   "outputs": [
    {
     "data": {
      "text/plain": [
       "(553, 128, 39)"
      ]
     },
     "execution_count": 37,
     "metadata": {},
     "output_type": "execute_result"
    }
   ],
   "source": [
    "X.shape"
   ]
  },
  {
   "cell_type": "code",
   "execution_count": 38,
   "metadata": {},
   "outputs": [],
   "source": [
    "X_train_3, X_test_3, y_train, y_test = train_test_split(X, y, test_size = 0.2, random_state = 42, stratify = y)"
   ]
  },
  {
   "cell_type": "code",
   "execution_count": 39,
   "metadata": {},
   "outputs": [
    {
     "data": {
      "text/plain": [
       "(442, 128, 39)"
      ]
     },
     "execution_count": 39,
     "metadata": {},
     "output_type": "execute_result"
    }
   ],
   "source": [
    "X_train_3.shape"
   ]
  },
  {
   "cell_type": "code",
   "execution_count": 40,
   "metadata": {},
   "outputs": [],
   "source": [
    "X_train_3 = X_train_3.reshape(X_train_3.shape[0], 128, 39, 1)\n",
    "X_test_3 = X_test_3.reshape(X_test_3.shape[0], 128, 39, 1)"
   ]
  },
  {
   "cell_type": "code",
   "execution_count": 41,
   "metadata": {},
   "outputs": [],
   "source": [
    "model3 = Sequential()\n",
    "model3.add(Conv2D(filters = 6, kernel_size=3, activation = 'relu', input_shape = (128,39,1), padding = 'same'))\n",
    "model3.add(MaxPooling2D(pool_size= (2,2), padding='same'))\n",
    "model3.add(Conv2D(32, kernel_size=3, activation='relu'))\n",
    "model3.add(MaxPooling2D(pool_size=(2,2), padding='same'))\n",
    "model3.add(Flatten())\n",
    "model3.add(Dense(64, activation = 'relu'))\n",
    "model3.add(Dense(32, activation = 'relu'))\n",
    "model3.add(Dense(5, activation = 'softmax'))"
   ]
  },
  {
   "cell_type": "code",
   "execution_count": 42,
   "metadata": {},
   "outputs": [],
   "source": [
    "model3.compile(loss='categorical_crossentropy',\n",
    "                  optimizer='adam',\n",
    "                  metrics=['accuracy'])"
   ]
  },
  {
   "cell_type": "code",
   "execution_count": 43,
   "metadata": {
    "scrolled": true
   },
   "outputs": [
    {
     "name": "stdout",
     "output_type": "stream",
     "text": [
      "Model: \"sequential_3\"\n",
      "_________________________________________________________________\n",
      "Layer (type)                 Output Shape              Param #   \n",
      "=================================================================\n",
      "conv2d_1 (Conv2D)            (None, 128, 39, 6)        60        \n",
      "_________________________________________________________________\n",
      "max_pooling2d_1 (MaxPooling2 (None, 64, 20, 6)         0         \n",
      "_________________________________________________________________\n",
      "conv2d_2 (Conv2D)            (None, 62, 18, 32)        1760      \n",
      "_________________________________________________________________\n",
      "max_pooling2d_2 (MaxPooling2 (None, 31, 9, 32)         0         \n",
      "_________________________________________________________________\n",
      "flatten_1 (Flatten)          (None, 8928)              0         \n",
      "_________________________________________________________________\n",
      "dense_7 (Dense)              (None, 64)                571456    \n",
      "_________________________________________________________________\n",
      "dense_8 (Dense)              (None, 32)                2080      \n",
      "_________________________________________________________________\n",
      "dense_9 (Dense)              (None, 5)                 165       \n",
      "=================================================================\n",
      "Total params: 575,521\n",
      "Trainable params: 575,521\n",
      "Non-trainable params: 0\n",
      "_________________________________________________________________\n"
     ]
    }
   ],
   "source": [
    "model3.summary()"
   ]
  },
  {
   "cell_type": "code",
   "execution_count": 44,
   "metadata": {
    "scrolled": true
   },
   "outputs": [
    {
     "name": "stdout",
     "output_type": "stream",
     "text": [
      "Train on 442 samples, validate on 111 samples\n",
      "Epoch 1/100\n",
      " - 1s - loss: 5.5851 - accuracy: 0.4299 - val_loss: 3.1161 - val_accuracy: 0.5405\n",
      "Epoch 2/100\n",
      " - 0s - loss: 1.5102 - accuracy: 0.6652 - val_loss: 1.2317 - val_accuracy: 0.6396\n",
      "Epoch 3/100\n",
      " - 0s - loss: 0.5517 - accuracy: 0.8122 - val_loss: 1.0088 - val_accuracy: 0.7387\n",
      "Epoch 4/100\n",
      " - 0s - loss: 0.3037 - accuracy: 0.8914 - val_loss: 0.7912 - val_accuracy: 0.7297\n",
      "Epoch 5/100\n",
      " - 0s - loss: 0.1838 - accuracy: 0.9480 - val_loss: 0.6646 - val_accuracy: 0.7297\n",
      "Epoch 6/100\n",
      " - 0s - loss: 0.1313 - accuracy: 0.9615 - val_loss: 0.7039 - val_accuracy: 0.7477\n",
      "Epoch 7/100\n",
      " - 0s - loss: 0.1045 - accuracy: 0.9774 - val_loss: 0.7994 - val_accuracy: 0.7297\n",
      "Epoch 8/100\n",
      " - 0s - loss: 0.0753 - accuracy: 0.9932 - val_loss: 0.6703 - val_accuracy: 0.7928\n",
      "Epoch 9/100\n",
      " - 0s - loss: 0.0563 - accuracy: 0.9910 - val_loss: 0.7404 - val_accuracy: 0.8018\n",
      "Epoch 10/100\n",
      " - 0s - loss: 0.0407 - accuracy: 1.0000 - val_loss: 0.6855 - val_accuracy: 0.7928\n",
      "Epoch 11/100\n",
      " - 0s - loss: 0.0310 - accuracy: 1.0000 - val_loss: 0.6866 - val_accuracy: 0.8018\n",
      "Epoch 12/100\n",
      " - 0s - loss: 0.0257 - accuracy: 1.0000 - val_loss: 0.6648 - val_accuracy: 0.8108\n",
      "Epoch 13/100\n",
      " - 0s - loss: 0.0207 - accuracy: 1.0000 - val_loss: 0.6801 - val_accuracy: 0.8108\n",
      "Epoch 14/100\n",
      " - 0s - loss: 0.0179 - accuracy: 1.0000 - val_loss: 0.6879 - val_accuracy: 0.8198\n",
      "Epoch 15/100\n",
      " - 0s - loss: 0.0159 - accuracy: 1.0000 - val_loss: 0.6816 - val_accuracy: 0.8198\n",
      "Epoch 16/100\n",
      " - 0s - loss: 0.0140 - accuracy: 1.0000 - val_loss: 0.6995 - val_accuracy: 0.8198\n",
      "Epoch 17/100\n",
      " - 0s - loss: 0.0123 - accuracy: 1.0000 - val_loss: 0.6850 - val_accuracy: 0.8198\n",
      "Epoch 18/100\n",
      " - 0s - loss: 0.0112 - accuracy: 1.0000 - val_loss: 0.7106 - val_accuracy: 0.8198\n",
      "Epoch 19/100\n",
      " - 0s - loss: 0.0099 - accuracy: 1.0000 - val_loss: 0.7169 - val_accuracy: 0.8198\n",
      "Epoch 20/100\n",
      " - 0s - loss: 0.0091 - accuracy: 1.0000 - val_loss: 0.7123 - val_accuracy: 0.8288\n",
      "Epoch 21/100\n",
      " - 0s - loss: 0.0082 - accuracy: 1.0000 - val_loss: 0.7267 - val_accuracy: 0.8288\n",
      "Epoch 22/100\n",
      " - 0s - loss: 0.0075 - accuracy: 1.0000 - val_loss: 0.7225 - val_accuracy: 0.8288\n",
      "Epoch 23/100\n",
      " - 0s - loss: 0.0068 - accuracy: 1.0000 - val_loss: 0.7349 - val_accuracy: 0.8288\n",
      "Epoch 24/100\n",
      " - 0s - loss: 0.0064 - accuracy: 1.0000 - val_loss: 0.7304 - val_accuracy: 0.8288\n",
      "Epoch 25/100\n",
      " - 0s - loss: 0.0058 - accuracy: 1.0000 - val_loss: 0.7438 - val_accuracy: 0.8288\n",
      "Epoch 26/100\n",
      " - 0s - loss: 0.0054 - accuracy: 1.0000 - val_loss: 0.7356 - val_accuracy: 0.8198\n",
      "Epoch 27/100\n",
      " - 0s - loss: 0.0049 - accuracy: 1.0000 - val_loss: 0.7562 - val_accuracy: 0.8288\n",
      "Epoch 28/100\n",
      " - 0s - loss: 0.0045 - accuracy: 1.0000 - val_loss: 0.7496 - val_accuracy: 0.8288\n",
      "Epoch 29/100\n",
      " - 0s - loss: 0.0042 - accuracy: 1.0000 - val_loss: 0.7595 - val_accuracy: 0.8288\n",
      "Epoch 30/100\n",
      " - 0s - loss: 0.0039 - accuracy: 1.0000 - val_loss: 0.7482 - val_accuracy: 0.8378\n",
      "Epoch 31/100\n",
      " - 0s - loss: 0.0036 - accuracy: 1.0000 - val_loss: 0.7531 - val_accuracy: 0.8288\n",
      "Epoch 32/100\n",
      " - 0s - loss: 0.0035 - accuracy: 1.0000 - val_loss: 0.7544 - val_accuracy: 0.8378\n",
      "Epoch 33/100\n",
      " - 0s - loss: 0.0032 - accuracy: 1.0000 - val_loss: 0.7678 - val_accuracy: 0.8378\n",
      "Epoch 34/100\n",
      " - 0s - loss: 0.0029 - accuracy: 1.0000 - val_loss: 0.7629 - val_accuracy: 0.8378\n",
      "Epoch 35/100\n",
      " - 0s - loss: 0.0028 - accuracy: 1.0000 - val_loss: 0.7589 - val_accuracy: 0.8378\n",
      "Epoch 36/100\n",
      " - 0s - loss: 0.0026 - accuracy: 1.0000 - val_loss: 0.7654 - val_accuracy: 0.8288\n",
      "Epoch 37/100\n",
      " - 0s - loss: 0.0025 - accuracy: 1.0000 - val_loss: 0.7656 - val_accuracy: 0.8378\n",
      "Epoch 38/100\n",
      " - 0s - loss: 0.0024 - accuracy: 1.0000 - val_loss: 0.7703 - val_accuracy: 0.8378\n",
      "Epoch 39/100\n",
      " - 0s - loss: 0.0022 - accuracy: 1.0000 - val_loss: 0.7655 - val_accuracy: 0.8378\n",
      "Epoch 40/100\n",
      " - 0s - loss: 0.0021 - accuracy: 1.0000 - val_loss: 0.7749 - val_accuracy: 0.8378\n",
      "Epoch 41/100\n",
      " - 0s - loss: 0.0020 - accuracy: 1.0000 - val_loss: 0.7756 - val_accuracy: 0.8378\n",
      "Epoch 42/100\n",
      " - 0s - loss: 0.0019 - accuracy: 1.0000 - val_loss: 0.7772 - val_accuracy: 0.8288\n",
      "Epoch 43/100\n",
      " - 0s - loss: 0.0018 - accuracy: 1.0000 - val_loss: 0.7855 - val_accuracy: 0.8378\n",
      "Epoch 44/100\n",
      " - 0s - loss: 0.0017 - accuracy: 1.0000 - val_loss: 0.7755 - val_accuracy: 0.8288\n",
      "Epoch 45/100\n",
      " - 0s - loss: 0.0016 - accuracy: 1.0000 - val_loss: 0.7814 - val_accuracy: 0.8378\n",
      "Epoch 46/100\n",
      " - 0s - loss: 0.0015 - accuracy: 1.0000 - val_loss: 0.7804 - val_accuracy: 0.8378\n",
      "Epoch 47/100\n",
      " - 0s - loss: 0.0015 - accuracy: 1.0000 - val_loss: 0.7794 - val_accuracy: 0.8288\n",
      "Epoch 48/100\n",
      " - 0s - loss: 0.0014 - accuracy: 1.0000 - val_loss: 0.7875 - val_accuracy: 0.8288\n",
      "Epoch 49/100\n",
      " - 0s - loss: 0.0014 - accuracy: 1.0000 - val_loss: 0.7873 - val_accuracy: 0.8288\n",
      "Epoch 50/100\n",
      " - 0s - loss: 0.0013 - accuracy: 1.0000 - val_loss: 0.7880 - val_accuracy: 0.8288\n",
      "Epoch 51/100\n",
      " - 0s - loss: 0.0012 - accuracy: 1.0000 - val_loss: 0.7916 - val_accuracy: 0.8288\n",
      "Epoch 52/100\n",
      " - 0s - loss: 0.0012 - accuracy: 1.0000 - val_loss: 0.7927 - val_accuracy: 0.8288\n",
      "Epoch 53/100\n",
      " - 0s - loss: 0.0011 - accuracy: 1.0000 - val_loss: 0.7945 - val_accuracy: 0.8198\n",
      "Epoch 54/100\n",
      " - 0s - loss: 0.0011 - accuracy: 1.0000 - val_loss: 0.7948 - val_accuracy: 0.8198\n",
      "Epoch 55/100\n",
      " - 0s - loss: 0.0011 - accuracy: 1.0000 - val_loss: 0.7955 - val_accuracy: 0.8288\n",
      "Epoch 56/100\n",
      " - 0s - loss: 0.0010 - accuracy: 1.0000 - val_loss: 0.7972 - val_accuracy: 0.8198\n",
      "Epoch 57/100\n",
      " - 0s - loss: 9.8720e-04 - accuracy: 1.0000 - val_loss: 0.7991 - val_accuracy: 0.8288\n",
      "Epoch 58/100\n",
      " - 0s - loss: 9.4530e-04 - accuracy: 1.0000 - val_loss: 0.8072 - val_accuracy: 0.8198\n",
      "Epoch 59/100\n",
      " - 0s - loss: 9.1157e-04 - accuracy: 1.0000 - val_loss: 0.8017 - val_accuracy: 0.8198\n",
      "Epoch 60/100\n",
      " - 0s - loss: 8.7902e-04 - accuracy: 1.0000 - val_loss: 0.8022 - val_accuracy: 0.8198\n",
      "Epoch 61/100\n",
      " - 0s - loss: 8.4757e-04 - accuracy: 1.0000 - val_loss: 0.8071 - val_accuracy: 0.8198\n",
      "Epoch 62/100\n",
      " - 0s - loss: 8.2340e-04 - accuracy: 1.0000 - val_loss: 0.8056 - val_accuracy: 0.8198\n",
      "Epoch 63/100\n",
      " - 0s - loss: 7.9201e-04 - accuracy: 1.0000 - val_loss: 0.8092 - val_accuracy: 0.8198\n",
      "Epoch 64/100\n",
      " - 0s - loss: 7.7502e-04 - accuracy: 1.0000 - val_loss: 0.8154 - val_accuracy: 0.8198\n",
      "Epoch 65/100\n",
      " - 0s - loss: 7.4104e-04 - accuracy: 1.0000 - val_loss: 0.8124 - val_accuracy: 0.8198\n",
      "Epoch 66/100\n",
      " - 0s - loss: 7.2201e-04 - accuracy: 1.0000 - val_loss: 0.8180 - val_accuracy: 0.8198\n",
      "Epoch 67/100\n",
      " - 0s - loss: 6.9459e-04 - accuracy: 1.0000 - val_loss: 0.8151 - val_accuracy: 0.8198\n",
      "Epoch 68/100\n",
      " - 0s - loss: 6.7694e-04 - accuracy: 1.0000 - val_loss: 0.8155 - val_accuracy: 0.8198\n",
      "Epoch 69/100\n",
      " - 0s - loss: 6.5710e-04 - accuracy: 1.0000 - val_loss: 0.8190 - val_accuracy: 0.8198\n",
      "Epoch 70/100\n",
      " - 0s - loss: 6.3892e-04 - accuracy: 1.0000 - val_loss: 0.8207 - val_accuracy: 0.8198\n",
      "Epoch 71/100\n",
      " - 0s - loss: 6.1542e-04 - accuracy: 1.0000 - val_loss: 0.8233 - val_accuracy: 0.8198\n",
      "Epoch 72/100\n",
      " - 0s - loss: 5.9671e-04 - accuracy: 1.0000 - val_loss: 0.8265 - val_accuracy: 0.8198\n",
      "Epoch 73/100\n",
      " - 0s - loss: 5.8367e-04 - accuracy: 1.0000 - val_loss: 0.8319 - val_accuracy: 0.8198\n",
      "Epoch 74/100\n",
      " - 0s - loss: 5.6476e-04 - accuracy: 1.0000 - val_loss: 0.8274 - val_accuracy: 0.8198\n",
      "Epoch 75/100\n",
      " - 0s - loss: 5.4646e-04 - accuracy: 1.0000 - val_loss: 0.8342 - val_accuracy: 0.8198\n",
      "Epoch 76/100\n",
      " - 0s - loss: 5.3474e-04 - accuracy: 1.0000 - val_loss: 0.8335 - val_accuracy: 0.8198\n",
      "Epoch 77/100\n",
      " - 0s - loss: 5.1838e-04 - accuracy: 1.0000 - val_loss: 0.8365 - val_accuracy: 0.8198\n",
      "Epoch 78/100\n",
      " - 0s - loss: 5.0117e-04 - accuracy: 1.0000 - val_loss: 0.8363 - val_accuracy: 0.8198\n",
      "Epoch 79/100\n",
      " - 0s - loss: 4.8905e-04 - accuracy: 1.0000 - val_loss: 0.8448 - val_accuracy: 0.8198\n",
      "Epoch 80/100\n",
      " - 0s - loss: 4.7439e-04 - accuracy: 1.0000 - val_loss: 0.8378 - val_accuracy: 0.8198\n",
      "Epoch 81/100\n",
      " - 0s - loss: 4.6133e-04 - accuracy: 1.0000 - val_loss: 0.8489 - val_accuracy: 0.8198\n",
      "Epoch 82/100\n",
      " - 0s - loss: 4.4804e-04 - accuracy: 1.0000 - val_loss: 0.8415 - val_accuracy: 0.8198\n",
      "Epoch 83/100\n",
      " - 0s - loss: 4.3376e-04 - accuracy: 1.0000 - val_loss: 0.8486 - val_accuracy: 0.8198\n",
      "Epoch 84/100\n",
      " - 0s - loss: 4.2307e-04 - accuracy: 1.0000 - val_loss: 0.8469 - val_accuracy: 0.8198\n",
      "Epoch 85/100\n",
      " - 0s - loss: 4.1136e-04 - accuracy: 1.0000 - val_loss: 0.8465 - val_accuracy: 0.8198\n"
     ]
    },
    {
     "name": "stdout",
     "output_type": "stream",
     "text": [
      "Epoch 86/100\n",
      " - 0s - loss: 4.0006e-04 - accuracy: 1.0000 - val_loss: 0.8516 - val_accuracy: 0.8198\n",
      "Epoch 87/100\n",
      " - 0s - loss: 3.9264e-04 - accuracy: 1.0000 - val_loss: 0.8505 - val_accuracy: 0.8198\n",
      "Epoch 88/100\n",
      " - 0s - loss: 3.8215e-04 - accuracy: 1.0000 - val_loss: 0.8558 - val_accuracy: 0.8198\n",
      "Epoch 89/100\n",
      " - 0s - loss: 3.7113e-04 - accuracy: 1.0000 - val_loss: 0.8491 - val_accuracy: 0.8198\n",
      "Epoch 90/100\n",
      " - 0s - loss: 3.6237e-04 - accuracy: 1.0000 - val_loss: 0.8573 - val_accuracy: 0.8198\n",
      "Epoch 91/100\n",
      " - 0s - loss: 3.5372e-04 - accuracy: 1.0000 - val_loss: 0.8552 - val_accuracy: 0.8198\n",
      "Epoch 92/100\n",
      " - 0s - loss: 3.4351e-04 - accuracy: 1.0000 - val_loss: 0.8597 - val_accuracy: 0.8198\n",
      "Epoch 93/100\n",
      " - 0s - loss: 3.3678e-04 - accuracy: 1.0000 - val_loss: 0.8570 - val_accuracy: 0.8198\n",
      "Epoch 94/100\n",
      " - 0s - loss: 3.2917e-04 - accuracy: 1.0000 - val_loss: 0.8575 - val_accuracy: 0.8198\n",
      "Epoch 95/100\n",
      " - 0s - loss: 3.2014e-04 - accuracy: 1.0000 - val_loss: 0.8638 - val_accuracy: 0.8198\n",
      "Epoch 96/100\n",
      " - 0s - loss: 3.1700e-04 - accuracy: 1.0000 - val_loss: 0.8561 - val_accuracy: 0.8198\n",
      "Epoch 97/100\n",
      " - 0s - loss: 3.0662e-04 - accuracy: 1.0000 - val_loss: 0.8601 - val_accuracy: 0.8198\n",
      "Epoch 98/100\n",
      " - 0s - loss: 2.9917e-04 - accuracy: 1.0000 - val_loss: 0.8611 - val_accuracy: 0.8198\n",
      "Epoch 99/100\n",
      " - 0s - loss: 2.9133e-04 - accuracy: 1.0000 - val_loss: 0.8647 - val_accuracy: 0.8198\n",
      "Epoch 100/100\n",
      " - 0s - loss: 2.8415e-04 - accuracy: 1.0000 - val_loss: 0.8697 - val_accuracy: 0.8198\n"
     ]
    }
   ],
   "source": [
    "history = model3.fit(X_train_3,\n",
    "                        y_train,\n",
    "                        batch_size=32,\n",
    "                        validation_data=(X_test_3, y_test),\n",
    "                        epochs=100,\n",
    "                        verbose=2)"
   ]
  },
  {
   "cell_type": "code",
   "execution_count": 45,
   "metadata": {
    "scrolled": true
   },
   "outputs": [
    {
     "data": {
      "text/plain": [
       "<matplotlib.legend.Legend at 0x21662e30518>"
      ]
     },
     "execution_count": 45,
     "metadata": {},
     "output_type": "execute_result"
    },
    {
     "data": {
      "image/png": "[encoded data removed]",
      "text/plain": [
       "<Figure size 432x288 with 1 Axes>"
      ]
     },
     "metadata": {
      "needs_background": "light"
     },
     "output_type": "display_data"
    }
   ],
   "source": [
    "plt.plot(history.history['loss'], label = ' Training Loss')\n",
    "plt.plot(history.history['val_loss'], label = ' Test Loss')\n",
    "plt.legend()"
   ]
  },
  {
   "cell_type": "code",
   "execution_count": 46,
   "metadata": {},
   "outputs": [
    {
     "data": {
      "text/plain": [
       "<matplotlib.legend.Legend at 0x21662ea1278>"
      ]
     },
     "execution_count": 46,
     "metadata": {},
     "output_type": "execute_result"
    },
    {
     "data": {
      "image/png": "[encoded data removed]",
      "text/plain": [
       "<Figure size 432x288 with 1 Axes>"
      ]
     },
     "metadata": {
      "needs_background": "light"
     },
     "output_type": "display_data"
    }
   ],
   "source": [
    "plt.plot(history.history['accuracy'], label = ' Training Accuracy')\n",
    "plt.plot(history.history['val_accuracy'], label = ' Test Accuracy')\n",
    "plt.legend()"
   ]
  },
  {
   "cell_type": "code",
   "execution_count": 47,
   "metadata": {},
   "outputs": [
    {
     "name": "stdout",
     "output_type": "stream",
     "text": [
      "111/111 [==============================] - 0s 90us/step\n"
     ]
    }
   ],
   "source": [
    "model3_eval = model3.evaluate(X_test_3,y_test, verbose=1)\n",
    "model3_metrics = model3.metrics_names"
   ]
  },
  {
   "cell_type": "markdown",
   "metadata": {},
   "source": [
    "**CNN**\n",
    "\n",
    "model 4:\n",
    "\n",
    "classifier: CNN with picture WIP"
   ]
  },
  {
   "cell_type": "code",
   "execution_count": 48,
   "metadata": {},
   "outputs": [],
   "source": [
    "# Not yet"
   ]
  },
  {
   "cell_type": "markdown",
   "metadata": {},
   "source": [
    "**RNN**\n",
    "\n",
    "Feeding same data as melspectrogram is possible."
   ]
  },
  {
   "cell_type": "code",
   "execution_count": 49,
   "metadata": {},
   "outputs": [],
   "source": [
    "X_train_5, X_test_5, y_train, y_test = train_test_split(X, y, test_size = 0.2, random_state = 42, stratify = y)"
   ]
  },
  {
   "cell_type": "code",
   "execution_count": 50,
   "metadata": {},
   "outputs": [],
   "source": [
    "model5 = Sequential()\n",
    "\n",
    "model5.add(LSTM(64, input_shape = (128,39), return_sequences=True))\n",
    "model5.add(LSTM(64, return_sequences=False ))\n",
    "model5.add(Dense(64, activation = 'relu'))\n",
    "model5.add(Dropout(0.3))\n",
    "\n",
    "model5.add(Dense(5, activation = 'softmax'))"
   ]
  },
  {
   "cell_type": "code",
   "execution_count": 51,
   "metadata": {},
   "outputs": [],
   "source": [
    "model5.compile(optimizer = 'Adam', loss = 'categorical_crossentropy', metrics = ['accuracy'])"
   ]
  },
  {
   "cell_type": "code",
   "execution_count": 52,
   "metadata": {},
   "outputs": [
    {
     "name": "stdout",
     "output_type": "stream",
     "text": [
      "Model: \"sequential_4\"\n",
      "_________________________________________________________________\n",
      "Layer (type)                 Output Shape              Param #   \n",
      "=================================================================\n",
      "lstm_1 (LSTM)                (None, 128, 64)           26624     \n",
      "_________________________________________________________________\n",
      "lstm_2 (LSTM)                (None, 64)                33024     \n",
      "_________________________________________________________________\n",
      "dense_10 (Dense)             (None, 64)                4160      \n",
      "_________________________________________________________________\n",
      "dropout_1 (Dropout)          (None, 64)                0         \n",
      "_________________________________________________________________\n",
      "dense_11 (Dense)             (None, 5)                 325       \n",
      "=================================================================\n",
      "Total params: 64,133\n",
      "Trainable params: 64,133\n",
      "Non-trainable params: 0\n",
      "_________________________________________________________________\n"
     ]
    }
   ],
   "source": [
    "model5.summary()"
   ]
  },
  {
   "cell_type": "code",
   "execution_count": 53,
   "metadata": {
    "scrolled": true
   },
   "outputs": [
    {
     "name": "stdout",
     "output_type": "stream",
     "text": [
      "Train on 442 samples, validate on 111 samples\n",
      "Epoch 1/100\n",
      " - 3s - loss: 1.5900 - accuracy: 0.2466 - val_loss: 1.5110 - val_accuracy: 0.2432\n",
      "Epoch 2/100\n",
      " - 2s - loss: 1.4513 - accuracy: 0.3620 - val_loss: 1.3315 - val_accuracy: 0.3333\n",
      "Epoch 3/100\n",
      " - 2s - loss: 1.3495 - accuracy: 0.3688 - val_loss: 1.2557 - val_accuracy: 0.3874\n",
      "Epoch 4/100\n",
      " - 2s - loss: 1.2847 - accuracy: 0.4005 - val_loss: 1.2234 - val_accuracy: 0.4414\n",
      "Epoch 5/100\n",
      " - 2s - loss: 1.2635 - accuracy: 0.3688 - val_loss: 1.1707 - val_accuracy: 0.4144\n",
      "Epoch 6/100\n",
      " - 2s - loss: 1.1569 - accuracy: 0.4932 - val_loss: 1.1556 - val_accuracy: 0.4144\n",
      "Epoch 7/100\n",
      " - 2s - loss: 1.0852 - accuracy: 0.5000 - val_loss: 0.9817 - val_accuracy: 0.5856\n",
      "Epoch 8/100\n",
      " - 2s - loss: 0.9596 - accuracy: 0.6290 - val_loss: 1.0045 - val_accuracy: 0.5946\n",
      "Epoch 9/100\n",
      " - 2s - loss: 1.0100 - accuracy: 0.5905 - val_loss: 0.9523 - val_accuracy: 0.5946\n",
      "Epoch 10/100\n",
      " - 2s - loss: 0.8313 - accuracy: 0.6652 - val_loss: 0.9135 - val_accuracy: 0.6036\n",
      "Epoch 11/100\n",
      " - 2s - loss: 0.7918 - accuracy: 0.6878 - val_loss: 1.0785 - val_accuracy: 0.5766\n",
      "Epoch 12/100\n",
      " - 2s - loss: 0.7952 - accuracy: 0.6652 - val_loss: 0.9036 - val_accuracy: 0.6306\n",
      "Epoch 13/100\n",
      " - 2s - loss: 0.7268 - accuracy: 0.7172 - val_loss: 0.8164 - val_accuracy: 0.6847\n",
      "Epoch 14/100\n",
      " - 2s - loss: 0.6678 - accuracy: 0.7398 - val_loss: 0.7303 - val_accuracy: 0.7207\n",
      "Epoch 15/100\n",
      " - 2s - loss: 0.6238 - accuracy: 0.7805 - val_loss: 0.7345 - val_accuracy: 0.7207\n",
      "Epoch 16/100\n",
      " - 2s - loss: 0.5509 - accuracy: 0.8281 - val_loss: 0.6118 - val_accuracy: 0.7928\n",
      "Epoch 17/100\n",
      " - 2s - loss: 0.5607 - accuracy: 0.8303 - val_loss: 0.6777 - val_accuracy: 0.7838\n",
      "Epoch 18/100\n",
      " - 2s - loss: 0.6259 - accuracy: 0.8009 - val_loss: 0.7453 - val_accuracy: 0.7477\n",
      "Epoch 19/100\n",
      " - 2s - loss: 0.5653 - accuracy: 0.8190 - val_loss: 0.7420 - val_accuracy: 0.7748\n",
      "Epoch 20/100\n",
      " - 2s - loss: 0.6305 - accuracy: 0.8077 - val_loss: 0.6475 - val_accuracy: 0.8108\n",
      "Epoch 21/100\n",
      " - 2s - loss: 0.5288 - accuracy: 0.8597 - val_loss: 0.7306 - val_accuracy: 0.7297\n",
      "Epoch 22/100\n",
      " - 2s - loss: 0.5342 - accuracy: 0.8213 - val_loss: 0.6070 - val_accuracy: 0.8018\n",
      "Epoch 23/100\n",
      " - 2s - loss: 0.4900 - accuracy: 0.8439 - val_loss: 0.4700 - val_accuracy: 0.8559\n",
      "Epoch 24/100\n",
      " - 2s - loss: 0.3722 - accuracy: 0.9027 - val_loss: 0.4626 - val_accuracy: 0.8468\n",
      "Epoch 25/100\n",
      " - 2s - loss: 0.3661 - accuracy: 0.8937 - val_loss: 0.5119 - val_accuracy: 0.8378\n",
      "Epoch 26/100\n",
      " - 2s - loss: 0.3418 - accuracy: 0.9140 - val_loss: 0.5045 - val_accuracy: 0.8288\n",
      "Epoch 27/100\n",
      " - 2s - loss: 0.3076 - accuracy: 0.9231 - val_loss: 0.4495 - val_accuracy: 0.8559\n",
      "Epoch 28/100\n",
      " - 2s - loss: 0.3561 - accuracy: 0.9005 - val_loss: 0.7031 - val_accuracy: 0.7568\n",
      "Epoch 29/100\n",
      " - 2s - loss: 0.3818 - accuracy: 0.8756 - val_loss: 0.6920 - val_accuracy: 0.8108\n",
      "Epoch 30/100\n",
      " - 2s - loss: 0.4099 - accuracy: 0.8846 - val_loss: 0.7137 - val_accuracy: 0.7838\n",
      "Epoch 31/100\n",
      " - 2s - loss: 0.4412 - accuracy: 0.8643 - val_loss: 0.5834 - val_accuracy: 0.8378\n",
      "Epoch 32/100\n",
      " - 2s - loss: 0.3883 - accuracy: 0.9027 - val_loss: 0.6404 - val_accuracy: 0.8288\n",
      "Epoch 33/100\n",
      " - 2s - loss: 0.3214 - accuracy: 0.9095 - val_loss: 0.6549 - val_accuracy: 0.8198\n",
      "Epoch 34/100\n",
      " - 2s - loss: 0.2815 - accuracy: 0.9208 - val_loss: 0.6511 - val_accuracy: 0.8378\n",
      "Epoch 35/100\n",
      " - 2s - loss: 0.2917 - accuracy: 0.9231 - val_loss: 0.7643 - val_accuracy: 0.8018\n",
      "Epoch 36/100\n",
      " - 2s - loss: 0.3109 - accuracy: 0.9072 - val_loss: 0.7356 - val_accuracy: 0.7838\n",
      "Epoch 37/100\n",
      " - 2s - loss: 0.3099 - accuracy: 0.9208 - val_loss: 0.6203 - val_accuracy: 0.8378\n",
      "Epoch 38/100\n",
      " - 2s - loss: 0.3434 - accuracy: 0.8982 - val_loss: 0.6188 - val_accuracy: 0.8198\n",
      "Epoch 39/100\n",
      " - 2s - loss: 0.3948 - accuracy: 0.8824 - val_loss: 0.7199 - val_accuracy: 0.7928\n",
      "Epoch 40/100\n",
      " - 2s - loss: 0.3654 - accuracy: 0.8937 - val_loss: 0.7795 - val_accuracy: 0.7297\n",
      "Epoch 41/100\n",
      " - 2s - loss: 0.3919 - accuracy: 0.8665 - val_loss: 0.6625 - val_accuracy: 0.8018\n",
      "Epoch 42/100\n",
      " - 2s - loss: 0.3328 - accuracy: 0.8959 - val_loss: 0.7267 - val_accuracy: 0.7928\n",
      "Epoch 43/100\n",
      " - 2s - loss: 0.3025 - accuracy: 0.9027 - val_loss: 0.5813 - val_accuracy: 0.8288\n",
      "Epoch 44/100\n",
      " - 2s - loss: 0.3790 - accuracy: 0.8824 - val_loss: 0.4834 - val_accuracy: 0.8559\n",
      "Epoch 45/100\n",
      " - 2s - loss: 0.3832 - accuracy: 0.8937 - val_loss: 0.6757 - val_accuracy: 0.7928\n",
      "Epoch 46/100\n",
      " - 2s - loss: 0.2472 - accuracy: 0.9299 - val_loss: 0.6921 - val_accuracy: 0.8018\n",
      "Epoch 47/100\n",
      " - 2s - loss: 0.3263 - accuracy: 0.8891 - val_loss: 0.9040 - val_accuracy: 0.7838\n",
      "Epoch 48/100\n",
      " - 2s - loss: 0.3958 - accuracy: 0.8914 - val_loss: 0.6045 - val_accuracy: 0.8378\n",
      "Epoch 49/100\n",
      " - 2s - loss: 0.2727 - accuracy: 0.9276 - val_loss: 0.5165 - val_accuracy: 0.8198\n",
      "Epoch 50/100\n",
      " - 2s - loss: 0.3504 - accuracy: 0.8959 - val_loss: 0.5343 - val_accuracy: 0.8288\n",
      "Epoch 51/100\n",
      " - 2s - loss: 0.3487 - accuracy: 0.8846 - val_loss: 0.5681 - val_accuracy: 0.8559\n",
      "Epoch 52/100\n",
      " - 2s - loss: 0.2619 - accuracy: 0.9208 - val_loss: 0.5340 - val_accuracy: 0.8378\n",
      "Epoch 53/100\n",
      " - 2s - loss: 0.2560 - accuracy: 0.9276 - val_loss: 0.5896 - val_accuracy: 0.8559\n",
      "Epoch 54/100\n",
      " - 2s - loss: 0.3468 - accuracy: 0.8869 - val_loss: 0.6909 - val_accuracy: 0.7658\n",
      "Epoch 55/100\n",
      " - 2s - loss: 0.3556 - accuracy: 0.8507 - val_loss: 0.6431 - val_accuracy: 0.8108\n",
      "Epoch 56/100\n",
      " - 2s - loss: 0.3292 - accuracy: 0.8891 - val_loss: 0.5942 - val_accuracy: 0.8468\n",
      "Epoch 57/100\n",
      " - 2s - loss: 0.2801 - accuracy: 0.9140 - val_loss: 0.6156 - val_accuracy: 0.8378\n",
      "Epoch 58/100\n",
      " - 2s - loss: 0.2991 - accuracy: 0.9140 - val_loss: 0.6564 - val_accuracy: 0.8378\n",
      "Epoch 59/100\n",
      " - 2s - loss: 0.2927 - accuracy: 0.9095 - val_loss: 0.6215 - val_accuracy: 0.8378\n",
      "Epoch 60/100\n",
      " - 2s - loss: 0.2842 - accuracy: 0.9140 - val_loss: 0.7143 - val_accuracy: 0.8468\n",
      "Epoch 61/100\n",
      " - 2s - loss: 0.2624 - accuracy: 0.9118 - val_loss: 0.6206 - val_accuracy: 0.8468\n",
      "Epoch 62/100\n",
      " - 2s - loss: 0.2791 - accuracy: 0.9231 - val_loss: 0.6329 - val_accuracy: 0.8468\n",
      "Epoch 63/100\n",
      " - 2s - loss: 0.2274 - accuracy: 0.9389 - val_loss: 0.7030 - val_accuracy: 0.8288\n",
      "Epoch 64/100\n",
      " - 2s - loss: 0.1913 - accuracy: 0.9457 - val_loss: 0.6748 - val_accuracy: 0.8288\n",
      "Epoch 65/100\n",
      " - 2s - loss: 0.1907 - accuracy: 0.9457 - val_loss: 0.7189 - val_accuracy: 0.8018\n",
      "Epoch 66/100\n",
      " - 2s - loss: 0.1955 - accuracy: 0.9502 - val_loss: 0.7412 - val_accuracy: 0.8108\n",
      "Epoch 67/100\n",
      " - 2s - loss: 0.1699 - accuracy: 0.9548 - val_loss: 0.7167 - val_accuracy: 0.8288\n",
      "Epoch 68/100\n",
      " - 2s - loss: 0.1483 - accuracy: 0.9593 - val_loss: 0.6691 - val_accuracy: 0.8378\n",
      "Epoch 69/100\n",
      " - 2s - loss: 0.1899 - accuracy: 0.9389 - val_loss: 0.7076 - val_accuracy: 0.8378\n",
      "Epoch 70/100\n",
      " - 2s - loss: 0.2506 - accuracy: 0.9389 - val_loss: 0.7969 - val_accuracy: 0.8378\n",
      "Epoch 71/100\n",
      " - 2s - loss: 0.1868 - accuracy: 0.9434 - val_loss: 0.5878 - val_accuracy: 0.8649\n",
      "Epoch 72/100\n",
      " - 2s - loss: 0.1554 - accuracy: 0.9548 - val_loss: 0.5956 - val_accuracy: 0.8649\n",
      "Epoch 73/100\n",
      " - 2s - loss: 0.1483 - accuracy: 0.9615 - val_loss: 0.6463 - val_accuracy: 0.8649\n",
      "Epoch 74/100\n",
      " - 2s - loss: 0.1316 - accuracy: 0.9638 - val_loss: 0.6669 - val_accuracy: 0.8378\n",
      "Epoch 75/100\n",
      " - 2s - loss: 0.1262 - accuracy: 0.9638 - val_loss: 0.6092 - val_accuracy: 0.8559\n",
      "Epoch 76/100\n",
      " - 2s - loss: 0.1364 - accuracy: 0.9615 - val_loss: 0.9770 - val_accuracy: 0.7207\n",
      "Epoch 77/100\n",
      " - 2s - loss: 0.2929 - accuracy: 0.8959 - val_loss: 0.7359 - val_accuracy: 0.7568\n",
      "Epoch 78/100\n",
      " - 2s - loss: 0.1828 - accuracy: 0.9457 - val_loss: 0.6408 - val_accuracy: 0.8108\n",
      "Epoch 79/100\n",
      " - 2s - loss: 0.1295 - accuracy: 0.9593 - val_loss: 0.7922 - val_accuracy: 0.8018\n",
      "Epoch 80/100\n",
      " - 2s - loss: 0.2173 - accuracy: 0.9367 - val_loss: 0.7064 - val_accuracy: 0.8288\n",
      "Epoch 81/100\n",
      " - 2s - loss: 0.1559 - accuracy: 0.9525 - val_loss: 0.9716 - val_accuracy: 0.7568\n",
      "Epoch 82/100\n",
      " - 2s - loss: 0.3641 - accuracy: 0.9027 - val_loss: 1.0833 - val_accuracy: 0.7387\n",
      "Epoch 83/100\n",
      " - 2s - loss: 0.4925 - accuracy: 0.8145 - val_loss: 0.8092 - val_accuracy: 0.7658\n",
      "Epoch 84/100\n",
      " - 2s - loss: 0.3539 - accuracy: 0.8914 - val_loss: 0.5297 - val_accuracy: 0.8378\n",
      "Epoch 85/100\n",
      " - 2s - loss: 0.2728 - accuracy: 0.9186 - val_loss: 0.6555 - val_accuracy: 0.8108\n",
      "Epoch 86/100\n",
      " - 2s - loss: 0.2449 - accuracy: 0.9344 - val_loss: 0.7116 - val_accuracy: 0.7838\n"
     ]
    },
    {
     "name": "stdout",
     "output_type": "stream",
     "text": [
      "Epoch 87/100\n",
      " - 2s - loss: 0.1904 - accuracy: 0.9344 - val_loss: 0.7107 - val_accuracy: 0.8288\n",
      "Epoch 88/100\n",
      " - 2s - loss: 0.2182 - accuracy: 0.9276 - val_loss: 0.6892 - val_accuracy: 0.8468\n",
      "Epoch 89/100\n",
      " - 2s - loss: 0.2595 - accuracy: 0.9299 - val_loss: 0.5939 - val_accuracy: 0.8288\n",
      "Epoch 90/100\n",
      " - 2s - loss: 0.1965 - accuracy: 0.9344 - val_loss: 0.5189 - val_accuracy: 0.8739\n",
      "Epoch 91/100\n",
      " - 2s - loss: 0.2188 - accuracy: 0.9321 - val_loss: 0.6823 - val_accuracy: 0.8108\n",
      "Epoch 92/100\n",
      " - 2s - loss: 0.1882 - accuracy: 0.9389 - val_loss: 0.6558 - val_accuracy: 0.8108\n",
      "Epoch 93/100\n",
      " - 2s - loss: 0.1604 - accuracy: 0.9525 - val_loss: 0.6853 - val_accuracy: 0.8378\n",
      "Epoch 94/100\n",
      " - 2s - loss: 0.1427 - accuracy: 0.9548 - val_loss: 0.7912 - val_accuracy: 0.8018\n",
      "Epoch 95/100\n",
      " - 2s - loss: 0.1381 - accuracy: 0.9570 - val_loss: 0.7744 - val_accuracy: 0.8288\n",
      "Epoch 96/100\n",
      " - 2s - loss: 0.1267 - accuracy: 0.9570 - val_loss: 0.8295 - val_accuracy: 0.8108\n",
      "Epoch 97/100\n",
      " - 2s - loss: 0.1225 - accuracy: 0.9615 - val_loss: 0.8241 - val_accuracy: 0.8198\n",
      "Epoch 98/100\n",
      " - 2s - loss: 0.1252 - accuracy: 0.9593 - val_loss: 0.8040 - val_accuracy: 0.8378\n",
      "Epoch 99/100\n",
      " - 2s - loss: 0.1085 - accuracy: 0.9638 - val_loss: 0.7906 - val_accuracy: 0.8288\n",
      "Epoch 100/100\n",
      " - 2s - loss: 0.1010 - accuracy: 0.9661 - val_loss: 0.8040 - val_accuracy: 0.8468\n"
     ]
    }
   ],
   "source": [
    "history = model5.fit(X_train_5,\n",
    "                        y_train,\n",
    "                        batch_size=32,\n",
    "                        validation_data=(X_test_5, y_test),\n",
    "                        epochs=100,\n",
    "                        verbose=2)"
   ]
  },
  {
   "cell_type": "code",
   "execution_count": 54,
   "metadata": {},
   "outputs": [
    {
     "data": {
      "text/plain": [
       "<matplotlib.legend.Legend at 0x217c145e400>"
      ]
     },
     "execution_count": 54,
     "metadata": {},
     "output_type": "execute_result"
    },
    {
     "data": {
      "image/png": "[encoded data removed]",
      "text/plain": [
       "<Figure size 432x288 with 1 Axes>"
      ]
     },
     "metadata": {
      "needs_background": "light"
     },
     "output_type": "display_data"
    }
   ],
   "source": [
    "plt.plot(history.history['loss'], label = ' Training Loss')\n",
    "plt.plot(history.history['val_loss'], label = ' Test Loss')\n",
    "plt.legend()"
   ]
  },
  {
   "cell_type": "code",
   "execution_count": 55,
   "metadata": {},
   "outputs": [
    {
     "data": {
      "text/plain": [
       "<matplotlib.legend.Legend at 0x217c14cde10>"
      ]
     },
     "execution_count": 55,
     "metadata": {},
     "output_type": "execute_result"
    },
    {
     "data": {
      "image/png": "[encoded data removed]",
      "text/plain": [
       "<Figure size 432x288 with 1 Axes>"
      ]
     },
     "metadata": {
      "needs_background": "light"
     },
     "output_type": "display_data"
    }
   ],
   "source": [
    "plt.plot(history.history['accuracy'], label = ' Training Accuracy')\n",
    "plt.plot(history.history['val_accuracy'], label = ' Test Accuracy')\n",
    "plt.legend()"
   ]
  },
  {
   "cell_type": "code",
   "execution_count": 56,
   "metadata": {},
   "outputs": [
    {
     "name": "stdout",
     "output_type": "stream",
     "text": [
      "111/111 [==============================] - 0s 1ms/step\n"
     ]
    }
   ],
   "source": [
    "model5_eval = model5.evaluate(X_test_5,y_test, verbose=1)\n",
    "model5_metrics = model5.metrics_names"
   ]
  },
  {
   "cell_type": "markdown",
   "metadata": {},
   "source": [
    "**Model 6**\n",
    "mfcc with padding"
   ]
  },
  {
   "cell_type": "code",
   "execution_count": 57,
   "metadata": {},
   "outputs": [],
   "source": [
    "def get_mfcc(file, n_mfcc=40):\n",
    "    audio, sr = librosa.load(file) \n",
    "    mfccs = librosa.feature.mfcc(y=audio, sr=sr, n_mfcc=n_mfcc)\n",
    "    return mfccs.T"
   ]
  },
  {
   "cell_type": "code",
   "execution_count": 58,
   "metadata": {},
   "outputs": [],
   "source": [
    "mfcc = features_df['filepath'].map(get_mfcc)"
   ]
  },
  {
   "cell_type": "code",
   "execution_count": 59,
   "metadata": {},
   "outputs": [],
   "source": [
    "X = pad_sequences(mfcc, padding='post')"
   ]
  },
  {
   "cell_type": "code",
   "execution_count": 60,
   "metadata": {},
   "outputs": [
    {
     "data": {
      "text/plain": [
       "(553, 39, 40)"
      ]
     },
     "execution_count": 60,
     "metadata": {},
     "output_type": "execute_result"
    }
   ],
   "source": [
    "X.shape"
   ]
  },
  {
   "cell_type": "code",
   "execution_count": 61,
   "metadata": {},
   "outputs": [],
   "source": [
    "X_train_6, X_test_6, y_train, y_test = train_test_split(X, y, test_size = 0.2, random_state = 42, stratify = y)"
   ]
  },
  {
   "cell_type": "code",
   "execution_count": 62,
   "metadata": {},
   "outputs": [],
   "source": [
    "model6 = Sequential()\n",
    "\n",
    "model6.add(Masking(mask_value=0, input_shape=(39, 40)))\n",
    "model6.add(LSTM(64, input_shape = (39,40), return_sequences=True))\n",
    "model6.add(LSTM(64, return_sequences=False ))\n",
    "model6.add(Dense(64, activation = 'relu'))\n",
    "model6.add(Dropout(0.3))\n",
    "\n",
    "model6.add(Dense(5, activation = 'softmax'))"
   ]
  },
  {
   "cell_type": "code",
   "execution_count": 63,
   "metadata": {},
   "outputs": [],
   "source": [
    "model6.compile(optimizer = 'Adam', loss = 'categorical_crossentropy', metrics = ['accuracy'])"
   ]
  },
  {
   "cell_type": "code",
   "execution_count": 64,
   "metadata": {},
   "outputs": [
    {
     "name": "stdout",
     "output_type": "stream",
     "text": [
      "Model: \"sequential_5\"\n",
      "_________________________________________________________________\n",
      "Layer (type)                 Output Shape              Param #   \n",
      "=================================================================\n",
      "masking_1 (Masking)          (None, 39, 40)            0         \n",
      "_________________________________________________________________\n",
      "lstm_3 (LSTM)                (None, 39, 64)            26880     \n",
      "_________________________________________________________________\n",
      "lstm_4 (LSTM)                (None, 64)                33024     \n",
      "_________________________________________________________________\n",
      "dense_12 (Dense)             (None, 64)                4160      \n",
      "_________________________________________________________________\n",
      "dropout_2 (Dropout)          (None, 64)                0         \n",
      "_________________________________________________________________\n",
      "dense_13 (Dense)             (None, 5)                 325       \n",
      "=================================================================\n",
      "Total params: 64,389\n",
      "Trainable params: 64,389\n",
      "Non-trainable params: 0\n",
      "_________________________________________________________________\n"
     ]
    }
   ],
   "source": [
    "model6.summary()"
   ]
  },
  {
   "cell_type": "code",
   "execution_count": 65,
   "metadata": {},
   "outputs": [
    {
     "name": "stdout",
     "output_type": "stream",
     "text": [
      "Train on 442 samples, validate on 111 samples\n",
      "Epoch 1/100\n",
      " - 2s - loss: 1.5683 - accuracy: 0.2534 - val_loss: 1.4895 - val_accuracy: 0.4955\n",
      "Epoch 2/100\n",
      " - 1s - loss: 1.3896 - accuracy: 0.4615 - val_loss: 1.2068 - val_accuracy: 0.6396\n",
      "Epoch 3/100\n",
      " - 1s - loss: 1.0291 - accuracy: 0.6244 - val_loss: 0.8503 - val_accuracy: 0.7027\n",
      "Epoch 4/100\n",
      " - 1s - loss: 0.7518 - accuracy: 0.6810 - val_loss: 0.7017 - val_accuracy: 0.7207\n",
      "Epoch 5/100\n",
      " - 1s - loss: 0.4848 - accuracy: 0.8167 - val_loss: 0.4442 - val_accuracy: 0.8108\n",
      "Epoch 6/100\n",
      " - 1s - loss: 0.3150 - accuracy: 0.9072 - val_loss: 0.4069 - val_accuracy: 0.8649\n",
      "Epoch 7/100\n",
      " - 1s - loss: 0.2221 - accuracy: 0.9367 - val_loss: 0.3381 - val_accuracy: 0.9009\n",
      "Epoch 8/100\n",
      " - 1s - loss: 0.1386 - accuracy: 0.9570 - val_loss: 0.2847 - val_accuracy: 0.9009\n",
      "Epoch 9/100\n",
      " - 1s - loss: 0.0667 - accuracy: 0.9842 - val_loss: 0.2613 - val_accuracy: 0.9189\n",
      "Epoch 10/100\n",
      " - 1s - loss: 0.0393 - accuracy: 0.9932 - val_loss: 0.2542 - val_accuracy: 0.9279\n",
      "Epoch 11/100\n",
      " - 1s - loss: 0.0259 - accuracy: 1.0000 - val_loss: 0.2540 - val_accuracy: 0.9189\n",
      "Epoch 12/100\n",
      " - 1s - loss: 0.0186 - accuracy: 0.9977 - val_loss: 0.2650 - val_accuracy: 0.9189\n",
      "Epoch 13/100\n",
      " - 1s - loss: 0.0189 - accuracy: 1.0000 - val_loss: 0.2660 - val_accuracy: 0.9189\n",
      "Epoch 14/100\n",
      " - 1s - loss: 0.0167 - accuracy: 0.9932 - val_loss: 0.2832 - val_accuracy: 0.9099\n",
      "Epoch 15/100\n",
      " - 1s - loss: 0.0340 - accuracy: 0.9887 - val_loss: 0.2746 - val_accuracy: 0.9189\n",
      "Epoch 16/100\n",
      " - 1s - loss: 0.0461 - accuracy: 0.9864 - val_loss: 0.3126 - val_accuracy: 0.9189\n",
      "Epoch 17/100\n",
      " - 1s - loss: 0.0184 - accuracy: 0.9977 - val_loss: 0.3911 - val_accuracy: 0.9099\n",
      "Epoch 18/100\n",
      " - 1s - loss: 0.0270 - accuracy: 0.9932 - val_loss: 0.2327 - val_accuracy: 0.9279\n",
      "Epoch 19/100\n",
      " - 1s - loss: 0.0085 - accuracy: 1.0000 - val_loss: 0.2272 - val_accuracy: 0.9279\n",
      "Epoch 20/100\n",
      " - 1s - loss: 0.0050 - accuracy: 1.0000 - val_loss: 0.2489 - val_accuracy: 0.9189\n",
      "Epoch 21/100\n",
      " - 1s - loss: 0.0050 - accuracy: 1.0000 - val_loss: 0.2708 - val_accuracy: 0.9279\n",
      "Epoch 22/100\n",
      " - 1s - loss: 0.0037 - accuracy: 1.0000 - val_loss: 0.2749 - val_accuracy: 0.9279\n",
      "Epoch 23/100\n",
      " - 1s - loss: 0.0030 - accuracy: 1.0000 - val_loss: 0.2620 - val_accuracy: 0.9189\n",
      "Epoch 24/100\n",
      " - 1s - loss: 0.0032 - accuracy: 1.0000 - val_loss: 0.2630 - val_accuracy: 0.9099\n",
      "Epoch 25/100\n",
      " - 1s - loss: 0.0024 - accuracy: 1.0000 - val_loss: 0.2690 - val_accuracy: 0.9099\n",
      "Epoch 26/100\n",
      " - 1s - loss: 0.0026 - accuracy: 1.0000 - val_loss: 0.2770 - val_accuracy: 0.9009\n",
      "Epoch 27/100\n",
      " - 1s - loss: 0.0031 - accuracy: 1.0000 - val_loss: 0.2836 - val_accuracy: 0.9189\n",
      "Epoch 28/100\n",
      " - 1s - loss: 0.0020 - accuracy: 1.0000 - val_loss: 0.2870 - val_accuracy: 0.9189\n",
      "Epoch 29/100\n",
      " - 1s - loss: 0.0018 - accuracy: 1.0000 - val_loss: 0.2929 - val_accuracy: 0.9189\n",
      "Epoch 30/100\n",
      " - 1s - loss: 0.0017 - accuracy: 1.0000 - val_loss: 0.2951 - val_accuracy: 0.9099\n",
      "Epoch 31/100\n",
      " - 1s - loss: 0.0022 - accuracy: 1.0000 - val_loss: 0.2871 - val_accuracy: 0.9189\n",
      "Epoch 32/100\n",
      " - 1s - loss: 0.0011 - accuracy: 1.0000 - val_loss: 0.2951 - val_accuracy: 0.9279\n",
      "Epoch 33/100\n",
      " - 1s - loss: 0.0014 - accuracy: 1.0000 - val_loss: 0.2983 - val_accuracy: 0.9279\n",
      "Epoch 34/100\n",
      " - 1s - loss: 0.0015 - accuracy: 1.0000 - val_loss: 0.3004 - val_accuracy: 0.9279\n",
      "Epoch 35/100\n",
      " - 1s - loss: 0.0010 - accuracy: 1.0000 - val_loss: 0.3033 - val_accuracy: 0.9279\n",
      "Epoch 36/100\n",
      " - 1s - loss: 8.4521e-04 - accuracy: 1.0000 - val_loss: 0.3010 - val_accuracy: 0.9279\n",
      "Epoch 37/100\n",
      " - 1s - loss: 0.0011 - accuracy: 1.0000 - val_loss: 0.3007 - val_accuracy: 0.9279\n",
      "Epoch 38/100\n",
      " - 1s - loss: 0.0015 - accuracy: 1.0000 - val_loss: 0.3020 - val_accuracy: 0.9189\n",
      "Epoch 39/100\n",
      " - 1s - loss: 0.0013 - accuracy: 1.0000 - val_loss: 0.3035 - val_accuracy: 0.9189\n",
      "Epoch 40/100\n",
      " - 1s - loss: 0.0013 - accuracy: 1.0000 - val_loss: 0.3166 - val_accuracy: 0.9189\n",
      "Epoch 41/100\n",
      " - 1s - loss: 6.8664e-04 - accuracy: 1.0000 - val_loss: 0.3219 - val_accuracy: 0.9189\n",
      "Epoch 42/100\n",
      " - 1s - loss: 9.6222e-04 - accuracy: 1.0000 - val_loss: 0.3261 - val_accuracy: 0.9099\n",
      "Epoch 43/100\n",
      " - 1s - loss: 5.1381e-04 - accuracy: 1.0000 - val_loss: 0.3304 - val_accuracy: 0.9099\n",
      "Epoch 44/100\n",
      " - 1s - loss: 7.7849e-04 - accuracy: 1.0000 - val_loss: 0.3341 - val_accuracy: 0.9099\n",
      "Epoch 45/100\n",
      " - 1s - loss: 6.9666e-04 - accuracy: 1.0000 - val_loss: 0.3415 - val_accuracy: 0.9099\n",
      "Epoch 46/100\n",
      " - 1s - loss: 7.0205e-04 - accuracy: 1.0000 - val_loss: 0.3469 - val_accuracy: 0.9099\n",
      "Epoch 47/100\n",
      " - 1s - loss: 0.0014 - accuracy: 1.0000 - val_loss: 0.3469 - val_accuracy: 0.9099\n",
      "Epoch 48/100\n",
      " - 1s - loss: 7.6181e-04 - accuracy: 1.0000 - val_loss: 0.3481 - val_accuracy: 0.9099\n",
      "Epoch 49/100\n",
      " - 1s - loss: 7.6643e-04 - accuracy: 1.0000 - val_loss: 0.3471 - val_accuracy: 0.9099\n",
      "Epoch 50/100\n",
      " - 1s - loss: 9.3210e-04 - accuracy: 1.0000 - val_loss: 0.3432 - val_accuracy: 0.9099\n",
      "Epoch 51/100\n",
      " - 1s - loss: 7.4470e-04 - accuracy: 1.0000 - val_loss: 0.3436 - val_accuracy: 0.9009\n",
      "Epoch 52/100\n",
      " - 1s - loss: 5.2230e-04 - accuracy: 1.0000 - val_loss: 0.3477 - val_accuracy: 0.9009\n",
      "Epoch 53/100\n",
      " - 1s - loss: 5.4074e-04 - accuracy: 1.0000 - val_loss: 0.3523 - val_accuracy: 0.9009\n",
      "Epoch 54/100\n",
      " - 1s - loss: 5.4006e-04 - accuracy: 1.0000 - val_loss: 0.3572 - val_accuracy: 0.9099\n",
      "Epoch 55/100\n",
      " - 1s - loss: 3.8776e-04 - accuracy: 1.0000 - val_loss: 0.3611 - val_accuracy: 0.9099\n",
      "Epoch 56/100\n",
      " - 1s - loss: 7.5892e-04 - accuracy: 1.0000 - val_loss: 0.3642 - val_accuracy: 0.9099\n",
      "Epoch 57/100\n",
      " - 1s - loss: 4.4664e-04 - accuracy: 1.0000 - val_loss: 0.3737 - val_accuracy: 0.9099\n",
      "Epoch 58/100\n",
      " - 1s - loss: 4.8814e-04 - accuracy: 1.0000 - val_loss: 0.3770 - val_accuracy: 0.9099\n",
      "Epoch 59/100\n",
      " - 1s - loss: 3.7271e-04 - accuracy: 1.0000 - val_loss: 0.3781 - val_accuracy: 0.9099\n",
      "Epoch 60/100\n",
      " - 1s - loss: 3.8239e-04 - accuracy: 1.0000 - val_loss: 0.3804 - val_accuracy: 0.9099\n",
      "Epoch 61/100\n",
      " - 1s - loss: 3.7583e-04 - accuracy: 1.0000 - val_loss: 0.3833 - val_accuracy: 0.9099\n",
      "Epoch 62/100\n",
      " - 1s - loss: 3.5284e-04 - accuracy: 1.0000 - val_loss: 0.3806 - val_accuracy: 0.9099\n",
      "Epoch 63/100\n",
      " - 1s - loss: 4.8729e-04 - accuracy: 1.0000 - val_loss: 0.3808 - val_accuracy: 0.9099\n",
      "Epoch 64/100\n",
      " - 1s - loss: 3.9864e-04 - accuracy: 1.0000 - val_loss: 0.3835 - val_accuracy: 0.9099\n",
      "Epoch 65/100\n",
      " - 1s - loss: 3.3305e-04 - accuracy: 1.0000 - val_loss: 0.3848 - val_accuracy: 0.9099\n",
      "Epoch 66/100\n",
      " - 1s - loss: 4.5074e-04 - accuracy: 1.0000 - val_loss: 0.3857 - val_accuracy: 0.9099\n",
      "Epoch 67/100\n",
      " - 1s - loss: 5.1179e-04 - accuracy: 1.0000 - val_loss: 0.3877 - val_accuracy: 0.9099\n",
      "Epoch 68/100\n",
      " - 1s - loss: 5.3517e-04 - accuracy: 1.0000 - val_loss: 0.3868 - val_accuracy: 0.9009\n",
      "Epoch 69/100\n",
      " - 1s - loss: 3.8110e-04 - accuracy: 1.0000 - val_loss: 0.3865 - val_accuracy: 0.9009\n",
      "Epoch 70/100\n",
      " - 1s - loss: 3.2778e-04 - accuracy: 1.0000 - val_loss: 0.3852 - val_accuracy: 0.9009\n",
      "Epoch 71/100\n",
      " - 1s - loss: 2.9922e-04 - accuracy: 1.0000 - val_loss: 0.3880 - val_accuracy: 0.9099\n",
      "Epoch 72/100\n",
      " - 1s - loss: 3.6557e-04 - accuracy: 1.0000 - val_loss: 0.3885 - val_accuracy: 0.9099\n",
      "Epoch 73/100\n",
      " - 1s - loss: 4.4394e-04 - accuracy: 1.0000 - val_loss: 0.3901 - val_accuracy: 0.9009\n",
      "Epoch 74/100\n",
      " - 1s - loss: 6.3206e-04 - accuracy: 1.0000 - val_loss: 0.3934 - val_accuracy: 0.9009\n",
      "Epoch 75/100\n",
      " - 1s - loss: 6.6196e-04 - accuracy: 1.0000 - val_loss: 0.3940 - val_accuracy: 0.9009\n",
      "Epoch 76/100\n",
      " - 1s - loss: 3.1796e-04 - accuracy: 1.0000 - val_loss: 0.3993 - val_accuracy: 0.9009\n",
      "Epoch 77/100\n",
      " - 1s - loss: 4.0260e-04 - accuracy: 1.0000 - val_loss: 0.4052 - val_accuracy: 0.9009\n",
      "Epoch 78/100\n",
      " - 1s - loss: 3.0306e-04 - accuracy: 1.0000 - val_loss: 0.4089 - val_accuracy: 0.9009\n",
      "Epoch 79/100\n",
      " - 1s - loss: 1.9350e-04 - accuracy: 1.0000 - val_loss: 0.4104 - val_accuracy: 0.9009\n",
      "Epoch 80/100\n",
      " - 1s - loss: 2.4817e-04 - accuracy: 1.0000 - val_loss: 0.4115 - val_accuracy: 0.9099\n",
      "Epoch 81/100\n",
      " - 1s - loss: 4.9517e-04 - accuracy: 1.0000 - val_loss: 0.4111 - val_accuracy: 0.9009\n",
      "Epoch 82/100\n",
      " - 1s - loss: 8.2753e-04 - accuracy: 1.0000 - val_loss: 0.4087 - val_accuracy: 0.9009\n",
      "Epoch 83/100\n",
      " - 1s - loss: 4.1009e-04 - accuracy: 1.0000 - val_loss: 0.4114 - val_accuracy: 0.9099\n",
      "Epoch 84/100\n",
      " - 1s - loss: 4.1507e-04 - accuracy: 1.0000 - val_loss: 0.4151 - val_accuracy: 0.9099\n"
     ]
    },
    {
     "name": "stdout",
     "output_type": "stream",
     "text": [
      "Epoch 85/100\n",
      " - 1s - loss: 4.1521e-04 - accuracy: 1.0000 - val_loss: 0.4186 - val_accuracy: 0.9099\n",
      "Epoch 86/100\n",
      " - 1s - loss: 3.5306e-04 - accuracy: 1.0000 - val_loss: 0.4268 - val_accuracy: 0.9099\n",
      "Epoch 87/100\n",
      " - 1s - loss: 2.8506e-04 - accuracy: 1.0000 - val_loss: 0.4309 - val_accuracy: 0.9189\n",
      "Epoch 88/100\n",
      " - 1s - loss: 2.0388e-04 - accuracy: 1.0000 - val_loss: 0.4318 - val_accuracy: 0.9189\n",
      "Epoch 89/100\n",
      " - 1s - loss: 3.6057e-04 - accuracy: 1.0000 - val_loss: 0.4352 - val_accuracy: 0.9189\n",
      "Epoch 90/100\n",
      " - 1s - loss: 2.4761e-04 - accuracy: 1.0000 - val_loss: 0.4442 - val_accuracy: 0.9189\n",
      "Epoch 91/100\n",
      " - 1s - loss: 4.0486e-04 - accuracy: 1.0000 - val_loss: 0.4510 - val_accuracy: 0.9189\n",
      "Epoch 92/100\n",
      " - 1s - loss: 3.1697e-04 - accuracy: 1.0000 - val_loss: 0.4497 - val_accuracy: 0.9189\n",
      "Epoch 93/100\n",
      " - 1s - loss: 2.1042e-04 - accuracy: 1.0000 - val_loss: 0.4520 - val_accuracy: 0.9189\n",
      "Epoch 94/100\n",
      " - 1s - loss: 2.2384e-04 - accuracy: 1.0000 - val_loss: 0.4521 - val_accuracy: 0.9189\n",
      "Epoch 95/100\n",
      " - 1s - loss: 1.2012e-04 - accuracy: 1.0000 - val_loss: 0.4543 - val_accuracy: 0.9189\n",
      "Epoch 96/100\n",
      " - 1s - loss: 2.1537e-04 - accuracy: 1.0000 - val_loss: 0.4554 - val_accuracy: 0.9189\n",
      "Epoch 97/100\n",
      " - 1s - loss: 3.5671e-04 - accuracy: 1.0000 - val_loss: 0.4546 - val_accuracy: 0.9189\n",
      "Epoch 98/100\n",
      " - 1s - loss: 3.1807e-04 - accuracy: 1.0000 - val_loss: 0.4574 - val_accuracy: 0.9189\n",
      "Epoch 99/100\n",
      " - 1s - loss: 2.2139e-04 - accuracy: 1.0000 - val_loss: 0.4527 - val_accuracy: 0.9189\n",
      "Epoch 100/100\n",
      " - 1s - loss: 1.8606e-04 - accuracy: 1.0000 - val_loss: 0.4492 - val_accuracy: 0.9099\n"
     ]
    }
   ],
   "source": [
    "history = model6.fit(X_train_6,\n",
    "                    y_train,\n",
    "                    batch_size=32,\n",
    "                    validation_data=(X_test_6, y_test),\n",
    "                    epochs=100,\n",
    "                    verbose=2)"
   ]
  },
  {
   "cell_type": "code",
   "execution_count": 66,
   "metadata": {},
   "outputs": [
    {
     "data": {
      "text/plain": [
       "<matplotlib.legend.Legend at 0x217c153a7b8>"
      ]
     },
     "execution_count": 66,
     "metadata": {},
     "output_type": "execute_result"
    },
    {
     "data": {
      "image/png": "[encoded data removed]",
      "text/plain": [
       "<Figure size 432x288 with 1 Axes>"
      ]
     },
     "metadata": {
      "needs_background": "light"
     },
     "output_type": "display_data"
    }
   ],
   "source": [
    "plt.plot(history.history['loss'], label = ' Training Loss')\n",
    "plt.plot(history.history['val_loss'], label = ' Test Loss')\n",
    "plt.legend()"
   ]
  },
  {
   "cell_type": "code",
   "execution_count": 67,
   "metadata": {},
   "outputs": [
    {
     "data": {
      "text/plain": [
       "<matplotlib.legend.Legend at 0x217cdeb8828>"
      ]
     },
     "execution_count": 67,
     "metadata": {},
     "output_type": "execute_result"
    },
    {
     "data": {
      "image/png": "[encoded data removed]",
      "text/plain": [
       "<Figure size 432x288 with 1 Axes>"
      ]
     },
     "metadata": {
      "needs_background": "light"
     },
     "output_type": "display_data"
    }
   ],
   "source": [
    "plt.plot(history.history['accuracy'], label = ' Training Accuracy')\n",
    "plt.plot(history.history['val_accuracy'], label = ' Test Accuracy')\n",
    "plt.legend()"
   ]
  },
  {
   "cell_type": "code",
   "execution_count": 68,
   "metadata": {},
   "outputs": [
    {
     "name": "stdout",
     "output_type": "stream",
     "text": [
      "111/111 [==============================] - 0s 604us/step\n"
     ]
    }
   ],
   "source": [
    "model6_eval = model6.evaluate(X_test_6,y_test, verbose=1)\n",
    "model6_metrics = model6.metrics_names"
   ]
  },
  {
   "cell_type": "markdown",
   "metadata": {},
   "source": [
    "Model 7 \n",
    "RNN with GRU"
   ]
  },
  {
   "cell_type": "code",
   "execution_count": 69,
   "metadata": {},
   "outputs": [],
   "source": [
    "X_train_7, X_test_7, y_train, y_test = train_test_split(X, y, test_size = 0.2, random_state = 42, stratify = y)"
   ]
  },
  {
   "cell_type": "code",
   "execution_count": 70,
   "metadata": {},
   "outputs": [],
   "source": [
    "model7 = Sequential()\n",
    "\n",
    "model7.add(Masking(mask_value=0, input_shape=(39, 40)))\n",
    "model7.add(GRU(64, input_shape = (39,40), return_sequences=True))\n",
    "model7.add(GRU(64, return_sequences=False ))\n",
    "model7.add(Dense(64, activation = 'relu'))\n",
    "model7.add(Dropout(0.3))\n",
    "\n",
    "model7.add(Dense(5, activation = 'softmax'))"
   ]
  },
  {
   "cell_type": "code",
   "execution_count": 71,
   "metadata": {},
   "outputs": [],
   "source": [
    "model7.compile(optimizer = 'Adam', loss = 'categorical_crossentropy', metrics = ['accuracy'])"
   ]
  },
  {
   "cell_type": "code",
   "execution_count": 72,
   "metadata": {
    "scrolled": true
   },
   "outputs": [
    {
     "name": "stdout",
     "output_type": "stream",
     "text": [
      "Model: \"sequential_6\"\n",
      "_________________________________________________________________\n",
      "Layer (type)                 Output Shape              Param #   \n",
      "=================================================================\n",
      "masking_2 (Masking)          (None, 39, 40)            0         \n",
      "_________________________________________________________________\n",
      "gru_1 (GRU)                  (None, 39, 64)            20160     \n",
      "_________________________________________________________________\n",
      "gru_2 (GRU)                  (None, 64)                24768     \n",
      "_________________________________________________________________\n",
      "dense_14 (Dense)             (None, 64)                4160      \n",
      "_________________________________________________________________\n",
      "dropout_3 (Dropout)          (None, 64)                0         \n",
      "_________________________________________________________________\n",
      "dense_15 (Dense)             (None, 5)                 325       \n",
      "=================================================================\n",
      "Total params: 49,413\n",
      "Trainable params: 49,413\n",
      "Non-trainable params: 0\n",
      "_________________________________________________________________\n"
     ]
    }
   ],
   "source": [
    "model7.summary()"
   ]
  },
  {
   "cell_type": "code",
   "execution_count": 73,
   "metadata": {},
   "outputs": [
    {
     "name": "stdout",
     "output_type": "stream",
     "text": [
      "Train on 442 samples, validate on 111 samples\n",
      "Epoch 1/100\n",
      " - 2s - loss: 1.5881 - accuracy: 0.2557 - val_loss: 1.4452 - val_accuracy: 0.4955\n",
      "Epoch 2/100\n",
      " - 1s - loss: 1.3235 - accuracy: 0.5407 - val_loss: 1.1850 - val_accuracy: 0.6937\n",
      "Epoch 3/100\n",
      " - 1s - loss: 1.0230 - accuracy: 0.6855 - val_loss: 0.8724 - val_accuracy: 0.7297\n",
      "Epoch 4/100\n",
      " - 1s - loss: 0.7481 - accuracy: 0.7692 - val_loss: 0.7209 - val_accuracy: 0.7477\n",
      "Epoch 5/100\n",
      " - 1s - loss: 0.5705 - accuracy: 0.8190 - val_loss: 0.5569 - val_accuracy: 0.8378\n",
      "Epoch 6/100\n",
      " - 1s - loss: 0.4183 - accuracy: 0.8891 - val_loss: 0.4565 - val_accuracy: 0.8468\n",
      "Epoch 7/100\n",
      " - 1s - loss: 0.2880 - accuracy: 0.9208 - val_loss: 0.4685 - val_accuracy: 0.8378\n",
      "Epoch 8/100\n",
      " - 1s - loss: 0.2062 - accuracy: 0.9389 - val_loss: 0.4128 - val_accuracy: 0.8649\n",
      "Epoch 9/100\n",
      " - 1s - loss: 0.1757 - accuracy: 0.9525 - val_loss: 0.3983 - val_accuracy: 0.8468\n",
      "Epoch 10/100\n",
      " - 1s - loss: 0.1328 - accuracy: 0.9638 - val_loss: 0.4062 - val_accuracy: 0.8649\n",
      "Epoch 11/100\n",
      " - 1s - loss: 0.0831 - accuracy: 0.9796 - val_loss: 0.3303 - val_accuracy: 0.9099\n",
      "Epoch 12/100\n",
      " - 1s - loss: 0.0930 - accuracy: 0.9729 - val_loss: 0.3615 - val_accuracy: 0.9009\n",
      "Epoch 13/100\n",
      " - 1s - loss: 0.0685 - accuracy: 0.9864 - val_loss: 0.4129 - val_accuracy: 0.9009\n",
      "Epoch 14/100\n",
      " - 1s - loss: 0.0437 - accuracy: 0.9910 - val_loss: 0.4246 - val_accuracy: 0.8649\n",
      "Epoch 15/100\n",
      " - 1s - loss: 0.0383 - accuracy: 0.9932 - val_loss: 0.4124 - val_accuracy: 0.9099\n",
      "Epoch 16/100\n",
      " - 1s - loss: 0.0347 - accuracy: 0.9932 - val_loss: 0.4381 - val_accuracy: 0.9189\n",
      "Epoch 17/100\n",
      " - 1s - loss: 0.0227 - accuracy: 0.9977 - val_loss: 0.5024 - val_accuracy: 0.9009\n",
      "Epoch 18/100\n",
      " - 1s - loss: 0.0140 - accuracy: 0.9977 - val_loss: 0.4938 - val_accuracy: 0.9009\n",
      "Epoch 19/100\n",
      " - 1s - loss: 0.0146 - accuracy: 0.9977 - val_loss: 0.4939 - val_accuracy: 0.9099\n",
      "Epoch 20/100\n",
      " - 1s - loss: 0.0109 - accuracy: 1.0000 - val_loss: 0.5047 - val_accuracy: 0.9009\n",
      "Epoch 21/100\n",
      " - 1s - loss: 0.0130 - accuracy: 0.9977 - val_loss: 0.5150 - val_accuracy: 0.9099\n",
      "Epoch 22/100\n",
      " - 1s - loss: 0.0089 - accuracy: 1.0000 - val_loss: 0.5450 - val_accuracy: 0.9009\n",
      "Epoch 23/100\n",
      " - 1s - loss: 0.0062 - accuracy: 1.0000 - val_loss: 0.5634 - val_accuracy: 0.9009\n",
      "Epoch 24/100\n",
      " - 1s - loss: 0.0053 - accuracy: 1.0000 - val_loss: 0.5791 - val_accuracy: 0.8919\n",
      "Epoch 25/100\n",
      " - 1s - loss: 0.0034 - accuracy: 1.0000 - val_loss: 0.5646 - val_accuracy: 0.9009\n",
      "Epoch 26/100\n",
      " - 1s - loss: 0.0035 - accuracy: 1.0000 - val_loss: 0.5768 - val_accuracy: 0.9009\n",
      "Epoch 27/100\n",
      " - 1s - loss: 0.0039 - accuracy: 1.0000 - val_loss: 0.5879 - val_accuracy: 0.9009\n",
      "Epoch 28/100\n",
      " - 1s - loss: 0.0024 - accuracy: 1.0000 - val_loss: 0.5752 - val_accuracy: 0.9009\n",
      "Epoch 29/100\n",
      " - 1s - loss: 0.0028 - accuracy: 1.0000 - val_loss: 0.5611 - val_accuracy: 0.9009\n",
      "Epoch 30/100\n",
      " - 1s - loss: 0.0040 - accuracy: 1.0000 - val_loss: 0.5933 - val_accuracy: 0.9009\n",
      "Epoch 31/100\n",
      " - 1s - loss: 0.0019 - accuracy: 1.0000 - val_loss: 0.6197 - val_accuracy: 0.9009\n",
      "Epoch 32/100\n",
      " - 1s - loss: 0.0019 - accuracy: 1.0000 - val_loss: 0.6255 - val_accuracy: 0.9009\n",
      "Epoch 33/100\n",
      " - 1s - loss: 0.0017 - accuracy: 1.0000 - val_loss: 0.6184 - val_accuracy: 0.9009\n",
      "Epoch 34/100\n",
      " - 1s - loss: 0.0019 - accuracy: 1.0000 - val_loss: 0.6184 - val_accuracy: 0.9009\n",
      "Epoch 35/100\n",
      " - 1s - loss: 0.0020 - accuracy: 1.0000 - val_loss: 0.6374 - val_accuracy: 0.9009\n",
      "Epoch 36/100\n",
      " - 1s - loss: 0.0020 - accuracy: 1.0000 - val_loss: 0.6568 - val_accuracy: 0.9009\n",
      "Epoch 37/100\n",
      " - 1s - loss: 0.0020 - accuracy: 1.0000 - val_loss: 0.6544 - val_accuracy: 0.9009\n",
      "Epoch 38/100\n",
      " - 1s - loss: 0.0015 - accuracy: 1.0000 - val_loss: 0.6361 - val_accuracy: 0.9009\n",
      "Epoch 39/100\n",
      " - 1s - loss: 0.0014 - accuracy: 1.0000 - val_loss: 0.6276 - val_accuracy: 0.9009\n",
      "Epoch 40/100\n",
      " - 1s - loss: 0.0013 - accuracy: 1.0000 - val_loss: 0.6311 - val_accuracy: 0.9009\n",
      "Epoch 41/100\n",
      " - 1s - loss: 0.0016 - accuracy: 1.0000 - val_loss: 0.6303 - val_accuracy: 0.9099\n",
      "Epoch 42/100\n",
      " - 1s - loss: 0.0011 - accuracy: 1.0000 - val_loss: 0.6279 - val_accuracy: 0.9009\n",
      "Epoch 43/100\n",
      " - 1s - loss: 0.0012 - accuracy: 1.0000 - val_loss: 0.6307 - val_accuracy: 0.9009\n",
      "Epoch 44/100\n",
      " - 1s - loss: 8.1984e-04 - accuracy: 1.0000 - val_loss: 0.6348 - val_accuracy: 0.9009\n",
      "Epoch 45/100\n",
      " - 1s - loss: 7.3965e-04 - accuracy: 1.0000 - val_loss: 0.6486 - val_accuracy: 0.9009\n",
      "Epoch 46/100\n",
      " - 1s - loss: 8.5775e-04 - accuracy: 1.0000 - val_loss: 0.6570 - val_accuracy: 0.9009\n",
      "Epoch 47/100\n",
      " - 1s - loss: 8.9304e-04 - accuracy: 1.0000 - val_loss: 0.6608 - val_accuracy: 0.9009\n",
      "Epoch 48/100\n",
      " - 1s - loss: 7.9645e-04 - accuracy: 1.0000 - val_loss: 0.6672 - val_accuracy: 0.9009\n",
      "Epoch 49/100\n",
      " - 1s - loss: 0.0013 - accuracy: 1.0000 - val_loss: 0.6738 - val_accuracy: 0.9009\n",
      "Epoch 50/100\n",
      " - 1s - loss: 6.3694e-04 - accuracy: 1.0000 - val_loss: 0.6760 - val_accuracy: 0.9009\n",
      "Epoch 51/100\n",
      " - 1s - loss: 0.0010 - accuracy: 1.0000 - val_loss: 0.6794 - val_accuracy: 0.9009\n",
      "Epoch 52/100\n",
      " - 1s - loss: 9.9751e-04 - accuracy: 1.0000 - val_loss: 0.6758 - val_accuracy: 0.9099\n",
      "Epoch 53/100\n",
      " - 1s - loss: 0.0011 - accuracy: 1.0000 - val_loss: 0.6865 - val_accuracy: 0.9009\n",
      "Epoch 54/100\n",
      " - 1s - loss: 8.1388e-04 - accuracy: 1.0000 - val_loss: 0.6859 - val_accuracy: 0.9009\n",
      "Epoch 55/100\n",
      " - 1s - loss: 0.0011 - accuracy: 1.0000 - val_loss: 0.6802 - val_accuracy: 0.9009\n",
      "Epoch 56/100\n",
      " - 1s - loss: 0.0029 - accuracy: 1.0000 - val_loss: 0.7219 - val_accuracy: 0.9099\n",
      "Epoch 57/100\n",
      " - 1s - loss: 0.0021 - accuracy: 1.0000 - val_loss: 0.7426 - val_accuracy: 0.8649\n",
      "Epoch 58/100\n",
      " - 1s - loss: 0.0208 - accuracy: 0.9887 - val_loss: 0.5458 - val_accuracy: 0.8919\n",
      "Epoch 59/100\n",
      " - 1s - loss: 0.2286 - accuracy: 0.9457 - val_loss: 0.3568 - val_accuracy: 0.9189\n",
      "Epoch 60/100\n",
      " - 1s - loss: 0.1071 - accuracy: 0.9615 - val_loss: 0.3050 - val_accuracy: 0.9099\n",
      "Epoch 61/100\n",
      " - 1s - loss: 0.0564 - accuracy: 0.9887 - val_loss: 0.3389 - val_accuracy: 0.9009\n",
      "Epoch 62/100\n",
      " - 1s - loss: 0.0390 - accuracy: 0.9955 - val_loss: 0.3516 - val_accuracy: 0.9009\n",
      "Epoch 63/100\n",
      " - 1s - loss: 0.0088 - accuracy: 1.0000 - val_loss: 0.4117 - val_accuracy: 0.8919\n",
      "Epoch 64/100\n",
      " - 1s - loss: 0.0070 - accuracy: 1.0000 - val_loss: 0.3630 - val_accuracy: 0.9189\n",
      "Epoch 65/100\n",
      " - 1s - loss: 0.0038 - accuracy: 1.0000 - val_loss: 0.3522 - val_accuracy: 0.9279\n",
      "Epoch 66/100\n",
      " - 1s - loss: 0.0035 - accuracy: 1.0000 - val_loss: 0.3696 - val_accuracy: 0.9189\n",
      "Epoch 67/100\n",
      " - 1s - loss: 0.0026 - accuracy: 1.0000 - val_loss: 0.3734 - val_accuracy: 0.9099\n",
      "Epoch 68/100\n",
      " - 1s - loss: 0.0027 - accuracy: 1.0000 - val_loss: 0.3918 - val_accuracy: 0.9189\n",
      "Epoch 69/100\n",
      " - 1s - loss: 0.0018 - accuracy: 1.0000 - val_loss: 0.4049 - val_accuracy: 0.9279\n",
      "Epoch 70/100\n",
      " - 1s - loss: 0.0018 - accuracy: 1.0000 - val_loss: 0.4170 - val_accuracy: 0.9189\n",
      "Epoch 71/100\n",
      " - 1s - loss: 0.0018 - accuracy: 1.0000 - val_loss: 0.4247 - val_accuracy: 0.9189\n",
      "Epoch 72/100\n",
      " - 1s - loss: 0.0019 - accuracy: 1.0000 - val_loss: 0.4317 - val_accuracy: 0.9189\n",
      "Epoch 73/100\n",
      " - 1s - loss: 0.0015 - accuracy: 1.0000 - val_loss: 0.4358 - val_accuracy: 0.9189\n",
      "Epoch 74/100\n",
      " - 1s - loss: 0.0011 - accuracy: 1.0000 - val_loss: 0.4394 - val_accuracy: 0.9189\n",
      "Epoch 75/100\n",
      " - 1s - loss: 0.0014 - accuracy: 1.0000 - val_loss: 0.4460 - val_accuracy: 0.9099\n",
      "Epoch 76/100\n",
      " - 1s - loss: 9.9327e-04 - accuracy: 1.0000 - val_loss: 0.4536 - val_accuracy: 0.9099\n",
      "Epoch 77/100\n",
      " - 1s - loss: 0.0014 - accuracy: 1.0000 - val_loss: 0.4584 - val_accuracy: 0.9099\n",
      "Epoch 78/100\n",
      " - 1s - loss: 0.0013 - accuracy: 1.0000 - val_loss: 0.4680 - val_accuracy: 0.9189\n",
      "Epoch 79/100\n",
      " - 1s - loss: 6.4064e-04 - accuracy: 1.0000 - val_loss: 0.4709 - val_accuracy: 0.9099\n",
      "Epoch 80/100\n",
      " - 1s - loss: 9.2392e-04 - accuracy: 1.0000 - val_loss: 0.4760 - val_accuracy: 0.9099\n",
      "Epoch 81/100\n",
      " - 1s - loss: 7.3490e-04 - accuracy: 1.0000 - val_loss: 0.4804 - val_accuracy: 0.9099\n",
      "Epoch 82/100\n",
      " - 1s - loss: 8.2490e-04 - accuracy: 1.0000 - val_loss: 0.4834 - val_accuracy: 0.9099\n",
      "Epoch 83/100\n",
      " - 1s - loss: 0.0010 - accuracy: 1.0000 - val_loss: 0.4875 - val_accuracy: 0.9099\n",
      "Epoch 84/100\n",
      " - 1s - loss: 0.0019 - accuracy: 1.0000 - val_loss: 0.4955 - val_accuracy: 0.9099\n",
      "Epoch 85/100\n",
      " - 1s - loss: 6.1732e-04 - accuracy: 1.0000 - val_loss: 0.5055 - val_accuracy: 0.9009\n",
      "Epoch 86/100\n",
      " - 1s - loss: 4.3311e-04 - accuracy: 1.0000 - val_loss: 0.5084 - val_accuracy: 0.9099\n"
     ]
    },
    {
     "name": "stdout",
     "output_type": "stream",
     "text": [
      "Epoch 87/100\n",
      " - 1s - loss: 7.4169e-04 - accuracy: 1.0000 - val_loss: 0.5165 - val_accuracy: 0.9099\n",
      "Epoch 88/100\n",
      " - 1s - loss: 0.0011 - accuracy: 1.0000 - val_loss: 0.5212 - val_accuracy: 0.9099\n",
      "Epoch 89/100\n",
      " - 1s - loss: 5.9743e-04 - accuracy: 1.0000 - val_loss: 0.5254 - val_accuracy: 0.9099\n",
      "Epoch 90/100\n",
      " - 1s - loss: 6.6379e-04 - accuracy: 1.0000 - val_loss: 0.5299 - val_accuracy: 0.9099\n",
      "Epoch 91/100\n",
      " - 1s - loss: 6.0498e-04 - accuracy: 1.0000 - val_loss: 0.5320 - val_accuracy: 0.9099\n",
      "Epoch 92/100\n",
      " - 1s - loss: 4.2548e-04 - accuracy: 1.0000 - val_loss: 0.5338 - val_accuracy: 0.9099\n",
      "Epoch 93/100\n",
      " - 1s - loss: 4.7128e-04 - accuracy: 1.0000 - val_loss: 0.5347 - val_accuracy: 0.9099\n",
      "Epoch 94/100\n",
      " - 1s - loss: 2.8009e-04 - accuracy: 1.0000 - val_loss: 0.5346 - val_accuracy: 0.9099\n",
      "Epoch 95/100\n",
      " - 1s - loss: 4.6278e-04 - accuracy: 1.0000 - val_loss: 0.5357 - val_accuracy: 0.9099\n",
      "Epoch 96/100\n",
      " - 1s - loss: 4.7313e-04 - accuracy: 1.0000 - val_loss: 0.5360 - val_accuracy: 0.9099\n",
      "Epoch 97/100\n",
      " - 1s - loss: 2.9969e-04 - accuracy: 1.0000 - val_loss: 0.5372 - val_accuracy: 0.9099\n",
      "Epoch 98/100\n",
      " - 1s - loss: 5.7429e-04 - accuracy: 1.0000 - val_loss: 0.5402 - val_accuracy: 0.9099\n",
      "Epoch 99/100\n",
      " - 1s - loss: 4.5661e-04 - accuracy: 1.0000 - val_loss: 0.5442 - val_accuracy: 0.9099\n",
      "Epoch 100/100\n",
      " - 1s - loss: 3.1368e-04 - accuracy: 1.0000 - val_loss: 0.5485 - val_accuracy: 0.9099\n"
     ]
    }
   ],
   "source": [
    "history = model7.fit(X_train_7,\n",
    "                    y_train,\n",
    "                    batch_size=32,\n",
    "                    validation_data=(X_test_7, y_test),\n",
    "                    epochs=100,\n",
    "                    verbose=2)"
   ]
  },
  {
   "cell_type": "code",
   "execution_count": 74,
   "metadata": {},
   "outputs": [
    {
     "data": {
      "text/plain": [
       "<matplotlib.legend.Legend at 0x217d25e3fd0>"
      ]
     },
     "execution_count": 74,
     "metadata": {},
     "output_type": "execute_result"
    },
    {
     "data": {
      "image/png": "[encoded data removed]",
      "text/plain": [
       "<Figure size 432x288 with 1 Axes>"
      ]
     },
     "metadata": {
      "needs_background": "light"
     },
     "output_type": "display_data"
    }
   ],
   "source": [
    "plt.plot(history.history['loss'], label = ' Training Loss')\n",
    "plt.plot(history.history['val_loss'], label = ' Test Loss')\n",
    "plt.legend()"
   ]
  },
  {
   "cell_type": "code",
   "execution_count": 75,
   "metadata": {},
   "outputs": [
    {
     "data": {
      "text/plain": [
       "<matplotlib.legend.Legend at 0x217d266b0f0>"
      ]
     },
     "execution_count": 75,
     "metadata": {},
     "output_type": "execute_result"
    },
    {
     "data": {
      "image/png": "[encoded data removed]",
      "text/plain": [
       "<Figure size 432x288 with 1 Axes>"
      ]
     },
     "metadata": {
      "needs_background": "light"
     },
     "output_type": "display_data"
    }
   ],
   "source": [
    "plt.plot(history.history['accuracy'], label = ' Training Accuracy')\n",
    "plt.plot(history.history['val_accuracy'], label = ' Test Accuracy')\n",
    "plt.legend()"
   ]
  },
  {
   "cell_type": "code",
   "execution_count": 76,
   "metadata": {},
   "outputs": [
    {
     "name": "stdout",
     "output_type": "stream",
     "text": [
      "111/111 [==============================] - 0s 550us/step\n"
     ]
    }
   ],
   "source": [
    "model7_eval = model7.evaluate(X_test_7, y_test, verbose=1)\n",
    "model7_metrics = model7.metrics_names"
   ]
  },
  {
   "cell_type": "markdown",
   "metadata": {},
   "source": [
    "## Evaluation\n"
   ]
  },
  {
   "cell_type": "code",
   "execution_count": 77,
   "metadata": {},
   "outputs": [],
   "source": [
    "from sklearn.metrics import classification_report, confusion_matrix"
   ]
  },
  {
   "cell_type": "code",
   "execution_count": 78,
   "metadata": {},
   "outputs": [
    {
     "name": "stdout",
     "output_type": "stream",
     "text": [
      "Model 1 loss: 1.2562414482907132\n",
      "Model 1 accuracy: 0.6666666865348816\n",
      "\n",
      "Model 2 loss: 0.11317312287854718\n",
      "Model 2 accuracy: 0.9729729890823364\n",
      "\n",
      "Model 3 loss: 0.8697421808500547\n",
      "Model 3 accuracy: 0.8198198080062866\n",
      "\n",
      "Model 5 loss: 0.803975443582277\n",
      "Model 5 accuracy: 0.8468468189239502\n",
      "\n",
      "Model 6 loss: 0.4491835198960863\n",
      "Model 6 accuracy: 0.9099099040031433\n",
      "\n",
      "Model 7 loss: 0.5485324527321568\n",
      "Model 7 accuracy: 0.9099099040031433\n",
      "\n"
     ]
    }
   ],
   "source": [
    "print(f\"Model 1 {model_metrics[0]}: {model_eval[0]}\")\n",
    "print(f\"Model 1 {model_metrics[1]}: {model_eval[1]}\\n\")\n",
    "\n",
    "print(f\"Model 2 {model2_metrics[0]}: {model2_eval[0]}\")\n",
    "print(f\"Model 2 {model2_metrics[1]}: {model2_eval[1]}\\n\")\n",
    "\n",
    "print(f\"Model 3 {model3_metrics[0]}: {model3_eval[0]}\")\n",
    "print(f\"Model 3 {model3_metrics[1]}: {model3_eval[1]}\\n\")\n",
    "\n",
    "print(f\"Model 5 {model5_metrics[0]}: {model5_eval[0]}\")\n",
    "print(f\"Model 5 {model5_metrics[1]}: {model5_eval[1]}\\n\")\n",
    "\n",
    "print(f\"Model 6 {model6_metrics[0]}: {model6_eval[0]}\")\n",
    "print(f\"Model 6 {model6_metrics[1]}: {model6_eval[1]}\\n\")\n",
    "\n",
    "print(f\"Model 7 {model7_metrics[0]}: {model7_eval[0]}\")\n",
    "print(f\"Model 7 {model7_metrics[1]}: {model7_eval[1]}\\n\")\n"
   ]
  },
  {
   "cell_type": "markdown",
   "metadata": {},
   "source": [
    "Get Predictions for Each Model"
   ]
  },
  {
   "cell_type": "code",
   "execution_count": 81,
   "metadata": {},
   "outputs": [
    {
     "data": {
      "text/plain": [
       "['apples',\n",
       " 'father',\n",
       " 'flowers',\n",
       " 'father',\n",
       " 'flowers',\n",
       " 'flowers',\n",
       " 'water',\n",
       " 'worker',\n",
       " 'apples',\n",
       " 'worker',\n",
       " 'flowers',\n",
       " 'water',\n",
       " 'water',\n",
       " 'flowers',\n",
       " 'father',\n",
       " 'apples',\n",
       " 'father',\n",
       " 'apples',\n",
       " 'father',\n",
       " 'flowers',\n",
       " 'flowers',\n",
       " 'water',\n",
       " 'water',\n",
       " 'apples',\n",
       " 'flowers',\n",
       " 'water',\n",
       " 'worker',\n",
       " 'apples',\n",
       " 'father',\n",
       " 'flowers',\n",
       " 'worker',\n",
       " 'apples',\n",
       " 'apples',\n",
       " 'apples',\n",
       " 'flowers',\n",
       " 'apples',\n",
       " 'flowers',\n",
       " 'apples',\n",
       " 'flowers',\n",
       " 'water',\n",
       " 'father',\n",
       " 'apples',\n",
       " 'apples',\n",
       " 'father',\n",
       " 'water',\n",
       " 'flowers',\n",
       " 'father',\n",
       " 'water',\n",
       " 'worker',\n",
       " 'father',\n",
       " 'worker',\n",
       " 'flowers',\n",
       " 'water',\n",
       " 'water',\n",
       " 'water',\n",
       " 'worker',\n",
       " 'water',\n",
       " 'flowers',\n",
       " 'worker',\n",
       " 'apples',\n",
       " 'water',\n",
       " 'worker',\n",
       " 'father',\n",
       " 'water',\n",
       " 'father',\n",
       " 'worker',\n",
       " 'apples',\n",
       " 'father',\n",
       " 'father',\n",
       " 'worker',\n",
       " 'flowers',\n",
       " 'apples',\n",
       " 'worker',\n",
       " 'apples',\n",
       " 'water',\n",
       " 'father',\n",
       " 'father',\n",
       " 'father',\n",
       " 'apples',\n",
       " 'flowers',\n",
       " 'flowers',\n",
       " 'father',\n",
       " 'flowers',\n",
       " 'water',\n",
       " 'water',\n",
       " 'water',\n",
       " 'worker',\n",
       " 'father',\n",
       " 'worker',\n",
       " 'worker',\n",
       " 'father',\n",
       " 'flowers',\n",
       " 'flowers',\n",
       " 'father',\n",
       " 'apples',\n",
       " 'water',\n",
       " 'worker',\n",
       " 'worker',\n",
       " 'water',\n",
       " 'apples',\n",
       " 'worker',\n",
       " 'worker',\n",
       " 'worker',\n",
       " 'flowers',\n",
       " 'worker',\n",
       " 'water',\n",
       " 'worker',\n",
       " 'apples',\n",
       " 'father',\n",
       " 'apples',\n",
       " 'worker']"
      ]
     },
     "execution_count": 81,
     "metadata": {},
     "output_type": "execute_result"
    }
   ],
   "source": [
    "labels = list(le.classes_)\n",
    "\n",
    "y_test_labels = []\n",
    "for pred in y_test:\n",
    "    for n, i in enumerate(pred):\n",
    "        if i == 1:\n",
    "            y_test_labels.append(labels[n])\n",
    "            \n",
    "y_test_labels"
   ]
  },
  {
   "cell_type": "code",
   "execution_count": 82,
   "metadata": {},
   "outputs": [
    {
     "name": "stdout",
     "output_type": "stream",
     "text": [
      "              precision    recall  f1-score   support\n",
      "\n",
      "      apples       0.65      0.68      0.67        22\n",
      "      father       0.78      0.64      0.70        22\n",
      "     flowers       0.46      0.59      0.52        22\n",
      "       water       0.70      0.73      0.71        22\n",
      "      worker       0.84      0.70      0.76        23\n",
      "\n",
      "    accuracy                           0.67       111\n",
      "   macro avg       0.69      0.67      0.67       111\n",
      "weighted avg       0.69      0.67      0.67       111\n",
      "\n"
     ]
    }
   ],
   "source": [
    "y_pred = model.predict_classes(X_test)\n",
    "y_pred = list(le.inverse_transform(y_pred))\n",
    "\n",
    "print(classification_report(y_test_labels, y_pred))"
   ]
  },
  {
   "cell_type": "code",
   "execution_count": 83,
   "metadata": {},
   "outputs": [
    {
     "name": "stdout",
     "output_type": "stream",
     "text": [
      "              precision    recall  f1-score   support\n",
      "\n",
      "      apples       0.96      1.00      0.98        22\n",
      "      father       0.96      1.00      0.98        22\n",
      "     flowers       1.00      0.95      0.98        22\n",
      "       water       1.00      0.91      0.95        22\n",
      "      worker       0.96      1.00      0.98        23\n",
      "\n",
      "    accuracy                           0.97       111\n",
      "   macro avg       0.97      0.97      0.97       111\n",
      "weighted avg       0.97      0.97      0.97       111\n",
      "\n"
     ]
    }
   ],
   "source": [
    "y_pred2 = model2.predict_classes(X_test_2)\n",
    "y_pred2 = list(le.inverse_transform(y_pred2))\n",
    "\n",
    "print(classification_report(y_test_labels, y_pred2))"
   ]
  },
  {
   "cell_type": "code",
   "execution_count": 84,
   "metadata": {},
   "outputs": [
    {
     "name": "stdout",
     "output_type": "stream",
     "text": [
      "              precision    recall  f1-score   support\n",
      "\n",
      "      apples       0.79      0.86      0.83        22\n",
      "      father       0.75      0.82      0.78        22\n",
      "     flowers       0.85      0.77      0.81        22\n",
      "       water       0.93      0.64      0.76        22\n",
      "      worker       0.82      1.00      0.90        23\n",
      "\n",
      "    accuracy                           0.82       111\n",
      "   macro avg       0.83      0.82      0.82       111\n",
      "weighted avg       0.83      0.82      0.82       111\n",
      "\n"
     ]
    }
   ],
   "source": [
    "y_pred3 = model3.predict_classes(X_test_3)\n",
    "y_pred3 = list(le.inverse_transform(y_pred3))\n",
    "\n",
    "print(classification_report(y_test_labels, y_pred3))"
   ]
  },
  {
   "cell_type": "code",
   "execution_count": 85,
   "metadata": {},
   "outputs": [
    {
     "name": "stdout",
     "output_type": "stream",
     "text": [
      "              precision    recall  f1-score   support\n",
      "\n",
      "      apples       0.95      0.82      0.88        22\n",
      "      father       0.80      0.73      0.76        22\n",
      "     flowers       0.78      0.82      0.80        22\n",
      "       water       0.80      0.91      0.85        22\n",
      "      worker       0.92      0.96      0.94        23\n",
      "\n",
      "    accuracy                           0.85       111\n",
      "   macro avg       0.85      0.85      0.85       111\n",
      "weighted avg       0.85      0.85      0.85       111\n",
      "\n"
     ]
    }
   ],
   "source": [
    "y_pred5 = model5.predict_classes(X_test_5)\n",
    "y_pred5 = list(le.inverse_transform(y_pred5))\n",
    "\n",
    "print(classification_report(y_test_labels, y_pred5))"
   ]
  },
  {
   "cell_type": "code",
   "execution_count": 86,
   "metadata": {},
   "outputs": [
    {
     "name": "stdout",
     "output_type": "stream",
     "text": [
      "              precision    recall  f1-score   support\n",
      "\n",
      "      apples       0.95      0.91      0.93        22\n",
      "      father       0.91      0.91      0.91        22\n",
      "     flowers       0.90      0.82      0.86        22\n",
      "       water       0.84      0.95      0.89        22\n",
      "      worker       0.96      0.96      0.96        23\n",
      "\n",
      "    accuracy                           0.91       111\n",
      "   macro avg       0.91      0.91      0.91       111\n",
      "weighted avg       0.91      0.91      0.91       111\n",
      "\n"
     ]
    }
   ],
   "source": [
    "y_pred6 = model6.predict_classes(X_test_6)\n",
    "y_pred6 = list(le.inverse_transform(y_pred6))\n",
    "\n",
    "print(classification_report(y_test_labels, y_pred6))"
   ]
  },
  {
   "cell_type": "code",
   "execution_count": 87,
   "metadata": {},
   "outputs": [
    {
     "name": "stdout",
     "output_type": "stream",
     "text": [
      "              precision    recall  f1-score   support\n",
      "\n",
      "      apples       0.88      0.95      0.91        22\n",
      "      father       0.88      0.95      0.91        22\n",
      "     flowers       0.90      0.86      0.88        22\n",
      "       water       0.95      0.91      0.93        22\n",
      "      worker       0.95      0.87      0.91        23\n",
      "\n",
      "    accuracy                           0.91       111\n",
      "   macro avg       0.91      0.91      0.91       111\n",
      "weighted avg       0.91      0.91      0.91       111\n",
      "\n"
     ]
    }
   ],
   "source": [
    "y_pred7 = model7.predict_classes(X_test_7)\n",
    "y_pred7 = list(le.inverse_transform(y_pred7))\n",
    "\n",
    "print(classification_report(y_test_labels, y_pred7))"
   ]
  },
  {
   "cell_type": "markdown",
   "metadata": {},
   "source": [
    "The top 2 performing models are Model 2 and Model 7, based on the accuracy and the f1 score."
   ]
  },
  {
   "cell_type": "code",
   "execution_count": null,
   "metadata": {},
   "outputs": [],
   "source": []
  }
 ],
 "metadata": {
  "kernelspec": {
   "display_name": "Python 3",
   "language": "python",
   "name": "python3"
  },
  "language_info": {
   "codemirror_mode": {
    "name": "ipython",
    "version": 3
   },
   "file_extension": ".py",
   "mimetype": "text/x-python",
   "name": "python",
   "nbconvert_exporter": "python",
   "pygments_lexer": "ipython3",
   "version": "3.6.12"
  }
 },
 "nbformat": 4,
 "nbformat_minor": 4
}
