{
 "cells": [
  {
   "cell_type": "code",
   "execution_count": 1,
   "metadata": {
    "scrolled": true
   },
   "outputs": [
    {
     "name": "stderr",
     "output_type": "stream",
     "text": [
      "Using TensorFlow backend.\n"
     ]
    }
   ],
   "source": [
    "import IPython.display as ipd\n",
    "import pandas as pd\n",
    "import numpy as np\n",
    "import librosa\n",
    "import librosa.display\n",
    "import matplotlib.pyplot as plt\n",
    "from scipy.io import wavfile as wav\n",
    "\n",
    "from sklearn import metrics\n",
    "from sklearn.preprocessing import LabelEncoder, StandardScaler\n",
    "from sklearn.model_selection import train_test_split\n",
    "\n",
    "from keras.models import Sequential\n",
    "from keras.layers import Dense, Dropout, Activation, Conv2D, MaxPooling2D, Flatten, Masking, GRU, LSTM\n",
    "from keras.preprocessing.sequence import pad_sequences\n",
    "from keras.optimizers import Adam\n",
    "from keras.utils import to_categorical\n",
    "from keras.callbacks import ModelCheckpoint \n",
    "from datetime import datetime \n"
   ]
  },
  {
   "cell_type": "code",
   "execution_count": 2,
   "metadata": {},
   "outputs": [],
   "source": [
    "train_df = pd.read_csv(\"datasets/train.csv\")"
   ]
  },
  {
   "cell_type": "code",
   "execution_count": 3,
   "metadata": {},
   "outputs": [
    {
     "data": {
      "text/html": [
       "<div>\n",
       "<style scoped>\n",
       "    .dataframe tbody tr th:only-of-type {\n",
       "        vertical-align: middle;\n",
       "    }\n",
       "\n",
       "    .dataframe tbody tr th {\n",
       "        vertical-align: top;\n",
       "    }\n",
       "\n",
       "    .dataframe thead th {\n",
       "        text-align: right;\n",
       "    }\n",
       "</style>\n",
       "<table border=\"1\" class=\"dataframe\">\n",
       "  <thead>\n",
       "    <tr style=\"text-align: right;\">\n",
       "      <th></th>\n",
       "      <th>id</th>\n",
       "      <th>filepath</th>\n",
       "      <th>duration</th>\n",
       "      <th>class_label</th>\n",
       "    </tr>\n",
       "  </thead>\n",
       "  <tbody>\n",
       "    <tr>\n",
       "      <th>0</th>\n",
       "      <td>10210049</td>\n",
       "      <td>./assets/audio_train/10210049_father.wav</td>\n",
       "      <td>0.457959</td>\n",
       "      <td>father</td>\n",
       "    </tr>\n",
       "    <tr>\n",
       "      <th>1</th>\n",
       "      <td>10210049</td>\n",
       "      <td>./assets/audio_train/10210049_worker.wav</td>\n",
       "      <td>0.519501</td>\n",
       "      <td>worker</td>\n",
       "    </tr>\n",
       "    <tr>\n",
       "      <th>2</th>\n",
       "      <td>10210051</td>\n",
       "      <td>./assets/audio_train/10210051_water.wav</td>\n",
       "      <td>0.395828</td>\n",
       "      <td>water</td>\n",
       "    </tr>\n",
       "    <tr>\n",
       "      <th>3</th>\n",
       "      <td>10210062</td>\n",
       "      <td>./assets/audio_train/10210062_flowers.wav</td>\n",
       "      <td>0.399229</td>\n",
       "      <td>flowers</td>\n",
       "    </tr>\n",
       "    <tr>\n",
       "      <th>4</th>\n",
       "      <td>10210066</td>\n",
       "      <td>./assets/audio_train/10210066_apples.wav</td>\n",
       "      <td>0.524354</td>\n",
       "      <td>apples</td>\n",
       "    </tr>\n",
       "  </tbody>\n",
       "</table>\n",
       "</div>"
      ],
      "text/plain": [
       "         id                                   filepath  duration class_label\n",
       "0  10210049   ./assets/audio_train/10210049_father.wav  0.457959      father\n",
       "1  10210049   ./assets/audio_train/10210049_worker.wav  0.519501      worker\n",
       "2  10210051    ./assets/audio_train/10210051_water.wav  0.395828       water\n",
       "3  10210062  ./assets/audio_train/10210062_flowers.wav  0.399229     flowers\n",
       "4  10210066   ./assets/audio_train/10210066_apples.wav  0.524354      apples"
      ]
     },
     "execution_count": 3,
     "metadata": {},
     "output_type": "execute_result"
    }
   ],
   "source": [
    "train_df.head()"
   ]
  },
  {
   "cell_type": "markdown",
   "metadata": {},
   "source": [
    "## 3. Preprocessing"
   ]
  },
  {
   "cell_type": "markdown",
   "metadata": {},
   "source": [
    "There are many ways of preprocessing audio files and the methods of preprocessing is heavily dependent on the type of classification model which will be used.\n",
    "\n",
    "The model I will be building is:\n",
    "\n",
    "1. Feedforward Neural Network ( 2 kind of preprocessing )\n",
    "2. Convolutional Neural Network\n",
    "3. Recurrent Neural Network with LSTM\n",
    "4. Ensemble Method"
   ]
  },
  {
   "cell_type": "markdown",
   "metadata": {},
   "source": [
    "#### Preproccessing for FNN\n",
    "\n",
    "There are a few ways to process the audio for a simple feedforward neural network. The first and most common way is to find the average of each coefficient of the MFCC across time, which will give us a shape of (40,1) dimensions. \n"
   ]
  },
  {
   "cell_type": "code",
   "execution_count": 4,
   "metadata": {},
   "outputs": [],
   "source": [
    "def get_mfccs_features(file_list, n_mfcc=40):\n",
    "    \"\"\"\n",
    "    This function will take in a list of audio file path and produce 4 times 40 dimensions numpy array (40, 1) which\n",
    "    will be ready to put into the neural network.\n",
    "    \n",
    "    How it works?\n",
    "    \n",
    "    For each audio file, it will calculate the Mel-Frequency Cestral Coefficients (MFCCs) over a set\n",
    "    number of time frames, determined by the sampling rate. The default number of coefficient is set at 40,\n",
    "    giving us a numpy array of 40 (coefs) by number of timeframes.\n",
    "    \n",
    "    In order for it to be have a shape of (, 1), the mean and standard deviation will be calculated, across \n",
    "    the entire time frame. As time is also important information which we would not want to lose, the \n",
    "    delta of the mfcc will also be calculated, and likewise, the average and the standard deviation will be\n",
    "    calculated.\n",
    "    \n",
    "    mfccs_mean = mean of (40 mfcc x time) - shape = (40,1)\n",
    "    mfccs_std = standard dev of (40 mfcc x time) - shape = (40,1)\n",
    "    delta_mean = mean of delta of 40 mfcc across time - shape = (40,1)\n",
    "    delta_std = standard dev of delta of 40 mfcc across time - shape = (40,1)\n",
    "    \n",
    "    \n",
    "    \"\"\"\n",
    "    \n",
    "    \n",
    "    features = {}\n",
    "    mean = []\n",
    "    std = []\n",
    "    delta_mean = []\n",
    "    delta_std = []\n",
    "    for f in file_list:\n",
    "        audio, sr = librosa.load(f) \n",
    "        mfccs = librosa.feature.mfcc(y=audio, sr=sr, n_mfcc=n_mfcc)\n",
    "        mfccs_delta = librosa.feature.delta(mfccs)\n",
    "        \n",
    "        mfccs_mean = np.mean(mfccs.T,axis=0)\n",
    "        mean.append(mfccs_mean)\n",
    "        \n",
    "        mfccs_std = np.std(mfccs.T,axis=0)\n",
    "        std.append(mfccs_std)\n",
    "        \n",
    "        mfccs_delta_mean = np.mean(mfccs_delta.T,axis=0)\n",
    "        delta_mean.append(mfccs_delta_mean)\n",
    "        \n",
    "        mfccs_delta_std = np.std(mfccs_delta.T,axis=0)\n",
    "        delta_std.append(mfccs_delta_std)\n",
    "    \n",
    "    features['mfccs_mean'] = mean\n",
    "    features['mfccs_std'] = std\n",
    "    features['mfccs_delta_mean'] = delta_mean\n",
    "    features['mfccs_delta_std'] = delta_std\n",
    "    \n",
    "    return features"
   ]
  },
  {
   "cell_type": "code",
   "execution_count": 5,
   "metadata": {},
   "outputs": [],
   "source": [
    "# get all the features\n",
    "\n",
    "mfccs_features = get_mfccs_features(train_df['filepath'])"
   ]
  },
  {
   "cell_type": "code",
   "execution_count": 6,
   "metadata": {},
   "outputs": [],
   "source": [
    "# add them into the dataframe\n",
    "\n",
    "for k, v in mfccs_features.items():\n",
    "    train_df[k] = v"
   ]
  },
  {
   "cell_type": "code",
   "execution_count": 7,
   "metadata": {},
   "outputs": [],
   "source": [
    "# create a new feature with a dimension of 160, stacking the mean and standard deviation of \n",
    "# the mfcc and its delta.\n",
    "\n",
    "combined_features = []\n",
    "for n in range(0,len(train_df)):\n",
    "    combined_features.append(np.concatenate((train_df['mfccs_mean'][n],\n",
    "                                             train_df['mfccs_std'][n], \n",
    "                                             train_df['mfccs_delta_mean'][n],\n",
    "                                             train_df['mfccs_delta_std'][n])))\n",
    "    \n",
    "train_df['combined_mfccs'] = combined_features\n",
    "# this will give us an array of (160, 1)"
   ]
  },
  {
   "cell_type": "code",
   "execution_count": 8,
   "metadata": {},
   "outputs": [
    {
     "data": {
      "text/html": [
       "<div>\n",
       "<style scoped>\n",
       "    .dataframe tbody tr th:only-of-type {\n",
       "        vertical-align: middle;\n",
       "    }\n",
       "\n",
       "    .dataframe tbody tr th {\n",
       "        vertical-align: top;\n",
       "    }\n",
       "\n",
       "    .dataframe thead th {\n",
       "        text-align: right;\n",
       "    }\n",
       "</style>\n",
       "<table border=\"1\" class=\"dataframe\">\n",
       "  <thead>\n",
       "    <tr style=\"text-align: right;\">\n",
       "      <th></th>\n",
       "      <th>id</th>\n",
       "      <th>filepath</th>\n",
       "      <th>duration</th>\n",
       "      <th>class_label</th>\n",
       "      <th>mfccs_mean</th>\n",
       "      <th>mfccs_std</th>\n",
       "      <th>mfccs_delta_mean</th>\n",
       "      <th>mfccs_delta_std</th>\n",
       "      <th>combined_mfccs</th>\n",
       "    </tr>\n",
       "  </thead>\n",
       "  <tbody>\n",
       "    <tr>\n",
       "      <th>0</th>\n",
       "      <td>10210049</td>\n",
       "      <td>./assets/audio_train/10210049_father.wav</td>\n",
       "      <td>0.457959</td>\n",
       "      <td>father</td>\n",
       "      <td>[-196.65865, 126.91008, -32.876976, 25.416832,...</td>\n",
       "      <td>[58.43318, 37.41045, 29.724075, 16.595234, 13....</td>\n",
       "      <td>[7.6438293, 2.0495448, -2.2808201, 0.26232308,...</td>\n",
       "      <td>[12.530376, 8.677294, 7.3228106, 4.123108, 2.8...</td>\n",
       "      <td>[-196.65865, 126.91008, -32.876976, 25.416832,...</td>\n",
       "    </tr>\n",
       "    <tr>\n",
       "      <th>1</th>\n",
       "      <td>10210049</td>\n",
       "      <td>./assets/audio_train/10210049_worker.wav</td>\n",
       "      <td>0.519501</td>\n",
       "      <td>worker</td>\n",
       "      <td>[-258.90433, 171.56952, 5.8856416, 34.963104, ...</td>\n",
       "      <td>[62.08626, 30.751865, 25.998608, 21.70042, 16....</td>\n",
       "      <td>[-4.5402517, -3.4924977, -0.37305757, -0.64102...</td>\n",
       "      <td>[10.262612, 6.768381, 4.2443323, 5.0021243, 2....</td>\n",
       "      <td>[-258.90433, 171.56952, 5.8856416, 34.963104, ...</td>\n",
       "    </tr>\n",
       "    <tr>\n",
       "      <th>2</th>\n",
       "      <td>10210051</td>\n",
       "      <td>./assets/audio_train/10210051_water.wav</td>\n",
       "      <td>0.395828</td>\n",
       "      <td>water</td>\n",
       "      <td>[-235.71283, 148.99991, 7.0049567, 34.56189, -...</td>\n",
       "      <td>[87.36377, 34.059155, 39.78111, 24.895144, 33....</td>\n",
       "      <td>[3.2932093, -4.0986385, -3.06783, 1.4283211, 2...</td>\n",
       "      <td>[11.529502, 5.509337, 4.7498536, 5.5789504, 6....</td>\n",
       "      <td>[-235.71283, 148.99991, 7.0049567, 34.56189, -...</td>\n",
       "    </tr>\n",
       "    <tr>\n",
       "      <th>3</th>\n",
       "      <td>10210062</td>\n",
       "      <td>./assets/audio_train/10210062_flowers.wav</td>\n",
       "      <td>0.399229</td>\n",
       "      <td>flowers</td>\n",
       "      <td>[-233.44008, 127.30211, 11.549065, 42.032394, ...</td>\n",
       "      <td>[44.99465, 60.81429, 18.286491, 29.394094, 21....</td>\n",
       "      <td>[-0.2987371, -4.79065, 2.8436575, 3.4281251, -...</td>\n",
       "      <td>[9.446445, 16.08716, 2.7725258, 6.156691, 4.67...</td>\n",
       "      <td>[-233.44008, 127.30211, 11.549065, 42.032394, ...</td>\n",
       "    </tr>\n",
       "    <tr>\n",
       "      <th>4</th>\n",
       "      <td>10210066</td>\n",
       "      <td>./assets/audio_train/10210066_apples.wav</td>\n",
       "      <td>0.524354</td>\n",
       "      <td>apples</td>\n",
       "      <td>[-242.86156, 123.218254, -12.731119, 54.86693,...</td>\n",
       "      <td>[71.841354, 71.481544, 38.154087, 27.27552, 38...</td>\n",
       "      <td>[-5.2192245, -10.501004, 5.264592, 1.5651596, ...</td>\n",
       "      <td>[14.663708, 11.573661, 4.3268127, 5.169234, 5....</td>\n",
       "      <td>[-242.86156, 123.218254, -12.731119, 54.86693,...</td>\n",
       "    </tr>\n",
       "  </tbody>\n",
       "</table>\n",
       "</div>"
      ],
      "text/plain": [
       "         id                                   filepath  duration class_label  \\\n",
       "0  10210049   ./assets/audio_train/10210049_father.wav  0.457959      father   \n",
       "1  10210049   ./assets/audio_train/10210049_worker.wav  0.519501      worker   \n",
       "2  10210051    ./assets/audio_train/10210051_water.wav  0.395828       water   \n",
       "3  10210062  ./assets/audio_train/10210062_flowers.wav  0.399229     flowers   \n",
       "4  10210066   ./assets/audio_train/10210066_apples.wav  0.524354      apples   \n",
       "\n",
       "                                          mfccs_mean  \\\n",
       "0  [-196.65865, 126.91008, -32.876976, 25.416832,...   \n",
       "1  [-258.90433, 171.56952, 5.8856416, 34.963104, ...   \n",
       "2  [-235.71283, 148.99991, 7.0049567, 34.56189, -...   \n",
       "3  [-233.44008, 127.30211, 11.549065, 42.032394, ...   \n",
       "4  [-242.86156, 123.218254, -12.731119, 54.86693,...   \n",
       "\n",
       "                                           mfccs_std  \\\n",
       "0  [58.43318, 37.41045, 29.724075, 16.595234, 13....   \n",
       "1  [62.08626, 30.751865, 25.998608, 21.70042, 16....   \n",
       "2  [87.36377, 34.059155, 39.78111, 24.895144, 33....   \n",
       "3  [44.99465, 60.81429, 18.286491, 29.394094, 21....   \n",
       "4  [71.841354, 71.481544, 38.154087, 27.27552, 38...   \n",
       "\n",
       "                                    mfccs_delta_mean  \\\n",
       "0  [7.6438293, 2.0495448, -2.2808201, 0.26232308,...   \n",
       "1  [-4.5402517, -3.4924977, -0.37305757, -0.64102...   \n",
       "2  [3.2932093, -4.0986385, -3.06783, 1.4283211, 2...   \n",
       "3  [-0.2987371, -4.79065, 2.8436575, 3.4281251, -...   \n",
       "4  [-5.2192245, -10.501004, 5.264592, 1.5651596, ...   \n",
       "\n",
       "                                     mfccs_delta_std  \\\n",
       "0  [12.530376, 8.677294, 7.3228106, 4.123108, 2.8...   \n",
       "1  [10.262612, 6.768381, 4.2443323, 5.0021243, 2....   \n",
       "2  [11.529502, 5.509337, 4.7498536, 5.5789504, 6....   \n",
       "3  [9.446445, 16.08716, 2.7725258, 6.156691, 4.67...   \n",
       "4  [14.663708, 11.573661, 4.3268127, 5.169234, 5....   \n",
       "\n",
       "                                      combined_mfccs  \n",
       "0  [-196.65865, 126.91008, -32.876976, 25.416832,...  \n",
       "1  [-258.90433, 171.56952, 5.8856416, 34.963104, ...  \n",
       "2  [-235.71283, 148.99991, 7.0049567, 34.56189, -...  \n",
       "3  [-233.44008, 127.30211, 11.549065, 42.032394, ...  \n",
       "4  [-242.86156, 123.218254, -12.731119, 54.86693,...  "
      ]
     },
     "execution_count": 8,
     "metadata": {},
     "output_type": "execute_result"
    }
   ],
   "source": [
    "# check if all correctly done\n",
    "\n",
    "train_df.head()"
   ]
  },
  {
   "cell_type": "markdown",
   "metadata": {},
   "source": [
    "**Pre-processing For CNN**"
   ]
  },
  {
   "cell_type": "code",
   "execution_count": 9,
   "metadata": {},
   "outputs": [],
   "source": [
    "def get_mel(filename):\n",
    "    \"\"\"\n",
    "    This function gives the melspectrogram and padded to a fixed dimension, which is 39. 39 frame happens to be the longest frame.\n",
    "    The spectrogram can then be used in CNN later.\n",
    "    \"\"\"\n",
    "    \n",
    "    audio, sr = librosa.load(filename)\n",
    "    mel= librosa.feature.melspectrogram(audio, sr=sr)\n",
    "    mel = librosa.util.fix_length(mel,45)\n",
    "    return mel"
   ]
  },
  {
   "cell_type": "code",
   "execution_count": 10,
   "metadata": {},
   "outputs": [],
   "source": [
    "# emp = []\n",
    "# for f in train_df['filepath'].values:\n",
    "#     audio, sr = librosa.load(f)\n",
    "#     mel= librosa.feature.melspectrogram(audio, sr=sr)\n",
    "#     emp.append(mel.shape[1])\n",
    "    \n",
    "# max(emp)"
   ]
  },
  {
   "cell_type": "code",
   "execution_count": 11,
   "metadata": {},
   "outputs": [],
   "source": [
    "# apply the mel-spectrogram function to all the files\n",
    "\n",
    "train_df['mel'] = train_df['filepath'].map(get_mel)"
   ]
  },
  {
   "cell_type": "code",
   "execution_count": 12,
   "metadata": {},
   "outputs": [
    {
     "data": {
      "text/html": [
       "<div>\n",
       "<style scoped>\n",
       "    .dataframe tbody tr th:only-of-type {\n",
       "        vertical-align: middle;\n",
       "    }\n",
       "\n",
       "    .dataframe tbody tr th {\n",
       "        vertical-align: top;\n",
       "    }\n",
       "\n",
       "    .dataframe thead th {\n",
       "        text-align: right;\n",
       "    }\n",
       "</style>\n",
       "<table border=\"1\" class=\"dataframe\">\n",
       "  <thead>\n",
       "    <tr style=\"text-align: right;\">\n",
       "      <th></th>\n",
       "      <th>id</th>\n",
       "      <th>filepath</th>\n",
       "      <th>duration</th>\n",
       "      <th>class_label</th>\n",
       "      <th>mfccs_mean</th>\n",
       "      <th>mfccs_std</th>\n",
       "      <th>mfccs_delta_mean</th>\n",
       "      <th>mfccs_delta_std</th>\n",
       "      <th>combined_mfccs</th>\n",
       "      <th>mel</th>\n",
       "    </tr>\n",
       "  </thead>\n",
       "  <tbody>\n",
       "    <tr>\n",
       "      <th>0</th>\n",
       "      <td>10210049</td>\n",
       "      <td>./assets/audio_train/10210049_father.wav</td>\n",
       "      <td>0.457959</td>\n",
       "      <td>father</td>\n",
       "      <td>[-196.65865, 126.91008, -32.876976, 25.416832,...</td>\n",
       "      <td>[58.43318, 37.41045, 29.724075, 16.595234, 13....</td>\n",
       "      <td>[7.6438293, 2.0495448, -2.2808201, 0.26232308,...</td>\n",
       "      <td>[12.530376, 8.677294, 7.3228106, 4.123108, 2.8...</td>\n",
       "      <td>[-196.65865, 126.91008, -32.876976, 25.416832,...</td>\n",
       "      <td>[[0.010372462, 0.0030662478, 0.00062838185, 0....</td>\n",
       "    </tr>\n",
       "    <tr>\n",
       "      <th>1</th>\n",
       "      <td>10210049</td>\n",
       "      <td>./assets/audio_train/10210049_worker.wav</td>\n",
       "      <td>0.519501</td>\n",
       "      <td>worker</td>\n",
       "      <td>[-258.90433, 171.56952, 5.8856416, 34.963104, ...</td>\n",
       "      <td>[62.08626, 30.751865, 25.998608, 21.70042, 16....</td>\n",
       "      <td>[-4.5402517, -3.4924977, -0.37305757, -0.64102...</td>\n",
       "      <td>[10.262612, 6.768381, 4.2443323, 5.0021243, 2....</td>\n",
       "      <td>[-258.90433, 171.56952, 5.8856416, 34.963104, ...</td>\n",
       "      <td>[[0.0010817309, 0.0005368751, 0.001299449, 0.0...</td>\n",
       "    </tr>\n",
       "    <tr>\n",
       "      <th>2</th>\n",
       "      <td>10210051</td>\n",
       "      <td>./assets/audio_train/10210051_water.wav</td>\n",
       "      <td>0.395828</td>\n",
       "      <td>water</td>\n",
       "      <td>[-235.71283, 148.99991, 7.0049567, 34.56189, -...</td>\n",
       "      <td>[87.36377, 34.059155, 39.78111, 24.895144, 33....</td>\n",
       "      <td>[3.2932093, -4.0986385, -3.06783, 1.4283211, 2...</td>\n",
       "      <td>[11.529502, 5.509337, 4.7498536, 5.5789504, 6....</td>\n",
       "      <td>[-235.71283, 148.99991, 7.0049567, 34.56189, -...</td>\n",
       "      <td>[[0.06794148, 0.01626657, 0.0052422658, 0.0144...</td>\n",
       "    </tr>\n",
       "    <tr>\n",
       "      <th>3</th>\n",
       "      <td>10210062</td>\n",
       "      <td>./assets/audio_train/10210062_flowers.wav</td>\n",
       "      <td>0.399229</td>\n",
       "      <td>flowers</td>\n",
       "      <td>[-233.44008, 127.30211, 11.549065, 42.032394, ...</td>\n",
       "      <td>[44.99465, 60.81429, 18.286491, 29.394094, 21....</td>\n",
       "      <td>[-0.2987371, -4.79065, 2.8436575, 3.4281251, -...</td>\n",
       "      <td>[9.446445, 16.08716, 2.7725258, 6.156691, 4.67...</td>\n",
       "      <td>[-233.44008, 127.30211, 11.549065, 42.032394, ...</td>\n",
       "      <td>[[0.029654736, 0.037957847, 0.040742517, 0.037...</td>\n",
       "    </tr>\n",
       "    <tr>\n",
       "      <th>4</th>\n",
       "      <td>10210066</td>\n",
       "      <td>./assets/audio_train/10210066_apples.wav</td>\n",
       "      <td>0.524354</td>\n",
       "      <td>apples</td>\n",
       "      <td>[-242.86156, 123.218254, -12.731119, 54.86693,...</td>\n",
       "      <td>[71.841354, 71.481544, 38.154087, 27.27552, 38...</td>\n",
       "      <td>[-5.2192245, -10.501004, 5.264592, 1.5651596, ...</td>\n",
       "      <td>[14.663708, 11.573661, 4.3268127, 5.169234, 5....</td>\n",
       "      <td>[-242.86156, 123.218254, -12.731119, 54.86693,...</td>\n",
       "      <td>[[0.0025025601, 0.0026420446, 0.0025871138, 0....</td>\n",
       "    </tr>\n",
       "  </tbody>\n",
       "</table>\n",
       "</div>"
      ],
      "text/plain": [
       "         id                                   filepath  duration class_label  \\\n",
       "0  10210049   ./assets/audio_train/10210049_father.wav  0.457959      father   \n",
       "1  10210049   ./assets/audio_train/10210049_worker.wav  0.519501      worker   \n",
       "2  10210051    ./assets/audio_train/10210051_water.wav  0.395828       water   \n",
       "3  10210062  ./assets/audio_train/10210062_flowers.wav  0.399229     flowers   \n",
       "4  10210066   ./assets/audio_train/10210066_apples.wav  0.524354      apples   \n",
       "\n",
       "                                          mfccs_mean  \\\n",
       "0  [-196.65865, 126.91008, -32.876976, 25.416832,...   \n",
       "1  [-258.90433, 171.56952, 5.8856416, 34.963104, ...   \n",
       "2  [-235.71283, 148.99991, 7.0049567, 34.56189, -...   \n",
       "3  [-233.44008, 127.30211, 11.549065, 42.032394, ...   \n",
       "4  [-242.86156, 123.218254, -12.731119, 54.86693,...   \n",
       "\n",
       "                                           mfccs_std  \\\n",
       "0  [58.43318, 37.41045, 29.724075, 16.595234, 13....   \n",
       "1  [62.08626, 30.751865, 25.998608, 21.70042, 16....   \n",
       "2  [87.36377, 34.059155, 39.78111, 24.895144, 33....   \n",
       "3  [44.99465, 60.81429, 18.286491, 29.394094, 21....   \n",
       "4  [71.841354, 71.481544, 38.154087, 27.27552, 38...   \n",
       "\n",
       "                                    mfccs_delta_mean  \\\n",
       "0  [7.6438293, 2.0495448, -2.2808201, 0.26232308,...   \n",
       "1  [-4.5402517, -3.4924977, -0.37305757, -0.64102...   \n",
       "2  [3.2932093, -4.0986385, -3.06783, 1.4283211, 2...   \n",
       "3  [-0.2987371, -4.79065, 2.8436575, 3.4281251, -...   \n",
       "4  [-5.2192245, -10.501004, 5.264592, 1.5651596, ...   \n",
       "\n",
       "                                     mfccs_delta_std  \\\n",
       "0  [12.530376, 8.677294, 7.3228106, 4.123108, 2.8...   \n",
       "1  [10.262612, 6.768381, 4.2443323, 5.0021243, 2....   \n",
       "2  [11.529502, 5.509337, 4.7498536, 5.5789504, 6....   \n",
       "3  [9.446445, 16.08716, 2.7725258, 6.156691, 4.67...   \n",
       "4  [14.663708, 11.573661, 4.3268127, 5.169234, 5....   \n",
       "\n",
       "                                      combined_mfccs  \\\n",
       "0  [-196.65865, 126.91008, -32.876976, 25.416832,...   \n",
       "1  [-258.90433, 171.56952, 5.8856416, 34.963104, ...   \n",
       "2  [-235.71283, 148.99991, 7.0049567, 34.56189, -...   \n",
       "3  [-233.44008, 127.30211, 11.549065, 42.032394, ...   \n",
       "4  [-242.86156, 123.218254, -12.731119, 54.86693,...   \n",
       "\n",
       "                                                 mel  \n",
       "0  [[0.010372462, 0.0030662478, 0.00062838185, 0....  \n",
       "1  [[0.0010817309, 0.0005368751, 0.001299449, 0.0...  \n",
       "2  [[0.06794148, 0.01626657, 0.0052422658, 0.0144...  \n",
       "3  [[0.029654736, 0.037957847, 0.040742517, 0.037...  \n",
       "4  [[0.0025025601, 0.0026420446, 0.0025871138, 0....  "
      ]
     },
     "execution_count": 12,
     "metadata": {},
     "output_type": "execute_result"
    }
   ],
   "source": [
    "# check if successful\n",
    "\n",
    "train_df.head()"
   ]
  },
  {
   "cell_type": "markdown",
   "metadata": {},
   "source": [
    "\n",
    "## 4. Modelling"
   ]
  },
  {
   "cell_type": "markdown",
   "metadata": {},
   "source": [
    "Model 1: Vanilla Base-line model\n",
    "\n",
    "FNN with MFCCS mean\n",
    "Dimension = 40\n",
    "layers = 2"
   ]
  },
  {
   "cell_type": "code",
   "execution_count": 13,
   "metadata": {},
   "outputs": [],
   "source": [
    "X = train_df['mfccs_mean']"
   ]
  },
  {
   "cell_type": "code",
   "execution_count": 14,
   "metadata": {},
   "outputs": [],
   "source": [
    "X = np.array(X.tolist())"
   ]
  },
  {
   "cell_type": "code",
   "execution_count": 15,
   "metadata": {},
   "outputs": [],
   "source": [
    "le = LabelEncoder()\n",
    "y = to_categorical(le.fit_transform(train_df['class_label'].tolist()))\n",
    "y = np.array(y)"
   ]
  },
  {
   "cell_type": "code",
   "execution_count": 16,
   "metadata": {},
   "outputs": [],
   "source": [
    "X_train, X_test, y_train, y_test = train_test_split(X, y, test_size = 0.2, random_state = 42, stratify = y)"
   ]
  },
  {
   "cell_type": "code",
   "execution_count": 17,
   "metadata": {},
   "outputs": [
    {
     "data": {
      "text/plain": [
       "(210, 40)"
      ]
     },
     "execution_count": 17,
     "metadata": {},
     "output_type": "execute_result"
    }
   ],
   "source": [
    "X_test.shape"
   ]
  },
  {
   "cell_type": "code",
   "execution_count": 18,
   "metadata": {},
   "outputs": [],
   "source": [
    "model = Sequential()\n",
    "model.add(Dense(64, activation='relu', input_shape=(40,)))\n",
    "model.add(Dense(64, activation='relu'))\n",
    "model.add(Dense(5, activation='softmax'))"
   ]
  },
  {
   "cell_type": "code",
   "execution_count": 19,
   "metadata": {},
   "outputs": [],
   "source": [
    "model.compile(loss='categorical_crossentropy', optimizer='adam', metrics = ['accuracy'])"
   ]
  },
  {
   "cell_type": "code",
   "execution_count": 20,
   "metadata": {},
   "outputs": [
    {
     "name": "stdout",
     "output_type": "stream",
     "text": [
      "Model: \"sequential_1\"\n",
      "_________________________________________________________________\n",
      "Layer (type)                 Output Shape              Param #   \n",
      "=================================================================\n",
      "dense_1 (Dense)              (None, 64)                2624      \n",
      "_________________________________________________________________\n",
      "dense_2 (Dense)              (None, 64)                4160      \n",
      "_________________________________________________________________\n",
      "dense_3 (Dense)              (None, 5)                 325       \n",
      "=================================================================\n",
      "Total params: 7,109\n",
      "Trainable params: 7,109\n",
      "Non-trainable params: 0\n",
      "_________________________________________________________________\n"
     ]
    }
   ],
   "source": [
    "model.summary()"
   ]
  },
  {
   "cell_type": "code",
   "execution_count": 21,
   "metadata": {
    "scrolled": true
   },
   "outputs": [
    {
     "name": "stdout",
     "output_type": "stream",
     "text": [
      "Train on 839 samples, validate on 210 samples\n",
      "Epoch 1/50\n",
      " - 2s - loss: 5.6487 - accuracy: 0.3063 - val_loss: 3.0937 - val_accuracy: 0.4429\n",
      "Epoch 2/50\n",
      " - 0s - loss: 2.2583 - accuracy: 0.4791 - val_loss: 2.2308 - val_accuracy: 0.5048\n",
      "Epoch 3/50\n",
      " - 0s - loss: 1.6017 - accuracy: 0.5805 - val_loss: 1.6442 - val_accuracy: 0.5714\n",
      "Epoch 4/50\n",
      " - 0s - loss: 1.3061 - accuracy: 0.6138 - val_loss: 1.4876 - val_accuracy: 0.5810\n",
      "Epoch 5/50\n",
      " - 0s - loss: 1.1056 - accuracy: 0.6698 - val_loss: 1.3412 - val_accuracy: 0.6048\n",
      "Epoch 6/50\n",
      " - 0s - loss: 0.9269 - accuracy: 0.6996 - val_loss: 1.1966 - val_accuracy: 0.6286\n",
      "Epoch 7/50\n",
      " - 0s - loss: 0.8513 - accuracy: 0.7008 - val_loss: 1.2221 - val_accuracy: 0.6429\n",
      "Epoch 8/50\n",
      " - 0s - loss: 0.8119 - accuracy: 0.7235 - val_loss: 1.2378 - val_accuracy: 0.6524\n",
      "Epoch 9/50\n",
      " - 0s - loss: 0.7685 - accuracy: 0.7306 - val_loss: 1.1249 - val_accuracy: 0.6714\n",
      "Epoch 10/50\n",
      " - 0s - loss: 0.7055 - accuracy: 0.7592 - val_loss: 1.2564 - val_accuracy: 0.6524\n",
      "Epoch 11/50\n",
      " - 0s - loss: 0.7382 - accuracy: 0.7330 - val_loss: 1.1430 - val_accuracy: 0.6429\n",
      "Epoch 12/50\n",
      " - 0s - loss: 0.6345 - accuracy: 0.7640 - val_loss: 1.2237 - val_accuracy: 0.6476\n",
      "Epoch 13/50\n",
      " - 0s - loss: 0.6260 - accuracy: 0.7723 - val_loss: 1.1934 - val_accuracy: 0.6667\n",
      "Epoch 14/50\n",
      " - 0s - loss: 0.6478 - accuracy: 0.7807 - val_loss: 1.0748 - val_accuracy: 0.6476\n",
      "Epoch 15/50\n",
      " - 0s - loss: 0.5678 - accuracy: 0.7855 - val_loss: 1.2827 - val_accuracy: 0.6190\n",
      "Epoch 16/50\n",
      " - 0s - loss: 0.5655 - accuracy: 0.7914 - val_loss: 1.3332 - val_accuracy: 0.6476\n",
      "Epoch 17/50\n",
      " - 0s - loss: 0.5702 - accuracy: 0.7902 - val_loss: 1.1075 - val_accuracy: 0.6476\n",
      "Epoch 18/50\n",
      " - 0s - loss: 0.5552 - accuracy: 0.8033 - val_loss: 1.0815 - val_accuracy: 0.6619\n",
      "Epoch 19/50\n",
      " - 0s - loss: 0.5625 - accuracy: 0.8093 - val_loss: 1.2906 - val_accuracy: 0.6476\n",
      "Epoch 20/50\n",
      " - 0s - loss: 0.5286 - accuracy: 0.8010 - val_loss: 1.1548 - val_accuracy: 0.6619\n",
      "Epoch 21/50\n",
      " - 0s - loss: 0.4867 - accuracy: 0.8212 - val_loss: 1.1881 - val_accuracy: 0.6524\n",
      "Epoch 22/50\n",
      " - 0s - loss: 0.6519 - accuracy: 0.7712 - val_loss: 1.1538 - val_accuracy: 0.6714\n",
      "Epoch 23/50\n",
      " - 0s - loss: 0.4705 - accuracy: 0.8224 - val_loss: 1.1252 - val_accuracy: 0.6524\n",
      "Epoch 24/50\n",
      " - 0s - loss: 0.4296 - accuracy: 0.8510 - val_loss: 1.1807 - val_accuracy: 0.6667\n",
      "Epoch 25/50\n",
      " - 0s - loss: 0.3837 - accuracy: 0.8594 - val_loss: 1.1789 - val_accuracy: 0.6524\n",
      "Epoch 26/50\n",
      " - 0s - loss: 0.4140 - accuracy: 0.8594 - val_loss: 1.2244 - val_accuracy: 0.6524\n",
      "Epoch 27/50\n",
      " - 0s - loss: 0.3849 - accuracy: 0.8605 - val_loss: 1.1840 - val_accuracy: 0.6524\n",
      "Epoch 28/50\n",
      " - 0s - loss: 0.3796 - accuracy: 0.8653 - val_loss: 1.2651 - val_accuracy: 0.6524\n",
      "Epoch 29/50\n",
      " - 0s - loss: 0.3709 - accuracy: 0.8689 - val_loss: 1.1074 - val_accuracy: 0.6762\n",
      "Epoch 30/50\n",
      " - 0s - loss: 0.3584 - accuracy: 0.8677 - val_loss: 1.1644 - val_accuracy: 0.6810\n",
      "Epoch 31/50\n",
      " - 0s - loss: 0.3378 - accuracy: 0.8641 - val_loss: 1.1597 - val_accuracy: 0.6810\n",
      "Epoch 32/50\n",
      " - 0s - loss: 0.3404 - accuracy: 0.8832 - val_loss: 1.1931 - val_accuracy: 0.6524\n",
      "Epoch 33/50\n",
      " - 0s - loss: 0.3574 - accuracy: 0.8653 - val_loss: 1.2462 - val_accuracy: 0.6857\n",
      "Epoch 34/50\n",
      " - 0s - loss: 0.3360 - accuracy: 0.8784 - val_loss: 1.1906 - val_accuracy: 0.6762\n",
      "Epoch 35/50\n",
      " - 0s - loss: 0.3154 - accuracy: 0.8832 - val_loss: 1.1755 - val_accuracy: 0.6905\n",
      "Epoch 36/50\n",
      " - 0s - loss: 0.2967 - accuracy: 0.8939 - val_loss: 1.2436 - val_accuracy: 0.6571\n",
      "Epoch 37/50\n",
      " - 0s - loss: 0.3294 - accuracy: 0.8796 - val_loss: 1.1920 - val_accuracy: 0.6571\n",
      "Epoch 38/50\n",
      " - 0s - loss: 0.3320 - accuracy: 0.8868 - val_loss: 1.2203 - val_accuracy: 0.7048\n",
      "Epoch 39/50\n",
      " - 0s - loss: 0.3168 - accuracy: 0.8760 - val_loss: 1.2395 - val_accuracy: 0.6619\n",
      "Epoch 40/50\n",
      " - 0s - loss: 0.2545 - accuracy: 0.9058 - val_loss: 1.1781 - val_accuracy: 0.6857\n",
      "Epoch 41/50\n",
      " - 0s - loss: 0.2732 - accuracy: 0.9035 - val_loss: 1.2567 - val_accuracy: 0.6905\n",
      "Epoch 42/50\n",
      " - 0s - loss: 0.2693 - accuracy: 0.8987 - val_loss: 1.2462 - val_accuracy: 0.6857\n",
      "Epoch 43/50\n",
      " - 0s - loss: 0.2309 - accuracy: 0.9273 - val_loss: 1.3224 - val_accuracy: 0.6762\n",
      "Epoch 44/50\n",
      " - 0s - loss: 0.2343 - accuracy: 0.9178 - val_loss: 1.2291 - val_accuracy: 0.7238\n",
      "Epoch 45/50\n",
      " - 0s - loss: 0.2332 - accuracy: 0.9166 - val_loss: 1.3299 - val_accuracy: 0.6714\n",
      "Epoch 46/50\n",
      " - 0s - loss: 0.2113 - accuracy: 0.9261 - val_loss: 1.2504 - val_accuracy: 0.6762\n",
      "Epoch 47/50\n",
      " - 0s - loss: 0.2463 - accuracy: 0.9070 - val_loss: 1.2951 - val_accuracy: 0.6667\n",
      "Epoch 48/50\n",
      " - 0s - loss: 0.2312 - accuracy: 0.9178 - val_loss: 1.3588 - val_accuracy: 0.6619\n",
      "Epoch 49/50\n",
      " - 0s - loss: 0.2401 - accuracy: 0.9106 - val_loss: 1.4790 - val_accuracy: 0.6381\n",
      "Epoch 50/50\n",
      " - 0s - loss: 0.2621 - accuracy: 0.8999 - val_loss: 1.3341 - val_accuracy: 0.6905\n"
     ]
    }
   ],
   "source": [
    "history = model.fit(X_train, y_train, validation_data=(X_test, y_test), batch_size=32, epochs = 50, verbose=2)"
   ]
  },
  {
   "cell_type": "code",
   "execution_count": 22,
   "metadata": {
    "scrolled": true
   },
   "outputs": [
    {
     "data": {
      "text/plain": [
       "<matplotlib.legend.Legend at 0x17b73808a90>"
      ]
     },
     "execution_count": 22,
     "metadata": {},
     "output_type": "execute_result"
    },
    {
     "data": {
      "image/png": "[encoded data removed]",
      "text/plain": [
       "<Figure size 432x288 with 1 Axes>"
      ]
     },
     "metadata": {
      "needs_background": "light"
     },
     "output_type": "display_data"
    }
   ],
   "source": [
    "plt.plot(history.history['loss'], label = ' Training Loss')\n",
    "plt.plot(history.history['val_loss'], label = ' Test Loss')\n",
    "plt.legend()"
   ]
  },
  {
   "cell_type": "code",
   "execution_count": 23,
   "metadata": {},
   "outputs": [
    {
     "data": {
      "text/plain": [
       "<matplotlib.legend.Legend at 0x17b738edd68>"
      ]
     },
     "execution_count": 23,
     "metadata": {},
     "output_type": "execute_result"
    },
    {
     "data": {
      "image/png": "[encoded data removed]",
      "text/plain": [
       "<Figure size 432x288 with 1 Axes>"
      ]
     },
     "metadata": {
      "needs_background": "light"
     },
     "output_type": "display_data"
    }
   ],
   "source": [
    "plt.plot(history.history['accuracy'], label = ' Training Accuracy')\n",
    "plt.plot(history.history['val_accuracy'], label = ' Test Accuracy')\n",
    "plt.legend()"
   ]
  },
  {
   "cell_type": "code",
   "execution_count": 24,
   "metadata": {},
   "outputs": [
    {
     "name": "stdout",
     "output_type": "stream",
     "text": [
      "210/210 [==============================] - 0s 38us/step\n"
     ]
    }
   ],
   "source": [
    "model_eval = model.evaluate(X_test,y_test, verbose=1)\n",
    "model_metrics = model.metrics_names"
   ]
  },
  {
   "cell_type": "markdown",
   "metadata": {},
   "source": [
    "Model 2\n",
    "\n",
    "Classifier: FNN\n",
    "Features: 40 coef * 4 indicators (mean and std, delta mean delta std)\n",
    "dimension 160\n"
   ]
  },
  {
   "cell_type": "code",
   "execution_count": 25,
   "metadata": {},
   "outputs": [],
   "source": [
    "X = np.array(train_df['combined_mfccs'].tolist())"
   ]
  },
  {
   "cell_type": "code",
   "execution_count": 26,
   "metadata": {},
   "outputs": [],
   "source": [
    "X_train_2, X_test_2, y_train, y_test = train_test_split(X, y, test_size = 0.2, random_state = 42, stratify = y)"
   ]
  },
  {
   "cell_type": "code",
   "execution_count": 27,
   "metadata": {},
   "outputs": [],
   "source": [
    "ss = StandardScaler()\n",
    "X_train_2 = ss.fit_transform(X_train_2)\n",
    "X_test_2 = ss.transform(X_test_2)"
   ]
  },
  {
   "cell_type": "code",
   "execution_count": 28,
   "metadata": {},
   "outputs": [],
   "source": [
    "model2 = Sequential()\n",
    "model2.add(Dense(64, activation='relu', input_shape=(160,)))\n",
    "model2.add(Dense(64, activation='relu'))\n",
    "model2.add(Dense(5, activation='softmax'))"
   ]
  },
  {
   "cell_type": "code",
   "execution_count": 29,
   "metadata": {},
   "outputs": [],
   "source": [
    "model2.compile(loss='categorical_crossentropy', optimizer='adam', metrics = ['accuracy'])"
   ]
  },
  {
   "cell_type": "code",
   "execution_count": 30,
   "metadata": {
    "scrolled": true
   },
   "outputs": [
    {
     "name": "stdout",
     "output_type": "stream",
     "text": [
      "Train on 839 samples, validate on 210 samples\n",
      "Epoch 1/50\n",
      " - 0s - loss: 1.4039 - accuracy: 0.4374 - val_loss: 0.9961 - val_accuracy: 0.7095\n",
      "Epoch 2/50\n",
      " - 0s - loss: 0.7238 - accuracy: 0.8153 - val_loss: 0.5239 - val_accuracy: 0.8857\n",
      "Epoch 3/50\n",
      " - 0s - loss: 0.3345 - accuracy: 0.9487 - val_loss: 0.2941 - val_accuracy: 0.9286\n",
      "Epoch 4/50\n",
      " - 0s - loss: 0.1654 - accuracy: 0.9750 - val_loss: 0.2189 - val_accuracy: 0.9381\n",
      "Epoch 5/50\n",
      " - 0s - loss: 0.0944 - accuracy: 0.9857 - val_loss: 0.1933 - val_accuracy: 0.9381\n",
      "Epoch 6/50\n",
      " - 0s - loss: 0.0594 - accuracy: 0.9952 - val_loss: 0.1723 - val_accuracy: 0.9476\n",
      "Epoch 7/50\n",
      " - 0s - loss: 0.0411 - accuracy: 0.9976 - val_loss: 0.1629 - val_accuracy: 0.9476\n",
      "Epoch 8/50\n",
      " - 0s - loss: 0.0280 - accuracy: 0.9988 - val_loss: 0.1539 - val_accuracy: 0.9476\n",
      "Epoch 9/50\n",
      " - 0s - loss: 0.0205 - accuracy: 1.0000 - val_loss: 0.1504 - val_accuracy: 0.9524\n",
      "Epoch 10/50\n",
      " - 0s - loss: 0.0154 - accuracy: 1.0000 - val_loss: 0.1469 - val_accuracy: 0.9476\n",
      "Epoch 11/50\n",
      " - 0s - loss: 0.0121 - accuracy: 1.0000 - val_loss: 0.1464 - val_accuracy: 0.9524\n",
      "Epoch 12/50\n",
      " - 0s - loss: 0.0098 - accuracy: 1.0000 - val_loss: 0.1435 - val_accuracy: 0.9524\n",
      "Epoch 13/50\n",
      " - 0s - loss: 0.0081 - accuracy: 1.0000 - val_loss: 0.1435 - val_accuracy: 0.9524\n",
      "Epoch 14/50\n",
      " - 0s - loss: 0.0067 - accuracy: 1.0000 - val_loss: 0.1425 - val_accuracy: 0.9524\n",
      "Epoch 15/50\n",
      " - 0s - loss: 0.0057 - accuracy: 1.0000 - val_loss: 0.1408 - val_accuracy: 0.9524\n",
      "Epoch 16/50\n",
      " - 0s - loss: 0.0049 - accuracy: 1.0000 - val_loss: 0.1407 - val_accuracy: 0.9524\n",
      "Epoch 17/50\n",
      " - 0s - loss: 0.0043 - accuracy: 1.0000 - val_loss: 0.1407 - val_accuracy: 0.9524\n",
      "Epoch 18/50\n",
      " - 0s - loss: 0.0038 - accuracy: 1.0000 - val_loss: 0.1401 - val_accuracy: 0.9524\n",
      "Epoch 19/50\n",
      " - 0s - loss: 0.0033 - accuracy: 1.0000 - val_loss: 0.1397 - val_accuracy: 0.9524\n",
      "Epoch 20/50\n",
      " - 0s - loss: 0.0030 - accuracy: 1.0000 - val_loss: 0.1404 - val_accuracy: 0.9524\n",
      "Epoch 21/50\n",
      " - 0s - loss: 0.0027 - accuracy: 1.0000 - val_loss: 0.1405 - val_accuracy: 0.9476\n",
      "Epoch 22/50\n",
      " - 0s - loss: 0.0024 - accuracy: 1.0000 - val_loss: 0.1400 - val_accuracy: 0.9524\n",
      "Epoch 23/50\n",
      " - 0s - loss: 0.0022 - accuracy: 1.0000 - val_loss: 0.1399 - val_accuracy: 0.9476\n",
      "Epoch 24/50\n",
      " - 0s - loss: 0.0020 - accuracy: 1.0000 - val_loss: 0.1401 - val_accuracy: 0.9476\n",
      "Epoch 25/50\n",
      " - 0s - loss: 0.0018 - accuracy: 1.0000 - val_loss: 0.1404 - val_accuracy: 0.9476\n",
      "Epoch 26/50\n",
      " - 0s - loss: 0.0017 - accuracy: 1.0000 - val_loss: 0.1401 - val_accuracy: 0.9476\n",
      "Epoch 27/50\n",
      " - 0s - loss: 0.0015 - accuracy: 1.0000 - val_loss: 0.1411 - val_accuracy: 0.9476\n",
      "Epoch 28/50\n",
      " - 0s - loss: 0.0014 - accuracy: 1.0000 - val_loss: 0.1408 - val_accuracy: 0.9476\n",
      "Epoch 29/50\n",
      " - 0s - loss: 0.0013 - accuracy: 1.0000 - val_loss: 0.1409 - val_accuracy: 0.9476\n",
      "Epoch 30/50\n",
      " - 0s - loss: 0.0012 - accuracy: 1.0000 - val_loss: 0.1410 - val_accuracy: 0.9571\n",
      "Epoch 31/50\n",
      " - 0s - loss: 0.0011 - accuracy: 1.0000 - val_loss: 0.1409 - val_accuracy: 0.9571\n",
      "Epoch 32/50\n",
      " - 0s - loss: 0.0011 - accuracy: 1.0000 - val_loss: 0.1410 - val_accuracy: 0.9524\n",
      "Epoch 33/50\n",
      " - 0s - loss: 9.9474e-04 - accuracy: 1.0000 - val_loss: 0.1410 - val_accuracy: 0.9571\n",
      "Epoch 34/50\n",
      " - 0s - loss: 9.3397e-04 - accuracy: 1.0000 - val_loss: 0.1409 - val_accuracy: 0.9571\n",
      "Epoch 35/50\n",
      " - 0s - loss: 8.7752e-04 - accuracy: 1.0000 - val_loss: 0.1411 - val_accuracy: 0.9571\n",
      "Epoch 36/50\n",
      " - 0s - loss: 8.2271e-04 - accuracy: 1.0000 - val_loss: 0.1412 - val_accuracy: 0.9571\n",
      "Epoch 37/50\n",
      " - 0s - loss: 7.7703e-04 - accuracy: 1.0000 - val_loss: 0.1411 - val_accuracy: 0.9571\n",
      "Epoch 38/50\n",
      " - 0s - loss: 7.3348e-04 - accuracy: 1.0000 - val_loss: 0.1415 - val_accuracy: 0.9571\n",
      "Epoch 39/50\n",
      " - 0s - loss: 6.9463e-04 - accuracy: 1.0000 - val_loss: 0.1414 - val_accuracy: 0.9619\n",
      "Epoch 40/50\n",
      " - 0s - loss: 6.5746e-04 - accuracy: 1.0000 - val_loss: 0.1421 - val_accuracy: 0.9571\n",
      "Epoch 41/50\n",
      " - 0s - loss: 6.2211e-04 - accuracy: 1.0000 - val_loss: 0.1421 - val_accuracy: 0.9571\n",
      "Epoch 42/50\n",
      " - 0s - loss: 5.9018e-04 - accuracy: 1.0000 - val_loss: 0.1425 - val_accuracy: 0.9571\n",
      "Epoch 43/50\n",
      " - 0s - loss: 5.5992e-04 - accuracy: 1.0000 - val_loss: 0.1428 - val_accuracy: 0.9619\n",
      "Epoch 44/50\n",
      " - 0s - loss: 5.3186e-04 - accuracy: 1.0000 - val_loss: 0.1430 - val_accuracy: 0.9571\n",
      "Epoch 45/50\n",
      " - 0s - loss: 5.0739e-04 - accuracy: 1.0000 - val_loss: 0.1428 - val_accuracy: 0.9619\n",
      "Epoch 46/50\n",
      " - 0s - loss: 4.8347e-04 - accuracy: 1.0000 - val_loss: 0.1432 - val_accuracy: 0.9619\n",
      "Epoch 47/50\n",
      " - 0s - loss: 4.6067e-04 - accuracy: 1.0000 - val_loss: 0.1434 - val_accuracy: 0.9619\n",
      "Epoch 48/50\n",
      " - 0s - loss: 4.4137e-04 - accuracy: 1.0000 - val_loss: 0.1434 - val_accuracy: 0.9619\n",
      "Epoch 49/50\n",
      " - 0s - loss: 4.2051e-04 - accuracy: 1.0000 - val_loss: 0.1438 - val_accuracy: 0.9571\n",
      "Epoch 50/50\n",
      " - 0s - loss: 4.0243e-04 - accuracy: 1.0000 - val_loss: 0.1441 - val_accuracy: 0.9571\n"
     ]
    }
   ],
   "source": [
    "history = model2.fit(X_train_2, y_train, validation_data=(X_test_2, y_test), batch_size=32, epochs = 50, verbose=2)"
   ]
  },
  {
   "cell_type": "code",
   "execution_count": 31,
   "metadata": {
    "scrolled": false
   },
   "outputs": [
    {
     "data": {
      "text/plain": [
       "<matplotlib.legend.Legend at 0x17b7d3d0320>"
      ]
     },
     "execution_count": 31,
     "metadata": {},
     "output_type": "execute_result"
    },
    {
     "data": {
      "image/png": "[encoded data removed]",
      "text/plain": [
       "<Figure size 432x288 with 1 Axes>"
      ]
     },
     "metadata": {
      "needs_background": "light"
     },
     "output_type": "display_data"
    }
   ],
   "source": [
    "plt.plot(history.history['loss'], label = ' Training Loss')\n",
    "plt.plot(history.history['val_loss'], label = ' Test Loss')\n",
    "plt.legend()"
   ]
  },
  {
   "cell_type": "code",
   "execution_count": 32,
   "metadata": {},
   "outputs": [
    {
     "data": {
      "text/plain": [
       "<matplotlib.legend.Legend at 0x17a2017be80>"
      ]
     },
     "execution_count": 32,
     "metadata": {},
     "output_type": "execute_result"
    },
    {
     "data": {
      "image/png": "[encoded data removed]",
      "text/plain": [
       "<Figure size 432x288 with 1 Axes>"
      ]
     },
     "metadata": {
      "needs_background": "light"
     },
     "output_type": "display_data"
    }
   ],
   "source": [
    "plt.plot(history.history['accuracy'], label = ' Training Accuracy')\n",
    "plt.plot(history.history['val_accuracy'], label = ' Test Accuracy')\n",
    "plt.legend()"
   ]
  },
  {
   "cell_type": "code",
   "execution_count": 33,
   "metadata": {},
   "outputs": [
    {
     "name": "stdout",
     "output_type": "stream",
     "text": [
      "210/210 [==============================] - 0s 38us/step\n"
     ]
    }
   ],
   "source": [
    "model2_eval = model2.evaluate(X_test_2,y_test, verbose=1)\n",
    "model2_metrics = model2.metrics_names"
   ]
  },
  {
   "cell_type": "markdown",
   "metadata": {},
   "source": [
    "**CNN**\n",
    "\n",
    "model 3:\n",
    "\n",
    "classifier: CNN 2D\n",
    "\n",
    "Features: mel spectrogram, padded until 45 sequence (128, 39)"
   ]
  },
  {
   "cell_type": "code",
   "execution_count": 34,
   "metadata": {},
   "outputs": [],
   "source": [
    "X = np.array(train_df['mel'].tolist())"
   ]
  },
  {
   "cell_type": "code",
   "execution_count": 35,
   "metadata": {},
   "outputs": [
    {
     "data": {
      "text/plain": [
       "(1049, 128, 45)"
      ]
     },
     "execution_count": 35,
     "metadata": {},
     "output_type": "execute_result"
    }
   ],
   "source": [
    "X.shape"
   ]
  },
  {
   "cell_type": "code",
   "execution_count": 36,
   "metadata": {},
   "outputs": [
    {
     "data": {
      "text/plain": [
       "(1049, 128, 45)"
      ]
     },
     "execution_count": 36,
     "metadata": {},
     "output_type": "execute_result"
    }
   ],
   "source": [
    "X.shape"
   ]
  },
  {
   "cell_type": "code",
   "execution_count": 37,
   "metadata": {},
   "outputs": [],
   "source": [
    "X_train_3, X_test_3, y_train, y_test = train_test_split(X, y, test_size = 0.2, random_state = 42, stratify = y)"
   ]
  },
  {
   "cell_type": "code",
   "execution_count": 38,
   "metadata": {},
   "outputs": [
    {
     "data": {
      "text/plain": [
       "(839, 128, 45)"
      ]
     },
     "execution_count": 38,
     "metadata": {},
     "output_type": "execute_result"
    }
   ],
   "source": [
    "X_train_3.shape"
   ]
  },
  {
   "cell_type": "code",
   "execution_count": 39,
   "metadata": {},
   "outputs": [],
   "source": [
    "X_train_3 = X_train_3.reshape(X_train_3.shape[0], 128, 45, 1)\n",
    "X_test_3 = X_test_3.reshape(X_test_3.shape[0], 128, 45, 1)"
   ]
  },
  {
   "cell_type": "code",
   "execution_count": 40,
   "metadata": {},
   "outputs": [],
   "source": [
    "model3 = Sequential()\n",
    "model3.add(Conv2D(filters = 6, kernel_size=3, activation = 'relu', input_shape = (128,45,1), padding = 'same'))\n",
    "model3.add(MaxPooling2D(pool_size= (2,2), padding='same'))\n",
    "model3.add(Conv2D(32, kernel_size=3, activation='relu'))\n",
    "model3.add(MaxPooling2D(pool_size=(2,2), padding='same'))\n",
    "model3.add(Flatten())\n",
    "model3.add(Dense(64, activation = 'relu'))\n",
    "model3.add(Dense(32, activation = 'relu'))\n",
    "model3.add(Dense(5, activation = 'softmax'))"
   ]
  },
  {
   "cell_type": "code",
   "execution_count": 41,
   "metadata": {},
   "outputs": [],
   "source": [
    "model3.compile(loss='categorical_crossentropy',\n",
    "                  optimizer='adam',\n",
    "                  metrics=['accuracy'])"
   ]
  },
  {
   "cell_type": "code",
   "execution_count": 42,
   "metadata": {
    "scrolled": true
   },
   "outputs": [
    {
     "name": "stdout",
     "output_type": "stream",
     "text": [
      "Model: \"sequential_3\"\n",
      "_________________________________________________________________\n",
      "Layer (type)                 Output Shape              Param #   \n",
      "=================================================================\n",
      "conv2d_1 (Conv2D)            (None, 128, 45, 6)        60        \n",
      "_________________________________________________________________\n",
      "max_pooling2d_1 (MaxPooling2 (None, 64, 23, 6)         0         \n",
      "_________________________________________________________________\n",
      "conv2d_2 (Conv2D)            (None, 62, 21, 32)        1760      \n",
      "_________________________________________________________________\n",
      "max_pooling2d_2 (MaxPooling2 (None, 31, 11, 32)        0         \n",
      "_________________________________________________________________\n",
      "flatten_1 (Flatten)          (None, 10912)             0         \n",
      "_________________________________________________________________\n",
      "dense_7 (Dense)              (None, 64)                698432    \n",
      "_________________________________________________________________\n",
      "dense_8 (Dense)              (None, 32)                2080      \n",
      "_________________________________________________________________\n",
      "dense_9 (Dense)              (None, 5)                 165       \n",
      "=================================================================\n",
      "Total params: 702,497\n",
      "Trainable params: 702,497\n",
      "Non-trainable params: 0\n",
      "_________________________________________________________________\n"
     ]
    }
   ],
   "source": [
    "model3.summary()"
   ]
  },
  {
   "cell_type": "code",
   "execution_count": 43,
   "metadata": {
    "scrolled": true
   },
   "outputs": [
    {
     "name": "stdout",
     "output_type": "stream",
     "text": [
      "Train on 839 samples, validate on 210 samples\n",
      "Epoch 1/100\n",
      " - 6s - loss: 5.0390 - accuracy: 0.3504 - val_loss: 1.6762 - val_accuracy: 0.5667\n",
      "Epoch 2/100\n",
      " - 0s - loss: 1.1285 - accuracy: 0.6651 - val_loss: 1.1889 - val_accuracy: 0.6571\n",
      "Epoch 3/100\n",
      " - 0s - loss: 0.7434 - accuracy: 0.7616 - val_loss: 0.8845 - val_accuracy: 0.7143\n",
      "Epoch 4/100\n",
      " - 0s - loss: 0.4911 - accuracy: 0.8308 - val_loss: 0.8513 - val_accuracy: 0.7333\n",
      "Epoch 5/100\n",
      " - 0s - loss: 0.3410 - accuracy: 0.8725 - val_loss: 0.7632 - val_accuracy: 0.7905\n",
      "Epoch 6/100\n",
      " - 0s - loss: 0.2052 - accuracy: 0.9273 - val_loss: 0.6863 - val_accuracy: 0.7810\n",
      "Epoch 7/100\n",
      " - 0s - loss: 0.1454 - accuracy: 0.9607 - val_loss: 0.7419 - val_accuracy: 0.7952\n",
      "Epoch 8/100\n",
      " - 0s - loss: 0.1292 - accuracy: 0.9642 - val_loss: 0.9371 - val_accuracy: 0.8143\n",
      "Epoch 9/100\n",
      " - 0s - loss: 0.1071 - accuracy: 0.9690 - val_loss: 0.7391 - val_accuracy: 0.8286\n",
      "Epoch 10/100\n",
      " - 0s - loss: 0.1030 - accuracy: 0.9690 - val_loss: 0.8616 - val_accuracy: 0.8095\n",
      "Epoch 11/100\n",
      " - 0s - loss: 0.1802 - accuracy: 0.9702 - val_loss: 0.9293 - val_accuracy: 0.7905\n",
      "Epoch 12/100\n",
      " - 0s - loss: 0.0785 - accuracy: 0.9845 - val_loss: 0.7976 - val_accuracy: 0.8524\n",
      "Epoch 13/100\n",
      " - 0s - loss: 0.0708 - accuracy: 0.9857 - val_loss: 0.8596 - val_accuracy: 0.7952\n",
      "Epoch 14/100\n",
      " - 0s - loss: 0.0553 - accuracy: 0.9893 - val_loss: 0.8232 - val_accuracy: 0.8190\n",
      "Epoch 15/100\n",
      " - 0s - loss: 0.0313 - accuracy: 0.9952 - val_loss: 0.7853 - val_accuracy: 0.8286\n",
      "Epoch 16/100\n",
      " - 0s - loss: 0.0199 - accuracy: 0.9976 - val_loss: 0.7607 - val_accuracy: 0.8333\n",
      "Epoch 17/100\n",
      " - 0s - loss: 0.0149 - accuracy: 0.9976 - val_loss: 0.7713 - val_accuracy: 0.8476\n",
      "Epoch 18/100\n",
      " - 0s - loss: 0.0123 - accuracy: 0.9988 - val_loss: 0.7770 - val_accuracy: 0.8476\n",
      "Epoch 19/100\n",
      " - 0s - loss: 0.0105 - accuracy: 0.9988 - val_loss: 0.7768 - val_accuracy: 0.8524\n",
      "Epoch 20/100\n",
      " - 0s - loss: 0.0091 - accuracy: 0.9988 - val_loss: 0.7831 - val_accuracy: 0.8524\n",
      "Epoch 21/100\n",
      " - 0s - loss: 0.0080 - accuracy: 0.9988 - val_loss: 0.7871 - val_accuracy: 0.8524\n",
      "Epoch 22/100\n",
      " - 0s - loss: 0.0078 - accuracy: 0.9988 - val_loss: 0.8004 - val_accuracy: 0.8524\n",
      "Epoch 23/100\n",
      " - 0s - loss: 0.0065 - accuracy: 0.9988 - val_loss: 0.8048 - val_accuracy: 0.8619\n",
      "Epoch 24/100\n",
      " - 0s - loss: 0.0057 - accuracy: 0.9988 - val_loss: 0.8326 - val_accuracy: 0.8619\n",
      "Epoch 25/100\n",
      " - 0s - loss: 0.0051 - accuracy: 1.0000 - val_loss: 0.8398 - val_accuracy: 0.8571\n",
      "Epoch 26/100\n",
      " - 0s - loss: 0.0046 - accuracy: 1.0000 - val_loss: 0.8483 - val_accuracy: 0.8714\n",
      "Epoch 27/100\n",
      " - 0s - loss: 0.0042 - accuracy: 1.0000 - val_loss: 0.8513 - val_accuracy: 0.8667\n",
      "Epoch 28/100\n",
      " - 0s - loss: 0.0038 - accuracy: 1.0000 - val_loss: 0.8657 - val_accuracy: 0.8714\n",
      "Epoch 29/100\n",
      " - 0s - loss: 0.0035 - accuracy: 1.0000 - val_loss: 0.8719 - val_accuracy: 0.8667\n",
      "Epoch 30/100\n",
      " - 0s - loss: 0.0032 - accuracy: 1.0000 - val_loss: 0.8821 - val_accuracy: 0.8619\n",
      "Epoch 31/100\n",
      " - 0s - loss: 0.0029 - accuracy: 1.0000 - val_loss: 0.8897 - val_accuracy: 0.8619\n",
      "Epoch 32/100\n",
      " - 0s - loss: 0.0028 - accuracy: 1.0000 - val_loss: 0.8838 - val_accuracy: 0.8714\n",
      "Epoch 33/100\n",
      " - 0s - loss: 0.0025 - accuracy: 1.0000 - val_loss: 0.8976 - val_accuracy: 0.8667\n",
      "Epoch 34/100\n",
      " - 0s - loss: 0.0023 - accuracy: 1.0000 - val_loss: 0.9038 - val_accuracy: 0.8714\n",
      "Epoch 35/100\n",
      " - 0s - loss: 0.0022 - accuracy: 1.0000 - val_loss: 0.9168 - val_accuracy: 0.8571\n",
      "Epoch 36/100\n",
      " - 0s - loss: 0.0020 - accuracy: 1.0000 - val_loss: 0.9247 - val_accuracy: 0.8667\n",
      "Epoch 37/100\n",
      " - 0s - loss: 0.0019 - accuracy: 1.0000 - val_loss: 0.9303 - val_accuracy: 0.8667\n",
      "Epoch 38/100\n",
      " - 0s - loss: 0.0018 - accuracy: 1.0000 - val_loss: 0.9281 - val_accuracy: 0.8667\n",
      "Epoch 39/100\n",
      " - 0s - loss: 0.0016 - accuracy: 1.0000 - val_loss: 0.9460 - val_accuracy: 0.8667\n",
      "Epoch 40/100\n",
      " - 0s - loss: 0.0015 - accuracy: 1.0000 - val_loss: 0.9473 - val_accuracy: 0.8667\n",
      "Epoch 41/100\n",
      " - 0s - loss: 0.0014 - accuracy: 1.0000 - val_loss: 0.9571 - val_accuracy: 0.8667\n",
      "Epoch 42/100\n",
      " - 0s - loss: 0.0013 - accuracy: 1.0000 - val_loss: 0.9672 - val_accuracy: 0.8619\n",
      "Epoch 43/100\n",
      " - 0s - loss: 0.0012 - accuracy: 1.0000 - val_loss: 0.9799 - val_accuracy: 0.8571\n",
      "Epoch 44/100\n",
      " - 0s - loss: 0.0012 - accuracy: 1.0000 - val_loss: 0.9841 - val_accuracy: 0.8619\n",
      "Epoch 45/100\n",
      " - 0s - loss: 0.0011 - accuracy: 1.0000 - val_loss: 0.9918 - val_accuracy: 0.8619\n",
      "Epoch 46/100\n",
      " - 0s - loss: 0.0010 - accuracy: 1.0000 - val_loss: 0.9948 - val_accuracy: 0.8571\n",
      "Epoch 47/100\n",
      " - 0s - loss: 9.2852e-04 - accuracy: 1.0000 - val_loss: 1.0069 - val_accuracy: 0.8524\n",
      "Epoch 48/100\n",
      " - 0s - loss: 8.7899e-04 - accuracy: 1.0000 - val_loss: 1.0129 - val_accuracy: 0.8571\n",
      "Epoch 49/100\n",
      " - 0s - loss: 8.3258e-04 - accuracy: 1.0000 - val_loss: 1.0162 - val_accuracy: 0.8619\n",
      "Epoch 50/100\n",
      " - 0s - loss: 7.8480e-04 - accuracy: 1.0000 - val_loss: 1.0256 - val_accuracy: 0.8571\n",
      "Epoch 51/100\n",
      " - 0s - loss: 7.4539e-04 - accuracy: 1.0000 - val_loss: 1.0309 - val_accuracy: 0.8619\n",
      "Epoch 52/100\n",
      " - 0s - loss: 7.0837e-04 - accuracy: 1.0000 - val_loss: 1.0395 - val_accuracy: 0.8571\n",
      "Epoch 53/100\n",
      " - 0s - loss: 6.7585e-04 - accuracy: 1.0000 - val_loss: 1.0408 - val_accuracy: 0.8571\n",
      "Epoch 54/100\n",
      " - 0s - loss: 6.5553e-04 - accuracy: 1.0000 - val_loss: 1.0517 - val_accuracy: 0.8619\n",
      "Epoch 55/100\n",
      " - 0s - loss: 6.0846e-04 - accuracy: 1.0000 - val_loss: 1.0527 - val_accuracy: 0.8619\n",
      "Epoch 56/100\n",
      " - 0s - loss: 5.8464e-04 - accuracy: 1.0000 - val_loss: 1.0598 - val_accuracy: 0.8619\n",
      "Epoch 57/100\n",
      " - 0s - loss: 5.5532e-04 - accuracy: 1.0000 - val_loss: 1.0634 - val_accuracy: 0.8619\n",
      "Epoch 58/100\n",
      " - 0s - loss: 5.3690e-04 - accuracy: 1.0000 - val_loss: 1.0709 - val_accuracy: 0.8571\n",
      "Epoch 59/100\n",
      " - 0s - loss: 5.1162e-04 - accuracy: 1.0000 - val_loss: 1.0756 - val_accuracy: 0.8667\n",
      "Epoch 60/100\n",
      " - 0s - loss: 4.9517e-04 - accuracy: 1.0000 - val_loss: 1.0820 - val_accuracy: 0.8619\n",
      "Epoch 61/100\n",
      " - 0s - loss: 4.7105e-04 - accuracy: 1.0000 - val_loss: 1.0868 - val_accuracy: 0.8571\n",
      "Epoch 62/100\n",
      " - 0s - loss: 4.5020e-04 - accuracy: 1.0000 - val_loss: 1.0893 - val_accuracy: 0.8571\n",
      "Epoch 63/100\n",
      " - 0s - loss: 4.3575e-04 - accuracy: 1.0000 - val_loss: 1.0939 - val_accuracy: 0.8571\n",
      "Epoch 64/100\n",
      " - 0s - loss: 4.1811e-04 - accuracy: 1.0000 - val_loss: 1.0950 - val_accuracy: 0.8619\n",
      "Epoch 65/100\n",
      " - 0s - loss: 4.0704e-04 - accuracy: 1.0000 - val_loss: 1.1001 - val_accuracy: 0.8619\n",
      "Epoch 66/100\n",
      " - 0s - loss: 3.8508e-04 - accuracy: 1.0000 - val_loss: 1.1046 - val_accuracy: 0.8619\n",
      "Epoch 67/100\n",
      " - 0s - loss: 3.6980e-04 - accuracy: 1.0000 - val_loss: 1.1096 - val_accuracy: 0.8619\n",
      "Epoch 68/100\n",
      " - 0s - loss: 3.5855e-04 - accuracy: 1.0000 - val_loss: 1.1169 - val_accuracy: 0.8619\n",
      "Epoch 69/100\n",
      " - 0s - loss: 3.4124e-04 - accuracy: 1.0000 - val_loss: 1.1214 - val_accuracy: 0.8571\n",
      "Epoch 70/100\n",
      " - 0s - loss: 3.3143e-04 - accuracy: 1.0000 - val_loss: 1.1285 - val_accuracy: 0.8571\n",
      "Epoch 71/100\n",
      " - 0s - loss: 3.1508e-04 - accuracy: 1.0000 - val_loss: 1.1268 - val_accuracy: 0.8619\n",
      "Epoch 72/100\n",
      " - 0s - loss: 3.0046e-04 - accuracy: 1.0000 - val_loss: 1.1265 - val_accuracy: 0.8619\n",
      "Epoch 73/100\n",
      " - 0s - loss: 2.9075e-04 - accuracy: 1.0000 - val_loss: 1.1318 - val_accuracy: 0.8619\n",
      "Epoch 74/100\n",
      " - 0s - loss: 2.8135e-04 - accuracy: 1.0000 - val_loss: 1.1341 - val_accuracy: 0.8619\n",
      "Epoch 75/100\n",
      " - 0s - loss: 2.7086e-04 - accuracy: 1.0000 - val_loss: 1.1434 - val_accuracy: 0.8619\n",
      "Epoch 76/100\n",
      " - 0s - loss: 2.6169e-04 - accuracy: 1.0000 - val_loss: 1.1441 - val_accuracy: 0.8619\n",
      "Epoch 77/100\n",
      " - 0s - loss: 2.5265e-04 - accuracy: 1.0000 - val_loss: 1.1491 - val_accuracy: 0.8619\n",
      "Epoch 78/100\n",
      " - 0s - loss: 2.4517e-04 - accuracy: 1.0000 - val_loss: 1.1539 - val_accuracy: 0.8619\n",
      "Epoch 79/100\n",
      " - 0s - loss: 2.3675e-04 - accuracy: 1.0000 - val_loss: 1.1572 - val_accuracy: 0.8619\n",
      "Epoch 80/100\n",
      " - 0s - loss: 2.3008e-04 - accuracy: 1.0000 - val_loss: 1.1609 - val_accuracy: 0.8619\n",
      "Epoch 81/100\n",
      " - 0s - loss: 2.2462e-04 - accuracy: 1.0000 - val_loss: 1.1623 - val_accuracy: 0.8619\n",
      "Epoch 82/100\n",
      " - 0s - loss: 2.1579e-04 - accuracy: 1.0000 - val_loss: 1.1654 - val_accuracy: 0.8619\n",
      "Epoch 83/100\n",
      " - 0s - loss: 2.0943e-04 - accuracy: 1.0000 - val_loss: 1.1669 - val_accuracy: 0.8619\n",
      "Epoch 84/100\n",
      " - 0s - loss: 2.0228e-04 - accuracy: 1.0000 - val_loss: 1.1686 - val_accuracy: 0.8619\n",
      "Epoch 85/100\n",
      " - 0s - loss: 1.9585e-04 - accuracy: 1.0000 - val_loss: 1.1746 - val_accuracy: 0.8619\n"
     ]
    },
    {
     "name": "stdout",
     "output_type": "stream",
     "text": [
      "Epoch 86/100\n",
      " - 0s - loss: 1.8974e-04 - accuracy: 1.0000 - val_loss: 1.1779 - val_accuracy: 0.8619\n",
      "Epoch 87/100\n",
      " - 0s - loss: 1.8427e-04 - accuracy: 1.0000 - val_loss: 1.1802 - val_accuracy: 0.8619\n",
      "Epoch 88/100\n",
      " - 0s - loss: 1.7916e-04 - accuracy: 1.0000 - val_loss: 1.1848 - val_accuracy: 0.8619\n",
      "Epoch 89/100\n",
      " - 0s - loss: 1.7336e-04 - accuracy: 1.0000 - val_loss: 1.1886 - val_accuracy: 0.8619\n",
      "Epoch 90/100\n",
      " - 0s - loss: 1.6903e-04 - accuracy: 1.0000 - val_loss: 1.1918 - val_accuracy: 0.8619\n",
      "Epoch 91/100\n",
      " - 0s - loss: 1.6448e-04 - accuracy: 1.0000 - val_loss: 1.1924 - val_accuracy: 0.8619\n",
      "Epoch 92/100\n",
      " - 0s - loss: 1.5877e-04 - accuracy: 1.0000 - val_loss: 1.1966 - val_accuracy: 0.8619\n",
      "Epoch 93/100\n",
      " - 0s - loss: 1.5416e-04 - accuracy: 1.0000 - val_loss: 1.2034 - val_accuracy: 0.8619\n",
      "Epoch 94/100\n",
      " - 0s - loss: 1.4979e-04 - accuracy: 1.0000 - val_loss: 1.2064 - val_accuracy: 0.8619\n",
      "Epoch 95/100\n",
      " - 0s - loss: 1.4623e-04 - accuracy: 1.0000 - val_loss: 1.2083 - val_accuracy: 0.8619\n",
      "Epoch 96/100\n",
      " - 0s - loss: 1.4125e-04 - accuracy: 1.0000 - val_loss: 1.2119 - val_accuracy: 0.8619\n",
      "Epoch 97/100\n",
      " - 0s - loss: 1.3780e-04 - accuracy: 1.0000 - val_loss: 1.2122 - val_accuracy: 0.8619\n",
      "Epoch 98/100\n",
      " - 0s - loss: 1.3661e-04 - accuracy: 1.0000 - val_loss: 1.2223 - val_accuracy: 0.8571\n",
      "Epoch 99/100\n",
      " - 0s - loss: 1.3339e-04 - accuracy: 1.0000 - val_loss: 1.2218 - val_accuracy: 0.8619\n",
      "Epoch 100/100\n",
      " - 0s - loss: 1.2764e-04 - accuracy: 1.0000 - val_loss: 1.2237 - val_accuracy: 0.8619\n"
     ]
    }
   ],
   "source": [
    "history = model3.fit(X_train_3,\n",
    "                        y_train,\n",
    "                        batch_size=32,\n",
    "                        validation_data=(X_test_3, y_test),\n",
    "                        epochs=100,\n",
    "                        verbose=2)"
   ]
  },
  {
   "cell_type": "code",
   "execution_count": 44,
   "metadata": {
    "scrolled": true
   },
   "outputs": [
    {
     "data": {
      "text/plain": [
       "<matplotlib.legend.Legend at 0x17b864fa320>"
      ]
     },
     "execution_count": 44,
     "metadata": {},
     "output_type": "execute_result"
    },
    {
     "data": {
      "image/png": "[encoded data removed]",
      "text/plain": [
       "<Figure size 432x288 with 1 Axes>"
      ]
     },
     "metadata": {
      "needs_background": "light"
     },
     "output_type": "display_data"
    }
   ],
   "source": [
    "plt.plot(history.history['loss'], label = ' Training Loss')\n",
    "plt.plot(history.history['val_loss'], label = ' Test Loss')\n",
    "plt.legend()"
   ]
  },
  {
   "cell_type": "code",
   "execution_count": 45,
   "metadata": {},
   "outputs": [
    {
     "data": {
      "text/plain": [
       "<matplotlib.legend.Legend at 0x17a3026f0f0>"
      ]
     },
     "execution_count": 45,
     "metadata": {},
     "output_type": "execute_result"
    },
    {
     "data": {
      "image/png": "[encoded data removed]",
      "text/plain": [
       "<Figure size 432x288 with 1 Axes>"
      ]
     },
     "metadata": {
      "needs_background": "light"
     },
     "output_type": "display_data"
    }
   ],
   "source": [
    "plt.plot(history.history['accuracy'], label = ' Training Accuracy')\n",
    "plt.plot(history.history['val_accuracy'], label = ' Test Accuracy')\n",
    "plt.legend()"
   ]
  },
  {
   "cell_type": "code",
   "execution_count": 46,
   "metadata": {},
   "outputs": [
    {
     "name": "stdout",
     "output_type": "stream",
     "text": [
      "210/210 [==============================] - 0s 71us/step\n"
     ]
    }
   ],
   "source": [
    "model3_eval = model3.evaluate(X_test_3,y_test, verbose=1)\n",
    "model3_metrics = model3.metrics_names"
   ]
  },
  {
   "cell_type": "markdown",
   "metadata": {},
   "source": [
    "**CNN**\n",
    "\n",
    "model 4:\n",
    "\n",
    "classifier: CNN with picture WIP"
   ]
  },
  {
   "cell_type": "code",
   "execution_count": 47,
   "metadata": {},
   "outputs": [],
   "source": [
    "# Not yet"
   ]
  },
  {
   "cell_type": "markdown",
   "metadata": {},
   "source": [
    "**RNN**\n",
    "\n",
    "Feeding same data as melspectrogram is possible."
   ]
  },
  {
   "cell_type": "code",
   "execution_count": 48,
   "metadata": {},
   "outputs": [],
   "source": [
    "X_train_5, X_test_5, y_train, y_test = train_test_split(X, y, test_size = 0.2, random_state = 42, stratify = y)"
   ]
  },
  {
   "cell_type": "code",
   "execution_count": 49,
   "metadata": {},
   "outputs": [],
   "source": [
    "model5 = Sequential()\n",
    "\n",
    "model5.add(LSTM(64, input_shape = (128,45), return_sequences=True))\n",
    "model5.add(LSTM(64, return_sequences=False ))\n",
    "model5.add(Dense(64, activation = 'relu'))\n",
    "model5.add(Dropout(0.3))\n",
    "\n",
    "model5.add(Dense(5, activation = 'softmax'))"
   ]
  },
  {
   "cell_type": "code",
   "execution_count": 50,
   "metadata": {},
   "outputs": [],
   "source": [
    "model5.compile(optimizer = 'Adam', loss = 'categorical_crossentropy', metrics = ['accuracy'])"
   ]
  },
  {
   "cell_type": "code",
   "execution_count": 51,
   "metadata": {},
   "outputs": [
    {
     "name": "stdout",
     "output_type": "stream",
     "text": [
      "Model: \"sequential_4\"\n",
      "_________________________________________________________________\n",
      "Layer (type)                 Output Shape              Param #   \n",
      "=================================================================\n",
      "lstm_1 (LSTM)                (None, 128, 64)           28160     \n",
      "_________________________________________________________________\n",
      "lstm_2 (LSTM)                (None, 64)                33024     \n",
      "_________________________________________________________________\n",
      "dense_10 (Dense)             (None, 64)                4160      \n",
      "_________________________________________________________________\n",
      "dropout_1 (Dropout)          (None, 64)                0         \n",
      "_________________________________________________________________\n",
      "dense_11 (Dense)             (None, 5)                 325       \n",
      "=================================================================\n",
      "Total params: 65,669\n",
      "Trainable params: 65,669\n",
      "Non-trainable params: 0\n",
      "_________________________________________________________________\n"
     ]
    }
   ],
   "source": [
    "model5.summary()"
   ]
  },
  {
   "cell_type": "code",
   "execution_count": 52,
   "metadata": {
    "scrolled": true
   },
   "outputs": [
    {
     "name": "stdout",
     "output_type": "stream",
     "text": [
      "Train on 839 samples, validate on 210 samples\n",
      "Epoch 1/100\n",
      " - 5s - loss: 1.5342 - accuracy: 0.2980 - val_loss: 1.3765 - val_accuracy: 0.3667\n",
      "Epoch 2/100\n",
      " - 4s - loss: 1.3077 - accuracy: 0.3695 - val_loss: 1.2184 - val_accuracy: 0.3952\n",
      "Epoch 3/100\n",
      " - 4s - loss: 1.1745 - accuracy: 0.4482 - val_loss: 1.1920 - val_accuracy: 0.4952\n",
      "Epoch 4/100\n",
      " - 4s - loss: 1.1067 - accuracy: 0.4791 - val_loss: 1.0784 - val_accuracy: 0.5333\n",
      "Epoch 5/100\n",
      " - 4s - loss: 0.9520 - accuracy: 0.5912 - val_loss: 1.0108 - val_accuracy: 0.5619\n",
      "Epoch 6/100\n",
      " - 4s - loss: 0.8503 - accuracy: 0.6365 - val_loss: 1.1076 - val_accuracy: 0.5762\n",
      "Epoch 7/100\n",
      " - 4s - loss: 0.8461 - accuracy: 0.6329 - val_loss: 0.8866 - val_accuracy: 0.6619\n",
      "Epoch 8/100\n",
      " - 4s - loss: 0.7032 - accuracy: 0.7056 - val_loss: 0.8649 - val_accuracy: 0.6762\n",
      "Epoch 9/100\n",
      " - 4s - loss: 0.6824 - accuracy: 0.6985 - val_loss: 0.7131 - val_accuracy: 0.7238\n",
      "Epoch 10/100\n",
      " - 4s - loss: 0.5926 - accuracy: 0.7652 - val_loss: 0.6966 - val_accuracy: 0.7667\n",
      "Epoch 11/100\n",
      " - 4s - loss: 0.5625 - accuracy: 0.7819 - val_loss: 0.8324 - val_accuracy: 0.6619\n",
      "Epoch 12/100\n",
      " - 4s - loss: 0.5403 - accuracy: 0.8212 - val_loss: 0.5911 - val_accuracy: 0.8048\n",
      "Epoch 13/100\n",
      " - 4s - loss: 0.4658 - accuracy: 0.8510 - val_loss: 0.5543 - val_accuracy: 0.8190\n",
      "Epoch 14/100\n",
      " - 4s - loss: 0.4194 - accuracy: 0.8629 - val_loss: 0.7034 - val_accuracy: 0.7810\n",
      "Epoch 15/100\n",
      " - 4s - loss: 0.4385 - accuracy: 0.8760 - val_loss: 0.4895 - val_accuracy: 0.8286\n",
      "Epoch 16/100\n",
      " - 4s - loss: 0.3319 - accuracy: 0.8987 - val_loss: 0.5494 - val_accuracy: 0.8095\n",
      "Epoch 17/100\n",
      " - 4s - loss: 0.4687 - accuracy: 0.8343 - val_loss: 0.6339 - val_accuracy: 0.7810\n",
      "Epoch 18/100\n",
      " - 4s - loss: 0.4435 - accuracy: 0.8582 - val_loss: 0.5063 - val_accuracy: 0.8095\n",
      "Epoch 19/100\n",
      " - 4s - loss: 0.3716 - accuracy: 0.8963 - val_loss: 0.5835 - val_accuracy: 0.8333\n",
      "Epoch 20/100\n",
      " - 4s - loss: 0.3234 - accuracy: 0.9070 - val_loss: 0.6085 - val_accuracy: 0.8238\n",
      "Epoch 21/100\n",
      " - 4s - loss: 0.2748 - accuracy: 0.9142 - val_loss: 0.5781 - val_accuracy: 0.8190\n",
      "Epoch 22/100\n",
      " - 4s - loss: 0.2659 - accuracy: 0.9237 - val_loss: 0.4479 - val_accuracy: 0.8857\n",
      "Epoch 23/100\n",
      " - 4s - loss: 0.2812 - accuracy: 0.9201 - val_loss: 0.5323 - val_accuracy: 0.8238\n",
      "Epoch 24/100\n",
      " - 4s - loss: 0.2543 - accuracy: 0.9285 - val_loss: 0.5128 - val_accuracy: 0.8571\n",
      "Epoch 25/100\n",
      " - 4s - loss: 0.2040 - accuracy: 0.9392 - val_loss: 0.5450 - val_accuracy: 0.8571\n",
      "Epoch 26/100\n",
      " - 4s - loss: 0.2781 - accuracy: 0.9118 - val_loss: 0.5999 - val_accuracy: 0.8333\n",
      "Epoch 27/100\n",
      " - 4s - loss: 0.4210 - accuracy: 0.8665 - val_loss: 0.5579 - val_accuracy: 0.8286\n",
      "Epoch 28/100\n",
      " - 4s - loss: 0.3802 - accuracy: 0.8903 - val_loss: 0.5347 - val_accuracy: 0.8429\n",
      "Epoch 29/100\n",
      " - 4s - loss: 0.2530 - accuracy: 0.9225 - val_loss: 0.4769 - val_accuracy: 0.8762\n",
      "Epoch 30/100\n",
      " - 4s - loss: 0.1696 - accuracy: 0.9595 - val_loss: 0.4654 - val_accuracy: 0.8667\n",
      "Epoch 31/100\n",
      " - 4s - loss: 0.1451 - accuracy: 0.9654 - val_loss: 0.5395 - val_accuracy: 0.8571\n",
      "Epoch 32/100\n",
      " - 4s - loss: 0.1287 - accuracy: 0.9619 - val_loss: 0.5053 - val_accuracy: 0.8714\n",
      "Epoch 33/100\n",
      " - 4s - loss: 0.1459 - accuracy: 0.9678 - val_loss: 0.6779 - val_accuracy: 0.8429\n",
      "Epoch 34/100\n",
      " - 4s - loss: 0.2636 - accuracy: 0.9356 - val_loss: 0.5404 - val_accuracy: 0.8571\n",
      "Epoch 35/100\n",
      " - 4s - loss: 0.2035 - accuracy: 0.9452 - val_loss: 0.4277 - val_accuracy: 0.8762\n",
      "Epoch 36/100\n",
      " - 4s - loss: 0.1742 - accuracy: 0.9511 - val_loss: 0.7665 - val_accuracy: 0.8238\n",
      "Epoch 37/100\n",
      " - 4s - loss: 0.1511 - accuracy: 0.9666 - val_loss: 0.5305 - val_accuracy: 0.8524\n",
      "Epoch 38/100\n",
      " - 4s - loss: 0.1105 - accuracy: 0.9690 - val_loss: 0.5617 - val_accuracy: 0.8524\n",
      "Epoch 39/100\n",
      " - 4s - loss: 0.1058 - accuracy: 0.9750 - val_loss: 0.5233 - val_accuracy: 0.8762\n",
      "Epoch 40/100\n",
      " - 4s - loss: 0.0989 - accuracy: 0.9738 - val_loss: 0.5367 - val_accuracy: 0.8667\n",
      "Epoch 41/100\n",
      " - 4s - loss: 0.1515 - accuracy: 0.9559 - val_loss: 0.4605 - val_accuracy: 0.9000\n",
      "Epoch 42/100\n",
      " - 4s - loss: 0.0919 - accuracy: 0.9738 - val_loss: 0.4073 - val_accuracy: 0.8952\n",
      "Epoch 43/100\n",
      " - 4s - loss: 0.0784 - accuracy: 0.9809 - val_loss: 0.5136 - val_accuracy: 0.9000\n",
      "Epoch 44/100\n",
      " - 4s - loss: 0.0638 - accuracy: 0.9821 - val_loss: 0.4512 - val_accuracy: 0.9143\n",
      "Epoch 45/100\n",
      " - 4s - loss: 0.0592 - accuracy: 0.9833 - val_loss: 0.6174 - val_accuracy: 0.9000\n",
      "Epoch 46/100\n",
      " - 4s - loss: 0.1076 - accuracy: 0.9726 - val_loss: 0.6256 - val_accuracy: 0.8667\n",
      "Epoch 47/100\n",
      " - 4s - loss: 0.1052 - accuracy: 0.9702 - val_loss: 0.6578 - val_accuracy: 0.8429\n",
      "Epoch 48/100\n",
      " - 4s - loss: 0.2344 - accuracy: 0.9356 - val_loss: 0.6456 - val_accuracy: 0.8048\n",
      "Epoch 49/100\n",
      " - 4s - loss: 0.1470 - accuracy: 0.9583 - val_loss: 0.4852 - val_accuracy: 0.8810\n",
      "Epoch 50/100\n",
      " - 4s - loss: 0.0825 - accuracy: 0.9797 - val_loss: 0.5405 - val_accuracy: 0.8762\n",
      "Epoch 51/100\n",
      " - 4s - loss: 0.1013 - accuracy: 0.9750 - val_loss: 0.3856 - val_accuracy: 0.9000\n",
      "Epoch 52/100\n",
      " - 4s - loss: 0.0776 - accuracy: 0.9785 - val_loss: 0.6089 - val_accuracy: 0.8667\n",
      "Epoch 53/100\n",
      " - 4s - loss: 0.0600 - accuracy: 0.9833 - val_loss: 0.4788 - val_accuracy: 0.9000\n",
      "Epoch 54/100\n",
      " - 4s - loss: 0.0566 - accuracy: 0.9857 - val_loss: 0.4915 - val_accuracy: 0.9000\n",
      "Epoch 55/100\n",
      " - 4s - loss: 0.0427 - accuracy: 0.9893 - val_loss: 0.5079 - val_accuracy: 0.9048\n",
      "Epoch 56/100\n",
      " - 4s - loss: 0.1527 - accuracy: 0.9547 - val_loss: 0.7173 - val_accuracy: 0.8524\n",
      "Epoch 57/100\n",
      " - 4s - loss: 0.1314 - accuracy: 0.9595 - val_loss: 0.8034 - val_accuracy: 0.8190\n",
      "Epoch 58/100\n",
      " - 4s - loss: 0.2274 - accuracy: 0.9368 - val_loss: 0.9175 - val_accuracy: 0.8238\n",
      "Epoch 59/100\n",
      " - 4s - loss: 0.2694 - accuracy: 0.9356 - val_loss: 0.5435 - val_accuracy: 0.8238\n",
      "Epoch 60/100\n",
      " - 4s - loss: 0.1977 - accuracy: 0.9404 - val_loss: 0.5068 - val_accuracy: 0.8429\n",
      "Epoch 61/100\n",
      " - 4s - loss: 0.0869 - accuracy: 0.9714 - val_loss: 0.4820 - val_accuracy: 0.8905\n",
      "Epoch 62/100\n",
      " - 4s - loss: 0.0834 - accuracy: 0.9750 - val_loss: 0.5106 - val_accuracy: 0.8571\n",
      "Epoch 63/100\n",
      " - 4s - loss: 0.0759 - accuracy: 0.9762 - val_loss: 0.4511 - val_accuracy: 0.8905\n",
      "Epoch 64/100\n",
      " - 4s - loss: 0.0521 - accuracy: 0.9857 - val_loss: 0.4803 - val_accuracy: 0.8857\n",
      "Epoch 65/100\n",
      " - 4s - loss: 0.0306 - accuracy: 0.9917 - val_loss: 0.3898 - val_accuracy: 0.9190\n",
      "Epoch 66/100\n",
      " - 4s - loss: 0.0246 - accuracy: 0.9940 - val_loss: 0.4256 - val_accuracy: 0.9048\n",
      "Epoch 67/100\n",
      " - 4s - loss: 0.0121 - accuracy: 0.9964 - val_loss: 0.4665 - val_accuracy: 0.9000\n",
      "Epoch 68/100\n",
      " - 4s - loss: 0.0133 - accuracy: 0.9964 - val_loss: 0.4343 - val_accuracy: 0.9095\n",
      "Epoch 69/100\n",
      " - 4s - loss: 0.0095 - accuracy: 0.9976 - val_loss: 0.4617 - val_accuracy: 0.9000\n",
      "Epoch 70/100\n",
      " - 4s - loss: 0.0087 - accuracy: 0.9988 - val_loss: 0.4928 - val_accuracy: 0.9000\n",
      "Epoch 71/100\n",
      " - 4s - loss: 0.0083 - accuracy: 0.9988 - val_loss: 0.5340 - val_accuracy: 0.9000\n",
      "Epoch 72/100\n",
      " - 4s - loss: 0.0086 - accuracy: 0.9988 - val_loss: 0.5541 - val_accuracy: 0.8952\n",
      "Epoch 73/100\n",
      " - 4s - loss: 0.0108 - accuracy: 0.9988 - val_loss: 0.5306 - val_accuracy: 0.9000\n",
      "Epoch 74/100\n",
      " - 4s - loss: 0.0080 - accuracy: 0.9988 - val_loss: 0.5754 - val_accuracy: 0.8905\n",
      "Epoch 75/100\n",
      " - 4s - loss: 0.0075 - accuracy: 0.9988 - val_loss: 0.5852 - val_accuracy: 0.9000\n",
      "Epoch 76/100\n",
      " - 4s - loss: 0.0093 - accuracy: 0.9976 - val_loss: 0.6730 - val_accuracy: 0.8952\n",
      "Epoch 77/100\n",
      " - 4s - loss: 0.1107 - accuracy: 0.9726 - val_loss: 0.6294 - val_accuracy: 0.8571\n",
      "Epoch 78/100\n",
      " - 4s - loss: 0.0993 - accuracy: 0.9738 - val_loss: 0.4904 - val_accuracy: 0.8952\n",
      "Epoch 79/100\n",
      " - 4s - loss: 0.0879 - accuracy: 0.9750 - val_loss: 0.5007 - val_accuracy: 0.8952\n",
      "Epoch 80/100\n",
      " - 4s - loss: 0.0723 - accuracy: 0.9797 - val_loss: 0.5397 - val_accuracy: 0.8905\n",
      "Epoch 81/100\n",
      " - 4s - loss: 0.1944 - accuracy: 0.9535 - val_loss: 0.4453 - val_accuracy: 0.8810\n",
      "Epoch 82/100\n",
      " - 4s - loss: 0.0833 - accuracy: 0.9821 - val_loss: 0.4724 - val_accuracy: 0.8857\n",
      "Epoch 83/100\n",
      " - 4s - loss: 0.0611 - accuracy: 0.9833 - val_loss: 0.5326 - val_accuracy: 0.8952\n",
      "Epoch 84/100\n",
      " - 4s - loss: 0.0304 - accuracy: 0.9905 - val_loss: 0.5477 - val_accuracy: 0.8857\n",
      "Epoch 85/100\n",
      " - 4s - loss: 0.0181 - accuracy: 0.9952 - val_loss: 0.4911 - val_accuracy: 0.9048\n",
      "Epoch 86/100\n",
      " - 4s - loss: 0.0117 - accuracy: 0.9976 - val_loss: 0.5135 - val_accuracy: 0.9048\n"
     ]
    },
    {
     "name": "stdout",
     "output_type": "stream",
     "text": [
      "Epoch 87/100\n",
      " - 4s - loss: 0.0079 - accuracy: 0.9988 - val_loss: 0.5511 - val_accuracy: 0.8952\n",
      "Epoch 88/100\n",
      " - 4s - loss: 0.0122 - accuracy: 0.9988 - val_loss: 0.5171 - val_accuracy: 0.9190\n",
      "Epoch 89/100\n",
      " - 4s - loss: 0.0059 - accuracy: 0.9988 - val_loss: 0.5669 - val_accuracy: 0.9048\n",
      "Epoch 90/100\n",
      " - 4s - loss: 0.0055 - accuracy: 0.9988 - val_loss: 0.5757 - val_accuracy: 0.9000\n",
      "Epoch 91/100\n",
      " - 4s - loss: 0.0057 - accuracy: 0.9976 - val_loss: 0.5745 - val_accuracy: 0.9095\n",
      "Epoch 92/100\n",
      " - 4s - loss: 0.0037 - accuracy: 0.9988 - val_loss: 0.5963 - val_accuracy: 0.9000\n",
      "Epoch 93/100\n",
      " - 4s - loss: 0.0052 - accuracy: 0.9988 - val_loss: 0.5987 - val_accuracy: 0.9048\n",
      "Epoch 94/100\n",
      " - 4s - loss: 0.0032 - accuracy: 1.0000 - val_loss: 0.6121 - val_accuracy: 0.9000\n",
      "Epoch 95/100\n",
      " - 4s - loss: 0.0040 - accuracy: 0.9988 - val_loss: 0.6161 - val_accuracy: 0.9000\n",
      "Epoch 96/100\n",
      " - 4s - loss: 0.0036 - accuracy: 0.9988 - val_loss: 0.6317 - val_accuracy: 0.9000\n",
      "Epoch 97/100\n",
      " - 4s - loss: 0.0032 - accuracy: 0.9988 - val_loss: 0.6316 - val_accuracy: 0.9048\n",
      "Epoch 98/100\n",
      " - 4s - loss: 0.0027 - accuracy: 0.9988 - val_loss: 0.6537 - val_accuracy: 0.8952\n",
      "Epoch 99/100\n",
      " - 4s - loss: 0.0022 - accuracy: 1.0000 - val_loss: 0.6584 - val_accuracy: 0.8905\n",
      "Epoch 100/100\n",
      " - 4s - loss: 0.0029 - accuracy: 0.9988 - val_loss: 0.6507 - val_accuracy: 0.9000\n"
     ]
    }
   ],
   "source": [
    "history = model5.fit(X_train_5,\n",
    "                        y_train,\n",
    "                        batch_size=32,\n",
    "                        validation_data=(X_test_5, y_test),\n",
    "                        epochs=100,\n",
    "                        verbose=2)"
   ]
  },
  {
   "cell_type": "code",
   "execution_count": 53,
   "metadata": {},
   "outputs": [
    {
     "data": {
      "text/plain": [
       "<matplotlib.legend.Legend at 0x17bb8283780>"
      ]
     },
     "execution_count": 53,
     "metadata": {},
     "output_type": "execute_result"
    },
    {
     "data": {
      "image/png": "[encoded data removed]",
      "text/plain": [
       "<Figure size 432x288 with 1 Axes>"
      ]
     },
     "metadata": {
      "needs_background": "light"
     },
     "output_type": "display_data"
    }
   ],
   "source": [
    "plt.plot(history.history['loss'], label = ' Training Loss')\n",
    "plt.plot(history.history['val_loss'], label = ' Test Loss')\n",
    "plt.legend()"
   ]
  },
  {
   "cell_type": "code",
   "execution_count": 54,
   "metadata": {},
   "outputs": [
    {
     "data": {
      "text/plain": [
       "<matplotlib.legend.Legend at 0x17bb82fd7b8>"
      ]
     },
     "execution_count": 54,
     "metadata": {},
     "output_type": "execute_result"
    },
    {
     "data": {
      "image/png": "[encoded data removed]",
      "text/plain": [
       "<Figure size 432x288 with 1 Axes>"
      ]
     },
     "metadata": {
      "needs_background": "light"
     },
     "output_type": "display_data"
    }
   ],
   "source": [
    "plt.plot(history.history['accuracy'], label = ' Training Accuracy')\n",
    "plt.plot(history.history['val_accuracy'], label = ' Test Accuracy')\n",
    "plt.legend()"
   ]
  },
  {
   "cell_type": "code",
   "execution_count": 55,
   "metadata": {},
   "outputs": [
    {
     "name": "stdout",
     "output_type": "stream",
     "text": [
      "210/210 [==============================] - 0s 972us/step\n"
     ]
    }
   ],
   "source": [
    "model5_eval = model5.evaluate(X_test_5,y_test, verbose=1)\n",
    "model5_metrics = model5.metrics_names"
   ]
  },
  {
   "cell_type": "markdown",
   "metadata": {},
   "source": [
    "**Model 6**\n",
    "mfcc with padding"
   ]
  },
  {
   "cell_type": "code",
   "execution_count": 56,
   "metadata": {},
   "outputs": [],
   "source": [
    "def get_mfcc(file, n_mfcc=40):\n",
    "    audio, sr = librosa.load(file) \n",
    "    mfccs = librosa.feature.mfcc(y=audio, sr=sr, n_mfcc=n_mfcc)\n",
    "    return mfccs.T"
   ]
  },
  {
   "cell_type": "code",
   "execution_count": 57,
   "metadata": {},
   "outputs": [],
   "source": [
    "mfcc = train_df['filepath'].map(get_mfcc)"
   ]
  },
  {
   "cell_type": "code",
   "execution_count": 58,
   "metadata": {},
   "outputs": [],
   "source": [
    "X = pad_sequences(mfcc, padding='post')"
   ]
  },
  {
   "cell_type": "code",
   "execution_count": 59,
   "metadata": {},
   "outputs": [
    {
     "data": {
      "text/plain": [
       "(1049, 42, 40)"
      ]
     },
     "execution_count": 59,
     "metadata": {},
     "output_type": "execute_result"
    }
   ],
   "source": [
    "X.shape"
   ]
  },
  {
   "cell_type": "code",
   "execution_count": 60,
   "metadata": {},
   "outputs": [],
   "source": [
    "X_train_6, X_test_6, y_train, y_test = train_test_split(X, y, test_size = 0.2, random_state = 42, stratify = y)"
   ]
  },
  {
   "cell_type": "code",
   "execution_count": 61,
   "metadata": {},
   "outputs": [],
   "source": [
    "model6 = Sequential()\n",
    "\n",
    "model6.add(Masking(mask_value=0, input_shape=(42, 40)))\n",
    "model6.add(LSTM(64, input_shape = (42,40), return_sequences=True))\n",
    "model6.add(LSTM(64, return_sequences=False ))\n",
    "model6.add(Dense(64, activation = 'relu'))\n",
    "model6.add(Dropout(0.3))\n",
    "\n",
    "model6.add(Dense(5, activation = 'softmax'))"
   ]
  },
  {
   "cell_type": "code",
   "execution_count": 62,
   "metadata": {},
   "outputs": [],
   "source": [
    "model6.compile(optimizer = 'Adam', loss = 'categorical_crossentropy', metrics = ['accuracy'])"
   ]
  },
  {
   "cell_type": "code",
   "execution_count": 63,
   "metadata": {},
   "outputs": [
    {
     "name": "stdout",
     "output_type": "stream",
     "text": [
      "Model: \"sequential_5\"\n",
      "_________________________________________________________________\n",
      "Layer (type)                 Output Shape              Param #   \n",
      "=================================================================\n",
      "masking_1 (Masking)          (None, 42, 40)            0         \n",
      "_________________________________________________________________\n",
      "lstm_3 (LSTM)                (None, 42, 64)            26880     \n",
      "_________________________________________________________________\n",
      "lstm_4 (LSTM)                (None, 64)                33024     \n",
      "_________________________________________________________________\n",
      "dense_12 (Dense)             (None, 64)                4160      \n",
      "_________________________________________________________________\n",
      "dropout_2 (Dropout)          (None, 64)                0         \n",
      "_________________________________________________________________\n",
      "dense_13 (Dense)             (None, 5)                 325       \n",
      "=================================================================\n",
      "Total params: 64,389\n",
      "Trainable params: 64,389\n",
      "Non-trainable params: 0\n",
      "_________________________________________________________________\n"
     ]
    }
   ],
   "source": [
    "model6.summary()"
   ]
  },
  {
   "cell_type": "code",
   "execution_count": 64,
   "metadata": {},
   "outputs": [
    {
     "name": "stdout",
     "output_type": "stream",
     "text": [
      "Train on 839 samples, validate on 210 samples\n",
      "Epoch 1/100\n",
      " - 3s - loss: 1.4775 - accuracy: 0.3588 - val_loss: 1.2478 - val_accuracy: 0.5619\n",
      "Epoch 2/100\n",
      " - 2s - loss: 0.9696 - accuracy: 0.6567 - val_loss: 0.6536 - val_accuracy: 0.8000\n",
      "Epoch 3/100\n",
      " - 2s - loss: 0.4333 - accuracy: 0.8772 - val_loss: 0.3036 - val_accuracy: 0.8905\n",
      "Epoch 4/100\n",
      " - 2s - loss: 0.2302 - accuracy: 0.9416 - val_loss: 0.2299 - val_accuracy: 0.9190\n",
      "Epoch 5/100\n",
      " - 2s - loss: 0.1404 - accuracy: 0.9619 - val_loss: 0.1969 - val_accuracy: 0.9238\n",
      "Epoch 6/100\n",
      " - 2s - loss: 0.0787 - accuracy: 0.9809 - val_loss: 0.1722 - val_accuracy: 0.9524\n",
      "Epoch 7/100\n",
      " - 2s - loss: 0.0635 - accuracy: 0.9833 - val_loss: 0.1595 - val_accuracy: 0.9476\n",
      "Epoch 8/100\n",
      " - 2s - loss: 0.0821 - accuracy: 0.9738 - val_loss: 0.1926 - val_accuracy: 0.9476\n",
      "Epoch 9/100\n",
      " - 2s - loss: 0.0634 - accuracy: 0.9797 - val_loss: 0.1982 - val_accuracy: 0.9238\n",
      "Epoch 10/100\n",
      " - 2s - loss: 0.0444 - accuracy: 0.9905 - val_loss: 0.1575 - val_accuracy: 0.9524\n",
      "Epoch 11/100\n",
      " - 2s - loss: 0.0241 - accuracy: 0.9964 - val_loss: 0.1868 - val_accuracy: 0.9381\n",
      "Epoch 12/100\n",
      " - 2s - loss: 0.0152 - accuracy: 0.9952 - val_loss: 0.1816 - val_accuracy: 0.9619\n",
      "Epoch 13/100\n",
      " - 2s - loss: 0.0188 - accuracy: 0.9952 - val_loss: 0.1345 - val_accuracy: 0.9571\n",
      "Epoch 14/100\n",
      " - 2s - loss: 0.0082 - accuracy: 0.9988 - val_loss: 0.1841 - val_accuracy: 0.9476\n",
      "Epoch 15/100\n",
      " - 2s - loss: 0.0142 - accuracy: 0.9964 - val_loss: 0.1456 - val_accuracy: 0.9619\n",
      "Epoch 16/100\n",
      " - 2s - loss: 0.0044 - accuracy: 1.0000 - val_loss: 0.1888 - val_accuracy: 0.9524\n",
      "Epoch 17/100\n",
      " - 2s - loss: 0.0035 - accuracy: 1.0000 - val_loss: 0.1874 - val_accuracy: 0.9571\n",
      "Epoch 18/100\n",
      " - 2s - loss: 0.0026 - accuracy: 1.0000 - val_loss: 0.1898 - val_accuracy: 0.9571\n",
      "Epoch 19/100\n",
      " - 2s - loss: 0.0017 - accuracy: 1.0000 - val_loss: 0.1956 - val_accuracy: 0.9571\n",
      "Epoch 20/100\n",
      " - 2s - loss: 0.0017 - accuracy: 1.0000 - val_loss: 0.1973 - val_accuracy: 0.9619\n",
      "Epoch 21/100\n",
      " - 2s - loss: 0.0013 - accuracy: 1.0000 - val_loss: 0.2020 - val_accuracy: 0.9571\n",
      "Epoch 22/100\n",
      " - 2s - loss: 0.0013 - accuracy: 1.0000 - val_loss: 0.2059 - val_accuracy: 0.9571\n",
      "Epoch 23/100\n",
      " - 2s - loss: 0.0018 - accuracy: 1.0000 - val_loss: 0.2040 - val_accuracy: 0.9571\n",
      "Epoch 24/100\n",
      " - 2s - loss: 0.0011 - accuracy: 1.0000 - val_loss: 0.2091 - val_accuracy: 0.9524\n",
      "Epoch 25/100\n",
      " - 2s - loss: 6.9389e-04 - accuracy: 1.0000 - val_loss: 0.2056 - val_accuracy: 0.9571\n",
      "Epoch 26/100\n",
      " - 2s - loss: 0.0011 - accuracy: 1.0000 - val_loss: 0.2032 - val_accuracy: 0.9571\n",
      "Epoch 27/100\n",
      " - 2s - loss: 0.0010 - accuracy: 1.0000 - val_loss: 0.2214 - val_accuracy: 0.9571\n",
      "Epoch 28/100\n",
      " - 2s - loss: 7.0619e-04 - accuracy: 1.0000 - val_loss: 0.2272 - val_accuracy: 0.9571\n",
      "Epoch 29/100\n",
      " - 2s - loss: 9.7640e-04 - accuracy: 1.0000 - val_loss: 0.2465 - val_accuracy: 0.9476\n",
      "Epoch 30/100\n",
      " - 2s - loss: 8.0944e-04 - accuracy: 1.0000 - val_loss: 0.2295 - val_accuracy: 0.9571\n",
      "Epoch 31/100\n",
      " - 2s - loss: 4.8425e-04 - accuracy: 1.0000 - val_loss: 0.2230 - val_accuracy: 0.9571\n",
      "Epoch 32/100\n",
      " - 2s - loss: 6.0914e-04 - accuracy: 1.0000 - val_loss: 0.2298 - val_accuracy: 0.9619\n",
      "Epoch 33/100\n",
      " - 2s - loss: 5.7446e-04 - accuracy: 1.0000 - val_loss: 0.2373 - val_accuracy: 0.9476\n",
      "Epoch 34/100\n",
      " - 2s - loss: 5.2892e-04 - accuracy: 1.0000 - val_loss: 0.2424 - val_accuracy: 0.9524\n",
      "Epoch 35/100\n",
      " - 2s - loss: 4.4527e-04 - accuracy: 1.0000 - val_loss: 0.2390 - val_accuracy: 0.9571\n",
      "Epoch 36/100\n",
      " - 2s - loss: 5.2163e-04 - accuracy: 1.0000 - val_loss: 0.2444 - val_accuracy: 0.9571\n",
      "Epoch 37/100\n",
      " - 2s - loss: 5.2357e-04 - accuracy: 1.0000 - val_loss: 0.2597 - val_accuracy: 0.9571\n",
      "Epoch 38/100\n",
      " - 2s - loss: 3.9605e-04 - accuracy: 1.0000 - val_loss: 0.2611 - val_accuracy: 0.9571\n",
      "Epoch 39/100\n",
      " - 2s - loss: 4.4433e-04 - accuracy: 1.0000 - val_loss: 0.2584 - val_accuracy: 0.9571\n",
      "Epoch 40/100\n",
      " - 2s - loss: 7.1826e-04 - accuracy: 1.0000 - val_loss: 0.2653 - val_accuracy: 0.9571\n",
      "Epoch 41/100\n",
      " - 2s - loss: 4.3973e-04 - accuracy: 1.0000 - val_loss: 0.2725 - val_accuracy: 0.9571\n",
      "Epoch 42/100\n",
      " - 2s - loss: 8.8265e-04 - accuracy: 1.0000 - val_loss: 0.2709 - val_accuracy: 0.9571\n",
      "Epoch 43/100\n",
      " - 2s - loss: 2.7086e-04 - accuracy: 1.0000 - val_loss: 0.2738 - val_accuracy: 0.9571\n",
      "Epoch 44/100\n",
      " - 2s - loss: 2.8368e-04 - accuracy: 1.0000 - val_loss: 0.2775 - val_accuracy: 0.9524\n",
      "Epoch 45/100\n",
      " - 2s - loss: 2.4127e-04 - accuracy: 1.0000 - val_loss: 0.2765 - val_accuracy: 0.9524\n",
      "Epoch 46/100\n",
      " - 2s - loss: 3.2053e-04 - accuracy: 1.0000 - val_loss: 0.2781 - val_accuracy: 0.9524\n",
      "Epoch 47/100\n",
      " - 2s - loss: 2.5700e-04 - accuracy: 1.0000 - val_loss: 0.2816 - val_accuracy: 0.9524\n",
      "Epoch 48/100\n",
      " - 2s - loss: 2.1424e-04 - accuracy: 1.0000 - val_loss: 0.2839 - val_accuracy: 0.9524\n",
      "Epoch 49/100\n",
      " - 2s - loss: 1.9934e-04 - accuracy: 1.0000 - val_loss: 0.2839 - val_accuracy: 0.9524\n",
      "Epoch 50/100\n",
      " - 2s - loss: 2.6747e-04 - accuracy: 1.0000 - val_loss: 0.2860 - val_accuracy: 0.9524\n",
      "Epoch 51/100\n",
      " - 2s - loss: 1.0646e-04 - accuracy: 1.0000 - val_loss: 0.2872 - val_accuracy: 0.9524\n",
      "Epoch 52/100\n",
      " - 2s - loss: 2.0212e-04 - accuracy: 1.0000 - val_loss: 0.2873 - val_accuracy: 0.9524\n",
      "Epoch 53/100\n",
      " - 2s - loss: 2.2056e-04 - accuracy: 1.0000 - val_loss: 0.2880 - val_accuracy: 0.9524\n",
      "Epoch 54/100\n",
      " - 2s - loss: 2.4810e-04 - accuracy: 1.0000 - val_loss: 0.2952 - val_accuracy: 0.9524\n",
      "Epoch 55/100\n",
      " - 2s - loss: 1.7107e-04 - accuracy: 1.0000 - val_loss: 0.2968 - val_accuracy: 0.9476\n",
      "Epoch 56/100\n",
      " - 2s - loss: 6.0703e-04 - accuracy: 1.0000 - val_loss: 0.2982 - val_accuracy: 0.9476\n",
      "Epoch 57/100\n",
      " - 2s - loss: 1.8905e-04 - accuracy: 1.0000 - val_loss: 0.2978 - val_accuracy: 0.9476\n",
      "Epoch 58/100\n",
      " - 2s - loss: 6.7806e-04 - accuracy: 1.0000 - val_loss: 0.2819 - val_accuracy: 0.9524\n",
      "Epoch 59/100\n",
      " - 2s - loss: 2.1673e-04 - accuracy: 1.0000 - val_loss: 0.2507 - val_accuracy: 0.9524\n",
      "Epoch 60/100\n",
      " - 2s - loss: 1.3443e-04 - accuracy: 1.0000 - val_loss: 0.2580 - val_accuracy: 0.9524\n",
      "Epoch 61/100\n",
      " - 2s - loss: 1.9950e-04 - accuracy: 1.0000 - val_loss: 0.2684 - val_accuracy: 0.9524\n",
      "Epoch 62/100\n",
      " - 2s - loss: 1.9088e-04 - accuracy: 1.0000 - val_loss: 0.2810 - val_accuracy: 0.9476\n",
      "Epoch 63/100\n",
      " - 2s - loss: 2.2471e-04 - accuracy: 1.0000 - val_loss: 0.2785 - val_accuracy: 0.9476\n",
      "Epoch 64/100\n",
      " - 2s - loss: 2.0737e-04 - accuracy: 1.0000 - val_loss: 0.2866 - val_accuracy: 0.9429\n",
      "Epoch 65/100\n",
      " - 2s - loss: 2.2871e-04 - accuracy: 1.0000 - val_loss: 0.2774 - val_accuracy: 0.9524\n",
      "Epoch 66/100\n",
      " - 2s - loss: 1.5225e-04 - accuracy: 1.0000 - val_loss: 0.2725 - val_accuracy: 0.9524\n",
      "Epoch 67/100\n",
      " - 2s - loss: 2.6747e-04 - accuracy: 1.0000 - val_loss: 0.2800 - val_accuracy: 0.9524\n",
      "Epoch 68/100\n",
      " - 2s - loss: 2.2063e-04 - accuracy: 1.0000 - val_loss: 0.2744 - val_accuracy: 0.9524\n",
      "Epoch 69/100\n",
      " - 2s - loss: 1.1697e-04 - accuracy: 1.0000 - val_loss: 0.2766 - val_accuracy: 0.9524\n",
      "Epoch 70/100\n",
      " - 2s - loss: 2.4963e-04 - accuracy: 1.0000 - val_loss: 0.2752 - val_accuracy: 0.9524\n",
      "Epoch 71/100\n",
      " - 2s - loss: 6.7011e-05 - accuracy: 1.0000 - val_loss: 0.2775 - val_accuracy: 0.9524\n",
      "Epoch 72/100\n",
      " - 2s - loss: 1.0109e-04 - accuracy: 1.0000 - val_loss: 0.2765 - val_accuracy: 0.9571\n",
      "Epoch 73/100\n",
      " - 2s - loss: 4.6473e-04 - accuracy: 1.0000 - val_loss: 0.2885 - val_accuracy: 0.9524\n",
      "Epoch 74/100\n",
      " - 2s - loss: 2.9622e-04 - accuracy: 1.0000 - val_loss: 0.3271 - val_accuracy: 0.9476\n",
      "Epoch 75/100\n",
      " - 2s - loss: 1.4222e-04 - accuracy: 1.0000 - val_loss: 0.3682 - val_accuracy: 0.9476\n",
      "Epoch 76/100\n",
      " - 2s - loss: 6.6816e-05 - accuracy: 1.0000 - val_loss: 0.3617 - val_accuracy: 0.9476\n",
      "Epoch 77/100\n",
      " - 2s - loss: 1.0137e-04 - accuracy: 1.0000 - val_loss: 0.3557 - val_accuracy: 0.9429\n",
      "Epoch 78/100\n",
      " - 2s - loss: 1.5724e-04 - accuracy: 1.0000 - val_loss: 0.2511 - val_accuracy: 0.9619\n",
      "Epoch 79/100\n",
      " - 2s - loss: 1.5254e-04 - accuracy: 1.0000 - val_loss: 0.2370 - val_accuracy: 0.9619\n",
      "Epoch 80/100\n",
      " - 2s - loss: 1.4145e-04 - accuracy: 1.0000 - val_loss: 0.2585 - val_accuracy: 0.9571\n",
      "Epoch 81/100\n",
      " - 2s - loss: 1.3549e-04 - accuracy: 1.0000 - val_loss: 0.2658 - val_accuracy: 0.9571\n",
      "Epoch 82/100\n",
      " - 2s - loss: 1.0252e-04 - accuracy: 1.0000 - val_loss: 0.2685 - val_accuracy: 0.9571\n",
      "Epoch 83/100\n",
      " - 2s - loss: 9.9107e-05 - accuracy: 1.0000 - val_loss: 0.2665 - val_accuracy: 0.9619\n",
      "Epoch 84/100\n",
      " - 2s - loss: 8.3991e-05 - accuracy: 1.0000 - val_loss: 0.2671 - val_accuracy: 0.9667\n"
     ]
    },
    {
     "name": "stdout",
     "output_type": "stream",
     "text": [
      "Epoch 85/100\n",
      " - 2s - loss: 4.5341e-04 - accuracy: 1.0000 - val_loss: 0.2705 - val_accuracy: 0.9667\n",
      "Epoch 86/100\n",
      " - 2s - loss: 7.1146e-05 - accuracy: 1.0000 - val_loss: 0.2607 - val_accuracy: 0.9667\n",
      "Epoch 87/100\n",
      " - 2s - loss: 7.4030e-05 - accuracy: 1.0000 - val_loss: 0.2596 - val_accuracy: 0.9667\n",
      "Epoch 88/100\n",
      " - 2s - loss: 4.5828e-05 - accuracy: 1.0000 - val_loss: 0.2646 - val_accuracy: 0.9667\n",
      "Epoch 89/100\n",
      " - 2s - loss: 6.3899e-05 - accuracy: 1.0000 - val_loss: 0.2648 - val_accuracy: 0.9667\n",
      "Epoch 90/100\n",
      " - 2s - loss: 1.2101e-04 - accuracy: 1.0000 - val_loss: 0.2625 - val_accuracy: 0.9714\n",
      "Epoch 91/100\n",
      " - 2s - loss: 1.3026e-04 - accuracy: 1.0000 - val_loss: 0.2628 - val_accuracy: 0.9714\n",
      "Epoch 92/100\n",
      " - 2s - loss: 6.2587e-05 - accuracy: 1.0000 - val_loss: 0.2702 - val_accuracy: 0.9667\n",
      "Epoch 93/100\n",
      " - 2s - loss: 6.5249e-05 - accuracy: 1.0000 - val_loss: 0.2709 - val_accuracy: 0.9667\n",
      "Epoch 94/100\n",
      " - 2s - loss: 1.2159e-04 - accuracy: 1.0000 - val_loss: 0.2683 - val_accuracy: 0.9667\n",
      "Epoch 95/100\n",
      " - 2s - loss: 7.2675e-05 - accuracy: 1.0000 - val_loss: 0.2689 - val_accuracy: 0.9667\n",
      "Epoch 96/100\n",
      " - 2s - loss: 1.0825e-04 - accuracy: 1.0000 - val_loss: 0.2615 - val_accuracy: 0.9667\n",
      "Epoch 97/100\n",
      " - 2s - loss: 2.3992e-04 - accuracy: 1.0000 - val_loss: 0.3186 - val_accuracy: 0.9619\n",
      "Epoch 98/100\n",
      " - 2s - loss: 0.2970 - accuracy: 0.9333 - val_loss: 0.5396 - val_accuracy: 0.8810\n",
      "Epoch 99/100\n",
      " - 2s - loss: 0.3127 - accuracy: 0.9082 - val_loss: 0.2808 - val_accuracy: 0.9000\n",
      "Epoch 100/100\n",
      " - 2s - loss: 0.1210 - accuracy: 0.9631 - val_loss: 0.1951 - val_accuracy: 0.9429\n"
     ]
    }
   ],
   "source": [
    "history = model6.fit(X_train_6,\n",
    "                    y_train,\n",
    "                    batch_size=32,\n",
    "                    validation_data=(X_test_6, y_test),\n",
    "                    epochs=100,\n",
    "                    verbose=2)"
   ]
  },
  {
   "cell_type": "code",
   "execution_count": 65,
   "metadata": {},
   "outputs": [
    {
     "data": {
      "text/plain": [
       "<matplotlib.legend.Legend at 0x17bc1d05e48>"
      ]
     },
     "execution_count": 65,
     "metadata": {},
     "output_type": "execute_result"
    },
    {
     "data": {
      "image/png": "[encoded data removed]",
      "text/plain": [
       "<Figure size 432x288 with 1 Axes>"
      ]
     },
     "metadata": {
      "needs_background": "light"
     },
     "output_type": "display_data"
    }
   ],
   "source": [
    "plt.plot(history.history['loss'], label = ' Training Loss')\n",
    "plt.plot(history.history['val_loss'], label = ' Test Loss')\n",
    "plt.legend()"
   ]
  },
  {
   "cell_type": "code",
   "execution_count": 66,
   "metadata": {},
   "outputs": [
    {
     "data": {
      "text/plain": [
       "<matplotlib.legend.Legend at 0x17bc24497f0>"
      ]
     },
     "execution_count": 66,
     "metadata": {},
     "output_type": "execute_result"
    },
    {
     "data": {
      "image/png": "[encoded data removed]",
      "text/plain": [
       "<Figure size 432x288 with 1 Axes>"
      ]
     },
     "metadata": {
      "needs_background": "light"
     },
     "output_type": "display_data"
    }
   ],
   "source": [
    "plt.plot(history.history['accuracy'], label = ' Training Accuracy')\n",
    "plt.plot(history.history['val_accuracy'], label = ' Test Accuracy')\n",
    "plt.legend()"
   ]
  },
  {
   "cell_type": "code",
   "execution_count": 67,
   "metadata": {},
   "outputs": [
    {
     "name": "stdout",
     "output_type": "stream",
     "text": [
      "210/210 [==============================] - 0s 610us/step\n"
     ]
    }
   ],
   "source": [
    "model6_eval = model6.evaluate(X_test_6,y_test, verbose=1)\n",
    "model6_metrics = model6.metrics_names"
   ]
  },
  {
   "cell_type": "markdown",
   "metadata": {},
   "source": [
    "Model 7 \n",
    "RNN with GRU"
   ]
  },
  {
   "cell_type": "code",
   "execution_count": 68,
   "metadata": {},
   "outputs": [],
   "source": [
    "X_train_7, X_test_7, y_train, y_test = train_test_split(X, y, test_size = 0.2, random_state = 42, stratify = y)"
   ]
  },
  {
   "cell_type": "code",
   "execution_count": 69,
   "metadata": {},
   "outputs": [],
   "source": [
    "model7 = Sequential()\n",
    "\n",
    "model7.add(Masking(mask_value=0, input_shape=(42, 40)))\n",
    "model7.add(GRU(64, input_shape = (42,40), return_sequences=True))\n",
    "model7.add(GRU(64, return_sequences=False ))\n",
    "model7.add(Dense(64, activation = 'relu'))\n",
    "model7.add(Dropout(0.3))\n",
    "\n",
    "model7.add(Dense(5, activation = 'softmax'))"
   ]
  },
  {
   "cell_type": "code",
   "execution_count": 70,
   "metadata": {},
   "outputs": [],
   "source": [
    "model7.compile(optimizer = 'Adam', loss = 'categorical_crossentropy', metrics = ['accuracy'])"
   ]
  },
  {
   "cell_type": "code",
   "execution_count": 71,
   "metadata": {
    "scrolled": true
   },
   "outputs": [
    {
     "name": "stdout",
     "output_type": "stream",
     "text": [
      "Model: \"sequential_6\"\n",
      "_________________________________________________________________\n",
      "Layer (type)                 Output Shape              Param #   \n",
      "=================================================================\n",
      "masking_2 (Masking)          (None, 42, 40)            0         \n",
      "_________________________________________________________________\n",
      "gru_1 (GRU)                  (None, 42, 64)            20160     \n",
      "_________________________________________________________________\n",
      "gru_2 (GRU)                  (None, 64)                24768     \n",
      "_________________________________________________________________\n",
      "dense_14 (Dense)             (None, 64)                4160      \n",
      "_________________________________________________________________\n",
      "dropout_3 (Dropout)          (None, 64)                0         \n",
      "_________________________________________________________________\n",
      "dense_15 (Dense)             (None, 5)                 325       \n",
      "=================================================================\n",
      "Total params: 49,413\n",
      "Trainable params: 49,413\n",
      "Non-trainable params: 0\n",
      "_________________________________________________________________\n"
     ]
    }
   ],
   "source": [
    "model7.summary()"
   ]
  },
  {
   "cell_type": "code",
   "execution_count": 72,
   "metadata": {},
   "outputs": [
    {
     "name": "stdout",
     "output_type": "stream",
     "text": [
      "Train on 839 samples, validate on 210 samples\n",
      "Epoch 1/100\n",
      " - 3s - loss: 1.4137 - accuracy: 0.4005 - val_loss: 1.0656 - val_accuracy: 0.6524\n",
      "Epoch 2/100\n",
      " - 2s - loss: 0.8865 - accuracy: 0.6925 - val_loss: 0.6073 - val_accuracy: 0.8095\n",
      "Epoch 3/100\n",
      " - 2s - loss: 0.4957 - accuracy: 0.8534 - val_loss: 0.3372 - val_accuracy: 0.8762\n",
      "Epoch 4/100\n",
      " - 2s - loss: 0.2624 - accuracy: 0.9249 - val_loss: 0.2348 - val_accuracy: 0.9143\n",
      "Epoch 5/100\n",
      " - 2s - loss: 0.1696 - accuracy: 0.9452 - val_loss: 0.2705 - val_accuracy: 0.8905\n",
      "Epoch 6/100\n",
      " - 2s - loss: 0.1074 - accuracy: 0.9690 - val_loss: 0.2159 - val_accuracy: 0.9238\n",
      "Epoch 7/100\n",
      " - 2s - loss: 0.0879 - accuracy: 0.9774 - val_loss: 0.2793 - val_accuracy: 0.8905\n",
      "Epoch 8/100\n",
      " - 2s - loss: 0.0658 - accuracy: 0.9821 - val_loss: 0.2088 - val_accuracy: 0.9333\n",
      "Epoch 9/100\n",
      " - 2s - loss: 0.0487 - accuracy: 0.9893 - val_loss: 0.3335 - val_accuracy: 0.9048\n",
      "Epoch 10/100\n",
      " - 2s - loss: 0.0314 - accuracy: 0.9928 - val_loss: 0.1777 - val_accuracy: 0.9476\n",
      "Epoch 11/100\n",
      " - 2s - loss: 0.0181 - accuracy: 0.9976 - val_loss: 0.2012 - val_accuracy: 0.9429\n",
      "Epoch 12/100\n",
      " - 2s - loss: 0.0177 - accuracy: 0.9964 - val_loss: 0.1511 - val_accuracy: 0.9619\n",
      "Epoch 13/100\n",
      " - 2s - loss: 0.0085 - accuracy: 1.0000 - val_loss: 0.2014 - val_accuracy: 0.9476\n",
      "Epoch 14/100\n",
      " - 2s - loss: 0.0075 - accuracy: 1.0000 - val_loss: 0.1530 - val_accuracy: 0.9524\n",
      "Epoch 15/100\n",
      " - 2s - loss: 0.0044 - accuracy: 1.0000 - val_loss: 0.1460 - val_accuracy: 0.9524\n",
      "Epoch 16/100\n",
      " - 2s - loss: 0.0036 - accuracy: 1.0000 - val_loss: 0.1619 - val_accuracy: 0.9524\n",
      "Epoch 17/100\n",
      " - 2s - loss: 0.0040 - accuracy: 1.0000 - val_loss: 0.2106 - val_accuracy: 0.9381\n",
      "Epoch 18/100\n",
      " - 2s - loss: 0.0029 - accuracy: 1.0000 - val_loss: 0.1882 - val_accuracy: 0.9381\n",
      "Epoch 19/100\n",
      " - 2s - loss: 0.0129 - accuracy: 0.9964 - val_loss: 0.3292 - val_accuracy: 0.9333\n",
      "Epoch 20/100\n",
      " - 2s - loss: 0.0335 - accuracy: 0.9928 - val_loss: 0.2929 - val_accuracy: 0.9286\n",
      "Epoch 21/100\n",
      " - 2s - loss: 0.0203 - accuracy: 0.9928 - val_loss: 0.2233 - val_accuracy: 0.9429\n",
      "Epoch 22/100\n",
      " - 2s - loss: 0.0190 - accuracy: 0.9964 - val_loss: 0.2144 - val_accuracy: 0.9381\n",
      "Epoch 23/100\n",
      " - 2s - loss: 0.0841 - accuracy: 0.9738 - val_loss: 0.3575 - val_accuracy: 0.9190\n",
      "Epoch 24/100\n",
      " - 2s - loss: 0.0598 - accuracy: 0.9785 - val_loss: 0.2048 - val_accuracy: 0.9476\n",
      "Epoch 25/100\n",
      " - 2s - loss: 0.0552 - accuracy: 0.9869 - val_loss: 0.1437 - val_accuracy: 0.9571\n",
      "Epoch 26/100\n",
      " - 2s - loss: 0.0325 - accuracy: 0.9893 - val_loss: 0.1352 - val_accuracy: 0.9619\n",
      "Epoch 27/100\n",
      " - 2s - loss: 0.0110 - accuracy: 0.9952 - val_loss: 0.1194 - val_accuracy: 0.9619\n",
      "Epoch 28/100\n",
      " - 2s - loss: 0.0042 - accuracy: 1.0000 - val_loss: 0.1786 - val_accuracy: 0.9524\n",
      "Epoch 29/100\n",
      " - 2s - loss: 0.0030 - accuracy: 0.9988 - val_loss: 0.1318 - val_accuracy: 0.9619\n",
      "Epoch 30/100\n",
      " - 2s - loss: 0.0060 - accuracy: 0.9976 - val_loss: 0.1614 - val_accuracy: 0.9571\n",
      "Epoch 31/100\n",
      " - 2s - loss: 0.0030 - accuracy: 1.0000 - val_loss: 0.1116 - val_accuracy: 0.9571\n",
      "Epoch 32/100\n",
      " - 2s - loss: 0.0025 - accuracy: 1.0000 - val_loss: 0.1222 - val_accuracy: 0.9571\n",
      "Epoch 33/100\n",
      " - 2s - loss: 0.0014 - accuracy: 1.0000 - val_loss: 0.1230 - val_accuracy: 0.9571\n",
      "Epoch 34/100\n",
      " - 2s - loss: 0.0018 - accuracy: 1.0000 - val_loss: 0.1143 - val_accuracy: 0.9667\n",
      "Epoch 35/100\n",
      " - 2s - loss: 0.0020 - accuracy: 1.0000 - val_loss: 0.1208 - val_accuracy: 0.9619\n",
      "Epoch 36/100\n",
      " - 2s - loss: 0.0012 - accuracy: 1.0000 - val_loss: 0.1200 - val_accuracy: 0.9571\n",
      "Epoch 37/100\n",
      " - 2s - loss: 7.6756e-04 - accuracy: 1.0000 - val_loss: 0.1220 - val_accuracy: 0.9571\n",
      "Epoch 38/100\n",
      " - 2s - loss: 8.9591e-04 - accuracy: 1.0000 - val_loss: 0.1280 - val_accuracy: 0.9571\n",
      "Epoch 39/100\n",
      " - 2s - loss: 6.5391e-04 - accuracy: 1.0000 - val_loss: 0.1299 - val_accuracy: 0.9619\n",
      "Epoch 40/100\n",
      " - 2s - loss: 8.0089e-04 - accuracy: 1.0000 - val_loss: 0.1405 - val_accuracy: 0.9571\n",
      "Epoch 41/100\n",
      " - 2s - loss: 5.8580e-04 - accuracy: 1.0000 - val_loss: 0.1398 - val_accuracy: 0.9524\n",
      "Epoch 42/100\n",
      " - 2s - loss: 8.0539e-04 - accuracy: 1.0000 - val_loss: 0.1395 - val_accuracy: 0.9571\n",
      "Epoch 43/100\n",
      " - 2s - loss: 5.4148e-04 - accuracy: 1.0000 - val_loss: 0.1407 - val_accuracy: 0.9571\n",
      "Epoch 44/100\n",
      " - 2s - loss: 5.2557e-04 - accuracy: 1.0000 - val_loss: 0.1417 - val_accuracy: 0.9524\n",
      "Epoch 45/100\n",
      " - 2s - loss: 6.4247e-04 - accuracy: 1.0000 - val_loss: 0.1446 - val_accuracy: 0.9524\n",
      "Epoch 46/100\n",
      " - 2s - loss: 4.5759e-04 - accuracy: 1.0000 - val_loss: 0.1474 - val_accuracy: 0.9524\n",
      "Epoch 47/100\n",
      " - 2s - loss: 7.4075e-04 - accuracy: 1.0000 - val_loss: 0.1499 - val_accuracy: 0.9571\n",
      "Epoch 48/100\n",
      " - 2s - loss: 4.7549e-04 - accuracy: 1.0000 - val_loss: 0.1524 - val_accuracy: 0.9524\n",
      "Epoch 49/100\n",
      " - 2s - loss: 5.8199e-04 - accuracy: 1.0000 - val_loss: 0.1553 - val_accuracy: 0.9476\n",
      "Epoch 50/100\n",
      " - 2s - loss: 5.6554e-04 - accuracy: 1.0000 - val_loss: 0.1564 - val_accuracy: 0.9476\n",
      "Epoch 51/100\n",
      " - 2s - loss: 5.5584e-04 - accuracy: 1.0000 - val_loss: 0.1635 - val_accuracy: 0.9476\n",
      "Epoch 52/100\n",
      " - 2s - loss: 3.5641e-04 - accuracy: 1.0000 - val_loss: 0.1627 - val_accuracy: 0.9476\n",
      "Epoch 53/100\n",
      " - 2s - loss: 3.5953e-04 - accuracy: 1.0000 - val_loss: 0.1610 - val_accuracy: 0.9476\n",
      "Epoch 54/100\n",
      " - 2s - loss: 6.9152e-04 - accuracy: 1.0000 - val_loss: 0.1541 - val_accuracy: 0.9524\n",
      "Epoch 55/100\n",
      " - 2s - loss: 4.1496e-04 - accuracy: 1.0000 - val_loss: 0.1538 - val_accuracy: 0.9524\n",
      "Epoch 56/100\n",
      " - 2s - loss: 3.9028e-04 - accuracy: 1.0000 - val_loss: 0.1569 - val_accuracy: 0.9524\n",
      "Epoch 57/100\n",
      " - 2s - loss: 4.8063e-04 - accuracy: 1.0000 - val_loss: 0.1598 - val_accuracy: 0.9524\n",
      "Epoch 58/100\n",
      " - 2s - loss: 3.9427e-04 - accuracy: 1.0000 - val_loss: 0.1626 - val_accuracy: 0.9524\n",
      "Epoch 59/100\n",
      " - 2s - loss: 3.3736e-04 - accuracy: 1.0000 - val_loss: 0.1639 - val_accuracy: 0.9524\n",
      "Epoch 60/100\n",
      " - 2s - loss: 4.2218e-04 - accuracy: 1.0000 - val_loss: 0.1650 - val_accuracy: 0.9524\n",
      "Epoch 61/100\n",
      " - 2s - loss: 4.8057e-04 - accuracy: 1.0000 - val_loss: 0.1637 - val_accuracy: 0.9524\n",
      "Epoch 62/100\n",
      " - 2s - loss: 4.1343e-04 - accuracy: 1.0000 - val_loss: 0.1709 - val_accuracy: 0.9524\n",
      "Epoch 63/100\n",
      " - 2s - loss: 2.7332e-04 - accuracy: 1.0000 - val_loss: 0.1752 - val_accuracy: 0.9476\n",
      "Epoch 64/100\n",
      " - 2s - loss: 1.9193e-04 - accuracy: 1.0000 - val_loss: 0.1753 - val_accuracy: 0.9476\n",
      "Epoch 65/100\n",
      " - 2s - loss: 2.1653e-04 - accuracy: 1.0000 - val_loss: 0.1756 - val_accuracy: 0.9476\n",
      "Epoch 66/100\n",
      " - 2s - loss: 5.8391e-04 - accuracy: 1.0000 - val_loss: 0.1809 - val_accuracy: 0.9476\n",
      "Epoch 67/100\n",
      " - 2s - loss: 4.3586e-04 - accuracy: 1.0000 - val_loss: 0.1806 - val_accuracy: 0.9476\n",
      "Epoch 68/100\n",
      " - 2s - loss: 6.8980e-04 - accuracy: 1.0000 - val_loss: 0.1887 - val_accuracy: 0.9476\n",
      "Epoch 69/100\n",
      " - 2s - loss: 2.0794e-04 - accuracy: 1.0000 - val_loss: 0.1884 - val_accuracy: 0.9476\n",
      "Epoch 70/100\n",
      " - 2s - loss: 1.7173e-04 - accuracy: 1.0000 - val_loss: 0.1888 - val_accuracy: 0.9476\n",
      "Epoch 71/100\n",
      " - 2s - loss: 2.8120e-04 - accuracy: 1.0000 - val_loss: 0.1885 - val_accuracy: 0.9476\n",
      "Epoch 72/100\n",
      " - 2s - loss: 2.5532e-04 - accuracy: 1.0000 - val_loss: 0.1843 - val_accuracy: 0.9476\n",
      "Epoch 73/100\n",
      " - 2s - loss: 1.7531e-04 - accuracy: 1.0000 - val_loss: 0.1856 - val_accuracy: 0.9476\n",
      "Epoch 74/100\n",
      " - 2s - loss: 1.3980e-04 - accuracy: 1.0000 - val_loss: 0.1863 - val_accuracy: 0.9476\n",
      "Epoch 75/100\n",
      " - 2s - loss: 1.7959e-04 - accuracy: 1.0000 - val_loss: 0.1874 - val_accuracy: 0.9476\n",
      "Epoch 76/100\n",
      " - 2s - loss: 1.9719e-04 - accuracy: 1.0000 - val_loss: 0.1886 - val_accuracy: 0.9476\n",
      "Epoch 77/100\n",
      " - 2s - loss: 1.0858e-04 - accuracy: 1.0000 - val_loss: 0.1894 - val_accuracy: 0.9476\n",
      "Epoch 78/100\n",
      " - 2s - loss: 1.9192e-04 - accuracy: 1.0000 - val_loss: 0.1862 - val_accuracy: 0.9476\n",
      "Epoch 79/100\n",
      " - 2s - loss: 1.0917e-04 - accuracy: 1.0000 - val_loss: 0.1853 - val_accuracy: 0.9524\n",
      "Epoch 80/100\n",
      " - 2s - loss: 2.4892e-04 - accuracy: 1.0000 - val_loss: 0.1866 - val_accuracy: 0.9476\n",
      "Epoch 81/100\n",
      " - 2s - loss: 3.2276e-04 - accuracy: 1.0000 - val_loss: 0.1911 - val_accuracy: 0.9429\n",
      "Epoch 82/100\n",
      " - 2s - loss: 1.4061e-04 - accuracy: 1.0000 - val_loss: 0.1924 - val_accuracy: 0.9476\n",
      "Epoch 83/100\n",
      " - 2s - loss: 1.5922e-04 - accuracy: 1.0000 - val_loss: 0.1892 - val_accuracy: 0.9476\n",
      "Epoch 84/100\n",
      " - 2s - loss: 3.2431e-04 - accuracy: 1.0000 - val_loss: 0.1893 - val_accuracy: 0.9476\n"
     ]
    },
    {
     "name": "stdout",
     "output_type": "stream",
     "text": [
      "Epoch 85/100\n",
      " - 2s - loss: 1.6425e-04 - accuracy: 1.0000 - val_loss: 0.1858 - val_accuracy: 0.9476\n",
      "Epoch 86/100\n",
      " - 2s - loss: 2.2441e-04 - accuracy: 1.0000 - val_loss: 0.1870 - val_accuracy: 0.9476\n",
      "Epoch 87/100\n",
      " - 2s - loss: 2.1282e-04 - accuracy: 1.0000 - val_loss: 0.1956 - val_accuracy: 0.9429\n",
      "Epoch 88/100\n",
      " - 2s - loss: 2.0572e-04 - accuracy: 1.0000 - val_loss: 0.1972 - val_accuracy: 0.9429\n",
      "Epoch 89/100\n",
      " - 2s - loss: 1.3286e-04 - accuracy: 1.0000 - val_loss: 0.1974 - val_accuracy: 0.9429\n",
      "Epoch 90/100\n",
      " - 2s - loss: 2.9352e-04 - accuracy: 1.0000 - val_loss: 0.1921 - val_accuracy: 0.9524\n",
      "Epoch 91/100\n",
      " - 2s - loss: 1.0571e-04 - accuracy: 1.0000 - val_loss: 0.1924 - val_accuracy: 0.9429\n",
      "Epoch 92/100\n",
      " - 2s - loss: 1.1888e-04 - accuracy: 1.0000 - val_loss: 0.1930 - val_accuracy: 0.9476\n",
      "Epoch 93/100\n",
      " - 2s - loss: 2.4047e-04 - accuracy: 1.0000 - val_loss: 0.1901 - val_accuracy: 0.9476\n",
      "Epoch 94/100\n",
      " - 2s - loss: 9.1349e-05 - accuracy: 1.0000 - val_loss: 0.1897 - val_accuracy: 0.9476\n",
      "Epoch 95/100\n",
      " - 2s - loss: 2.3376e-04 - accuracy: 1.0000 - val_loss: 0.2017 - val_accuracy: 0.9476\n",
      "Epoch 96/100\n",
      " - 2s - loss: 2.3376e-04 - accuracy: 1.0000 - val_loss: 0.2046 - val_accuracy: 0.9429\n",
      "Epoch 97/100\n",
      " - 2s - loss: 1.6672e-04 - accuracy: 1.0000 - val_loss: 0.1992 - val_accuracy: 0.9476\n",
      "Epoch 98/100\n",
      " - 2s - loss: 9.2562e-05 - accuracy: 1.0000 - val_loss: 0.1985 - val_accuracy: 0.9476\n",
      "Epoch 99/100\n",
      " - 2s - loss: 8.1172e-05 - accuracy: 1.0000 - val_loss: 0.1990 - val_accuracy: 0.9476\n",
      "Epoch 100/100\n",
      " - 2s - loss: 9.9018e-05 - accuracy: 1.0000 - val_loss: 0.1975 - val_accuracy: 0.9476\n"
     ]
    }
   ],
   "source": [
    "history = model7.fit(X_train_7,\n",
    "                    y_train,\n",
    "                    batch_size=32,\n",
    "                    validation_data=(X_test_7, y_test),\n",
    "                    epochs=100,\n",
    "                    verbose=2)"
   ]
  },
  {
   "cell_type": "code",
   "execution_count": 73,
   "metadata": {},
   "outputs": [
    {
     "data": {
      "text/plain": [
       "<matplotlib.legend.Legend at 0x17bd4ca1f98>"
      ]
     },
     "execution_count": 73,
     "metadata": {},
     "output_type": "execute_result"
    },
    {
     "data": {
      "image/png": "[encoded data removed]",
      "text/plain": [
       "<Figure size 432x288 with 1 Axes>"
      ]
     },
     "metadata": {
      "needs_background": "light"
     },
     "output_type": "display_data"
    }
   ],
   "source": [
    "plt.plot(history.history['loss'], label = ' Training Loss')\n",
    "plt.plot(history.history['val_loss'], label = ' Test Loss')\n",
    "plt.legend()"
   ]
  },
  {
   "cell_type": "code",
   "execution_count": 74,
   "metadata": {},
   "outputs": [
    {
     "data": {
      "text/plain": [
       "<matplotlib.legend.Legend at 0x17bd6cbd9b0>"
      ]
     },
     "execution_count": 74,
     "metadata": {},
     "output_type": "execute_result"
    },
    {
     "data": {
      "image/png": "[encoded data removed]",
      "text/plain": [
       "<Figure size 432x288 with 1 Axes>"
      ]
     },
     "metadata": {
      "needs_background": "light"
     },
     "output_type": "display_data"
    }
   ],
   "source": [
    "plt.plot(history.history['accuracy'], label = ' Training Accuracy')\n",
    "plt.plot(history.history['val_accuracy'], label = ' Test Accuracy')\n",
    "plt.legend()"
   ]
  },
  {
   "cell_type": "code",
   "execution_count": 75,
   "metadata": {},
   "outputs": [
    {
     "name": "stdout",
     "output_type": "stream",
     "text": [
      "210/210 [==============================] - 0s 548us/step\n"
     ]
    }
   ],
   "source": [
    "model7_eval = model7.evaluate(X_test_7, y_test, verbose=1)\n",
    "model7_metrics = model7.metrics_names"
   ]
  },
  {
   "cell_type": "markdown",
   "metadata": {},
   "source": [
    "## Evaluation\n"
   ]
  },
  {
   "cell_type": "code",
   "execution_count": 76,
   "metadata": {},
   "outputs": [],
   "source": [
    "from sklearn.metrics import classification_report, confusion_matrix"
   ]
  },
  {
   "cell_type": "code",
   "execution_count": 77,
   "metadata": {},
   "outputs": [
    {
     "name": "stdout",
     "output_type": "stream",
     "text": [
      "Model 1 loss: 1.3340803691319056\n",
      "Model 1 accuracy: 0.6904761791229248\n",
      "\n",
      "Model 2 loss: 0.14409425719862892\n",
      "Model 2 accuracy: 0.9571428298950195\n",
      "\n",
      "Model 3 loss: 1.223705840678442\n",
      "Model 3 accuracy: 0.8619047403335571\n",
      "\n",
      "Model 5 loss: 0.6506791736398424\n",
      "Model 5 accuracy: 0.8999999761581421\n",
      "\n",
      "Model 6 loss: 0.19505064671947842\n",
      "Model 6 accuracy: 0.9428571462631226\n",
      "\n",
      "Model 7 loss: 0.19745460754022046\n",
      "Model 7 accuracy: 0.9476190209388733\n",
      "\n"
     ]
    }
   ],
   "source": [
    "print(f\"Model 1 {model_metrics[0]}: {model_eval[0]}\")\n",
    "print(f\"Model 1 {model_metrics[1]}: {model_eval[1]}\\n\")\n",
    "\n",
    "print(f\"Model 2 {model2_metrics[0]}: {model2_eval[0]}\")\n",
    "print(f\"Model 2 {model2_metrics[1]}: {model2_eval[1]}\\n\")\n",
    "\n",
    "print(f\"Model 3 {model3_metrics[0]}: {model3_eval[0]}\")\n",
    "print(f\"Model 3 {model3_metrics[1]}: {model3_eval[1]}\\n\")\n",
    "\n",
    "print(f\"Model 5 {model5_metrics[0]}: {model5_eval[0]}\")\n",
    "print(f\"Model 5 {model5_metrics[1]}: {model5_eval[1]}\\n\")\n",
    "\n",
    "print(f\"Model 6 {model6_metrics[0]}: {model6_eval[0]}\")\n",
    "print(f\"Model 6 {model6_metrics[1]}: {model6_eval[1]}\\n\")\n",
    "\n",
    "print(f\"Model 7 {model7_metrics[0]}: {model7_eval[0]}\")\n",
    "print(f\"Model 7 {model7_metrics[1]}: {model7_eval[1]}\\n\")\n"
   ]
  },
  {
   "cell_type": "markdown",
   "metadata": {},
   "source": [
    "Get Predictions for Each Model"
   ]
  },
  {
   "cell_type": "code",
   "execution_count": 78,
   "metadata": {},
   "outputs": [
    {
     "data": {
      "text/plain": [
       "['flowers',\n",
       " 'water',\n",
       " 'apples',\n",
       " 'flowers',\n",
       " 'flowers',\n",
       " 'worker',\n",
       " 'apples',\n",
       " 'father',\n",
       " 'worker',\n",
       " 'worker',\n",
       " 'flowers',\n",
       " 'father',\n",
       " 'worker',\n",
       " 'father',\n",
       " 'apples',\n",
       " 'water',\n",
       " 'flowers',\n",
       " 'flowers',\n",
       " 'flowers',\n",
       " 'flowers',\n",
       " 'father',\n",
       " 'worker',\n",
       " 'worker',\n",
       " 'water',\n",
       " 'flowers',\n",
       " 'father',\n",
       " 'father',\n",
       " 'father',\n",
       " 'flowers',\n",
       " 'worker',\n",
       " 'father',\n",
       " 'worker',\n",
       " 'father',\n",
       " 'worker',\n",
       " 'apples',\n",
       " 'father',\n",
       " 'worker',\n",
       " 'worker',\n",
       " 'worker',\n",
       " 'apples',\n",
       " 'flowers',\n",
       " 'flowers',\n",
       " 'water',\n",
       " 'worker',\n",
       " 'flowers',\n",
       " 'father',\n",
       " 'father',\n",
       " 'father',\n",
       " 'worker',\n",
       " 'father',\n",
       " 'water',\n",
       " 'water',\n",
       " 'flowers',\n",
       " 'apples',\n",
       " 'water',\n",
       " 'water',\n",
       " 'water',\n",
       " 'water',\n",
       " 'father',\n",
       " 'flowers',\n",
       " 'worker',\n",
       " 'worker',\n",
       " 'worker',\n",
       " 'worker',\n",
       " 'water',\n",
       " 'flowers',\n",
       " 'worker',\n",
       " 'apples',\n",
       " 'apples',\n",
       " 'worker',\n",
       " 'apples',\n",
       " 'flowers',\n",
       " 'father',\n",
       " 'worker',\n",
       " 'apples',\n",
       " 'apples',\n",
       " 'flowers',\n",
       " 'water',\n",
       " 'water',\n",
       " 'apples',\n",
       " 'father',\n",
       " 'apples',\n",
       " 'apples',\n",
       " 'father',\n",
       " 'water',\n",
       " 'water',\n",
       " 'apples',\n",
       " 'father',\n",
       " 'apples',\n",
       " 'worker',\n",
       " 'father',\n",
       " 'worker',\n",
       " 'water',\n",
       " 'water',\n",
       " 'apples',\n",
       " 'water',\n",
       " 'flowers',\n",
       " 'apples',\n",
       " 'flowers',\n",
       " 'apples',\n",
       " 'father',\n",
       " 'worker',\n",
       " 'water',\n",
       " 'worker',\n",
       " 'water',\n",
       " 'apples',\n",
       " 'flowers',\n",
       " 'water',\n",
       " 'water',\n",
       " 'worker',\n",
       " 'apples',\n",
       " 'flowers',\n",
       " 'father',\n",
       " 'apples',\n",
       " 'flowers',\n",
       " 'flowers',\n",
       " 'father',\n",
       " 'apples',\n",
       " 'apples',\n",
       " 'father',\n",
       " 'flowers',\n",
       " 'father',\n",
       " 'apples',\n",
       " 'apples',\n",
       " 'flowers',\n",
       " 'flowers',\n",
       " 'father',\n",
       " 'apples',\n",
       " 'water',\n",
       " 'apples',\n",
       " 'father',\n",
       " 'father',\n",
       " 'apples',\n",
       " 'worker',\n",
       " 'worker',\n",
       " 'father',\n",
       " 'water',\n",
       " 'flowers',\n",
       " 'water',\n",
       " 'father',\n",
       " 'worker',\n",
       " 'apples',\n",
       " 'water',\n",
       " 'worker',\n",
       " 'apples',\n",
       " 'apples',\n",
       " 'worker',\n",
       " 'worker',\n",
       " 'apples',\n",
       " 'apples',\n",
       " 'apples',\n",
       " 'water',\n",
       " 'flowers',\n",
       " 'father',\n",
       " 'flowers',\n",
       " 'father',\n",
       " 'apples',\n",
       " 'father',\n",
       " 'water',\n",
       " 'water',\n",
       " 'flowers',\n",
       " 'water',\n",
       " 'flowers',\n",
       " 'flowers',\n",
       " 'apples',\n",
       " 'apples',\n",
       " 'water',\n",
       " 'water',\n",
       " 'apples',\n",
       " 'worker',\n",
       " 'worker',\n",
       " 'father',\n",
       " 'worker',\n",
       " 'flowers',\n",
       " 'flowers',\n",
       " 'water',\n",
       " 'apples',\n",
       " 'flowers',\n",
       " 'water',\n",
       " 'apples',\n",
       " 'flowers',\n",
       " 'worker',\n",
       " 'father',\n",
       " 'worker',\n",
       " 'water',\n",
       " 'father',\n",
       " 'water',\n",
       " 'father',\n",
       " 'apples',\n",
       " 'father',\n",
       " 'worker',\n",
       " 'father',\n",
       " 'water',\n",
       " 'worker',\n",
       " 'flowers',\n",
       " 'flowers',\n",
       " 'father',\n",
       " 'water',\n",
       " 'father',\n",
       " 'water',\n",
       " 'worker',\n",
       " 'flowers',\n",
       " 'flowers',\n",
       " 'water',\n",
       " 'water',\n",
       " 'worker',\n",
       " 'father',\n",
       " 'water',\n",
       " 'worker',\n",
       " 'flowers']"
      ]
     },
     "execution_count": 78,
     "metadata": {},
     "output_type": "execute_result"
    }
   ],
   "source": [
    "labels = list(le.classes_)\n",
    "\n",
    "y_test_labels = []\n",
    "for pred in y_test:\n",
    "    for n, i in enumerate(pred):\n",
    "        if i == 1:\n",
    "            y_test_labels.append(labels[n])\n",
    "            \n",
    "y_test_labels"
   ]
  },
  {
   "cell_type": "code",
   "execution_count": 79,
   "metadata": {},
   "outputs": [
    {
     "name": "stdout",
     "output_type": "stream",
     "text": [
      "              precision    recall  f1-score   support\n",
      "\n",
      "      apples       0.64      0.69      0.67        42\n",
      "      father       0.65      0.71      0.68        42\n",
      "     flowers       0.62      0.57      0.59        42\n",
      "       water       0.72      0.86      0.78        42\n",
      "      worker       0.87      0.62      0.72        42\n",
      "\n",
      "    accuracy                           0.69       210\n",
      "   macro avg       0.70      0.69      0.69       210\n",
      "weighted avg       0.70      0.69      0.69       210\n",
      "\n"
     ]
    }
   ],
   "source": [
    "y_pred = model.predict_classes(X_test)\n",
    "y_pred = list(le.inverse_transform(y_pred))\n",
    "\n",
    "print(classification_report(y_test_labels, y_pred))"
   ]
  },
  {
   "cell_type": "code",
   "execution_count": 80,
   "metadata": {},
   "outputs": [
    {
     "name": "stdout",
     "output_type": "stream",
     "text": [
      "              precision    recall  f1-score   support\n",
      "\n",
      "      apples       0.95      0.98      0.96        42\n",
      "      father       0.98      0.98      0.98        42\n",
      "     flowers       0.95      0.93      0.94        42\n",
      "       water       0.95      0.93      0.94        42\n",
      "      worker       0.95      0.98      0.96        42\n",
      "\n",
      "    accuracy                           0.96       210\n",
      "   macro avg       0.96      0.96      0.96       210\n",
      "weighted avg       0.96      0.96      0.96       210\n",
      "\n"
     ]
    }
   ],
   "source": [
    "y_pred2 = model2.predict_classes(X_test_2)\n",
    "y_pred2 = list(le.inverse_transform(y_pred2))\n",
    "\n",
    "print(classification_report(y_test_labels, y_pred2))"
   ]
  },
  {
   "cell_type": "code",
   "execution_count": 81,
   "metadata": {},
   "outputs": [
    {
     "name": "stdout",
     "output_type": "stream",
     "text": [
      "              precision    recall  f1-score   support\n",
      "\n",
      "      apples       0.93      0.93      0.93        42\n",
      "      father       0.84      0.74      0.78        42\n",
      "     flowers       0.84      0.88      0.86        42\n",
      "       water       0.77      0.86      0.81        42\n",
      "      worker       0.95      0.90      0.93        42\n",
      "\n",
      "    accuracy                           0.86       210\n",
      "   macro avg       0.86      0.86      0.86       210\n",
      "weighted avg       0.86      0.86      0.86       210\n",
      "\n"
     ]
    }
   ],
   "source": [
    "y_pred3 = model3.predict_classes(X_test_3)\n",
    "y_pred3 = list(le.inverse_transform(y_pred3))\n",
    "\n",
    "print(classification_report(y_test_labels, y_pred3))"
   ]
  },
  {
   "cell_type": "code",
   "execution_count": 82,
   "metadata": {},
   "outputs": [
    {
     "name": "stdout",
     "output_type": "stream",
     "text": [
      "              precision    recall  f1-score   support\n",
      "\n",
      "      apples       0.97      0.93      0.95        42\n",
      "      father       0.79      0.88      0.83        42\n",
      "     flowers       0.93      0.95      0.94        42\n",
      "       water       0.90      0.83      0.86        42\n",
      "      worker       0.93      0.90      0.92        42\n",
      "\n",
      "    accuracy                           0.90       210\n",
      "   macro avg       0.90      0.90      0.90       210\n",
      "weighted avg       0.90      0.90      0.90       210\n",
      "\n"
     ]
    }
   ],
   "source": [
    "y_pred5 = model5.predict_classes(X_test_5)\n",
    "y_pred5 = list(le.inverse_transform(y_pred5))\n",
    "\n",
    "print(classification_report(y_test_labels, y_pred5))"
   ]
  },
  {
   "cell_type": "code",
   "execution_count": 83,
   "metadata": {},
   "outputs": [
    {
     "name": "stdout",
     "output_type": "stream",
     "text": [
      "              precision    recall  f1-score   support\n",
      "\n",
      "      apples       0.93      0.93      0.93        42\n",
      "      father       0.98      0.95      0.96        42\n",
      "     flowers       1.00      0.93      0.96        42\n",
      "       water       0.87      0.98      0.92        42\n",
      "      worker       0.95      0.93      0.94        42\n",
      "\n",
      "    accuracy                           0.94       210\n",
      "   macro avg       0.95      0.94      0.94       210\n",
      "weighted avg       0.95      0.94      0.94       210\n",
      "\n"
     ]
    }
   ],
   "source": [
    "y_pred6 = model6.predict_classes(X_test_6)\n",
    "y_pred6 = list(le.inverse_transform(y_pred6))\n",
    "\n",
    "print(classification_report(y_test_labels, y_pred6))"
   ]
  },
  {
   "cell_type": "code",
   "execution_count": 84,
   "metadata": {},
   "outputs": [
    {
     "name": "stdout",
     "output_type": "stream",
     "text": [
      "              precision    recall  f1-score   support\n",
      "\n",
      "      apples       0.95      0.95      0.95        42\n",
      "      father       1.00      0.93      0.96        42\n",
      "     flowers       0.98      0.95      0.96        42\n",
      "       water       0.91      0.98      0.94        42\n",
      "      worker       0.91      0.93      0.92        42\n",
      "\n",
      "    accuracy                           0.95       210\n",
      "   macro avg       0.95      0.95      0.95       210\n",
      "weighted avg       0.95      0.95      0.95       210\n",
      "\n"
     ]
    }
   ],
   "source": [
    "y_pred7 = model7.predict_classes(X_test_7)\n",
    "y_pred7 = list(le.inverse_transform(y_pred7))\n",
    "\n",
    "print(classification_report(y_test_labels, y_pred7))"
   ]
  },
  {
   "cell_type": "markdown",
   "metadata": {},
   "source": [
    "The top 2 performing models are Model 2 and Model 7, based on the accuracy and the f1 score."
   ]
  },
  {
   "cell_type": "markdown",
   "metadata": {},
   "source": [
    "**Unseen Data**"
   ]
  },
  {
   "cell_type": "code",
   "execution_count": 85,
   "metadata": {},
   "outputs": [
    {
     "data": {
      "text/html": [
       "<div>\n",
       "<style scoped>\n",
       "    .dataframe tbody tr th:only-of-type {\n",
       "        vertical-align: middle;\n",
       "    }\n",
       "\n",
       "    .dataframe tbody tr th {\n",
       "        vertical-align: top;\n",
       "    }\n",
       "\n",
       "    .dataframe thead th {\n",
       "        text-align: right;\n",
       "    }\n",
       "</style>\n",
       "<table border=\"1\" class=\"dataframe\">\n",
       "  <thead>\n",
       "    <tr style=\"text-align: right;\">\n",
       "      <th></th>\n",
       "      <th>id</th>\n",
       "      <th>filepath</th>\n",
       "      <th>duration</th>\n",
       "      <th>class_label</th>\n",
       "    </tr>\n",
       "  </thead>\n",
       "  <tbody>\n",
       "    <tr>\n",
       "      <th>0</th>\n",
       "      <td>8750049</td>\n",
       "      <td>./assets/audio_test/8750049_father.wav</td>\n",
       "      <td>0.353016</td>\n",
       "      <td>father</td>\n",
       "    </tr>\n",
       "    <tr>\n",
       "      <th>1</th>\n",
       "      <td>8750049</td>\n",
       "      <td>./assets/audio_test/8750049_worker.wav</td>\n",
       "      <td>0.531655</td>\n",
       "      <td>worker</td>\n",
       "    </tr>\n",
       "    <tr>\n",
       "      <th>2</th>\n",
       "      <td>8750051</td>\n",
       "      <td>./assets/audio_test/8750051_water.wav</td>\n",
       "      <td>0.374467</td>\n",
       "      <td>water</td>\n",
       "    </tr>\n",
       "    <tr>\n",
       "      <th>3</th>\n",
       "      <td>8750062</td>\n",
       "      <td>./assets/audio_test/8750062_flowers.wav</td>\n",
       "      <td>0.533379</td>\n",
       "      <td>flowers</td>\n",
       "    </tr>\n",
       "    <tr>\n",
       "      <th>4</th>\n",
       "      <td>8750066</td>\n",
       "      <td>./assets/audio_test/8750066_apples.wav</td>\n",
       "      <td>0.503719</td>\n",
       "      <td>apples</td>\n",
       "    </tr>\n",
       "  </tbody>\n",
       "</table>\n",
       "</div>"
      ],
      "text/plain": [
       "        id                                 filepath  duration class_label\n",
       "0  8750049   ./assets/audio_test/8750049_father.wav  0.353016      father\n",
       "1  8750049   ./assets/audio_test/8750049_worker.wav  0.531655      worker\n",
       "2  8750051    ./assets/audio_test/8750051_water.wav  0.374467       water\n",
       "3  8750062  ./assets/audio_test/8750062_flowers.wav  0.533379     flowers\n",
       "4  8750066   ./assets/audio_test/8750066_apples.wav  0.503719      apples"
      ]
     },
     "execution_count": 85,
     "metadata": {},
     "output_type": "execute_result"
    }
   ],
   "source": [
    "# import test data\n",
    "test_df = pd.read_csv(\"./datasets/test.csv\")\n",
    "test_df.head()"
   ]
  },
  {
   "cell_type": "code",
   "execution_count": 86,
   "metadata": {},
   "outputs": [],
   "source": [
    "# preprocess the same as previously\n",
    "test_mfccs_features = get_mfccs_features(test_df['filepath'])\n"
   ]
  },
  {
   "cell_type": "code",
   "execution_count": 87,
   "metadata": {},
   "outputs": [],
   "source": [
    "# add them into the dataframe\n",
    "\n",
    "for k, v in test_mfccs_features.items():\n",
    "    test_df[k] = v"
   ]
  },
  {
   "cell_type": "code",
   "execution_count": 88,
   "metadata": {},
   "outputs": [],
   "source": [
    "# create a new feature with a dimension of 160, stacking the mean and standard deviation of \n",
    "# the mfcc and its delta.\n",
    "\n",
    "combined_features = []\n",
    "for n in range(0,len(test_df)):\n",
    "    combined_features.append(np.concatenate((test_df['mfccs_mean'][n],\n",
    "                                             test_df['mfccs_std'][n], \n",
    "                                             test_df['mfccs_delta_mean'][n],\n",
    "                                             test_df['mfccs_delta_std'][n])))\n",
    "    \n",
    "test_df['combined_mfccs'] = combined_features\n",
    "# this will give us an array of (160, 1)"
   ]
  },
  {
   "cell_type": "code",
   "execution_count": 89,
   "metadata": {},
   "outputs": [
    {
     "data": {
      "text/html": [
       "<div>\n",
       "<style scoped>\n",
       "    .dataframe tbody tr th:only-of-type {\n",
       "        vertical-align: middle;\n",
       "    }\n",
       "\n",
       "    .dataframe tbody tr th {\n",
       "        vertical-align: top;\n",
       "    }\n",
       "\n",
       "    .dataframe thead th {\n",
       "        text-align: right;\n",
       "    }\n",
       "</style>\n",
       "<table border=\"1\" class=\"dataframe\">\n",
       "  <thead>\n",
       "    <tr style=\"text-align: right;\">\n",
       "      <th></th>\n",
       "      <th>id</th>\n",
       "      <th>filepath</th>\n",
       "      <th>duration</th>\n",
       "      <th>class_label</th>\n",
       "      <th>mfccs_mean</th>\n",
       "      <th>mfccs_std</th>\n",
       "      <th>mfccs_delta_mean</th>\n",
       "      <th>mfccs_delta_std</th>\n",
       "      <th>combined_mfccs</th>\n",
       "    </tr>\n",
       "  </thead>\n",
       "  <tbody>\n",
       "    <tr>\n",
       "      <th>0</th>\n",
       "      <td>8750049</td>\n",
       "      <td>./assets/audio_test/8750049_father.wav</td>\n",
       "      <td>0.353016</td>\n",
       "      <td>father</td>\n",
       "      <td>[-169.13393, 136.69135, -31.809338, 20.55186, ...</td>\n",
       "      <td>[41.70879, 21.830057, 27.636902, 12.362332, 18...</td>\n",
       "      <td>[1.9910371, -0.25411266, -2.515326, 1.3795561,...</td>\n",
       "      <td>[8.519464, 4.3707027, 4.3258567, 1.7772573, 2....</td>\n",
       "      <td>[-169.13393, 136.69135, -31.809338, 20.55186, ...</td>\n",
       "    </tr>\n",
       "    <tr>\n",
       "      <th>1</th>\n",
       "      <td>8750049</td>\n",
       "      <td>./assets/audio_test/8750049_worker.wav</td>\n",
       "      <td>0.531655</td>\n",
       "      <td>worker</td>\n",
       "      <td>[-287.14914, 180.64957, 22.688225, -9.836566, ...</td>\n",
       "      <td>[74.63576, 30.15931, 21.801395, 15.327445, 15....</td>\n",
       "      <td>[-5.404343, -2.924971, 1.0068195, -0.86250436,...</td>\n",
       "      <td>[19.696611, 6.326892, 5.3654685, 3.914428, 4.0...</td>\n",
       "      <td>[-287.14914, 180.64957, 22.688225, -9.836566, ...</td>\n",
       "    </tr>\n",
       "    <tr>\n",
       "      <th>2</th>\n",
       "      <td>8750051</td>\n",
       "      <td>./assets/audio_test/8750051_water.wav</td>\n",
       "      <td>0.374467</td>\n",
       "      <td>water</td>\n",
       "      <td>[-221.17166, 137.10963, 11.459793, 28.60778, -...</td>\n",
       "      <td>[66.85327, 36.957886, 32.5245, 16.585081, 24.3...</td>\n",
       "      <td>[-2.8528218, -7.177959, -1.6909441, 0.9749463,...</td>\n",
       "      <td>[9.90385, 2.6404707, 5.663468, 1.8970118, 5.49...</td>\n",
       "      <td>[-221.17166, 137.10963, 11.459793, 28.60778, -...</td>\n",
       "    </tr>\n",
       "    <tr>\n",
       "      <th>3</th>\n",
       "      <td>8750062</td>\n",
       "      <td>./assets/audio_test/8750062_flowers.wav</td>\n",
       "      <td>0.533379</td>\n",
       "      <td>flowers</td>\n",
       "      <td>[-219.64317, 124.65655, -11.501224, 17.839247,...</td>\n",
       "      <td>[50.044624, 25.74483, 34.892227, 18.774397, 29...</td>\n",
       "      <td>[-4.74574, -2.835228, 2.4696124, 0.986755, 1.1...</td>\n",
       "      <td>[10.575305, 3.459822, 8.680221, 4.149211, 7.07...</td>\n",
       "      <td>[-219.64317, 124.65655, -11.501224, 17.839247,...</td>\n",
       "    </tr>\n",
       "    <tr>\n",
       "      <th>4</th>\n",
       "      <td>8750066</td>\n",
       "      <td>./assets/audio_test/8750066_apples.wav</td>\n",
       "      <td>0.503719</td>\n",
       "      <td>apples</td>\n",
       "      <td>[-248.58002, 125.00463, -3.9754348, 30.73246, ...</td>\n",
       "      <td>[88.9623, 53.28954, 24.958252, 22.293911, 21.7...</td>\n",
       "      <td>[-10.459837, -8.300082, 4.2740784, -1.519041, ...</td>\n",
       "      <td>[21.781862, 8.261361, 5.409559, 5.4887886, 4.5...</td>\n",
       "      <td>[-248.58002, 125.00463, -3.9754348, 30.73246, ...</td>\n",
       "    </tr>\n",
       "    <tr>\n",
       "      <th>...</th>\n",
       "      <td>...</td>\n",
       "      <td>...</td>\n",
       "      <td>...</td>\n",
       "      <td>...</td>\n",
       "      <td>...</td>\n",
       "      <td>...</td>\n",
       "      <td>...</td>\n",
       "      <td>...</td>\n",
       "      <td>...</td>\n",
       "    </tr>\n",
       "    <tr>\n",
       "      <th>96</th>\n",
       "      <td>9870049</td>\n",
       "      <td>./assets/audio_test/9870049_father.wav</td>\n",
       "      <td>0.587982</td>\n",
       "      <td>father</td>\n",
       "      <td>[-196.22722, 102.0927, -74.91568, -2.595125, -...</td>\n",
       "      <td>[65.40566, 34.256218, 36.006527, 13.360244, 15...</td>\n",
       "      <td>[5.9519963, 4.050389, -2.873619, -1.5295701, -...</td>\n",
       "      <td>[16.287975, 3.9399867, 9.447657, 2.9682708, 3....</td>\n",
       "      <td>[-196.22722, 102.0927, -74.91568, -2.595125, -...</td>\n",
       "    </tr>\n",
       "    <tr>\n",
       "      <th>97</th>\n",
       "      <td>9870049</td>\n",
       "      <td>./assets/audio_test/9870049_worker.wav</td>\n",
       "      <td>0.568163</td>\n",
       "      <td>worker</td>\n",
       "      <td>[-248.18979, 141.14734, -41.28263, -17.265291,...</td>\n",
       "      <td>[89.608635, 19.2947, 35.326454, 19.52412, 28.1...</td>\n",
       "      <td>[-11.376947, -0.6605424, 2.421873, -0.9720291,...</td>\n",
       "      <td>[21.338057, 3.4204795, 6.741491, 5.65387, 5.96...</td>\n",
       "      <td>[-248.18979, 141.14734, -41.28263, -17.265291,...</td>\n",
       "    </tr>\n",
       "    <tr>\n",
       "      <th>98</th>\n",
       "      <td>9870051</td>\n",
       "      <td>./assets/audio_test/9870051_water.wav</td>\n",
       "      <td>0.536281</td>\n",
       "      <td>water</td>\n",
       "      <td>[-303.37057, 115.21334, -10.535064, 11.90516, ...</td>\n",
       "      <td>[113.12243, 36.79969, 51.238903, 20.566242, 37...</td>\n",
       "      <td>[-1.3606787, -1.0921255, -1.0485204, 0.7690955...</td>\n",
       "      <td>[32.91524, 7.514545, 15.058225, 3.5036483, 10....</td>\n",
       "      <td>[-303.37057, 115.21334, -10.535064, 11.90516, ...</td>\n",
       "    </tr>\n",
       "    <tr>\n",
       "      <th>99</th>\n",
       "      <td>9870062</td>\n",
       "      <td>./assets/audio_test/9870062_flowers.wav</td>\n",
       "      <td>0.616780</td>\n",
       "      <td>flowers</td>\n",
       "      <td>[-226.4825, 75.7703, -46.44616, 18.340668, -64...</td>\n",
       "      <td>[55.853706, 48.912666, 39.156635, 17.689342, 1...</td>\n",
       "      <td>[-4.853439, -3.8178694, 2.1544454, -0.15217713...</td>\n",
       "      <td>[12.745464, 10.484804, 8.294652, 4.581363, 5.1...</td>\n",
       "      <td>[-226.4825, 75.7703, -46.44616, 18.340668, -64...</td>\n",
       "    </tr>\n",
       "    <tr>\n",
       "      <th>100</th>\n",
       "      <td>9870066</td>\n",
       "      <td>./assets/audio_test/9870066_apples.wav</td>\n",
       "      <td>0.716463</td>\n",
       "      <td>apples</td>\n",
       "      <td>[-263.4259, 91.18268, -46.24247, 23.673382, -5...</td>\n",
       "      <td>[98.500046, 78.99911, 51.130783, 26.93819, 30....</td>\n",
       "      <td>[-9.734516, -4.964648, 3.7101905, 0.71849626, ...</td>\n",
       "      <td>[18.586845, 10.47888, 7.086181, 4.5716233, 6.9...</td>\n",
       "      <td>[-263.4259, 91.18268, -46.24247, 23.673382, -5...</td>\n",
       "    </tr>\n",
       "  </tbody>\n",
       "</table>\n",
       "<p>101 rows × 9 columns</p>\n",
       "</div>"
      ],
      "text/plain": [
       "          id                                 filepath  duration class_label  \\\n",
       "0    8750049   ./assets/audio_test/8750049_father.wav  0.353016      father   \n",
       "1    8750049   ./assets/audio_test/8750049_worker.wav  0.531655      worker   \n",
       "2    8750051    ./assets/audio_test/8750051_water.wav  0.374467       water   \n",
       "3    8750062  ./assets/audio_test/8750062_flowers.wav  0.533379     flowers   \n",
       "4    8750066   ./assets/audio_test/8750066_apples.wav  0.503719      apples   \n",
       "..       ...                                      ...       ...         ...   \n",
       "96   9870049   ./assets/audio_test/9870049_father.wav  0.587982      father   \n",
       "97   9870049   ./assets/audio_test/9870049_worker.wav  0.568163      worker   \n",
       "98   9870051    ./assets/audio_test/9870051_water.wav  0.536281       water   \n",
       "99   9870062  ./assets/audio_test/9870062_flowers.wav  0.616780     flowers   \n",
       "100  9870066   ./assets/audio_test/9870066_apples.wav  0.716463      apples   \n",
       "\n",
       "                                            mfccs_mean  \\\n",
       "0    [-169.13393, 136.69135, -31.809338, 20.55186, ...   \n",
       "1    [-287.14914, 180.64957, 22.688225, -9.836566, ...   \n",
       "2    [-221.17166, 137.10963, 11.459793, 28.60778, -...   \n",
       "3    [-219.64317, 124.65655, -11.501224, 17.839247,...   \n",
       "4    [-248.58002, 125.00463, -3.9754348, 30.73246, ...   \n",
       "..                                                 ...   \n",
       "96   [-196.22722, 102.0927, -74.91568, -2.595125, -...   \n",
       "97   [-248.18979, 141.14734, -41.28263, -17.265291,...   \n",
       "98   [-303.37057, 115.21334, -10.535064, 11.90516, ...   \n",
       "99   [-226.4825, 75.7703, -46.44616, 18.340668, -64...   \n",
       "100  [-263.4259, 91.18268, -46.24247, 23.673382, -5...   \n",
       "\n",
       "                                             mfccs_std  \\\n",
       "0    [41.70879, 21.830057, 27.636902, 12.362332, 18...   \n",
       "1    [74.63576, 30.15931, 21.801395, 15.327445, 15....   \n",
       "2    [66.85327, 36.957886, 32.5245, 16.585081, 24.3...   \n",
       "3    [50.044624, 25.74483, 34.892227, 18.774397, 29...   \n",
       "4    [88.9623, 53.28954, 24.958252, 22.293911, 21.7...   \n",
       "..                                                 ...   \n",
       "96   [65.40566, 34.256218, 36.006527, 13.360244, 15...   \n",
       "97   [89.608635, 19.2947, 35.326454, 19.52412, 28.1...   \n",
       "98   [113.12243, 36.79969, 51.238903, 20.566242, 37...   \n",
       "99   [55.853706, 48.912666, 39.156635, 17.689342, 1...   \n",
       "100  [98.500046, 78.99911, 51.130783, 26.93819, 30....   \n",
       "\n",
       "                                      mfccs_delta_mean  \\\n",
       "0    [1.9910371, -0.25411266, -2.515326, 1.3795561,...   \n",
       "1    [-5.404343, -2.924971, 1.0068195, -0.86250436,...   \n",
       "2    [-2.8528218, -7.177959, -1.6909441, 0.9749463,...   \n",
       "3    [-4.74574, -2.835228, 2.4696124, 0.986755, 1.1...   \n",
       "4    [-10.459837, -8.300082, 4.2740784, -1.519041, ...   \n",
       "..                                                 ...   \n",
       "96   [5.9519963, 4.050389, -2.873619, -1.5295701, -...   \n",
       "97   [-11.376947, -0.6605424, 2.421873, -0.9720291,...   \n",
       "98   [-1.3606787, -1.0921255, -1.0485204, 0.7690955...   \n",
       "99   [-4.853439, -3.8178694, 2.1544454, -0.15217713...   \n",
       "100  [-9.734516, -4.964648, 3.7101905, 0.71849626, ...   \n",
       "\n",
       "                                       mfccs_delta_std  \\\n",
       "0    [8.519464, 4.3707027, 4.3258567, 1.7772573, 2....   \n",
       "1    [19.696611, 6.326892, 5.3654685, 3.914428, 4.0...   \n",
       "2    [9.90385, 2.6404707, 5.663468, 1.8970118, 5.49...   \n",
       "3    [10.575305, 3.459822, 8.680221, 4.149211, 7.07...   \n",
       "4    [21.781862, 8.261361, 5.409559, 5.4887886, 4.5...   \n",
       "..                                                 ...   \n",
       "96   [16.287975, 3.9399867, 9.447657, 2.9682708, 3....   \n",
       "97   [21.338057, 3.4204795, 6.741491, 5.65387, 5.96...   \n",
       "98   [32.91524, 7.514545, 15.058225, 3.5036483, 10....   \n",
       "99   [12.745464, 10.484804, 8.294652, 4.581363, 5.1...   \n",
       "100  [18.586845, 10.47888, 7.086181, 4.5716233, 6.9...   \n",
       "\n",
       "                                        combined_mfccs  \n",
       "0    [-169.13393, 136.69135, -31.809338, 20.55186, ...  \n",
       "1    [-287.14914, 180.64957, 22.688225, -9.836566, ...  \n",
       "2    [-221.17166, 137.10963, 11.459793, 28.60778, -...  \n",
       "3    [-219.64317, 124.65655, -11.501224, 17.839247,...  \n",
       "4    [-248.58002, 125.00463, -3.9754348, 30.73246, ...  \n",
       "..                                                 ...  \n",
       "96   [-196.22722, 102.0927, -74.91568, -2.595125, -...  \n",
       "97   [-248.18979, 141.14734, -41.28263, -17.265291,...  \n",
       "98   [-303.37057, 115.21334, -10.535064, 11.90516, ...  \n",
       "99   [-226.4825, 75.7703, -46.44616, 18.340668, -64...  \n",
       "100  [-263.4259, 91.18268, -46.24247, 23.673382, -5...  \n",
       "\n",
       "[101 rows x 9 columns]"
      ]
     },
     "execution_count": 89,
     "metadata": {},
     "output_type": "execute_result"
    }
   ],
   "source": [
    "test_df"
   ]
  },
  {
   "cell_type": "code",
   "execution_count": 90,
   "metadata": {},
   "outputs": [],
   "source": [
    "X = np.array(test_df['combined_mfccs'].tolist())"
   ]
  },
  {
   "cell_type": "code",
   "execution_count": 91,
   "metadata": {},
   "outputs": [
    {
     "data": {
      "text/plain": [
       "array([3, 3, 3, 3, 3, 3, 3, 3, 3, 3, 3, 3, 3, 3, 3, 3, 3, 3, 3, 3, 3, 3,\n",
       "       3, 3, 3, 3, 4, 3, 3, 3, 3, 3, 3, 3, 3, 3, 3, 3, 3, 3, 3, 3, 3, 3,\n",
       "       3, 3, 3, 3, 3, 3, 3, 3, 3, 3, 3, 3, 3, 3, 3, 3, 3, 3, 3, 3, 3, 3,\n",
       "       3, 3, 3, 3, 3, 3, 3, 3, 3, 3, 3, 4, 3, 3, 3, 3, 3, 3, 3, 3, 3, 3,\n",
       "       3, 3, 3, 3, 3, 3, 3, 3, 3, 3, 3, 3, 3], dtype=int64)"
      ]
     },
     "execution_count": 91,
     "metadata": {},
     "output_type": "execute_result"
    }
   ],
   "source": [
    "model2.predict_classes(X)"
   ]
  },
  {
   "cell_type": "code",
   "execution_count": null,
   "metadata": {},
   "outputs": [],
   "source": []
  },
  {
   "cell_type": "code",
   "execution_count": 92,
   "metadata": {},
   "outputs": [],
   "source": [
    "def get_mfcc(file, n_mfcc=40):\n",
    "    audio, sr = librosa.load(file) \n",
    "    mfccs = librosa.feature.mfcc(y=audio, sr=sr, n_mfcc=n_mfcc)\n",
    "    return mfccs.T"
   ]
  },
  {
   "cell_type": "code",
   "execution_count": 93,
   "metadata": {},
   "outputs": [],
   "source": [
    "mfcc_test = test_df['filepath'].map(get_mfcc)"
   ]
  },
  {
   "cell_type": "code",
   "execution_count": 94,
   "metadata": {},
   "outputs": [],
   "source": [
    "X = pad_sequences(mfcc_test, padding='post', maxlen=42)"
   ]
  },
  {
   "cell_type": "code",
   "execution_count": 95,
   "metadata": {},
   "outputs": [
    {
     "data": {
      "text/plain": [
       "(101, 42, 40)"
      ]
     },
     "execution_count": 95,
     "metadata": {},
     "output_type": "execute_result"
    }
   ],
   "source": [
    "X.shape"
   ]
  },
  {
   "cell_type": "code",
   "execution_count": 96,
   "metadata": {
    "scrolled": true
   },
   "outputs": [],
   "source": [
    "y_test_pred = model7.predict_classes(X)"
   ]
  },
  {
   "cell_type": "code",
   "execution_count": 97,
   "metadata": {},
   "outputs": [],
   "source": [
    "y_test_pred = list(le.inverse_transform(y_test_pred))"
   ]
  },
  {
   "cell_type": "code",
   "execution_count": 98,
   "metadata": {},
   "outputs": [
    {
     "name": "stdout",
     "output_type": "stream",
     "text": [
      "              precision    recall  f1-score   support\n",
      "\n",
      "      apples       0.91      1.00      0.95        20\n",
      "      father       0.95      1.00      0.98        20\n",
      "     flowers       1.00      0.86      0.92        21\n",
      "       water       1.00      1.00      1.00        20\n",
      "      worker       1.00      1.00      1.00        20\n",
      "\n",
      "    accuracy                           0.97       101\n",
      "   macro avg       0.97      0.97      0.97       101\n",
      "weighted avg       0.97      0.97      0.97       101\n",
      "\n"
     ]
    }
   ],
   "source": [
    "print(classification_report(test_df['class_label'], y_test_pred))"
   ]
  },
  {
   "cell_type": "markdown",
   "metadata": {},
   "source": [
    "Father classified as flowers"
   ]
  },
  {
   "cell_type": "code",
   "execution_count": 99,
   "metadata": {},
   "outputs": [
    {
     "name": "stdout",
     "output_type": "stream",
     "text": [
      "              precision    recall  f1-score   support\n",
      "\n",
      "      apples       0.95      1.00      0.98        20\n",
      "      father       0.95      1.00      0.98        20\n",
      "     flowers       1.00      0.90      0.95        21\n",
      "       water       0.95      1.00      0.98        20\n",
      "      worker       0.95      0.90      0.92        20\n",
      "\n",
      "    accuracy                           0.96       101\n",
      "   macro avg       0.96      0.96      0.96       101\n",
      "weighted avg       0.96      0.96      0.96       101\n",
      "\n"
     ]
    }
   ],
   "source": [
    "y_test_pred = model6.predict_classes(X)\n",
    "y_test_pred = list(le.inverse_transform(y_test_pred))\n",
    "print(classification_report(test_df['class_label'], y_test_pred))"
   ]
  },
  {
   "cell_type": "code",
   "execution_count": null,
   "metadata": {},
   "outputs": [],
   "source": []
  }
 ],
 "metadata": {
  "kernelspec": {
   "display_name": "Python 3",
   "language": "python",
   "name": "python3"
  },
  "language_info": {
   "codemirror_mode": {
    "name": "ipython",
    "version": 3
   },
   "file_extension": ".py",
   "mimetype": "text/x-python",
   "name": "python",
   "nbconvert_exporter": "python",
   "pygments_lexer": "ipython3",
   "version": "3.6.12"
  }
 },
 "nbformat": 4,
 "nbformat_minor": 4
}
